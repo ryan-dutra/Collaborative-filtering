{
 "cells": [
  {
   "attachments": {},
   "cell_type": "markdown",
   "metadata": {},
   "source": [
    "## Collaborative Filtering Algorithms with Community Detection\n",
    "\n",
    "⚠️ This Jupyter notebook aims to conduct an experimental study to evaluate the performance of various collaborative filtering algorithms when combined with community detection techniques.\n",
    "The algorithms will be evaluated based on RMSE, MSE and MAE metrics and the results will be saved in CSV file for further analysis."
   ]
  },
  {
   "attachments": {},
   "cell_type": "markdown",
   "metadata": {},
   "source": [
    "### ⚙️ Environment settings"
   ]
  },
  {
   "cell_type": "code",
   "execution_count": 1,
   "metadata": {},
   "outputs": [
    {
     "data": {
      "text/plain": [
       "'\\n    Importing needed libs\\n'"
      ]
     },
     "execution_count": 1,
     "metadata": {},
     "output_type": "execute_result"
    }
   ],
   "source": [
    "\"\"\"\n",
    "    Importing needed libs\n",
    "\"\"\""
   ]
  },
  {
   "cell_type": "code",
   "execution_count": 3,
   "metadata": {},
   "outputs": [],
   "source": [
    "import os\n",
    "import numpy as np\n",
    "import pandas as pd\n",
    "from typing import List\n",
    "from surprise import (\n",
    "    accuracy,\n",
    "    Reader,\n",
    "    Dataset,\n",
    "    CoClustering,\n",
    "    KNNBasic,\n",
    "    NMF,\n",
    "    SVD\n",
    ")\n",
    "from surprise.model_selection.split import ShuffleSplit\n",
    "from surprise.trainset import Trainset\n",
    "import networkx as nx\n",
    "import cdlib.algorithms as cd_alg\n",
    "import karateclub as kc\n",
    "from tqdm.notebook import tqdm\n",
    "from sklearn.metrics.pairwise import pairwise_distances\n",
    "import matplotlib.pyplot as plt\n",
    "import warnings\n",
    "warnings.filterwarnings(\"ignore\")"
   ]
  },
  {
   "cell_type": "code",
   "execution_count": 4,
   "metadata": {},
   "outputs": [
    {
     "data": {
      "text/plain": [
       "'\\n    Setting up functions\\n'"
      ]
     },
     "execution_count": 4,
     "metadata": {},
     "output_type": "execute_result"
    }
   ],
   "source": [
    "\"\"\"\n",
    "    Setting up functions\n",
    "\"\"\""
   ]
  },
  {
   "cell_type": "code",
   "execution_count": 5,
   "metadata": {},
   "outputs": [],
   "source": [
    "def uncouple(train_set: Trainset, test_set: list):\n",
    "    \"\"\"\n",
    "    Description:\n",
    "        It takes in a Trainset-Surprise object and \n",
    "        a list of test set data, and returns two pandas \n",
    "        dataframes: one containing the training set \n",
    "        data, and the other containing the test set \n",
    "        data.\n",
    "    Input: \n",
    "        train_set: a Trainset object containing the \n",
    "        training set data. \n",
    "        test_set: a list containing the test set data\n",
    "    Output:\n",
    "        df_train: a pandas dataframe containing the \n",
    "        training set data, with columns 'uid', 'iid' \n",
    "        and 'rating'\n",
    "        df_test: a pandas dataframe containing the test \n",
    "        set data, with columns 'uid', 'iid', and 'rating'\n",
    "    \"\"\"\n",
    "    iterator = train_set.all_ratings()\n",
    "    df_train = pd.DataFrame(train_set.all_ratings(), columns=['uid', 'iid', 'rating'])\n",
    "    df_test = pd.DataFrame.from_records(test_set, columns = ['uid', 'iid', 'rating'])\n",
    "    \n",
    "    return df_train, df_test\n",
    "\n",
    "\n",
    "def communitarian_recommendation_graph(\n",
    "        n_user=100,\n",
    "        n_comm=10,\n",
    "        n_item=100,\n",
    "        n_cat=10,\n",
    "        like_prob=.4,\n",
    "        like_strength=.5,\n",
    "        debug=False,\n",
    "    ):\n",
    "\n",
    "    user_comm_gt = np.random.choice(n_comm, n_user)\n",
    "    user_comm_gt.sort()\n",
    "    bincount_user = np.bincount(user_comm_gt, minlength=n_comm)\n",
    "\n",
    "    if debug:\n",
    "        display('user', user_comm_gt, bincount_user)\n",
    "\n",
    "    item_cat_gt = np.random.choice(n_cat, n_item)\n",
    "    item_cat_gt.sort()\n",
    "    bincount_item = np.bincount(item_cat_gt, minlength=n_cat)\n",
    "\n",
    "    if debug:\n",
    "        display('item', item_cat_gt, bincount_item)\n",
    "\n",
    "    L = np.random.choice(2, (n_comm, n_cat), p=[1-like_prob, like_prob])\n",
    "\n",
    "    L_prime = like_strength * L + (1-like_strength)/2\n",
    "\n",
    "    P = np.block([\n",
    "        [ np.zeros((n_comm,n_comm)) , L_prime                 ],\n",
    "        [ L_prime.T                 , np.zeros((n_cat,n_cat)) ]\n",
    "    ])\n",
    "\n",
    "    if debug:\n",
    "        display('like', L, L_prime, P)\n",
    "\n",
    "    sbg = nx.stochastic_block_model(\n",
    "        np.hstack((bincount_user, bincount_item)),\n",
    "        P\n",
    "    )\n",
    "\n",
    "    if debug:\n",
    "        try:\n",
    "            nx.draw_networkx(\n",
    "                sbg,\n",
    "                nx.bipartite_layout(sbg, nx.bipartite.sets(sbg)[0]),\n",
    "                node_color=np.hstack((user_comm_gt, item_cat_gt))\n",
    "            )\n",
    "        except nx.AmbiguousSolution as e:\n",
    "            print(e)            \n",
    "\n",
    "        plt.show()\n",
    "\n",
    "    for user, item, data in sbg.edges(data=True):\n",
    "        data['weight'] = np.random.randint(1,4) + 2*L[user_comm_gt[user], item_cat_gt[item-n_user]]\n",
    "\n",
    "    if debug:\n",
    "        display(np.mean([w['weight'] for user, item, w in sbg.edges(data=True) if L[user_comm_gt[min(user, item)], item_cat_gt[max(user, item)-n_user]]]))\n",
    "        display(np.mean([w['weight'] for user, item, w in sbg.edges(data=True) if not L[user_comm_gt[min(user, item)], item_cat_gt[max(user, item)-n_user]]]))\n",
    "        \n",
    "    return sbg, user_comm_gt, item_cat_gt\n",
    "\n",
    "\n",
    "def wf(G, u, v):\n",
    "    w = 0    \n",
    "    for nbr in set(G[u]) & set(G[v]):\n",
    "        w += (G[u][nbr]['weight'] - G[v][nbr]['weight']) ** 2\n",
    "    return 1/(1 + w)"
   ]
  },
  {
   "cell_type": "code",
   "execution_count": 6,
   "metadata": {},
   "outputs": [
    {
     "data": {
      "text/plain": [
       "'\\n    Setting up experiment algorithms \\n'"
      ]
     },
     "execution_count": 6,
     "metadata": {},
     "output_type": "execute_result"
    }
   ],
   "source": [
    "\"\"\"\n",
    "    Setting up experiment algorithms \n",
    "\"\"\""
   ]
  },
  {
   "cell_type": "code",
   "execution_count": 7,
   "metadata": {},
   "outputs": [
    {
     "data": {
      "text/plain": [
       "'3.1'"
      ]
     },
     "execution_count": 7,
     "metadata": {},
     "output_type": "execute_result"
    }
   ],
   "source": [
    "nx.__version__"
   ]
  },
  {
   "cell_type": "code",
   "execution_count": 8,
   "metadata": {},
   "outputs": [],
   "source": [
    "algos_recommendation = {\n",
    "    'SVD': SVD(verbose=False),\n",
    "    'k-NN': KNNBasic(verbose=False), \n",
    "    'NMF': NMF(verbose=False), \n",
    "    'Co-Clustering': CoClustering(verbose=False)\n",
    "}\n",
    "\n",
    "communities_detectors = {\n",
    "    'Not-Applicable': None,\n",
    "    'Louvain': nx.community.louvain_communities,\n",
    "    'Paris': cd_alg.paris,\n",
    "    #'EdMot': kc.EdMot()\n",
    "}"
   ]
  },
  {
   "attachments": {},
   "cell_type": "markdown",
   "metadata": {},
   "source": [
    "### 🖥️ Synthetic data generation"
   ]
  },
  {
   "cell_type": "code",
   "execution_count": 9,
   "metadata": {},
   "outputs": [
    {
     "data": {
      "text/html": [
       "<div>\n",
       "<style scoped>\n",
       "    .dataframe tbody tr th:only-of-type {\n",
       "        vertical-align: middle;\n",
       "    }\n",
       "\n",
       "    .dataframe tbody tr th {\n",
       "        vertical-align: top;\n",
       "    }\n",
       "\n",
       "    .dataframe thead th {\n",
       "        text-align: right;\n",
       "    }\n",
       "</style>\n",
       "<table border=\"1\" class=\"dataframe\">\n",
       "  <thead>\n",
       "    <tr style=\"text-align: right;\">\n",
       "      <th></th>\n",
       "      <th>uid</th>\n",
       "      <th>iid</th>\n",
       "      <th>rating</th>\n",
       "    </tr>\n",
       "  </thead>\n",
       "  <tbody>\n",
       "    <tr>\n",
       "      <th>0</th>\n",
       "      <td>0</td>\n",
       "      <td>100</td>\n",
       "      <td>3</td>\n",
       "    </tr>\n",
       "    <tr>\n",
       "      <th>1</th>\n",
       "      <td>0</td>\n",
       "      <td>107</td>\n",
       "      <td>1</td>\n",
       "    </tr>\n",
       "    <tr>\n",
       "      <th>2</th>\n",
       "      <td>0</td>\n",
       "      <td>110</td>\n",
       "      <td>3</td>\n",
       "    </tr>\n",
       "    <tr>\n",
       "      <th>3</th>\n",
       "      <td>0</td>\n",
       "      <td>115</td>\n",
       "      <td>3</td>\n",
       "    </tr>\n",
       "    <tr>\n",
       "      <th>4</th>\n",
       "      <td>0</td>\n",
       "      <td>116</td>\n",
       "      <td>2</td>\n",
       "    </tr>\n",
       "    <tr>\n",
       "      <th>...</th>\n",
       "      <td>...</td>\n",
       "      <td>...</td>\n",
       "      <td>...</td>\n",
       "    </tr>\n",
       "    <tr>\n",
       "      <th>4309</th>\n",
       "      <td>95</td>\n",
       "      <td>188</td>\n",
       "      <td>3</td>\n",
       "    </tr>\n",
       "    <tr>\n",
       "      <th>4310</th>\n",
       "      <td>95</td>\n",
       "      <td>190</td>\n",
       "      <td>3</td>\n",
       "    </tr>\n",
       "    <tr>\n",
       "      <th>4311</th>\n",
       "      <td>95</td>\n",
       "      <td>191</td>\n",
       "      <td>3</td>\n",
       "    </tr>\n",
       "    <tr>\n",
       "      <th>4312</th>\n",
       "      <td>95</td>\n",
       "      <td>197</td>\n",
       "      <td>3</td>\n",
       "    </tr>\n",
       "    <tr>\n",
       "      <th>4313</th>\n",
       "      <td>95</td>\n",
       "      <td>198</td>\n",
       "      <td>2</td>\n",
       "    </tr>\n",
       "  </tbody>\n",
       "</table>\n",
       "<p>4314 rows × 3 columns</p>\n",
       "</div>"
      ],
      "text/plain": [
       "      uid  iid  rating\n",
       "0       0  100       3\n",
       "1       0  107       1\n",
       "2       0  110       3\n",
       "3       0  115       3\n",
       "4       0  116       2\n",
       "...   ...  ...     ...\n",
       "4309   95  188       3\n",
       "4310   95  190       3\n",
       "4311   95  191       3\n",
       "4312   95  197       3\n",
       "4313   95  198       2\n",
       "\n",
       "[4314 rows x 3 columns]"
      ]
     },
     "execution_count": 9,
     "metadata": {},
     "output_type": "execute_result"
    }
   ],
   "source": [
    "crg, user_comm_gt, item_cat_gt = communitarian_recommendation_graph(debug=False)\n",
    "data = nx.to_pandas_edgelist(crg)\n",
    "data.rename(columns={\n",
    "        'source': 'uid',\n",
    "        'target': 'iid',\n",
    "        'weight': 'rating'\n",
    "}, inplace=True)\n",
    "data"
   ]
  },
  {
   "cell_type": "code",
   "execution_count": 10,
   "metadata": {},
   "outputs": [
    {
     "data": {
      "text/html": [
       "<div>\n",
       "<style scoped>\n",
       "    .dataframe tbody tr th:only-of-type {\n",
       "        vertical-align: middle;\n",
       "    }\n",
       "\n",
       "    .dataframe tbody tr th {\n",
       "        vertical-align: top;\n",
       "    }\n",
       "\n",
       "    .dataframe thead th {\n",
       "        text-align: right;\n",
       "    }\n",
       "</style>\n",
       "<table border=\"1\" class=\"dataframe\">\n",
       "  <thead>\n",
       "    <tr style=\"text-align: right;\">\n",
       "      <th></th>\n",
       "      <th># Users</th>\n",
       "      <th># Itens</th>\n",
       "      <th># Ratings</th>\n",
       "    </tr>\n",
       "  </thead>\n",
       "  <tbody>\n",
       "    <tr>\n",
       "      <th>0</th>\n",
       "      <td>100</td>\n",
       "      <td>100</td>\n",
       "      <td>4314</td>\n",
       "    </tr>\n",
       "  </tbody>\n",
       "</table>\n",
       "</div>"
      ],
      "text/plain": [
       "   # Users  # Itens  # Ratings\n",
       "0      100      100       4314"
      ]
     },
     "execution_count": 10,
     "metadata": {},
     "output_type": "execute_result"
    }
   ],
   "source": [
    "pd.DataFrame({'# Users': [data['uid'].nunique()],\n",
    "              '# Itens': [data['iid'].nunique()],\n",
    "              '# Ratings': [data.shape[0]]\n",
    "              }\n",
    "             )"
   ]
  },
  {
   "cell_type": "code",
   "execution_count": 11,
   "metadata": {},
   "outputs": [
    {
     "data": {
      "image/png": "[encoded data removed]",
      "text/plain": [
       "<Figure size 640x480 with 1 Axes>"
      ]
     },
     "metadata": {},
     "output_type": "display_data"
    }
   ],
   "source": [
    "ax = data['rating'].value_counts().sort_index().plot(kind='bar', color='navy', width=0.8)\n",
    "plt.title('Rating Distribution')\n",
    "plt.xlabel('Rating')\n",
    "plt.ylabel('Count')\n",
    "plt.xticks(rotation='horizontal')\n",
    "ax.spines['right'].set_visible(False)\n",
    "ax.spines['top'].set_visible(False)\n",
    "ax.spines['left'].set_visible(False)\n",
    "ax.spines['bottom'].set_visible(False)\n",
    "ax.tick_params(left=False, bottom=False)\n",
    "ax.grid(axis='y', linestyle='--', alpha=0.7)\n",
    "plt.show()"
   ]
  },
  {
   "attachments": {},
   "cell_type": "markdown",
   "metadata": {},
   "source": [
    "### Running experiment"
   ]
  },
  {
   "cell_type": "code",
   "execution_count": 12,
   "metadata": {},
   "outputs": [
    {
     "name": "stdout",
     "output_type": "stream",
     "text": [
      "<class 'surprise.dataset.DatasetAutoFolds'>\n"
     ]
    },
    {
     "data": {
      "text/html": [
       "<div>\n",
       "<style scoped>\n",
       "    .dataframe tbody tr th:only-of-type {\n",
       "        vertical-align: middle;\n",
       "    }\n",
       "\n",
       "    .dataframe tbody tr th {\n",
       "        vertical-align: top;\n",
       "    }\n",
       "\n",
       "    .dataframe thead th {\n",
       "        text-align: right;\n",
       "    }\n",
       "</style>\n",
       "<table border=\"1\" class=\"dataframe\">\n",
       "  <thead>\n",
       "    <tr style=\"text-align: right;\">\n",
       "      <th></th>\n",
       "      <th># Users</th>\n",
       "      <th># Itens</th>\n",
       "      <th># Ratings</th>\n",
       "    </tr>\n",
       "  </thead>\n",
       "  <tbody>\n",
       "    <tr>\n",
       "      <th>0</th>\n",
       "      <td>100</td>\n",
       "      <td>100</td>\n",
       "      <td>4314</td>\n",
       "    </tr>\n",
       "  </tbody>\n",
       "</table>\n",
       "</div>"
      ],
      "text/plain": [
       "   # Users  # Itens  # Ratings\n",
       "0      100      100       4314"
      ]
     },
     "execution_count": 12,
     "metadata": {},
     "output_type": "execute_result"
    }
   ],
   "source": [
    "reader = Reader(rating_scale=(1, 5))\n",
    "dataset = Dataset.load_from_df(\n",
    "    data[[\"uid\", \"iid\", \"rating\"]], reader\n",
    "    )\n",
    "\n",
    "print(type(dataset))\n",
    "pd.DataFrame({'# Users': [len(set([user_id for (user_id, _, _, _) in dataset.raw_ratings]))],\n",
    "              '# Itens': [len(set([item_id for (_, item_id, _, _) in dataset.raw_ratings]))],\n",
    "              '# Ratings': [len(dataset.raw_ratings)]\n",
    "              }\n",
    "             )"
   ]
  },
  {
   "cell_type": "code",
   "execution_count": 13,
   "metadata": {},
   "outputs": [
    {
     "data": {
      "application/vnd.jupyter.widget-view+json": {
       "model_id": "85dc8cae9ecb46d0af74b6fe020d1e70",
       "version_major": 2,
       "version_minor": 0
      },
      "text/plain": [
       "📊 Test Size Progress:   0%|          | 0/3 [00:00<?, ?it/s]"
      ]
     },
     "metadata": {},
     "output_type": "display_data"
    },
    {
     "data": {
      "application/vnd.jupyter.widget-view+json": {
       "model_id": "29249e0336d14b64a63bd5056e787b93",
       "version_major": 2,
       "version_minor": 0
      },
      "text/plain": [
       "➗ Splits Progress: 0it [00:00, ?it/s]"
      ]
     },
     "metadata": {},
     "output_type": "display_data"
    },
    {
     "data": {
      "application/vnd.jupyter.widget-view+json": {
       "model_id": "6be805ef997f415cbb1085c0508bf55c",
       "version_major": 2,
       "version_minor": 0
      },
      "text/plain": [
       "🕸️ Community Detector Progress:   0%|          | 0/3 [00:00<?, ?it/s]"
      ]
     },
     "metadata": {},
     "output_type": "display_data"
    },
    {
     "data": {
      "application/vnd.jupyter.widget-view+json": {
       "model_id": "9717d2e12b00484583b9777e010bb899",
       "version_major": 2,
       "version_minor": 0
      },
      "text/plain": [
       "👾 Algorithm Progress:   0%|          | 0/4 [00:00<?, ?it/s]"
      ]
     },
     "metadata": {},
     "output_type": "display_data"
    },
    {
     "data": {
      "application/vnd.jupyter.widget-view+json": {
       "model_id": "f8ccbe4888d0407e9bb0b1d25cd329ee",
       "version_major": 2,
       "version_minor": 0
      },
      "text/plain": [
       "👾 Algorithm Progress:   0%|          | 0/4 [00:00<?, ?it/s]"
      ]
     },
     "metadata": {},
     "output_type": "display_data"
    },
    {
     "data": {
      "application/vnd.jupyter.widget-view+json": {
       "model_id": "2bfa024150bc4d0db6674b5a6725fc59",
       "version_major": 2,
       "version_minor": 0
      },
      "text/plain": [
       "👤 Communities progress:   0%|          | 0/5 [00:00<?, ?it/s]"
      ]
     },
     "metadata": {},
     "output_type": "display_data"
    },
    {
     "data": {
      "application/vnd.jupyter.widget-view+json": {
       "model_id": "bf8af09037634e45b6288287c4bd2377",
       "version_major": 2,
       "version_minor": 0
      },
      "text/plain": [
       "👤 Communities progress:   0%|          | 0/4 [00:00<?, ?it/s]"
      ]
     },
     "metadata": {},
     "output_type": "display_data"
    },
    {
     "data": {
      "application/vnd.jupyter.widget-view+json": {
       "model_id": "0bc81cf53d6b4dd8b6e6a4221492a3d8",
       "version_major": 2,
       "version_minor": 0
      },
      "text/plain": [
       "👤 Communities progress:   0%|          | 0/4 [00:00<?, ?it/s]"
      ]
     },
     "metadata": {},
     "output_type": "display_data"
    },
    {
     "data": {
      "application/vnd.jupyter.widget-view+json": {
       "model_id": "52361c64c058497db3b0b6cd1072ffc3",
       "version_major": 2,
       "version_minor": 0
      },
      "text/plain": [
       "👤 Communities progress:   0%|          | 0/5 [00:00<?, ?it/s]"
      ]
     },
     "metadata": {},
     "output_type": "display_data"
    },
    {
     "data": {
      "application/vnd.jupyter.widget-view+json": {
       "model_id": "9e43c41c9d354fdca86fdd829e48a071",
       "version_major": 2,
       "version_minor": 0
      },
      "text/plain": [
       "👾 Algorithm Progress:   0%|          | 0/4 [00:00<?, ?it/s]"
      ]
     },
     "metadata": {},
     "output_type": "display_data"
    },
    {
     "data": {
      "application/vnd.jupyter.widget-view+json": {
       "model_id": "22732068e2974a73860f706b172cc3e9",
       "version_major": 2,
       "version_minor": 0
      },
      "text/plain": [
       "👤 Communities progress:   0%|          | 0/16 [00:00<?, ?it/s]"
      ]
     },
     "metadata": {},
     "output_type": "display_data"
    },
    {
     "data": {
      "application/vnd.jupyter.widget-view+json": {
       "model_id": "b3f453dce6f9477099c67a106f645c2b",
       "version_major": 2,
       "version_minor": 0
      },
      "text/plain": [
       "👤 Communities progress:   0%|          | 0/16 [00:00<?, ?it/s]"
      ]
     },
     "metadata": {},
     "output_type": "display_data"
    },
    {
     "data": {
      "application/vnd.jupyter.widget-view+json": {
       "model_id": "46b29cb982464a1083090215518b3db7",
       "version_major": 2,
       "version_minor": 0
      },
      "text/plain": [
       "👤 Communities progress:   0%|          | 0/16 [00:00<?, ?it/s]"
      ]
     },
     "metadata": {},
     "output_type": "display_data"
    },
    {
     "data": {
      "application/vnd.jupyter.widget-view+json": {
       "model_id": "f3b022056f2048728d1e3a484e49082d",
       "version_major": 2,
       "version_minor": 0
      },
      "text/plain": [
       "👤 Communities progress:   0%|          | 0/16 [00:00<?, ?it/s]"
      ]
     },
     "metadata": {},
     "output_type": "display_data"
    },
    {
     "data": {
      "application/vnd.jupyter.widget-view+json": {
       "model_id": "b6b5147af2cd49e8b02921e2138a7115",
       "version_major": 2,
       "version_minor": 0
      },
      "text/plain": [
       "🕸️ Community Detector Progress:   0%|          | 0/3 [00:00<?, ?it/s]"
      ]
     },
     "metadata": {},
     "output_type": "display_data"
    },
    {
     "data": {
      "application/vnd.jupyter.widget-view+json": {
       "model_id": "96bcb370da494fbe82b9c92b6bb63e40",
       "version_major": 2,
       "version_minor": 0
      },
      "text/plain": [
       "👾 Algorithm Progress:   0%|          | 0/4 [00:00<?, ?it/s]"
      ]
     },
     "metadata": {},
     "output_type": "display_data"
    },
    {
     "data": {
      "application/vnd.jupyter.widget-view+json": {
       "model_id": "cff7203a9a35474a831006b989264eab",
       "version_major": 2,
       "version_minor": 0
      },
      "text/plain": [
       "👾 Algorithm Progress:   0%|          | 0/4 [00:00<?, ?it/s]"
      ]
     },
     "metadata": {},
     "output_type": "display_data"
    },
    {
     "data": {
      "application/vnd.jupyter.widget-view+json": {
       "model_id": "117f2a01060646c5a47803532ba0eeb1",
       "version_major": 2,
       "version_minor": 0
      },
      "text/plain": [
       "👤 Communities progress:   0%|          | 0/3 [00:00<?, ?it/s]"
      ]
     },
     "metadata": {},
     "output_type": "display_data"
    },
    {
     "data": {
      "application/vnd.jupyter.widget-view+json": {
       "model_id": "d7c80aa8d9c64727a62753f2a33eb2a2",
       "version_major": 2,
       "version_minor": 0
      },
      "text/plain": [
       "👤 Communities progress:   0%|          | 0/3 [00:00<?, ?it/s]"
      ]
     },
     "metadata": {},
     "output_type": "display_data"
    },
    {
     "data": {
      "application/vnd.jupyter.widget-view+json": {
       "model_id": "68b4684a3a3a4f249d5ccf05ee6eb5eb",
       "version_major": 2,
       "version_minor": 0
      },
      "text/plain": [
       "👤 Communities progress:   0%|          | 0/4 [00:00<?, ?it/s]"
      ]
     },
     "metadata": {},
     "output_type": "display_data"
    },
    {
     "data": {
      "application/vnd.jupyter.widget-view+json": {
       "model_id": "dd4a3684537843ceb09372d800b1750c",
       "version_major": 2,
       "version_minor": 0
      },
      "text/plain": [
       "👤 Communities progress:   0%|          | 0/4 [00:00<?, ?it/s]"
      ]
     },
     "metadata": {},
     "output_type": "display_data"
    },
    {
     "data": {
      "application/vnd.jupyter.widget-view+json": {
       "model_id": "fdc1872c22be4b4ca27bd301f8882b66",
       "version_major": 2,
       "version_minor": 0
      },
      "text/plain": [
       "👾 Algorithm Progress:   0%|          | 0/4 [00:00<?, ?it/s]"
      ]
     },
     "metadata": {},
     "output_type": "display_data"
    },
    {
     "data": {
      "application/vnd.jupyter.widget-view+json": {
       "model_id": "c11121b1532e40e99f8dac327dcad6dc",
       "version_major": 2,
       "version_minor": 0
      },
      "text/plain": [
       "👤 Communities progress:   0%|          | 0/48 [00:00<?, ?it/s]"
      ]
     },
     "metadata": {},
     "output_type": "display_data"
    },
    {
     "data": {
      "application/vnd.jupyter.widget-view+json": {
       "model_id": "b40ed6e7d09641e492f1f04024888654",
       "version_major": 2,
       "version_minor": 0
      },
      "text/plain": [
       "👤 Communities progress:   0%|          | 0/48 [00:00<?, ?it/s]"
      ]
     },
     "metadata": {},
     "output_type": "display_data"
    },
    {
     "data": {
      "application/vnd.jupyter.widget-view+json": {
       "model_id": "add9bf7825964f428299d33dc18bc1e9",
       "version_major": 2,
       "version_minor": 0
      },
      "text/plain": [
       "👤 Communities progress:   0%|          | 0/48 [00:00<?, ?it/s]"
      ]
     },
     "metadata": {},
     "output_type": "display_data"
    },
    {
     "data": {
      "application/vnd.jupyter.widget-view+json": {
       "model_id": "cf10fc54ab13498e905a0c0b11775504",
       "version_major": 2,
       "version_minor": 0
      },
      "text/plain": [
       "👤 Communities progress:   0%|          | 0/48 [00:00<?, ?it/s]"
      ]
     },
     "metadata": {},
     "output_type": "display_data"
    },
    {
     "data": {
      "application/vnd.jupyter.widget-view+json": {
       "model_id": "52e7843264ba4068989048ed0d3a0758",
       "version_major": 2,
       "version_minor": 0
      },
      "text/plain": [
       "🕸️ Community Detector Progress:   0%|          | 0/3 [00:00<?, ?it/s]"
      ]
     },
     "metadata": {},
     "output_type": "display_data"
    },
    {
     "data": {
      "application/vnd.jupyter.widget-view+json": {
       "model_id": "3788b29f77b343c69a808aa77562dce9",
       "version_major": 2,
       "version_minor": 0
      },
      "text/plain": [
       "👾 Algorithm Progress:   0%|          | 0/4 [00:00<?, ?it/s]"
      ]
     },
     "metadata": {},
     "output_type": "display_data"
    },
    {
     "data": {
      "application/vnd.jupyter.widget-view+json": {
       "model_id": "90d917f604b64fb98cadec671511c0b1",
       "version_major": 2,
       "version_minor": 0
      },
      "text/plain": [
       "👾 Algorithm Progress:   0%|          | 0/4 [00:00<?, ?it/s]"
      ]
     },
     "metadata": {},
     "output_type": "display_data"
    },
    {
     "data": {
      "application/vnd.jupyter.widget-view+json": {
       "model_id": "6e818e5471ed486d87faf4c427e5b82a",
       "version_major": 2,
       "version_minor": 0
      },
      "text/plain": [
       "👤 Communities progress:   0%|          | 0/4 [00:00<?, ?it/s]"
      ]
     },
     "metadata": {},
     "output_type": "display_data"
    },
    {
     "data": {
      "application/vnd.jupyter.widget-view+json": {
       "model_id": "d0f467933dc44d2caa6fcc89f2bd477e",
       "version_major": 2,
       "version_minor": 0
      },
      "text/plain": [
       "👤 Communities progress:   0%|          | 0/4 [00:00<?, ?it/s]"
      ]
     },
     "metadata": {},
     "output_type": "display_data"
    },
    {
     "data": {
      "application/vnd.jupyter.widget-view+json": {
       "model_id": "92dafa8ba11b4a19bf82b14a19c6c764",
       "version_major": 2,
       "version_minor": 0
      },
      "text/plain": [
       "👤 Communities progress:   0%|          | 0/4 [00:00<?, ?it/s]"
      ]
     },
     "metadata": {},
     "output_type": "display_data"
    },
    {
     "data": {
      "application/vnd.jupyter.widget-view+json": {
       "model_id": "040a1f383e0c4eb8b82668638b40e155",
       "version_major": 2,
       "version_minor": 0
      },
      "text/plain": [
       "👤 Communities progress:   0%|          | 0/4 [00:00<?, ?it/s]"
      ]
     },
     "metadata": {},
     "output_type": "display_data"
    },
    {
     "data": {
      "application/vnd.jupyter.widget-view+json": {
       "model_id": "9a67908d91cd4de78dd26552cae89c83",
       "version_major": 2,
       "version_minor": 0
      },
      "text/plain": [
       "👾 Algorithm Progress:   0%|          | 0/4 [00:00<?, ?it/s]"
      ]
     },
     "metadata": {},
     "output_type": "display_data"
    },
    {
     "data": {
      "application/vnd.jupyter.widget-view+json": {
       "model_id": "be6f2ab147b543cfa7dc1001ce24ada4",
       "version_major": 2,
       "version_minor": 0
      },
      "text/plain": [
       "👤 Communities progress:   0%|          | 0/3 [00:00<?, ?it/s]"
      ]
     },
     "metadata": {},
     "output_type": "display_data"
    },
    {
     "data": {
      "application/vnd.jupyter.widget-view+json": {
       "model_id": "666d111c5dee4b43a5a35920517a2813",
       "version_major": 2,
       "version_minor": 0
      },
      "text/plain": [
       "👤 Communities progress:   0%|          | 0/3 [00:00<?, ?it/s]"
      ]
     },
     "metadata": {},
     "output_type": "display_data"
    },
    {
     "data": {
      "application/vnd.jupyter.widget-view+json": {
       "model_id": "c5e40e24cc0a4f668276adfef599598b",
       "version_major": 2,
       "version_minor": 0
      },
      "text/plain": [
       "👤 Communities progress:   0%|          | 0/3 [00:00<?, ?it/s]"
      ]
     },
     "metadata": {},
     "output_type": "display_data"
    },
    {
     "data": {
      "application/vnd.jupyter.widget-view+json": {
       "model_id": "6f5d2c28bb374d9893f338cebd3b8e89",
       "version_major": 2,
       "version_minor": 0
      },
      "text/plain": [
       "👤 Communities progress:   0%|          | 0/3 [00:00<?, ?it/s]"
      ]
     },
     "metadata": {},
     "output_type": "display_data"
    },
    {
     "data": {
      "application/vnd.jupyter.widget-view+json": {
       "model_id": "aa5002c1c0dd4d5f89d0090b0fca9d96",
       "version_major": 2,
       "version_minor": 0
      },
      "text/plain": [
       "🕸️ Community Detector Progress:   0%|          | 0/3 [00:00<?, ?it/s]"
      ]
     },
     "metadata": {},
     "output_type": "display_data"
    },
    {
     "data": {
      "application/vnd.jupyter.widget-view+json": {
       "model_id": "3063570a36574d6886d567a209bf215f",
       "version_major": 2,
       "version_minor": 0
      },
      "text/plain": [
       "👾 Algorithm Progress:   0%|          | 0/4 [00:00<?, ?it/s]"
      ]
     },
     "metadata": {},
     "output_type": "display_data"
    },
    {
     "data": {
      "application/vnd.jupyter.widget-view+json": {
       "model_id": "612d315af7da406fb193132b342d6c4f",
       "version_major": 2,
       "version_minor": 0
      },
      "text/plain": [
       "👾 Algorithm Progress:   0%|          | 0/4 [00:00<?, ?it/s]"
      ]
     },
     "metadata": {},
     "output_type": "display_data"
    },
    {
     "data": {
      "application/vnd.jupyter.widget-view+json": {
       "model_id": "a79d9f9464e64f1f91ba32cd5ced3c31",
       "version_major": 2,
       "version_minor": 0
      },
      "text/plain": [
       "👤 Communities progress:   0%|          | 0/4 [00:00<?, ?it/s]"
      ]
     },
     "metadata": {},
     "output_type": "display_data"
    },
    {
     "data": {
      "application/vnd.jupyter.widget-view+json": {
       "model_id": "66238fd1b27f4d488bcec7cc5bbba48c",
       "version_major": 2,
       "version_minor": 0
      },
      "text/plain": [
       "👤 Communities progress:   0%|          | 0/4 [00:00<?, ?it/s]"
      ]
     },
     "metadata": {},
     "output_type": "display_data"
    },
    {
     "data": {
      "application/vnd.jupyter.widget-view+json": {
       "model_id": "1674a4d494074835a779b8102ce392ab",
       "version_major": 2,
       "version_minor": 0
      },
      "text/plain": [
       "👤 Communities progress:   0%|          | 0/4 [00:00<?, ?it/s]"
      ]
     },
     "metadata": {},
     "output_type": "display_data"
    },
    {
     "data": {
      "application/vnd.jupyter.widget-view+json": {
       "model_id": "621dccdb81dd4d76af6183c75006dd00",
       "version_major": 2,
       "version_minor": 0
      },
      "text/plain": [
       "👤 Communities progress:   0%|          | 0/3 [00:00<?, ?it/s]"
      ]
     },
     "metadata": {},
     "output_type": "display_data"
    },
    {
     "data": {
      "application/vnd.jupyter.widget-view+json": {
       "model_id": "4044fbf2fa48429982c50e82cffcd66e",
       "version_major": 2,
       "version_minor": 0
      },
      "text/plain": [
       "👾 Algorithm Progress:   0%|          | 0/4 [00:00<?, ?it/s]"
      ]
     },
     "metadata": {},
     "output_type": "display_data"
    },
    {
     "data": {
      "application/vnd.jupyter.widget-view+json": {
       "model_id": "875a9458ba0e48a4bd688681b666333e",
       "version_major": 2,
       "version_minor": 0
      },
      "text/plain": [
       "👤 Communities progress:   0%|          | 0/49 [00:00<?, ?it/s]"
      ]
     },
     "metadata": {},
     "output_type": "display_data"
    },
    {
     "data": {
      "application/vnd.jupyter.widget-view+json": {
       "model_id": "c4aeac5e6e174df7ab43c7a3e1941b87",
       "version_major": 2,
       "version_minor": 0
      },
      "text/plain": [
       "👤 Communities progress:   0%|          | 0/49 [00:00<?, ?it/s]"
      ]
     },
     "metadata": {},
     "output_type": "display_data"
    },
    {
     "data": {
      "application/vnd.jupyter.widget-view+json": {
       "model_id": "722b744b84674106b92434f5f6209d25",
       "version_major": 2,
       "version_minor": 0
      },
      "text/plain": [
       "👤 Communities progress:   0%|          | 0/49 [00:00<?, ?it/s]"
      ]
     },
     "metadata": {},
     "output_type": "display_data"
    },
    {
     "data": {
      "application/vnd.jupyter.widget-view+json": {
       "model_id": "0ce4de333b0b44948ed21060d897b520",
       "version_major": 2,
       "version_minor": 0
      },
      "text/plain": [
       "👤 Communities progress:   0%|          | 0/49 [00:00<?, ?it/s]"
      ]
     },
     "metadata": {},
     "output_type": "display_data"
    },
    {
     "data": {
      "application/vnd.jupyter.widget-view+json": {
       "model_id": "0e241aca54ba42768248f306248ce387",
       "version_major": 2,
       "version_minor": 0
      },
      "text/plain": [
       "🕸️ Community Detector Progress:   0%|          | 0/3 [00:00<?, ?it/s]"
      ]
     },
     "metadata": {},
     "output_type": "display_data"
    },
    {
     "data": {
      "application/vnd.jupyter.widget-view+json": {
       "model_id": "040d07e4711a42578a0c97a5395f09fc",
       "version_major": 2,
       "version_minor": 0
      },
      "text/plain": [
       "👾 Algorithm Progress:   0%|          | 0/4 [00:00<?, ?it/s]"
      ]
     },
     "metadata": {},
     "output_type": "display_data"
    },
    {
     "data": {
      "application/vnd.jupyter.widget-view+json": {
       "model_id": "75219167660e45d1be28be38e32f714e",
       "version_major": 2,
       "version_minor": 0
      },
      "text/plain": [
       "👾 Algorithm Progress:   0%|          | 0/4 [00:00<?, ?it/s]"
      ]
     },
     "metadata": {},
     "output_type": "display_data"
    },
    {
     "data": {
      "application/vnd.jupyter.widget-view+json": {
       "model_id": "3e1c789ef4e748bda2f9cdbb669ad016",
       "version_major": 2,
       "version_minor": 0
      },
      "text/plain": [
       "👤 Communities progress:   0%|          | 0/4 [00:00<?, ?it/s]"
      ]
     },
     "metadata": {},
     "output_type": "display_data"
    },
    {
     "data": {
      "application/vnd.jupyter.widget-view+json": {
       "model_id": "f354a538682648eba9e69b725a57ac49",
       "version_major": 2,
       "version_minor": 0
      },
      "text/plain": [
       "👤 Communities progress:   0%|          | 0/5 [00:00<?, ?it/s]"
      ]
     },
     "metadata": {},
     "output_type": "display_data"
    },
    {
     "data": {
      "application/vnd.jupyter.widget-view+json": {
       "model_id": "a3b4a0209f024544a2b6c9c9b5deb155",
       "version_major": 2,
       "version_minor": 0
      },
      "text/plain": [
       "👤 Communities progress:   0%|          | 0/4 [00:00<?, ?it/s]"
      ]
     },
     "metadata": {},
     "output_type": "display_data"
    },
    {
     "data": {
      "application/vnd.jupyter.widget-view+json": {
       "model_id": "e0474e44aaec4aa98c14dc72134bc3fd",
       "version_major": 2,
       "version_minor": 0
      },
      "text/plain": [
       "👤 Communities progress:   0%|          | 0/5 [00:00<?, ?it/s]"
      ]
     },
     "metadata": {},
     "output_type": "display_data"
    },
    {
     "data": {
      "application/vnd.jupyter.widget-view+json": {
       "model_id": "3cb201fa7004451b9bb293f6ff8af0cf",
       "version_major": 2,
       "version_minor": 0
      },
      "text/plain": [
       "👾 Algorithm Progress:   0%|          | 0/4 [00:00<?, ?it/s]"
      ]
     },
     "metadata": {},
     "output_type": "display_data"
    },
    {
     "data": {
      "application/vnd.jupyter.widget-view+json": {
       "model_id": "d425c8965a354776aa588a98cbeeb6af",
       "version_major": 2,
       "version_minor": 0
      },
      "text/plain": [
       "👤 Communities progress:   0%|          | 0/8 [00:00<?, ?it/s]"
      ]
     },
     "metadata": {},
     "output_type": "display_data"
    },
    {
     "data": {
      "application/vnd.jupyter.widget-view+json": {
       "model_id": "6603f8a1f2ba4d699e385b6bc891a3e1",
       "version_major": 2,
       "version_minor": 0
      },
      "text/plain": [
       "👤 Communities progress:   0%|          | 0/8 [00:00<?, ?it/s]"
      ]
     },
     "metadata": {},
     "output_type": "display_data"
    },
    {
     "data": {
      "application/vnd.jupyter.widget-view+json": {
       "model_id": "c8ca5496fce54ee0aa7cddf67db5c7a2",
       "version_major": 2,
       "version_minor": 0
      },
      "text/plain": [
       "👤 Communities progress:   0%|          | 0/8 [00:00<?, ?it/s]"
      ]
     },
     "metadata": {},
     "output_type": "display_data"
    },
    {
     "data": {
      "application/vnd.jupyter.widget-view+json": {
       "model_id": "73769435ea05452abb1e6525109e8376",
       "version_major": 2,
       "version_minor": 0
      },
      "text/plain": [
       "👤 Communities progress:   0%|          | 0/8 [00:00<?, ?it/s]"
      ]
     },
     "metadata": {},
     "output_type": "display_data"
    },
    {
     "data": {
      "application/vnd.jupyter.widget-view+json": {
       "model_id": "200a62a43e82435e92e97589959f894f",
       "version_major": 2,
       "version_minor": 0
      },
      "text/plain": [
       "➗ Splits Progress: 0it [00:00, ?it/s]"
      ]
     },
     "metadata": {},
     "output_type": "display_data"
    },
    {
     "data": {
      "application/vnd.jupyter.widget-view+json": {
       "model_id": "9da977d9c1f04dadb0a15e764064eb01",
       "version_major": 2,
       "version_minor": 0
      },
      "text/plain": [
       "🕸️ Community Detector Progress:   0%|          | 0/3 [00:00<?, ?it/s]"
      ]
     },
     "metadata": {},
     "output_type": "display_data"
    },
    {
     "data": {
      "application/vnd.jupyter.widget-view+json": {
       "model_id": "d451682ffe66462c8d8b21b99b5ca0c7",
       "version_major": 2,
       "version_minor": 0
      },
      "text/plain": [
       "👾 Algorithm Progress:   0%|          | 0/4 [00:00<?, ?it/s]"
      ]
     },
     "metadata": {},
     "output_type": "display_data"
    },
    {
     "data": {
      "application/vnd.jupyter.widget-view+json": {
       "model_id": "165f4eaf421e44e4915f73f54b6df979",
       "version_major": 2,
       "version_minor": 0
      },
      "text/plain": [
       "👾 Algorithm Progress:   0%|          | 0/4 [00:00<?, ?it/s]"
      ]
     },
     "metadata": {},
     "output_type": "display_data"
    },
    {
     "data": {
      "application/vnd.jupyter.widget-view+json": {
       "model_id": "11e9e763405f40da933f5b6cd51d3e3c",
       "version_major": 2,
       "version_minor": 0
      },
      "text/plain": [
       "👤 Communities progress:   0%|          | 0/4 [00:00<?, ?it/s]"
      ]
     },
     "metadata": {},
     "output_type": "display_data"
    },
    {
     "data": {
      "application/vnd.jupyter.widget-view+json": {
       "model_id": "d6a4f9c7ca264de7b5cf68149ff63f04",
       "version_major": 2,
       "version_minor": 0
      },
      "text/plain": [
       "👤 Communities progress:   0%|          | 0/3 [00:00<?, ?it/s]"
      ]
     },
     "metadata": {},
     "output_type": "display_data"
    },
    {
     "data": {
      "application/vnd.jupyter.widget-view+json": {
       "model_id": "760e9c9638404c799728e44c1135a6df",
       "version_major": 2,
       "version_minor": 0
      },
      "text/plain": [
       "👤 Communities progress:   0%|          | 0/4 [00:00<?, ?it/s]"
      ]
     },
     "metadata": {},
     "output_type": "display_data"
    },
    {
     "data": {
      "application/vnd.jupyter.widget-view+json": {
       "model_id": "80dc38d04728463abb313448c297a75f",
       "version_major": 2,
       "version_minor": 0
      },
      "text/plain": [
       "👤 Communities progress:   0%|          | 0/3 [00:00<?, ?it/s]"
      ]
     },
     "metadata": {},
     "output_type": "display_data"
    },
    {
     "data": {
      "application/vnd.jupyter.widget-view+json": {
       "model_id": "a456ce569d4f4ce192bb4c4f746c2853",
       "version_major": 2,
       "version_minor": 0
      },
      "text/plain": [
       "👾 Algorithm Progress:   0%|          | 0/4 [00:00<?, ?it/s]"
      ]
     },
     "metadata": {},
     "output_type": "display_data"
    },
    {
     "data": {
      "application/vnd.jupyter.widget-view+json": {
       "model_id": "ad8d03dd96064561b01d2c387dea7f00",
       "version_major": 2,
       "version_minor": 0
      },
      "text/plain": [
       "👤 Communities progress:   0%|          | 0/2 [00:00<?, ?it/s]"
      ]
     },
     "metadata": {},
     "output_type": "display_data"
    },
    {
     "data": {
      "application/vnd.jupyter.widget-view+json": {
       "model_id": "b48355b0feea4f0798c75fc09a33b760",
       "version_major": 2,
       "version_minor": 0
      },
      "text/plain": [
       "👤 Communities progress:   0%|          | 0/2 [00:00<?, ?it/s]"
      ]
     },
     "metadata": {},
     "output_type": "display_data"
    },
    {
     "data": {
      "application/vnd.jupyter.widget-view+json": {
       "model_id": "6d90392b21ec40e6b6f0e31938656c01",
       "version_major": 2,
       "version_minor": 0
      },
      "text/plain": [
       "👤 Communities progress:   0%|          | 0/2 [00:00<?, ?it/s]"
      ]
     },
     "metadata": {},
     "output_type": "display_data"
    },
    {
     "data": {
      "application/vnd.jupyter.widget-view+json": {
       "model_id": "d14ead261050479087260b2aebdc3515",
       "version_major": 2,
       "version_minor": 0
      },
      "text/plain": [
       "👤 Communities progress:   0%|          | 0/2 [00:00<?, ?it/s]"
      ]
     },
     "metadata": {},
     "output_type": "display_data"
    },
    {
     "data": {
      "application/vnd.jupyter.widget-view+json": {
       "model_id": "6fc16e3bea7e47f693325b9fced42258",
       "version_major": 2,
       "version_minor": 0
      },
      "text/plain": [
       "🕸️ Community Detector Progress:   0%|          | 0/3 [00:00<?, ?it/s]"
      ]
     },
     "metadata": {},
     "output_type": "display_data"
    },
    {
     "data": {
      "application/vnd.jupyter.widget-view+json": {
       "model_id": "e9a606c0f97b4390a512c873abd64b96",
       "version_major": 2,
       "version_minor": 0
      },
      "text/plain": [
       "👾 Algorithm Progress:   0%|          | 0/4 [00:00<?, ?it/s]"
      ]
     },
     "metadata": {},
     "output_type": "display_data"
    },
    {
     "data": {
      "application/vnd.jupyter.widget-view+json": {
       "model_id": "f8a51d1e07974c3bb1d49a84afe6fb30",
       "version_major": 2,
       "version_minor": 0
      },
      "text/plain": [
       "👾 Algorithm Progress:   0%|          | 0/4 [00:00<?, ?it/s]"
      ]
     },
     "metadata": {},
     "output_type": "display_data"
    },
    {
     "data": {
      "application/vnd.jupyter.widget-view+json": {
       "model_id": "8dba1e92cd174301adf7a2720f2455d5",
       "version_major": 2,
       "version_minor": 0
      },
      "text/plain": [
       "👤 Communities progress:   0%|          | 0/3 [00:00<?, ?it/s]"
      ]
     },
     "metadata": {},
     "output_type": "display_data"
    },
    {
     "data": {
      "application/vnd.jupyter.widget-view+json": {
       "model_id": "d9392353925948069acf2a14947917bb",
       "version_major": 2,
       "version_minor": 0
      },
      "text/plain": [
       "👤 Communities progress:   0%|          | 0/5 [00:00<?, ?it/s]"
      ]
     },
     "metadata": {},
     "output_type": "display_data"
    },
    {
     "data": {
      "application/vnd.jupyter.widget-view+json": {
       "model_id": "6e7746ae77ac418da97e4388277a87ff",
       "version_major": 2,
       "version_minor": 0
      },
      "text/plain": [
       "👤 Communities progress:   0%|          | 0/3 [00:00<?, ?it/s]"
      ]
     },
     "metadata": {},
     "output_type": "display_data"
    },
    {
     "data": {
      "application/vnd.jupyter.widget-view+json": {
       "model_id": "9f1d422bc6974ed7984376aa88530ea9",
       "version_major": 2,
       "version_minor": 0
      },
      "text/plain": [
       "👤 Communities progress:   0%|          | 0/4 [00:00<?, ?it/s]"
      ]
     },
     "metadata": {},
     "output_type": "display_data"
    },
    {
     "data": {
      "application/vnd.jupyter.widget-view+json": {
       "model_id": "d60a8d318d6449dd86af6de8817dbef6",
       "version_major": 2,
       "version_minor": 0
      },
      "text/plain": [
       "👾 Algorithm Progress:   0%|          | 0/4 [00:00<?, ?it/s]"
      ]
     },
     "metadata": {},
     "output_type": "display_data"
    },
    {
     "data": {
      "application/vnd.jupyter.widget-view+json": {
       "model_id": "0db191fa0821463bb740e3dc7bc71a51",
       "version_major": 2,
       "version_minor": 0
      },
      "text/plain": [
       "👤 Communities progress:   0%|          | 0/2 [00:00<?, ?it/s]"
      ]
     },
     "metadata": {},
     "output_type": "display_data"
    },
    {
     "data": {
      "application/vnd.jupyter.widget-view+json": {
       "model_id": "2434a61d40634d2fa1c52f683b45e144",
       "version_major": 2,
       "version_minor": 0
      },
      "text/plain": [
       "👤 Communities progress:   0%|          | 0/2 [00:00<?, ?it/s]"
      ]
     },
     "metadata": {},
     "output_type": "display_data"
    },
    {
     "data": {
      "application/vnd.jupyter.widget-view+json": {
       "model_id": "c87ed0b04c5341d085a6fde5e00e28bc",
       "version_major": 2,
       "version_minor": 0
      },
      "text/plain": [
       "👤 Communities progress:   0%|          | 0/2 [00:00<?, ?it/s]"
      ]
     },
     "metadata": {},
     "output_type": "display_data"
    },
    {
     "data": {
      "application/vnd.jupyter.widget-view+json": {
       "model_id": "7c975e2dddeb4475b37f5edb7d39b93a",
       "version_major": 2,
       "version_minor": 0
      },
      "text/plain": [
       "👤 Communities progress:   0%|          | 0/2 [00:00<?, ?it/s]"
      ]
     },
     "metadata": {},
     "output_type": "display_data"
    },
    {
     "data": {
      "application/vnd.jupyter.widget-view+json": {
       "model_id": "6eda24406aa44256a03abdf198233edc",
       "version_major": 2,
       "version_minor": 0
      },
      "text/plain": [
       "🕸️ Community Detector Progress:   0%|          | 0/3 [00:00<?, ?it/s]"
      ]
     },
     "metadata": {},
     "output_type": "display_data"
    },
    {
     "data": {
      "application/vnd.jupyter.widget-view+json": {
       "model_id": "98ce666b716d4608a749438ddb535283",
       "version_major": 2,
       "version_minor": 0
      },
      "text/plain": [
       "👾 Algorithm Progress:   0%|          | 0/4 [00:00<?, ?it/s]"
      ]
     },
     "metadata": {},
     "output_type": "display_data"
    },
    {
     "data": {
      "application/vnd.jupyter.widget-view+json": {
       "model_id": "2ee6de0fc03e4792b728f41e9c0232b5",
       "version_major": 2,
       "version_minor": 0
      },
      "text/plain": [
       "👾 Algorithm Progress:   0%|          | 0/4 [00:00<?, ?it/s]"
      ]
     },
     "metadata": {},
     "output_type": "display_data"
    },
    {
     "data": {
      "application/vnd.jupyter.widget-view+json": {
       "model_id": "9624a28df958407da21ba91b09d61ddd",
       "version_major": 2,
       "version_minor": 0
      },
      "text/plain": [
       "👤 Communities progress:   0%|          | 0/3 [00:00<?, ?it/s]"
      ]
     },
     "metadata": {},
     "output_type": "display_data"
    },
    {
     "data": {
      "application/vnd.jupyter.widget-view+json": {
       "model_id": "dde5592d39f74ea0b0306da518607f8c",
       "version_major": 2,
       "version_minor": 0
      },
      "text/plain": [
       "👤 Communities progress:   0%|          | 0/3 [00:00<?, ?it/s]"
      ]
     },
     "metadata": {},
     "output_type": "display_data"
    },
    {
     "data": {
      "application/vnd.jupyter.widget-view+json": {
       "model_id": "170d00f8855b48d1aa318cb0d630398c",
       "version_major": 2,
       "version_minor": 0
      },
      "text/plain": [
       "👤 Communities progress:   0%|          | 0/3 [00:00<?, ?it/s]"
      ]
     },
     "metadata": {},
     "output_type": "display_data"
    },
    {
     "data": {
      "application/vnd.jupyter.widget-view+json": {
       "model_id": "88501dd89c51496298fce2d499887f49",
       "version_major": 2,
       "version_minor": 0
      },
      "text/plain": [
       "👤 Communities progress:   0%|          | 0/3 [00:00<?, ?it/s]"
      ]
     },
     "metadata": {},
     "output_type": "display_data"
    },
    {
     "data": {
      "application/vnd.jupyter.widget-view+json": {
       "model_id": "e6f382adf52c40e4bd5fd35e5d8baf2f",
       "version_major": 2,
       "version_minor": 0
      },
      "text/plain": [
       "👾 Algorithm Progress:   0%|          | 0/4 [00:00<?, ?it/s]"
      ]
     },
     "metadata": {},
     "output_type": "display_data"
    },
    {
     "data": {
      "application/vnd.jupyter.widget-view+json": {
       "model_id": "fd71ea522f1c49e58151fdbed1194835",
       "version_major": 2,
       "version_minor": 0
      },
      "text/plain": [
       "👤 Communities progress:   0%|          | 0/24 [00:00<?, ?it/s]"
      ]
     },
     "metadata": {},
     "output_type": "display_data"
    },
    {
     "data": {
      "application/vnd.jupyter.widget-view+json": {
       "model_id": "47a3de8a0d334cc2928683edecc048fb",
       "version_major": 2,
       "version_minor": 0
      },
      "text/plain": [
       "👤 Communities progress:   0%|          | 0/24 [00:00<?, ?it/s]"
      ]
     },
     "metadata": {},
     "output_type": "display_data"
    },
    {
     "data": {
      "application/vnd.jupyter.widget-view+json": {
       "model_id": "111b585943b3421cbc0be12f69fea084",
       "version_major": 2,
       "version_minor": 0
      },
      "text/plain": [
       "👤 Communities progress:   0%|          | 0/24 [00:00<?, ?it/s]"
      ]
     },
     "metadata": {},
     "output_type": "display_data"
    },
    {
     "data": {
      "application/vnd.jupyter.widget-view+json": {
       "model_id": "424ebbf3b7334d73aeea62b4d240a98f",
       "version_major": 2,
       "version_minor": 0
      },
      "text/plain": [
       "👤 Communities progress:   0%|          | 0/24 [00:00<?, ?it/s]"
      ]
     },
     "metadata": {},
     "output_type": "display_data"
    },
    {
     "data": {
      "application/vnd.jupyter.widget-view+json": {
       "model_id": "d661b150183c4bad985bf1a1fea4496f",
       "version_major": 2,
       "version_minor": 0
      },
      "text/plain": [
       "🕸️ Community Detector Progress:   0%|          | 0/3 [00:00<?, ?it/s]"
      ]
     },
     "metadata": {},
     "output_type": "display_data"
    },
    {
     "data": {
      "application/vnd.jupyter.widget-view+json": {
       "model_id": "126b5bb0b9114e158eb56173ea6525d0",
       "version_major": 2,
       "version_minor": 0
      },
      "text/plain": [
       "👾 Algorithm Progress:   0%|          | 0/4 [00:00<?, ?it/s]"
      ]
     },
     "metadata": {},
     "output_type": "display_data"
    },
    {
     "data": {
      "application/vnd.jupyter.widget-view+json": {
       "model_id": "45e96a758875451792f0490c2d23455d",
       "version_major": 2,
       "version_minor": 0
      },
      "text/plain": [
       "👾 Algorithm Progress:   0%|          | 0/4 [00:00<?, ?it/s]"
      ]
     },
     "metadata": {},
     "output_type": "display_data"
    },
    {
     "data": {
      "application/vnd.jupyter.widget-view+json": {
       "model_id": "c81d1d1272f44193aa16f07d66c68c37",
       "version_major": 2,
       "version_minor": 0
      },
      "text/plain": [
       "👤 Communities progress:   0%|          | 0/3 [00:00<?, ?it/s]"
      ]
     },
     "metadata": {},
     "output_type": "display_data"
    },
    {
     "data": {
      "application/vnd.jupyter.widget-view+json": {
       "model_id": "01e1410d7d864220b5e76f8d93e3ceca",
       "version_major": 2,
       "version_minor": 0
      },
      "text/plain": [
       "👤 Communities progress:   0%|          | 0/3 [00:00<?, ?it/s]"
      ]
     },
     "metadata": {},
     "output_type": "display_data"
    },
    {
     "data": {
      "application/vnd.jupyter.widget-view+json": {
       "model_id": "49c00f3b64a54869809e5cadee0d82ce",
       "version_major": 2,
       "version_minor": 0
      },
      "text/plain": [
       "👤 Communities progress:   0%|          | 0/3 [00:00<?, ?it/s]"
      ]
     },
     "metadata": {},
     "output_type": "display_data"
    },
    {
     "data": {
      "application/vnd.jupyter.widget-view+json": {
       "model_id": "eacdc0765c2a42eeb8ca2cfba860f79c",
       "version_major": 2,
       "version_minor": 0
      },
      "text/plain": [
       "👤 Communities progress:   0%|          | 0/3 [00:00<?, ?it/s]"
      ]
     },
     "metadata": {},
     "output_type": "display_data"
    },
    {
     "data": {
      "application/vnd.jupyter.widget-view+json": {
       "model_id": "fc9b993ad3524a919cea9434bebb4ff6",
       "version_major": 2,
       "version_minor": 0
      },
      "text/plain": [
       "👾 Algorithm Progress:   0%|          | 0/4 [00:00<?, ?it/s]"
      ]
     },
     "metadata": {},
     "output_type": "display_data"
    },
    {
     "data": {
      "application/vnd.jupyter.widget-view+json": {
       "model_id": "5aa9bb03c61f4a0896179e438c3377ff",
       "version_major": 2,
       "version_minor": 0
      },
      "text/plain": [
       "👤 Communities progress:   0%|          | 0/3 [00:00<?, ?it/s]"
      ]
     },
     "metadata": {},
     "output_type": "display_data"
    },
    {
     "data": {
      "application/vnd.jupyter.widget-view+json": {
       "model_id": "f89487be280048a99e00f4a8c8ea593d",
       "version_major": 2,
       "version_minor": 0
      },
      "text/plain": [
       "👤 Communities progress:   0%|          | 0/3 [00:00<?, ?it/s]"
      ]
     },
     "metadata": {},
     "output_type": "display_data"
    },
    {
     "data": {
      "application/vnd.jupyter.widget-view+json": {
       "model_id": "e81e2cbb7e8a4b168ff536ec9a6c6c23",
       "version_major": 2,
       "version_minor": 0
      },
      "text/plain": [
       "👤 Communities progress:   0%|          | 0/3 [00:00<?, ?it/s]"
      ]
     },
     "metadata": {},
     "output_type": "display_data"
    },
    {
     "data": {
      "application/vnd.jupyter.widget-view+json": {
       "model_id": "8377e3018ffb4381a8b0559ab82700a5",
       "version_major": 2,
       "version_minor": 0
      },
      "text/plain": [
       "👤 Communities progress:   0%|          | 0/3 [00:00<?, ?it/s]"
      ]
     },
     "metadata": {},
     "output_type": "display_data"
    },
    {
     "data": {
      "application/vnd.jupyter.widget-view+json": {
       "model_id": "c648ae33f0de43e0ba71f7bccb943a33",
       "version_major": 2,
       "version_minor": 0
      },
      "text/plain": [
       "🕸️ Community Detector Progress:   0%|          | 0/3 [00:00<?, ?it/s]"
      ]
     },
     "metadata": {},
     "output_type": "display_data"
    },
    {
     "data": {
      "application/vnd.jupyter.widget-view+json": {
       "model_id": "5d271937f0444019974138a8b9b80daf",
       "version_major": 2,
       "version_minor": 0
      },
      "text/plain": [
       "👾 Algorithm Progress:   0%|          | 0/4 [00:00<?, ?it/s]"
      ]
     },
     "metadata": {},
     "output_type": "display_data"
    },
    {
     "data": {
      "application/vnd.jupyter.widget-view+json": {
       "model_id": "4492316bf4b740e8a44c4a74627236ef",
       "version_major": 2,
       "version_minor": 0
      },
      "text/plain": [
       "👾 Algorithm Progress:   0%|          | 0/4 [00:00<?, ?it/s]"
      ]
     },
     "metadata": {},
     "output_type": "display_data"
    },
    {
     "data": {
      "application/vnd.jupyter.widget-view+json": {
       "model_id": "266ccfdf03804e32abeeb2f9473ea735",
       "version_major": 2,
       "version_minor": 0
      },
      "text/plain": [
       "👤 Communities progress:   0%|          | 0/3 [00:00<?, ?it/s]"
      ]
     },
     "metadata": {},
     "output_type": "display_data"
    },
    {
     "data": {
      "application/vnd.jupyter.widget-view+json": {
       "model_id": "c60fb6686e3747c581b1653e914f365c",
       "version_major": 2,
       "version_minor": 0
      },
      "text/plain": [
       "👤 Communities progress:   0%|          | 0/3 [00:00<?, ?it/s]"
      ]
     },
     "metadata": {},
     "output_type": "display_data"
    },
    {
     "data": {
      "application/vnd.jupyter.widget-view+json": {
       "model_id": "0956d7bd8d514982b3b11057894523da",
       "version_major": 2,
       "version_minor": 0
      },
      "text/plain": [
       "👤 Communities progress:   0%|          | 0/3 [00:00<?, ?it/s]"
      ]
     },
     "metadata": {},
     "output_type": "display_data"
    },
    {
     "data": {
      "application/vnd.jupyter.widget-view+json": {
       "model_id": "35aa89a6557d4ece931456551e4e7cd3",
       "version_major": 2,
       "version_minor": 0
      },
      "text/plain": [
       "👤 Communities progress:   0%|          | 0/3 [00:00<?, ?it/s]"
      ]
     },
     "metadata": {},
     "output_type": "display_data"
    },
    {
     "data": {
      "application/vnd.jupyter.widget-view+json": {
       "model_id": "957f6877d6da49f2b20d8bd1afbe9210",
       "version_major": 2,
       "version_minor": 0
      },
      "text/plain": [
       "👾 Algorithm Progress:   0%|          | 0/4 [00:00<?, ?it/s]"
      ]
     },
     "metadata": {},
     "output_type": "display_data"
    },
    {
     "data": {
      "application/vnd.jupyter.widget-view+json": {
       "model_id": "7ae264e50344470aae35090181e174ba",
       "version_major": 2,
       "version_minor": 0
      },
      "text/plain": [
       "👤 Communities progress:   0%|          | 0/39 [00:00<?, ?it/s]"
      ]
     },
     "metadata": {},
     "output_type": "display_data"
    },
    {
     "data": {
      "application/vnd.jupyter.widget-view+json": {
       "model_id": "40a03583607f49838d4a253d170a8bce",
       "version_major": 2,
       "version_minor": 0
      },
      "text/plain": [
       "👤 Communities progress:   0%|          | 0/39 [00:00<?, ?it/s]"
      ]
     },
     "metadata": {},
     "output_type": "display_data"
    },
    {
     "data": {
      "application/vnd.jupyter.widget-view+json": {
       "model_id": "4168dd66a71644a797d60c971c56b01a",
       "version_major": 2,
       "version_minor": 0
      },
      "text/plain": [
       "👤 Communities progress:   0%|          | 0/39 [00:00<?, ?it/s]"
      ]
     },
     "metadata": {},
     "output_type": "display_data"
    },
    {
     "data": {
      "application/vnd.jupyter.widget-view+json": {
       "model_id": "327006eb79474774a726ec0fd54f9321",
       "version_major": 2,
       "version_minor": 0
      },
      "text/plain": [
       "👤 Communities progress:   0%|          | 0/39 [00:00<?, ?it/s]"
      ]
     },
     "metadata": {},
     "output_type": "display_data"
    },
    {
     "data": {
      "application/vnd.jupyter.widget-view+json": {
       "model_id": "378c47411c8a4e0ea0ad8d9d18930bfa",
       "version_major": 2,
       "version_minor": 0
      },
      "text/plain": [
       "➗ Splits Progress: 0it [00:00, ?it/s]"
      ]
     },
     "metadata": {},
     "output_type": "display_data"
    },
    {
     "data": {
      "application/vnd.jupyter.widget-view+json": {
       "model_id": "118b933aa6594dc1a1963e960cd8b0d0",
       "version_major": 2,
       "version_minor": 0
      },
      "text/plain": [
       "🕸️ Community Detector Progress:   0%|          | 0/3 [00:00<?, ?it/s]"
      ]
     },
     "metadata": {},
     "output_type": "display_data"
    },
    {
     "data": {
      "application/vnd.jupyter.widget-view+json": {
       "model_id": "262348de458f45b1b8ab718de8ffc655",
       "version_major": 2,
       "version_minor": 0
      },
      "text/plain": [
       "👾 Algorithm Progress:   0%|          | 0/4 [00:00<?, ?it/s]"
      ]
     },
     "metadata": {},
     "output_type": "display_data"
    },
    {
     "data": {
      "application/vnd.jupyter.widget-view+json": {
       "model_id": "7edbdcb526c04923b78f07fcb9cb62b1",
       "version_major": 2,
       "version_minor": 0
      },
      "text/plain": [
       "👾 Algorithm Progress:   0%|          | 0/4 [00:00<?, ?it/s]"
      ]
     },
     "metadata": {},
     "output_type": "display_data"
    },
    {
     "data": {
      "application/vnd.jupyter.widget-view+json": {
       "model_id": "9f3bf441737a46b496c085571f507919",
       "version_major": 2,
       "version_minor": 0
      },
      "text/plain": [
       "👤 Communities progress:   0%|          | 0/4 [00:00<?, ?it/s]"
      ]
     },
     "metadata": {},
     "output_type": "display_data"
    },
    {
     "data": {
      "application/vnd.jupyter.widget-view+json": {
       "model_id": "40f0daa47ab34a5691702c85364182b2",
       "version_major": 2,
       "version_minor": 0
      },
      "text/plain": [
       "👤 Communities progress:   0%|          | 0/4 [00:00<?, ?it/s]"
      ]
     },
     "metadata": {},
     "output_type": "display_data"
    },
    {
     "data": {
      "application/vnd.jupyter.widget-view+json": {
       "model_id": "17660df6f3564375bb1c18478bb3a76c",
       "version_major": 2,
       "version_minor": 0
      },
      "text/plain": [
       "👤 Communities progress:   0%|          | 0/4 [00:00<?, ?it/s]"
      ]
     },
     "metadata": {},
     "output_type": "display_data"
    },
    {
     "data": {
      "application/vnd.jupyter.widget-view+json": {
       "model_id": "399439bc68ba462c9594cd60605af755",
       "version_major": 2,
       "version_minor": 0
      },
      "text/plain": [
       "👤 Communities progress:   0%|          | 0/5 [00:00<?, ?it/s]"
      ]
     },
     "metadata": {},
     "output_type": "display_data"
    },
    {
     "data": {
      "application/vnd.jupyter.widget-view+json": {
       "model_id": "f07b493be4c549d48533692ecf2ef57b",
       "version_major": 2,
       "version_minor": 0
      },
      "text/plain": [
       "👾 Algorithm Progress:   0%|          | 0/4 [00:00<?, ?it/s]"
      ]
     },
     "metadata": {},
     "output_type": "display_data"
    },
    {
     "data": {
      "application/vnd.jupyter.widget-view+json": {
       "model_id": "4680100acc0c414e8912f873107eeb1a",
       "version_major": 2,
       "version_minor": 0
      },
      "text/plain": [
       "👤 Communities progress:   0%|          | 0/5 [00:00<?, ?it/s]"
      ]
     },
     "metadata": {},
     "output_type": "display_data"
    },
    {
     "data": {
      "application/vnd.jupyter.widget-view+json": {
       "model_id": "76ce729c8fca47aa9ceffdf269f77aa6",
       "version_major": 2,
       "version_minor": 0
      },
      "text/plain": [
       "👤 Communities progress:   0%|          | 0/5 [00:00<?, ?it/s]"
      ]
     },
     "metadata": {},
     "output_type": "display_data"
    },
    {
     "data": {
      "application/vnd.jupyter.widget-view+json": {
       "model_id": "31bc848e7cb84a549435e82610ab9a85",
       "version_major": 2,
       "version_minor": 0
      },
      "text/plain": [
       "👤 Communities progress:   0%|          | 0/5 [00:00<?, ?it/s]"
      ]
     },
     "metadata": {},
     "output_type": "display_data"
    },
    {
     "data": {
      "application/vnd.jupyter.widget-view+json": {
       "model_id": "17de43d989f64663bb641a59fdcab3af",
       "version_major": 2,
       "version_minor": 0
      },
      "text/plain": [
       "👤 Communities progress:   0%|          | 0/5 [00:00<?, ?it/s]"
      ]
     },
     "metadata": {},
     "output_type": "display_data"
    },
    {
     "data": {
      "application/vnd.jupyter.widget-view+json": {
       "model_id": "7e701ca73a524bbfbf95ca5677bd0dd8",
       "version_major": 2,
       "version_minor": 0
      },
      "text/plain": [
       "🕸️ Community Detector Progress:   0%|          | 0/3 [00:00<?, ?it/s]"
      ]
     },
     "metadata": {},
     "output_type": "display_data"
    },
    {
     "data": {
      "application/vnd.jupyter.widget-view+json": {
       "model_id": "62f4b5417bdd4254817deecad3b2530c",
       "version_major": 2,
       "version_minor": 0
      },
      "text/plain": [
       "👾 Algorithm Progress:   0%|          | 0/4 [00:00<?, ?it/s]"
      ]
     },
     "metadata": {},
     "output_type": "display_data"
    },
    {
     "data": {
      "application/vnd.jupyter.widget-view+json": {
       "model_id": "815b402a867e4f53b212609c12f9ce74",
       "version_major": 2,
       "version_minor": 0
      },
      "text/plain": [
       "👾 Algorithm Progress:   0%|          | 0/4 [00:00<?, ?it/s]"
      ]
     },
     "metadata": {},
     "output_type": "display_data"
    },
    {
     "data": {
      "application/vnd.jupyter.widget-view+json": {
       "model_id": "bea28ced49b7493d9da2474dc3552cb1",
       "version_major": 2,
       "version_minor": 0
      },
      "text/plain": [
       "👤 Communities progress:   0%|          | 0/4 [00:00<?, ?it/s]"
      ]
     },
     "metadata": {},
     "output_type": "display_data"
    },
    {
     "data": {
      "application/vnd.jupyter.widget-view+json": {
       "model_id": "aaa74b90a0364556802812ad8c14f6bc",
       "version_major": 2,
       "version_minor": 0
      },
      "text/plain": [
       "👤 Communities progress:   0%|          | 0/4 [00:00<?, ?it/s]"
      ]
     },
     "metadata": {},
     "output_type": "display_data"
    },
    {
     "data": {
      "application/vnd.jupyter.widget-view+json": {
       "model_id": "a4da536e5cb7451e9c343e533c3a0d59",
       "version_major": 2,
       "version_minor": 0
      },
      "text/plain": [
       "👤 Communities progress:   0%|          | 0/3 [00:00<?, ?it/s]"
      ]
     },
     "metadata": {},
     "output_type": "display_data"
    },
    {
     "data": {
      "application/vnd.jupyter.widget-view+json": {
       "model_id": "716abde67eee407382bd923efb3e36f3",
       "version_major": 2,
       "version_minor": 0
      },
      "text/plain": [
       "👤 Communities progress:   0%|          | 0/4 [00:00<?, ?it/s]"
      ]
     },
     "metadata": {},
     "output_type": "display_data"
    },
    {
     "data": {
      "application/vnd.jupyter.widget-view+json": {
       "model_id": "d00ff69efa2f435aac6f1bd4f195eeb4",
       "version_major": 2,
       "version_minor": 0
      },
      "text/plain": [
       "👾 Algorithm Progress:   0%|          | 0/4 [00:00<?, ?it/s]"
      ]
     },
     "metadata": {},
     "output_type": "display_data"
    },
    {
     "data": {
      "application/vnd.jupyter.widget-view+json": {
       "model_id": "77309c89ee3c42cf8d1e555ee34e5a2e",
       "version_major": 2,
       "version_minor": 0
      },
      "text/plain": [
       "👤 Communities progress:   0%|          | 0/4 [00:00<?, ?it/s]"
      ]
     },
     "metadata": {},
     "output_type": "display_data"
    },
    {
     "data": {
      "application/vnd.jupyter.widget-view+json": {
       "model_id": "8b582650659f4e88aa4b3088b2602a7f",
       "version_major": 2,
       "version_minor": 0
      },
      "text/plain": [
       "👤 Communities progress:   0%|          | 0/4 [00:00<?, ?it/s]"
      ]
     },
     "metadata": {},
     "output_type": "display_data"
    },
    {
     "data": {
      "application/vnd.jupyter.widget-view+json": {
       "model_id": "d2f9b8f06362476295b1c1bcbe9c1129",
       "version_major": 2,
       "version_minor": 0
      },
      "text/plain": [
       "👤 Communities progress:   0%|          | 0/4 [00:00<?, ?it/s]"
      ]
     },
     "metadata": {},
     "output_type": "display_data"
    },
    {
     "data": {
      "application/vnd.jupyter.widget-view+json": {
       "model_id": "a2f1be8fb5e04d218d9bac251127eb53",
       "version_major": 2,
       "version_minor": 0
      },
      "text/plain": [
       "👤 Communities progress:   0%|          | 0/4 [00:00<?, ?it/s]"
      ]
     },
     "metadata": {},
     "output_type": "display_data"
    },
    {
     "data": {
      "application/vnd.jupyter.widget-view+json": {
       "model_id": "987580bd209f421c83a93887a32125f1",
       "version_major": 2,
       "version_minor": 0
      },
      "text/plain": [
       "🕸️ Community Detector Progress:   0%|          | 0/3 [00:00<?, ?it/s]"
      ]
     },
     "metadata": {},
     "output_type": "display_data"
    },
    {
     "data": {
      "application/vnd.jupyter.widget-view+json": {
       "model_id": "e8141b1abe56443bbfb816e16e60ee5f",
       "version_major": 2,
       "version_minor": 0
      },
      "text/plain": [
       "👾 Algorithm Progress:   0%|          | 0/4 [00:00<?, ?it/s]"
      ]
     },
     "metadata": {},
     "output_type": "display_data"
    },
    {
     "data": {
      "application/vnd.jupyter.widget-view+json": {
       "model_id": "773e43fada304cd0b9c7f08dbefcb2c3",
       "version_major": 2,
       "version_minor": 0
      },
      "text/plain": [
       "👾 Algorithm Progress:   0%|          | 0/4 [00:00<?, ?it/s]"
      ]
     },
     "metadata": {},
     "output_type": "display_data"
    },
    {
     "data": {
      "application/vnd.jupyter.widget-view+json": {
       "model_id": "5c61a5496ae04bc5a1c0750fca8d444d",
       "version_major": 2,
       "version_minor": 0
      },
      "text/plain": [
       "👤 Communities progress:   0%|          | 0/3 [00:00<?, ?it/s]"
      ]
     },
     "metadata": {},
     "output_type": "display_data"
    },
    {
     "data": {
      "application/vnd.jupyter.widget-view+json": {
       "model_id": "f44974e7a3d94f7c8c8d0835d47936b2",
       "version_major": 2,
       "version_minor": 0
      },
      "text/plain": [
       "👤 Communities progress:   0%|          | 0/3 [00:00<?, ?it/s]"
      ]
     },
     "metadata": {},
     "output_type": "display_data"
    },
    {
     "data": {
      "application/vnd.jupyter.widget-view+json": {
       "model_id": "3cc5e454431f46e29863705a85156a85",
       "version_major": 2,
       "version_minor": 0
      },
      "text/plain": [
       "👤 Communities progress:   0%|          | 0/3 [00:00<?, ?it/s]"
      ]
     },
     "metadata": {},
     "output_type": "display_data"
    },
    {
     "data": {
      "application/vnd.jupyter.widget-view+json": {
       "model_id": "156b0cdb47834a138c6c24fc93c8b1ba",
       "version_major": 2,
       "version_minor": 0
      },
      "text/plain": [
       "👤 Communities progress:   0%|          | 0/3 [00:00<?, ?it/s]"
      ]
     },
     "metadata": {},
     "output_type": "display_data"
    },
    {
     "data": {
      "application/vnd.jupyter.widget-view+json": {
       "model_id": "b1c54a2a54ab4d0fb02b433026fc2286",
       "version_major": 2,
       "version_minor": 0
      },
      "text/plain": [
       "👾 Algorithm Progress:   0%|          | 0/4 [00:00<?, ?it/s]"
      ]
     },
     "metadata": {},
     "output_type": "display_data"
    },
    {
     "data": {
      "application/vnd.jupyter.widget-view+json": {
       "model_id": "fb6cc81a277a4c45b17db67d8ea8b2de",
       "version_major": 2,
       "version_minor": 0
      },
      "text/plain": [
       "👤 Communities progress:   0%|          | 0/20 [00:00<?, ?it/s]"
      ]
     },
     "metadata": {},
     "output_type": "display_data"
    },
    {
     "data": {
      "application/vnd.jupyter.widget-view+json": {
       "model_id": "ddf587afa4be4c15897ced9a4fdebdc2",
       "version_major": 2,
       "version_minor": 0
      },
      "text/plain": [
       "👤 Communities progress:   0%|          | 0/20 [00:00<?, ?it/s]"
      ]
     },
     "metadata": {},
     "output_type": "display_data"
    },
    {
     "data": {
      "application/vnd.jupyter.widget-view+json": {
       "model_id": "fca54b2de2e44ca782379641f9db62d2",
       "version_major": 2,
       "version_minor": 0
      },
      "text/plain": [
       "👤 Communities progress:   0%|          | 0/20 [00:00<?, ?it/s]"
      ]
     },
     "metadata": {},
     "output_type": "display_data"
    },
    {
     "data": {
      "application/vnd.jupyter.widget-view+json": {
       "model_id": "aea75865f99a478c9d3e74b1b2135545",
       "version_major": 2,
       "version_minor": 0
      },
      "text/plain": [
       "👤 Communities progress:   0%|          | 0/20 [00:00<?, ?it/s]"
      ]
     },
     "metadata": {},
     "output_type": "display_data"
    },
    {
     "data": {
      "application/vnd.jupyter.widget-view+json": {
       "model_id": "7e34dfd312e44ec2a1adf4f3f6867d0f",
       "version_major": 2,
       "version_minor": 0
      },
      "text/plain": [
       "🕸️ Community Detector Progress:   0%|          | 0/3 [00:00<?, ?it/s]"
      ]
     },
     "metadata": {},
     "output_type": "display_data"
    },
    {
     "data": {
      "application/vnd.jupyter.widget-view+json": {
       "model_id": "67a6f86d465947e18479b0dc32414a0b",
       "version_major": 2,
       "version_minor": 0
      },
      "text/plain": [
       "👾 Algorithm Progress:   0%|          | 0/4 [00:00<?, ?it/s]"
      ]
     },
     "metadata": {},
     "output_type": "display_data"
    },
    {
     "data": {
      "application/vnd.jupyter.widget-view+json": {
       "model_id": "46662925750240d3b6a18406fb690feb",
       "version_major": 2,
       "version_minor": 0
      },
      "text/plain": [
       "👾 Algorithm Progress:   0%|          | 0/4 [00:00<?, ?it/s]"
      ]
     },
     "metadata": {},
     "output_type": "display_data"
    },
    {
     "data": {
      "application/vnd.jupyter.widget-view+json": {
       "model_id": "6f692b38be054311b1366249ab20ab95",
       "version_major": 2,
       "version_minor": 0
      },
      "text/plain": [
       "👤 Communities progress:   0%|          | 0/4 [00:00<?, ?it/s]"
      ]
     },
     "metadata": {},
     "output_type": "display_data"
    },
    {
     "data": {
      "application/vnd.jupyter.widget-view+json": {
       "model_id": "8a137118e2874f0da46cdc34902bf17f",
       "version_major": 2,
       "version_minor": 0
      },
      "text/plain": [
       "👤 Communities progress:   0%|          | 0/3 [00:00<?, ?it/s]"
      ]
     },
     "metadata": {},
     "output_type": "display_data"
    },
    {
     "data": {
      "application/vnd.jupyter.widget-view+json": {
       "model_id": "4a04348a15c349ca897392526b2b29a0",
       "version_major": 2,
       "version_minor": 0
      },
      "text/plain": [
       "👤 Communities progress:   0%|          | 0/3 [00:00<?, ?it/s]"
      ]
     },
     "metadata": {},
     "output_type": "display_data"
    },
    {
     "data": {
      "application/vnd.jupyter.widget-view+json": {
       "model_id": "15ffb557fca1454eb3f372650853a04c",
       "version_major": 2,
       "version_minor": 0
      },
      "text/plain": [
       "👤 Communities progress:   0%|          | 0/4 [00:00<?, ?it/s]"
      ]
     },
     "metadata": {},
     "output_type": "display_data"
    },
    {
     "data": {
      "application/vnd.jupyter.widget-view+json": {
       "model_id": "5814f5919d8f4e6fa3b0f97ba8f472fb",
       "version_major": 2,
       "version_minor": 0
      },
      "text/plain": [
       "👾 Algorithm Progress:   0%|          | 0/4 [00:00<?, ?it/s]"
      ]
     },
     "metadata": {},
     "output_type": "display_data"
    },
    {
     "data": {
      "application/vnd.jupyter.widget-view+json": {
       "model_id": "1b3e43b5bf4d4f67985c8fb6ebed3cf3",
       "version_major": 2,
       "version_minor": 0
      },
      "text/plain": [
       "👤 Communities progress:   0%|          | 0/33 [00:00<?, ?it/s]"
      ]
     },
     "metadata": {},
     "output_type": "display_data"
    },
    {
     "data": {
      "application/vnd.jupyter.widget-view+json": {
       "model_id": "8eff99e83667430ea9347809a8e7fe0e",
       "version_major": 2,
       "version_minor": 0
      },
      "text/plain": [
       "👤 Communities progress:   0%|          | 0/33 [00:00<?, ?it/s]"
      ]
     },
     "metadata": {},
     "output_type": "display_data"
    },
    {
     "data": {
      "application/vnd.jupyter.widget-view+json": {
       "model_id": "b21bd100c6254cfe8378008b6ea63452",
       "version_major": 2,
       "version_minor": 0
      },
      "text/plain": [
       "👤 Communities progress:   0%|          | 0/33 [00:00<?, ?it/s]"
      ]
     },
     "metadata": {},
     "output_type": "display_data"
    },
    {
     "data": {
      "application/vnd.jupyter.widget-view+json": {
       "model_id": "cdc3e721d65643e4a196ca32a2b0babd",
       "version_major": 2,
       "version_minor": 0
      },
      "text/plain": [
       "👤 Communities progress:   0%|          | 0/33 [00:00<?, ?it/s]"
      ]
     },
     "metadata": {},
     "output_type": "display_data"
    },
    {
     "data": {
      "application/vnd.jupyter.widget-view+json": {
       "model_id": "13a29f28ba1a47399855e57e201885a5",
       "version_major": 2,
       "version_minor": 0
      },
      "text/plain": [
       "🕸️ Community Detector Progress:   0%|          | 0/3 [00:00<?, ?it/s]"
      ]
     },
     "metadata": {},
     "output_type": "display_data"
    },
    {
     "data": {
      "application/vnd.jupyter.widget-view+json": {
       "model_id": "482829a9d7f44f338b29efb028d44248",
       "version_major": 2,
       "version_minor": 0
      },
      "text/plain": [
       "👾 Algorithm Progress:   0%|          | 0/4 [00:00<?, ?it/s]"
      ]
     },
     "metadata": {},
     "output_type": "display_data"
    },
    {
     "data": {
      "application/vnd.jupyter.widget-view+json": {
       "model_id": "2ee49156f4964fc59970ae44320d2921",
       "version_major": 2,
       "version_minor": 0
      },
      "text/plain": [
       "👾 Algorithm Progress:   0%|          | 0/4 [00:00<?, ?it/s]"
      ]
     },
     "metadata": {},
     "output_type": "display_data"
    },
    {
     "data": {
      "application/vnd.jupyter.widget-view+json": {
       "model_id": "418ee5ed576e4f59a1417902c1630515",
       "version_major": 2,
       "version_minor": 0
      },
      "text/plain": [
       "👤 Communities progress:   0%|          | 0/3 [00:00<?, ?it/s]"
      ]
     },
     "metadata": {},
     "output_type": "display_data"
    },
    {
     "data": {
      "application/vnd.jupyter.widget-view+json": {
       "model_id": "04fc104085334b32a6d56960452eb7d8",
       "version_major": 2,
       "version_minor": 0
      },
      "text/plain": [
       "👤 Communities progress:   0%|          | 0/3 [00:00<?, ?it/s]"
      ]
     },
     "metadata": {},
     "output_type": "display_data"
    },
    {
     "data": {
      "application/vnd.jupyter.widget-view+json": {
       "model_id": "197c0c5b7cac4b168b97b2c318749062",
       "version_major": 2,
       "version_minor": 0
      },
      "text/plain": [
       "👤 Communities progress:   0%|          | 0/3 [00:00<?, ?it/s]"
      ]
     },
     "metadata": {},
     "output_type": "display_data"
    },
    {
     "data": {
      "application/vnd.jupyter.widget-view+json": {
       "model_id": "e227e65d5692434d88e0eda31dc010aa",
       "version_major": 2,
       "version_minor": 0
      },
      "text/plain": [
       "👤 Communities progress:   0%|          | 0/3 [00:00<?, ?it/s]"
      ]
     },
     "metadata": {},
     "output_type": "display_data"
    },
    {
     "data": {
      "application/vnd.jupyter.widget-view+json": {
       "model_id": "ad291aba97684c0c89279f584c2b86ef",
       "version_major": 2,
       "version_minor": 0
      },
      "text/plain": [
       "👾 Algorithm Progress:   0%|          | 0/4 [00:00<?, ?it/s]"
      ]
     },
     "metadata": {},
     "output_type": "display_data"
    },
    {
     "data": {
      "application/vnd.jupyter.widget-view+json": {
       "model_id": "2678d28c4e9649f38a79400417458a47",
       "version_major": 2,
       "version_minor": 0
      },
      "text/plain": [
       "👤 Communities progress:   0%|          | 0/14 [00:00<?, ?it/s]"
      ]
     },
     "metadata": {},
     "output_type": "display_data"
    },
    {
     "data": {
      "application/vnd.jupyter.widget-view+json": {
       "model_id": "77b716fa42e849bc9528912fefa37c34",
       "version_major": 2,
       "version_minor": 0
      },
      "text/plain": [
       "👤 Communities progress:   0%|          | 0/14 [00:00<?, ?it/s]"
      ]
     },
     "metadata": {},
     "output_type": "display_data"
    },
    {
     "data": {
      "application/vnd.jupyter.widget-view+json": {
       "model_id": "1a33e70e04164160bf77079f7acb3e15",
       "version_major": 2,
       "version_minor": 0
      },
      "text/plain": [
       "👤 Communities progress:   0%|          | 0/14 [00:00<?, ?it/s]"
      ]
     },
     "metadata": {},
     "output_type": "display_data"
    },
    {
     "data": {
      "application/vnd.jupyter.widget-view+json": {
       "model_id": "34fccb6c399d41b1a0fc8169712a48ce",
       "version_major": 2,
       "version_minor": 0
      },
      "text/plain": [
       "👤 Communities progress:   0%|          | 0/14 [00:00<?, ?it/s]"
      ]
     },
     "metadata": {},
     "output_type": "display_data"
    }
   ],
   "source": [
    "results=[]\n",
    "for test_size in tqdm([0.25, 0.1, 0.01], desc='📊 Test Size Progress', leave=True):\n",
    "        shuffle_split = ShuffleSplit(n_splits=5, test_size=test_size)\n",
    "        split_id = 1\n",
    "        for trainset, testset in tqdm(shuffle_split.split(dataset), desc='➗ Splits Progress', leave=False):\n",
    "            for detector_name, community_detector in tqdm(communities_detectors.items(), desc='🕸️ Community Detector Progress', leave=False):\n",
    "                for algo_name, algo in  tqdm(algos_recommendation.items(), desc='👾 Algorithm Progress', leave=False):\n",
    "                    if community_detector == None:\n",
    "                        algo.fit(trainset)\n",
    "                        predictions = algo.test(testset)\n",
    "                        rmse_value = accuracy.rmse(predictions, verbose=False)\n",
    "                        mse_value = accuracy.mse(predictions, verbose=False)\n",
    "                        mae_value = accuracy.mae(predictions, verbose=False)\n",
    "                        result_dict = {\n",
    "                            'community_detector': detector_name,\n",
    "                            'algorithm_rec': algo_name,\n",
    "                            'test_size': test_size,\n",
    "                            'split_id': split_id,\n",
    "                            'rmse': rmse_value,\n",
    "                            'mse': mse_value,\n",
    "                            'mae': mae_value\n",
    "                            }\n",
    "                        results.append(result_dict)\n",
    "                    else:\n",
    "                        trainpd, testpd = uncouple(trainset, testset)\n",
    "                        users_id = sorted(\n",
    "                                list(\n",
    "                                    set(\n",
    "                                        trainpd['uid']\n",
    "                                        )\n",
    "                                    )\n",
    "                                )\n",
    "                        temp = trainpd.copy()\n",
    "                        temp.rename(columns={\n",
    "                            'uid': 'source',\n",
    "                            'iid': 'target',\n",
    "                            'rating': 'weight'\n",
    "                        }, inplace=True)\n",
    "                        crg = nx.from_pandas_edgelist(temp, source='source', target='target', edge_attr='weight')\n",
    "                        g = nx.bipartite.generic_weighted_projected_graph(crg, \n",
    "                                                  users_id, wf\n",
    "                                                  )\n",
    "                        if detector_name == 'Louvain':\n",
    "                            coms = community_detector(g.copy())\n",
    "                        elif detector_name == 'EdMot':\n",
    "                            community_detector.fit(g.copy())\n",
    "                            coms = community_detector.get_memberships()\n",
    "                        else:\n",
    "                            coms = community_detector(g.copy()).communities\n",
    "                        all_predictions = []\n",
    "                        for community in tqdm(coms, desc='👤 Communities progress', leave=False):\n",
    "                            train_community = trainpd[trainpd['uid'].isin(community)]\n",
    "                            test_community = testpd[testpd['uid'].isin(community)]\n",
    "                            train_surprise = Dataset.load_from_df(train_community[['uid', 'iid', 'rating']], reader)\n",
    "                            train_surprise = train_surprise.build_full_trainset()\n",
    "                            test_community = test_community.astype(\n",
    "                                {'uid':'float', 'iid':'float', 'rating':'float'}\n",
    "                                )\n",
    "                            test_surprise = list(test_community.itertuples(index=False, name=None))\n",
    "                            algo.fit(train_surprise)\n",
    "                            predictions = algo.test(test_surprise) \n",
    "                            all_predictions.extend(predictions)\n",
    "                        \n",
    "                        rmse_value = accuracy.rmse(all_predictions, verbose=False)\n",
    "                        mse_value = accuracy.mse(all_predictions, verbose=False)\n",
    "                        mae_value = accuracy.mae(all_predictions, verbose=False)\n",
    "                        result_dict = {\n",
    "                                'community_detector': detector_name,\n",
    "                                'algorithm_rec': algo_name,\n",
    "                                'test_size': test_size,\n",
    "                                'split_id': split_id,\n",
    "                                'rmse': rmse_value,\n",
    "                                'mse': mse_value,\n",
    "                                'mae': mae_value\n",
    "                            }\n",
    "                        results.append(result_dict)                               \n",
    "            split_id += 1\n",
    "            \n",
    "# -- Saving results in a .csv file\n",
    "df_results = pd.DataFrame(results)\n",
    "file_name = f'synt_results.csv'\n",
    "notebook_dir = os.getcwd()\n",
    "outputs_dir = notebook_dir.replace('notebooks', 'outputs')\n",
    "file_path = os.path.join(outputs_dir, file_name)\n",
    "df_results.to_csv(file_path, index=False)\n",
    "            "
   ]
  },
  {
   "attachments": {},
   "cell_type": "markdown",
   "metadata": {},
   "source": [
    "### Next Steps:\n",
    "* Investigate if very small communities may be affecting performance.\n",
    "* Investigate if the comparison is appropriate -- e.g., is it possible that there is someone in the test set without a community?\n",
    "* Can a larger network lead to performance improvement?"
   ]
  }
 ],
 "metadata": {
  "kernelspec": {
   "display_name": "mscenv",
   "language": "python",
   "name": "python3"
  },
  "language_info": {
   "codemirror_mode": {
    "name": "ipython",
    "version": 3
   },
   "file_extension": ".py",
   "mimetype": "text/x-python",
   "name": "python",
   "nbconvert_exporter": "python",
   "pygments_lexer": "ipython3",
   "version": "3.9.13"
  },
  "orig_nbformat": 4
 },
 "nbformat": 4,
 "nbformat_minor": 2
}
