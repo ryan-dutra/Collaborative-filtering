{
 "cells": [
  {
   "attachments": {},
   "cell_type": "markdown",
   "metadata": {},
   "source": [
    "## CoReComm  \n",
    "`Collaborative Recommendation with Community Detection (CoReComm)`\n",
    "\n",
    "⚠️ This Jupyter notebook aims to conduct an experimental study to evaluate the performance of various collaborative filtering algorithms when combined with community detection techniques.\n",
    "The algorithms will be evaluated based on RMSE, MSE and MAE metrics and the results will be saved in `.csv` file for further analysis."
   ]
  },
  {
   "attachments": {},
   "cell_type": "markdown",
   "metadata": {},
   "source": [
    "### ⚙️ Environment settings"
   ]
  },
  {
   "cell_type": "code",
   "execution_count": 13,
   "metadata": {},
   "outputs": [
    {
     "data": {
      "text/plain": [
       "'\\n    Importing needed libs\\n'"
      ]
     },
     "execution_count": 13,
     "metadata": {},
     "output_type": "execute_result"
    }
   ],
   "source": [
    "\"\"\"\n",
    "    Importing needed libs\n",
    "\"\"\""
   ]
  },
  {
   "cell_type": "code",
   "execution_count": 14,
   "metadata": {},
   "outputs": [],
   "source": [
    "import os\n",
    "import time\n",
    "import numpy as np\n",
    "import pandas as pd\n",
    "from typing import List\n",
    "from surprise import (\n",
    "    accuracy,\n",
    "    Reader,\n",
    "    Dataset,\n",
    "    CoClustering,\n",
    "    KNNBasic,\n",
    "    NMF,\n",
    "    SVD,\n",
    "    SlopeOne,\n",
    "    NormalPredictor\n",
    ")\n",
    "from surprise.model_selection.split import ShuffleSplit\n",
    "from surprise.trainset import Trainset\n",
    "import networkx as nx\n",
    "import cdlib.algorithms as cd_alg\n",
    "import karateclub as kc\n",
    "from tqdm.notebook import tqdm\n",
    "from sklearn.metrics.pairwise import pairwise_distances\n",
    "import matplotlib.pyplot as plt\n",
    "import warnings\n",
    "warnings.filterwarnings(\"ignore\")"
   ]
  },
  {
   "cell_type": "code",
   "execution_count": 15,
   "metadata": {},
   "outputs": [
    {
     "data": {
      "text/plain": [
       "'\\n    Setting up functions\\n'"
      ]
     },
     "execution_count": 15,
     "metadata": {},
     "output_type": "execute_result"
    }
   ],
   "source": [
    "\"\"\"\n",
    "    Setting up functions\n",
    "\"\"\""
   ]
  },
  {
   "cell_type": "code",
   "execution_count": 16,
   "metadata": {},
   "outputs": [],
   "source": [
    "def uncouple(train_set: Trainset, test_set: list):\n",
    "    \"\"\"\n",
    "    Description:\n",
    "        It takes in a Trainset-Surprise object and \n",
    "        a list of test set data, and returns two pandas \n",
    "        dataframes: one containing the training set \n",
    "        data, and the other containing the test set \n",
    "        data.\n",
    "    Input: \n",
    "        train_set: a Trainset object containing the \n",
    "        training set data. \n",
    "        test_set: a list containing the test set data\n",
    "    Output:\n",
    "        df_train: a pandas dataframe containing the \n",
    "        training set data, with columns 'uid', 'iid' \n",
    "        and 'rating'\n",
    "        df_test: a pandas dataframe containing the test \n",
    "        set data, with columns 'uid', 'iid', and 'rating'\n",
    "    \"\"\"\n",
    "    iterator = train_set.all_ratings()\n",
    "    df_train = pd.DataFrame(train_set.all_ratings(), columns=['uid', 'iid', 'rating'])\n",
    "    df_test = pd.DataFrame.from_records(test_set, columns = ['uid', 'iid', 'rating'])\n",
    "    \n",
    "    return df_train, df_test\n",
    "\n",
    "\n",
    "def communitarian_recommendation_graph(\n",
    "        n_user=100,\n",
    "        n_comm=10,\n",
    "        n_item=100,\n",
    "        n_cat=10,\n",
    "        like_prob=.4,\n",
    "        like_strength=.5,\n",
    "        debug=False,\n",
    "    ):\n",
    "\n",
    "    user_comm_gt = np.random.choice(n_comm, n_user)\n",
    "    user_comm_gt.sort()\n",
    "    bincount_user = np.bincount(user_comm_gt, minlength=n_comm)\n",
    "\n",
    "    if debug:\n",
    "        display('user', user_comm_gt, bincount_user)\n",
    "\n",
    "    item_cat_gt = np.random.choice(n_cat, n_item)\n",
    "    item_cat_gt.sort()\n",
    "    bincount_item = np.bincount(item_cat_gt, minlength=n_cat)\n",
    "\n",
    "    if debug:\n",
    "        display('item', item_cat_gt, bincount_item)\n",
    "\n",
    "    L = np.random.choice(2, (n_comm, n_cat), p=[1-like_prob, like_prob])\n",
    "\n",
    "    L_prime = like_strength * L + (1-like_strength)/2\n",
    "\n",
    "    P = np.block([\n",
    "        [ np.zeros((n_comm,n_comm)) , L_prime                 ],\n",
    "        [ L_prime.T                 , np.zeros((n_cat,n_cat)) ]\n",
    "    ])\n",
    "\n",
    "    if debug:\n",
    "        display('like', L, L_prime, P)\n",
    "\n",
    "    sbg = nx.stochastic_block_model(\n",
    "        np.hstack((bincount_user, bincount_item)),\n",
    "        P\n",
    "    )\n",
    "\n",
    "    if debug:\n",
    "        try:\n",
    "            nx.draw_networkx(\n",
    "                sbg,\n",
    "                nx.bipartite_layout(sbg, nx.bipartite.sets(sbg)[0]),\n",
    "                node_color=np.hstack((user_comm_gt, item_cat_gt))\n",
    "            )\n",
    "        except nx.AmbiguousSolution as e:\n",
    "            print(e)            \n",
    "\n",
    "        plt.show()\n",
    "\n",
    "    for user, item, data in sbg.edges(data=True):\n",
    "        data['weight'] = np.random.randint(1,4) + 2*L[user_comm_gt[user], item_cat_gt[item-n_user]]\n",
    "\n",
    "    if debug:\n",
    "        display(np.mean([w['weight'] for user, item, w in sbg.edges(data=True) if L[user_comm_gt[min(user, item)], item_cat_gt[max(user, item)-n_user]]]))\n",
    "        display(np.mean([w['weight'] for user, item, w in sbg.edges(data=True) if not L[user_comm_gt[min(user, item)], item_cat_gt[max(user, item)-n_user]]]))\n",
    "        \n",
    "    return sbg, user_comm_gt, item_cat_gt\n",
    "\n",
    "\n",
    "#def wf(G, u, v):\n",
    "#    w = 0    \n",
    "#    for nbr in set(G[u]) & set(G[v]):\n",
    "#        w += (G[u][nbr]['weight'] - G[v][nbr]['weight']) ** 2\n",
    "#    return 1/(1 + w)\n",
    "\n",
    "def wf(G, u, v):\n",
    "    w = np.mean([(G[u][nbr]['weight'] - G[v][nbr]['weight']) ** 2 for nbr in set(G[u]) & set(G[v])])\n",
    "    return 1/(1 + w)\n",
    "\n",
    "\n",
    "def internal_density(graph , community):\n",
    "    \"\"\"\n",
    "    Calculates the internal density of a community in a graph.\n",
    "    :param graph: The input graph.\n",
    "    :type graph: NetworkX graph object.\n",
    "    :param community: The community of interest.\n",
    "    :type community: List of nodes.\n",
    "\n",
    "    :return: The internal density of the community.\n",
    "    :rtype: float between 0 and 1.\n",
    "    \"\"\"\n",
    "    num_edges = 0\n",
    "    num_nodes = len(community)\n",
    "    for u, v in graph.edges(community):\n",
    "        num_edges += 1\n",
    "    max_edges = num_nodes * (num_nodes - 1) / 2\n",
    "    if max_edges > 0:\n",
    "        return num_edges / max_edges\n",
    "    else:\n",
    "        return 0.0\n"
   ]
  },
  {
   "cell_type": "code",
   "execution_count": 17,
   "metadata": {},
   "outputs": [
    {
     "data": {
      "text/plain": [
       "'\\n    Setting up experiment algorithms \\n'"
      ]
     },
     "execution_count": 17,
     "metadata": {},
     "output_type": "execute_result"
    }
   ],
   "source": [
    "\"\"\"\n",
    "    Setting up experiment algorithms \n",
    "\"\"\""
   ]
  },
  {
   "cell_type": "code",
   "execution_count": 18,
   "metadata": {},
   "outputs": [],
   "source": [
    "algos_recommendation = {\n",
    "    'NormalPredictor': NormalPredictor(),\n",
    "    'SVD': SVD(verbose=False),\n",
    "    'k-NN': KNNBasic(verbose=False), \n",
    "    'NMF': NMF(verbose=False), \n",
    "    'Co-Clustering': CoClustering(verbose=False),\n",
    "    'SlopeOne': SlopeOne()\n",
    "}\n",
    "\n",
    "communities_detectors = {\n",
    "    'Not-Applicable': None,\n",
    "    'Louvain': nx.community.louvain_communities,\n",
    "    'Paris': cd_alg.paris\n",
    "}"
   ]
  },
  {
   "attachments": {},
   "cell_type": "markdown",
   "metadata": {},
   "source": [
    "### 🖥️ Synthetic data generation"
   ]
  },
  {
   "cell_type": "code",
   "execution_count": 21,
   "metadata": {},
   "outputs": [
    {
     "data": {
      "text/html": [
       "<div>\n",
       "<style scoped>\n",
       "    .dataframe tbody tr th:only-of-type {\n",
       "        vertical-align: middle;\n",
       "    }\n",
       "\n",
       "    .dataframe tbody tr th {\n",
       "        vertical-align: top;\n",
       "    }\n",
       "\n",
       "    .dataframe thead th {\n",
       "        text-align: right;\n",
       "    }\n",
       "</style>\n",
       "<table border=\"1\" class=\"dataframe\">\n",
       "  <thead>\n",
       "    <tr style=\"text-align: right;\">\n",
       "      <th></th>\n",
       "      <th>uid</th>\n",
       "      <th>iid</th>\n",
       "      <th>rating</th>\n",
       "    </tr>\n",
       "  </thead>\n",
       "  <tbody>\n",
       "    <tr>\n",
       "      <th>0</th>\n",
       "      <td>0</td>\n",
       "      <td>100</td>\n",
       "      <td>3</td>\n",
       "    </tr>\n",
       "    <tr>\n",
       "      <th>1</th>\n",
       "      <td>0</td>\n",
       "      <td>102</td>\n",
       "      <td>5</td>\n",
       "    </tr>\n",
       "    <tr>\n",
       "      <th>2</th>\n",
       "      <td>0</td>\n",
       "      <td>103</td>\n",
       "      <td>5</td>\n",
       "    </tr>\n",
       "    <tr>\n",
       "      <th>3</th>\n",
       "      <td>0</td>\n",
       "      <td>105</td>\n",
       "      <td>5</td>\n",
       "    </tr>\n",
       "    <tr>\n",
       "      <th>4</th>\n",
       "      <td>0</td>\n",
       "      <td>106</td>\n",
       "      <td>3</td>\n",
       "    </tr>\n",
       "    <tr>\n",
       "      <th>...</th>\n",
       "      <td>...</td>\n",
       "      <td>...</td>\n",
       "      <td>...</td>\n",
       "    </tr>\n",
       "    <tr>\n",
       "      <th>4924</th>\n",
       "      <td>95</td>\n",
       "      <td>178</td>\n",
       "      <td>2</td>\n",
       "    </tr>\n",
       "    <tr>\n",
       "      <th>4925</th>\n",
       "      <td>95</td>\n",
       "      <td>188</td>\n",
       "      <td>1</td>\n",
       "    </tr>\n",
       "    <tr>\n",
       "      <th>4926</th>\n",
       "      <td>95</td>\n",
       "      <td>196</td>\n",
       "      <td>3</td>\n",
       "    </tr>\n",
       "    <tr>\n",
       "      <th>4927</th>\n",
       "      <td>95</td>\n",
       "      <td>190</td>\n",
       "      <td>3</td>\n",
       "    </tr>\n",
       "    <tr>\n",
       "      <th>4928</th>\n",
       "      <td>95</td>\n",
       "      <td>191</td>\n",
       "      <td>2</td>\n",
       "    </tr>\n",
       "  </tbody>\n",
       "</table>\n",
       "<p>4929 rows × 3 columns</p>\n",
       "</div>"
      ],
      "text/plain": [
       "      uid  iid  rating\n",
       "0       0  100       3\n",
       "1       0  102       5\n",
       "2       0  103       5\n",
       "3       0  105       5\n",
       "4       0  106       3\n",
       "...   ...  ...     ...\n",
       "4924   95  178       2\n",
       "4925   95  188       1\n",
       "4926   95  196       3\n",
       "4927   95  190       3\n",
       "4928   95  191       2\n",
       "\n",
       "[4929 rows x 3 columns]"
      ]
     },
     "execution_count": 21,
     "metadata": {},
     "output_type": "execute_result"
    }
   ],
   "source": [
    "crg, user_comm_gt, item_cat_gt = communitarian_recommendation_graph(debug=False)\n",
    "data = nx.to_pandas_edgelist(crg)\n",
    "data.rename(columns={\n",
    "        'source': 'uid',\n",
    "        'target': 'iid',\n",
    "        'weight': 'rating'\n",
    "}, inplace=True)\n",
    "data"
   ]
  },
  {
   "cell_type": "code",
   "execution_count": 22,
   "metadata": {},
   "outputs": [
    {
     "data": {
      "text/html": [
       "<div>\n",
       "<style scoped>\n",
       "    .dataframe tbody tr th:only-of-type {\n",
       "        vertical-align: middle;\n",
       "    }\n",
       "\n",
       "    .dataframe tbody tr th {\n",
       "        vertical-align: top;\n",
       "    }\n",
       "\n",
       "    .dataframe thead th {\n",
       "        text-align: right;\n",
       "    }\n",
       "</style>\n",
       "<table border=\"1\" class=\"dataframe\">\n",
       "  <thead>\n",
       "    <tr style=\"text-align: right;\">\n",
       "      <th></th>\n",
       "      <th># Users</th>\n",
       "      <th># Itens</th>\n",
       "      <th># Ratings</th>\n",
       "    </tr>\n",
       "  </thead>\n",
       "  <tbody>\n",
       "    <tr>\n",
       "      <th>0</th>\n",
       "      <td>100</td>\n",
       "      <td>100</td>\n",
       "      <td>4929</td>\n",
       "    </tr>\n",
       "  </tbody>\n",
       "</table>\n",
       "</div>"
      ],
      "text/plain": [
       "   # Users  # Itens  # Ratings\n",
       "0      100      100       4929"
      ]
     },
     "execution_count": 22,
     "metadata": {},
     "output_type": "execute_result"
    }
   ],
   "source": [
    "pd.DataFrame({'# Users': [data['uid'].nunique()],\n",
    "              '# Itens': [data['iid'].nunique()],\n",
    "              '# Ratings': [data.shape[0]]\n",
    "              }\n",
    "             )"
   ]
  },
  {
   "cell_type": "code",
   "execution_count": 23,
   "metadata": {},
   "outputs": [
    {
     "data": {
      "image/png": "[encoded data removed]",
      "text/plain": [
       "<Figure size 640x480 with 1 Axes>"
      ]
     },
     "metadata": {},
     "output_type": "display_data"
    }
   ],
   "source": [
    "ax = data['rating'].value_counts().sort_index().plot(kind='bar', color='navy', width=0.8)\n",
    "plt.title('Rating Distribution')\n",
    "plt.xlabel('Rating')\n",
    "plt.ylabel('Count')\n",
    "plt.xticks(rotation='horizontal')\n",
    "ax.spines['right'].set_visible(False)\n",
    "ax.spines['top'].set_visible(False)\n",
    "ax.spines['left'].set_visible(False)\n",
    "ax.spines['bottom'].set_visible(False)\n",
    "ax.tick_params(left=False, bottom=False)\n",
    "ax.grid(axis='y', linestyle='--', alpha=0.7)\n",
    "plt.show()"
   ]
  },
  {
   "attachments": {},
   "cell_type": "markdown",
   "metadata": {},
   "source": [
    "### Running experiment"
   ]
  },
  {
   "cell_type": "code",
   "execution_count": 24,
   "metadata": {},
   "outputs": [
    {
     "name": "stdout",
     "output_type": "stream",
     "text": [
      "<class 'surprise.dataset.DatasetAutoFolds'>\n"
     ]
    },
    {
     "data": {
      "text/html": [
       "<div>\n",
       "<style scoped>\n",
       "    .dataframe tbody tr th:only-of-type {\n",
       "        vertical-align: middle;\n",
       "    }\n",
       "\n",
       "    .dataframe tbody tr th {\n",
       "        vertical-align: top;\n",
       "    }\n",
       "\n",
       "    .dataframe thead th {\n",
       "        text-align: right;\n",
       "    }\n",
       "</style>\n",
       "<table border=\"1\" class=\"dataframe\">\n",
       "  <thead>\n",
       "    <tr style=\"text-align: right;\">\n",
       "      <th></th>\n",
       "      <th># Users</th>\n",
       "      <th># Itens</th>\n",
       "      <th># Ratings</th>\n",
       "    </tr>\n",
       "  </thead>\n",
       "  <tbody>\n",
       "    <tr>\n",
       "      <th>0</th>\n",
       "      <td>100</td>\n",
       "      <td>100</td>\n",
       "      <td>4929</td>\n",
       "    </tr>\n",
       "  </tbody>\n",
       "</table>\n",
       "</div>"
      ],
      "text/plain": [
       "   # Users  # Itens  # Ratings\n",
       "0      100      100       4929"
      ]
     },
     "execution_count": 24,
     "metadata": {},
     "output_type": "execute_result"
    }
   ],
   "source": [
    "reader = Reader(rating_scale=(1, 5))\n",
    "dataset = Dataset.load_from_df(\n",
    "    data[[\"uid\", \"iid\", \"rating\"]], reader\n",
    "    )\n",
    "\n",
    "print(type(dataset))\n",
    "pd.DataFrame({'# Users': [len(set([user_id for (user_id, _, _, _) in dataset.raw_ratings]))],\n",
    "              '# Itens': [len(set([item_id for (_, item_id, _, _) in dataset.raw_ratings]))],\n",
    "              '# Ratings': [len(dataset.raw_ratings)]\n",
    "              }\n",
    "             )"
   ]
  },
  {
   "cell_type": "code",
   "execution_count": 25,
   "metadata": {},
   "outputs": [
    {
     "data": {
      "application/vnd.jupyter.widget-view+json": {
       "model_id": "de57366502014312ab70349107b8570b",
       "version_major": 2,
       "version_minor": 0
      },
      "text/plain": [
       "📊 Test Size Progress:   0%|          | 0/3 [00:00<?, ?it/s]"
      ]
     },
     "metadata": {},
     "output_type": "display_data"
    },
    {
     "data": {
      "application/vnd.jupyter.widget-view+json": {
       "model_id": "6e5b3a76ec27462083e32b085a4b81ec",
       "version_major": 2,
       "version_minor": 0
      },
      "text/plain": [
       "➗ Splits Progress: 0it [00:00, ?it/s]"
      ]
     },
     "metadata": {},
     "output_type": "display_data"
    },
    {
     "data": {
      "application/vnd.jupyter.widget-view+json": {
       "model_id": "f2b3c161ab8642c9b3d7e5a78cf38faa",
       "version_major": 2,
       "version_minor": 0
      },
      "text/plain": [
       "🕸️ Community Detector Progress:   0%|          | 0/3 [00:00<?, ?it/s]"
      ]
     },
     "metadata": {},
     "output_type": "display_data"
    },
    {
     "data": {
      "application/vnd.jupyter.widget-view+json": {
       "model_id": "160f8231b22a4ee0a73c31905e736d64",
       "version_major": 2,
       "version_minor": 0
      },
      "text/plain": [
       "👾 Algorithm Progress:   0%|          | 0/6 [00:00<?, ?it/s]"
      ]
     },
     "metadata": {},
     "output_type": "display_data"
    },
    {
     "data": {
      "application/vnd.jupyter.widget-view+json": {
       "model_id": "942f596f4c334becb942277a1d5a77a0",
       "version_major": 2,
       "version_minor": 0
      },
      "text/plain": [
       "👾 Algorithm Progress:   0%|          | 0/6 [00:00<?, ?it/s]"
      ]
     },
     "metadata": {},
     "output_type": "display_data"
    },
    {
     "data": {
      "application/vnd.jupyter.widget-view+json": {
       "model_id": "60e6d7f274ee40a88274ad2f3e138373",
       "version_major": 2,
       "version_minor": 0
      },
      "text/plain": [
       "👾 Algorithm Progress:   0%|          | 0/6 [00:00<?, ?it/s]"
      ]
     },
     "metadata": {},
     "output_type": "display_data"
    },
    {
     "data": {
      "application/vnd.jupyter.widget-view+json": {
       "model_id": "535593e86b644bc088ef7da8e3478b6e",
       "version_major": 2,
       "version_minor": 0
      },
      "text/plain": [
       "🕸️ Community Detector Progress:   0%|          | 0/3 [00:00<?, ?it/s]"
      ]
     },
     "metadata": {},
     "output_type": "display_data"
    },
    {
     "data": {
      "application/vnd.jupyter.widget-view+json": {
       "model_id": "3668430c852a4c86a9f0cd75da582c11",
       "version_major": 2,
       "version_minor": 0
      },
      "text/plain": [
       "👾 Algorithm Progress:   0%|          | 0/6 [00:00<?, ?it/s]"
      ]
     },
     "metadata": {},
     "output_type": "display_data"
    },
    {
     "data": {
      "application/vnd.jupyter.widget-view+json": {
       "model_id": "fba3ab6301564a1682a743fae303170b",
       "version_major": 2,
       "version_minor": 0
      },
      "text/plain": [
       "👾 Algorithm Progress:   0%|          | 0/6 [00:00<?, ?it/s]"
      ]
     },
     "metadata": {},
     "output_type": "display_data"
    },
    {
     "data": {
      "application/vnd.jupyter.widget-view+json": {
       "model_id": "f45ec2b3b9054449bbc5bfa5e6ebba9a",
       "version_major": 2,
       "version_minor": 0
      },
      "text/plain": [
       "👾 Algorithm Progress:   0%|          | 0/6 [00:00<?, ?it/s]"
      ]
     },
     "metadata": {},
     "output_type": "display_data"
    },
    {
     "data": {
      "application/vnd.jupyter.widget-view+json": {
       "model_id": "93928b603ff7433caa8015eb96f4ed05",
       "version_major": 2,
       "version_minor": 0
      },
      "text/plain": [
       "🕸️ Community Detector Progress:   0%|          | 0/3 [00:00<?, ?it/s]"
      ]
     },
     "metadata": {},
     "output_type": "display_data"
    },
    {
     "data": {
      "application/vnd.jupyter.widget-view+json": {
       "model_id": "3d6e91e24e014e54a1b544d482b21733",
       "version_major": 2,
       "version_minor": 0
      },
      "text/plain": [
       "👾 Algorithm Progress:   0%|          | 0/6 [00:00<?, ?it/s]"
      ]
     },
     "metadata": {},
     "output_type": "display_data"
    },
    {
     "data": {
      "application/vnd.jupyter.widget-view+json": {
       "model_id": "7a5e9aed7ed84525be98cdf51b92e133",
       "version_major": 2,
       "version_minor": 0
      },
      "text/plain": [
       "👾 Algorithm Progress:   0%|          | 0/6 [00:00<?, ?it/s]"
      ]
     },
     "metadata": {},
     "output_type": "display_data"
    },
    {
     "data": {
      "application/vnd.jupyter.widget-view+json": {
       "model_id": "fc1b2e7c0b354d58a96e7fb3332df4fc",
       "version_major": 2,
       "version_minor": 0
      },
      "text/plain": [
       "👾 Algorithm Progress:   0%|          | 0/6 [00:00<?, ?it/s]"
      ]
     },
     "metadata": {},
     "output_type": "display_data"
    },
    {
     "data": {
      "application/vnd.jupyter.widget-view+json": {
       "model_id": "b227d2655b804dbba662fd9dbbc6e819",
       "version_major": 2,
       "version_minor": 0
      },
      "text/plain": [
       "🕸️ Community Detector Progress:   0%|          | 0/3 [00:00<?, ?it/s]"
      ]
     },
     "metadata": {},
     "output_type": "display_data"
    },
    {
     "data": {
      "application/vnd.jupyter.widget-view+json": {
       "model_id": "1ce7809008664b9ab3dae69e5372ffd7",
       "version_major": 2,
       "version_minor": 0
      },
      "text/plain": [
       "👾 Algorithm Progress:   0%|          | 0/6 [00:00<?, ?it/s]"
      ]
     },
     "metadata": {},
     "output_type": "display_data"
    },
    {
     "data": {
      "application/vnd.jupyter.widget-view+json": {
       "model_id": "1fe9becefd8a4c83b7f4bb14825e6a71",
       "version_major": 2,
       "version_minor": 0
      },
      "text/plain": [
       "👾 Algorithm Progress:   0%|          | 0/6 [00:00<?, ?it/s]"
      ]
     },
     "metadata": {},
     "output_type": "display_data"
    },
    {
     "data": {
      "application/vnd.jupyter.widget-view+json": {
       "model_id": "0ae9709c92c84c08ba619fc11be621c0",
       "version_major": 2,
       "version_minor": 0
      },
      "text/plain": [
       "👾 Algorithm Progress:   0%|          | 0/6 [00:00<?, ?it/s]"
      ]
     },
     "metadata": {},
     "output_type": "display_data"
    },
    {
     "data": {
      "application/vnd.jupyter.widget-view+json": {
       "model_id": "873f6ed8c251430f8beeb55e9cff93a9",
       "version_major": 2,
       "version_minor": 0
      },
      "text/plain": [
       "🕸️ Community Detector Progress:   0%|          | 0/3 [00:00<?, ?it/s]"
      ]
     },
     "metadata": {},
     "output_type": "display_data"
    },
    {
     "data": {
      "application/vnd.jupyter.widget-view+json": {
       "model_id": "152c3dd311d14e7dbb6a84513a3bc00b",
       "version_major": 2,
       "version_minor": 0
      },
      "text/plain": [
       "👾 Algorithm Progress:   0%|          | 0/6 [00:00<?, ?it/s]"
      ]
     },
     "metadata": {},
     "output_type": "display_data"
    },
    {
     "data": {
      "application/vnd.jupyter.widget-view+json": {
       "model_id": "41c6dc3531a74db08b78305d2c946f19",
       "version_major": 2,
       "version_minor": 0
      },
      "text/plain": [
       "👾 Algorithm Progress:   0%|          | 0/6 [00:00<?, ?it/s]"
      ]
     },
     "metadata": {},
     "output_type": "display_data"
    },
    {
     "data": {
      "application/vnd.jupyter.widget-view+json": {
       "model_id": "630d6ce70d3141a5b02b23a44abb3275",
       "version_major": 2,
       "version_minor": 0
      },
      "text/plain": [
       "👾 Algorithm Progress:   0%|          | 0/6 [00:00<?, ?it/s]"
      ]
     },
     "metadata": {},
     "output_type": "display_data"
    },
    {
     "data": {
      "application/vnd.jupyter.widget-view+json": {
       "model_id": "29a57b13ab564a318986aded59f716e8",
       "version_major": 2,
       "version_minor": 0
      },
      "text/plain": [
       "➗ Splits Progress: 0it [00:00, ?it/s]"
      ]
     },
     "metadata": {},
     "output_type": "display_data"
    },
    {
     "data": {
      "application/vnd.jupyter.widget-view+json": {
       "model_id": "238ebe22b04b45b0a59250411e6cebad",
       "version_major": 2,
       "version_minor": 0
      },
      "text/plain": [
       "🕸️ Community Detector Progress:   0%|          | 0/3 [00:00<?, ?it/s]"
      ]
     },
     "metadata": {},
     "output_type": "display_data"
    },
    {
     "data": {
      "application/vnd.jupyter.widget-view+json": {
       "model_id": "a682b07908dd4b75b73db0d0279a9c64",
       "version_major": 2,
       "version_minor": 0
      },
      "text/plain": [
       "👾 Algorithm Progress:   0%|          | 0/6 [00:00<?, ?it/s]"
      ]
     },
     "metadata": {},
     "output_type": "display_data"
    },
    {
     "data": {
      "application/vnd.jupyter.widget-view+json": {
       "model_id": "f8fdfac311b748b0b0d57b23605b0e49",
       "version_major": 2,
       "version_minor": 0
      },
      "text/plain": [
       "👾 Algorithm Progress:   0%|          | 0/6 [00:00<?, ?it/s]"
      ]
     },
     "metadata": {},
     "output_type": "display_data"
    },
    {
     "data": {
      "application/vnd.jupyter.widget-view+json": {
       "model_id": "895a51d9d995459f99d59cd2678aaec1",
       "version_major": 2,
       "version_minor": 0
      },
      "text/plain": [
       "👾 Algorithm Progress:   0%|          | 0/6 [00:00<?, ?it/s]"
      ]
     },
     "metadata": {},
     "output_type": "display_data"
    },
    {
     "data": {
      "application/vnd.jupyter.widget-view+json": {
       "model_id": "fc3ecae4112f4e0a84940296ade0a20e",
       "version_major": 2,
       "version_minor": 0
      },
      "text/plain": [
       "🕸️ Community Detector Progress:   0%|          | 0/3 [00:00<?, ?it/s]"
      ]
     },
     "metadata": {},
     "output_type": "display_data"
    },
    {
     "data": {
      "application/vnd.jupyter.widget-view+json": {
       "model_id": "9728af59940b44fda7afc8a0aabc79af",
       "version_major": 2,
       "version_minor": 0
      },
      "text/plain": [
       "👾 Algorithm Progress:   0%|          | 0/6 [00:00<?, ?it/s]"
      ]
     },
     "metadata": {},
     "output_type": "display_data"
    },
    {
     "data": {
      "application/vnd.jupyter.widget-view+json": {
       "model_id": "e5b3ec781a37457893f096be051953c7",
       "version_major": 2,
       "version_minor": 0
      },
      "text/plain": [
       "👾 Algorithm Progress:   0%|          | 0/6 [00:00<?, ?it/s]"
      ]
     },
     "metadata": {},
     "output_type": "display_data"
    },
    {
     "data": {
      "application/vnd.jupyter.widget-view+json": {
       "model_id": "3c231919b9074cefa2cd44a43f7ff6aa",
       "version_major": 2,
       "version_minor": 0
      },
      "text/plain": [
       "👾 Algorithm Progress:   0%|          | 0/6 [00:00<?, ?it/s]"
      ]
     },
     "metadata": {},
     "output_type": "display_data"
    },
    {
     "data": {
      "application/vnd.jupyter.widget-view+json": {
       "model_id": "29d09d1cf0d64e7db26e210e90bb047d",
       "version_major": 2,
       "version_minor": 0
      },
      "text/plain": [
       "🕸️ Community Detector Progress:   0%|          | 0/3 [00:00<?, ?it/s]"
      ]
     },
     "metadata": {},
     "output_type": "display_data"
    },
    {
     "data": {
      "application/vnd.jupyter.widget-view+json": {
       "model_id": "e568c554663649329922cd8b77f81212",
       "version_major": 2,
       "version_minor": 0
      },
      "text/plain": [
       "👾 Algorithm Progress:   0%|          | 0/6 [00:00<?, ?it/s]"
      ]
     },
     "metadata": {},
     "output_type": "display_data"
    },
    {
     "data": {
      "application/vnd.jupyter.widget-view+json": {
       "model_id": "8a61392df7394cc6bf503984b759e4cf",
       "version_major": 2,
       "version_minor": 0
      },
      "text/plain": [
       "👾 Algorithm Progress:   0%|          | 0/6 [00:00<?, ?it/s]"
      ]
     },
     "metadata": {},
     "output_type": "display_data"
    },
    {
     "data": {
      "application/vnd.jupyter.widget-view+json": {
       "model_id": "ecd3b1712e854f308c215d8ffee27315",
       "version_major": 2,
       "version_minor": 0
      },
      "text/plain": [
       "👾 Algorithm Progress:   0%|          | 0/6 [00:00<?, ?it/s]"
      ]
     },
     "metadata": {},
     "output_type": "display_data"
    },
    {
     "data": {
      "application/vnd.jupyter.widget-view+json": {
       "model_id": "c26331f7a5f540d7a8cb7c94bf60aa5a",
       "version_major": 2,
       "version_minor": 0
      },
      "text/plain": [
       "🕸️ Community Detector Progress:   0%|          | 0/3 [00:00<?, ?it/s]"
      ]
     },
     "metadata": {},
     "output_type": "display_data"
    },
    {
     "data": {
      "application/vnd.jupyter.widget-view+json": {
       "model_id": "bbbd78927a8546278b532306e76ded14",
       "version_major": 2,
       "version_minor": 0
      },
      "text/plain": [
       "👾 Algorithm Progress:   0%|          | 0/6 [00:00<?, ?it/s]"
      ]
     },
     "metadata": {},
     "output_type": "display_data"
    },
    {
     "data": {
      "application/vnd.jupyter.widget-view+json": {
       "model_id": "562d29c277634b7698223e5784fac25d",
       "version_major": 2,
       "version_minor": 0
      },
      "text/plain": [
       "👾 Algorithm Progress:   0%|          | 0/6 [00:00<?, ?it/s]"
      ]
     },
     "metadata": {},
     "output_type": "display_data"
    },
    {
     "data": {
      "application/vnd.jupyter.widget-view+json": {
       "model_id": "5eafbf1801a74889bc865f1c614baac4",
       "version_major": 2,
       "version_minor": 0
      },
      "text/plain": [
       "👾 Algorithm Progress:   0%|          | 0/6 [00:00<?, ?it/s]"
      ]
     },
     "metadata": {},
     "output_type": "display_data"
    },
    {
     "data": {
      "application/vnd.jupyter.widget-view+json": {
       "model_id": "4b62e0c03c9d4ac08d5ece0ccb8832c2",
       "version_major": 2,
       "version_minor": 0
      },
      "text/plain": [
       "🕸️ Community Detector Progress:   0%|          | 0/3 [00:00<?, ?it/s]"
      ]
     },
     "metadata": {},
     "output_type": "display_data"
    },
    {
     "data": {
      "application/vnd.jupyter.widget-view+json": {
       "model_id": "5f2c6599fb174126ba4e11332cf2710b",
       "version_major": 2,
       "version_minor": 0
      },
      "text/plain": [
       "👾 Algorithm Progress:   0%|          | 0/6 [00:00<?, ?it/s]"
      ]
     },
     "metadata": {},
     "output_type": "display_data"
    },
    {
     "data": {
      "application/vnd.jupyter.widget-view+json": {
       "model_id": "0c554a5914374609a5410c55f44ae4cd",
       "version_major": 2,
       "version_minor": 0
      },
      "text/plain": [
       "👾 Algorithm Progress:   0%|          | 0/6 [00:00<?, ?it/s]"
      ]
     },
     "metadata": {},
     "output_type": "display_data"
    },
    {
     "data": {
      "application/vnd.jupyter.widget-view+json": {
       "model_id": "b7d705031fe543a3802936f1f9fdc75d",
       "version_major": 2,
       "version_minor": 0
      },
      "text/plain": [
       "👾 Algorithm Progress:   0%|          | 0/6 [00:00<?, ?it/s]"
      ]
     },
     "metadata": {},
     "output_type": "display_data"
    },
    {
     "data": {
      "application/vnd.jupyter.widget-view+json": {
       "model_id": "f8132d9a31444c6c880eb93bc4da8050",
       "version_major": 2,
       "version_minor": 0
      },
      "text/plain": [
       "➗ Splits Progress: 0it [00:00, ?it/s]"
      ]
     },
     "metadata": {},
     "output_type": "display_data"
    },
    {
     "data": {
      "application/vnd.jupyter.widget-view+json": {
       "model_id": "a13c6da7e5564d488210ed6f1e671dfe",
       "version_major": 2,
       "version_minor": 0
      },
      "text/plain": [
       "🕸️ Community Detector Progress:   0%|          | 0/3 [00:00<?, ?it/s]"
      ]
     },
     "metadata": {},
     "output_type": "display_data"
    },
    {
     "data": {
      "application/vnd.jupyter.widget-view+json": {
       "model_id": "c1050abca5044dbaa54b8da13b088418",
       "version_major": 2,
       "version_minor": 0
      },
      "text/plain": [
       "👾 Algorithm Progress:   0%|          | 0/6 [00:00<?, ?it/s]"
      ]
     },
     "metadata": {},
     "output_type": "display_data"
    },
    {
     "data": {
      "application/vnd.jupyter.widget-view+json": {
       "model_id": "b5a42cedc3674917ae3ccd7e87af000f",
       "version_major": 2,
       "version_minor": 0
      },
      "text/plain": [
       "👾 Algorithm Progress:   0%|          | 0/6 [00:00<?, ?it/s]"
      ]
     },
     "metadata": {},
     "output_type": "display_data"
    },
    {
     "data": {
      "application/vnd.jupyter.widget-view+json": {
       "model_id": "ef7f27757bdd481aaa8dd7887c2ec78a",
       "version_major": 2,
       "version_minor": 0
      },
      "text/plain": [
       "👾 Algorithm Progress:   0%|          | 0/6 [00:00<?, ?it/s]"
      ]
     },
     "metadata": {},
     "output_type": "display_data"
    },
    {
     "data": {
      "application/vnd.jupyter.widget-view+json": {
       "model_id": "e58ed19b0e0e422ba489c73d5050fd8c",
       "version_major": 2,
       "version_minor": 0
      },
      "text/plain": [
       "🕸️ Community Detector Progress:   0%|          | 0/3 [00:00<?, ?it/s]"
      ]
     },
     "metadata": {},
     "output_type": "display_data"
    },
    {
     "data": {
      "application/vnd.jupyter.widget-view+json": {
       "model_id": "8f9fb8890d10472ebf1c881bedb5ef92",
       "version_major": 2,
       "version_minor": 0
      },
      "text/plain": [
       "👾 Algorithm Progress:   0%|          | 0/6 [00:00<?, ?it/s]"
      ]
     },
     "metadata": {},
     "output_type": "display_data"
    },
    {
     "data": {
      "application/vnd.jupyter.widget-view+json": {
       "model_id": "108588bd6dfe4d0cba2989970f1755fb",
       "version_major": 2,
       "version_minor": 0
      },
      "text/plain": [
       "👾 Algorithm Progress:   0%|          | 0/6 [00:00<?, ?it/s]"
      ]
     },
     "metadata": {},
     "output_type": "display_data"
    },
    {
     "data": {
      "application/vnd.jupyter.widget-view+json": {
       "model_id": "fc2b69272abf417eb8e3a79a89c2c77d",
       "version_major": 2,
       "version_minor": 0
      },
      "text/plain": [
       "👾 Algorithm Progress:   0%|          | 0/6 [00:00<?, ?it/s]"
      ]
     },
     "metadata": {},
     "output_type": "display_data"
    },
    {
     "data": {
      "application/vnd.jupyter.widget-view+json": {
       "model_id": "50aa179c1c074e70a41c2a6a70d72433",
       "version_major": 2,
       "version_minor": 0
      },
      "text/plain": [
       "🕸️ Community Detector Progress:   0%|          | 0/3 [00:00<?, ?it/s]"
      ]
     },
     "metadata": {},
     "output_type": "display_data"
    },
    {
     "data": {
      "application/vnd.jupyter.widget-view+json": {
       "model_id": "76d230d11c474eb9aff909166596ba94",
       "version_major": 2,
       "version_minor": 0
      },
      "text/plain": [
       "👾 Algorithm Progress:   0%|          | 0/6 [00:00<?, ?it/s]"
      ]
     },
     "metadata": {},
     "output_type": "display_data"
    },
    {
     "data": {
      "application/vnd.jupyter.widget-view+json": {
       "model_id": "e245d5e55cfa40d7897287ec0e4310bd",
       "version_major": 2,
       "version_minor": 0
      },
      "text/plain": [
       "👾 Algorithm Progress:   0%|          | 0/6 [00:00<?, ?it/s]"
      ]
     },
     "metadata": {},
     "output_type": "display_data"
    },
    {
     "data": {
      "application/vnd.jupyter.widget-view+json": {
       "model_id": "c71402facf164deeb61fabc300f3306c",
       "version_major": 2,
       "version_minor": 0
      },
      "text/plain": [
       "👾 Algorithm Progress:   0%|          | 0/6 [00:00<?, ?it/s]"
      ]
     },
     "metadata": {},
     "output_type": "display_data"
    },
    {
     "data": {
      "application/vnd.jupyter.widget-view+json": {
       "model_id": "3c9f00d17fc34491904cd6b1bdeae1a5",
       "version_major": 2,
       "version_minor": 0
      },
      "text/plain": [
       "🕸️ Community Detector Progress:   0%|          | 0/3 [00:00<?, ?it/s]"
      ]
     },
     "metadata": {},
     "output_type": "display_data"
    },
    {
     "data": {
      "application/vnd.jupyter.widget-view+json": {
       "model_id": "81810056158544dabd53066df121bb24",
       "version_major": 2,
       "version_minor": 0
      },
      "text/plain": [
       "👾 Algorithm Progress:   0%|          | 0/6 [00:00<?, ?it/s]"
      ]
     },
     "metadata": {},
     "output_type": "display_data"
    },
    {
     "data": {
      "application/vnd.jupyter.widget-view+json": {
       "model_id": "33b40ff4818a4068a90b09bcc0eec2b2",
       "version_major": 2,
       "version_minor": 0
      },
      "text/plain": [
       "👾 Algorithm Progress:   0%|          | 0/6 [00:00<?, ?it/s]"
      ]
     },
     "metadata": {},
     "output_type": "display_data"
    },
    {
     "data": {
      "application/vnd.jupyter.widget-view+json": {
       "model_id": "c890c8a2712f4c8593ae597fa3097f85",
       "version_major": 2,
       "version_minor": 0
      },
      "text/plain": [
       "👾 Algorithm Progress:   0%|          | 0/6 [00:00<?, ?it/s]"
      ]
     },
     "metadata": {},
     "output_type": "display_data"
    },
    {
     "data": {
      "application/vnd.jupyter.widget-view+json": {
       "model_id": "5c1f56695ab443be8e7dcf3cc1530040",
       "version_major": 2,
       "version_minor": 0
      },
      "text/plain": [
       "🕸️ Community Detector Progress:   0%|          | 0/3 [00:00<?, ?it/s]"
      ]
     },
     "metadata": {},
     "output_type": "display_data"
    },
    {
     "data": {
      "application/vnd.jupyter.widget-view+json": {
       "model_id": "a3f7d1ceaa974b7cad55a5fb04a374bb",
       "version_major": 2,
       "version_minor": 0
      },
      "text/plain": [
       "👾 Algorithm Progress:   0%|          | 0/6 [00:00<?, ?it/s]"
      ]
     },
     "metadata": {},
     "output_type": "display_data"
    },
    {
     "data": {
      "application/vnd.jupyter.widget-view+json": {
       "model_id": "c71387c23665401b81b911bdcf633098",
       "version_major": 2,
       "version_minor": 0
      },
      "text/plain": [
       "👾 Algorithm Progress:   0%|          | 0/6 [00:00<?, ?it/s]"
      ]
     },
     "metadata": {},
     "output_type": "display_data"
    },
    {
     "data": {
      "application/vnd.jupyter.widget-view+json": {
       "model_id": "f85d6fd011164ceaa977f85531623e58",
       "version_major": 2,
       "version_minor": 0
      },
      "text/plain": [
       "👾 Algorithm Progress:   0%|          | 0/6 [00:00<?, ?it/s]"
      ]
     },
     "metadata": {},
     "output_type": "display_data"
    }
   ],
   "source": [
    "results=[]\n",
    "tracking=[]\n",
    "for test_size in tqdm([0.25, 0.1, 0.01], desc='📊 Test Size Progress', leave=True):\n",
    "        shuffle_split = ShuffleSplit(n_splits=5, test_size=test_size)\n",
    "        split_id = 1\n",
    "        for trainset, testset in tqdm(shuffle_split.split(dataset), desc='➗ Splits Progress', leave=False):\n",
    "            for detector_name, community_detector in tqdm(communities_detectors.items(), desc='🕸️ Community Detector Progress', leave=False):\n",
    "                if community_detector != None:\n",
    "                    trainpd, testpd = uncouple(trainset, testset)\n",
    "                    users_id = sorted(\n",
    "                            list(\n",
    "                                set(\n",
    "                                    trainpd['uid']\n",
    "                                    )\n",
    "                                )\n",
    "                            )\n",
    "                    temp = trainpd.copy()\n",
    "                    temp.rename(columns={\n",
    "                        'uid': 'source',\n",
    "                        'iid': 'target',\n",
    "                        'rating': 'weight'\n",
    "                    }, inplace=True)\n",
    "                    crg = nx.from_pandas_edgelist(temp, source='source', target='target', edge_attr='weight')\n",
    "                    g = nx.bipartite.generic_weighted_projected_graph(crg, \n",
    "                                                users_id, wf\n",
    "                                                )\n",
    "                    if detector_name == 'Louvain':\n",
    "                        coms = community_detector(g.copy())\n",
    "                    else:\n",
    "                        coms = community_detector(g.copy()).communities\n",
    "\n",
    "                    densities = {}\n",
    "                    for i, com in enumerate(coms):\n",
    "                        density = internal_density(g, com)\n",
    "                        densities[i] = density\n",
    "                    densities = dict(sorted(densities.items(), \n",
    "                                            key=lambda x: x[1], reverse=True)\n",
    "                                        )\n",
    "                for algo_name, algo in  tqdm(algos_recommendation.items(), desc='👾 Algorithm Progress', leave=False):\n",
    "                    if community_detector == None:\n",
    "                        start_time = time.time()\n",
    "                        algo.fit(trainset)\n",
    "                        training_time = time.time() - start_time\n",
    "                        start_time = time.time()\n",
    "                        predictions = algo.test(testset)\n",
    "                        testing_time = time.time() - start_time\n",
    "                        rmse_value = accuracy.rmse(predictions, verbose=False)\n",
    "                        mse_value = accuracy.mse(predictions, verbose=False)\n",
    "                        mae_value = accuracy.mae(predictions, verbose=False)\n",
    "                        result_dict = {\n",
    "                            'community_detector': detector_name,\n",
    "                            'used_communities': np.nan,\n",
    "                            'algorithm_rec': algo_name,\n",
    "                            'test_size': test_size,\n",
    "                            'split_id': split_id,\n",
    "                            'rmse': rmse_value,\n",
    "                            'mse': mse_value,\n",
    "                            'mae': mae_value\n",
    "                            }\n",
    "                        tracking_dict = {\n",
    "                            'community_detector': detector_name,\n",
    "                            'used_communities': np.nan,\n",
    "                            'community': np.nan,\n",
    "                            'algorithm_rec': algo_name,\n",
    "                            'test_size': test_size,\n",
    "                            'split_id': split_id,\n",
    "                            'train_runtime': training_time,\n",
    "                            'test_runtime': testing_time,    \n",
    "                        }\n",
    "                        results.append(result_dict)\n",
    "                        tracking.append(tracking_dict)\n",
    "                    else:\n",
    "                        all_predictions = []\n",
    "                        for n in range(1, len(densities) + 1):\n",
    "                            most_dense_communities = list(\n",
    "                                densities.keys()\n",
    "                                )[:n]\n",
    "                            for m in most_dense_communities:\n",
    "                                community=coms[m]\n",
    "                                train_community = trainpd[trainpd['uid'].isin(community)]\n",
    "                                test_community = testpd[testpd['uid'].isin(community)]\n",
    "                                train_surprise = Dataset.load_from_df(train_community[['uid', 'iid', 'rating']], reader)\n",
    "                                train_surprise = train_surprise.build_full_trainset()\n",
    "                                test_community = test_community.astype(\n",
    "                                    {'uid':'float', 'iid':'float', 'rating':'float'}\n",
    "                                    )\n",
    "                                test_surprise = list(test_community.itertuples(index=False, name=None))\n",
    "                                \n",
    "                                start_time = time.time()\n",
    "                                algo.fit(train_surprise)\n",
    "                                training_time = time.time() - start_time\n",
    "                                start_time = time.time()\n",
    "                                predictions = algo.test(test_surprise) \n",
    "                                testing_time = time.time() - start_time\n",
    "                                all_predictions.extend(predictions)\n",
    "                                tracking_dict = {\n",
    "                                    'community_detector': detector_name,\n",
    "                                    'used_communities': n,\n",
    "                                    'community': m,\n",
    "                                    'algorithm_rec': algo_name,\n",
    "                                    'test_size': test_size,\n",
    "                                    'split_id': split_id,\n",
    "                                    'train_runtime': training_time,\n",
    "                                    'test_runtime': testing_time,    \n",
    "                                }\n",
    "                                tracking.append(tracking_dict)\n",
    "                                \n",
    "                            if len(most_dense_communities) < len(densities):\n",
    "                                train_community = trainpd[~trainpd['uid'].isin(community)]\n",
    "                                test_community = testpd[~testpd['uid'].isin(community)]\n",
    "                                train_surprise = Dataset.load_from_df(train_community[['uid', 'iid', 'rating']], reader)\n",
    "                                train_surprise = train_surprise.build_full_trainset()\n",
    "                                test_community = test_community.astype(\n",
    "                                    {'uid':'float', 'iid':'float', 'rating':'float'}\n",
    "                                    )\n",
    "                                test_surprise = list(test_community.itertuples(index=False, name=None))\n",
    "                                start_time = time.time()\n",
    "                                algo.fit(train_surprise)\n",
    "                                training_time = time.time() - start_time\n",
    "                                start_time = time.time()\n",
    "                                predictions = algo.test(test_surprise) \n",
    "                                testing_time = time.time() - start_time\n",
    "                                all_predictions.extend(predictions)\n",
    "                                tracking_dict = {\n",
    "                                    'community_detector': detector_name,\n",
    "                                    'used_communities': n,\n",
    "                                    'community': 99, # 99 means `all the others communities`\n",
    "                                    'algorithm_rec': algo_name,\n",
    "                                    'test_size': test_size,\n",
    "                                    'split_id': split_id,\n",
    "                                    'train_runtime': training_time,\n",
    "                                    'test_runtime': testing_time,    \n",
    "                                }\n",
    "                                tracking.append(tracking_dict)\n",
    "                                    \n",
    "                            rmse_value = accuracy.rmse(all_predictions, verbose=False)\n",
    "                            mse_value = accuracy.mse(all_predictions, verbose=False)\n",
    "                            mae_value = accuracy.mae(all_predictions, verbose=False)\n",
    "                            result_dict = {\n",
    "                                    'community_detector': detector_name,\n",
    "                                    'used_communities': n,  \n",
    "                                    'algorithm_rec': algo_name,\n",
    "                                    'test_size': test_size,\n",
    "                                    'split_id': split_id,\n",
    "                                    'rmse': rmse_value,\n",
    "                                    'mse': mse_value,\n",
    "                                    'mae': mae_value\n",
    "                                }\n",
    "                            results.append(result_dict)            \n",
    "            split_id += 1  \n",
    "       \n",
    "       \n",
    "                            \n",
    "notebook_dir = os.getcwd()\n",
    "outputs_dir = notebook_dir.replace('notebooks', 'outputs')\n",
    "\n",
    "df_results = pd.DataFrame(results)\n",
    "file_name = f'synt_results.csv'\n",
    "file_path = os.path.join(outputs_dir, file_name)\n",
    "df_results.to_csv(file_path, index=False)\n",
    "\n",
    "df_tracking = pd.DataFrame(tracking)\n",
    "file_name = f'synt_tracking.csv'\n",
    "file_path = os.path.join(outputs_dir, file_name)\n",
    "df_tracking.to_csv(file_path, index=False)        "
   ]
  },
  {
   "cell_type": "code",
   "execution_count": null,
   "metadata": {},
   "outputs": [],
   "source": []
  }
 ],
 "metadata": {
  "kernelspec": {
   "display_name": "mscenv",
   "language": "python",
   "name": "python3"
  },
  "language_info": {
   "codemirror_mode": {
    "name": "ipython",
    "version": 3
   },
   "file_extension": ".py",
   "mimetype": "text/x-python",
   "name": "python",
   "nbconvert_exporter": "python",
   "pygments_lexer": "ipython3",
   "version": "3.9.13"
  },
  "orig_nbformat": 4
 },
 "nbformat": 4,
 "nbformat_minor": 2
}
