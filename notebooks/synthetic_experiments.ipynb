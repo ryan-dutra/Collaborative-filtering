{
 "cells": [
  {
   "attachments": {},
   "cell_type": "markdown",
   "metadata": {},
   "source": [
    "## CoReComm  \n",
    "`Collaborative Recommendation with Community Detection (CoReComm)`\n",
    "\n",
    "⚠️ This Jupyter notebook aims to conduct an experimental study to evaluate the performance of various collaborative filtering algorithms when combined with community detection techniques.\n",
    "The algorithms will be evaluated based on RMSE, MSE and MAE metrics and the results will be saved in `.csv` file for further analysis."
   ]
  },
  {
   "attachments": {},
   "cell_type": "markdown",
   "metadata": {},
   "source": [
    "### ⚙️ Environment settings"
   ]
  },
  {
   "cell_type": "code",
   "execution_count": 1,
   "metadata": {},
   "outputs": [
    {
     "data": {
      "text/plain": [
       "'\\n    Importing needed libs\\n'"
      ]
     },
     "execution_count": 1,
     "metadata": {},
     "output_type": "execute_result"
    }
   ],
   "source": [
    "\"\"\"\n",
    "    Importing needed libs\n",
    "\"\"\""
   ]
  },
  {
   "cell_type": "code",
   "execution_count": 41,
   "metadata": {},
   "outputs": [],
   "source": [
    "import os\n",
    "import time\n",
    "import numpy as np\n",
    "import pandas as pd\n",
    "from typing import List\n",
    "from surprise import (\n",
    "    accuracy,\n",
    "    Reader,\n",
    "    Dataset,\n",
    "    CoClustering,\n",
    "    KNNBasic,\n",
    "    NMF,\n",
    "    SVD\n",
    ")\n",
    "from surprise.model_selection.split import ShuffleSplit\n",
    "from surprise.trainset import Trainset\n",
    "import networkx as nx\n",
    "import cdlib.algorithms as cd_alg\n",
    "import karateclub as kc\n",
    "from tqdm.notebook import tqdm\n",
    "from sklearn.metrics.pairwise import pairwise_distances\n",
    "import matplotlib.pyplot as plt\n",
    "import warnings\n",
    "warnings.filterwarnings(\"ignore\")"
   ]
  },
  {
   "cell_type": "code",
   "execution_count": 5,
   "metadata": {},
   "outputs": [
    {
     "data": {
      "text/plain": [
       "'\\n    Setting up functions\\n'"
      ]
     },
     "execution_count": 5,
     "metadata": {},
     "output_type": "execute_result"
    }
   ],
   "source": [
    "\"\"\"\n",
    "    Setting up functions\n",
    "\"\"\""
   ]
  },
  {
   "cell_type": "code",
   "execution_count": 6,
   "metadata": {},
   "outputs": [],
   "source": [
    "def uncouple(train_set: Trainset, test_set: list):\n",
    "    \"\"\"\n",
    "    Description:\n",
    "        It takes in a Trainset-Surprise object and \n",
    "        a list of test set data, and returns two pandas \n",
    "        dataframes: one containing the training set \n",
    "        data, and the other containing the test set \n",
    "        data.\n",
    "    Input: \n",
    "        train_set: a Trainset object containing the \n",
    "        training set data. \n",
    "        test_set: a list containing the test set data\n",
    "    Output:\n",
    "        df_train: a pandas dataframe containing the \n",
    "        training set data, with columns 'uid', 'iid' \n",
    "        and 'rating'\n",
    "        df_test: a pandas dataframe containing the test \n",
    "        set data, with columns 'uid', 'iid', and 'rating'\n",
    "    \"\"\"\n",
    "    iterator = train_set.all_ratings()\n",
    "    df_train = pd.DataFrame(train_set.all_ratings(), columns=['uid', 'iid', 'rating'])\n",
    "    df_test = pd.DataFrame.from_records(test_set, columns = ['uid', 'iid', 'rating'])\n",
    "    \n",
    "    return df_train, df_test\n",
    "\n",
    "\n",
    "def communitarian_recommendation_graph(\n",
    "        n_user=100,\n",
    "        n_comm=10,\n",
    "        n_item=100,\n",
    "        n_cat=10,\n",
    "        like_prob=.4,\n",
    "        like_strength=.5,\n",
    "        debug=False,\n",
    "    ):\n",
    "\n",
    "    user_comm_gt = np.random.choice(n_comm, n_user)\n",
    "    user_comm_gt.sort()\n",
    "    bincount_user = np.bincount(user_comm_gt, minlength=n_comm)\n",
    "\n",
    "    if debug:\n",
    "        display('user', user_comm_gt, bincount_user)\n",
    "\n",
    "    item_cat_gt = np.random.choice(n_cat, n_item)\n",
    "    item_cat_gt.sort()\n",
    "    bincount_item = np.bincount(item_cat_gt, minlength=n_cat)\n",
    "\n",
    "    if debug:\n",
    "        display('item', item_cat_gt, bincount_item)\n",
    "\n",
    "    L = np.random.choice(2, (n_comm, n_cat), p=[1-like_prob, like_prob])\n",
    "\n",
    "    L_prime = like_strength * L + (1-like_strength)/2\n",
    "\n",
    "    P = np.block([\n",
    "        [ np.zeros((n_comm,n_comm)) , L_prime                 ],\n",
    "        [ L_prime.T                 , np.zeros((n_cat,n_cat)) ]\n",
    "    ])\n",
    "\n",
    "    if debug:\n",
    "        display('like', L, L_prime, P)\n",
    "\n",
    "    sbg = nx.stochastic_block_model(\n",
    "        np.hstack((bincount_user, bincount_item)),\n",
    "        P\n",
    "    )\n",
    "\n",
    "    if debug:\n",
    "        try:\n",
    "            nx.draw_networkx(\n",
    "                sbg,\n",
    "                nx.bipartite_layout(sbg, nx.bipartite.sets(sbg)[0]),\n",
    "                node_color=np.hstack((user_comm_gt, item_cat_gt))\n",
    "            )\n",
    "        except nx.AmbiguousSolution as e:\n",
    "            print(e)            \n",
    "\n",
    "        plt.show()\n",
    "\n",
    "    for user, item, data in sbg.edges(data=True):\n",
    "        data['weight'] = np.random.randint(1,4) + 2*L[user_comm_gt[user], item_cat_gt[item-n_user]]\n",
    "\n",
    "    if debug:\n",
    "        display(np.mean([w['weight'] for user, item, w in sbg.edges(data=True) if L[user_comm_gt[min(user, item)], item_cat_gt[max(user, item)-n_user]]]))\n",
    "        display(np.mean([w['weight'] for user, item, w in sbg.edges(data=True) if not L[user_comm_gt[min(user, item)], item_cat_gt[max(user, item)-n_user]]]))\n",
    "        \n",
    "    return sbg, user_comm_gt, item_cat_gt\n",
    "\n",
    "\n",
    "def wf(G, u, v):\n",
    "    w = 0    \n",
    "    for nbr in set(G[u]) & set(G[v]):\n",
    "        w += (G[u][nbr]['weight'] - G[v][nbr]['weight']) ** 2\n",
    "    return 1/(1 + w)\n",
    "\n",
    "\n",
    "def internal_density(graph , community):\n",
    "    \"\"\"\n",
    "    Calculates the internal density of a community in a graph.\n",
    "    :param graph: The input graph.\n",
    "    :type graph: NetworkX graph object.\n",
    "    :param community: The community of interest.\n",
    "    :type community: List of nodes.\n",
    "\n",
    "    :return: The internal density of the community.\n",
    "    :rtype: float between 0 and 1.\n",
    "    \"\"\"\n",
    "    num_edges = 0\n",
    "    num_nodes = len(community)\n",
    "    for u, v in graph.edges(community):\n",
    "        num_edges += 1\n",
    "    max_edges = num_nodes * (num_nodes - 1) / 2\n",
    "    if max_edges > 0:\n",
    "        return num_edges / max_edges\n",
    "    else:\n",
    "        return 0.0\n"
   ]
  },
  {
   "cell_type": "code",
   "execution_count": 7,
   "metadata": {},
   "outputs": [
    {
     "data": {
      "text/plain": [
       "'\\n    Setting up experiment algorithms \\n'"
      ]
     },
     "execution_count": 7,
     "metadata": {},
     "output_type": "execute_result"
    }
   ],
   "source": [
    "\"\"\"\n",
    "    Setting up experiment algorithms \n",
    "\"\"\""
   ]
  },
  {
   "cell_type": "code",
   "execution_count": 18,
   "metadata": {},
   "outputs": [],
   "source": [
    "algos_recommendation = {\n",
    "    'SVD': SVD(verbose=False),\n",
    "#    'k-NN': KNNBasic(verbose=False), \n",
    "#    'NMF': NMF(verbose=False), \n",
    "#    'Co-Clustering': CoClustering(verbose=False)\n",
    "}\n",
    "\n",
    "communities_detectors = {\n",
    "    'Not-Applicable': None,\n",
    "    'Louvain': nx.community.louvain_communities,\n",
    "#    'Paris': cd_alg.paris\n",
    "}"
   ]
  },
  {
   "attachments": {},
   "cell_type": "markdown",
   "metadata": {},
   "source": [
    "### 🖥️ Synthetic data generation"
   ]
  },
  {
   "cell_type": "code",
   "execution_count": 19,
   "metadata": {},
   "outputs": [
    {
     "data": {
      "text/html": [
       "<div>\n",
       "<style scoped>\n",
       "    .dataframe tbody tr th:only-of-type {\n",
       "        vertical-align: middle;\n",
       "    }\n",
       "\n",
       "    .dataframe tbody tr th {\n",
       "        vertical-align: top;\n",
       "    }\n",
       "\n",
       "    .dataframe thead th {\n",
       "        text-align: right;\n",
       "    }\n",
       "</style>\n",
       "<table border=\"1\" class=\"dataframe\">\n",
       "  <thead>\n",
       "    <tr style=\"text-align: right;\">\n",
       "      <th></th>\n",
       "      <th>uid</th>\n",
       "      <th>iid</th>\n",
       "      <th>rating</th>\n",
       "    </tr>\n",
       "  </thead>\n",
       "  <tbody>\n",
       "    <tr>\n",
       "      <th>0</th>\n",
       "      <td>0</td>\n",
       "      <td>103</td>\n",
       "      <td>3</td>\n",
       "    </tr>\n",
       "    <tr>\n",
       "      <th>1</th>\n",
       "      <td>0</td>\n",
       "      <td>104</td>\n",
       "      <td>3</td>\n",
       "    </tr>\n",
       "    <tr>\n",
       "      <th>2</th>\n",
       "      <td>0</td>\n",
       "      <td>106</td>\n",
       "      <td>3</td>\n",
       "    </tr>\n",
       "    <tr>\n",
       "      <th>3</th>\n",
       "      <td>0</td>\n",
       "      <td>109</td>\n",
       "      <td>5</td>\n",
       "    </tr>\n",
       "    <tr>\n",
       "      <th>4</th>\n",
       "      <td>0</td>\n",
       "      <td>111</td>\n",
       "      <td>3</td>\n",
       "    </tr>\n",
       "    <tr>\n",
       "      <th>...</th>\n",
       "      <td>...</td>\n",
       "      <td>...</td>\n",
       "      <td>...</td>\n",
       "    </tr>\n",
       "    <tr>\n",
       "      <th>4366</th>\n",
       "      <td>95</td>\n",
       "      <td>194</td>\n",
       "      <td>5</td>\n",
       "    </tr>\n",
       "    <tr>\n",
       "      <th>4367</th>\n",
       "      <td>95</td>\n",
       "      <td>195</td>\n",
       "      <td>3</td>\n",
       "    </tr>\n",
       "    <tr>\n",
       "      <th>4368</th>\n",
       "      <td>95</td>\n",
       "      <td>196</td>\n",
       "      <td>5</td>\n",
       "    </tr>\n",
       "    <tr>\n",
       "      <th>4369</th>\n",
       "      <td>95</td>\n",
       "      <td>197</td>\n",
       "      <td>4</td>\n",
       "    </tr>\n",
       "    <tr>\n",
       "      <th>4370</th>\n",
       "      <td>95</td>\n",
       "      <td>198</td>\n",
       "      <td>3</td>\n",
       "    </tr>\n",
       "  </tbody>\n",
       "</table>\n",
       "<p>4371 rows × 3 columns</p>\n",
       "</div>"
      ],
      "text/plain": [
       "      uid  iid  rating\n",
       "0       0  103       3\n",
       "1       0  104       3\n",
       "2       0  106       3\n",
       "3       0  109       5\n",
       "4       0  111       3\n",
       "...   ...  ...     ...\n",
       "4366   95  194       5\n",
       "4367   95  195       3\n",
       "4368   95  196       5\n",
       "4369   95  197       4\n",
       "4370   95  198       3\n",
       "\n",
       "[4371 rows x 3 columns]"
      ]
     },
     "execution_count": 19,
     "metadata": {},
     "output_type": "execute_result"
    }
   ],
   "source": [
    "crg, user_comm_gt, item_cat_gt = communitarian_recommendation_graph(debug=False)\n",
    "data = nx.to_pandas_edgelist(crg)\n",
    "data.rename(columns={\n",
    "        'source': 'uid',\n",
    "        'target': 'iid',\n",
    "        'weight': 'rating'\n",
    "}, inplace=True)\n",
    "data"
   ]
  },
  {
   "cell_type": "code",
   "execution_count": 20,
   "metadata": {},
   "outputs": [
    {
     "data": {
      "text/html": [
       "<div>\n",
       "<style scoped>\n",
       "    .dataframe tbody tr th:only-of-type {\n",
       "        vertical-align: middle;\n",
       "    }\n",
       "\n",
       "    .dataframe tbody tr th {\n",
       "        vertical-align: top;\n",
       "    }\n",
       "\n",
       "    .dataframe thead th {\n",
       "        text-align: right;\n",
       "    }\n",
       "</style>\n",
       "<table border=\"1\" class=\"dataframe\">\n",
       "  <thead>\n",
       "    <tr style=\"text-align: right;\">\n",
       "      <th></th>\n",
       "      <th># Users</th>\n",
       "      <th># Itens</th>\n",
       "      <th># Ratings</th>\n",
       "    </tr>\n",
       "  </thead>\n",
       "  <tbody>\n",
       "    <tr>\n",
       "      <th>0</th>\n",
       "      <td>100</td>\n",
       "      <td>100</td>\n",
       "      <td>4371</td>\n",
       "    </tr>\n",
       "  </tbody>\n",
       "</table>\n",
       "</div>"
      ],
      "text/plain": [
       "   # Users  # Itens  # Ratings\n",
       "0      100      100       4371"
      ]
     },
     "execution_count": 20,
     "metadata": {},
     "output_type": "execute_result"
    }
   ],
   "source": [
    "pd.DataFrame({'# Users': [data['uid'].nunique()],\n",
    "              '# Itens': [data['iid'].nunique()],\n",
    "              '# Ratings': [data.shape[0]]\n",
    "              }\n",
    "             )"
   ]
  },
  {
   "cell_type": "code",
   "execution_count": 21,
   "metadata": {},
   "outputs": [
    {
     "data": {
      "image/png": "[encoded data removed]",
      "text/plain": [
       "<Figure size 640x480 with 1 Axes>"
      ]
     },
     "metadata": {},
     "output_type": "display_data"
    }
   ],
   "source": [
    "ax = data['rating'].value_counts().sort_index().plot(kind='bar', color='navy', width=0.8)\n",
    "plt.title('Rating Distribution')\n",
    "plt.xlabel('Rating')\n",
    "plt.ylabel('Count')\n",
    "plt.xticks(rotation='horizontal')\n",
    "ax.spines['right'].set_visible(False)\n",
    "ax.spines['top'].set_visible(False)\n",
    "ax.spines['left'].set_visible(False)\n",
    "ax.spines['bottom'].set_visible(False)\n",
    "ax.tick_params(left=False, bottom=False)\n",
    "ax.grid(axis='y', linestyle='--', alpha=0.7)\n",
    "plt.show()"
   ]
  },
  {
   "attachments": {},
   "cell_type": "markdown",
   "metadata": {},
   "source": [
    "### Running experiment"
   ]
  },
  {
   "cell_type": "code",
   "execution_count": 22,
   "metadata": {},
   "outputs": [
    {
     "name": "stdout",
     "output_type": "stream",
     "text": [
      "<class 'surprise.dataset.DatasetAutoFolds'>\n"
     ]
    },
    {
     "data": {
      "text/html": [
       "<div>\n",
       "<style scoped>\n",
       "    .dataframe tbody tr th:only-of-type {\n",
       "        vertical-align: middle;\n",
       "    }\n",
       "\n",
       "    .dataframe tbody tr th {\n",
       "        vertical-align: top;\n",
       "    }\n",
       "\n",
       "    .dataframe thead th {\n",
       "        text-align: right;\n",
       "    }\n",
       "</style>\n",
       "<table border=\"1\" class=\"dataframe\">\n",
       "  <thead>\n",
       "    <tr style=\"text-align: right;\">\n",
       "      <th></th>\n",
       "      <th># Users</th>\n",
       "      <th># Itens</th>\n",
       "      <th># Ratings</th>\n",
       "    </tr>\n",
       "  </thead>\n",
       "  <tbody>\n",
       "    <tr>\n",
       "      <th>0</th>\n",
       "      <td>100</td>\n",
       "      <td>100</td>\n",
       "      <td>4371</td>\n",
       "    </tr>\n",
       "  </tbody>\n",
       "</table>\n",
       "</div>"
      ],
      "text/plain": [
       "   # Users  # Itens  # Ratings\n",
       "0      100      100       4371"
      ]
     },
     "execution_count": 22,
     "metadata": {},
     "output_type": "execute_result"
    }
   ],
   "source": [
    "reader = Reader(rating_scale=(1, 5))\n",
    "dataset = Dataset.load_from_df(\n",
    "    data[[\"uid\", \"iid\", \"rating\"]], reader\n",
    "    )\n",
    "\n",
    "print(type(dataset))\n",
    "pd.DataFrame({'# Users': [len(set([user_id for (user_id, _, _, _) in dataset.raw_ratings]))],\n",
    "              '# Itens': [len(set([item_id for (_, item_id, _, _) in dataset.raw_ratings]))],\n",
    "              '# Ratings': [len(dataset.raw_ratings)]\n",
    "              }\n",
    "             )"
   ]
  },
  {
   "cell_type": "code",
   "execution_count": 48,
   "metadata": {},
   "outputs": [
    {
     "data": {
      "application/vnd.jupyter.widget-view+json": {
       "model_id": "75c898ed642a45bfbc8a5205fdd8db24",
       "version_major": 2,
       "version_minor": 0
      },
      "text/plain": [
       "📊 Test Size Progress:   0%|          | 0/1 [00:00<?, ?it/s]"
      ]
     },
     "metadata": {},
     "output_type": "display_data"
    },
    {
     "data": {
      "application/vnd.jupyter.widget-view+json": {
       "model_id": "e0b1cafc18e848ae8aa4f26d0e53f2c9",
       "version_major": 2,
       "version_minor": 0
      },
      "text/plain": [
       "➗ Splits Progress: 0it [00:00, ?it/s]"
      ]
     },
     "metadata": {},
     "output_type": "display_data"
    },
    {
     "data": {
      "application/vnd.jupyter.widget-view+json": {
       "model_id": "3ef0c7dbb9c24b1d9c1954911078315e",
       "version_major": 2,
       "version_minor": 0
      },
      "text/plain": [
       "🕸️ Community Detector Progress:   0%|          | 0/2 [00:00<?, ?it/s]"
      ]
     },
     "metadata": {},
     "output_type": "display_data"
    },
    {
     "data": {
      "application/vnd.jupyter.widget-view+json": {
       "model_id": "145b8b2d03b64dbbb4d5cdd1e969a636",
       "version_major": 2,
       "version_minor": 0
      },
      "text/plain": [
       "👾 Algorithm Progress:   0%|          | 0/1 [00:00<?, ?it/s]"
      ]
     },
     "metadata": {},
     "output_type": "display_data"
    },
    {
     "data": {
      "application/vnd.jupyter.widget-view+json": {
       "model_id": "76320b688cfb4d2aadfa0e6dc773a3f9",
       "version_major": 2,
       "version_minor": 0
      },
      "text/plain": [
       "👾 Algorithm Progress:   0%|          | 0/1 [00:00<?, ?it/s]"
      ]
     },
     "metadata": {},
     "output_type": "display_data"
    }
   ],
   "source": [
    "results=[]\n",
    "for test_size in tqdm([0.25], desc='📊 Test Size Progress', leave=True):\n",
    "        shuffle_split = ShuffleSplit(n_splits=1, test_size=test_size)\n",
    "        split_id = 1\n",
    "        tracking=[]\n",
    "        for trainset, testset in tqdm(shuffle_split.split(dataset), desc='➗ Splits Progress', leave=False):\n",
    "            for detector_name, community_detector in tqdm(communities_detectors.items(), desc='🕸️ Community Detector Progress', leave=False):\n",
    "                if community_detector != None:\n",
    "                    trainpd, testpd = uncouple(trainset, testset)\n",
    "                    users_id = sorted(\n",
    "                            list(\n",
    "                                set(\n",
    "                                    trainpd['uid']\n",
    "                                    )\n",
    "                                )\n",
    "                            )\n",
    "                    temp = trainpd.copy()\n",
    "                    temp.rename(columns={\n",
    "                        'uid': 'source',\n",
    "                        'iid': 'target',\n",
    "                        'rating': 'weight'\n",
    "                    }, inplace=True)\n",
    "                    crg = nx.from_pandas_edgelist(temp, source='source', target='target', edge_attr='weight')\n",
    "                    g = nx.bipartite.generic_weighted_projected_graph(crg, \n",
    "                                                users_id, wf\n",
    "                                                )\n",
    "                    if detector_name == 'Louvain':\n",
    "                        coms = community_detector(g.copy())\n",
    "                    else:\n",
    "                        coms = community_detector(g.copy()).communities\n",
    "\n",
    "                    densities = {}\n",
    "                    for i, com in enumerate(coms):\n",
    "                        density = internal_density(g, com)\n",
    "                        densities[i] = density\n",
    "                    densities = dict(sorted(densities.items(), \n",
    "                                            key=lambda x: x[1], reverse=True)\n",
    "                                        )\n",
    "                for algo_name, algo in  tqdm(algos_recommendation.items(), desc='👾 Algorithm Progress', leave=False):\n",
    "                    if community_detector == None:\n",
    "                        start_time = time.time()\n",
    "                        algo.fit(trainset)\n",
    "                        training_time = time.time() - start_time\n",
    "                        start_time = time.time()\n",
    "                        predictions = algo.test(testset)\n",
    "                        testing_time = time.time() - start_time\n",
    "                        rmse_value = accuracy.rmse(predictions, verbose=False)\n",
    "                        mse_value = accuracy.mse(predictions, verbose=False)\n",
    "                        mae_value = accuracy.mae(predictions, verbose=False)\n",
    "                        result_dict = {\n",
    "                            'community_detector': detector_name,\n",
    "                            'used_communities': np.nan,\n",
    "                            'algorithm_rec': algo_name,\n",
    "                            'test_size': test_size,\n",
    "                            'split_id': split_id,\n",
    "                            'rmse': rmse_value,\n",
    "                            'mse': mse_value,\n",
    "                            'mae': mae_value\n",
    "                            }\n",
    "                        tracking_dict = {\n",
    "                            'community_detector': detector_name,\n",
    "                            'used_communities': np.nan,\n",
    "                            'community': np.nan,\n",
    "                            'algorithm_rec': algo_name,\n",
    "                            'test_size': test_size,\n",
    "                            'split_id': split_id,\n",
    "                            'train_runtime': training_time,\n",
    "                            'test_runtime': testing_time,    \n",
    "                        }\n",
    "                        results.append(result_dict)\n",
    "                        tracking.append(tracking_dict)\n",
    "                    else:\n",
    "                        all_predictions = []\n",
    "                        for n in range(1, len(densities) + 1):\n",
    "                            most_dense_communities = list(\n",
    "                                densities.keys()\n",
    "                                )[:n]\n",
    "                            for m in most_dense_communities:\n",
    "                                community=coms[m]\n",
    "                                train_community = trainpd[trainpd['uid'].isin(community)]\n",
    "                                test_community = testpd[testpd['uid'].isin(community)]\n",
    "                                train_surprise = Dataset.load_from_df(train_community[['uid', 'iid', 'rating']], reader)\n",
    "                                train_surprise = train_surprise.build_full_trainset()\n",
    "                                test_community = test_community.astype(\n",
    "                                    {'uid':'float', 'iid':'float', 'rating':'float'}\n",
    "                                    )\n",
    "                                test_surprise = list(test_community.itertuples(index=False, name=None))\n",
    "                                \n",
    "                                start_time = time.time()\n",
    "                                algo.fit(train_surprise)\n",
    "                                training_time = time.time() - start_time\n",
    "                                start_time = time.time()\n",
    "                                predictions = algo.test(test_surprise) \n",
    "                                testing_time = time.time() - start_time\n",
    "                                all_predictions.extend(predictions)\n",
    "                                tracking_dict = {\n",
    "                                    'community_detector': detector_name,\n",
    "                                    'used_communities': n,\n",
    "                                    'community': m,\n",
    "                                    'algorithm_rec': algo_name,\n",
    "                                    'test_size': test_size,\n",
    "                                    'split_id': split_id,\n",
    "                                    'train_runtime': training_time,\n",
    "                                    'test_runtime': testing_time,    \n",
    "                                }\n",
    "                                tracking.append(tracking_dict)\n",
    "                                \n",
    "                            if len(most_dense_communities) < len(densities):\n",
    "                                train_community = trainpd[~trainpd['uid'].isin(community)]\n",
    "                                test_community = testpd[~testpd['uid'].isin(community)]\n",
    "                                train_surprise = Dataset.load_from_df(train_community[['uid', 'iid', 'rating']], reader)\n",
    "                                train_surprise = train_surprise.build_full_trainset()\n",
    "                                test_community = test_community.astype(\n",
    "                                    {'uid':'float', 'iid':'float', 'rating':'float'}\n",
    "                                    )\n",
    "                                test_surprise = list(test_community.itertuples(index=False, name=None))\n",
    "                                start_time = time.time()\n",
    "                                algo.fit(train_surprise)\n",
    "                                training_time = time.time() - start_time\n",
    "                                start_time = time.time()\n",
    "                                predictions = algo.test(test_surprise) \n",
    "                                testing_time = time.time() - start_time\n",
    "                                all_predictions.extend(predictions)\n",
    "                                tracking_dict = {\n",
    "                                    'community_detector': detector_name,\n",
    "                                    'used_communities': n,\n",
    "                                    'community': 99, # 99 means `all the others communities`\n",
    "                                    'algorithm_rec': algo_name,\n",
    "                                    'test_size': test_size,\n",
    "                                    'split_id': split_id,\n",
    "                                    'train_runtime': training_time,\n",
    "                                    'test_runtime': testing_time,    \n",
    "                                }\n",
    "                                tracking.append(tracking_dict)\n",
    "                                    \n",
    "                            rmse_value = accuracy.rmse(all_predictions, verbose=False)\n",
    "                            mse_value = accuracy.mse(all_predictions, verbose=False)\n",
    "                            mae_value = accuracy.mae(all_predictions, verbose=False)\n",
    "                            result_dict = {\n",
    "                                    'community_detector': detector_name,\n",
    "                                    'used_communities': n,  \n",
    "                                    'algorithm_rec': algo_name,\n",
    "                                    'test_size': test_size,\n",
    "                                    'split_id': split_id,\n",
    "                                    'rmse': rmse_value,\n",
    "                                    'mse': mse_value,\n",
    "                                    'mae': mae_value\n",
    "                                }\n",
    "                            results.append(result_dict)            \n",
    "            split_id += 1  \n",
    "       \n",
    "       \n",
    "                            \n",
    "notebook_dir = os.getcwd()\n",
    "outputs_dir = notebook_dir.replace('notebooks', 'outputs')\n",
    "\n",
    "df_results = pd.DataFrame(results)\n",
    "file_name = f'synt_results.csv'\n",
    "file_path = os.path.join(outputs_dir, file_name)\n",
    "df_results.to_csv(file_path, index=False)\n",
    "\n",
    "df_tracking = pd.DataFrame(tracking)\n",
    "file_name = f'synt_tracking.csv'\n",
    "file_path = os.path.join(outputs_dir, file_name)\n",
    "df_tracking.to_csv(file_path, index=False)        "
   ]
  },
  {
   "cell_type": "code",
   "execution_count": 47,
   "metadata": {},
   "outputs": [
    {
     "data": {
      "text/plain": [
       "5"
      ]
     },
     "execution_count": 47,
     "metadata": {},
     "output_type": "execute_result"
    }
   ],
   "source": [
    "len(coms)"
   ]
  },
  {
   "cell_type": "code",
   "execution_count": 43,
   "metadata": {},
   "outputs": [
    {
     "data": {
      "text/plain": [
       "0.0667262077331543"
      ]
     },
     "execution_count": 43,
     "metadata": {},
     "output_type": "execute_result"
    }
   ],
   "source": [
    "training_time"
   ]
  },
  {
   "cell_type": "code",
   "execution_count": 44,
   "metadata": {},
   "outputs": [
    {
     "data": {
      "text/plain": [
       "0.00893402099609375"
      ]
     },
     "execution_count": 44,
     "metadata": {},
     "output_type": "execute_result"
    }
   ],
   "source": [
    "testing_time"
   ]
  },
  {
   "cell_type": "code",
   "execution_count": null,
   "metadata": {},
   "outputs": [],
   "source": []
  },
  {
   "cell_type": "code",
   "execution_count": null,
   "metadata": {},
   "outputs": [],
   "source": []
  },
  {
   "cell_type": "code",
   "execution_count": null,
   "metadata": {},
   "outputs": [],
   "source": []
  },
  {
   "cell_type": "code",
   "execution_count": null,
   "metadata": {},
   "outputs": [],
   "source": []
  },
  {
   "cell_type": "code",
   "execution_count": null,
   "metadata": {},
   "outputs": [],
   "source": []
  },
  {
   "cell_type": "code",
   "execution_count": null,
   "metadata": {},
   "outputs": [],
   "source": []
  },
  {
   "cell_type": "code",
   "execution_count": 36,
   "metadata": {},
   "outputs": [
    {
     "name": "stdout",
     "output_type": "stream",
     "text": [
      "{65, 66, 98, 99, 5, 72, 42, 49, 55, 62}\n",
      "---\n",
      "{65, 66, 98, 99, 5, 72, 42, 49, 55, 62}\n",
      "{0, 1, 3, 7, 9, 74, 77, 14, 15, 78, 23, 89, 90, 91, 25, 31, 96, 33, 34, 35, 39, 41, 47, 50, 52, 60}\n",
      "---\n",
      "{65, 66, 98, 99, 5, 72, 42, 49, 55, 62}\n",
      "{0, 1, 3, 7, 9, 74, 77, 14, 15, 78, 23, 89, 90, 91, 25, 31, 96, 33, 34, 35, 39, 41, 47, 50, 52, 60}\n",
      "{2, 6, 71, 70, 75, 76, 12, 79, 82, 19, 85, 21, 87, 88, 26, 92, 29, 30, 95, 97, 36, 38, 40, 44, 46, 48, 51, 58, 63}\n",
      "---\n",
      "{65, 66, 98, 99, 5, 72, 42, 49, 55, 62}\n",
      "{0, 1, 3, 7, 9, 74, 77, 14, 15, 78, 23, 89, 90, 91, 25, 31, 96, 33, 34, 35, 39, 41, 47, 50, 52, 60}\n",
      "{2, 6, 71, 70, 75, 76, 12, 79, 82, 19, 85, 21, 87, 88, 26, 92, 29, 30, 95, 97, 36, 38, 40, 44, 46, 48, 51, 58, 63}\n",
      "{4, 8, 10, 11, 13, 16, 17, 18, 20, 22, 24, 27, 28, 32, 37, 43, 45, 53, 54, 56, 57, 59, 61, 64, 67, 68, 69, 73, 80, 81, 83, 84, 86, 93, 94}\n",
      "---\n"
     ]
    }
   ],
   "source": [
    "for n in range(1, len(densities) + 1):\n",
    "    most_dense_communities = list(\n",
    "        densities.keys()\n",
    "        )[:n]\n",
    "    for m in most_dense_communities:\n",
    "        community=coms[m]\n",
    "        print(community)\n",
    "    print('---')"
   ]
  },
  {
   "cell_type": "code",
   "execution_count": 38,
   "metadata": {},
   "outputs": [
    {
     "data": {
      "text/plain": [
       "4"
      ]
     },
     "execution_count": 38,
     "metadata": {},
     "output_type": "execute_result"
    }
   ],
   "source": [
    "len(most_dense_communities)"
   ]
  },
  {
   "cell_type": "code",
   "execution_count": 29,
   "metadata": {},
   "outputs": [
    {
     "data": {
      "text/plain": [
       "{4,\n",
       " 8,\n",
       " 12,\n",
       " 13,\n",
       " 15,\n",
       " 17,\n",
       " 20,\n",
       " 22,\n",
       " 25,\n",
       " 28,\n",
       " 32,\n",
       " 36,\n",
       " 39,\n",
       " 41,\n",
       " 46,\n",
       " 51,\n",
       " 55,\n",
       " 58,\n",
       " 62,\n",
       " 63,\n",
       " 67,\n",
       " 72,\n",
       " 73,\n",
       " 81,\n",
       " 89,\n",
       " 91,\n",
       " 94}"
      ]
     },
     "execution_count": 29,
     "metadata": {},
     "output_type": "execute_result"
    }
   ],
   "source": [
    "community=coms[3]\n",
    "community"
   ]
  },
  {
   "cell_type": "code",
   "execution_count": null,
   "metadata": {},
   "outputs": [],
   "source": []
  },
  {
   "cell_type": "code",
   "execution_count": 27,
   "metadata": {},
   "outputs": [
    {
     "name": "stdout",
     "output_type": "stream",
     "text": [
      "[2]\n",
      "[2, 1]\n",
      "[2, 1, 3]\n",
      "[2, 1, 3, 0]\n"
     ]
    }
   ],
   "source": [
    "for n in range(1, len(densities) + 1):\n",
    "    most_dense_communities = list(\n",
    "        densities.keys()\n",
    "        )[:n]\n",
    "    print(most_dense_communities)"
   ]
  },
  {
   "cell_type": "code",
   "execution_count": null,
   "metadata": {},
   "outputs": [],
   "source": [
    "results=[]\n",
    "for test_size in tqdm([0.25, 0.1, 0.01], desc='📊 Test Size Progress', leave=True):\n",
    "        shuffle_split = ShuffleSplit(n_splits=5, test_size=test_size)\n",
    "        split_id = 1\n",
    "        for trainset, testset in tqdm(shuffle_split.split(dataset), desc='➗ Splits Progress', leave=False):\n",
    "            for algo_name, algo in  tqdm(algos_recommendation.items(), desc='👾 Algorithm Progress', leave=False):\n",
    "                for detector_name, community_detector in tqdm(communities_detectors.items(), desc='🕸️ Community Detector Progress', leave=False):\n",
    "                    if community_detector == None:\n",
    "                        algo.fit(trainset)\n",
    "                        predictions = algo.test(testset)\n",
    "                        rmse_value = accuracy.rmse(predictions, verbose=False)\n",
    "                        mse_value = accuracy.mse(predictions, verbose=False)\n",
    "                        mae_value = accuracy.mae(predictions, verbose=False)\n",
    "                        result_dict = {\n",
    "                            'community_detector': detector_name,\n",
    "                            'used_communities': 'Not-Applicable',\n",
    "                            'algorithm_rec': algo_name,\n",
    "                            'test_size': test_size,\n",
    "                            'split_id': split_id,\n",
    "                            'rmse': rmse_value,\n",
    "                            'mse': mse_value,\n",
    "                            'mae': mae_value\n",
    "                            }\n",
    "                        results.append(result_dict)\n",
    "                    else:\n",
    "                        trainpd, testpd = uncouple(trainset, testset)\n",
    "                        users_id = sorted(\n",
    "                                list(\n",
    "                                    set(\n",
    "                                        trainpd['uid']\n",
    "                                        )\n",
    "                                    )\n",
    "                                )\n",
    "                        temp = trainpd.copy()\n",
    "                        temp.rename(columns={\n",
    "                            'uid': 'source',\n",
    "                            'iid': 'target',\n",
    "                            'rating': 'weight'\n",
    "                        }, inplace=True)\n",
    "                        crg = nx.from_pandas_edgelist(temp, source='source', target='target', edge_attr='weight')\n",
    "                        g = nx.bipartite.generic_weighted_projected_graph(crg, \n",
    "                                                  users_id, wf\n",
    "                                                  )\n",
    "                        if detector_name == 'Louvain':\n",
    "                            coms = community_detector(g.copy())\n",
    "                        else:\n",
    "                            coms = community_detector(g.copy()).communities\n",
    "\n",
    "                        densities = {}\n",
    "                        for i, com in enumerate(coms):\n",
    "                            density = internal_density(g, com)\n",
    "                            densities[i] = density\n",
    "                        densities = dict(sorted(densities.items(), \n",
    "                                                key=lambda x: x[1], reverse=True)\n",
    "                                         )\n",
    "                        all_predictions = []\n",
    "                        for n in range(1, len(densities) + 1):\n",
    "                            most_dense_communities = list(\n",
    "                                densities.keys()\n",
    "                                )[:n]\n",
    "                            for m in most_dense_communities:\n",
    "                                train_community = trainpd[trainpd['uid'].isin(community)]\n",
    "                                test_community = testpd[testpd['uid'].isin(community)]\n",
    "                                train_surprise = Dataset.load_from_df(train_community[['uid', 'iid', 'rating']], reader)\n",
    "                                train_surprise = train_surprise.build_full_trainset()\n",
    "                                test_community = test_community.astype(\n",
    "                                    {'uid':'float', 'iid':'float', 'rating':'float'}\n",
    "                                    )\n",
    "                                test_surprise = list(test_community.itertuples(index=False, name=None))\n",
    "                                algo.fit(train_surprise)\n",
    "                                predictions = algo.test(test_surprise) \n",
    "                                all_predictions.extend(predictions)\n",
    "                                \n",
    "                            if len(most_dense_communities) < len(densities):\n",
    "                                train_community = trainpd[~trainpd['uid'].isin(community)]\n",
    "                                test_community = testpd[~testpd['uid'].isin(community)]\n",
    "                                train_surprise = Dataset.load_from_df(train_community[['uid', 'iid', 'rating']], reader)\n",
    "                                train_surprise = train_surprise.build_full_trainset()\n",
    "                                test_community = test_community.astype(\n",
    "                                    {'uid':'float', 'iid':'float', 'rating':'float'}\n",
    "                                    )\n",
    "                                test_surprise = list(test_community.itertuples(index=False, name=None))\n",
    "                                algo.fit(train_surprise)\n",
    "                                predictions = algo.test(test_surprise) \n",
    "                                all_predictions.extend(predictions)\n",
    "                                \n",
    "                            rmse_value = accuracy.rmse(all_predictions, verbose=False)\n",
    "                            mse_value = accuracy.mse(all_predictions, verbose=False)\n",
    "                            mae_value = accuracy.mae(all_predictions, verbose=False)\n",
    "                            result_dict = {\n",
    "                                    'community_detector': detector_name,\n",
    "                                    'used_communities': n,  \n",
    "                                    'algorithm_rec': algo_name,\n",
    "                                    'test_size': test_size,\n",
    "                                    'split_id': split_id,\n",
    "                                    'rmse': rmse_value,\n",
    "                                    'mse': mse_value,\n",
    "                                    'mae': mae_value\n",
    "                                }\n",
    "                            results.append(result_dict)               \n",
    "            split_id += 1  \n",
    "                            \n",
    "                        \n",
    "                         ####                             \n",
    "                            \n",
    "                            \n",
    "#                        all_predictions = []\n",
    "#                        for community in tqdm(coms, desc='👤 Communities progress', leave=False):\n",
    "#                            train_community = trainpd[trainpd['uid'].isin(community)]\n",
    "#                            test_community = testpd[testpd['uid'].isin(community)]\n",
    "#                            train_surprise = Dataset.load_from_df(train_community[['uid', 'iid', 'rating']], reader)\n",
    "#                            train_surprise = train_surprise.build_full_trainset()\n",
    "#                            test_community = test_community.astype(\n",
    "#                                {'uid':'float', 'iid':'float', 'rating':'float'}\n",
    "#                                )\n",
    "#                            test_surprise = list(test_community.itertuples(index=False, name=None))\n",
    "#                            algo.fit(train_surprise)\n",
    "#                            predictions = algo.test(test_surprise) \n",
    "#                            all_predictions.extend(predictions)\n",
    "#                        \n",
    "#                        rmse_value = accuracy.rmse(all_predictions, verbose=False)\n",
    "#                        mse_value = accuracy.mse(all_predictions, verbose=False)\n",
    "#                        mae_value = accuracy.mae(all_predictions, verbose=False)\n",
    "#                        result_dict = {\n",
    "#                                'community_detector': detector_name,\n",
    "#                                'algorithm_rec': algo_name,\n",
    "#                                'test_size': test_size,\n",
    "#                                'split_id': split_id,\n",
    "#                                'rmse': rmse_value,\n",
    "#                                'mse': mse_value,\n",
    "#                                'mae': mae_value\n",
    "#                            }\n",
    "#                        results.append(result_dict)                               \n",
    "#            split_id += 1\n",
    "            \n",
    "# -- Saving results in a .csv file\n",
    "df_results = pd.DataFrame(results)\n",
    "file_name = f'synt_results.csv'\n",
    "notebook_dir = os.getcwd()\n",
    "outputs_dir = notebook_dir.replace('notebooks', 'outputs')\n",
    "file_path = os.path.join(outputs_dir, file_name)\n",
    "df_results.to_csv(file_path, index=False)\n",
    "            "
   ]
  },
  {
   "cell_type": "code",
   "execution_count": 118,
   "metadata": {},
   "outputs": [
    {
     "data": {
      "text/plain": [
       "[2]"
      ]
     },
     "execution_count": 118,
     "metadata": {},
     "output_type": "execute_result"
    }
   ],
   "source": [
    "list(\n",
    "    densities.keys()\n",
    "    )[:2]"
   ]
  },
  {
   "cell_type": "code",
   "execution_count": 120,
   "metadata": {},
   "outputs": [
    {
     "name": "stdout",
     "output_type": "stream",
     "text": [
      "1\n",
      "2\n",
      "3\n",
      "4\n"
     ]
    }
   ],
   "source": [
    "for i in range(1, len(densities) + 1):\n",
    "    print(i)"
   ]
  },
  {
   "attachments": {},
   "cell_type": "markdown",
   "metadata": {},
   "source": [
    "### Next Steps:\n",
    "* Investigate if very small communities may be affecting performance.\n",
    "* Investigate if the comparison is appropriate -- e.g., is it possible that there is someone in the test set without a community?\n",
    "* Can a larger network lead to performance improvement?\n",
    "* What if some communities have bigger homophily than others?\n"
   ]
  },
  {
   "attachments": {},
   "cell_type": "markdown",
   "metadata": {},
   "source": [
    "### Investigation:"
   ]
  },
  {
   "attachments": {},
   "cell_type": "markdown",
   "metadata": {},
   "source": [
    "#### 1. There is someone in testset without a community?\n",
    "\n",
    "To validate if there is any `user_id` without a community in the training set, we just need to check if any user was left out of the training set. It doesn't seem to be the case, as illustrated by the code below."
   ]
  },
  {
   "cell_type": "code",
   "execution_count": 13,
   "metadata": {},
   "outputs": [
    {
     "name": "stdout",
     "output_type": "stream",
     "text": [
      "* * * * Test size => 0.25\n",
      "* * Split id => 1 // User_id => 100\n",
      "* * Split id => 2 // User_id => 100\n",
      "* * Split id => 3 // User_id => 100\n",
      "* * Split id => 4 // User_id => 100\n",
      "* * Split id => 5 // User_id => 100\n",
      "-------------\n",
      "* * * * Test size => 0.1\n",
      "* * Split id => 1 // User_id => 100\n",
      "* * Split id => 2 // User_id => 100\n",
      "* * Split id => 3 // User_id => 100\n",
      "* * Split id => 4 // User_id => 100\n",
      "* * Split id => 5 // User_id => 100\n",
      "-------------\n",
      "* * * * Test size => 0.01\n",
      "* * Split id => 1 // User_id => 100\n",
      "* * Split id => 2 // User_id => 100\n",
      "* * Split id => 3 // User_id => 100\n",
      "* * Split id => 4 // User_id => 100\n",
      "* * Split id => 5 // User_id => 100\n",
      "-------------\n"
     ]
    }
   ],
   "source": [
    "import itertools\n",
    "for test_size in [0.25, 0.1, 0.01]:\n",
    "    print(f'* * * * Test size => {test_size}')\n",
    "    shuffle_split = ShuffleSplit(n_splits=5, test_size=test_size)\n",
    "    split_id = 1\n",
    "    for trainset, testset in shuffle_split.split(dataset):\n",
    "        trainpd, testpd = uncouple(trainset, testset)\n",
    "        users_id = sorted(\n",
    "                list(\n",
    "                    set(\n",
    "                        trainpd['uid']\n",
    "                        )\n",
    "                    )\n",
    "                )\n",
    "        temp = trainpd.copy()\n",
    "        temp.rename(columns={\n",
    "            'uid': 'source',\n",
    "            'iid': 'target',\n",
    "            'rating': 'weight'\n",
    "        }, inplace=True)\n",
    "        crg = nx.from_pandas_edgelist(temp, source='source', target='target', edge_attr='weight')\n",
    "        g = nx.bipartite.generic_weighted_projected_graph(crg, \n",
    "                                    users_id, wf\n",
    "                                    )\n",
    "\n",
    "        coms = nx.community.louvain_communities(g.copy())\n",
    "        flattened_list = list(itertools.chain.from_iterable(coms))\n",
    "        \n",
    "        print(f'* * Split id => {split_id} // User_id => {len(flattened_list)}')\n",
    "        split_id +=1\n",
    "    print('-------------')"
   ]
  },
  {
   "cell_type": "code",
   "execution_count": null,
   "metadata": {},
   "outputs": [],
   "source": []
  },
  {
   "cell_type": "code",
   "execution_count": null,
   "metadata": {},
   "outputs": [],
   "source": []
  },
  {
   "cell_type": "code",
   "execution_count": 14,
   "metadata": {},
   "outputs": [
    {
     "name": "stdout",
     "output_type": "stream",
     "text": [
      "Densidade interna da comunidade 0: 11.375\n",
      "Densidade interna da comunidade 1: 5.1875\n",
      "Densidade interna da comunidade 2: 6.92\n",
      "Densidade interna da comunidade 3: 7.608695652173913\n"
     ]
    }
   ],
   "source": [
    "def internal_density(graph , community):\n",
    "    \"\"\"\n",
    "    Calculates the internal density of a community in a graph.\n",
    "    :param graph: The input graph.\n",
    "    :type graph: NetworkX graph object.\n",
    "    :param community: The community of interest.\n",
    "    :type community: List of nodes.\n",
    "\n",
    "    :return: The internal density of the community.\n",
    "    :rtype: float between 0 and 1.\n",
    "    \"\"\"\n",
    "    num_edges = 0\n",
    "    num_nodes = len(community)\n",
    "    for u, v in graph.edges(community):\n",
    "        num_edges += 1\n",
    "    max_edges = num_nodes * (num_nodes - 1) / 2\n",
    "    if max_edges > 0:\n",
    "        return num_edges / max_edges\n",
    "    else:\n",
    "        return 0.0\n",
    "\n",
    "\n",
    "\n",
    "# Crie um grafo de exemplo\n",
    "G = nx.Graph()\n",
    "G.add_edges_from([(1, 2), (1, 3), (2, 3), (3, 4), (4, 5)])\n",
    "\n",
    "# Defina uma comunidade\n",
    "community = [1, 2, 3]\n",
    "\n",
    "# Calcule a densidade interna da comunidade\n",
    "for i in [0, 1, 2, 3]:\n",
    "    density = internal_density(g, list(coms[i]))\n",
    "    print(f\"Densidade interna da comunidade {i}:\", density)"
   ]
  },
  {
   "cell_type": "code",
   "execution_count": 15,
   "metadata": {},
   "outputs": [],
   "source": [
    "densities = {}  # Dictionary to store community densities\n",
    "# Iterate over each community\n",
    "for i, community in enumerate(coms):\n",
    "    density = internal_density(g, community)\n",
    "    densities[i] = density\n",
    "densities = dict(sorted(densities.items(), \n",
    "                        key=lambda x: x[1], reverse=True)\n",
    "                    )"
   ]
  },
  {
   "cell_type": "code",
   "execution_count": 17,
   "metadata": {},
   "outputs": [
    {
     "data": {
      "text/plain": [
       "4"
      ]
     },
     "execution_count": 17,
     "metadata": {},
     "output_type": "execute_result"
    }
   ],
   "source": [
    "len(densities)"
   ]
  },
  {
   "cell_type": "code",
   "execution_count": 92,
   "metadata": {},
   "outputs": [
    {
     "data": {
      "text/plain": [
       "22"
      ]
     },
     "execution_count": 92,
     "metadata": {},
     "output_type": "execute_result"
    }
   ],
   "source": []
  },
  {
   "cell_type": "code",
   "execution_count": 61,
   "metadata": {},
   "outputs": [
    {
     "data": {
      "text/plain": [
       "[0,\n",
       " 4,\n",
       " 6,\n",
       " 7,\n",
       " 9,\n",
       " 12,\n",
       " 13,\n",
       " 14,\n",
       " 17,\n",
       " 24,\n",
       " 25,\n",
       " 35,\n",
       " 36,\n",
       " 38,\n",
       " 40,\n",
       " 41,\n",
       " 47,\n",
       " 49,\n",
       " 53,\n",
       " 54,\n",
       " 59,\n",
       " 61,\n",
       " 62,\n",
       " 67,\n",
       " 69,\n",
       " 70,\n",
       " 74,\n",
       " 75,\n",
       " 81,\n",
       " 86,\n",
       " 88,\n",
       " 90,\n",
       " 91,\n",
       " 93,\n",
       " 97]"
      ]
     },
     "execution_count": 61,
     "metadata": {},
     "output_type": "execute_result"
    }
   ],
   "source": [
    "comt = list(coms[0])"
   ]
  },
  {
   "cell_type": "code",
   "execution_count": 55,
   "metadata": {},
   "outputs": [
    {
     "data": {
      "text/plain": [
       "[0,\n",
       " 4,\n",
       " 6,\n",
       " 7,\n",
       " 9,\n",
       " 12,\n",
       " 13,\n",
       " 14,\n",
       " 17,\n",
       " 24,\n",
       " 25,\n",
       " 35,\n",
       " 36,\n",
       " 38,\n",
       " 40,\n",
       " 41,\n",
       " 47,\n",
       " 49,\n",
       " 53,\n",
       " 54,\n",
       " 59,\n",
       " 61,\n",
       " 62,\n",
       " 67,\n",
       " 69,\n",
       " 70,\n",
       " 74,\n",
       " 75,\n",
       " 81,\n",
       " 86,\n",
       " 88,\n",
       " 90,\n",
       " 91,\n",
       " 93,\n",
       " 97]"
      ]
     },
     "execution_count": 55,
     "metadata": {},
     "output_type": "execute_result"
    }
   ],
   "source": [
    "list(coms[0])"
   ]
  },
  {
   "cell_type": "code",
   "execution_count": null,
   "metadata": {},
   "outputs": [],
   "source": []
  },
  {
   "cell_type": "code",
   "execution_count": null,
   "metadata": {},
   "outputs": [],
   "source": []
  },
  {
   "cell_type": "code",
   "execution_count": null,
   "metadata": {},
   "outputs": [],
   "source": []
  },
  {
   "cell_type": "code",
   "execution_count": 50,
   "metadata": {},
   "outputs": [
    {
     "ename": "TypeError",
     "evalue": "'int' object is not iterable",
     "output_type": "error",
     "traceback": [
      "\u001b[1;31m---------------------------------------------------------------------------\u001b[0m",
      "\u001b[1;31mTypeError\u001b[0m                                 Traceback (most recent call last)",
      "Cell \u001b[1;32mIn[50], line 5\u001b[0m\n\u001b[0;32m      3\u001b[0m com \u001b[39m=\u001b[39m \u001b[39mlist\u001b[39m(com)\n\u001b[0;32m      4\u001b[0m subgraph \u001b[39m=\u001b[39m g\u001b[39m.\u001b[39msubgraph(com)\n\u001b[1;32m----> 5\u001b[0m modularity \u001b[39m=\u001b[39m community\u001b[39m.\u001b[39;49mmodularity(subgraph, \u001b[39mlist\u001b[39;49m(com))\n\u001b[0;32m      6\u001b[0m \u001b[39mprint\u001b[39m(\u001b[39mf\u001b[39m\u001b[39m\"\u001b[39m\u001b[39mComunidade \u001b[39m\u001b[39m{\u001b[39;00mi\u001b[39m+\u001b[39m\u001b[39m1\u001b[39m\u001b[39m}\u001b[39;00m\u001b[39m: Modularidade = \u001b[39m\u001b[39m{\u001b[39;00mmodularity\u001b[39m}\u001b[39;00m\u001b[39m\"\u001b[39m)\n",
      "File \u001b[1;32mc:\\Users\\rdutr\\anaconda3\\envs\\mscenv\\lib\\site-packages\\networkx\\algorithms\\community\\quality.py:227\u001b[0m, in \u001b[0;36mmodularity\u001b[1;34m(G, communities, weight, resolution)\u001b[0m\n\u001b[0;32m    225\u001b[0m \u001b[39mif\u001b[39;00m \u001b[39mnot\u001b[39;00m \u001b[39misinstance\u001b[39m(communities, \u001b[39mlist\u001b[39m):\n\u001b[0;32m    226\u001b[0m     communities \u001b[39m=\u001b[39m \u001b[39mlist\u001b[39m(communities)\n\u001b[1;32m--> 227\u001b[0m \u001b[39mif\u001b[39;00m \u001b[39mnot\u001b[39;00m is_partition(G, communities):\n\u001b[0;32m    228\u001b[0m     \u001b[39mraise\u001b[39;00m NotAPartition(G, communities)\n\u001b[0;32m    230\u001b[0m directed \u001b[39m=\u001b[39m G\u001b[39m.\u001b[39mis_directed()\n",
      "File \u001b[1;32mc:\\Users\\rdutr\\anaconda3\\envs\\mscenv\\lib\\site-packages\\networkx\\algorithms\\community\\community_utils.py:25\u001b[0m, in \u001b[0;36mis_partition\u001b[1;34m(G, communities)\u001b[0m\n\u001b[0;32m     23\u001b[0m \u001b[39mif\u001b[39;00m \u001b[39mnot\u001b[39;00m \u001b[39misinstance\u001b[39m(communities, \u001b[39mlist\u001b[39m):\n\u001b[0;32m     24\u001b[0m     communities \u001b[39m=\u001b[39m \u001b[39mlist\u001b[39m(communities)\n\u001b[1;32m---> 25\u001b[0m nodes \u001b[39m=\u001b[39m {n \u001b[39mfor\u001b[39;00m c \u001b[39min\u001b[39;00m communities \u001b[39mfor\u001b[39;00m n \u001b[39min\u001b[39;00m c \u001b[39mif\u001b[39;00m n \u001b[39min\u001b[39;00m G}\n\u001b[0;32m     27\u001b[0m \u001b[39mreturn\u001b[39;00m \u001b[39mlen\u001b[39m(G) \u001b[39m==\u001b[39m \u001b[39mlen\u001b[39m(nodes) \u001b[39m==\u001b[39m \u001b[39msum\u001b[39m(\u001b[39mlen\u001b[39m(c) \u001b[39mfor\u001b[39;00m c \u001b[39min\u001b[39;00m communities)\n",
      "File \u001b[1;32mc:\\Users\\rdutr\\anaconda3\\envs\\mscenv\\lib\\site-packages\\networkx\\algorithms\\community\\community_utils.py:25\u001b[0m, in \u001b[0;36m<setcomp>\u001b[1;34m(.0)\u001b[0m\n\u001b[0;32m     23\u001b[0m \u001b[39mif\u001b[39;00m \u001b[39mnot\u001b[39;00m \u001b[39misinstance\u001b[39m(communities, \u001b[39mlist\u001b[39m):\n\u001b[0;32m     24\u001b[0m     communities \u001b[39m=\u001b[39m \u001b[39mlist\u001b[39m(communities)\n\u001b[1;32m---> 25\u001b[0m nodes \u001b[39m=\u001b[39m {n \u001b[39mfor\u001b[39;00m c \u001b[39min\u001b[39;00m communities \u001b[39mfor\u001b[39;00m n \u001b[39min\u001b[39;00m c \u001b[39mif\u001b[39;00m n \u001b[39min\u001b[39;00m G}\n\u001b[0;32m     27\u001b[0m \u001b[39mreturn\u001b[39;00m \u001b[39mlen\u001b[39m(G) \u001b[39m==\u001b[39m \u001b[39mlen\u001b[39m(nodes) \u001b[39m==\u001b[39m \u001b[39msum\u001b[39m(\u001b[39mlen\u001b[39m(c) \u001b[39mfor\u001b[39;00m c \u001b[39min\u001b[39;00m communities)\n",
      "\u001b[1;31mTypeError\u001b[0m: 'int' object is not iterable"
     ]
    }
   ],
   "source": [
    "from networkx.algorithms import community\n",
    "for i, com in enumerate(coms):\n",
    "    com = list(com)\n",
    "    subgraph = g.subgraph(com)\n",
    "    modularity = community.modularity(subgraph, list(com))\n",
    "    print(f\"Comunidade {i+1}: Modularidade = {modularity}\")"
   ]
  },
  {
   "cell_type": "code",
   "execution_count": 52,
   "metadata": {},
   "outputs": [
    {
     "ename": "TypeError",
     "evalue": "'int' object is not iterable",
     "output_type": "error",
     "traceback": [
      "\u001b[1;31m---------------------------------------------------------------------------\u001b[0m",
      "\u001b[1;31mTypeError\u001b[0m                                 Traceback (most recent call last)",
      "Cell \u001b[1;32mIn[52], line 13\u001b[0m\n\u001b[0;32m     11\u001b[0m \u001b[39mfor\u001b[39;00m i, com \u001b[39min\u001b[39;00m \u001b[39menumerate\u001b[39m(communities):\n\u001b[0;32m     12\u001b[0m     subgraph \u001b[39m=\u001b[39m G\u001b[39m.\u001b[39msubgraph(com)\n\u001b[1;32m---> 13\u001b[0m     modularity \u001b[39m=\u001b[39m community\u001b[39m.\u001b[39;49mmodularity(G, subgraph)\n\u001b[0;32m     14\u001b[0m     \u001b[39mprint\u001b[39m(\u001b[39mf\u001b[39m\u001b[39m\"\u001b[39m\u001b[39mComunidade \u001b[39m\u001b[39m{\u001b[39;00mi\u001b[39m+\u001b[39m\u001b[39m1\u001b[39m\u001b[39m}\u001b[39;00m\u001b[39m: Modularidade = \u001b[39m\u001b[39m{\u001b[39;00mmodularity\u001b[39m}\u001b[39;00m\u001b[39m\"\u001b[39m)\n",
      "File \u001b[1;32mc:\\Users\\rdutr\\anaconda3\\envs\\mscenv\\lib\\site-packages\\networkx\\algorithms\\community\\quality.py:227\u001b[0m, in \u001b[0;36mmodularity\u001b[1;34m(G, communities, weight, resolution)\u001b[0m\n\u001b[0;32m    225\u001b[0m \u001b[39mif\u001b[39;00m \u001b[39mnot\u001b[39;00m \u001b[39misinstance\u001b[39m(communities, \u001b[39mlist\u001b[39m):\n\u001b[0;32m    226\u001b[0m     communities \u001b[39m=\u001b[39m \u001b[39mlist\u001b[39m(communities)\n\u001b[1;32m--> 227\u001b[0m \u001b[39mif\u001b[39;00m \u001b[39mnot\u001b[39;00m is_partition(G, communities):\n\u001b[0;32m    228\u001b[0m     \u001b[39mraise\u001b[39;00m NotAPartition(G, communities)\n\u001b[0;32m    230\u001b[0m directed \u001b[39m=\u001b[39m G\u001b[39m.\u001b[39mis_directed()\n",
      "File \u001b[1;32mc:\\Users\\rdutr\\anaconda3\\envs\\mscenv\\lib\\site-packages\\networkx\\algorithms\\community\\community_utils.py:25\u001b[0m, in \u001b[0;36mis_partition\u001b[1;34m(G, communities)\u001b[0m\n\u001b[0;32m     23\u001b[0m \u001b[39mif\u001b[39;00m \u001b[39mnot\u001b[39;00m \u001b[39misinstance\u001b[39m(communities, \u001b[39mlist\u001b[39m):\n\u001b[0;32m     24\u001b[0m     communities \u001b[39m=\u001b[39m \u001b[39mlist\u001b[39m(communities)\n\u001b[1;32m---> 25\u001b[0m nodes \u001b[39m=\u001b[39m {n \u001b[39mfor\u001b[39;00m c \u001b[39min\u001b[39;00m communities \u001b[39mfor\u001b[39;00m n \u001b[39min\u001b[39;00m c \u001b[39mif\u001b[39;00m n \u001b[39min\u001b[39;00m G}\n\u001b[0;32m     27\u001b[0m \u001b[39mreturn\u001b[39;00m \u001b[39mlen\u001b[39m(G) \u001b[39m==\u001b[39m \u001b[39mlen\u001b[39m(nodes) \u001b[39m==\u001b[39m \u001b[39msum\u001b[39m(\u001b[39mlen\u001b[39m(c) \u001b[39mfor\u001b[39;00m c \u001b[39min\u001b[39;00m communities)\n",
      "File \u001b[1;32mc:\\Users\\rdutr\\anaconda3\\envs\\mscenv\\lib\\site-packages\\networkx\\algorithms\\community\\community_utils.py:25\u001b[0m, in \u001b[0;36m<setcomp>\u001b[1;34m(.0)\u001b[0m\n\u001b[0;32m     23\u001b[0m \u001b[39mif\u001b[39;00m \u001b[39mnot\u001b[39;00m \u001b[39misinstance\u001b[39m(communities, \u001b[39mlist\u001b[39m):\n\u001b[0;32m     24\u001b[0m     communities \u001b[39m=\u001b[39m \u001b[39mlist\u001b[39m(communities)\n\u001b[1;32m---> 25\u001b[0m nodes \u001b[39m=\u001b[39m {n \u001b[39mfor\u001b[39;00m c \u001b[39min\u001b[39;00m communities \u001b[39mfor\u001b[39;00m n \u001b[39min\u001b[39;00m c \u001b[39mif\u001b[39;00m n \u001b[39min\u001b[39;00m G}\n\u001b[0;32m     27\u001b[0m \u001b[39mreturn\u001b[39;00m \u001b[39mlen\u001b[39m(G) \u001b[39m==\u001b[39m \u001b[39mlen\u001b[39m(nodes) \u001b[39m==\u001b[39m \u001b[39msum\u001b[39m(\u001b[39mlen\u001b[39m(c) \u001b[39mfor\u001b[39;00m c \u001b[39min\u001b[39;00m communities)\n",
      "\u001b[1;31mTypeError\u001b[0m: 'int' object is not iterable"
     ]
    }
   ],
   "source": [
    "import networkx as nx\n",
    "from networkx.algorithms import community\n",
    "\n",
    "# Crie um grafo de exemplo\n",
    "G = nx.karate_club_graph()\n",
    "\n",
    "# Execute um algoritmo de detecção de comunidades, como o Louvain\n",
    "communities = community.greedy_modularity_communities(G)\n",
    "\n",
    "# Calcule a modularidade para cada comunidade individual\n",
    "for i, com in enumerate(communities):\n",
    "    subgraph = G.subgraph(com)\n",
    "    modularity = community.modularity(G, subgraph)\n",
    "    print(f\"Comunidade {i+1}: Modularidade = {modularity}\")"
   ]
  },
  {
   "cell_type": "code",
   "execution_count": null,
   "metadata": {},
   "outputs": [],
   "source": []
  },
  {
   "cell_type": "code",
   "execution_count": null,
   "metadata": {},
   "outputs": [],
   "source": []
  },
  {
   "cell_type": "code",
   "execution_count": null,
   "metadata": {},
   "outputs": [],
   "source": []
  },
  {
   "cell_type": "code",
   "execution_count": 32,
   "metadata": {},
   "outputs": [
    {
     "name": "stdout",
     "output_type": "stream",
     "text": [
      "[1, 2, 3, 4, 6, 8, 10, 11, 13, 14, 15, 16, 18, 21, 23, 25, 26, 30, 31, 34, 39, 43, 45, 46, 48, 50, 51, 54, 56, 59, 64, 66, 67, 68, 69, 70, 74, 78, 81, 83, 86, 89, 90, 93, 94, 0, 12, 17, 19, 20, 22, 24, 27, 28, 29, 32, 33, 37, 38, 41, 42, 47, 52, 55, 57, 58, 63, 65, 72, 73, 77, 79, 80, 82, 84, 91, 95, 96, 97, 99, 5, 7, 71, 9, 75, 76, 85, 87, 88, 92, 98, 35, 36, 40, 44, 49, 53, 60, 61, 62]\n"
     ]
    }
   ],
   "source": [
    "flattened_list = list(itertools.chain.from_iterable(coms))\n",
    "\n",
    "print(flattened_list)"
   ]
  },
  {
   "cell_type": "code",
   "execution_count": 33,
   "metadata": {},
   "outputs": [
    {
     "data": {
      "text/plain": [
       "100"
      ]
     },
     "execution_count": 33,
     "metadata": {},
     "output_type": "execute_result"
    }
   ],
   "source": [
    "len(flattened_list)"
   ]
  },
  {
   "cell_type": "code",
   "execution_count": null,
   "metadata": {},
   "outputs": [],
   "source": []
  }
 ],
 "metadata": {
  "kernelspec": {
   "display_name": "mscenv",
   "language": "python",
   "name": "python3"
  },
  "language_info": {
   "codemirror_mode": {
    "name": "ipython",
    "version": 3
   },
   "file_extension": ".py",
   "mimetype": "text/x-python",
   "name": "python",
   "nbconvert_exporter": "python",
   "pygments_lexer": "ipython3",
   "version": "3.9.13"
  },
  "orig_nbformat": 4
 },
 "nbformat": 4,
 "nbformat_minor": 2
}
