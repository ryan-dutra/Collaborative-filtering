{
 "cells": [
  {
   "attachments": {},
   "cell_type": "markdown",
   "metadata": {},
   "source": [
    "## Experiments on Community Detection in RecSys\n",
    "\n",
    "This Jupyter notebook aims to conduct a series of experiments to evaluate how the performance of specific recommendation algorithms varies with the addition of community detectors. The experiments will be performed using the MovieLens 100k and Jester datasets. The scikit-surprise library will also be used.\n",
    "\n",
    "The main goal of these experiments is to verify whether the integration of community detection techniques in recommender systems can improve the recommendation accuracy. The algorithms will be evaluated based on RMSE, MSE and MAE metrics and the results will be saved in CSV format for further analysis."
   ]
  },
  {
   "attachments": {},
   "cell_type": "markdown",
   "metadata": {},
   "source": [
    "### Setting up the environment"
   ]
  },
  {
   "cell_type": "code",
   "execution_count": 1,
   "metadata": {},
   "outputs": [
    {
     "data": {
      "text/plain": [
       "'\\n    Importing needed libs\\n'"
      ]
     },
     "execution_count": 1,
     "metadata": {},
     "output_type": "execute_result"
    }
   ],
   "source": [
    "\"\"\"\n",
    "    Importing needed libs\n",
    "\"\"\""
   ]
  },
  {
   "cell_type": "code",
   "execution_count": 2,
   "metadata": {},
   "outputs": [
    {
     "name": "stdout",
     "output_type": "stream",
     "text": [
      "Note: to be able to use all crisp methods, you need to install some additional packages:  {'graph_tool', 'infomap', 'karateclub', 'wurlitzer'}\n",
      "Note: to be able to use all overlapping methods, you need to install some additional packages:  {'karateclub', 'ASLPAw'}\n",
      "Note: to be able to use all bipartite methods, you need to install some additional packages:  {'infomap', 'wurlitzer'}\n"
     ]
    }
   ],
   "source": [
    "import os\n",
    "import numpy as np\n",
    "import pandas as pd\n",
    "from typing import List\n",
    "from surprise import (\n",
    "    accuracy,\n",
    "    Reader,\n",
    "    Dataset,\n",
    "    CoClustering,\n",
    "    KNNBasic,\n",
    "    NMF,\n",
    "    SVD\n",
    ")\n",
    "from surprise.model_selection.split import ShuffleSplit\n",
    "from surprise.trainset import Trainset\n",
    "import networkx as nx\n",
    "from cdlib import algorithms \n",
    "from tqdm.notebook import tqdm\n",
    "from sklearn.metrics.pairwise import pairwise_distances\n",
    "import matplotlib.pyplot as plt\n",
    "import warnings\n",
    "warnings.filterwarnings(\"ignore\")"
   ]
  },
  {
   "cell_type": "code",
   "execution_count": 3,
   "metadata": {},
   "outputs": [
    {
     "data": {
      "text/plain": [
       "'\\n    Setting up functions\\n'"
      ]
     },
     "execution_count": 3,
     "metadata": {},
     "output_type": "execute_result"
    }
   ],
   "source": [
    "\"\"\"\n",
    "    Setting up functions\n",
    "\"\"\""
   ]
  },
  {
   "cell_type": "code",
   "execution_count": 4,
   "metadata": {},
   "outputs": [],
   "source": [
    "def uncouple(train_set: Trainset, test_set: list):\n",
    "    \"\"\"\n",
    "    Description:\n",
    "        It takes in a Trainset-Surprise object and \n",
    "        a list of test set data, and returns two pandas \n",
    "        dataframes: one containing the training set \n",
    "        data, and the other containing the test set \n",
    "        data.\n",
    "    Input: \n",
    "        train_set: a Trainset object containing the \n",
    "        training set data. \n",
    "        test_set: a list containing the test set data\n",
    "    Output:\n",
    "        df_train: a pandas dataframe containing the \n",
    "        training set data, with columns 'uid', 'iid' \n",
    "        and 'rating'\n",
    "        df_test: a pandas dataframe containing the test \n",
    "        set data, with columns 'uid', 'iid', and 'rating'\n",
    "    \"\"\"\n",
    "    iterator = train_set.all_ratings()\n",
    "    df_train = pd.DataFrame(train_set.all_ratings(), columns=['uid', 'iid', 'rating'])\n",
    "    df_test = pd.DataFrame.from_records(test_set, columns = ['uid', 'iid', 'rating'])\n",
    "    \n",
    "    return df_train, df_test\n",
    "\n",
    "\n",
    "\n",
    "def get_similarity_matrix(data: pd.DataFrame, index: List[str], columns: List[str], values: str, metric: str):\n",
    "    \"\"\"\n",
    "    Description:\n",
    "        It takes the ratings data and returns an\n",
    "        user-user similarity matrix.\n",
    "        Null data is filled with zero.\n",
    "    Input: \n",
    "        data: pandas DataFrame containing the data \n",
    "        to be transformed into a rating matrix\n",
    "        index: a list of strings representing the \n",
    "        column names that will be used as the index \n",
    "        columns: a list of strings representing the \n",
    "        column names that will be used as the columns \n",
    "        of the rating matrix.\n",
    "        values: a string representing the column name \n",
    "        metric: the metric to use when calculating \n",
    "        distance between instances\n",
    "    Output:\n",
    "        similarity_matrix: an pandas user-user similarity\n",
    "        matrix\n",
    "    \"\"\"\n",
    "    if metric not in ['cosine', 'euclidean', 'l1', 'l2']:\n",
    "        raise ValueError('Invalid metric. Please choose one of the following: cosine, euclidean, l1 or l2')\n",
    "    rating_matrix = data.pivot_table(index=index, columns=columns, values=values)\n",
    "    rating_matrix = rating_matrix.copy().fillna(0)\n",
    "    similarity_matrix = pairwise_distances(rating_matrix, rating_matrix, metric=metric)\n",
    "    \n",
    "    return similarity_matrix\n",
    "\n",
    "\n",
    "def get_adjacency_matrix(original_matrix: np.ndarray, percentile: float = 0.9):\n",
    "    if percentile < 0 or percentile > 100:\n",
    "        raise ValueError(\"The value of the 'percentile' parameter must be between 0 and 100\")\n",
    "    else:\n",
    "        adjacency_matrix = original_matrix.copy()\n",
    "        percentile_matrix = np.percentile(adjacency_matrix, percentile, axis=1, keepdims=True)\n",
    "        adjacency_matrix = np.greater_equal(adjacency_matrix, percentile_matrix).astype(int)\n",
    "        return adjacency_matrix"
   ]
  },
  {
   "cell_type": "code",
   "execution_count": 5,
   "metadata": {},
   "outputs": [
    {
     "data": {
      "text/plain": [
       "'\\n    Setting up experiment algorithms \\n'"
      ]
     },
     "execution_count": 5,
     "metadata": {},
     "output_type": "execute_result"
    }
   ],
   "source": [
    "\"\"\"\n",
    "    Setting up experiment algorithms \n",
    "\"\"\""
   ]
  },
  {
   "cell_type": "code",
   "execution_count": 6,
   "metadata": {},
   "outputs": [],
   "source": [
    "algos_recommendation = {\n",
    "    'SVD': SVD(verbose=False),\n",
    "    'k-NN': KNNBasic(verbose=False), \n",
    "    'NMF': NMF(verbose=False), \n",
    "    'Co-Clustering': CoClustering(verbose=False)\n",
    "}\n",
    "\n",
    "communities_detectors = {\n",
    "    'Not-Applicable': None,\n",
    "    'Louvain': algorithms.louvain,\n",
    "    'Paris': algorithms.paris,\n",
    "    'Surprise': algorithms.surprise_communities \n",
    "}"
   ]
  },
  {
   "attachments": {},
   "cell_type": "markdown",
   "metadata": {},
   "source": [
    "### Running experiment"
   ]
  },
  {
   "cell_type": "code",
   "execution_count": 7,
   "metadata": {},
   "outputs": [
    {
     "data": {
      "application/vnd.jupyter.widget-view+json": {
       "model_id": "4df4313929874e3e8360d76f4d90091b",
       "version_major": 2,
       "version_minor": 0
      },
      "text/plain": [
       "General Progress:   0%|          | 0/1 [00:00<?, ?it/s]"
      ]
     },
     "metadata": {},
     "output_type": "display_data"
    },
    {
     "data": {
      "application/vnd.jupyter.widget-view+json": {
       "model_id": "9b476026bb0645018bcddc928f09a510",
       "version_major": 2,
       "version_minor": 0
      },
      "text/plain": [
       "Test Size Progress:   0%|          | 0/3 [00:00<?, ?it/s]"
      ]
     },
     "metadata": {},
     "output_type": "display_data"
    },
    {
     "data": {
      "application/vnd.jupyter.widget-view+json": {
       "model_id": "d1b426729bc44f089ca0c8e9c6f36de1",
       "version_major": 2,
       "version_minor": 0
      },
      "text/plain": [
       "Splits Progress: 0it [00:00, ?it/s]"
      ]
     },
     "metadata": {},
     "output_type": "display_data"
    },
    {
     "data": {
      "application/vnd.jupyter.widget-view+json": {
       "model_id": "702685f3a932494e8197b00c449dcc4a",
       "version_major": 2,
       "version_minor": 0
      },
      "text/plain": [
       "Similarity Metric Progress:   0%|          | 0/4 [00:00<?, ?it/s]"
      ]
     },
     "metadata": {},
     "output_type": "display_data"
    },
    {
     "data": {
      "application/vnd.jupyter.widget-view+json": {
       "model_id": "7edb66543d3e4192885b7a3365fc2700",
       "version_major": 2,
       "version_minor": 0
      },
      "text/plain": [
       "Community Detector Progress:   0%|          | 0/4 [00:00<?, ?it/s]"
      ]
     },
     "metadata": {},
     "output_type": "display_data"
    },
    {
     "data": {
      "application/vnd.jupyter.widget-view+json": {
       "model_id": "333e7f9d3c184195a4c3b07f768ef638",
       "version_major": 2,
       "version_minor": 0
      },
      "text/plain": [
       "Algorithm Progress:   0%|          | 0/4 [00:00<?, ?it/s]"
      ]
     },
     "metadata": {},
     "output_type": "display_data"
    },
    {
     "data": {
      "application/vnd.jupyter.widget-view+json": {
       "model_id": "0d1daf37403d4dd8a74d8ece21780f30",
       "version_major": 2,
       "version_minor": 0
      },
      "text/plain": [
       "Algorithm Progress:   0%|          | 0/4 [00:00<?, ?it/s]"
      ]
     },
     "metadata": {},
     "output_type": "display_data"
    },
    {
     "data": {
      "application/vnd.jupyter.widget-view+json": {
       "model_id": "311b31b8c947471aabbe7703e28e5787",
       "version_major": 2,
       "version_minor": 0
      },
      "text/plain": [
       "Communities progress:   0%|          | 0/3 [00:00<?, ?it/s]"
      ]
     },
     "metadata": {},
     "output_type": "display_data"
    },
    {
     "data": {
      "application/vnd.jupyter.widget-view+json": {
       "model_id": "f0ef82f60fb64e02ba0966599d5f5c9f",
       "version_major": 2,
       "version_minor": 0
      },
      "text/plain": [
       "Communities progress:   0%|          | 0/3 [00:00<?, ?it/s]"
      ]
     },
     "metadata": {},
     "output_type": "display_data"
    },
    {
     "data": {
      "application/vnd.jupyter.widget-view+json": {
       "model_id": "9edcc6c27e914e25b1848d6bb3b41c14",
       "version_major": 2,
       "version_minor": 0
      },
      "text/plain": [
       "Communities progress:   0%|          | 0/3 [00:00<?, ?it/s]"
      ]
     },
     "metadata": {},
     "output_type": "display_data"
    },
    {
     "data": {
      "application/vnd.jupyter.widget-view+json": {
       "model_id": "1664eb4fc63f42138da86c7c7a9514e4",
       "version_major": 2,
       "version_minor": 0
      },
      "text/plain": [
       "Communities progress:   0%|          | 0/4 [00:00<?, ?it/s]"
      ]
     },
     "metadata": {},
     "output_type": "display_data"
    },
    {
     "data": {
      "application/vnd.jupyter.widget-view+json": {
       "model_id": "73ea2bcfa633466288abc0a2dd27648e",
       "version_major": 2,
       "version_minor": 0
      },
      "text/plain": [
       "Algorithm Progress:   0%|          | 0/4 [00:00<?, ?it/s]"
      ]
     },
     "metadata": {},
     "output_type": "display_data"
    },
    {
     "data": {
      "application/vnd.jupyter.widget-view+json": {
       "model_id": "a3d9674570aa431c8230aafb27773589",
       "version_major": 2,
       "version_minor": 0
      },
      "text/plain": [
       "Communities progress:   0%|          | 0/3 [00:00<?, ?it/s]"
      ]
     },
     "metadata": {},
     "output_type": "display_data"
    },
    {
     "data": {
      "application/vnd.jupyter.widget-view+json": {
       "model_id": "272e6be941df45d28be4b025c1078397",
       "version_major": 2,
       "version_minor": 0
      },
      "text/plain": [
       "Communities progress:   0%|          | 0/3 [00:00<?, ?it/s]"
      ]
     },
     "metadata": {},
     "output_type": "display_data"
    },
    {
     "data": {
      "application/vnd.jupyter.widget-view+json": {
       "model_id": "c888341f25c944ceb04ac828db9f6a93",
       "version_major": 2,
       "version_minor": 0
      },
      "text/plain": [
       "Communities progress:   0%|          | 0/3 [00:00<?, ?it/s]"
      ]
     },
     "metadata": {},
     "output_type": "display_data"
    },
    {
     "data": {
      "application/vnd.jupyter.widget-view+json": {
       "model_id": "d66d7f4ad1484120bf395d5d4f2282b2",
       "version_major": 2,
       "version_minor": 0
      },
      "text/plain": [
       "Communities progress:   0%|          | 0/3 [00:00<?, ?it/s]"
      ]
     },
     "metadata": {},
     "output_type": "display_data"
    },
    {
     "data": {
      "application/vnd.jupyter.widget-view+json": {
       "model_id": "cad9fbfaead04ae6bff42f00fc5a36d3",
       "version_major": 2,
       "version_minor": 0
      },
      "text/plain": [
       "Algorithm Progress:   0%|          | 0/4 [00:00<?, ?it/s]"
      ]
     },
     "metadata": {},
     "output_type": "display_data"
    },
    {
     "data": {
      "application/vnd.jupyter.widget-view+json": {
       "model_id": "b43995dcb2ea4ed0b11ed59407e8559a",
       "version_major": 2,
       "version_minor": 0
      },
      "text/plain": [
       "Communities progress:   0%|          | 0/511 [00:00<?, ?it/s]"
      ]
     },
     "metadata": {},
     "output_type": "display_data"
    },
    {
     "data": {
      "application/vnd.jupyter.widget-view+json": {
       "model_id": "101dd9ec632d47b685bf40a31c701ea1",
       "version_major": 2,
       "version_minor": 0
      },
      "text/plain": [
       "Communities progress:   0%|          | 0/473 [00:00<?, ?it/s]"
      ]
     },
     "metadata": {},
     "output_type": "display_data"
    },
    {
     "data": {
      "application/vnd.jupyter.widget-view+json": {
       "model_id": "cf73cb5d56b64c7aa0de198fc1e7ef20",
       "version_major": 2,
       "version_minor": 0
      },
      "text/plain": [
       "Communities progress:   0%|          | 0/497 [00:00<?, ?it/s]"
      ]
     },
     "metadata": {},
     "output_type": "display_data"
    },
    {
     "data": {
      "application/vnd.jupyter.widget-view+json": {
       "model_id": "80968aeb670e458fa07c78d526b0e306",
       "version_major": 2,
       "version_minor": 0
      },
      "text/plain": [
       "Communities progress:   0%|          | 0/491 [00:00<?, ?it/s]"
      ]
     },
     "metadata": {},
     "output_type": "display_data"
    },
    {
     "data": {
      "application/vnd.jupyter.widget-view+json": {
       "model_id": "8072985323474f10b09a0682e47eddc5",
       "version_major": 2,
       "version_minor": 0
      },
      "text/plain": [
       "Community Detector Progress:   0%|          | 0/4 [00:00<?, ?it/s]"
      ]
     },
     "metadata": {},
     "output_type": "display_data"
    },
    {
     "data": {
      "application/vnd.jupyter.widget-view+json": {
       "model_id": "7bba1dd6cd1a43e397bc231233b02ec4",
       "version_major": 2,
       "version_minor": 0
      },
      "text/plain": [
       "Algorithm Progress:   0%|          | 0/4 [00:00<?, ?it/s]"
      ]
     },
     "metadata": {},
     "output_type": "display_data"
    },
    {
     "data": {
      "application/vnd.jupyter.widget-view+json": {
       "model_id": "53be1b162c97415887dffa743450d096",
       "version_major": 2,
       "version_minor": 0
      },
      "text/plain": [
       "Algorithm Progress:   0%|          | 0/4 [00:00<?, ?it/s]"
      ]
     },
     "metadata": {},
     "output_type": "display_data"
    },
    {
     "data": {
      "application/vnd.jupyter.widget-view+json": {
       "model_id": "051d416dce054b91a9936df5346d3be2",
       "version_major": 2,
       "version_minor": 0
      },
      "text/plain": [
       "Communities progress:   0%|          | 0/3 [00:00<?, ?it/s]"
      ]
     },
     "metadata": {},
     "output_type": "display_data"
    },
    {
     "data": {
      "application/vnd.jupyter.widget-view+json": {
       "model_id": "336628a10a1f413d8952d7612ecea711",
       "version_major": 2,
       "version_minor": 0
      },
      "text/plain": [
       "Communities progress:   0%|          | 0/3 [00:00<?, ?it/s]"
      ]
     },
     "metadata": {},
     "output_type": "display_data"
    },
    {
     "data": {
      "application/vnd.jupyter.widget-view+json": {
       "model_id": "6b44e068ffea4b208edf572ec6410ba5",
       "version_major": 2,
       "version_minor": 0
      },
      "text/plain": [
       "Communities progress:   0%|          | 0/3 [00:00<?, ?it/s]"
      ]
     },
     "metadata": {},
     "output_type": "display_data"
    },
    {
     "data": {
      "application/vnd.jupyter.widget-view+json": {
       "model_id": "52532828281e4712a02a43e23b64ae18",
       "version_major": 2,
       "version_minor": 0
      },
      "text/plain": [
       "Communities progress:   0%|          | 0/3 [00:00<?, ?it/s]"
      ]
     },
     "metadata": {},
     "output_type": "display_data"
    },
    {
     "data": {
      "application/vnd.jupyter.widget-view+json": {
       "model_id": "5845c958953d4304805583c8354741b2",
       "version_major": 2,
       "version_minor": 0
      },
      "text/plain": [
       "Algorithm Progress:   0%|          | 0/4 [00:00<?, ?it/s]"
      ]
     },
     "metadata": {},
     "output_type": "display_data"
    },
    {
     "data": {
      "application/vnd.jupyter.widget-view+json": {
       "model_id": "c8ed0126bb374b48adfdefc0f448c5d2",
       "version_major": 2,
       "version_minor": 0
      },
      "text/plain": [
       "Communities progress:   0%|          | 0/2 [00:00<?, ?it/s]"
      ]
     },
     "metadata": {},
     "output_type": "display_data"
    },
    {
     "data": {
      "application/vnd.jupyter.widget-view+json": {
       "model_id": "21f2f7924fcf49de8c9e7421a9e14ad1",
       "version_major": 2,
       "version_minor": 0
      },
      "text/plain": [
       "Communities progress:   0%|          | 0/2 [00:00<?, ?it/s]"
      ]
     },
     "metadata": {},
     "output_type": "display_data"
    },
    {
     "data": {
      "application/vnd.jupyter.widget-view+json": {
       "model_id": "923a71ff35b94f44a1f02b9a96a1a3ed",
       "version_major": 2,
       "version_minor": 0
      },
      "text/plain": [
       "Communities progress:   0%|          | 0/2 [00:00<?, ?it/s]"
      ]
     },
     "metadata": {},
     "output_type": "display_data"
    },
    {
     "data": {
      "application/vnd.jupyter.widget-view+json": {
       "model_id": "902c4bd85ddb4ef286d04a92c5619fad",
       "version_major": 2,
       "version_minor": 0
      },
      "text/plain": [
       "Communities progress:   0%|          | 0/2 [00:00<?, ?it/s]"
      ]
     },
     "metadata": {},
     "output_type": "display_data"
    },
    {
     "data": {
      "application/vnd.jupyter.widget-view+json": {
       "model_id": "391d1c34261847ef9f361b091827191c",
       "version_major": 2,
       "version_minor": 0
      },
      "text/plain": [
       "Algorithm Progress:   0%|          | 0/4 [00:00<?, ?it/s]"
      ]
     },
     "metadata": {},
     "output_type": "display_data"
    },
    {
     "data": {
      "application/vnd.jupyter.widget-view+json": {
       "model_id": "6398b598aa3043378352c054c7c12907",
       "version_major": 2,
       "version_minor": 0
      },
      "text/plain": [
       "Communities progress:   0%|          | 0/81 [00:00<?, ?it/s]"
      ]
     },
     "metadata": {},
     "output_type": "display_data"
    },
    {
     "data": {
      "application/vnd.jupyter.widget-view+json": {
       "model_id": "596148b70ce64d9099e38049d0d4f3d7",
       "version_major": 2,
       "version_minor": 0
      },
      "text/plain": [
       "Communities progress:   0%|          | 0/81 [00:00<?, ?it/s]"
      ]
     },
     "metadata": {},
     "output_type": "display_data"
    },
    {
     "data": {
      "application/vnd.jupyter.widget-view+json": {
       "model_id": "bc883196b3a840bbbe08cbb15d7b80a2",
       "version_major": 2,
       "version_minor": 0
      },
      "text/plain": [
       "Communities progress:   0%|          | 0/82 [00:00<?, ?it/s]"
      ]
     },
     "metadata": {},
     "output_type": "display_data"
    },
    {
     "data": {
      "application/vnd.jupyter.widget-view+json": {
       "model_id": "578e69cced8d4d4bbabfd3cedb517235",
       "version_major": 2,
       "version_minor": 0
      },
      "text/plain": [
       "Communities progress:   0%|          | 0/104 [00:00<?, ?it/s]"
      ]
     },
     "metadata": {},
     "output_type": "display_data"
    },
    {
     "data": {
      "application/vnd.jupyter.widget-view+json": {
       "model_id": "c6208ee5e58043debfcdcd580dd0d025",
       "version_major": 2,
       "version_minor": 0
      },
      "text/plain": [
       "Community Detector Progress:   0%|          | 0/4 [00:00<?, ?it/s]"
      ]
     },
     "metadata": {},
     "output_type": "display_data"
    },
    {
     "data": {
      "application/vnd.jupyter.widget-view+json": {
       "model_id": "cc52e5ebdb054bd5a9e212423ffa1b02",
       "version_major": 2,
       "version_minor": 0
      },
      "text/plain": [
       "Algorithm Progress:   0%|          | 0/4 [00:00<?, ?it/s]"
      ]
     },
     "metadata": {},
     "output_type": "display_data"
    },
    {
     "data": {
      "application/vnd.jupyter.widget-view+json": {
       "model_id": "dd0ca6f822644ec3b3300643754d6b9d",
       "version_major": 2,
       "version_minor": 0
      },
      "text/plain": [
       "Algorithm Progress:   0%|          | 0/4 [00:00<?, ?it/s]"
      ]
     },
     "metadata": {},
     "output_type": "display_data"
    },
    {
     "data": {
      "application/vnd.jupyter.widget-view+json": {
       "model_id": "965afd07e3484cd4bfd25d75c3d85226",
       "version_major": 2,
       "version_minor": 0
      },
      "text/plain": [
       "Communities progress:   0%|          | 0/3 [00:00<?, ?it/s]"
      ]
     },
     "metadata": {},
     "output_type": "display_data"
    },
    {
     "data": {
      "application/vnd.jupyter.widget-view+json": {
       "model_id": "eec72bf942884babb9835c52a85348df",
       "version_major": 2,
       "version_minor": 0
      },
      "text/plain": [
       "Communities progress:   0%|          | 0/3 [00:00<?, ?it/s]"
      ]
     },
     "metadata": {},
     "output_type": "display_data"
    },
    {
     "data": {
      "application/vnd.jupyter.widget-view+json": {
       "model_id": "219843bdbbbb4971b628e05402d439f3",
       "version_major": 2,
       "version_minor": 0
      },
      "text/plain": [
       "Communities progress:   0%|          | 0/3 [00:00<?, ?it/s]"
      ]
     },
     "metadata": {},
     "output_type": "display_data"
    },
    {
     "data": {
      "application/vnd.jupyter.widget-view+json": {
       "model_id": "8804b4be951a408a996f5df5e5c185b6",
       "version_major": 2,
       "version_minor": 0
      },
      "text/plain": [
       "Communities progress:   0%|          | 0/3 [00:00<?, ?it/s]"
      ]
     },
     "metadata": {},
     "output_type": "display_data"
    },
    {
     "data": {
      "application/vnd.jupyter.widget-view+json": {
       "model_id": "1fea7c30b34b40e0b549e1e76c121234",
       "version_major": 2,
       "version_minor": 0
      },
      "text/plain": [
       "Algorithm Progress:   0%|          | 0/4 [00:00<?, ?it/s]"
      ]
     },
     "metadata": {},
     "output_type": "display_data"
    },
    {
     "data": {
      "application/vnd.jupyter.widget-view+json": {
       "model_id": "2a2104e512f44ea69d4945307f0fdcb5",
       "version_major": 2,
       "version_minor": 0
      },
      "text/plain": [
       "Communities progress:   0%|          | 0/86 [00:00<?, ?it/s]"
      ]
     },
     "metadata": {},
     "output_type": "display_data"
    },
    {
     "data": {
      "application/vnd.jupyter.widget-view+json": {
       "model_id": "5c8a1d4c376f49e9bf3e9738ff27689c",
       "version_major": 2,
       "version_minor": 0
      },
      "text/plain": [
       "Communities progress:   0%|          | 0/86 [00:00<?, ?it/s]"
      ]
     },
     "metadata": {},
     "output_type": "display_data"
    },
    {
     "data": {
      "application/vnd.jupyter.widget-view+json": {
       "model_id": "d38a8a65115d4694a5307f39094ffef9",
       "version_major": 2,
       "version_minor": 0
      },
      "text/plain": [
       "Communities progress:   0%|          | 0/86 [00:00<?, ?it/s]"
      ]
     },
     "metadata": {},
     "output_type": "display_data"
    },
    {
     "data": {
      "application/vnd.jupyter.widget-view+json": {
       "model_id": "5f885625b55c416ab5c6d0142525e068",
       "version_major": 2,
       "version_minor": 0
      },
      "text/plain": [
       "Communities progress:   0%|          | 0/86 [00:00<?, ?it/s]"
      ]
     },
     "metadata": {},
     "output_type": "display_data"
    },
    {
     "data": {
      "application/vnd.jupyter.widget-view+json": {
       "model_id": "95689b727d9c4c3297a9d7d3ece3d0d1",
       "version_major": 2,
       "version_minor": 0
      },
      "text/plain": [
       "Algorithm Progress:   0%|          | 0/4 [00:00<?, ?it/s]"
      ]
     },
     "metadata": {},
     "output_type": "display_data"
    },
    {
     "data": {
      "application/vnd.jupyter.widget-view+json": {
       "model_id": "7ceca9450bdf4def85f2840246fe02ed",
       "version_major": 2,
       "version_minor": 0
      },
      "text/plain": [
       "Communities progress:   0%|          | 0/531 [00:00<?, ?it/s]"
      ]
     },
     "metadata": {},
     "output_type": "display_data"
    },
    {
     "data": {
      "application/vnd.jupyter.widget-view+json": {
       "model_id": "7035af559d174b58a6ccc28163628534",
       "version_major": 2,
       "version_minor": 0
      },
      "text/plain": [
       "Communities progress:   0%|          | 0/558 [00:00<?, ?it/s]"
      ]
     },
     "metadata": {},
     "output_type": "display_data"
    },
    {
     "data": {
      "application/vnd.jupyter.widget-view+json": {
       "model_id": "55faf37cd76c4972bb2c7f7ab2b68c3f",
       "version_major": 2,
       "version_minor": 0
      },
      "text/plain": [
       "Communities progress:   0%|          | 0/552 [00:00<?, ?it/s]"
      ]
     },
     "metadata": {},
     "output_type": "display_data"
    },
    {
     "data": {
      "application/vnd.jupyter.widget-view+json": {
       "model_id": "c09929bd6c2743ef87a42e36fe30aec9",
       "version_major": 2,
       "version_minor": 0
      },
      "text/plain": [
       "Communities progress:   0%|          | 0/529 [00:00<?, ?it/s]"
      ]
     },
     "metadata": {},
     "output_type": "display_data"
    },
    {
     "data": {
      "application/vnd.jupyter.widget-view+json": {
       "model_id": "a663888392bd4bf89afc029aeef1a050",
       "version_major": 2,
       "version_minor": 0
      },
      "text/plain": [
       "Community Detector Progress:   0%|          | 0/4 [00:00<?, ?it/s]"
      ]
     },
     "metadata": {},
     "output_type": "display_data"
    },
    {
     "data": {
      "application/vnd.jupyter.widget-view+json": {
       "model_id": "ccd4085f2e934793b56bf9beef6f4cbb",
       "version_major": 2,
       "version_minor": 0
      },
      "text/plain": [
       "Algorithm Progress:   0%|          | 0/4 [00:00<?, ?it/s]"
      ]
     },
     "metadata": {},
     "output_type": "display_data"
    },
    {
     "data": {
      "application/vnd.jupyter.widget-view+json": {
       "model_id": "a2db08488e274fc7a57ba7b84a03310f",
       "version_major": 2,
       "version_minor": 0
      },
      "text/plain": [
       "Algorithm Progress:   0%|          | 0/4 [00:00<?, ?it/s]"
      ]
     },
     "metadata": {},
     "output_type": "display_data"
    },
    {
     "data": {
      "application/vnd.jupyter.widget-view+json": {
       "model_id": "0f1a89c0e4fb44bdbff63df8536aec9f",
       "version_major": 2,
       "version_minor": 0
      },
      "text/plain": [
       "Communities progress:   0%|          | 0/3 [00:00<?, ?it/s]"
      ]
     },
     "metadata": {},
     "output_type": "display_data"
    },
    {
     "data": {
      "application/vnd.jupyter.widget-view+json": {
       "model_id": "c962920801db4206bc7625768d2058d5",
       "version_major": 2,
       "version_minor": 0
      },
      "text/plain": [
       "Communities progress:   0%|          | 0/3 [00:00<?, ?it/s]"
      ]
     },
     "metadata": {},
     "output_type": "display_data"
    },
    {
     "data": {
      "application/vnd.jupyter.widget-view+json": {
       "model_id": "3955b784dfac4cda89cf73d934ca817d",
       "version_major": 2,
       "version_minor": 0
      },
      "text/plain": [
       "Communities progress:   0%|          | 0/3 [00:00<?, ?it/s]"
      ]
     },
     "metadata": {},
     "output_type": "display_data"
    },
    {
     "data": {
      "application/vnd.jupyter.widget-view+json": {
       "model_id": "7f46c027c5a04f71b150f7351ed6b04a",
       "version_major": 2,
       "version_minor": 0
      },
      "text/plain": [
       "Communities progress:   0%|          | 0/4 [00:00<?, ?it/s]"
      ]
     },
     "metadata": {},
     "output_type": "display_data"
    },
    {
     "data": {
      "application/vnd.jupyter.widget-view+json": {
       "model_id": "428671e644d94d4ba79d5f5d2e89ef39",
       "version_major": 2,
       "version_minor": 0
      },
      "text/plain": [
       "Algorithm Progress:   0%|          | 0/4 [00:00<?, ?it/s]"
      ]
     },
     "metadata": {},
     "output_type": "display_data"
    },
    {
     "data": {
      "application/vnd.jupyter.widget-view+json": {
       "model_id": "88f53fcdddca44d1aa51556193de1fab",
       "version_major": 2,
       "version_minor": 0
      },
      "text/plain": [
       "Communities progress:   0%|          | 0/3 [00:00<?, ?it/s]"
      ]
     },
     "metadata": {},
     "output_type": "display_data"
    },
    {
     "data": {
      "application/vnd.jupyter.widget-view+json": {
       "model_id": "b2382a32018f48deb6ab9d9d034f5e25",
       "version_major": 2,
       "version_minor": 0
      },
      "text/plain": [
       "Communities progress:   0%|          | 0/3 [00:00<?, ?it/s]"
      ]
     },
     "metadata": {},
     "output_type": "display_data"
    },
    {
     "data": {
      "application/vnd.jupyter.widget-view+json": {
       "model_id": "1c4394985f0749c0be15f79e53aa81da",
       "version_major": 2,
       "version_minor": 0
      },
      "text/plain": [
       "Communities progress:   0%|          | 0/3 [00:00<?, ?it/s]"
      ]
     },
     "metadata": {},
     "output_type": "display_data"
    },
    {
     "data": {
      "application/vnd.jupyter.widget-view+json": {
       "model_id": "7eb46512799b4299b019fd6c6d87b79e",
       "version_major": 2,
       "version_minor": 0
      },
      "text/plain": [
       "Communities progress:   0%|          | 0/3 [00:00<?, ?it/s]"
      ]
     },
     "metadata": {},
     "output_type": "display_data"
    },
    {
     "data": {
      "application/vnd.jupyter.widget-view+json": {
       "model_id": "da6cc99db479482c87f0b8f572b5f8d9",
       "version_major": 2,
       "version_minor": 0
      },
      "text/plain": [
       "Algorithm Progress:   0%|          | 0/4 [00:00<?, ?it/s]"
      ]
     },
     "metadata": {},
     "output_type": "display_data"
    },
    {
     "data": {
      "application/vnd.jupyter.widget-view+json": {
       "model_id": "71d8e4121721401a8cb2cea482812b1e",
       "version_major": 2,
       "version_minor": 0
      },
      "text/plain": [
       "Communities progress:   0%|          | 0/551 [00:00<?, ?it/s]"
      ]
     },
     "metadata": {},
     "output_type": "display_data"
    },
    {
     "data": {
      "application/vnd.jupyter.widget-view+json": {
       "model_id": "dfb5d5b5315f4af1adf180b11067de2d",
       "version_major": 2,
       "version_minor": 0
      },
      "text/plain": [
       "Communities progress:   0%|          | 0/503 [00:00<?, ?it/s]"
      ]
     },
     "metadata": {},
     "output_type": "display_data"
    },
    {
     "data": {
      "application/vnd.jupyter.widget-view+json": {
       "model_id": "a232a5dc02934995a15ad103840a7715",
       "version_major": 2,
       "version_minor": 0
      },
      "text/plain": [
       "Communities progress:   0%|          | 0/490 [00:00<?, ?it/s]"
      ]
     },
     "metadata": {},
     "output_type": "display_data"
    },
    {
     "data": {
      "application/vnd.jupyter.widget-view+json": {
       "model_id": "efa4a784ae174792811e31dd6bd808ec",
       "version_major": 2,
       "version_minor": 0
      },
      "text/plain": [
       "Communities progress:   0%|          | 0/476 [00:00<?, ?it/s]"
      ]
     },
     "metadata": {},
     "output_type": "display_data"
    },
    {
     "data": {
      "application/vnd.jupyter.widget-view+json": {
       "model_id": "953ffc7749c34ec58469f3b81e5d7127",
       "version_major": 2,
       "version_minor": 0
      },
      "text/plain": [
       "Similarity Metric Progress:   0%|          | 0/4 [00:00<?, ?it/s]"
      ]
     },
     "metadata": {},
     "output_type": "display_data"
    },
    {
     "data": {
      "application/vnd.jupyter.widget-view+json": {
       "model_id": "719bea82f8704196a0cf0e91a8475268",
       "version_major": 2,
       "version_minor": 0
      },
      "text/plain": [
       "Community Detector Progress:   0%|          | 0/4 [00:00<?, ?it/s]"
      ]
     },
     "metadata": {},
     "output_type": "display_data"
    },
    {
     "data": {
      "application/vnd.jupyter.widget-view+json": {
       "model_id": "04e9e64eaa4a4fac910365944c3df29a",
       "version_major": 2,
       "version_minor": 0
      },
      "text/plain": [
       "Algorithm Progress:   0%|          | 0/4 [00:00<?, ?it/s]"
      ]
     },
     "metadata": {},
     "output_type": "display_data"
    },
    {
     "data": {
      "application/vnd.jupyter.widget-view+json": {
       "model_id": "6797c49650a849839ee6ce207b2f4c8c",
       "version_major": 2,
       "version_minor": 0
      },
      "text/plain": [
       "Algorithm Progress:   0%|          | 0/4 [00:00<?, ?it/s]"
      ]
     },
     "metadata": {},
     "output_type": "display_data"
    },
    {
     "data": {
      "application/vnd.jupyter.widget-view+json": {
       "model_id": "50ec1d4a5cde4764b6af3f00e7c4dcea",
       "version_major": 2,
       "version_minor": 0
      },
      "text/plain": [
       "Communities progress:   0%|          | 0/3 [00:00<?, ?it/s]"
      ]
     },
     "metadata": {},
     "output_type": "display_data"
    },
    {
     "data": {
      "application/vnd.jupyter.widget-view+json": {
       "model_id": "a1d3707c84324bdcb458c45d286a8aa1",
       "version_major": 2,
       "version_minor": 0
      },
      "text/plain": [
       "Communities progress:   0%|          | 0/3 [00:00<?, ?it/s]"
      ]
     },
     "metadata": {},
     "output_type": "display_data"
    },
    {
     "data": {
      "application/vnd.jupyter.widget-view+json": {
       "model_id": "9b0a167228004877bceb332d39be2cb2",
       "version_major": 2,
       "version_minor": 0
      },
      "text/plain": [
       "Communities progress:   0%|          | 0/3 [00:00<?, ?it/s]"
      ]
     },
     "metadata": {},
     "output_type": "display_data"
    },
    {
     "data": {
      "application/vnd.jupyter.widget-view+json": {
       "model_id": "7a5c66d1cf634cbd80c23faeac3c07fc",
       "version_major": 2,
       "version_minor": 0
      },
      "text/plain": [
       "Communities progress:   0%|          | 0/3 [00:00<?, ?it/s]"
      ]
     },
     "metadata": {},
     "output_type": "display_data"
    },
    {
     "data": {
      "application/vnd.jupyter.widget-view+json": {
       "model_id": "28633d53277d4bad944237ee402e7f2e",
       "version_major": 2,
       "version_minor": 0
      },
      "text/plain": [
       "Algorithm Progress:   0%|          | 0/4 [00:00<?, ?it/s]"
      ]
     },
     "metadata": {},
     "output_type": "display_data"
    },
    {
     "data": {
      "application/vnd.jupyter.widget-view+json": {
       "model_id": "759805aff62e4284ab1d4661903578e5",
       "version_major": 2,
       "version_minor": 0
      },
      "text/plain": [
       "Communities progress:   0%|          | 0/2 [00:00<?, ?it/s]"
      ]
     },
     "metadata": {},
     "output_type": "display_data"
    },
    {
     "data": {
      "application/vnd.jupyter.widget-view+json": {
       "model_id": "4095dff0679d441bac988c1b044dcbbc",
       "version_major": 2,
       "version_minor": 0
      },
      "text/plain": [
       "Communities progress:   0%|          | 0/2 [00:00<?, ?it/s]"
      ]
     },
     "metadata": {},
     "output_type": "display_data"
    },
    {
     "data": {
      "application/vnd.jupyter.widget-view+json": {
       "model_id": "341f2d2c49cc4a5c9ca2c7323f93189f",
       "version_major": 2,
       "version_minor": 0
      },
      "text/plain": [
       "Communities progress:   0%|          | 0/2 [00:00<?, ?it/s]"
      ]
     },
     "metadata": {},
     "output_type": "display_data"
    },
    {
     "data": {
      "application/vnd.jupyter.widget-view+json": {
       "model_id": "df3f08c9b13f4635965f1200baa77370",
       "version_major": 2,
       "version_minor": 0
      },
      "text/plain": [
       "Communities progress:   0%|          | 0/2 [00:00<?, ?it/s]"
      ]
     },
     "metadata": {},
     "output_type": "display_data"
    },
    {
     "data": {
      "application/vnd.jupyter.widget-view+json": {
       "model_id": "ccf6b0f6b5a548d0be6aedce2217b56c",
       "version_major": 2,
       "version_minor": 0
      },
      "text/plain": [
       "Algorithm Progress:   0%|          | 0/4 [00:00<?, ?it/s]"
      ]
     },
     "metadata": {},
     "output_type": "display_data"
    },
    {
     "data": {
      "application/vnd.jupyter.widget-view+json": {
       "model_id": "996a2ff7a5cd41b885c911f58151aab4",
       "version_major": 2,
       "version_minor": 0
      },
      "text/plain": [
       "Communities progress:   0%|          | 0/495 [00:00<?, ?it/s]"
      ]
     },
     "metadata": {},
     "output_type": "display_data"
    },
    {
     "data": {
      "application/vnd.jupyter.widget-view+json": {
       "model_id": "6563049e52334c6c94b9daaef9a1b372",
       "version_major": 2,
       "version_minor": 0
      },
      "text/plain": [
       "Communities progress:   0%|          | 0/487 [00:00<?, ?it/s]"
      ]
     },
     "metadata": {},
     "output_type": "display_data"
    },
    {
     "data": {
      "application/vnd.jupyter.widget-view+json": {
       "model_id": "b1021af6c5b5424ba080df30eff87aad",
       "version_major": 2,
       "version_minor": 0
      },
      "text/plain": [
       "Communities progress:   0%|          | 0/479 [00:00<?, ?it/s]"
      ]
     },
     "metadata": {},
     "output_type": "display_data"
    },
    {
     "data": {
      "application/vnd.jupyter.widget-view+json": {
       "model_id": "1694d86918c64533a8b587d932620c32",
       "version_major": 2,
       "version_minor": 0
      },
      "text/plain": [
       "Communities progress:   0%|          | 0/487 [00:00<?, ?it/s]"
      ]
     },
     "metadata": {},
     "output_type": "display_data"
    },
    {
     "data": {
      "application/vnd.jupyter.widget-view+json": {
       "model_id": "35e3b871946a46f28c25a5f551b302ec",
       "version_major": 2,
       "version_minor": 0
      },
      "text/plain": [
       "Community Detector Progress:   0%|          | 0/4 [00:00<?, ?it/s]"
      ]
     },
     "metadata": {},
     "output_type": "display_data"
    },
    {
     "data": {
      "application/vnd.jupyter.widget-view+json": {
       "model_id": "072d5197baff40ac8fbf0fb69792f79b",
       "version_major": 2,
       "version_minor": 0
      },
      "text/plain": [
       "Algorithm Progress:   0%|          | 0/4 [00:00<?, ?it/s]"
      ]
     },
     "metadata": {},
     "output_type": "display_data"
    },
    {
     "data": {
      "application/vnd.jupyter.widget-view+json": {
       "model_id": "c94518efdb1b4a879feb801ef801f348",
       "version_major": 2,
       "version_minor": 0
      },
      "text/plain": [
       "Algorithm Progress:   0%|          | 0/4 [00:00<?, ?it/s]"
      ]
     },
     "metadata": {},
     "output_type": "display_data"
    },
    {
     "data": {
      "application/vnd.jupyter.widget-view+json": {
       "model_id": "543f9c6cef864a73ac0d965bcf5abb95",
       "version_major": 2,
       "version_minor": 0
      },
      "text/plain": [
       "Communities progress:   0%|          | 0/3 [00:00<?, ?it/s]"
      ]
     },
     "metadata": {},
     "output_type": "display_data"
    },
    {
     "data": {
      "application/vnd.jupyter.widget-view+json": {
       "model_id": "be2450cb9143467b9d783be35c3d611d",
       "version_major": 2,
       "version_minor": 0
      },
      "text/plain": [
       "Communities progress:   0%|          | 0/3 [00:00<?, ?it/s]"
      ]
     },
     "metadata": {},
     "output_type": "display_data"
    },
    {
     "data": {
      "application/vnd.jupyter.widget-view+json": {
       "model_id": "45711a8a6fce49afa06eeebfb78231ec",
       "version_major": 2,
       "version_minor": 0
      },
      "text/plain": [
       "Communities progress:   0%|          | 0/4 [00:00<?, ?it/s]"
      ]
     },
     "metadata": {},
     "output_type": "display_data"
    },
    {
     "data": {
      "application/vnd.jupyter.widget-view+json": {
       "model_id": "89cf133360fe49fd80c2c2a73ebd0b77",
       "version_major": 2,
       "version_minor": 0
      },
      "text/plain": [
       "Communities progress:   0%|          | 0/3 [00:00<?, ?it/s]"
      ]
     },
     "metadata": {},
     "output_type": "display_data"
    },
    {
     "data": {
      "application/vnd.jupyter.widget-view+json": {
       "model_id": "c54848e310e04e6cb25b75857374754e",
       "version_major": 2,
       "version_minor": 0
      },
      "text/plain": [
       "Algorithm Progress:   0%|          | 0/4 [00:00<?, ?it/s]"
      ]
     },
     "metadata": {},
     "output_type": "display_data"
    },
    {
     "data": {
      "application/vnd.jupyter.widget-view+json": {
       "model_id": "f923696783e444b28bd37cc7d8eb0dee",
       "version_major": 2,
       "version_minor": 0
      },
      "text/plain": [
       "Communities progress:   0%|          | 0/2 [00:00<?, ?it/s]"
      ]
     },
     "metadata": {},
     "output_type": "display_data"
    },
    {
     "data": {
      "application/vnd.jupyter.widget-view+json": {
       "model_id": "aa51c575a8f44d8d88b88c198abfb19d",
       "version_major": 2,
       "version_minor": 0
      },
      "text/plain": [
       "Communities progress:   0%|          | 0/2 [00:00<?, ?it/s]"
      ]
     },
     "metadata": {},
     "output_type": "display_data"
    },
    {
     "data": {
      "application/vnd.jupyter.widget-view+json": {
       "model_id": "02650f5216f440ce9b9a336d1f27853a",
       "version_major": 2,
       "version_minor": 0
      },
      "text/plain": [
       "Communities progress:   0%|          | 0/2 [00:00<?, ?it/s]"
      ]
     },
     "metadata": {},
     "output_type": "display_data"
    },
    {
     "data": {
      "application/vnd.jupyter.widget-view+json": {
       "model_id": "a59125699a194ecf8e16685fc460ab60",
       "version_major": 2,
       "version_minor": 0
      },
      "text/plain": [
       "Communities progress:   0%|          | 0/2 [00:00<?, ?it/s]"
      ]
     },
     "metadata": {},
     "output_type": "display_data"
    },
    {
     "data": {
      "application/vnd.jupyter.widget-view+json": {
       "model_id": "3d13c8c727ae4e3583b5d69703093afe",
       "version_major": 2,
       "version_minor": 0
      },
      "text/plain": [
       "Algorithm Progress:   0%|          | 0/4 [00:00<?, ?it/s]"
      ]
     },
     "metadata": {},
     "output_type": "display_data"
    },
    {
     "data": {
      "application/vnd.jupyter.widget-view+json": {
       "model_id": "d458d4b419324614a60baf59dd453849",
       "version_major": 2,
       "version_minor": 0
      },
      "text/plain": [
       "Communities progress:   0%|          | 0/102 [00:00<?, ?it/s]"
      ]
     },
     "metadata": {},
     "output_type": "display_data"
    },
    {
     "data": {
      "application/vnd.jupyter.widget-view+json": {
       "model_id": "1fb96504e51d4ce398087bd0e6fc8702",
       "version_major": 2,
       "version_minor": 0
      },
      "text/plain": [
       "Communities progress:   0%|          | 0/82 [00:00<?, ?it/s]"
      ]
     },
     "metadata": {},
     "output_type": "display_data"
    },
    {
     "data": {
      "application/vnd.jupyter.widget-view+json": {
       "model_id": "7186356a17e34e498aa15ff8e0d946c3",
       "version_major": 2,
       "version_minor": 0
      },
      "text/plain": [
       "Communities progress:   0%|          | 0/96 [00:00<?, ?it/s]"
      ]
     },
     "metadata": {},
     "output_type": "display_data"
    },
    {
     "data": {
      "application/vnd.jupyter.widget-view+json": {
       "model_id": "6524810988084cc5a089f8b2c5539b6b",
       "version_major": 2,
       "version_minor": 0
      },
      "text/plain": [
       "Communities progress:   0%|          | 0/92 [00:00<?, ?it/s]"
      ]
     },
     "metadata": {},
     "output_type": "display_data"
    },
    {
     "data": {
      "application/vnd.jupyter.widget-view+json": {
       "model_id": "efb23ab128584126a417c4334529406a",
       "version_major": 2,
       "version_minor": 0
      },
      "text/plain": [
       "Community Detector Progress:   0%|          | 0/4 [00:00<?, ?it/s]"
      ]
     },
     "metadata": {},
     "output_type": "display_data"
    },
    {
     "data": {
      "application/vnd.jupyter.widget-view+json": {
       "model_id": "33b9d29ce874410f86e55763f1009bc0",
       "version_major": 2,
       "version_minor": 0
      },
      "text/plain": [
       "Algorithm Progress:   0%|          | 0/4 [00:00<?, ?it/s]"
      ]
     },
     "metadata": {},
     "output_type": "display_data"
    },
    {
     "data": {
      "application/vnd.jupyter.widget-view+json": {
       "model_id": "b26eaee726d94286b21f1147b501b0c2",
       "version_major": 2,
       "version_minor": 0
      },
      "text/plain": [
       "Algorithm Progress:   0%|          | 0/4 [00:00<?, ?it/s]"
      ]
     },
     "metadata": {},
     "output_type": "display_data"
    },
    {
     "data": {
      "application/vnd.jupyter.widget-view+json": {
       "model_id": "ed7026f805634b32a8565e7b6d36dd5d",
       "version_major": 2,
       "version_minor": 0
      },
      "text/plain": [
       "Communities progress:   0%|          | 0/3 [00:00<?, ?it/s]"
      ]
     },
     "metadata": {},
     "output_type": "display_data"
    },
    {
     "data": {
      "application/vnd.jupyter.widget-view+json": {
       "model_id": "435a93155d0b4900bbdbdb0f71949cbd",
       "version_major": 2,
       "version_minor": 0
      },
      "text/plain": [
       "Communities progress:   0%|          | 0/4 [00:00<?, ?it/s]"
      ]
     },
     "metadata": {},
     "output_type": "display_data"
    },
    {
     "data": {
      "application/vnd.jupyter.widget-view+json": {
       "model_id": "c42ff1d3ff9b42fbac73c668559c3027",
       "version_major": 2,
       "version_minor": 0
      },
      "text/plain": [
       "Communities progress:   0%|          | 0/3 [00:00<?, ?it/s]"
      ]
     },
     "metadata": {},
     "output_type": "display_data"
    },
    {
     "data": {
      "application/vnd.jupyter.widget-view+json": {
       "model_id": "f8f361d7067f46f2881ef1733cbfd5df",
       "version_major": 2,
       "version_minor": 0
      },
      "text/plain": [
       "Communities progress:   0%|          | 0/3 [00:00<?, ?it/s]"
      ]
     },
     "metadata": {},
     "output_type": "display_data"
    },
    {
     "data": {
      "application/vnd.jupyter.widget-view+json": {
       "model_id": "4e2e4d300eed453aa63ec25202347ec1",
       "version_major": 2,
       "version_minor": 0
      },
      "text/plain": [
       "Algorithm Progress:   0%|          | 0/4 [00:00<?, ?it/s]"
      ]
     },
     "metadata": {},
     "output_type": "display_data"
    },
    {
     "data": {
      "application/vnd.jupyter.widget-view+json": {
       "model_id": "70d25fefc6af4a90b00fa532fa8109ec",
       "version_major": 2,
       "version_minor": 0
      },
      "text/plain": [
       "Communities progress:   0%|          | 0/88 [00:00<?, ?it/s]"
      ]
     },
     "metadata": {},
     "output_type": "display_data"
    },
    {
     "data": {
      "application/vnd.jupyter.widget-view+json": {
       "model_id": "830f91e194634485a296f729f6b44569",
       "version_major": 2,
       "version_minor": 0
      },
      "text/plain": [
       "Communities progress:   0%|          | 0/88 [00:00<?, ?it/s]"
      ]
     },
     "metadata": {},
     "output_type": "display_data"
    },
    {
     "data": {
      "application/vnd.jupyter.widget-view+json": {
       "model_id": "90d57a9e9a1c45f2ae8992a781f2da08",
       "version_major": 2,
       "version_minor": 0
      },
      "text/plain": [
       "Communities progress:   0%|          | 0/88 [00:00<?, ?it/s]"
      ]
     },
     "metadata": {},
     "output_type": "display_data"
    },
    {
     "data": {
      "application/vnd.jupyter.widget-view+json": {
       "model_id": "6310d772de484c9b8c71e30eb356d1c2",
       "version_major": 2,
       "version_minor": 0
      },
      "text/plain": [
       "Communities progress:   0%|          | 0/88 [00:00<?, ?it/s]"
      ]
     },
     "metadata": {},
     "output_type": "display_data"
    },
    {
     "data": {
      "application/vnd.jupyter.widget-view+json": {
       "model_id": "eb62c7712ba94b8f9149632fbad6169e",
       "version_major": 2,
       "version_minor": 0
      },
      "text/plain": [
       "Algorithm Progress:   0%|          | 0/4 [00:00<?, ?it/s]"
      ]
     },
     "metadata": {},
     "output_type": "display_data"
    },
    {
     "data": {
      "application/vnd.jupyter.widget-view+json": {
       "model_id": "a32c1ab24fbd4ac993edcd53317e8da1",
       "version_major": 2,
       "version_minor": 0
      },
      "text/plain": [
       "Communities progress:   0%|          | 0/529 [00:00<?, ?it/s]"
      ]
     },
     "metadata": {},
     "output_type": "display_data"
    },
    {
     "data": {
      "application/vnd.jupyter.widget-view+json": {
       "model_id": "12191a638c5047aea3021498fe7f8d48",
       "version_major": 2,
       "version_minor": 0
      },
      "text/plain": [
       "Communities progress:   0%|          | 0/530 [00:00<?, ?it/s]"
      ]
     },
     "metadata": {},
     "output_type": "display_data"
    },
    {
     "data": {
      "application/vnd.jupyter.widget-view+json": {
       "model_id": "ff2fcf02561d428e895ff76bc384ec9a",
       "version_major": 2,
       "version_minor": 0
      },
      "text/plain": [
       "Communities progress:   0%|          | 0/506 [00:00<?, ?it/s]"
      ]
     },
     "metadata": {},
     "output_type": "display_data"
    },
    {
     "data": {
      "application/vnd.jupyter.widget-view+json": {
       "model_id": "7c94ec0eaf13467691ea704b7ccc376e",
       "version_major": 2,
       "version_minor": 0
      },
      "text/plain": [
       "Communities progress:   0%|          | 0/537 [00:00<?, ?it/s]"
      ]
     },
     "metadata": {},
     "output_type": "display_data"
    },
    {
     "data": {
      "application/vnd.jupyter.widget-view+json": {
       "model_id": "7ca062f3188b430d9aca75f39ed7d784",
       "version_major": 2,
       "version_minor": 0
      },
      "text/plain": [
       "Community Detector Progress:   0%|          | 0/4 [00:00<?, ?it/s]"
      ]
     },
     "metadata": {},
     "output_type": "display_data"
    },
    {
     "data": {
      "application/vnd.jupyter.widget-view+json": {
       "model_id": "8e93e91927ff4c4e862dcfcc76d066ca",
       "version_major": 2,
       "version_minor": 0
      },
      "text/plain": [
       "Algorithm Progress:   0%|          | 0/4 [00:00<?, ?it/s]"
      ]
     },
     "metadata": {},
     "output_type": "display_data"
    },
    {
     "data": {
      "application/vnd.jupyter.widget-view+json": {
       "model_id": "ebde496d758345ff9b59a0a57338a07f",
       "version_major": 2,
       "version_minor": 0
      },
      "text/plain": [
       "Algorithm Progress:   0%|          | 0/4 [00:00<?, ?it/s]"
      ]
     },
     "metadata": {},
     "output_type": "display_data"
    },
    {
     "data": {
      "application/vnd.jupyter.widget-view+json": {
       "model_id": "3a5b3fc0d2bb4b5699a81754eb33d5ec",
       "version_major": 2,
       "version_minor": 0
      },
      "text/plain": [
       "Communities progress:   0%|          | 0/3 [00:00<?, ?it/s]"
      ]
     },
     "metadata": {},
     "output_type": "display_data"
    },
    {
     "data": {
      "application/vnd.jupyter.widget-view+json": {
       "model_id": "ff4d3ce102cd48dfb0affb25d9097b57",
       "version_major": 2,
       "version_minor": 0
      },
      "text/plain": [
       "Communities progress:   0%|          | 0/3 [00:00<?, ?it/s]"
      ]
     },
     "metadata": {},
     "output_type": "display_data"
    },
    {
     "data": {
      "application/vnd.jupyter.widget-view+json": {
       "model_id": "95c131c1deb74797aa3411e2694d143e",
       "version_major": 2,
       "version_minor": 0
      },
      "text/plain": [
       "Communities progress:   0%|          | 0/3 [00:00<?, ?it/s]"
      ]
     },
     "metadata": {},
     "output_type": "display_data"
    },
    {
     "data": {
      "application/vnd.jupyter.widget-view+json": {
       "model_id": "35d1eb3a3dda4deebf395e74c485f79a",
       "version_major": 2,
       "version_minor": 0
      },
      "text/plain": [
       "Communities progress:   0%|          | 0/3 [00:00<?, ?it/s]"
      ]
     },
     "metadata": {},
     "output_type": "display_data"
    },
    {
     "data": {
      "application/vnd.jupyter.widget-view+json": {
       "model_id": "49abe08cfa664a9e9f1e0f88e7f0c2e9",
       "version_major": 2,
       "version_minor": 0
      },
      "text/plain": [
       "Algorithm Progress:   0%|          | 0/4 [00:00<?, ?it/s]"
      ]
     },
     "metadata": {},
     "output_type": "display_data"
    },
    {
     "data": {
      "application/vnd.jupyter.widget-view+json": {
       "model_id": "421b28b0a0d948a5908e2a8598f70eae",
       "version_major": 2,
       "version_minor": 0
      },
      "text/plain": [
       "Communities progress:   0%|          | 0/2 [00:00<?, ?it/s]"
      ]
     },
     "metadata": {},
     "output_type": "display_data"
    },
    {
     "data": {
      "application/vnd.jupyter.widget-view+json": {
       "model_id": "edcbf6d2e0b740c8b02ac7a76e99f3c3",
       "version_major": 2,
       "version_minor": 0
      },
      "text/plain": [
       "Communities progress:   0%|          | 0/2 [00:00<?, ?it/s]"
      ]
     },
     "metadata": {},
     "output_type": "display_data"
    },
    {
     "data": {
      "application/vnd.jupyter.widget-view+json": {
       "model_id": "cbaeceb50f2248b680838713c01e6c3a",
       "version_major": 2,
       "version_minor": 0
      },
      "text/plain": [
       "Communities progress:   0%|          | 0/2 [00:00<?, ?it/s]"
      ]
     },
     "metadata": {},
     "output_type": "display_data"
    },
    {
     "data": {
      "application/vnd.jupyter.widget-view+json": {
       "model_id": "4dc60a5c463949aaad70e0dfeec5f207",
       "version_major": 2,
       "version_minor": 0
      },
      "text/plain": [
       "Communities progress:   0%|          | 0/2 [00:00<?, ?it/s]"
      ]
     },
     "metadata": {},
     "output_type": "display_data"
    },
    {
     "data": {
      "application/vnd.jupyter.widget-view+json": {
       "model_id": "6262b2b981da48e5bf9f896977567525",
       "version_major": 2,
       "version_minor": 0
      },
      "text/plain": [
       "Algorithm Progress:   0%|          | 0/4 [00:00<?, ?it/s]"
      ]
     },
     "metadata": {},
     "output_type": "display_data"
    },
    {
     "data": {
      "application/vnd.jupyter.widget-view+json": {
       "model_id": "0a237913f9ad4e57bf77fa46c67d2939",
       "version_major": 2,
       "version_minor": 0
      },
      "text/plain": [
       "Communities progress:   0%|          | 0/473 [00:00<?, ?it/s]"
      ]
     },
     "metadata": {},
     "output_type": "display_data"
    },
    {
     "data": {
      "application/vnd.jupyter.widget-view+json": {
       "model_id": "dbddaeb73a5e4a7ca2f62ac3b91ffce0",
       "version_major": 2,
       "version_minor": 0
      },
      "text/plain": [
       "Communities progress:   0%|          | 0/473 [00:00<?, ?it/s]"
      ]
     },
     "metadata": {},
     "output_type": "display_data"
    },
    {
     "data": {
      "application/vnd.jupyter.widget-view+json": {
       "model_id": "98f3e8b9befc41b7a3643efda1844fba",
       "version_major": 2,
       "version_minor": 0
      },
      "text/plain": [
       "Communities progress:   0%|          | 0/498 [00:00<?, ?it/s]"
      ]
     },
     "metadata": {},
     "output_type": "display_data"
    },
    {
     "data": {
      "application/vnd.jupyter.widget-view+json": {
       "model_id": "1284e758131f4fa2998f5b7b4030415e",
       "version_major": 2,
       "version_minor": 0
      },
      "text/plain": [
       "Communities progress:   0%|          | 0/482 [00:00<?, ?it/s]"
      ]
     },
     "metadata": {},
     "output_type": "display_data"
    },
    {
     "data": {
      "application/vnd.jupyter.widget-view+json": {
       "model_id": "6601d1f049774cf3a22ea20e16d1f12d",
       "version_major": 2,
       "version_minor": 0
      },
      "text/plain": [
       "Similarity Metric Progress:   0%|          | 0/4 [00:00<?, ?it/s]"
      ]
     },
     "metadata": {},
     "output_type": "display_data"
    },
    {
     "data": {
      "application/vnd.jupyter.widget-view+json": {
       "model_id": "9c6026ac917943dab728e68447137a26",
       "version_major": 2,
       "version_minor": 0
      },
      "text/plain": [
       "Community Detector Progress:   0%|          | 0/4 [00:00<?, ?it/s]"
      ]
     },
     "metadata": {},
     "output_type": "display_data"
    },
    {
     "data": {
      "application/vnd.jupyter.widget-view+json": {
       "model_id": "e12c9a9850904426bceb2d170e5c7c98",
       "version_major": 2,
       "version_minor": 0
      },
      "text/plain": [
       "Algorithm Progress:   0%|          | 0/4 [00:00<?, ?it/s]"
      ]
     },
     "metadata": {},
     "output_type": "display_data"
    },
    {
     "data": {
      "application/vnd.jupyter.widget-view+json": {
       "model_id": "199f54f84d0e44b980f253578aff0195",
       "version_major": 2,
       "version_minor": 0
      },
      "text/plain": [
       "Algorithm Progress:   0%|          | 0/4 [00:00<?, ?it/s]"
      ]
     },
     "metadata": {},
     "output_type": "display_data"
    },
    {
     "data": {
      "application/vnd.jupyter.widget-view+json": {
       "model_id": "48cdff9e6c294c96954820fd2b68314f",
       "version_major": 2,
       "version_minor": 0
      },
      "text/plain": [
       "Communities progress:   0%|          | 0/3 [00:00<?, ?it/s]"
      ]
     },
     "metadata": {},
     "output_type": "display_data"
    },
    {
     "data": {
      "application/vnd.jupyter.widget-view+json": {
       "model_id": "9144b3f5b1764434a5b9416ff7edb652",
       "version_major": 2,
       "version_minor": 0
      },
      "text/plain": [
       "Communities progress:   0%|          | 0/3 [00:00<?, ?it/s]"
      ]
     },
     "metadata": {},
     "output_type": "display_data"
    },
    {
     "data": {
      "application/vnd.jupyter.widget-view+json": {
       "model_id": "a3cab17e009345ebb20cef66c16feab9",
       "version_major": 2,
       "version_minor": 0
      },
      "text/plain": [
       "Communities progress:   0%|          | 0/3 [00:00<?, ?it/s]"
      ]
     },
     "metadata": {},
     "output_type": "display_data"
    },
    {
     "data": {
      "application/vnd.jupyter.widget-view+json": {
       "model_id": "fde2f7d2c4dd431c895b29e062159e12",
       "version_major": 2,
       "version_minor": 0
      },
      "text/plain": [
       "Communities progress:   0%|          | 0/3 [00:00<?, ?it/s]"
      ]
     },
     "metadata": {},
     "output_type": "display_data"
    },
    {
     "data": {
      "application/vnd.jupyter.widget-view+json": {
       "model_id": "81ed2082f4b4455faeca0ef83ffa6e38",
       "version_major": 2,
       "version_minor": 0
      },
      "text/plain": [
       "Algorithm Progress:   0%|          | 0/4 [00:00<?, ?it/s]"
      ]
     },
     "metadata": {},
     "output_type": "display_data"
    },
    {
     "data": {
      "application/vnd.jupyter.widget-view+json": {
       "model_id": "c38a1835c5a34d23aa703ef3e1dae9bb",
       "version_major": 2,
       "version_minor": 0
      },
      "text/plain": [
       "Communities progress:   0%|          | 0/86 [00:00<?, ?it/s]"
      ]
     },
     "metadata": {},
     "output_type": "display_data"
    },
    {
     "data": {
      "application/vnd.jupyter.widget-view+json": {
       "model_id": "0b15c3de1d064fb5bcac90f8aaf9dfc8",
       "version_major": 2,
       "version_minor": 0
      },
      "text/plain": [
       "Communities progress:   0%|          | 0/86 [00:00<?, ?it/s]"
      ]
     },
     "metadata": {},
     "output_type": "display_data"
    },
    {
     "data": {
      "application/vnd.jupyter.widget-view+json": {
       "model_id": "3fcb9534fecf4eac8c5a87f1a84df00f",
       "version_major": 2,
       "version_minor": 0
      },
      "text/plain": [
       "Communities progress:   0%|          | 0/86 [00:00<?, ?it/s]"
      ]
     },
     "metadata": {},
     "output_type": "display_data"
    },
    {
     "data": {
      "application/vnd.jupyter.widget-view+json": {
       "model_id": "70813b89812740a698a2890fb8cd3a05",
       "version_major": 2,
       "version_minor": 0
      },
      "text/plain": [
       "Communities progress:   0%|          | 0/86 [00:00<?, ?it/s]"
      ]
     },
     "metadata": {},
     "output_type": "display_data"
    },
    {
     "data": {
      "application/vnd.jupyter.widget-view+json": {
       "model_id": "8d19f692ea754de6b2cdff53b1505ff3",
       "version_major": 2,
       "version_minor": 0
      },
      "text/plain": [
       "Algorithm Progress:   0%|          | 0/4 [00:00<?, ?it/s]"
      ]
     },
     "metadata": {},
     "output_type": "display_data"
    },
    {
     "data": {
      "application/vnd.jupyter.widget-view+json": {
       "model_id": "661146286cda4230859a5e363b841c1d",
       "version_major": 2,
       "version_minor": 0
      },
      "text/plain": [
       "Communities progress:   0%|          | 0/468 [00:00<?, ?it/s]"
      ]
     },
     "metadata": {},
     "output_type": "display_data"
    },
    {
     "data": {
      "application/vnd.jupyter.widget-view+json": {
       "model_id": "1459c2979c2c4a958dc392104876c7b3",
       "version_major": 2,
       "version_minor": 0
      },
      "text/plain": [
       "Communities progress:   0%|          | 0/482 [00:00<?, ?it/s]"
      ]
     },
     "metadata": {},
     "output_type": "display_data"
    },
    {
     "data": {
      "application/vnd.jupyter.widget-view+json": {
       "model_id": "1b595d5770874463a96fec53fad9a511",
       "version_major": 2,
       "version_minor": 0
      },
      "text/plain": [
       "Communities progress:   0%|          | 0/494 [00:00<?, ?it/s]"
      ]
     },
     "metadata": {},
     "output_type": "display_data"
    },
    {
     "data": {
      "application/vnd.jupyter.widget-view+json": {
       "model_id": "bcc3daad61ca4cfb94cea6135699c643",
       "version_major": 2,
       "version_minor": 0
      },
      "text/plain": [
       "Communities progress:   0%|          | 0/481 [00:00<?, ?it/s]"
      ]
     },
     "metadata": {},
     "output_type": "display_data"
    },
    {
     "data": {
      "application/vnd.jupyter.widget-view+json": {
       "model_id": "d53beff8072240249a6791054eb18767",
       "version_major": 2,
       "version_minor": 0
      },
      "text/plain": [
       "Community Detector Progress:   0%|          | 0/4 [00:00<?, ?it/s]"
      ]
     },
     "metadata": {},
     "output_type": "display_data"
    },
    {
     "data": {
      "application/vnd.jupyter.widget-view+json": {
       "model_id": "ffe3d33a5410466295361ccf06c350ab",
       "version_major": 2,
       "version_minor": 0
      },
      "text/plain": [
       "Algorithm Progress:   0%|          | 0/4 [00:00<?, ?it/s]"
      ]
     },
     "metadata": {},
     "output_type": "display_data"
    },
    {
     "data": {
      "application/vnd.jupyter.widget-view+json": {
       "model_id": "3a32fa11615844b6afe8578bf501ab1c",
       "version_major": 2,
       "version_minor": 0
      },
      "text/plain": [
       "Algorithm Progress:   0%|          | 0/4 [00:00<?, ?it/s]"
      ]
     },
     "metadata": {},
     "output_type": "display_data"
    },
    {
     "data": {
      "application/vnd.jupyter.widget-view+json": {
       "model_id": "e51e47ca78d04403ad7734527f15bac7",
       "version_major": 2,
       "version_minor": 0
      },
      "text/plain": [
       "Communities progress:   0%|          | 0/4 [00:00<?, ?it/s]"
      ]
     },
     "metadata": {},
     "output_type": "display_data"
    },
    {
     "data": {
      "application/vnd.jupyter.widget-view+json": {
       "model_id": "9e03efe75cc14f19a87451d5e20f459c",
       "version_major": 2,
       "version_minor": 0
      },
      "text/plain": [
       "Communities progress:   0%|          | 0/3 [00:00<?, ?it/s]"
      ]
     },
     "metadata": {},
     "output_type": "display_data"
    },
    {
     "data": {
      "application/vnd.jupyter.widget-view+json": {
       "model_id": "8a2c6774097b4aaa92660b39a29f3b47",
       "version_major": 2,
       "version_minor": 0
      },
      "text/plain": [
       "Communities progress:   0%|          | 0/3 [00:00<?, ?it/s]"
      ]
     },
     "metadata": {},
     "output_type": "display_data"
    },
    {
     "data": {
      "application/vnd.jupyter.widget-view+json": {
       "model_id": "91666dfa10694bccb007f63cf42bddf6",
       "version_major": 2,
       "version_minor": 0
      },
      "text/plain": [
       "Communities progress:   0%|          | 0/3 [00:00<?, ?it/s]"
      ]
     },
     "metadata": {},
     "output_type": "display_data"
    },
    {
     "data": {
      "application/vnd.jupyter.widget-view+json": {
       "model_id": "40f3d1304c0242ada1e9d488f1aa7b40",
       "version_major": 2,
       "version_minor": 0
      },
      "text/plain": [
       "Algorithm Progress:   0%|          | 0/4 [00:00<?, ?it/s]"
      ]
     },
     "metadata": {},
     "output_type": "display_data"
    },
    {
     "data": {
      "application/vnd.jupyter.widget-view+json": {
       "model_id": "cbf88c25fb3d45ffa1c823101603be6e",
       "version_major": 2,
       "version_minor": 0
      },
      "text/plain": [
       "Communities progress:   0%|          | 0/2 [00:00<?, ?it/s]"
      ]
     },
     "metadata": {},
     "output_type": "display_data"
    },
    {
     "data": {
      "application/vnd.jupyter.widget-view+json": {
       "model_id": "df574ae3bf8f418494fa6ca1f9d6b876",
       "version_major": 2,
       "version_minor": 0
      },
      "text/plain": [
       "Communities progress:   0%|          | 0/2 [00:00<?, ?it/s]"
      ]
     },
     "metadata": {},
     "output_type": "display_data"
    },
    {
     "data": {
      "application/vnd.jupyter.widget-view+json": {
       "model_id": "2eaf1bff985a4f9183458d50b8b61f2a",
       "version_major": 2,
       "version_minor": 0
      },
      "text/plain": [
       "Communities progress:   0%|          | 0/2 [00:00<?, ?it/s]"
      ]
     },
     "metadata": {},
     "output_type": "display_data"
    },
    {
     "data": {
      "application/vnd.jupyter.widget-view+json": {
       "model_id": "beedc34d9d9f4fb88f0989061ba1b5af",
       "version_major": 2,
       "version_minor": 0
      },
      "text/plain": [
       "Communities progress:   0%|          | 0/2 [00:00<?, ?it/s]"
      ]
     },
     "metadata": {},
     "output_type": "display_data"
    },
    {
     "data": {
      "application/vnd.jupyter.widget-view+json": {
       "model_id": "862ac5ba87a44d0ab09635e9b0a44ee2",
       "version_major": 2,
       "version_minor": 0
      },
      "text/plain": [
       "Algorithm Progress:   0%|          | 0/4 [00:00<?, ?it/s]"
      ]
     },
     "metadata": {},
     "output_type": "display_data"
    },
    {
     "data": {
      "application/vnd.jupyter.widget-view+json": {
       "model_id": "184c5f869c4c4dd89f0ac490c77d0d1c",
       "version_major": 2,
       "version_minor": 0
      },
      "text/plain": [
       "Communities progress:   0%|          | 0/81 [00:00<?, ?it/s]"
      ]
     },
     "metadata": {},
     "output_type": "display_data"
    },
    {
     "data": {
      "application/vnd.jupyter.widget-view+json": {
       "model_id": "e0864a98ad3a460c9d83763cfbcb4ba3",
       "version_major": 2,
       "version_minor": 0
      },
      "text/plain": [
       "Communities progress:   0%|          | 0/83 [00:00<?, ?it/s]"
      ]
     },
     "metadata": {},
     "output_type": "display_data"
    },
    {
     "data": {
      "application/vnd.jupyter.widget-view+json": {
       "model_id": "6fa7592030cd45d98d1e888ea11913aa",
       "version_major": 2,
       "version_minor": 0
      },
      "text/plain": [
       "Communities progress:   0%|          | 0/84 [00:00<?, ?it/s]"
      ]
     },
     "metadata": {},
     "output_type": "display_data"
    },
    {
     "data": {
      "application/vnd.jupyter.widget-view+json": {
       "model_id": "f423880950c744c7ac74c4065a338b40",
       "version_major": 2,
       "version_minor": 0
      },
      "text/plain": [
       "Communities progress:   0%|          | 0/82 [00:00<?, ?it/s]"
      ]
     },
     "metadata": {},
     "output_type": "display_data"
    },
    {
     "data": {
      "application/vnd.jupyter.widget-view+json": {
       "model_id": "6d7141f115b14afb8c3da53acafc133c",
       "version_major": 2,
       "version_minor": 0
      },
      "text/plain": [
       "Community Detector Progress:   0%|          | 0/4 [00:00<?, ?it/s]"
      ]
     },
     "metadata": {},
     "output_type": "display_data"
    },
    {
     "data": {
      "application/vnd.jupyter.widget-view+json": {
       "model_id": "5c3fa9b602c24f9b8ee9fd37a173e5ec",
       "version_major": 2,
       "version_minor": 0
      },
      "text/plain": [
       "Algorithm Progress:   0%|          | 0/4 [00:00<?, ?it/s]"
      ]
     },
     "metadata": {},
     "output_type": "display_data"
    },
    {
     "data": {
      "application/vnd.jupyter.widget-view+json": {
       "model_id": "e6195536ebad4d4396711ea128b1fe72",
       "version_major": 2,
       "version_minor": 0
      },
      "text/plain": [
       "Algorithm Progress:   0%|          | 0/4 [00:00<?, ?it/s]"
      ]
     },
     "metadata": {},
     "output_type": "display_data"
    },
    {
     "data": {
      "application/vnd.jupyter.widget-view+json": {
       "model_id": "ae4328b8ef624767a850659942247a2f",
       "version_major": 2,
       "version_minor": 0
      },
      "text/plain": [
       "Communities progress:   0%|          | 0/4 [00:00<?, ?it/s]"
      ]
     },
     "metadata": {},
     "output_type": "display_data"
    },
    {
     "data": {
      "application/vnd.jupyter.widget-view+json": {
       "model_id": "8471f23f73d84db286b48cdeb4a90f28",
       "version_major": 2,
       "version_minor": 0
      },
      "text/plain": [
       "Communities progress:   0%|          | 0/3 [00:00<?, ?it/s]"
      ]
     },
     "metadata": {},
     "output_type": "display_data"
    },
    {
     "data": {
      "application/vnd.jupyter.widget-view+json": {
       "model_id": "eafb0daa6570423691d0b1ecdb9effdc",
       "version_major": 2,
       "version_minor": 0
      },
      "text/plain": [
       "Communities progress:   0%|          | 0/3 [00:00<?, ?it/s]"
      ]
     },
     "metadata": {},
     "output_type": "display_data"
    },
    {
     "data": {
      "application/vnd.jupyter.widget-view+json": {
       "model_id": "5d2db8392b6d4e498dfa24b4b40e05ee",
       "version_major": 2,
       "version_minor": 0
      },
      "text/plain": [
       "Communities progress:   0%|          | 0/3 [00:00<?, ?it/s]"
      ]
     },
     "metadata": {},
     "output_type": "display_data"
    },
    {
     "data": {
      "application/vnd.jupyter.widget-view+json": {
       "model_id": "86c8bc17c30e46098366df9a675a59c8",
       "version_major": 2,
       "version_minor": 0
      },
      "text/plain": [
       "Algorithm Progress:   0%|          | 0/4 [00:00<?, ?it/s]"
      ]
     },
     "metadata": {},
     "output_type": "display_data"
    },
    {
     "data": {
      "application/vnd.jupyter.widget-view+json": {
       "model_id": "708c97cad56e46cab0d3e233d771f870",
       "version_major": 2,
       "version_minor": 0
      },
      "text/plain": [
       "Communities progress:   0%|          | 0/87 [00:00<?, ?it/s]"
      ]
     },
     "metadata": {},
     "output_type": "display_data"
    },
    {
     "data": {
      "application/vnd.jupyter.widget-view+json": {
       "model_id": "687dd0ecbe1d4915bb9bd3111bc1e57a",
       "version_major": 2,
       "version_minor": 0
      },
      "text/plain": [
       "Communities progress:   0%|          | 0/87 [00:00<?, ?it/s]"
      ]
     },
     "metadata": {},
     "output_type": "display_data"
    },
    {
     "data": {
      "application/vnd.jupyter.widget-view+json": {
       "model_id": "c0064f73f9324046aee8dd665f0b42a4",
       "version_major": 2,
       "version_minor": 0
      },
      "text/plain": [
       "Communities progress:   0%|          | 0/87 [00:00<?, ?it/s]"
      ]
     },
     "metadata": {},
     "output_type": "display_data"
    },
    {
     "data": {
      "application/vnd.jupyter.widget-view+json": {
       "model_id": "d0bd0a91aba04a4cb070133a7cb65308",
       "version_major": 2,
       "version_minor": 0
      },
      "text/plain": [
       "Communities progress:   0%|          | 0/87 [00:00<?, ?it/s]"
      ]
     },
     "metadata": {},
     "output_type": "display_data"
    },
    {
     "data": {
      "application/vnd.jupyter.widget-view+json": {
       "model_id": "03779d6c4db34dabb4f5f124d577bef7",
       "version_major": 2,
       "version_minor": 0
      },
      "text/plain": [
       "Algorithm Progress:   0%|          | 0/4 [00:00<?, ?it/s]"
      ]
     },
     "metadata": {},
     "output_type": "display_data"
    },
    {
     "data": {
      "application/vnd.jupyter.widget-view+json": {
       "model_id": "3232eff3800e4c34ab41aa1763f54456",
       "version_major": 2,
       "version_minor": 0
      },
      "text/plain": [
       "Communities progress:   0%|          | 0/531 [00:00<?, ?it/s]"
      ]
     },
     "metadata": {},
     "output_type": "display_data"
    },
    {
     "data": {
      "application/vnd.jupyter.widget-view+json": {
       "model_id": "59ded1bf4a8d4372b4d980b55f87760f",
       "version_major": 2,
       "version_minor": 0
      },
      "text/plain": [
       "Communities progress:   0%|          | 0/543 [00:00<?, ?it/s]"
      ]
     },
     "metadata": {},
     "output_type": "display_data"
    },
    {
     "data": {
      "application/vnd.jupyter.widget-view+json": {
       "model_id": "5c8c3f69b693442c91b39025ce5599cf",
       "version_major": 2,
       "version_minor": 0
      },
      "text/plain": [
       "Communities progress:   0%|          | 0/519 [00:00<?, ?it/s]"
      ]
     },
     "metadata": {},
     "output_type": "display_data"
    },
    {
     "data": {
      "application/vnd.jupyter.widget-view+json": {
       "model_id": "036dba35a4ce482b9e727e1b4af78ffb",
       "version_major": 2,
       "version_minor": 0
      },
      "text/plain": [
       "Communities progress:   0%|          | 0/551 [00:00<?, ?it/s]"
      ]
     },
     "metadata": {},
     "output_type": "display_data"
    },
    {
     "data": {
      "application/vnd.jupyter.widget-view+json": {
       "model_id": "96678773fb2842b083113c57c9086d4c",
       "version_major": 2,
       "version_minor": 0
      },
      "text/plain": [
       "Community Detector Progress:   0%|          | 0/4 [00:00<?, ?it/s]"
      ]
     },
     "metadata": {},
     "output_type": "display_data"
    },
    {
     "data": {
      "application/vnd.jupyter.widget-view+json": {
       "model_id": "b61ff31320734d67869448034975e4c5",
       "version_major": 2,
       "version_minor": 0
      },
      "text/plain": [
       "Algorithm Progress:   0%|          | 0/4 [00:00<?, ?it/s]"
      ]
     },
     "metadata": {},
     "output_type": "display_data"
    },
    {
     "data": {
      "application/vnd.jupyter.widget-view+json": {
       "model_id": "3ee5732c96ee4083894aad8c4c453c68",
       "version_major": 2,
       "version_minor": 0
      },
      "text/plain": [
       "Algorithm Progress:   0%|          | 0/4 [00:00<?, ?it/s]"
      ]
     },
     "metadata": {},
     "output_type": "display_data"
    },
    {
     "data": {
      "application/vnd.jupyter.widget-view+json": {
       "model_id": "696ea0919e674c68bb38934f53889827",
       "version_major": 2,
       "version_minor": 0
      },
      "text/plain": [
       "Communities progress:   0%|          | 0/3 [00:00<?, ?it/s]"
      ]
     },
     "metadata": {},
     "output_type": "display_data"
    },
    {
     "data": {
      "application/vnd.jupyter.widget-view+json": {
       "model_id": "6a81ce6843d54c5dbbe03e0dba5a4c04",
       "version_major": 2,
       "version_minor": 0
      },
      "text/plain": [
       "Communities progress:   0%|          | 0/3 [00:00<?, ?it/s]"
      ]
     },
     "metadata": {},
     "output_type": "display_data"
    },
    {
     "data": {
      "application/vnd.jupyter.widget-view+json": {
       "model_id": "d5f92e0502b44eb6a69ed71514ed5b04",
       "version_major": 2,
       "version_minor": 0
      },
      "text/plain": [
       "Communities progress:   0%|          | 0/3 [00:00<?, ?it/s]"
      ]
     },
     "metadata": {},
     "output_type": "display_data"
    },
    {
     "data": {
      "application/vnd.jupyter.widget-view+json": {
       "model_id": "e39e6f3856ea483c99500e9278c87e74",
       "version_major": 2,
       "version_minor": 0
      },
      "text/plain": [
       "Communities progress:   0%|          | 0/3 [00:00<?, ?it/s]"
      ]
     },
     "metadata": {},
     "output_type": "display_data"
    },
    {
     "data": {
      "application/vnd.jupyter.widget-view+json": {
       "model_id": "67116c8877c646d4b06e4953fddf1569",
       "version_major": 2,
       "version_minor": 0
      },
      "text/plain": [
       "Algorithm Progress:   0%|          | 0/4 [00:00<?, ?it/s]"
      ]
     },
     "metadata": {},
     "output_type": "display_data"
    },
    {
     "data": {
      "application/vnd.jupyter.widget-view+json": {
       "model_id": "48bddd48a52c46e19deb4529eb68e2f6",
       "version_major": 2,
       "version_minor": 0
      },
      "text/plain": [
       "Communities progress:   0%|          | 0/86 [00:00<?, ?it/s]"
      ]
     },
     "metadata": {},
     "output_type": "display_data"
    },
    {
     "data": {
      "application/vnd.jupyter.widget-view+json": {
       "model_id": "4ba49d15098847fd8a54dd7ffc2fbf1f",
       "version_major": 2,
       "version_minor": 0
      },
      "text/plain": [
       "Communities progress:   0%|          | 0/86 [00:00<?, ?it/s]"
      ]
     },
     "metadata": {},
     "output_type": "display_data"
    },
    {
     "data": {
      "application/vnd.jupyter.widget-view+json": {
       "model_id": "40e1f886faee4c68bab0dfd9b97d22f6",
       "version_major": 2,
       "version_minor": 0
      },
      "text/plain": [
       "Communities progress:   0%|          | 0/86 [00:00<?, ?it/s]"
      ]
     },
     "metadata": {},
     "output_type": "display_data"
    },
    {
     "data": {
      "application/vnd.jupyter.widget-view+json": {
       "model_id": "9ff2dbef16944dd4ae58078adfd6e131",
       "version_major": 2,
       "version_minor": 0
      },
      "text/plain": [
       "Communities progress:   0%|          | 0/86 [00:00<?, ?it/s]"
      ]
     },
     "metadata": {},
     "output_type": "display_data"
    },
    {
     "data": {
      "application/vnd.jupyter.widget-view+json": {
       "model_id": "b5f01af8463441039826e5a2a17badb6",
       "version_major": 2,
       "version_minor": 0
      },
      "text/plain": [
       "Algorithm Progress:   0%|          | 0/4 [00:00<?, ?it/s]"
      ]
     },
     "metadata": {},
     "output_type": "display_data"
    },
    {
     "data": {
      "application/vnd.jupyter.widget-view+json": {
       "model_id": "8d5975ddc86240719388027d8bed9847",
       "version_major": 2,
       "version_minor": 0
      },
      "text/plain": [
       "Communities progress:   0%|          | 0/477 [00:00<?, ?it/s]"
      ]
     },
     "metadata": {},
     "output_type": "display_data"
    },
    {
     "data": {
      "application/vnd.jupyter.widget-view+json": {
       "model_id": "cb7bbf53076e4b2a865cd8bc4e63b03c",
       "version_major": 2,
       "version_minor": 0
      },
      "text/plain": [
       "Communities progress:   0%|          | 0/485 [00:00<?, ?it/s]"
      ]
     },
     "metadata": {},
     "output_type": "display_data"
    },
    {
     "data": {
      "application/vnd.jupyter.widget-view+json": {
       "model_id": "27f126159e3849489529b3db6f45a8a2",
       "version_major": 2,
       "version_minor": 0
      },
      "text/plain": [
       "Communities progress:   0%|          | 0/475 [00:00<?, ?it/s]"
      ]
     },
     "metadata": {},
     "output_type": "display_data"
    },
    {
     "data": {
      "application/vnd.jupyter.widget-view+json": {
       "model_id": "ed90a5c22b54427a9a41361388227b72",
       "version_major": 2,
       "version_minor": 0
      },
      "text/plain": [
       "Communities progress:   0%|          | 0/510 [00:00<?, ?it/s]"
      ]
     },
     "metadata": {},
     "output_type": "display_data"
    },
    {
     "data": {
      "application/vnd.jupyter.widget-view+json": {
       "model_id": "02a08213925f41a9ae103ccdc5047716",
       "version_major": 2,
       "version_minor": 0
      },
      "text/plain": [
       "Similarity Metric Progress:   0%|          | 0/4 [00:00<?, ?it/s]"
      ]
     },
     "metadata": {},
     "output_type": "display_data"
    },
    {
     "data": {
      "application/vnd.jupyter.widget-view+json": {
       "model_id": "d976bb0797094d22a9e1d82d7d75d01e",
       "version_major": 2,
       "version_minor": 0
      },
      "text/plain": [
       "Community Detector Progress:   0%|          | 0/4 [00:00<?, ?it/s]"
      ]
     },
     "metadata": {},
     "output_type": "display_data"
    },
    {
     "data": {
      "application/vnd.jupyter.widget-view+json": {
       "model_id": "82b4528b0c144c59a3c2d4ff81aeb40e",
       "version_major": 2,
       "version_minor": 0
      },
      "text/plain": [
       "Algorithm Progress:   0%|          | 0/4 [00:00<?, ?it/s]"
      ]
     },
     "metadata": {},
     "output_type": "display_data"
    },
    {
     "data": {
      "application/vnd.jupyter.widget-view+json": {
       "model_id": "557412fac38d457ebb54a557938113c7",
       "version_major": 2,
       "version_minor": 0
      },
      "text/plain": [
       "Algorithm Progress:   0%|          | 0/4 [00:00<?, ?it/s]"
      ]
     },
     "metadata": {},
     "output_type": "display_data"
    },
    {
     "data": {
      "application/vnd.jupyter.widget-view+json": {
       "model_id": "ff0c8c8e7d6147d3a1f3bd781073a3fa",
       "version_major": 2,
       "version_minor": 0
      },
      "text/plain": [
       "Communities progress:   0%|          | 0/3 [00:00<?, ?it/s]"
      ]
     },
     "metadata": {},
     "output_type": "display_data"
    },
    {
     "data": {
      "application/vnd.jupyter.widget-view+json": {
       "model_id": "22860cb2d4bd429caf6175cdfa54dee1",
       "version_major": 2,
       "version_minor": 0
      },
      "text/plain": [
       "Communities progress:   0%|          | 0/3 [00:00<?, ?it/s]"
      ]
     },
     "metadata": {},
     "output_type": "display_data"
    },
    {
     "data": {
      "application/vnd.jupyter.widget-view+json": {
       "model_id": "b3705c75a2c343b9ae33cbeb193696bf",
       "version_major": 2,
       "version_minor": 0
      },
      "text/plain": [
       "Communities progress:   0%|          | 0/3 [00:00<?, ?it/s]"
      ]
     },
     "metadata": {},
     "output_type": "display_data"
    },
    {
     "data": {
      "application/vnd.jupyter.widget-view+json": {
       "model_id": "cae46ac92e9f47feaec0914eca27899d",
       "version_major": 2,
       "version_minor": 0
      },
      "text/plain": [
       "Communities progress:   0%|          | 0/3 [00:00<?, ?it/s]"
      ]
     },
     "metadata": {},
     "output_type": "display_data"
    },
    {
     "data": {
      "application/vnd.jupyter.widget-view+json": {
       "model_id": "8a564ed5f23f4bacba63ebfa23c3171f",
       "version_major": 2,
       "version_minor": 0
      },
      "text/plain": [
       "Algorithm Progress:   0%|          | 0/4 [00:00<?, ?it/s]"
      ]
     },
     "metadata": {},
     "output_type": "display_data"
    },
    {
     "data": {
      "application/vnd.jupyter.widget-view+json": {
       "model_id": "5390b25dbd6d470aa59f1a59bcbf3c90",
       "version_major": 2,
       "version_minor": 0
      },
      "text/plain": [
       "Communities progress:   0%|          | 0/85 [00:00<?, ?it/s]"
      ]
     },
     "metadata": {},
     "output_type": "display_data"
    },
    {
     "data": {
      "application/vnd.jupyter.widget-view+json": {
       "model_id": "6e98fc3a72334e519bf0d4b0b9db39d7",
       "version_major": 2,
       "version_minor": 0
      },
      "text/plain": [
       "Communities progress:   0%|          | 0/85 [00:00<?, ?it/s]"
      ]
     },
     "metadata": {},
     "output_type": "display_data"
    },
    {
     "data": {
      "application/vnd.jupyter.widget-view+json": {
       "model_id": "022b0e4512c1409a8b727f8106e7a023",
       "version_major": 2,
       "version_minor": 0
      },
      "text/plain": [
       "Communities progress:   0%|          | 0/85 [00:00<?, ?it/s]"
      ]
     },
     "metadata": {},
     "output_type": "display_data"
    },
    {
     "data": {
      "application/vnd.jupyter.widget-view+json": {
       "model_id": "f0bc4ac45f2c45628e210bde330a4877",
       "version_major": 2,
       "version_minor": 0
      },
      "text/plain": [
       "Communities progress:   0%|          | 0/85 [00:00<?, ?it/s]"
      ]
     },
     "metadata": {},
     "output_type": "display_data"
    },
    {
     "data": {
      "application/vnd.jupyter.widget-view+json": {
       "model_id": "7da91dc0f41c40ca8fc8be09c0070d53",
       "version_major": 2,
       "version_minor": 0
      },
      "text/plain": [
       "Algorithm Progress:   0%|          | 0/4 [00:00<?, ?it/s]"
      ]
     },
     "metadata": {},
     "output_type": "display_data"
    },
    {
     "data": {
      "application/vnd.jupyter.widget-view+json": {
       "model_id": "6a02e8f7512649108d0132e8ff891eff",
       "version_major": 2,
       "version_minor": 0
      },
      "text/plain": [
       "Communities progress:   0%|          | 0/485 [00:00<?, ?it/s]"
      ]
     },
     "metadata": {},
     "output_type": "display_data"
    },
    {
     "data": {
      "application/vnd.jupyter.widget-view+json": {
       "model_id": "792c8dc74a7d4bc6baf5fc27c091ee45",
       "version_major": 2,
       "version_minor": 0
      },
      "text/plain": [
       "Communities progress:   0%|          | 0/486 [00:00<?, ?it/s]"
      ]
     },
     "metadata": {},
     "output_type": "display_data"
    },
    {
     "data": {
      "application/vnd.jupyter.widget-view+json": {
       "model_id": "447ae2a306624dc781c1c1516f5ad4fe",
       "version_major": 2,
       "version_minor": 0
      },
      "text/plain": [
       "Communities progress:   0%|          | 0/470 [00:00<?, ?it/s]"
      ]
     },
     "metadata": {},
     "output_type": "display_data"
    },
    {
     "data": {
      "application/vnd.jupyter.widget-view+json": {
       "model_id": "96c09183470e4a9cae637d9c00149916",
       "version_major": 2,
       "version_minor": 0
      },
      "text/plain": [
       "Communities progress:   0%|          | 0/481 [00:00<?, ?it/s]"
      ]
     },
     "metadata": {},
     "output_type": "display_data"
    },
    {
     "data": {
      "application/vnd.jupyter.widget-view+json": {
       "model_id": "687f84ae9878437ea99ab02913cd4985",
       "version_major": 2,
       "version_minor": 0
      },
      "text/plain": [
       "Community Detector Progress:   0%|          | 0/4 [00:00<?, ?it/s]"
      ]
     },
     "metadata": {},
     "output_type": "display_data"
    },
    {
     "data": {
      "application/vnd.jupyter.widget-view+json": {
       "model_id": "d5ad572751664c47b3f5be6364e14f02",
       "version_major": 2,
       "version_minor": 0
      },
      "text/plain": [
       "Algorithm Progress:   0%|          | 0/4 [00:00<?, ?it/s]"
      ]
     },
     "metadata": {},
     "output_type": "display_data"
    },
    {
     "data": {
      "application/vnd.jupyter.widget-view+json": {
       "model_id": "411af00bfb3d4938973f929a07a0c3f9",
       "version_major": 2,
       "version_minor": 0
      },
      "text/plain": [
       "Algorithm Progress:   0%|          | 0/4 [00:00<?, ?it/s]"
      ]
     },
     "metadata": {},
     "output_type": "display_data"
    },
    {
     "data": {
      "application/vnd.jupyter.widget-view+json": {
       "model_id": "e02735eaade74ee39698425af27dd611",
       "version_major": 2,
       "version_minor": 0
      },
      "text/plain": [
       "Communities progress:   0%|          | 0/3 [00:00<?, ?it/s]"
      ]
     },
     "metadata": {},
     "output_type": "display_data"
    },
    {
     "data": {
      "application/vnd.jupyter.widget-view+json": {
       "model_id": "393b49567ff244f2b3050f4886bf85e9",
       "version_major": 2,
       "version_minor": 0
      },
      "text/plain": [
       "Communities progress:   0%|          | 0/3 [00:00<?, ?it/s]"
      ]
     },
     "metadata": {},
     "output_type": "display_data"
    },
    {
     "data": {
      "application/vnd.jupyter.widget-view+json": {
       "model_id": "1c323def45eb4825b46c542d0c18aa95",
       "version_major": 2,
       "version_minor": 0
      },
      "text/plain": [
       "Communities progress:   0%|          | 0/3 [00:00<?, ?it/s]"
      ]
     },
     "metadata": {},
     "output_type": "display_data"
    },
    {
     "data": {
      "application/vnd.jupyter.widget-view+json": {
       "model_id": "f3d4d9e903ac4e7e8eed945502453e7a",
       "version_major": 2,
       "version_minor": 0
      },
      "text/plain": [
       "Communities progress:   0%|          | 0/3 [00:00<?, ?it/s]"
      ]
     },
     "metadata": {},
     "output_type": "display_data"
    },
    {
     "data": {
      "application/vnd.jupyter.widget-view+json": {
       "model_id": "68a8c4a9526240f6832653ce0a05a458",
       "version_major": 2,
       "version_minor": 0
      },
      "text/plain": [
       "Algorithm Progress:   0%|          | 0/4 [00:00<?, ?it/s]"
      ]
     },
     "metadata": {},
     "output_type": "display_data"
    },
    {
     "data": {
      "application/vnd.jupyter.widget-view+json": {
       "model_id": "77b98668ddd84257bc0b225ecf1d14d3",
       "version_major": 2,
       "version_minor": 0
      },
      "text/plain": [
       "Communities progress:   0%|          | 0/2 [00:00<?, ?it/s]"
      ]
     },
     "metadata": {},
     "output_type": "display_data"
    },
    {
     "data": {
      "application/vnd.jupyter.widget-view+json": {
       "model_id": "ee8dc64328974f968dff51cef19f63db",
       "version_major": 2,
       "version_minor": 0
      },
      "text/plain": [
       "Communities progress:   0%|          | 0/2 [00:00<?, ?it/s]"
      ]
     },
     "metadata": {},
     "output_type": "display_data"
    },
    {
     "data": {
      "application/vnd.jupyter.widget-view+json": {
       "model_id": "91adfe2e88a5463eb2267952e0a124e4",
       "version_major": 2,
       "version_minor": 0
      },
      "text/plain": [
       "Communities progress:   0%|          | 0/2 [00:00<?, ?it/s]"
      ]
     },
     "metadata": {},
     "output_type": "display_data"
    },
    {
     "data": {
      "application/vnd.jupyter.widget-view+json": {
       "model_id": "a20a03125ef4475a89a8903ef317728d",
       "version_major": 2,
       "version_minor": 0
      },
      "text/plain": [
       "Communities progress:   0%|          | 0/2 [00:00<?, ?it/s]"
      ]
     },
     "metadata": {},
     "output_type": "display_data"
    },
    {
     "data": {
      "application/vnd.jupyter.widget-view+json": {
       "model_id": "286f364c88f74b5fa07e64cadcda6869",
       "version_major": 2,
       "version_minor": 0
      },
      "text/plain": [
       "Algorithm Progress:   0%|          | 0/4 [00:00<?, ?it/s]"
      ]
     },
     "metadata": {},
     "output_type": "display_data"
    },
    {
     "data": {
      "application/vnd.jupyter.widget-view+json": {
       "model_id": "6d786614b8ca4f068fbf3324fae47487",
       "version_major": 2,
       "version_minor": 0
      },
      "text/plain": [
       "Communities progress:   0%|          | 0/93 [00:00<?, ?it/s]"
      ]
     },
     "metadata": {},
     "output_type": "display_data"
    },
    {
     "data": {
      "application/vnd.jupyter.widget-view+json": {
       "model_id": "d378e09f8a8b4bdfb210f0c4b845c5f2",
       "version_major": 2,
       "version_minor": 0
      },
      "text/plain": [
       "Communities progress:   0%|          | 0/74 [00:00<?, ?it/s]"
      ]
     },
     "metadata": {},
     "output_type": "display_data"
    },
    {
     "data": {
      "application/vnd.jupyter.widget-view+json": {
       "model_id": "6747a599e6b34aa78218fff048158756",
       "version_major": 2,
       "version_minor": 0
      },
      "text/plain": [
       "Communities progress:   0%|          | 0/80 [00:00<?, ?it/s]"
      ]
     },
     "metadata": {},
     "output_type": "display_data"
    },
    {
     "data": {
      "application/vnd.jupyter.widget-view+json": {
       "model_id": "75f9d3fdc98f40ab964ab6d296403911",
       "version_major": 2,
       "version_minor": 0
      },
      "text/plain": [
       "Communities progress:   0%|          | 0/82 [00:00<?, ?it/s]"
      ]
     },
     "metadata": {},
     "output_type": "display_data"
    },
    {
     "data": {
      "application/vnd.jupyter.widget-view+json": {
       "model_id": "96f849c49bc947f58a596bda82b5a1d3",
       "version_major": 2,
       "version_minor": 0
      },
      "text/plain": [
       "Community Detector Progress:   0%|          | 0/4 [00:00<?, ?it/s]"
      ]
     },
     "metadata": {},
     "output_type": "display_data"
    },
    {
     "data": {
      "application/vnd.jupyter.widget-view+json": {
       "model_id": "c002e5d67e3942e5bb91d440fcb42562",
       "version_major": 2,
       "version_minor": 0
      },
      "text/plain": [
       "Algorithm Progress:   0%|          | 0/4 [00:00<?, ?it/s]"
      ]
     },
     "metadata": {},
     "output_type": "display_data"
    },
    {
     "data": {
      "application/vnd.jupyter.widget-view+json": {
       "model_id": "165fe500c999474c86c8f4d60054143a",
       "version_major": 2,
       "version_minor": 0
      },
      "text/plain": [
       "Algorithm Progress:   0%|          | 0/4 [00:00<?, ?it/s]"
      ]
     },
     "metadata": {},
     "output_type": "display_data"
    },
    {
     "data": {
      "application/vnd.jupyter.widget-view+json": {
       "model_id": "dd137d6757b54d349357d3a5692b5d3e",
       "version_major": 2,
       "version_minor": 0
      },
      "text/plain": [
       "Communities progress:   0%|          | 0/3 [00:00<?, ?it/s]"
      ]
     },
     "metadata": {},
     "output_type": "display_data"
    },
    {
     "data": {
      "application/vnd.jupyter.widget-view+json": {
       "model_id": "8d5ad64c568c4334a4e32748a6e56319",
       "version_major": 2,
       "version_minor": 0
      },
      "text/plain": [
       "Communities progress:   0%|          | 0/3 [00:00<?, ?it/s]"
      ]
     },
     "metadata": {},
     "output_type": "display_data"
    },
    {
     "data": {
      "application/vnd.jupyter.widget-view+json": {
       "model_id": "d6117274989e4016a5a35044daf1e4dc",
       "version_major": 2,
       "version_minor": 0
      },
      "text/plain": [
       "Communities progress:   0%|          | 0/3 [00:00<?, ?it/s]"
      ]
     },
     "metadata": {},
     "output_type": "display_data"
    },
    {
     "data": {
      "application/vnd.jupyter.widget-view+json": {
       "model_id": "ee1a447834c44dcb9e21c802ebde37a9",
       "version_major": 2,
       "version_minor": 0
      },
      "text/plain": [
       "Communities progress:   0%|          | 0/3 [00:00<?, ?it/s]"
      ]
     },
     "metadata": {},
     "output_type": "display_data"
    },
    {
     "data": {
      "application/vnd.jupyter.widget-view+json": {
       "model_id": "707db3c013e349ecb0dc9099ac03cba0",
       "version_major": 2,
       "version_minor": 0
      },
      "text/plain": [
       "Algorithm Progress:   0%|          | 0/4 [00:00<?, ?it/s]"
      ]
     },
     "metadata": {},
     "output_type": "display_data"
    },
    {
     "data": {
      "application/vnd.jupyter.widget-view+json": {
       "model_id": "4261752d0c9a4e0f95b7843329dd39e8",
       "version_major": 2,
       "version_minor": 0
      },
      "text/plain": [
       "Communities progress:   0%|          | 0/94 [00:00<?, ?it/s]"
      ]
     },
     "metadata": {},
     "output_type": "display_data"
    },
    {
     "data": {
      "application/vnd.jupyter.widget-view+json": {
       "model_id": "5e52d6825440471b8b62dd00580a4b9d",
       "version_major": 2,
       "version_minor": 0
      },
      "text/plain": [
       "Communities progress:   0%|          | 0/94 [00:00<?, ?it/s]"
      ]
     },
     "metadata": {},
     "output_type": "display_data"
    },
    {
     "data": {
      "application/vnd.jupyter.widget-view+json": {
       "model_id": "d01b895ab9fb4f678b128a5cf2faa8a8",
       "version_major": 2,
       "version_minor": 0
      },
      "text/plain": [
       "Communities progress:   0%|          | 0/94 [00:00<?, ?it/s]"
      ]
     },
     "metadata": {},
     "output_type": "display_data"
    },
    {
     "data": {
      "application/vnd.jupyter.widget-view+json": {
       "model_id": "b325f9cdc4f543f5a53fd01e4c48b0b8",
       "version_major": 2,
       "version_minor": 0
      },
      "text/plain": [
       "Communities progress:   0%|          | 0/94 [00:00<?, ?it/s]"
      ]
     },
     "metadata": {},
     "output_type": "display_data"
    },
    {
     "data": {
      "application/vnd.jupyter.widget-view+json": {
       "model_id": "4478b932d55c4ad8864d232d556e17b1",
       "version_major": 2,
       "version_minor": 0
      },
      "text/plain": [
       "Algorithm Progress:   0%|          | 0/4 [00:00<?, ?it/s]"
      ]
     },
     "metadata": {},
     "output_type": "display_data"
    },
    {
     "data": {
      "application/vnd.jupyter.widget-view+json": {
       "model_id": "162c61c1e2af4e748d4ffc3d0948c2c0",
       "version_major": 2,
       "version_minor": 0
      },
      "text/plain": [
       "Communities progress:   0%|          | 0/516 [00:00<?, ?it/s]"
      ]
     },
     "metadata": {},
     "output_type": "display_data"
    },
    {
     "data": {
      "application/vnd.jupyter.widget-view+json": {
       "model_id": "80cf513f00364a1e8098d80aa4d57ec7",
       "version_major": 2,
       "version_minor": 0
      },
      "text/plain": [
       "Communities progress:   0%|          | 0/520 [00:00<?, ?it/s]"
      ]
     },
     "metadata": {},
     "output_type": "display_data"
    },
    {
     "data": {
      "application/vnd.jupyter.widget-view+json": {
       "model_id": "dcbed77c8e7a468b9147e243f36a44d0",
       "version_major": 2,
       "version_minor": 0
      },
      "text/plain": [
       "Communities progress:   0%|          | 0/526 [00:00<?, ?it/s]"
      ]
     },
     "metadata": {},
     "output_type": "display_data"
    },
    {
     "data": {
      "application/vnd.jupyter.widget-view+json": {
       "model_id": "8138f313525a425bb32ce93cb81cafc0",
       "version_major": 2,
       "version_minor": 0
      },
      "text/plain": [
       "Communities progress:   0%|          | 0/557 [00:00<?, ?it/s]"
      ]
     },
     "metadata": {},
     "output_type": "display_data"
    },
    {
     "data": {
      "application/vnd.jupyter.widget-view+json": {
       "model_id": "9634b5781a61456a8e9aca553b5e4341",
       "version_major": 2,
       "version_minor": 0
      },
      "text/plain": [
       "Community Detector Progress:   0%|          | 0/4 [00:00<?, ?it/s]"
      ]
     },
     "metadata": {},
     "output_type": "display_data"
    },
    {
     "data": {
      "application/vnd.jupyter.widget-view+json": {
       "model_id": "672429488d394870a67cc7b04cad5e2c",
       "version_major": 2,
       "version_minor": 0
      },
      "text/plain": [
       "Algorithm Progress:   0%|          | 0/4 [00:00<?, ?it/s]"
      ]
     },
     "metadata": {},
     "output_type": "display_data"
    },
    {
     "data": {
      "application/vnd.jupyter.widget-view+json": {
       "model_id": "113d878b6a2e4792bfa52a1937e45f7f",
       "version_major": 2,
       "version_minor": 0
      },
      "text/plain": [
       "Algorithm Progress:   0%|          | 0/4 [00:00<?, ?it/s]"
      ]
     },
     "metadata": {},
     "output_type": "display_data"
    },
    {
     "data": {
      "application/vnd.jupyter.widget-view+json": {
       "model_id": "1d88b173bf684e759cb5481f3ae3172f",
       "version_major": 2,
       "version_minor": 0
      },
      "text/plain": [
       "Communities progress:   0%|          | 0/3 [00:00<?, ?it/s]"
      ]
     },
     "metadata": {},
     "output_type": "display_data"
    },
    {
     "data": {
      "application/vnd.jupyter.widget-view+json": {
       "model_id": "d4f690a8c87f4030a48407fc9241a636",
       "version_major": 2,
       "version_minor": 0
      },
      "text/plain": [
       "Communities progress:   0%|          | 0/3 [00:00<?, ?it/s]"
      ]
     },
     "metadata": {},
     "output_type": "display_data"
    },
    {
     "data": {
      "application/vnd.jupyter.widget-view+json": {
       "model_id": "9a760542b6c04f6e9283d5d9ad1c5712",
       "version_major": 2,
       "version_minor": 0
      },
      "text/plain": [
       "Communities progress:   0%|          | 0/3 [00:00<?, ?it/s]"
      ]
     },
     "metadata": {},
     "output_type": "display_data"
    },
    {
     "data": {
      "application/vnd.jupyter.widget-view+json": {
       "model_id": "dbcd20ea550e4bac8d3b8fb009fb078f",
       "version_major": 2,
       "version_minor": 0
      },
      "text/plain": [
       "Communities progress:   0%|          | 0/4 [00:00<?, ?it/s]"
      ]
     },
     "metadata": {},
     "output_type": "display_data"
    },
    {
     "data": {
      "application/vnd.jupyter.widget-view+json": {
       "model_id": "9944ba0367564836a6819d40f6d6a033",
       "version_major": 2,
       "version_minor": 0
      },
      "text/plain": [
       "Algorithm Progress:   0%|          | 0/4 [00:00<?, ?it/s]"
      ]
     },
     "metadata": {},
     "output_type": "display_data"
    },
    {
     "data": {
      "application/vnd.jupyter.widget-view+json": {
       "model_id": "5047a3ed51584f5bb1a8a0a7f1bf3312",
       "version_major": 2,
       "version_minor": 0
      },
      "text/plain": [
       "Communities progress:   0%|          | 0/85 [00:00<?, ?it/s]"
      ]
     },
     "metadata": {},
     "output_type": "display_data"
    },
    {
     "data": {
      "application/vnd.jupyter.widget-view+json": {
       "model_id": "62619a1fbc9b48228270c4b5fa4fa0a2",
       "version_major": 2,
       "version_minor": 0
      },
      "text/plain": [
       "Communities progress:   0%|          | 0/85 [00:00<?, ?it/s]"
      ]
     },
     "metadata": {},
     "output_type": "display_data"
    },
    {
     "data": {
      "application/vnd.jupyter.widget-view+json": {
       "model_id": "778b95f9187848a986b1f9631420364f",
       "version_major": 2,
       "version_minor": 0
      },
      "text/plain": [
       "Communities progress:   0%|          | 0/85 [00:00<?, ?it/s]"
      ]
     },
     "metadata": {},
     "output_type": "display_data"
    },
    {
     "data": {
      "application/vnd.jupyter.widget-view+json": {
       "model_id": "de98c4b33aec4384aa807b7c099d9bfb",
       "version_major": 2,
       "version_minor": 0
      },
      "text/plain": [
       "Communities progress:   0%|          | 0/85 [00:00<?, ?it/s]"
      ]
     },
     "metadata": {},
     "output_type": "display_data"
    },
    {
     "data": {
      "application/vnd.jupyter.widget-view+json": {
       "model_id": "346924c3a7684cd8a504fc4e4194c73b",
       "version_major": 2,
       "version_minor": 0
      },
      "text/plain": [
       "Algorithm Progress:   0%|          | 0/4 [00:00<?, ?it/s]"
      ]
     },
     "metadata": {},
     "output_type": "display_data"
    },
    {
     "data": {
      "application/vnd.jupyter.widget-view+json": {
       "model_id": "59f77a2fc46a4032a61b0de6a31e5a6c",
       "version_major": 2,
       "version_minor": 0
      },
      "text/plain": [
       "Communities progress:   0%|          | 0/486 [00:00<?, ?it/s]"
      ]
     },
     "metadata": {},
     "output_type": "display_data"
    },
    {
     "data": {
      "application/vnd.jupyter.widget-view+json": {
       "model_id": "e8adf024697e4849a11871517965ae0e",
       "version_major": 2,
       "version_minor": 0
      },
      "text/plain": [
       "Communities progress:   0%|          | 0/490 [00:00<?, ?it/s]"
      ]
     },
     "metadata": {},
     "output_type": "display_data"
    },
    {
     "data": {
      "application/vnd.jupyter.widget-view+json": {
       "model_id": "6d83fa7c85fd428d8fd63dfd040cfe0f",
       "version_major": 2,
       "version_minor": 0
      },
      "text/plain": [
       "Communities progress:   0%|          | 0/461 [00:00<?, ?it/s]"
      ]
     },
     "metadata": {},
     "output_type": "display_data"
    },
    {
     "data": {
      "application/vnd.jupyter.widget-view+json": {
       "model_id": "d620219fb35448c3a59bbb1122afa337",
       "version_major": 2,
       "version_minor": 0
      },
      "text/plain": [
       "Communities progress:   0%|          | 0/486 [00:00<?, ?it/s]"
      ]
     },
     "metadata": {},
     "output_type": "display_data"
    },
    {
     "data": {
      "application/vnd.jupyter.widget-view+json": {
       "model_id": "1f808de6666a45c5ac3a110bcd353f44",
       "version_major": 2,
       "version_minor": 0
      },
      "text/plain": [
       "Similarity Metric Progress:   0%|          | 0/4 [00:00<?, ?it/s]"
      ]
     },
     "metadata": {},
     "output_type": "display_data"
    },
    {
     "data": {
      "application/vnd.jupyter.widget-view+json": {
       "model_id": "b013b7c7cbfa4b09ba6158b8c9a09536",
       "version_major": 2,
       "version_minor": 0
      },
      "text/plain": [
       "Community Detector Progress:   0%|          | 0/4 [00:00<?, ?it/s]"
      ]
     },
     "metadata": {},
     "output_type": "display_data"
    },
    {
     "data": {
      "application/vnd.jupyter.widget-view+json": {
       "model_id": "723fd793060e4c048e89befdf9132bc0",
       "version_major": 2,
       "version_minor": 0
      },
      "text/plain": [
       "Algorithm Progress:   0%|          | 0/4 [00:00<?, ?it/s]"
      ]
     },
     "metadata": {},
     "output_type": "display_data"
    },
    {
     "data": {
      "application/vnd.jupyter.widget-view+json": {
       "model_id": "9ab76d07d64f4e14bb30b3c57ef2c6a2",
       "version_major": 2,
       "version_minor": 0
      },
      "text/plain": [
       "Algorithm Progress:   0%|          | 0/4 [00:00<?, ?it/s]"
      ]
     },
     "metadata": {},
     "output_type": "display_data"
    },
    {
     "data": {
      "application/vnd.jupyter.widget-view+json": {
       "model_id": "3a7c1c635c73462aa9b1ce8f7131aa0a",
       "version_major": 2,
       "version_minor": 0
      },
      "text/plain": [
       "Communities progress:   0%|          | 0/3 [00:00<?, ?it/s]"
      ]
     },
     "metadata": {},
     "output_type": "display_data"
    },
    {
     "data": {
      "application/vnd.jupyter.widget-view+json": {
       "model_id": "4a31ccf3b11549d3b980b49f47fc8607",
       "version_major": 2,
       "version_minor": 0
      },
      "text/plain": [
       "Communities progress:   0%|          | 0/3 [00:00<?, ?it/s]"
      ]
     },
     "metadata": {},
     "output_type": "display_data"
    },
    {
     "data": {
      "application/vnd.jupyter.widget-view+json": {
       "model_id": "68f9dc33dfc547a69081d1ea3b74bb55",
       "version_major": 2,
       "version_minor": 0
      },
      "text/plain": [
       "Communities progress:   0%|          | 0/3 [00:00<?, ?it/s]"
      ]
     },
     "metadata": {},
     "output_type": "display_data"
    },
    {
     "data": {
      "application/vnd.jupyter.widget-view+json": {
       "model_id": "b83ccd38d7f5498ea7665ba17fe3341a",
       "version_major": 2,
       "version_minor": 0
      },
      "text/plain": [
       "Communities progress:   0%|          | 0/3 [00:00<?, ?it/s]"
      ]
     },
     "metadata": {},
     "output_type": "display_data"
    },
    {
     "data": {
      "application/vnd.jupyter.widget-view+json": {
       "model_id": "fbfe7a39afaf442ab5078a6468b82210",
       "version_major": 2,
       "version_minor": 0
      },
      "text/plain": [
       "Algorithm Progress:   0%|          | 0/4 [00:00<?, ?it/s]"
      ]
     },
     "metadata": {},
     "output_type": "display_data"
    },
    {
     "data": {
      "application/vnd.jupyter.widget-view+json": {
       "model_id": "e77d099ce3144bd1b139bcf12496d7c8",
       "version_major": 2,
       "version_minor": 0
      },
      "text/plain": [
       "Communities progress:   0%|          | 0/2 [00:00<?, ?it/s]"
      ]
     },
     "metadata": {},
     "output_type": "display_data"
    },
    {
     "data": {
      "application/vnd.jupyter.widget-view+json": {
       "model_id": "66a82f786f124179b20238d7a5280eef",
       "version_major": 2,
       "version_minor": 0
      },
      "text/plain": [
       "Communities progress:   0%|          | 0/2 [00:00<?, ?it/s]"
      ]
     },
     "metadata": {},
     "output_type": "display_data"
    },
    {
     "data": {
      "application/vnd.jupyter.widget-view+json": {
       "model_id": "0c1aaa4c2fd043ec9ed4263c6e68d2eb",
       "version_major": 2,
       "version_minor": 0
      },
      "text/plain": [
       "Communities progress:   0%|          | 0/2 [00:00<?, ?it/s]"
      ]
     },
     "metadata": {},
     "output_type": "display_data"
    },
    {
     "data": {
      "application/vnd.jupyter.widget-view+json": {
       "model_id": "60b6b791613442acadd60720450fd296",
       "version_major": 2,
       "version_minor": 0
      },
      "text/plain": [
       "Communities progress:   0%|          | 0/2 [00:00<?, ?it/s]"
      ]
     },
     "metadata": {},
     "output_type": "display_data"
    },
    {
     "data": {
      "application/vnd.jupyter.widget-view+json": {
       "model_id": "db670d17dc7146ccba2400659205ca5b",
       "version_major": 2,
       "version_minor": 0
      },
      "text/plain": [
       "Algorithm Progress:   0%|          | 0/4 [00:00<?, ?it/s]"
      ]
     },
     "metadata": {},
     "output_type": "display_data"
    },
    {
     "data": {
      "application/vnd.jupyter.widget-view+json": {
       "model_id": "bc423aa35f044d1ba4fb529938c1a527",
       "version_major": 2,
       "version_minor": 0
      },
      "text/plain": [
       "Communities progress:   0%|          | 0/493 [00:00<?, ?it/s]"
      ]
     },
     "metadata": {},
     "output_type": "display_data"
    },
    {
     "data": {
      "application/vnd.jupyter.widget-view+json": {
       "model_id": "bb30c25c8b1942c2a73d5f79a3568e1f",
       "version_major": 2,
       "version_minor": 0
      },
      "text/plain": [
       "Communities progress:   0%|          | 0/477 [00:00<?, ?it/s]"
      ]
     },
     "metadata": {},
     "output_type": "display_data"
    },
    {
     "data": {
      "application/vnd.jupyter.widget-view+json": {
       "model_id": "5335c71bb2da48ca9f57ca5b762db50c",
       "version_major": 2,
       "version_minor": 0
      },
      "text/plain": [
       "Communities progress:   0%|          | 0/492 [00:00<?, ?it/s]"
      ]
     },
     "metadata": {},
     "output_type": "display_data"
    },
    {
     "data": {
      "application/vnd.jupyter.widget-view+json": {
       "model_id": "3d189af393ad43c7b96d315626aac4af",
       "version_major": 2,
       "version_minor": 0
      },
      "text/plain": [
       "Communities progress:   0%|          | 0/515 [00:00<?, ?it/s]"
      ]
     },
     "metadata": {},
     "output_type": "display_data"
    },
    {
     "data": {
      "application/vnd.jupyter.widget-view+json": {
       "model_id": "11c28373bea04d99a78fc0a310708d3e",
       "version_major": 2,
       "version_minor": 0
      },
      "text/plain": [
       "Community Detector Progress:   0%|          | 0/4 [00:00<?, ?it/s]"
      ]
     },
     "metadata": {},
     "output_type": "display_data"
    },
    {
     "data": {
      "application/vnd.jupyter.widget-view+json": {
       "model_id": "7ee7f46348d4423dac082ed44e801582",
       "version_major": 2,
       "version_minor": 0
      },
      "text/plain": [
       "Algorithm Progress:   0%|          | 0/4 [00:00<?, ?it/s]"
      ]
     },
     "metadata": {},
     "output_type": "display_data"
    },
    {
     "data": {
      "application/vnd.jupyter.widget-view+json": {
       "model_id": "9f47f8ab4824460594a7455672666ac2",
       "version_major": 2,
       "version_minor": 0
      },
      "text/plain": [
       "Algorithm Progress:   0%|          | 0/4 [00:00<?, ?it/s]"
      ]
     },
     "metadata": {},
     "output_type": "display_data"
    },
    {
     "data": {
      "application/vnd.jupyter.widget-view+json": {
       "model_id": "f413c57693d941f19a06952f15e1fe30",
       "version_major": 2,
       "version_minor": 0
      },
      "text/plain": [
       "Communities progress:   0%|          | 0/3 [00:00<?, ?it/s]"
      ]
     },
     "metadata": {},
     "output_type": "display_data"
    },
    {
     "data": {
      "application/vnd.jupyter.widget-view+json": {
       "model_id": "b3060cbacd154966bba360af8805cde5",
       "version_major": 2,
       "version_minor": 0
      },
      "text/plain": [
       "Communities progress:   0%|          | 0/3 [00:00<?, ?it/s]"
      ]
     },
     "metadata": {},
     "output_type": "display_data"
    },
    {
     "data": {
      "application/vnd.jupyter.widget-view+json": {
       "model_id": "3b52ee1ae10a46cbab20f33781465449",
       "version_major": 2,
       "version_minor": 0
      },
      "text/plain": [
       "Communities progress:   0%|          | 0/3 [00:00<?, ?it/s]"
      ]
     },
     "metadata": {},
     "output_type": "display_data"
    },
    {
     "data": {
      "application/vnd.jupyter.widget-view+json": {
       "model_id": "f97932d37acc4985bc13b5673d02980f",
       "version_major": 2,
       "version_minor": 0
      },
      "text/plain": [
       "Communities progress:   0%|          | 0/3 [00:00<?, ?it/s]"
      ]
     },
     "metadata": {},
     "output_type": "display_data"
    },
    {
     "data": {
      "application/vnd.jupyter.widget-view+json": {
       "model_id": "29f8abcf4c2a47cd92134bd384657756",
       "version_major": 2,
       "version_minor": 0
      },
      "text/plain": [
       "Algorithm Progress:   0%|          | 0/4 [00:00<?, ?it/s]"
      ]
     },
     "metadata": {},
     "output_type": "display_data"
    },
    {
     "data": {
      "application/vnd.jupyter.widget-view+json": {
       "model_id": "0754b7684405463bba78ef234d75adb1",
       "version_major": 2,
       "version_minor": 0
      },
      "text/plain": [
       "Communities progress:   0%|          | 0/39 [00:00<?, ?it/s]"
      ]
     },
     "metadata": {},
     "output_type": "display_data"
    },
    {
     "data": {
      "application/vnd.jupyter.widget-view+json": {
       "model_id": "2f28dcc97d44497dab8d64d439cfe2d9",
       "version_major": 2,
       "version_minor": 0
      },
      "text/plain": [
       "Communities progress:   0%|          | 0/39 [00:00<?, ?it/s]"
      ]
     },
     "metadata": {},
     "output_type": "display_data"
    },
    {
     "data": {
      "application/vnd.jupyter.widget-view+json": {
       "model_id": "1468ea8a49c046ee9677904ab76842e1",
       "version_major": 2,
       "version_minor": 0
      },
      "text/plain": [
       "Communities progress:   0%|          | 0/39 [00:00<?, ?it/s]"
      ]
     },
     "metadata": {},
     "output_type": "display_data"
    },
    {
     "data": {
      "application/vnd.jupyter.widget-view+json": {
       "model_id": "d56808cbc25a4839a5b6d797009f6e98",
       "version_major": 2,
       "version_minor": 0
      },
      "text/plain": [
       "Communities progress:   0%|          | 0/39 [00:00<?, ?it/s]"
      ]
     },
     "metadata": {},
     "output_type": "display_data"
    },
    {
     "data": {
      "application/vnd.jupyter.widget-view+json": {
       "model_id": "9a400ebdbe544a6db37f6c9d642dbcad",
       "version_major": 2,
       "version_minor": 0
      },
      "text/plain": [
       "Algorithm Progress:   0%|          | 0/4 [00:00<?, ?it/s]"
      ]
     },
     "metadata": {},
     "output_type": "display_data"
    },
    {
     "data": {
      "application/vnd.jupyter.widget-view+json": {
       "model_id": "a1cd21dba3cc4414b21c16134f353aec",
       "version_major": 2,
       "version_minor": 0
      },
      "text/plain": [
       "Communities progress:   0%|          | 0/80 [00:00<?, ?it/s]"
      ]
     },
     "metadata": {},
     "output_type": "display_data"
    },
    {
     "data": {
      "application/vnd.jupyter.widget-view+json": {
       "model_id": "21d7c22db18f47f3bbb342cf18b30897",
       "version_major": 2,
       "version_minor": 0
      },
      "text/plain": [
       "Communities progress:   0%|          | 0/81 [00:00<?, ?it/s]"
      ]
     },
     "metadata": {},
     "output_type": "display_data"
    },
    {
     "data": {
      "application/vnd.jupyter.widget-view+json": {
       "model_id": "f6e15672d8c84d95a5a9b1a80804cf52",
       "version_major": 2,
       "version_minor": 0
      },
      "text/plain": [
       "Communities progress:   0%|          | 0/76 [00:00<?, ?it/s]"
      ]
     },
     "metadata": {},
     "output_type": "display_data"
    },
    {
     "data": {
      "application/vnd.jupyter.widget-view+json": {
       "model_id": "b4d013357d494069afe4b3df9b72931b",
       "version_major": 2,
       "version_minor": 0
      },
      "text/plain": [
       "Communities progress:   0%|          | 0/83 [00:00<?, ?it/s]"
      ]
     },
     "metadata": {},
     "output_type": "display_data"
    },
    {
     "data": {
      "application/vnd.jupyter.widget-view+json": {
       "model_id": "9256ffce20e44dc7b1d0fdac16431291",
       "version_major": 2,
       "version_minor": 0
      },
      "text/plain": [
       "Community Detector Progress:   0%|          | 0/4 [00:00<?, ?it/s]"
      ]
     },
     "metadata": {},
     "output_type": "display_data"
    },
    {
     "data": {
      "application/vnd.jupyter.widget-view+json": {
       "model_id": "9aedf6d9f06f4cf0b37c3b261796c0f1",
       "version_major": 2,
       "version_minor": 0
      },
      "text/plain": [
       "Algorithm Progress:   0%|          | 0/4 [00:00<?, ?it/s]"
      ]
     },
     "metadata": {},
     "output_type": "display_data"
    },
    {
     "data": {
      "application/vnd.jupyter.widget-view+json": {
       "model_id": "244dee593a074228a075b0a20f20eee7",
       "version_major": 2,
       "version_minor": 0
      },
      "text/plain": [
       "Algorithm Progress:   0%|          | 0/4 [00:00<?, ?it/s]"
      ]
     },
     "metadata": {},
     "output_type": "display_data"
    },
    {
     "data": {
      "application/vnd.jupyter.widget-view+json": {
       "model_id": "42fc915227ac41cbbcc076d95a8f7958",
       "version_major": 2,
       "version_minor": 0
      },
      "text/plain": [
       "Communities progress:   0%|          | 0/3 [00:00<?, ?it/s]"
      ]
     },
     "metadata": {},
     "output_type": "display_data"
    },
    {
     "data": {
      "application/vnd.jupyter.widget-view+json": {
       "model_id": "816e614839624d1fa1fa2a6e4913b561",
       "version_major": 2,
       "version_minor": 0
      },
      "text/plain": [
       "Communities progress:   0%|          | 0/3 [00:00<?, ?it/s]"
      ]
     },
     "metadata": {},
     "output_type": "display_data"
    },
    {
     "data": {
      "application/vnd.jupyter.widget-view+json": {
       "model_id": "eb1c208fdd084adbbe96fb4bb574d216",
       "version_major": 2,
       "version_minor": 0
      },
      "text/plain": [
       "Communities progress:   0%|          | 0/3 [00:00<?, ?it/s]"
      ]
     },
     "metadata": {},
     "output_type": "display_data"
    },
    {
     "data": {
      "application/vnd.jupyter.widget-view+json": {
       "model_id": "8a4253eca8194f74b69ce1f63f4ab0a5",
       "version_major": 2,
       "version_minor": 0
      },
      "text/plain": [
       "Communities progress:   0%|          | 0/3 [00:00<?, ?it/s]"
      ]
     },
     "metadata": {},
     "output_type": "display_data"
    },
    {
     "data": {
      "application/vnd.jupyter.widget-view+json": {
       "model_id": "7a4dae8f410149c4add34a8349e505dc",
       "version_major": 2,
       "version_minor": 0
      },
      "text/plain": [
       "Algorithm Progress:   0%|          | 0/4 [00:00<?, ?it/s]"
      ]
     },
     "metadata": {},
     "output_type": "display_data"
    },
    {
     "data": {
      "application/vnd.jupyter.widget-view+json": {
       "model_id": "add10f3f984e40268bedf9d60b1db253",
       "version_major": 2,
       "version_minor": 0
      },
      "text/plain": [
       "Communities progress:   0%|          | 0/2 [00:00<?, ?it/s]"
      ]
     },
     "metadata": {},
     "output_type": "display_data"
    },
    {
     "data": {
      "application/vnd.jupyter.widget-view+json": {
       "model_id": "3fe9d6fa1958481e98283c7d09af9239",
       "version_major": 2,
       "version_minor": 0
      },
      "text/plain": [
       "Communities progress:   0%|          | 0/2 [00:00<?, ?it/s]"
      ]
     },
     "metadata": {},
     "output_type": "display_data"
    },
    {
     "data": {
      "application/vnd.jupyter.widget-view+json": {
       "model_id": "2459dc7c43f448868fe28dc71cc8020b",
       "version_major": 2,
       "version_minor": 0
      },
      "text/plain": [
       "Communities progress:   0%|          | 0/2 [00:00<?, ?it/s]"
      ]
     },
     "metadata": {},
     "output_type": "display_data"
    },
    {
     "data": {
      "application/vnd.jupyter.widget-view+json": {
       "model_id": "cbf135ec13fb474890c418904eebeaa3",
       "version_major": 2,
       "version_minor": 0
      },
      "text/plain": [
       "Communities progress:   0%|          | 0/2 [00:00<?, ?it/s]"
      ]
     },
     "metadata": {},
     "output_type": "display_data"
    },
    {
     "data": {
      "application/vnd.jupyter.widget-view+json": {
       "model_id": "9e6c9fcc3dac43d1b5853308fce3cee8",
       "version_major": 2,
       "version_minor": 0
      },
      "text/plain": [
       "Algorithm Progress:   0%|          | 0/4 [00:00<?, ?it/s]"
      ]
     },
     "metadata": {},
     "output_type": "display_data"
    },
    {
     "data": {
      "application/vnd.jupyter.widget-view+json": {
       "model_id": "c9277c56c89e4554b3830d332e2c031b",
       "version_major": 2,
       "version_minor": 0
      },
      "text/plain": [
       "Communities progress:   0%|          | 0/529 [00:00<?, ?it/s]"
      ]
     },
     "metadata": {},
     "output_type": "display_data"
    },
    {
     "data": {
      "application/vnd.jupyter.widget-view+json": {
       "model_id": "5117c90035204fe38298e761f66e5c18",
       "version_major": 2,
       "version_minor": 0
      },
      "text/plain": [
       "Communities progress:   0%|          | 0/516 [00:00<?, ?it/s]"
      ]
     },
     "metadata": {},
     "output_type": "display_data"
    },
    {
     "data": {
      "application/vnd.jupyter.widget-view+json": {
       "model_id": "3a1f5eb1926143fdad051717d306c255",
       "version_major": 2,
       "version_minor": 0
      },
      "text/plain": [
       "Communities progress:   0%|          | 0/492 [00:00<?, ?it/s]"
      ]
     },
     "metadata": {},
     "output_type": "display_data"
    },
    {
     "data": {
      "application/vnd.jupyter.widget-view+json": {
       "model_id": "f9d32291833149599cd2a2792e9845bf",
       "version_major": 2,
       "version_minor": 0
      },
      "text/plain": [
       "Communities progress:   0%|          | 0/505 [00:00<?, ?it/s]"
      ]
     },
     "metadata": {},
     "output_type": "display_data"
    },
    {
     "data": {
      "application/vnd.jupyter.widget-view+json": {
       "model_id": "70cb5020d1bd4c65a03fe57c6ee6a83a",
       "version_major": 2,
       "version_minor": 0
      },
      "text/plain": [
       "Community Detector Progress:   0%|          | 0/4 [00:00<?, ?it/s]"
      ]
     },
     "metadata": {},
     "output_type": "display_data"
    },
    {
     "data": {
      "application/vnd.jupyter.widget-view+json": {
       "model_id": "9a68a6406dbd444eae9ca975b35c37e9",
       "version_major": 2,
       "version_minor": 0
      },
      "text/plain": [
       "Algorithm Progress:   0%|          | 0/4 [00:00<?, ?it/s]"
      ]
     },
     "metadata": {},
     "output_type": "display_data"
    },
    {
     "data": {
      "application/vnd.jupyter.widget-view+json": {
       "model_id": "ad41b8e04e354796b7299a5fa611dcc4",
       "version_major": 2,
       "version_minor": 0
      },
      "text/plain": [
       "Algorithm Progress:   0%|          | 0/4 [00:00<?, ?it/s]"
      ]
     },
     "metadata": {},
     "output_type": "display_data"
    },
    {
     "data": {
      "application/vnd.jupyter.widget-view+json": {
       "model_id": "8c4001586cba4d21bc6d4ba1c932eee0",
       "version_major": 2,
       "version_minor": 0
      },
      "text/plain": [
       "Communities progress:   0%|          | 0/4 [00:00<?, ?it/s]"
      ]
     },
     "metadata": {},
     "output_type": "display_data"
    },
    {
     "data": {
      "application/vnd.jupyter.widget-view+json": {
       "model_id": "3712d65392904a4189cd32b7754a6a96",
       "version_major": 2,
       "version_minor": 0
      },
      "text/plain": [
       "Communities progress:   0%|          | 0/3 [00:00<?, ?it/s]"
      ]
     },
     "metadata": {},
     "output_type": "display_data"
    },
    {
     "data": {
      "application/vnd.jupyter.widget-view+json": {
       "model_id": "4a70d36f937941e890d6b166e0c9934f",
       "version_major": 2,
       "version_minor": 0
      },
      "text/plain": [
       "Communities progress:   0%|          | 0/3 [00:00<?, ?it/s]"
      ]
     },
     "metadata": {},
     "output_type": "display_data"
    },
    {
     "data": {
      "application/vnd.jupyter.widget-view+json": {
       "model_id": "b40abbcd99114b2e967481a7ffb7a8d8",
       "version_major": 2,
       "version_minor": 0
      },
      "text/plain": [
       "Communities progress:   0%|          | 0/3 [00:00<?, ?it/s]"
      ]
     },
     "metadata": {},
     "output_type": "display_data"
    },
    {
     "data": {
      "application/vnd.jupyter.widget-view+json": {
       "model_id": "29b03a01e79443578963f1aef6e64685",
       "version_major": 2,
       "version_minor": 0
      },
      "text/plain": [
       "Algorithm Progress:   0%|          | 0/4 [00:00<?, ?it/s]"
      ]
     },
     "metadata": {},
     "output_type": "display_data"
    },
    {
     "data": {
      "application/vnd.jupyter.widget-view+json": {
       "model_id": "cbff42793bcd47bc8928b1690129d52a",
       "version_major": 2,
       "version_minor": 0
      },
      "text/plain": [
       "Communities progress:   0%|          | 0/2 [00:00<?, ?it/s]"
      ]
     },
     "metadata": {},
     "output_type": "display_data"
    },
    {
     "data": {
      "application/vnd.jupyter.widget-view+json": {
       "model_id": "f23a7c677b544e6195722bb05e40687e",
       "version_major": 2,
       "version_minor": 0
      },
      "text/plain": [
       "Communities progress:   0%|          | 0/2 [00:00<?, ?it/s]"
      ]
     },
     "metadata": {},
     "output_type": "display_data"
    },
    {
     "data": {
      "application/vnd.jupyter.widget-view+json": {
       "model_id": "2f6d062ae74f41fca66778a970aabbf1",
       "version_major": 2,
       "version_minor": 0
      },
      "text/plain": [
       "Communities progress:   0%|          | 0/2 [00:00<?, ?it/s]"
      ]
     },
     "metadata": {},
     "output_type": "display_data"
    },
    {
     "data": {
      "application/vnd.jupyter.widget-view+json": {
       "model_id": "53e30a4c938c4667991fe0994b90ab63",
       "version_major": 2,
       "version_minor": 0
      },
      "text/plain": [
       "Communities progress:   0%|          | 0/2 [00:00<?, ?it/s]"
      ]
     },
     "metadata": {},
     "output_type": "display_data"
    },
    {
     "data": {
      "application/vnd.jupyter.widget-view+json": {
       "model_id": "2f7d2ed4d4914330949b349a4f67546f",
       "version_major": 2,
       "version_minor": 0
      },
      "text/plain": [
       "Algorithm Progress:   0%|          | 0/4 [00:00<?, ?it/s]"
      ]
     },
     "metadata": {},
     "output_type": "display_data"
    },
    {
     "data": {
      "application/vnd.jupyter.widget-view+json": {
       "model_id": "affc74189b734de1a3e9750ea3abb81e",
       "version_major": 2,
       "version_minor": 0
      },
      "text/plain": [
       "Communities progress:   0%|          | 0/495 [00:00<?, ?it/s]"
      ]
     },
     "metadata": {},
     "output_type": "display_data"
    },
    {
     "data": {
      "application/vnd.jupyter.widget-view+json": {
       "model_id": "748030aad36c4691a4a860f573103d62",
       "version_major": 2,
       "version_minor": 0
      },
      "text/plain": [
       "Communities progress:   0%|          | 0/475 [00:00<?, ?it/s]"
      ]
     },
     "metadata": {},
     "output_type": "display_data"
    },
    {
     "data": {
      "application/vnd.jupyter.widget-view+json": {
       "model_id": "58cc89dbc2fd4828a60ca434fa02989b",
       "version_major": 2,
       "version_minor": 0
      },
      "text/plain": [
       "Communities progress:   0%|          | 0/491 [00:00<?, ?it/s]"
      ]
     },
     "metadata": {},
     "output_type": "display_data"
    },
    {
     "data": {
      "application/vnd.jupyter.widget-view+json": {
       "model_id": "b39924d1dfbe41169fe20ef2d69ef8cb",
       "version_major": 2,
       "version_minor": 0
      },
      "text/plain": [
       "Communities progress:   0%|          | 0/487 [00:00<?, ?it/s]"
      ]
     },
     "metadata": {},
     "output_type": "display_data"
    },
    {
     "data": {
      "application/vnd.jupyter.widget-view+json": {
       "model_id": "74676e46a6fd431883601495dc63cc1e",
       "version_major": 2,
       "version_minor": 0
      },
      "text/plain": [
       "Similarity Metric Progress:   0%|          | 0/4 [00:00<?, ?it/s]"
      ]
     },
     "metadata": {},
     "output_type": "display_data"
    },
    {
     "data": {
      "application/vnd.jupyter.widget-view+json": {
       "model_id": "478a7a36c57241178a4e9ed08e1494a6",
       "version_major": 2,
       "version_minor": 0
      },
      "text/plain": [
       "Community Detector Progress:   0%|          | 0/4 [00:00<?, ?it/s]"
      ]
     },
     "metadata": {},
     "output_type": "display_data"
    },
    {
     "data": {
      "application/vnd.jupyter.widget-view+json": {
       "model_id": "d2c8acad20c54c06abf2fcf0abde1886",
       "version_major": 2,
       "version_minor": 0
      },
      "text/plain": [
       "Algorithm Progress:   0%|          | 0/4 [00:00<?, ?it/s]"
      ]
     },
     "metadata": {},
     "output_type": "display_data"
    },
    {
     "data": {
      "application/vnd.jupyter.widget-view+json": {
       "model_id": "ec0f703426c94855a13148e336545598",
       "version_major": 2,
       "version_minor": 0
      },
      "text/plain": [
       "Algorithm Progress:   0%|          | 0/4 [00:00<?, ?it/s]"
      ]
     },
     "metadata": {},
     "output_type": "display_data"
    },
    {
     "data": {
      "application/vnd.jupyter.widget-view+json": {
       "model_id": "07251ddf72f947d68c22655f7399063b",
       "version_major": 2,
       "version_minor": 0
      },
      "text/plain": [
       "Communities progress:   0%|          | 0/3 [00:00<?, ?it/s]"
      ]
     },
     "metadata": {},
     "output_type": "display_data"
    },
    {
     "data": {
      "application/vnd.jupyter.widget-view+json": {
       "model_id": "e6bdf2c9372049909ee8bb3e0ace9f58",
       "version_major": 2,
       "version_minor": 0
      },
      "text/plain": [
       "Communities progress:   0%|          | 0/3 [00:00<?, ?it/s]"
      ]
     },
     "metadata": {},
     "output_type": "display_data"
    },
    {
     "data": {
      "application/vnd.jupyter.widget-view+json": {
       "model_id": "f3198a77889443dd9203bb8409a196a3",
       "version_major": 2,
       "version_minor": 0
      },
      "text/plain": [
       "Communities progress:   0%|          | 0/3 [00:00<?, ?it/s]"
      ]
     },
     "metadata": {},
     "output_type": "display_data"
    },
    {
     "data": {
      "application/vnd.jupyter.widget-view+json": {
       "model_id": "14071c6f09a94d5094d98c39bbafb0c8",
       "version_major": 2,
       "version_minor": 0
      },
      "text/plain": [
       "Communities progress:   0%|          | 0/3 [00:00<?, ?it/s]"
      ]
     },
     "metadata": {},
     "output_type": "display_data"
    },
    {
     "data": {
      "application/vnd.jupyter.widget-view+json": {
       "model_id": "371abfe00feb41ee9080a9b209b417ec",
       "version_major": 2,
       "version_minor": 0
      },
      "text/plain": [
       "Algorithm Progress:   0%|          | 0/4 [00:00<?, ?it/s]"
      ]
     },
     "metadata": {},
     "output_type": "display_data"
    },
    {
     "data": {
      "application/vnd.jupyter.widget-view+json": {
       "model_id": "485ec1eb22874efe90bd1cc6ab77bbed",
       "version_major": 2,
       "version_minor": 0
      },
      "text/plain": [
       "Communities progress:   0%|          | 0/81 [00:00<?, ?it/s]"
      ]
     },
     "metadata": {},
     "output_type": "display_data"
    },
    {
     "data": {
      "application/vnd.jupyter.widget-view+json": {
       "model_id": "3452ce22f24142ea89c480d66c4a7295",
       "version_major": 2,
       "version_minor": 0
      },
      "text/plain": [
       "Communities progress:   0%|          | 0/81 [00:00<?, ?it/s]"
      ]
     },
     "metadata": {},
     "output_type": "display_data"
    },
    {
     "data": {
      "application/vnd.jupyter.widget-view+json": {
       "model_id": "a1ef0d2c868143569ed42a553358381d",
       "version_major": 2,
       "version_minor": 0
      },
      "text/plain": [
       "Communities progress:   0%|          | 0/81 [00:00<?, ?it/s]"
      ]
     },
     "metadata": {},
     "output_type": "display_data"
    },
    {
     "data": {
      "application/vnd.jupyter.widget-view+json": {
       "model_id": "a05f5521f3734ef497f12658c9c51ae5",
       "version_major": 2,
       "version_minor": 0
      },
      "text/plain": [
       "Communities progress:   0%|          | 0/81 [00:00<?, ?it/s]"
      ]
     },
     "metadata": {},
     "output_type": "display_data"
    },
    {
     "data": {
      "application/vnd.jupyter.widget-view+json": {
       "model_id": "195dc4ba85b4462bb8626cec2be79864",
       "version_major": 2,
       "version_minor": 0
      },
      "text/plain": [
       "Algorithm Progress:   0%|          | 0/4 [00:00<?, ?it/s]"
      ]
     },
     "metadata": {},
     "output_type": "display_data"
    },
    {
     "data": {
      "application/vnd.jupyter.widget-view+json": {
       "model_id": "20ae9031554841b09c15f3752332bdce",
       "version_major": 2,
       "version_minor": 0
      },
      "text/plain": [
       "Communities progress:   0%|          | 0/479 [00:00<?, ?it/s]"
      ]
     },
     "metadata": {},
     "output_type": "display_data"
    },
    {
     "data": {
      "application/vnd.jupyter.widget-view+json": {
       "model_id": "e8a66e6b02ca467daf9c5ec013bd6f4a",
       "version_major": 2,
       "version_minor": 0
      },
      "text/plain": [
       "Communities progress:   0%|          | 0/488 [00:00<?, ?it/s]"
      ]
     },
     "metadata": {},
     "output_type": "display_data"
    },
    {
     "data": {
      "application/vnd.jupyter.widget-view+json": {
       "model_id": "2154c9c0c63b4c779dfc6b7a21ee566b",
       "version_major": 2,
       "version_minor": 0
      },
      "text/plain": [
       "Communities progress:   0%|          | 0/482 [00:00<?, ?it/s]"
      ]
     },
     "metadata": {},
     "output_type": "display_data"
    },
    {
     "data": {
      "application/vnd.jupyter.widget-view+json": {
       "model_id": "93f535ba4f1c418c8fb54e2f39fa0902",
       "version_major": 2,
       "version_minor": 0
      },
      "text/plain": [
       "Communities progress:   0%|          | 0/479 [00:00<?, ?it/s]"
      ]
     },
     "metadata": {},
     "output_type": "display_data"
    },
    {
     "data": {
      "application/vnd.jupyter.widget-view+json": {
       "model_id": "196a7d6abaca4dc3a931d3bb11d88b74",
       "version_major": 2,
       "version_minor": 0
      },
      "text/plain": [
       "Community Detector Progress:   0%|          | 0/4 [00:00<?, ?it/s]"
      ]
     },
     "metadata": {},
     "output_type": "display_data"
    },
    {
     "data": {
      "application/vnd.jupyter.widget-view+json": {
       "model_id": "9730549861d74723b3cd046b9bb12352",
       "version_major": 2,
       "version_minor": 0
      },
      "text/plain": [
       "Algorithm Progress:   0%|          | 0/4 [00:00<?, ?it/s]"
      ]
     },
     "metadata": {},
     "output_type": "display_data"
    },
    {
     "data": {
      "application/vnd.jupyter.widget-view+json": {
       "model_id": "68bc075cd67d4cf18878d659712b280d",
       "version_major": 2,
       "version_minor": 0
      },
      "text/plain": [
       "Algorithm Progress:   0%|          | 0/4 [00:00<?, ?it/s]"
      ]
     },
     "metadata": {},
     "output_type": "display_data"
    },
    {
     "data": {
      "application/vnd.jupyter.widget-view+json": {
       "model_id": "78359c2006904594962ffbdedc7d58f9",
       "version_major": 2,
       "version_minor": 0
      },
      "text/plain": [
       "Communities progress:   0%|          | 0/3 [00:00<?, ?it/s]"
      ]
     },
     "metadata": {},
     "output_type": "display_data"
    },
    {
     "data": {
      "application/vnd.jupyter.widget-view+json": {
       "model_id": "b72bec459c3f4b29b72a37fb66707165",
       "version_major": 2,
       "version_minor": 0
      },
      "text/plain": [
       "Communities progress:   0%|          | 0/3 [00:00<?, ?it/s]"
      ]
     },
     "metadata": {},
     "output_type": "display_data"
    },
    {
     "data": {
      "application/vnd.jupyter.widget-view+json": {
       "model_id": "36812e46ecba44239d4502ca79bbbcaa",
       "version_major": 2,
       "version_minor": 0
      },
      "text/plain": [
       "Communities progress:   0%|          | 0/3 [00:00<?, ?it/s]"
      ]
     },
     "metadata": {},
     "output_type": "display_data"
    },
    {
     "data": {
      "application/vnd.jupyter.widget-view+json": {
       "model_id": "87f40e1bc79b4ce9928c7aa73ccd1d2c",
       "version_major": 2,
       "version_minor": 0
      },
      "text/plain": [
       "Communities progress:   0%|          | 0/3 [00:00<?, ?it/s]"
      ]
     },
     "metadata": {},
     "output_type": "display_data"
    },
    {
     "data": {
      "application/vnd.jupyter.widget-view+json": {
       "model_id": "3c6c92fd1f294dcaa8c4f0ee63600af7",
       "version_major": 2,
       "version_minor": 0
      },
      "text/plain": [
       "Algorithm Progress:   0%|          | 0/4 [00:00<?, ?it/s]"
      ]
     },
     "metadata": {},
     "output_type": "display_data"
    },
    {
     "data": {
      "application/vnd.jupyter.widget-view+json": {
       "model_id": "71683021303e48e3b6f1fbcec034b9cd",
       "version_major": 2,
       "version_minor": 0
      },
      "text/plain": [
       "Communities progress:   0%|          | 0/2 [00:00<?, ?it/s]"
      ]
     },
     "metadata": {},
     "output_type": "display_data"
    },
    {
     "data": {
      "application/vnd.jupyter.widget-view+json": {
       "model_id": "14280ef07b3a47d5bdf6b2e0ce7b2be3",
       "version_major": 2,
       "version_minor": 0
      },
      "text/plain": [
       "Communities progress:   0%|          | 0/2 [00:00<?, ?it/s]"
      ]
     },
     "metadata": {},
     "output_type": "display_data"
    },
    {
     "data": {
      "application/vnd.jupyter.widget-view+json": {
       "model_id": "5814afd0ab5f4ca8b00944ea30cd76b9",
       "version_major": 2,
       "version_minor": 0
      },
      "text/plain": [
       "Communities progress:   0%|          | 0/2 [00:00<?, ?it/s]"
      ]
     },
     "metadata": {},
     "output_type": "display_data"
    },
    {
     "data": {
      "application/vnd.jupyter.widget-view+json": {
       "model_id": "45bb5647b55649ef934bc3257c8b974e",
       "version_major": 2,
       "version_minor": 0
      },
      "text/plain": [
       "Communities progress:   0%|          | 0/2 [00:00<?, ?it/s]"
      ]
     },
     "metadata": {},
     "output_type": "display_data"
    },
    {
     "data": {
      "application/vnd.jupyter.widget-view+json": {
       "model_id": "04f4e1e6246b4498a55527be35d31025",
       "version_major": 2,
       "version_minor": 0
      },
      "text/plain": [
       "Algorithm Progress:   0%|          | 0/4 [00:00<?, ?it/s]"
      ]
     },
     "metadata": {},
     "output_type": "display_data"
    },
    {
     "data": {
      "application/vnd.jupyter.widget-view+json": {
       "model_id": "6c770237fdd94889aadce09c07e98f5d",
       "version_major": 2,
       "version_minor": 0
      },
      "text/plain": [
       "Communities progress:   0%|          | 0/82 [00:00<?, ?it/s]"
      ]
     },
     "metadata": {},
     "output_type": "display_data"
    },
    {
     "data": {
      "application/vnd.jupyter.widget-view+json": {
       "model_id": "6dfa1a27232043229b0b70804e826329",
       "version_major": 2,
       "version_minor": 0
      },
      "text/plain": [
       "Communities progress:   0%|          | 0/73 [00:00<?, ?it/s]"
      ]
     },
     "metadata": {},
     "output_type": "display_data"
    },
    {
     "data": {
      "application/vnd.jupyter.widget-view+json": {
       "model_id": "11aae28277f9439694e319aaffdcdd01",
       "version_major": 2,
       "version_minor": 0
      },
      "text/plain": [
       "Communities progress:   0%|          | 0/71 [00:00<?, ?it/s]"
      ]
     },
     "metadata": {},
     "output_type": "display_data"
    },
    {
     "data": {
      "application/vnd.jupyter.widget-view+json": {
       "model_id": "905bc0d564d94a2894fff8aeb8e1c0a2",
       "version_major": 2,
       "version_minor": 0
      },
      "text/plain": [
       "Communities progress:   0%|          | 0/80 [00:00<?, ?it/s]"
      ]
     },
     "metadata": {},
     "output_type": "display_data"
    },
    {
     "data": {
      "application/vnd.jupyter.widget-view+json": {
       "model_id": "0f3973eda1aa4bcca09577b7640a69f5",
       "version_major": 2,
       "version_minor": 0
      },
      "text/plain": [
       "Community Detector Progress:   0%|          | 0/4 [00:00<?, ?it/s]"
      ]
     },
     "metadata": {},
     "output_type": "display_data"
    },
    {
     "data": {
      "application/vnd.jupyter.widget-view+json": {
       "model_id": "327c0014900a4f7c9fd3e60228f3d287",
       "version_major": 2,
       "version_minor": 0
      },
      "text/plain": [
       "Algorithm Progress:   0%|          | 0/4 [00:00<?, ?it/s]"
      ]
     },
     "metadata": {},
     "output_type": "display_data"
    },
    {
     "data": {
      "application/vnd.jupyter.widget-view+json": {
       "model_id": "fe908713c2c64ad29663afe0fdd3963c",
       "version_major": 2,
       "version_minor": 0
      },
      "text/plain": [
       "Algorithm Progress:   0%|          | 0/4 [00:00<?, ?it/s]"
      ]
     },
     "metadata": {},
     "output_type": "display_data"
    },
    {
     "data": {
      "application/vnd.jupyter.widget-view+json": {
       "model_id": "879c87f2dc3447229b6785369d520175",
       "version_major": 2,
       "version_minor": 0
      },
      "text/plain": [
       "Communities progress:   0%|          | 0/3 [00:00<?, ?it/s]"
      ]
     },
     "metadata": {},
     "output_type": "display_data"
    },
    {
     "data": {
      "application/vnd.jupyter.widget-view+json": {
       "model_id": "55ca76df97944e3eaa35ca22af052a6c",
       "version_major": 2,
       "version_minor": 0
      },
      "text/plain": [
       "Communities progress:   0%|          | 0/3 [00:00<?, ?it/s]"
      ]
     },
     "metadata": {},
     "output_type": "display_data"
    },
    {
     "data": {
      "application/vnd.jupyter.widget-view+json": {
       "model_id": "6b744e3673a641dfb817eeabe07a0767",
       "version_major": 2,
       "version_minor": 0
      },
      "text/plain": [
       "Communities progress:   0%|          | 0/3 [00:00<?, ?it/s]"
      ]
     },
     "metadata": {},
     "output_type": "display_data"
    },
    {
     "data": {
      "application/vnd.jupyter.widget-view+json": {
       "model_id": "383226e829934f32a2b93ab6e09f8252",
       "version_major": 2,
       "version_minor": 0
      },
      "text/plain": [
       "Communities progress:   0%|          | 0/3 [00:00<?, ?it/s]"
      ]
     },
     "metadata": {},
     "output_type": "display_data"
    },
    {
     "data": {
      "application/vnd.jupyter.widget-view+json": {
       "model_id": "d88edad641e24ee1a8c9b360137ab7e1",
       "version_major": 2,
       "version_minor": 0
      },
      "text/plain": [
       "Algorithm Progress:   0%|          | 0/4 [00:00<?, ?it/s]"
      ]
     },
     "metadata": {},
     "output_type": "display_data"
    },
    {
     "data": {
      "application/vnd.jupyter.widget-view+json": {
       "model_id": "f7b4205eb2c94750a2b87c29e2bd757f",
       "version_major": 2,
       "version_minor": 0
      },
      "text/plain": [
       "Communities progress:   0%|          | 0/3 [00:00<?, ?it/s]"
      ]
     },
     "metadata": {},
     "output_type": "display_data"
    },
    {
     "data": {
      "application/vnd.jupyter.widget-view+json": {
       "model_id": "554d15c3d0b445ad854e9c258aaf2190",
       "version_major": 2,
       "version_minor": 0
      },
      "text/plain": [
       "Communities progress:   0%|          | 0/3 [00:00<?, ?it/s]"
      ]
     },
     "metadata": {},
     "output_type": "display_data"
    },
    {
     "data": {
      "application/vnd.jupyter.widget-view+json": {
       "model_id": "0d390ba545d94de989256cabbd85d702",
       "version_major": 2,
       "version_minor": 0
      },
      "text/plain": [
       "Communities progress:   0%|          | 0/3 [00:00<?, ?it/s]"
      ]
     },
     "metadata": {},
     "output_type": "display_data"
    },
    {
     "data": {
      "application/vnd.jupyter.widget-view+json": {
       "model_id": "a0183de74f664d5eac9f3660c0fe6f57",
       "version_major": 2,
       "version_minor": 0
      },
      "text/plain": [
       "Communities progress:   0%|          | 0/3 [00:00<?, ?it/s]"
      ]
     },
     "metadata": {},
     "output_type": "display_data"
    },
    {
     "data": {
      "application/vnd.jupyter.widget-view+json": {
       "model_id": "1f1d77beb6844f4caa837409ff53cfb1",
       "version_major": 2,
       "version_minor": 0
      },
      "text/plain": [
       "Algorithm Progress:   0%|          | 0/4 [00:00<?, ?it/s]"
      ]
     },
     "metadata": {},
     "output_type": "display_data"
    },
    {
     "data": {
      "application/vnd.jupyter.widget-view+json": {
       "model_id": "c9130d4f691947519d7c5d4900956c7f",
       "version_major": 2,
       "version_minor": 0
      },
      "text/plain": [
       "Communities progress:   0%|          | 0/526 [00:00<?, ?it/s]"
      ]
     },
     "metadata": {},
     "output_type": "display_data"
    },
    {
     "data": {
      "application/vnd.jupyter.widget-view+json": {
       "model_id": "487e5567682242dd9470d1d2e0c14ecf",
       "version_major": 2,
       "version_minor": 0
      },
      "text/plain": [
       "Communities progress:   0%|          | 0/514 [00:00<?, ?it/s]"
      ]
     },
     "metadata": {},
     "output_type": "display_data"
    },
    {
     "data": {
      "application/vnd.jupyter.widget-view+json": {
       "model_id": "9d876da9f4d84020a0feaff15d354b13",
       "version_major": 2,
       "version_minor": 0
      },
      "text/plain": [
       "Communities progress:   0%|          | 0/513 [00:00<?, ?it/s]"
      ]
     },
     "metadata": {},
     "output_type": "display_data"
    },
    {
     "data": {
      "application/vnd.jupyter.widget-view+json": {
       "model_id": "9109fee8baa04ac5a0ddc377f1f067fc",
       "version_major": 2,
       "version_minor": 0
      },
      "text/plain": [
       "Communities progress:   0%|          | 0/522 [00:00<?, ?it/s]"
      ]
     },
     "metadata": {},
     "output_type": "display_data"
    },
    {
     "data": {
      "application/vnd.jupyter.widget-view+json": {
       "model_id": "11492a6613e8406db6433f183718cfc9",
       "version_major": 2,
       "version_minor": 0
      },
      "text/plain": [
       "Community Detector Progress:   0%|          | 0/4 [00:00<?, ?it/s]"
      ]
     },
     "metadata": {},
     "output_type": "display_data"
    },
    {
     "data": {
      "application/vnd.jupyter.widget-view+json": {
       "model_id": "3c98de952f814131ac5ecc51b72c32ec",
       "version_major": 2,
       "version_minor": 0
      },
      "text/plain": [
       "Algorithm Progress:   0%|          | 0/4 [00:00<?, ?it/s]"
      ]
     },
     "metadata": {},
     "output_type": "display_data"
    },
    {
     "data": {
      "application/vnd.jupyter.widget-view+json": {
       "model_id": "a8202bacd5de42aa8062a0e9ebe47346",
       "version_major": 2,
       "version_minor": 0
      },
      "text/plain": [
       "Algorithm Progress:   0%|          | 0/4 [00:00<?, ?it/s]"
      ]
     },
     "metadata": {},
     "output_type": "display_data"
    },
    {
     "data": {
      "application/vnd.jupyter.widget-view+json": {
       "model_id": "48c899d7f2be42d0b73610752f4a0257",
       "version_major": 2,
       "version_minor": 0
      },
      "text/plain": [
       "Communities progress:   0%|          | 0/3 [00:00<?, ?it/s]"
      ]
     },
     "metadata": {},
     "output_type": "display_data"
    },
    {
     "data": {
      "application/vnd.jupyter.widget-view+json": {
       "model_id": "6c5ac9fbf2914c3f98576a350c17bf31",
       "version_major": 2,
       "version_minor": 0
      },
      "text/plain": [
       "Communities progress:   0%|          | 0/3 [00:00<?, ?it/s]"
      ]
     },
     "metadata": {},
     "output_type": "display_data"
    },
    {
     "data": {
      "application/vnd.jupyter.widget-view+json": {
       "model_id": "5c91dee60b554f41be07edc434db2b20",
       "version_major": 2,
       "version_minor": 0
      },
      "text/plain": [
       "Communities progress:   0%|          | 0/3 [00:00<?, ?it/s]"
      ]
     },
     "metadata": {},
     "output_type": "display_data"
    },
    {
     "data": {
      "application/vnd.jupyter.widget-view+json": {
       "model_id": "ee03459fbdcf4667b9b3c6521f9a4a97",
       "version_major": 2,
       "version_minor": 0
      },
      "text/plain": [
       "Communities progress:   0%|          | 0/3 [00:00<?, ?it/s]"
      ]
     },
     "metadata": {},
     "output_type": "display_data"
    },
    {
     "data": {
      "application/vnd.jupyter.widget-view+json": {
       "model_id": "93a45219f3b04889b426050a6eefd611",
       "version_major": 2,
       "version_minor": 0
      },
      "text/plain": [
       "Algorithm Progress:   0%|          | 0/4 [00:00<?, ?it/s]"
      ]
     },
     "metadata": {},
     "output_type": "display_data"
    },
    {
     "data": {
      "application/vnd.jupyter.widget-view+json": {
       "model_id": "2308e57b18384cfda4d57b4b797c9783",
       "version_major": 2,
       "version_minor": 0
      },
      "text/plain": [
       "Communities progress:   0%|          | 0/81 [00:00<?, ?it/s]"
      ]
     },
     "metadata": {},
     "output_type": "display_data"
    },
    {
     "data": {
      "application/vnd.jupyter.widget-view+json": {
       "model_id": "f970d93d6b6e4960bb929c98ead7a245",
       "version_major": 2,
       "version_minor": 0
      },
      "text/plain": [
       "Communities progress:   0%|          | 0/81 [00:00<?, ?it/s]"
      ]
     },
     "metadata": {},
     "output_type": "display_data"
    },
    {
     "data": {
      "application/vnd.jupyter.widget-view+json": {
       "model_id": "c47736f64fbe483d8e69ac5f91eb46fa",
       "version_major": 2,
       "version_minor": 0
      },
      "text/plain": [
       "Communities progress:   0%|          | 0/81 [00:00<?, ?it/s]"
      ]
     },
     "metadata": {},
     "output_type": "display_data"
    },
    {
     "data": {
      "application/vnd.jupyter.widget-view+json": {
       "model_id": "1e6f0e4eef194a369a4e7d8739d03c81",
       "version_major": 2,
       "version_minor": 0
      },
      "text/plain": [
       "Communities progress:   0%|          | 0/81 [00:00<?, ?it/s]"
      ]
     },
     "metadata": {},
     "output_type": "display_data"
    },
    {
     "data": {
      "application/vnd.jupyter.widget-view+json": {
       "model_id": "52c0dfcf01bb4d84889a83e1ca299319",
       "version_major": 2,
       "version_minor": 0
      },
      "text/plain": [
       "Algorithm Progress:   0%|          | 0/4 [00:00<?, ?it/s]"
      ]
     },
     "metadata": {},
     "output_type": "display_data"
    },
    {
     "data": {
      "application/vnd.jupyter.widget-view+json": {
       "model_id": "047244270eeb46c6af6064c449ccc776",
       "version_major": 2,
       "version_minor": 0
      },
      "text/plain": [
       "Communities progress:   0%|          | 0/548 [00:00<?, ?it/s]"
      ]
     },
     "metadata": {},
     "output_type": "display_data"
    },
    {
     "data": {
      "application/vnd.jupyter.widget-view+json": {
       "model_id": "73eb0804f85b44fc9124736198836ded",
       "version_major": 2,
       "version_minor": 0
      },
      "text/plain": [
       "Communities progress:   0%|          | 0/486 [00:00<?, ?it/s]"
      ]
     },
     "metadata": {},
     "output_type": "display_data"
    },
    {
     "data": {
      "application/vnd.jupyter.widget-view+json": {
       "model_id": "43f983098ce147a3ab2a65d0dcb24823",
       "version_major": 2,
       "version_minor": 0
      },
      "text/plain": [
       "Communities progress:   0%|          | 0/500 [00:00<?, ?it/s]"
      ]
     },
     "metadata": {},
     "output_type": "display_data"
    },
    {
     "data": {
      "application/vnd.jupyter.widget-view+json": {
       "model_id": "f88bb71423e642e4a5133f5c33a08ca6",
       "version_major": 2,
       "version_minor": 0
      },
      "text/plain": [
       "Communities progress:   0%|          | 0/490 [00:00<?, ?it/s]"
      ]
     },
     "metadata": {},
     "output_type": "display_data"
    },
    {
     "data": {
      "application/vnd.jupyter.widget-view+json": {
       "model_id": "3ce638a6c7884670be2d3fc033c64529",
       "version_major": 2,
       "version_minor": 0
      },
      "text/plain": [
       "Similarity Metric Progress:   0%|          | 0/4 [00:00<?, ?it/s]"
      ]
     },
     "metadata": {},
     "output_type": "display_data"
    },
    {
     "data": {
      "application/vnd.jupyter.widget-view+json": {
       "model_id": "c69cb4dfa4164f8098ec7318d9c92ffb",
       "version_major": 2,
       "version_minor": 0
      },
      "text/plain": [
       "Community Detector Progress:   0%|          | 0/4 [00:00<?, ?it/s]"
      ]
     },
     "metadata": {},
     "output_type": "display_data"
    },
    {
     "data": {
      "application/vnd.jupyter.widget-view+json": {
       "model_id": "227ae58d736b49a7b150b77f4bb6f31a",
       "version_major": 2,
       "version_minor": 0
      },
      "text/plain": [
       "Algorithm Progress:   0%|          | 0/4 [00:00<?, ?it/s]"
      ]
     },
     "metadata": {},
     "output_type": "display_data"
    },
    {
     "data": {
      "application/vnd.jupyter.widget-view+json": {
       "model_id": "f4eb2ed79735432aaf2582121d60061c",
       "version_major": 2,
       "version_minor": 0
      },
      "text/plain": [
       "Algorithm Progress:   0%|          | 0/4 [00:00<?, ?it/s]"
      ]
     },
     "metadata": {},
     "output_type": "display_data"
    },
    {
     "data": {
      "application/vnd.jupyter.widget-view+json": {
       "model_id": "45cc508ae994431890c6fe1fc80d0b06",
       "version_major": 2,
       "version_minor": 0
      },
      "text/plain": [
       "Communities progress:   0%|          | 0/4 [00:00<?, ?it/s]"
      ]
     },
     "metadata": {},
     "output_type": "display_data"
    },
    {
     "data": {
      "application/vnd.jupyter.widget-view+json": {
       "model_id": "a298f7c4e3934310bb17820ea1bdb257",
       "version_major": 2,
       "version_minor": 0
      },
      "text/plain": [
       "Communities progress:   0%|          | 0/4 [00:00<?, ?it/s]"
      ]
     },
     "metadata": {},
     "output_type": "display_data"
    },
    {
     "data": {
      "application/vnd.jupyter.widget-view+json": {
       "model_id": "6e8c95ac81fb4621992ffb88dd686d67",
       "version_major": 2,
       "version_minor": 0
      },
      "text/plain": [
       "Communities progress:   0%|          | 0/3 [00:00<?, ?it/s]"
      ]
     },
     "metadata": {},
     "output_type": "display_data"
    },
    {
     "data": {
      "application/vnd.jupyter.widget-view+json": {
       "model_id": "5245c8d214ce4175b9fe92ea0662a363",
       "version_major": 2,
       "version_minor": 0
      },
      "text/plain": [
       "Communities progress:   0%|          | 0/4 [00:00<?, ?it/s]"
      ]
     },
     "metadata": {},
     "output_type": "display_data"
    },
    {
     "data": {
      "application/vnd.jupyter.widget-view+json": {
       "model_id": "0e21427fe0c54cf59cc8a273b5f73595",
       "version_major": 2,
       "version_minor": 0
      },
      "text/plain": [
       "Algorithm Progress:   0%|          | 0/4 [00:00<?, ?it/s]"
      ]
     },
     "metadata": {},
     "output_type": "display_data"
    },
    {
     "data": {
      "application/vnd.jupyter.widget-view+json": {
       "model_id": "604d326d260b4f439366bf16f8857b77",
       "version_major": 2,
       "version_minor": 0
      },
      "text/plain": [
       "Communities progress:   0%|          | 0/2 [00:00<?, ?it/s]"
      ]
     },
     "metadata": {},
     "output_type": "display_data"
    },
    {
     "data": {
      "application/vnd.jupyter.widget-view+json": {
       "model_id": "54409b09ef724fff8743df570c556516",
       "version_major": 2,
       "version_minor": 0
      },
      "text/plain": [
       "Communities progress:   0%|          | 0/2 [00:00<?, ?it/s]"
      ]
     },
     "metadata": {},
     "output_type": "display_data"
    },
    {
     "data": {
      "application/vnd.jupyter.widget-view+json": {
       "model_id": "38f29009992f435180d7e93947671027",
       "version_major": 2,
       "version_minor": 0
      },
      "text/plain": [
       "Communities progress:   0%|          | 0/2 [00:00<?, ?it/s]"
      ]
     },
     "metadata": {},
     "output_type": "display_data"
    },
    {
     "data": {
      "application/vnd.jupyter.widget-view+json": {
       "model_id": "3b20338d1d3342bcb34027259937910a",
       "version_major": 2,
       "version_minor": 0
      },
      "text/plain": [
       "Communities progress:   0%|          | 0/2 [00:00<?, ?it/s]"
      ]
     },
     "metadata": {},
     "output_type": "display_data"
    },
    {
     "data": {
      "application/vnd.jupyter.widget-view+json": {
       "model_id": "b5083226bd554427a1b0288d7d4a6846",
       "version_major": 2,
       "version_minor": 0
      },
      "text/plain": [
       "Algorithm Progress:   0%|          | 0/4 [00:00<?, ?it/s]"
      ]
     },
     "metadata": {},
     "output_type": "display_data"
    },
    {
     "data": {
      "application/vnd.jupyter.widget-view+json": {
       "model_id": "7e201d47083d4d44826c5f71b89d7a68",
       "version_major": 2,
       "version_minor": 0
      },
      "text/plain": [
       "Communities progress:   0%|          | 0/472 [00:00<?, ?it/s]"
      ]
     },
     "metadata": {},
     "output_type": "display_data"
    },
    {
     "data": {
      "application/vnd.jupyter.widget-view+json": {
       "model_id": "a4d2a367b3bb4847b1d58a091903a6c5",
       "version_major": 2,
       "version_minor": 0
      },
      "text/plain": [
       "Communities progress:   0%|          | 0/476 [00:00<?, ?it/s]"
      ]
     },
     "metadata": {},
     "output_type": "display_data"
    },
    {
     "data": {
      "application/vnd.jupyter.widget-view+json": {
       "model_id": "a4c23e3ce0244ae48c8c6b86733ccc04",
       "version_major": 2,
       "version_minor": 0
      },
      "text/plain": [
       "Communities progress:   0%|          | 0/515 [00:00<?, ?it/s]"
      ]
     },
     "metadata": {},
     "output_type": "display_data"
    },
    {
     "data": {
      "application/vnd.jupyter.widget-view+json": {
       "model_id": "53ffb6714e74450faf614e3200280dfa",
       "version_major": 2,
       "version_minor": 0
      },
      "text/plain": [
       "Communities progress:   0%|          | 0/502 [00:00<?, ?it/s]"
      ]
     },
     "metadata": {},
     "output_type": "display_data"
    },
    {
     "data": {
      "application/vnd.jupyter.widget-view+json": {
       "model_id": "efeb1f91ac68457aadef8c69ba13f9df",
       "version_major": 2,
       "version_minor": 0
      },
      "text/plain": [
       "Community Detector Progress:   0%|          | 0/4 [00:00<?, ?it/s]"
      ]
     },
     "metadata": {},
     "output_type": "display_data"
    },
    {
     "data": {
      "application/vnd.jupyter.widget-view+json": {
       "model_id": "a61a287e5b034519878cbf27d448e4d9",
       "version_major": 2,
       "version_minor": 0
      },
      "text/plain": [
       "Algorithm Progress:   0%|          | 0/4 [00:00<?, ?it/s]"
      ]
     },
     "metadata": {},
     "output_type": "display_data"
    },
    {
     "data": {
      "application/vnd.jupyter.widget-view+json": {
       "model_id": "d7c7eab273064c0db38f1b698ad88955",
       "version_major": 2,
       "version_minor": 0
      },
      "text/plain": [
       "Algorithm Progress:   0%|          | 0/4 [00:00<?, ?it/s]"
      ]
     },
     "metadata": {},
     "output_type": "display_data"
    },
    {
     "data": {
      "application/vnd.jupyter.widget-view+json": {
       "model_id": "1ed8105b34c04de6b7fa3835f2c1a14f",
       "version_major": 2,
       "version_minor": 0
      },
      "text/plain": [
       "Communities progress:   0%|          | 0/4 [00:00<?, ?it/s]"
      ]
     },
     "metadata": {},
     "output_type": "display_data"
    },
    {
     "data": {
      "application/vnd.jupyter.widget-view+json": {
       "model_id": "54296dcae6064223838b89dc8f99f396",
       "version_major": 2,
       "version_minor": 0
      },
      "text/plain": [
       "Communities progress:   0%|          | 0/3 [00:00<?, ?it/s]"
      ]
     },
     "metadata": {},
     "output_type": "display_data"
    },
    {
     "data": {
      "application/vnd.jupyter.widget-view+json": {
       "model_id": "4460a55656064fa285a50091a8bdcb82",
       "version_major": 2,
       "version_minor": 0
      },
      "text/plain": [
       "Communities progress:   0%|          | 0/4 [00:00<?, ?it/s]"
      ]
     },
     "metadata": {},
     "output_type": "display_data"
    },
    {
     "data": {
      "application/vnd.jupyter.widget-view+json": {
       "model_id": "53cbd8173d994a0080e0266af47a4d54",
       "version_major": 2,
       "version_minor": 0
      },
      "text/plain": [
       "Communities progress:   0%|          | 0/3 [00:00<?, ?it/s]"
      ]
     },
     "metadata": {},
     "output_type": "display_data"
    },
    {
     "data": {
      "application/vnd.jupyter.widget-view+json": {
       "model_id": "621b14feee5f4683984cd0c7b81fbc68",
       "version_major": 2,
       "version_minor": 0
      },
      "text/plain": [
       "Algorithm Progress:   0%|          | 0/4 [00:00<?, ?it/s]"
      ]
     },
     "metadata": {},
     "output_type": "display_data"
    },
    {
     "data": {
      "application/vnd.jupyter.widget-view+json": {
       "model_id": "8ab9aa06d162475c816d61fd9407220b",
       "version_major": 2,
       "version_minor": 0
      },
      "text/plain": [
       "Communities progress:   0%|          | 0/2 [00:00<?, ?it/s]"
      ]
     },
     "metadata": {},
     "output_type": "display_data"
    },
    {
     "data": {
      "application/vnd.jupyter.widget-view+json": {
       "model_id": "3cbfb30bbf6e4786b7e482964a8e80d2",
       "version_major": 2,
       "version_minor": 0
      },
      "text/plain": [
       "Communities progress:   0%|          | 0/2 [00:00<?, ?it/s]"
      ]
     },
     "metadata": {},
     "output_type": "display_data"
    },
    {
     "data": {
      "application/vnd.jupyter.widget-view+json": {
       "model_id": "1f18dc4c8aea48bc889f9b2b4ec88d44",
       "version_major": 2,
       "version_minor": 0
      },
      "text/plain": [
       "Communities progress:   0%|          | 0/2 [00:00<?, ?it/s]"
      ]
     },
     "metadata": {},
     "output_type": "display_data"
    },
    {
     "data": {
      "application/vnd.jupyter.widget-view+json": {
       "model_id": "184ce98544224c3da934ab06b5a700a8",
       "version_major": 2,
       "version_minor": 0
      },
      "text/plain": [
       "Communities progress:   0%|          | 0/2 [00:00<?, ?it/s]"
      ]
     },
     "metadata": {},
     "output_type": "display_data"
    },
    {
     "data": {
      "application/vnd.jupyter.widget-view+json": {
       "model_id": "313284672c56422f8edeb1f8262eafab",
       "version_major": 2,
       "version_minor": 0
      },
      "text/plain": [
       "Algorithm Progress:   0%|          | 0/4 [00:00<?, ?it/s]"
      ]
     },
     "metadata": {},
     "output_type": "display_data"
    },
    {
     "data": {
      "application/vnd.jupyter.widget-view+json": {
       "model_id": "cf2005f56d454cefb54aa00f1007b973",
       "version_major": 2,
       "version_minor": 0
      },
      "text/plain": [
       "Communities progress:   0%|          | 0/77 [00:00<?, ?it/s]"
      ]
     },
     "metadata": {},
     "output_type": "display_data"
    },
    {
     "data": {
      "application/vnd.jupyter.widget-view+json": {
       "model_id": "3fc3630ada664b958dbaeafe6ca235ad",
       "version_major": 2,
       "version_minor": 0
      },
      "text/plain": [
       "Communities progress:   0%|          | 0/74 [00:00<?, ?it/s]"
      ]
     },
     "metadata": {},
     "output_type": "display_data"
    },
    {
     "data": {
      "application/vnd.jupyter.widget-view+json": {
       "model_id": "55e30c95a55443b09e7fb6257ea30d5e",
       "version_major": 2,
       "version_minor": 0
      },
      "text/plain": [
       "Communities progress:   0%|          | 0/73 [00:00<?, ?it/s]"
      ]
     },
     "metadata": {},
     "output_type": "display_data"
    },
    {
     "data": {
      "application/vnd.jupyter.widget-view+json": {
       "model_id": "3c69c3f99d5b4ddc9f0023e84b51aa9d",
       "version_major": 2,
       "version_minor": 0
      },
      "text/plain": [
       "Communities progress:   0%|          | 0/83 [00:00<?, ?it/s]"
      ]
     },
     "metadata": {},
     "output_type": "display_data"
    },
    {
     "data": {
      "application/vnd.jupyter.widget-view+json": {
       "model_id": "72754f19962b436cae36c2b269452182",
       "version_major": 2,
       "version_minor": 0
      },
      "text/plain": [
       "Community Detector Progress:   0%|          | 0/4 [00:00<?, ?it/s]"
      ]
     },
     "metadata": {},
     "output_type": "display_data"
    },
    {
     "data": {
      "application/vnd.jupyter.widget-view+json": {
       "model_id": "e513152e32bc4dfdb5d626e2a941ff53",
       "version_major": 2,
       "version_minor": 0
      },
      "text/plain": [
       "Algorithm Progress:   0%|          | 0/4 [00:00<?, ?it/s]"
      ]
     },
     "metadata": {},
     "output_type": "display_data"
    },
    {
     "data": {
      "application/vnd.jupyter.widget-view+json": {
       "model_id": "9a97665ca4dd4571ae6b6043ad3a1e60",
       "version_major": 2,
       "version_minor": 0
      },
      "text/plain": [
       "Algorithm Progress:   0%|          | 0/4 [00:00<?, ?it/s]"
      ]
     },
     "metadata": {},
     "output_type": "display_data"
    },
    {
     "data": {
      "application/vnd.jupyter.widget-view+json": {
       "model_id": "eb335c6782664ade97765883737070dd",
       "version_major": 2,
       "version_minor": 0
      },
      "text/plain": [
       "Communities progress:   0%|          | 0/3 [00:00<?, ?it/s]"
      ]
     },
     "metadata": {},
     "output_type": "display_data"
    },
    {
     "data": {
      "application/vnd.jupyter.widget-view+json": {
       "model_id": "cd2173aa4e0348c188dd562e76e4ff8e",
       "version_major": 2,
       "version_minor": 0
      },
      "text/plain": [
       "Communities progress:   0%|          | 0/3 [00:00<?, ?it/s]"
      ]
     },
     "metadata": {},
     "output_type": "display_data"
    },
    {
     "data": {
      "application/vnd.jupyter.widget-view+json": {
       "model_id": "50f18bada5f34618b3ff16fc0b67500e",
       "version_major": 2,
       "version_minor": 0
      },
      "text/plain": [
       "Communities progress:   0%|          | 0/3 [00:00<?, ?it/s]"
      ]
     },
     "metadata": {},
     "output_type": "display_data"
    },
    {
     "data": {
      "application/vnd.jupyter.widget-view+json": {
       "model_id": "bb0b9ee08c6743958af4552d1b241361",
       "version_major": 2,
       "version_minor": 0
      },
      "text/plain": [
       "Communities progress:   0%|          | 0/3 [00:00<?, ?it/s]"
      ]
     },
     "metadata": {},
     "output_type": "display_data"
    },
    {
     "data": {
      "application/vnd.jupyter.widget-view+json": {
       "model_id": "851444ba3e924d8f800403bd9c1a0b73",
       "version_major": 2,
       "version_minor": 0
      },
      "text/plain": [
       "Algorithm Progress:   0%|          | 0/4 [00:00<?, ?it/s]"
      ]
     },
     "metadata": {},
     "output_type": "display_data"
    },
    {
     "data": {
      "application/vnd.jupyter.widget-view+json": {
       "model_id": "2b2b4bac33764a028457807e6f153d04",
       "version_major": 2,
       "version_minor": 0
      },
      "text/plain": [
       "Communities progress:   0%|          | 0/84 [00:00<?, ?it/s]"
      ]
     },
     "metadata": {},
     "output_type": "display_data"
    },
    {
     "data": {
      "application/vnd.jupyter.widget-view+json": {
       "model_id": "3ae22cd3ce344b389ed5b7bb16418544",
       "version_major": 2,
       "version_minor": 0
      },
      "text/plain": [
       "Communities progress:   0%|          | 0/84 [00:00<?, ?it/s]"
      ]
     },
     "metadata": {},
     "output_type": "display_data"
    },
    {
     "data": {
      "application/vnd.jupyter.widget-view+json": {
       "model_id": "79f9e9a4f3e34aa59564bf480cae9d1a",
       "version_major": 2,
       "version_minor": 0
      },
      "text/plain": [
       "Communities progress:   0%|          | 0/84 [00:00<?, ?it/s]"
      ]
     },
     "metadata": {},
     "output_type": "display_data"
    },
    {
     "data": {
      "application/vnd.jupyter.widget-view+json": {
       "model_id": "2a10df2aaaf5413aaafe68212e104b50",
       "version_major": 2,
       "version_minor": 0
      },
      "text/plain": [
       "Communities progress:   0%|          | 0/84 [00:00<?, ?it/s]"
      ]
     },
     "metadata": {},
     "output_type": "display_data"
    },
    {
     "data": {
      "application/vnd.jupyter.widget-view+json": {
       "model_id": "85151c2cb7a64d17b08ead7d99880581",
       "version_major": 2,
       "version_minor": 0
      },
      "text/plain": [
       "Algorithm Progress:   0%|          | 0/4 [00:00<?, ?it/s]"
      ]
     },
     "metadata": {},
     "output_type": "display_data"
    },
    {
     "data": {
      "application/vnd.jupyter.widget-view+json": {
       "model_id": "b7ae5733f65a4b96856f6771933ef1f5",
       "version_major": 2,
       "version_minor": 0
      },
      "text/plain": [
       "Communities progress:   0%|          | 0/532 [00:00<?, ?it/s]"
      ]
     },
     "metadata": {},
     "output_type": "display_data"
    },
    {
     "data": {
      "application/vnd.jupyter.widget-view+json": {
       "model_id": "61b3e411acf04a169fc5b6c25b60d79b",
       "version_major": 2,
       "version_minor": 0
      },
      "text/plain": [
       "Communities progress:   0%|          | 0/546 [00:00<?, ?it/s]"
      ]
     },
     "metadata": {},
     "output_type": "display_data"
    },
    {
     "data": {
      "application/vnd.jupyter.widget-view+json": {
       "model_id": "d2dd5b2115d84d2b994a5bb43033aca1",
       "version_major": 2,
       "version_minor": 0
      },
      "text/plain": [
       "Communities progress:   0%|          | 0/534 [00:00<?, ?it/s]"
      ]
     },
     "metadata": {},
     "output_type": "display_data"
    },
    {
     "data": {
      "application/vnd.jupyter.widget-view+json": {
       "model_id": "f02fc5977d3a4585805de86cd22b0de4",
       "version_major": 2,
       "version_minor": 0
      },
      "text/plain": [
       "Communities progress:   0%|          | 0/529 [00:00<?, ?it/s]"
      ]
     },
     "metadata": {},
     "output_type": "display_data"
    },
    {
     "data": {
      "application/vnd.jupyter.widget-view+json": {
       "model_id": "8f489a2490c64aec9b331ff84e3b86e5",
       "version_major": 2,
       "version_minor": 0
      },
      "text/plain": [
       "Community Detector Progress:   0%|          | 0/4 [00:00<?, ?it/s]"
      ]
     },
     "metadata": {},
     "output_type": "display_data"
    },
    {
     "data": {
      "application/vnd.jupyter.widget-view+json": {
       "model_id": "5d446819c4b0495e82d9222327c5129c",
       "version_major": 2,
       "version_minor": 0
      },
      "text/plain": [
       "Algorithm Progress:   0%|          | 0/4 [00:00<?, ?it/s]"
      ]
     },
     "metadata": {},
     "output_type": "display_data"
    },
    {
     "data": {
      "application/vnd.jupyter.widget-view+json": {
       "model_id": "3e5977d86bba4ef0829e6ebe1f824829",
       "version_major": 2,
       "version_minor": 0
      },
      "text/plain": [
       "Algorithm Progress:   0%|          | 0/4 [00:00<?, ?it/s]"
      ]
     },
     "metadata": {},
     "output_type": "display_data"
    },
    {
     "data": {
      "application/vnd.jupyter.widget-view+json": {
       "model_id": "89d20b79867740edbc6fc36745a2a064",
       "version_major": 2,
       "version_minor": 0
      },
      "text/plain": [
       "Communities progress:   0%|          | 0/5 [00:00<?, ?it/s]"
      ]
     },
     "metadata": {},
     "output_type": "display_data"
    },
    {
     "data": {
      "application/vnd.jupyter.widget-view+json": {
       "model_id": "8eed38715a2f4b93a9cdcd7de189121f",
       "version_major": 2,
       "version_minor": 0
      },
      "text/plain": [
       "Communities progress:   0%|          | 0/4 [00:00<?, ?it/s]"
      ]
     },
     "metadata": {},
     "output_type": "display_data"
    },
    {
     "data": {
      "application/vnd.jupyter.widget-view+json": {
       "model_id": "414a0011371b4b1c8836d4f475e6d53c",
       "version_major": 2,
       "version_minor": 0
      },
      "text/plain": [
       "Communities progress:   0%|          | 0/3 [00:00<?, ?it/s]"
      ]
     },
     "metadata": {},
     "output_type": "display_data"
    },
    {
     "data": {
      "application/vnd.jupyter.widget-view+json": {
       "model_id": "a687ea619da64c0bb4a0cc5c6062ca80",
       "version_major": 2,
       "version_minor": 0
      },
      "text/plain": [
       "Communities progress:   0%|          | 0/4 [00:00<?, ?it/s]"
      ]
     },
     "metadata": {},
     "output_type": "display_data"
    },
    {
     "data": {
      "application/vnd.jupyter.widget-view+json": {
       "model_id": "3614721bd67c41bb82c7a087305f5e30",
       "version_major": 2,
       "version_minor": 0
      },
      "text/plain": [
       "Algorithm Progress:   0%|          | 0/4 [00:00<?, ?it/s]"
      ]
     },
     "metadata": {},
     "output_type": "display_data"
    },
    {
     "data": {
      "application/vnd.jupyter.widget-view+json": {
       "model_id": "7085685bb7f14eefb0462413af354838",
       "version_major": 2,
       "version_minor": 0
      },
      "text/plain": [
       "Communities progress:   0%|          | 0/2 [00:00<?, ?it/s]"
      ]
     },
     "metadata": {},
     "output_type": "display_data"
    },
    {
     "data": {
      "application/vnd.jupyter.widget-view+json": {
       "model_id": "c4d6efd95a1949e38282751eeba3778b",
       "version_major": 2,
       "version_minor": 0
      },
      "text/plain": [
       "Communities progress:   0%|          | 0/2 [00:00<?, ?it/s]"
      ]
     },
     "metadata": {},
     "output_type": "display_data"
    },
    {
     "data": {
      "application/vnd.jupyter.widget-view+json": {
       "model_id": "496e987a9ff446bb9a8d7d5feb2b4cf1",
       "version_major": 2,
       "version_minor": 0
      },
      "text/plain": [
       "Communities progress:   0%|          | 0/2 [00:00<?, ?it/s]"
      ]
     },
     "metadata": {},
     "output_type": "display_data"
    },
    {
     "data": {
      "application/vnd.jupyter.widget-view+json": {
       "model_id": "26b6a0d77e62439aa497ef1d126284f9",
       "version_major": 2,
       "version_minor": 0
      },
      "text/plain": [
       "Communities progress:   0%|          | 0/2 [00:00<?, ?it/s]"
      ]
     },
     "metadata": {},
     "output_type": "display_data"
    },
    {
     "data": {
      "application/vnd.jupyter.widget-view+json": {
       "model_id": "593f7afdeffb4370961401504d689df8",
       "version_major": 2,
       "version_minor": 0
      },
      "text/plain": [
       "Algorithm Progress:   0%|          | 0/4 [00:00<?, ?it/s]"
      ]
     },
     "metadata": {},
     "output_type": "display_data"
    },
    {
     "data": {
      "application/vnd.jupyter.widget-view+json": {
       "model_id": "f265bc6c8f554d3bb4bb474f7a81343c",
       "version_major": 2,
       "version_minor": 0
      },
      "text/plain": [
       "Communities progress:   0%|          | 0/503 [00:00<?, ?it/s]"
      ]
     },
     "metadata": {},
     "output_type": "display_data"
    },
    {
     "data": {
      "application/vnd.jupyter.widget-view+json": {
       "model_id": "11d1dee449b6477bb412c699ccc9cf4a",
       "version_major": 2,
       "version_minor": 0
      },
      "text/plain": [
       "Communities progress:   0%|          | 0/517 [00:00<?, ?it/s]"
      ]
     },
     "metadata": {},
     "output_type": "display_data"
    },
    {
     "data": {
      "application/vnd.jupyter.widget-view+json": {
       "model_id": "51b0ba59435f4297a48a33d1dbf2bcfd",
       "version_major": 2,
       "version_minor": 0
      },
      "text/plain": [
       "Communities progress:   0%|          | 0/479 [00:00<?, ?it/s]"
      ]
     },
     "metadata": {},
     "output_type": "display_data"
    },
    {
     "data": {
      "application/vnd.jupyter.widget-view+json": {
       "model_id": "c88d42caee2e4883a89e638814ffeae2",
       "version_major": 2,
       "version_minor": 0
      },
      "text/plain": [
       "Communities progress:   0%|          | 0/500 [00:00<?, ?it/s]"
      ]
     },
     "metadata": {},
     "output_type": "display_data"
    },
    {
     "data": {
      "application/vnd.jupyter.widget-view+json": {
       "model_id": "24f28141fa8945bc9e4b2ab69320e119",
       "version_major": 2,
       "version_minor": 0
      },
      "text/plain": [
       "Similarity Metric Progress:   0%|          | 0/4 [00:00<?, ?it/s]"
      ]
     },
     "metadata": {},
     "output_type": "display_data"
    },
    {
     "data": {
      "application/vnd.jupyter.widget-view+json": {
       "model_id": "0d6058078531495db12c02aa0df8c474",
       "version_major": 2,
       "version_minor": 0
      },
      "text/plain": [
       "Community Detector Progress:   0%|          | 0/4 [00:00<?, ?it/s]"
      ]
     },
     "metadata": {},
     "output_type": "display_data"
    },
    {
     "data": {
      "application/vnd.jupyter.widget-view+json": {
       "model_id": "a30e92b7b4df460697e3e3be3909e9e8",
       "version_major": 2,
       "version_minor": 0
      },
      "text/plain": [
       "Algorithm Progress:   0%|          | 0/4 [00:00<?, ?it/s]"
      ]
     },
     "metadata": {},
     "output_type": "display_data"
    },
    {
     "data": {
      "application/vnd.jupyter.widget-view+json": {
       "model_id": "80d1813f014a4a28be4b9a7c3ff6fe75",
       "version_major": 2,
       "version_minor": 0
      },
      "text/plain": [
       "Algorithm Progress:   0%|          | 0/4 [00:00<?, ?it/s]"
      ]
     },
     "metadata": {},
     "output_type": "display_data"
    },
    {
     "data": {
      "application/vnd.jupyter.widget-view+json": {
       "model_id": "c449295474204a89a96f7158b3e739f8",
       "version_major": 2,
       "version_minor": 0
      },
      "text/plain": [
       "Communities progress:   0%|          | 0/3 [00:00<?, ?it/s]"
      ]
     },
     "metadata": {},
     "output_type": "display_data"
    },
    {
     "data": {
      "application/vnd.jupyter.widget-view+json": {
       "model_id": "c06116460ab54d7386307d76e4d4ad45",
       "version_major": 2,
       "version_minor": 0
      },
      "text/plain": [
       "Communities progress:   0%|          | 0/3 [00:00<?, ?it/s]"
      ]
     },
     "metadata": {},
     "output_type": "display_data"
    },
    {
     "data": {
      "application/vnd.jupyter.widget-view+json": {
       "model_id": "7e574b81fe054138b04535e4974698f4",
       "version_major": 2,
       "version_minor": 0
      },
      "text/plain": [
       "Communities progress:   0%|          | 0/3 [00:00<?, ?it/s]"
      ]
     },
     "metadata": {},
     "output_type": "display_data"
    },
    {
     "data": {
      "application/vnd.jupyter.widget-view+json": {
       "model_id": "ebf2a7fed0a84258b9ae3ab005011318",
       "version_major": 2,
       "version_minor": 0
      },
      "text/plain": [
       "Communities progress:   0%|          | 0/3 [00:00<?, ?it/s]"
      ]
     },
     "metadata": {},
     "output_type": "display_data"
    },
    {
     "data": {
      "application/vnd.jupyter.widget-view+json": {
       "model_id": "f7996c10804d4e5d96fe7caed05a0261",
       "version_major": 2,
       "version_minor": 0
      },
      "text/plain": [
       "Algorithm Progress:   0%|          | 0/4 [00:00<?, ?it/s]"
      ]
     },
     "metadata": {},
     "output_type": "display_data"
    },
    {
     "data": {
      "application/vnd.jupyter.widget-view+json": {
       "model_id": "6819f944463e4c6e8f36c726c1bea613",
       "version_major": 2,
       "version_minor": 0
      },
      "text/plain": [
       "Communities progress:   0%|          | 0/2 [00:00<?, ?it/s]"
      ]
     },
     "metadata": {},
     "output_type": "display_data"
    },
    {
     "data": {
      "application/vnd.jupyter.widget-view+json": {
       "model_id": "e02b4e498cf043acb060c191d321815f",
       "version_major": 2,
       "version_minor": 0
      },
      "text/plain": [
       "Communities progress:   0%|          | 0/2 [00:00<?, ?it/s]"
      ]
     },
     "metadata": {},
     "output_type": "display_data"
    },
    {
     "data": {
      "application/vnd.jupyter.widget-view+json": {
       "model_id": "50f000fb8d644e29982153b4facf4cc6",
       "version_major": 2,
       "version_minor": 0
      },
      "text/plain": [
       "Communities progress:   0%|          | 0/2 [00:00<?, ?it/s]"
      ]
     },
     "metadata": {},
     "output_type": "display_data"
    },
    {
     "data": {
      "application/vnd.jupyter.widget-view+json": {
       "model_id": "66b25b23f25948998a938b55fb4cc601",
       "version_major": 2,
       "version_minor": 0
      },
      "text/plain": [
       "Communities progress:   0%|          | 0/2 [00:00<?, ?it/s]"
      ]
     },
     "metadata": {},
     "output_type": "display_data"
    },
    {
     "data": {
      "application/vnd.jupyter.widget-view+json": {
       "model_id": "a8e5179fc95d4a3f86553620619c3b4e",
       "version_major": 2,
       "version_minor": 0
      },
      "text/plain": [
       "Algorithm Progress:   0%|          | 0/4 [00:00<?, ?it/s]"
      ]
     },
     "metadata": {},
     "output_type": "display_data"
    },
    {
     "data": {
      "application/vnd.jupyter.widget-view+json": {
       "model_id": "a7c93199b9924df1a9b16e8ca881a031",
       "version_major": 2,
       "version_minor": 0
      },
      "text/plain": [
       "Communities progress:   0%|          | 0/485 [00:00<?, ?it/s]"
      ]
     },
     "metadata": {},
     "output_type": "display_data"
    },
    {
     "data": {
      "application/vnd.jupyter.widget-view+json": {
       "model_id": "4d6b5b89cfc840f892471cb7e64657a4",
       "version_major": 2,
       "version_minor": 0
      },
      "text/plain": [
       "Communities progress:   0%|          | 0/506 [00:00<?, ?it/s]"
      ]
     },
     "metadata": {},
     "output_type": "display_data"
    },
    {
     "data": {
      "application/vnd.jupyter.widget-view+json": {
       "model_id": "2d93ab15ec8d468883d69dddae449a0c",
       "version_major": 2,
       "version_minor": 0
      },
      "text/plain": [
       "Communities progress:   0%|          | 0/494 [00:00<?, ?it/s]"
      ]
     },
     "metadata": {},
     "output_type": "display_data"
    },
    {
     "data": {
      "application/vnd.jupyter.widget-view+json": {
       "model_id": "461561bafe5d4769b36926b62c22a3e9",
       "version_major": 2,
       "version_minor": 0
      },
      "text/plain": [
       "Communities progress:   0%|          | 0/503 [00:00<?, ?it/s]"
      ]
     },
     "metadata": {},
     "output_type": "display_data"
    },
    {
     "data": {
      "application/vnd.jupyter.widget-view+json": {
       "model_id": "5ac54697a8bf43f29e5dd16ec2343d4c",
       "version_major": 2,
       "version_minor": 0
      },
      "text/plain": [
       "Community Detector Progress:   0%|          | 0/4 [00:00<?, ?it/s]"
      ]
     },
     "metadata": {},
     "output_type": "display_data"
    },
    {
     "data": {
      "application/vnd.jupyter.widget-view+json": {
       "model_id": "1bd75ff8d0df45f1b4e70e3473d08e54",
       "version_major": 2,
       "version_minor": 0
      },
      "text/plain": [
       "Algorithm Progress:   0%|          | 0/4 [00:00<?, ?it/s]"
      ]
     },
     "metadata": {},
     "output_type": "display_data"
    },
    {
     "data": {
      "application/vnd.jupyter.widget-view+json": {
       "model_id": "15abe5b21fb544e893339ccc81ea3a2b",
       "version_major": 2,
       "version_minor": 0
      },
      "text/plain": [
       "Algorithm Progress:   0%|          | 0/4 [00:00<?, ?it/s]"
      ]
     },
     "metadata": {},
     "output_type": "display_data"
    },
    {
     "data": {
      "application/vnd.jupyter.widget-view+json": {
       "model_id": "0e10e806e1d143f398924377271eaae0",
       "version_major": 2,
       "version_minor": 0
      },
      "text/plain": [
       "Communities progress:   0%|          | 0/3 [00:00<?, ?it/s]"
      ]
     },
     "metadata": {},
     "output_type": "display_data"
    },
    {
     "data": {
      "application/vnd.jupyter.widget-view+json": {
       "model_id": "a8259687f14241d09e1272847eef3591",
       "version_major": 2,
       "version_minor": 0
      },
      "text/plain": [
       "Communities progress:   0%|          | 0/3 [00:00<?, ?it/s]"
      ]
     },
     "metadata": {},
     "output_type": "display_data"
    },
    {
     "data": {
      "application/vnd.jupyter.widget-view+json": {
       "model_id": "88782d0e8a9f4aa4800c5c8f7f4554ee",
       "version_major": 2,
       "version_minor": 0
      },
      "text/plain": [
       "Communities progress:   0%|          | 0/3 [00:00<?, ?it/s]"
      ]
     },
     "metadata": {},
     "output_type": "display_data"
    },
    {
     "data": {
      "application/vnd.jupyter.widget-view+json": {
       "model_id": "d05b2a3a3b8e426e86a4fea02841e8d0",
       "version_major": 2,
       "version_minor": 0
      },
      "text/plain": [
       "Communities progress:   0%|          | 0/3 [00:00<?, ?it/s]"
      ]
     },
     "metadata": {},
     "output_type": "display_data"
    },
    {
     "data": {
      "application/vnd.jupyter.widget-view+json": {
       "model_id": "7ac43b1699414986a63e6e3504c05e0c",
       "version_major": 2,
       "version_minor": 0
      },
      "text/plain": [
       "Algorithm Progress:   0%|          | 0/4 [00:00<?, ?it/s]"
      ]
     },
     "metadata": {},
     "output_type": "display_data"
    },
    {
     "data": {
      "application/vnd.jupyter.widget-view+json": {
       "model_id": "19b09bb0b6bd48cdac1d9a2b696d7b86",
       "version_major": 2,
       "version_minor": 0
      },
      "text/plain": [
       "Communities progress:   0%|          | 0/2 [00:00<?, ?it/s]"
      ]
     },
     "metadata": {},
     "output_type": "display_data"
    },
    {
     "data": {
      "application/vnd.jupyter.widget-view+json": {
       "model_id": "3051adf4181747a0b27d5f992f0f4f6b",
       "version_major": 2,
       "version_minor": 0
      },
      "text/plain": [
       "Communities progress:   0%|          | 0/2 [00:00<?, ?it/s]"
      ]
     },
     "metadata": {},
     "output_type": "display_data"
    },
    {
     "data": {
      "application/vnd.jupyter.widget-view+json": {
       "model_id": "9b99f5b3d2de4672a7e469b183ed7f1c",
       "version_major": 2,
       "version_minor": 0
      },
      "text/plain": [
       "Communities progress:   0%|          | 0/2 [00:00<?, ?it/s]"
      ]
     },
     "metadata": {},
     "output_type": "display_data"
    },
    {
     "data": {
      "application/vnd.jupyter.widget-view+json": {
       "model_id": "86a9524887e1483a826425eccec3c1b4",
       "version_major": 2,
       "version_minor": 0
      },
      "text/plain": [
       "Communities progress:   0%|          | 0/2 [00:00<?, ?it/s]"
      ]
     },
     "metadata": {},
     "output_type": "display_data"
    },
    {
     "data": {
      "application/vnd.jupyter.widget-view+json": {
       "model_id": "ffd08bed69c14d5ca85d28dd3ce13880",
       "version_major": 2,
       "version_minor": 0
      },
      "text/plain": [
       "Algorithm Progress:   0%|          | 0/4 [00:00<?, ?it/s]"
      ]
     },
     "metadata": {},
     "output_type": "display_data"
    },
    {
     "data": {
      "application/vnd.jupyter.widget-view+json": {
       "model_id": "1d7e577d6e064ec88017f967de7c2415",
       "version_major": 2,
       "version_minor": 0
      },
      "text/plain": [
       "Communities progress:   0%|          | 0/83 [00:00<?, ?it/s]"
      ]
     },
     "metadata": {},
     "output_type": "display_data"
    },
    {
     "data": {
      "application/vnd.jupyter.widget-view+json": {
       "model_id": "fbda0e7cedf14e7ba4474770e8a74d91",
       "version_major": 2,
       "version_minor": 0
      },
      "text/plain": [
       "Communities progress:   0%|          | 0/73 [00:00<?, ?it/s]"
      ]
     },
     "metadata": {},
     "output_type": "display_data"
    },
    {
     "data": {
      "application/vnd.jupyter.widget-view+json": {
       "model_id": "f5a7603c068c4ca4af16bb10879e28d4",
       "version_major": 2,
       "version_minor": 0
      },
      "text/plain": [
       "Communities progress:   0%|          | 0/87 [00:00<?, ?it/s]"
      ]
     },
     "metadata": {},
     "output_type": "display_data"
    },
    {
     "data": {
      "application/vnd.jupyter.widget-view+json": {
       "model_id": "7b644e3a3aed4ff4969a78b4a31a569e",
       "version_major": 2,
       "version_minor": 0
      },
      "text/plain": [
       "Communities progress:   0%|          | 0/75 [00:00<?, ?it/s]"
      ]
     },
     "metadata": {},
     "output_type": "display_data"
    },
    {
     "data": {
      "application/vnd.jupyter.widget-view+json": {
       "model_id": "05e40d51cf0e488fac884565df540a54",
       "version_major": 2,
       "version_minor": 0
      },
      "text/plain": [
       "Community Detector Progress:   0%|          | 0/4 [00:00<?, ?it/s]"
      ]
     },
     "metadata": {},
     "output_type": "display_data"
    },
    {
     "data": {
      "application/vnd.jupyter.widget-view+json": {
       "model_id": "d491c53113774b3598a5d30cf6942184",
       "version_major": 2,
       "version_minor": 0
      },
      "text/plain": [
       "Algorithm Progress:   0%|          | 0/4 [00:00<?, ?it/s]"
      ]
     },
     "metadata": {},
     "output_type": "display_data"
    },
    {
     "data": {
      "application/vnd.jupyter.widget-view+json": {
       "model_id": "19e2fd46c4ce41a7a2a8c82b873df15a",
       "version_major": 2,
       "version_minor": 0
      },
      "text/plain": [
       "Algorithm Progress:   0%|          | 0/4 [00:00<?, ?it/s]"
      ]
     },
     "metadata": {},
     "output_type": "display_data"
    },
    {
     "data": {
      "application/vnd.jupyter.widget-view+json": {
       "model_id": "31e4255b5a8e45f89e26de54ce257fd2",
       "version_major": 2,
       "version_minor": 0
      },
      "text/plain": [
       "Communities progress:   0%|          | 0/4 [00:00<?, ?it/s]"
      ]
     },
     "metadata": {},
     "output_type": "display_data"
    },
    {
     "data": {
      "application/vnd.jupyter.widget-view+json": {
       "model_id": "aeededc2ff50468e8a3b9b39c126f2d2",
       "version_major": 2,
       "version_minor": 0
      },
      "text/plain": [
       "Communities progress:   0%|          | 0/4 [00:00<?, ?it/s]"
      ]
     },
     "metadata": {},
     "output_type": "display_data"
    },
    {
     "data": {
      "application/vnd.jupyter.widget-view+json": {
       "model_id": "618c8d18f4a9400db98c448f09a47e25",
       "version_major": 2,
       "version_minor": 0
      },
      "text/plain": [
       "Communities progress:   0%|          | 0/4 [00:00<?, ?it/s]"
      ]
     },
     "metadata": {},
     "output_type": "display_data"
    },
    {
     "data": {
      "application/vnd.jupyter.widget-view+json": {
       "model_id": "215ca067d76f478bb8518c68db53751b",
       "version_major": 2,
       "version_minor": 0
      },
      "text/plain": [
       "Communities progress:   0%|          | 0/4 [00:00<?, ?it/s]"
      ]
     },
     "metadata": {},
     "output_type": "display_data"
    },
    {
     "data": {
      "application/vnd.jupyter.widget-view+json": {
       "model_id": "ee5c6f82ddaa4ffdaa51912aa25798bb",
       "version_major": 2,
       "version_minor": 0
      },
      "text/plain": [
       "Algorithm Progress:   0%|          | 0/4 [00:00<?, ?it/s]"
      ]
     },
     "metadata": {},
     "output_type": "display_data"
    },
    {
     "data": {
      "application/vnd.jupyter.widget-view+json": {
       "model_id": "687a2a1ed43149e190fe10f2c46410cd",
       "version_major": 2,
       "version_minor": 0
      },
      "text/plain": [
       "Communities progress:   0%|          | 0/91 [00:00<?, ?it/s]"
      ]
     },
     "metadata": {},
     "output_type": "display_data"
    },
    {
     "data": {
      "application/vnd.jupyter.widget-view+json": {
       "model_id": "1e0f4ff23a2b4f739a1d6d8ac0816b81",
       "version_major": 2,
       "version_minor": 0
      },
      "text/plain": [
       "Communities progress:   0%|          | 0/91 [00:00<?, ?it/s]"
      ]
     },
     "metadata": {},
     "output_type": "display_data"
    },
    {
     "data": {
      "application/vnd.jupyter.widget-view+json": {
       "model_id": "3ebee7186ea8402ea4066a241b18f4e7",
       "version_major": 2,
       "version_minor": 0
      },
      "text/plain": [
       "Communities progress:   0%|          | 0/91 [00:00<?, ?it/s]"
      ]
     },
     "metadata": {},
     "output_type": "display_data"
    },
    {
     "data": {
      "application/vnd.jupyter.widget-view+json": {
       "model_id": "34f2f4b68f3d4d849c9aba3868590d27",
       "version_major": 2,
       "version_minor": 0
      },
      "text/plain": [
       "Communities progress:   0%|          | 0/91 [00:00<?, ?it/s]"
      ]
     },
     "metadata": {},
     "output_type": "display_data"
    },
    {
     "data": {
      "application/vnd.jupyter.widget-view+json": {
       "model_id": "975e454d4fc24e91bed486408a11a897",
       "version_major": 2,
       "version_minor": 0
      },
      "text/plain": [
       "Algorithm Progress:   0%|          | 0/4 [00:00<?, ?it/s]"
      ]
     },
     "metadata": {},
     "output_type": "display_data"
    },
    {
     "data": {
      "application/vnd.jupyter.widget-view+json": {
       "model_id": "96e42825c9b347848602e7eadd45dde7",
       "version_major": 2,
       "version_minor": 0
      },
      "text/plain": [
       "Communities progress:   0%|          | 0/556 [00:00<?, ?it/s]"
      ]
     },
     "metadata": {},
     "output_type": "display_data"
    },
    {
     "data": {
      "application/vnd.jupyter.widget-view+json": {
       "model_id": "43bf67e505724368bb2c40cb9f2e8073",
       "version_major": 2,
       "version_minor": 0
      },
      "text/plain": [
       "Communities progress:   0%|          | 0/550 [00:00<?, ?it/s]"
      ]
     },
     "metadata": {},
     "output_type": "display_data"
    },
    {
     "data": {
      "application/vnd.jupyter.widget-view+json": {
       "model_id": "106df89a7bc84f4abe39e9f057dac9e4",
       "version_major": 2,
       "version_minor": 0
      },
      "text/plain": [
       "Communities progress:   0%|          | 0/546 [00:00<?, ?it/s]"
      ]
     },
     "metadata": {},
     "output_type": "display_data"
    },
    {
     "data": {
      "application/vnd.jupyter.widget-view+json": {
       "model_id": "62a33e9b1d61453aac2d1490bda9d4c4",
       "version_major": 2,
       "version_minor": 0
      },
      "text/plain": [
       "Communities progress:   0%|          | 0/536 [00:00<?, ?it/s]"
      ]
     },
     "metadata": {},
     "output_type": "display_data"
    },
    {
     "data": {
      "application/vnd.jupyter.widget-view+json": {
       "model_id": "77fd661b26eb4fa7add88f07dc5918c4",
       "version_major": 2,
       "version_minor": 0
      },
      "text/plain": [
       "Community Detector Progress:   0%|          | 0/4 [00:00<?, ?it/s]"
      ]
     },
     "metadata": {},
     "output_type": "display_data"
    },
    {
     "data": {
      "application/vnd.jupyter.widget-view+json": {
       "model_id": "92446b5ce4404eda9c2e26a5de4ec337",
       "version_major": 2,
       "version_minor": 0
      },
      "text/plain": [
       "Algorithm Progress:   0%|          | 0/4 [00:00<?, ?it/s]"
      ]
     },
     "metadata": {},
     "output_type": "display_data"
    },
    {
     "data": {
      "application/vnd.jupyter.widget-view+json": {
       "model_id": "33aafd2c57564d1fb0ab70ba06f053f8",
       "version_major": 2,
       "version_minor": 0
      },
      "text/plain": [
       "Algorithm Progress:   0%|          | 0/4 [00:00<?, ?it/s]"
      ]
     },
     "metadata": {},
     "output_type": "display_data"
    },
    {
     "data": {
      "application/vnd.jupyter.widget-view+json": {
       "model_id": "5e14dfe690cb4351ba55e87b1f45dd48",
       "version_major": 2,
       "version_minor": 0
      },
      "text/plain": [
       "Communities progress:   0%|          | 0/3 [00:00<?, ?it/s]"
      ]
     },
     "metadata": {},
     "output_type": "display_data"
    },
    {
     "data": {
      "application/vnd.jupyter.widget-view+json": {
       "model_id": "a309ba970cdb4ad492db26609ad13e72",
       "version_major": 2,
       "version_minor": 0
      },
      "text/plain": [
       "Communities progress:   0%|          | 0/3 [00:00<?, ?it/s]"
      ]
     },
     "metadata": {},
     "output_type": "display_data"
    },
    {
     "data": {
      "application/vnd.jupyter.widget-view+json": {
       "model_id": "32222b58acfa4a3e8b1ddac533abe40e",
       "version_major": 2,
       "version_minor": 0
      },
      "text/plain": [
       "Communities progress:   0%|          | 0/3 [00:00<?, ?it/s]"
      ]
     },
     "metadata": {},
     "output_type": "display_data"
    },
    {
     "data": {
      "application/vnd.jupyter.widget-view+json": {
       "model_id": "c363180f08d84929be5afa8807ead07f",
       "version_major": 2,
       "version_minor": 0
      },
      "text/plain": [
       "Communities progress:   0%|          | 0/3 [00:00<?, ?it/s]"
      ]
     },
     "metadata": {},
     "output_type": "display_data"
    },
    {
     "data": {
      "application/vnd.jupyter.widget-view+json": {
       "model_id": "b5844b91d3b540d6bc8e1bcd890ec71f",
       "version_major": 2,
       "version_minor": 0
      },
      "text/plain": [
       "Algorithm Progress:   0%|          | 0/4 [00:00<?, ?it/s]"
      ]
     },
     "metadata": {},
     "output_type": "display_data"
    },
    {
     "data": {
      "application/vnd.jupyter.widget-view+json": {
       "model_id": "a3af496eae764917b8c0951b6c3a2c4e",
       "version_major": 2,
       "version_minor": 0
      },
      "text/plain": [
       "Communities progress:   0%|          | 0/2 [00:00<?, ?it/s]"
      ]
     },
     "metadata": {},
     "output_type": "display_data"
    },
    {
     "data": {
      "application/vnd.jupyter.widget-view+json": {
       "model_id": "43237f59ddf64060ac18ac528de4f4ea",
       "version_major": 2,
       "version_minor": 0
      },
      "text/plain": [
       "Communities progress:   0%|          | 0/2 [00:00<?, ?it/s]"
      ]
     },
     "metadata": {},
     "output_type": "display_data"
    },
    {
     "data": {
      "application/vnd.jupyter.widget-view+json": {
       "model_id": "17cddd56802244d6a1ac9d53772341e7",
       "version_major": 2,
       "version_minor": 0
      },
      "text/plain": [
       "Communities progress:   0%|          | 0/2 [00:00<?, ?it/s]"
      ]
     },
     "metadata": {},
     "output_type": "display_data"
    },
    {
     "data": {
      "application/vnd.jupyter.widget-view+json": {
       "model_id": "6e2e74f3dfb747a1957c6c80f5e85279",
       "version_major": 2,
       "version_minor": 0
      },
      "text/plain": [
       "Communities progress:   0%|          | 0/2 [00:00<?, ?it/s]"
      ]
     },
     "metadata": {},
     "output_type": "display_data"
    },
    {
     "data": {
      "application/vnd.jupyter.widget-view+json": {
       "model_id": "41e217e1fa11408ea4ebb202f3a21b99",
       "version_major": 2,
       "version_minor": 0
      },
      "text/plain": [
       "Algorithm Progress:   0%|          | 0/4 [00:00<?, ?it/s]"
      ]
     },
     "metadata": {},
     "output_type": "display_data"
    },
    {
     "data": {
      "application/vnd.jupyter.widget-view+json": {
       "model_id": "9da8efcc493d454e95539ba84665dd58",
       "version_major": 2,
       "version_minor": 0
      },
      "text/plain": [
       "Communities progress:   0%|          | 0/495 [00:00<?, ?it/s]"
      ]
     },
     "metadata": {},
     "output_type": "display_data"
    },
    {
     "data": {
      "application/vnd.jupyter.widget-view+json": {
       "model_id": "10f86e30e5cb4c218ef2e6cbfd36c70a",
       "version_major": 2,
       "version_minor": 0
      },
      "text/plain": [
       "Communities progress:   0%|          | 0/487 [00:00<?, ?it/s]"
      ]
     },
     "metadata": {},
     "output_type": "display_data"
    },
    {
     "data": {
      "application/vnd.jupyter.widget-view+json": {
       "model_id": "14af06f24a4749aeb0a82443dd847dc8",
       "version_major": 2,
       "version_minor": 0
      },
      "text/plain": [
       "Communities progress:   0%|          | 0/512 [00:00<?, ?it/s]"
      ]
     },
     "metadata": {},
     "output_type": "display_data"
    },
    {
     "data": {
      "application/vnd.jupyter.widget-view+json": {
       "model_id": "7eafb56e0afc4341b7ecb399629e3f76",
       "version_major": 2,
       "version_minor": 0
      },
      "text/plain": [
       "Communities progress:   0%|          | 0/495 [00:00<?, ?it/s]"
      ]
     },
     "metadata": {},
     "output_type": "display_data"
    },
    {
     "data": {
      "application/vnd.jupyter.widget-view+json": {
       "model_id": "d9c7dba990a344568af1ca55f1d26565",
       "version_major": 2,
       "version_minor": 0
      },
      "text/plain": [
       "Similarity Metric Progress:   0%|          | 0/4 [00:00<?, ?it/s]"
      ]
     },
     "metadata": {},
     "output_type": "display_data"
    },
    {
     "data": {
      "application/vnd.jupyter.widget-view+json": {
       "model_id": "9a588a8939f74d80a3ec7118e4d52366",
       "version_major": 2,
       "version_minor": 0
      },
      "text/plain": [
       "Community Detector Progress:   0%|          | 0/4 [00:00<?, ?it/s]"
      ]
     },
     "metadata": {},
     "output_type": "display_data"
    },
    {
     "data": {
      "application/vnd.jupyter.widget-view+json": {
       "model_id": "dcbe6da63d1f4ce3a6537827f640fc9b",
       "version_major": 2,
       "version_minor": 0
      },
      "text/plain": [
       "Algorithm Progress:   0%|          | 0/4 [00:00<?, ?it/s]"
      ]
     },
     "metadata": {},
     "output_type": "display_data"
    },
    {
     "data": {
      "application/vnd.jupyter.widget-view+json": {
       "model_id": "eaad893fe8454014a45391369e316fa8",
       "version_major": 2,
       "version_minor": 0
      },
      "text/plain": [
       "Algorithm Progress:   0%|          | 0/4 [00:00<?, ?it/s]"
      ]
     },
     "metadata": {},
     "output_type": "display_data"
    },
    {
     "data": {
      "application/vnd.jupyter.widget-view+json": {
       "model_id": "5b8dd63aa8234f958992b7a0f5c1b82d",
       "version_major": 2,
       "version_minor": 0
      },
      "text/plain": [
       "Communities progress:   0%|          | 0/3 [00:00<?, ?it/s]"
      ]
     },
     "metadata": {},
     "output_type": "display_data"
    },
    {
     "data": {
      "application/vnd.jupyter.widget-view+json": {
       "model_id": "81831009bda447519e798210526cbc25",
       "version_major": 2,
       "version_minor": 0
      },
      "text/plain": [
       "Communities progress:   0%|          | 0/3 [00:00<?, ?it/s]"
      ]
     },
     "metadata": {},
     "output_type": "display_data"
    },
    {
     "data": {
      "application/vnd.jupyter.widget-view+json": {
       "model_id": "2d322e1b238e4704af5fcb62332aa550",
       "version_major": 2,
       "version_minor": 0
      },
      "text/plain": [
       "Communities progress:   0%|          | 0/3 [00:00<?, ?it/s]"
      ]
     },
     "metadata": {},
     "output_type": "display_data"
    },
    {
     "data": {
      "application/vnd.jupyter.widget-view+json": {
       "model_id": "f8e11cdac7f3473a890140a46cbc7d18",
       "version_major": 2,
       "version_minor": 0
      },
      "text/plain": [
       "Communities progress:   0%|          | 0/3 [00:00<?, ?it/s]"
      ]
     },
     "metadata": {},
     "output_type": "display_data"
    },
    {
     "data": {
      "application/vnd.jupyter.widget-view+json": {
       "model_id": "e841fd08bec547e1bcb4b7bb4f9337cc",
       "version_major": 2,
       "version_minor": 0
      },
      "text/plain": [
       "Algorithm Progress:   0%|          | 0/4 [00:00<?, ?it/s]"
      ]
     },
     "metadata": {},
     "output_type": "display_data"
    },
    {
     "data": {
      "application/vnd.jupyter.widget-view+json": {
       "model_id": "5e487a517a114cee8a518a4f0ae7f500",
       "version_major": 2,
       "version_minor": 0
      },
      "text/plain": [
       "Communities progress:   0%|          | 0/97 [00:00<?, ?it/s]"
      ]
     },
     "metadata": {},
     "output_type": "display_data"
    },
    {
     "data": {
      "application/vnd.jupyter.widget-view+json": {
       "model_id": "7e84e488b985421eaf8d33178c333eb0",
       "version_major": 2,
       "version_minor": 0
      },
      "text/plain": [
       "Communities progress:   0%|          | 0/97 [00:00<?, ?it/s]"
      ]
     },
     "metadata": {},
     "output_type": "display_data"
    },
    {
     "data": {
      "application/vnd.jupyter.widget-view+json": {
       "model_id": "0fa1318640c441119e58aa4d5112c9e9",
       "version_major": 2,
       "version_minor": 0
      },
      "text/plain": [
       "Communities progress:   0%|          | 0/97 [00:00<?, ?it/s]"
      ]
     },
     "metadata": {},
     "output_type": "display_data"
    },
    {
     "data": {
      "application/vnd.jupyter.widget-view+json": {
       "model_id": "3b33ceb68095432b9ff503e253a1c18d",
       "version_major": 2,
       "version_minor": 0
      },
      "text/plain": [
       "Communities progress:   0%|          | 0/97 [00:00<?, ?it/s]"
      ]
     },
     "metadata": {},
     "output_type": "display_data"
    },
    {
     "data": {
      "application/vnd.jupyter.widget-view+json": {
       "model_id": "4a5654a8f5cd43db91a76ca7ff57cd3c",
       "version_major": 2,
       "version_minor": 0
      },
      "text/plain": [
       "Algorithm Progress:   0%|          | 0/4 [00:00<?, ?it/s]"
      ]
     },
     "metadata": {},
     "output_type": "display_data"
    },
    {
     "data": {
      "application/vnd.jupyter.widget-view+json": {
       "model_id": "138d23ff6d854056bc95f65ebe1c060b",
       "version_major": 2,
       "version_minor": 0
      },
      "text/plain": [
       "Communities progress:   0%|          | 0/499 [00:00<?, ?it/s]"
      ]
     },
     "metadata": {},
     "output_type": "display_data"
    },
    {
     "data": {
      "application/vnd.jupyter.widget-view+json": {
       "model_id": "1857ba98c1b64ad68f6247a9f8d0b04a",
       "version_major": 2,
       "version_minor": 0
      },
      "text/plain": [
       "Communities progress:   0%|          | 0/468 [00:00<?, ?it/s]"
      ]
     },
     "metadata": {},
     "output_type": "display_data"
    },
    {
     "data": {
      "application/vnd.jupyter.widget-view+json": {
       "model_id": "ea8217622da8431690caecbc0f085643",
       "version_major": 2,
       "version_minor": 0
      },
      "text/plain": [
       "Communities progress:   0%|          | 0/496 [00:00<?, ?it/s]"
      ]
     },
     "metadata": {},
     "output_type": "display_data"
    },
    {
     "data": {
      "application/vnd.jupyter.widget-view+json": {
       "model_id": "fe231776e9d0477296fabb87152793b4",
       "version_major": 2,
       "version_minor": 0
      },
      "text/plain": [
       "Communities progress:   0%|          | 0/492 [00:00<?, ?it/s]"
      ]
     },
     "metadata": {},
     "output_type": "display_data"
    },
    {
     "data": {
      "application/vnd.jupyter.widget-view+json": {
       "model_id": "afa9ac9ecb234ee986affc7b6651d9f7",
       "version_major": 2,
       "version_minor": 0
      },
      "text/plain": [
       "Community Detector Progress:   0%|          | 0/4 [00:00<?, ?it/s]"
      ]
     },
     "metadata": {},
     "output_type": "display_data"
    },
    {
     "data": {
      "application/vnd.jupyter.widget-view+json": {
       "model_id": "95771c2932644cb0a1e43b053cd94f53",
       "version_major": 2,
       "version_minor": 0
      },
      "text/plain": [
       "Algorithm Progress:   0%|          | 0/4 [00:00<?, ?it/s]"
      ]
     },
     "metadata": {},
     "output_type": "display_data"
    },
    {
     "data": {
      "application/vnd.jupyter.widget-view+json": {
       "model_id": "887b13e6518d4394b02393dd0cfa2026",
       "version_major": 2,
       "version_minor": 0
      },
      "text/plain": [
       "Algorithm Progress:   0%|          | 0/4 [00:00<?, ?it/s]"
      ]
     },
     "metadata": {},
     "output_type": "display_data"
    },
    {
     "data": {
      "application/vnd.jupyter.widget-view+json": {
       "model_id": "c57d7b5c53624534a5c35330b77336ed",
       "version_major": 2,
       "version_minor": 0
      },
      "text/plain": [
       "Communities progress:   0%|          | 0/4 [00:00<?, ?it/s]"
      ]
     },
     "metadata": {},
     "output_type": "display_data"
    },
    {
     "data": {
      "application/vnd.jupyter.widget-view+json": {
       "model_id": "5c423b844d954479af8762f279af642b",
       "version_major": 2,
       "version_minor": 0
      },
      "text/plain": [
       "Communities progress:   0%|          | 0/3 [00:00<?, ?it/s]"
      ]
     },
     "metadata": {},
     "output_type": "display_data"
    },
    {
     "data": {
      "application/vnd.jupyter.widget-view+json": {
       "model_id": "893cad7721424a8a8532f0f595d62b0c",
       "version_major": 2,
       "version_minor": 0
      },
      "text/plain": [
       "Communities progress:   0%|          | 0/3 [00:00<?, ?it/s]"
      ]
     },
     "metadata": {},
     "output_type": "display_data"
    },
    {
     "data": {
      "application/vnd.jupyter.widget-view+json": {
       "model_id": "4c5fd250e89f4fb58a01088e2bab2a69",
       "version_major": 2,
       "version_minor": 0
      },
      "text/plain": [
       "Communities progress:   0%|          | 0/3 [00:00<?, ?it/s]"
      ]
     },
     "metadata": {},
     "output_type": "display_data"
    },
    {
     "data": {
      "application/vnd.jupyter.widget-view+json": {
       "model_id": "9e50846720f94ef6acae70d4c6ef35e8",
       "version_major": 2,
       "version_minor": 0
      },
      "text/plain": [
       "Algorithm Progress:   0%|          | 0/4 [00:00<?, ?it/s]"
      ]
     },
     "metadata": {},
     "output_type": "display_data"
    },
    {
     "data": {
      "application/vnd.jupyter.widget-view+json": {
       "model_id": "204b0b22911a4716b8225165a1b0909a",
       "version_major": 2,
       "version_minor": 0
      },
      "text/plain": [
       "Communities progress:   0%|          | 0/2 [00:00<?, ?it/s]"
      ]
     },
     "metadata": {},
     "output_type": "display_data"
    },
    {
     "data": {
      "application/vnd.jupyter.widget-view+json": {
       "model_id": "40ca61c36f7d4b9b83405e3d1a1b4c3f",
       "version_major": 2,
       "version_minor": 0
      },
      "text/plain": [
       "Communities progress:   0%|          | 0/2 [00:00<?, ?it/s]"
      ]
     },
     "metadata": {},
     "output_type": "display_data"
    },
    {
     "data": {
      "application/vnd.jupyter.widget-view+json": {
       "model_id": "33be683183254f62905bf12b44d0eb52",
       "version_major": 2,
       "version_minor": 0
      },
      "text/plain": [
       "Communities progress:   0%|          | 0/2 [00:00<?, ?it/s]"
      ]
     },
     "metadata": {},
     "output_type": "display_data"
    },
    {
     "data": {
      "application/vnd.jupyter.widget-view+json": {
       "model_id": "0584a144f6914696babf431752064d40",
       "version_major": 2,
       "version_minor": 0
      },
      "text/plain": [
       "Communities progress:   0%|          | 0/2 [00:00<?, ?it/s]"
      ]
     },
     "metadata": {},
     "output_type": "display_data"
    },
    {
     "data": {
      "application/vnd.jupyter.widget-view+json": {
       "model_id": "a977ed9c2d4341a08d3405f60ad977f6",
       "version_major": 2,
       "version_minor": 0
      },
      "text/plain": [
       "Algorithm Progress:   0%|          | 0/4 [00:00<?, ?it/s]"
      ]
     },
     "metadata": {},
     "output_type": "display_data"
    },
    {
     "data": {
      "application/vnd.jupyter.widget-view+json": {
       "model_id": "bdb87de6459345d0b178824116f77f68",
       "version_major": 2,
       "version_minor": 0
      },
      "text/plain": [
       "Communities progress:   0%|          | 0/72 [00:00<?, ?it/s]"
      ]
     },
     "metadata": {},
     "output_type": "display_data"
    },
    {
     "data": {
      "application/vnd.jupyter.widget-view+json": {
       "model_id": "f956e25b8fcd47a2bf62c86794df0926",
       "version_major": 2,
       "version_minor": 0
      },
      "text/plain": [
       "Communities progress:   0%|          | 0/71 [00:00<?, ?it/s]"
      ]
     },
     "metadata": {},
     "output_type": "display_data"
    },
    {
     "data": {
      "application/vnd.jupyter.widget-view+json": {
       "model_id": "8cdd4d9b69cf4b96b5d194c91d093370",
       "version_major": 2,
       "version_minor": 0
      },
      "text/plain": [
       "Communities progress:   0%|          | 0/71 [00:00<?, ?it/s]"
      ]
     },
     "metadata": {},
     "output_type": "display_data"
    },
    {
     "data": {
      "application/vnd.jupyter.widget-view+json": {
       "model_id": "53a8acffab1e40ffb3b7b1cea95288a3",
       "version_major": 2,
       "version_minor": 0
      },
      "text/plain": [
       "Communities progress:   0%|          | 0/73 [00:00<?, ?it/s]"
      ]
     },
     "metadata": {},
     "output_type": "display_data"
    },
    {
     "data": {
      "application/vnd.jupyter.widget-view+json": {
       "model_id": "220f0eb1408d43a385f7f6b88c791b0a",
       "version_major": 2,
       "version_minor": 0
      },
      "text/plain": [
       "Community Detector Progress:   0%|          | 0/4 [00:00<?, ?it/s]"
      ]
     },
     "metadata": {},
     "output_type": "display_data"
    },
    {
     "data": {
      "application/vnd.jupyter.widget-view+json": {
       "model_id": "965c7f31bdea4d8993fc82dfbacd00ae",
       "version_major": 2,
       "version_minor": 0
      },
      "text/plain": [
       "Algorithm Progress:   0%|          | 0/4 [00:00<?, ?it/s]"
      ]
     },
     "metadata": {},
     "output_type": "display_data"
    },
    {
     "data": {
      "application/vnd.jupyter.widget-view+json": {
       "model_id": "55308b245fc347e69457a3dc90154d37",
       "version_major": 2,
       "version_minor": 0
      },
      "text/plain": [
       "Algorithm Progress:   0%|          | 0/4 [00:00<?, ?it/s]"
      ]
     },
     "metadata": {},
     "output_type": "display_data"
    },
    {
     "data": {
      "application/vnd.jupyter.widget-view+json": {
       "model_id": "8318ec65486c48fd90f9af4f14ab69b1",
       "version_major": 2,
       "version_minor": 0
      },
      "text/plain": [
       "Communities progress:   0%|          | 0/3 [00:00<?, ?it/s]"
      ]
     },
     "metadata": {},
     "output_type": "display_data"
    },
    {
     "data": {
      "application/vnd.jupyter.widget-view+json": {
       "model_id": "fd6fb5c34f3447acb2b136119719246e",
       "version_major": 2,
       "version_minor": 0
      },
      "text/plain": [
       "Communities progress:   0%|          | 0/3 [00:00<?, ?it/s]"
      ]
     },
     "metadata": {},
     "output_type": "display_data"
    },
    {
     "data": {
      "application/vnd.jupyter.widget-view+json": {
       "model_id": "56f86e1e435846eb8d89c44fecf5ccbb",
       "version_major": 2,
       "version_minor": 0
      },
      "text/plain": [
       "Communities progress:   0%|          | 0/3 [00:00<?, ?it/s]"
      ]
     },
     "metadata": {},
     "output_type": "display_data"
    },
    {
     "data": {
      "application/vnd.jupyter.widget-view+json": {
       "model_id": "47312db586ad4651b97b2cbf92db341c",
       "version_major": 2,
       "version_minor": 0
      },
      "text/plain": [
       "Communities progress:   0%|          | 0/2 [00:00<?, ?it/s]"
      ]
     },
     "metadata": {},
     "output_type": "display_data"
    },
    {
     "data": {
      "application/vnd.jupyter.widget-view+json": {
       "model_id": "aa302e1068a74da99dc9b3ae358cd853",
       "version_major": 2,
       "version_minor": 0
      },
      "text/plain": [
       "Algorithm Progress:   0%|          | 0/4 [00:00<?, ?it/s]"
      ]
     },
     "metadata": {},
     "output_type": "display_data"
    },
    {
     "data": {
      "application/vnd.jupyter.widget-view+json": {
       "model_id": "ed3cd52c69a848d79c755542c895397f",
       "version_major": 2,
       "version_minor": 0
      },
      "text/plain": [
       "Communities progress:   0%|          | 0/89 [00:00<?, ?it/s]"
      ]
     },
     "metadata": {},
     "output_type": "display_data"
    },
    {
     "data": {
      "application/vnd.jupyter.widget-view+json": {
       "model_id": "21cc8b6c29b94502998eae9783c6e682",
       "version_major": 2,
       "version_minor": 0
      },
      "text/plain": [
       "Communities progress:   0%|          | 0/89 [00:00<?, ?it/s]"
      ]
     },
     "metadata": {},
     "output_type": "display_data"
    },
    {
     "data": {
      "application/vnd.jupyter.widget-view+json": {
       "model_id": "21e535169de649229670f3b3afb3722b",
       "version_major": 2,
       "version_minor": 0
      },
      "text/plain": [
       "Communities progress:   0%|          | 0/89 [00:00<?, ?it/s]"
      ]
     },
     "metadata": {},
     "output_type": "display_data"
    },
    {
     "data": {
      "application/vnd.jupyter.widget-view+json": {
       "model_id": "f47f237b95fe4948893d20f0992ced33",
       "version_major": 2,
       "version_minor": 0
      },
      "text/plain": [
       "Communities progress:   0%|          | 0/89 [00:00<?, ?it/s]"
      ]
     },
     "metadata": {},
     "output_type": "display_data"
    },
    {
     "data": {
      "application/vnd.jupyter.widget-view+json": {
       "model_id": "da4e77fc2244431aa40f03bc687a6bc6",
       "version_major": 2,
       "version_minor": 0
      },
      "text/plain": [
       "Algorithm Progress:   0%|          | 0/4 [00:00<?, ?it/s]"
      ]
     },
     "metadata": {},
     "output_type": "display_data"
    },
    {
     "data": {
      "application/vnd.jupyter.widget-view+json": {
       "model_id": "6965dddcec0e491c8f75c591b0584c9f",
       "version_major": 2,
       "version_minor": 0
      },
      "text/plain": [
       "Communities progress:   0%|          | 0/552 [00:00<?, ?it/s]"
      ]
     },
     "metadata": {},
     "output_type": "display_data"
    },
    {
     "data": {
      "application/vnd.jupyter.widget-view+json": {
       "model_id": "e24a0997ac814d66b66d831dc2e029fa",
       "version_major": 2,
       "version_minor": 0
      },
      "text/plain": [
       "Communities progress:   0%|          | 0/505 [00:00<?, ?it/s]"
      ]
     },
     "metadata": {},
     "output_type": "display_data"
    },
    {
     "data": {
      "application/vnd.jupyter.widget-view+json": {
       "model_id": "4f9d089b3ef14d89a1dc57bb412da49f",
       "version_major": 2,
       "version_minor": 0
      },
      "text/plain": [
       "Communities progress:   0%|          | 0/511 [00:00<?, ?it/s]"
      ]
     },
     "metadata": {},
     "output_type": "display_data"
    },
    {
     "data": {
      "application/vnd.jupyter.widget-view+json": {
       "model_id": "5e0188a838b440689c628820fbb5c30f",
       "version_major": 2,
       "version_minor": 0
      },
      "text/plain": [
       "Communities progress:   0%|          | 0/501 [00:00<?, ?it/s]"
      ]
     },
     "metadata": {},
     "output_type": "display_data"
    },
    {
     "data": {
      "application/vnd.jupyter.widget-view+json": {
       "model_id": "b3b72286ffbf46a696a30e22d3563181",
       "version_major": 2,
       "version_minor": 0
      },
      "text/plain": [
       "Community Detector Progress:   0%|          | 0/4 [00:00<?, ?it/s]"
      ]
     },
     "metadata": {},
     "output_type": "display_data"
    },
    {
     "data": {
      "application/vnd.jupyter.widget-view+json": {
       "model_id": "199eea3bc2cd44bf83267ccd5befb219",
       "version_major": 2,
       "version_minor": 0
      },
      "text/plain": [
       "Algorithm Progress:   0%|          | 0/4 [00:00<?, ?it/s]"
      ]
     },
     "metadata": {},
     "output_type": "display_data"
    },
    {
     "data": {
      "application/vnd.jupyter.widget-view+json": {
       "model_id": "264b105cb15141d2abd3ddff6d6da356",
       "version_major": 2,
       "version_minor": 0
      },
      "text/plain": [
       "Algorithm Progress:   0%|          | 0/4 [00:00<?, ?it/s]"
      ]
     },
     "metadata": {},
     "output_type": "display_data"
    },
    {
     "data": {
      "application/vnd.jupyter.widget-view+json": {
       "model_id": "f265c079d2444bb7aa019df4b084c6f5",
       "version_major": 2,
       "version_minor": 0
      },
      "text/plain": [
       "Communities progress:   0%|          | 0/3 [00:00<?, ?it/s]"
      ]
     },
     "metadata": {},
     "output_type": "display_data"
    },
    {
     "data": {
      "application/vnd.jupyter.widget-view+json": {
       "model_id": "0502e73ca9a54ba0ad7b8c1dbceb3027",
       "version_major": 2,
       "version_minor": 0
      },
      "text/plain": [
       "Communities progress:   0%|          | 0/3 [00:00<?, ?it/s]"
      ]
     },
     "metadata": {},
     "output_type": "display_data"
    },
    {
     "data": {
      "application/vnd.jupyter.widget-view+json": {
       "model_id": "956e9a52338a4e1183693208b60678e4",
       "version_major": 2,
       "version_minor": 0
      },
      "text/plain": [
       "Communities progress:   0%|          | 0/3 [00:00<?, ?it/s]"
      ]
     },
     "metadata": {},
     "output_type": "display_data"
    },
    {
     "data": {
      "application/vnd.jupyter.widget-view+json": {
       "model_id": "219ffc0c65bd4f55a2df3025d8b04da6",
       "version_major": 2,
       "version_minor": 0
      },
      "text/plain": [
       "Communities progress:   0%|          | 0/3 [00:00<?, ?it/s]"
      ]
     },
     "metadata": {},
     "output_type": "display_data"
    },
    {
     "data": {
      "application/vnd.jupyter.widget-view+json": {
       "model_id": "55c1c068dadd4831965b510ef367afac",
       "version_major": 2,
       "version_minor": 0
      },
      "text/plain": [
       "Algorithm Progress:   0%|          | 0/4 [00:00<?, ?it/s]"
      ]
     },
     "metadata": {},
     "output_type": "display_data"
    },
    {
     "data": {
      "application/vnd.jupyter.widget-view+json": {
       "model_id": "ebe43188e89a4c71a904f679e079277b",
       "version_major": 2,
       "version_minor": 0
      },
      "text/plain": [
       "Communities progress:   0%|          | 0/97 [00:00<?, ?it/s]"
      ]
     },
     "metadata": {},
     "output_type": "display_data"
    },
    {
     "data": {
      "application/vnd.jupyter.widget-view+json": {
       "model_id": "ef50088d5e07493594cbbbf4ea5531d4",
       "version_major": 2,
       "version_minor": 0
      },
      "text/plain": [
       "Communities progress:   0%|          | 0/97 [00:00<?, ?it/s]"
      ]
     },
     "metadata": {},
     "output_type": "display_data"
    },
    {
     "data": {
      "application/vnd.jupyter.widget-view+json": {
       "model_id": "69fefe177c2d429cbcad7c14b96f4c06",
       "version_major": 2,
       "version_minor": 0
      },
      "text/plain": [
       "Communities progress:   0%|          | 0/97 [00:00<?, ?it/s]"
      ]
     },
     "metadata": {},
     "output_type": "display_data"
    },
    {
     "data": {
      "application/vnd.jupyter.widget-view+json": {
       "model_id": "4d7f7586de3d4cc5b49ed7ad30d6684e",
       "version_major": 2,
       "version_minor": 0
      },
      "text/plain": [
       "Communities progress:   0%|          | 0/97 [00:00<?, ?it/s]"
      ]
     },
     "metadata": {},
     "output_type": "display_data"
    },
    {
     "data": {
      "application/vnd.jupyter.widget-view+json": {
       "model_id": "9bc9b380631a4c70b49f4142060746fc",
       "version_major": 2,
       "version_minor": 0
      },
      "text/plain": [
       "Algorithm Progress:   0%|          | 0/4 [00:00<?, ?it/s]"
      ]
     },
     "metadata": {},
     "output_type": "display_data"
    },
    {
     "data": {
      "application/vnd.jupyter.widget-view+json": {
       "model_id": "5c60edb376794547a22b08a3581c0110",
       "version_major": 2,
       "version_minor": 0
      },
      "text/plain": [
       "Communities progress:   0%|          | 0/483 [00:00<?, ?it/s]"
      ]
     },
     "metadata": {},
     "output_type": "display_data"
    },
    {
     "data": {
      "application/vnd.jupyter.widget-view+json": {
       "model_id": "65b014d3b64e472683a8fbe88f6cbf5f",
       "version_major": 2,
       "version_minor": 0
      },
      "text/plain": [
       "Communities progress:   0%|          | 0/488 [00:00<?, ?it/s]"
      ]
     },
     "metadata": {},
     "output_type": "display_data"
    },
    {
     "data": {
      "application/vnd.jupyter.widget-view+json": {
       "model_id": "f227fda597444ecb9dd1ab30cce9c388",
       "version_major": 2,
       "version_minor": 0
      },
      "text/plain": [
       "Communities progress:   0%|          | 0/491 [00:00<?, ?it/s]"
      ]
     },
     "metadata": {},
     "output_type": "display_data"
    },
    {
     "data": {
      "application/vnd.jupyter.widget-view+json": {
       "model_id": "f51bc149fec54415afa6a270ed001163",
       "version_major": 2,
       "version_minor": 0
      },
      "text/plain": [
       "Communities progress:   0%|          | 0/499 [00:00<?, ?it/s]"
      ]
     },
     "metadata": {},
     "output_type": "display_data"
    },
    {
     "data": {
      "application/vnd.jupyter.widget-view+json": {
       "model_id": "bb9d7cae5b13426794c10321a3779eda",
       "version_major": 2,
       "version_minor": 0
      },
      "text/plain": [
       "Similarity Metric Progress:   0%|          | 0/4 [00:00<?, ?it/s]"
      ]
     },
     "metadata": {},
     "output_type": "display_data"
    },
    {
     "data": {
      "application/vnd.jupyter.widget-view+json": {
       "model_id": "b8457c8c1aa04e8b91ca47079ea638fb",
       "version_major": 2,
       "version_minor": 0
      },
      "text/plain": [
       "Community Detector Progress:   0%|          | 0/4 [00:00<?, ?it/s]"
      ]
     },
     "metadata": {},
     "output_type": "display_data"
    },
    {
     "data": {
      "application/vnd.jupyter.widget-view+json": {
       "model_id": "6809bde35bdd45dcbd90e31393e76b40",
       "version_major": 2,
       "version_minor": 0
      },
      "text/plain": [
       "Algorithm Progress:   0%|          | 0/4 [00:00<?, ?it/s]"
      ]
     },
     "metadata": {},
     "output_type": "display_data"
    },
    {
     "data": {
      "application/vnd.jupyter.widget-view+json": {
       "model_id": "8340770cd90147fd95cf0c6abdc31f58",
       "version_major": 2,
       "version_minor": 0
      },
      "text/plain": [
       "Algorithm Progress:   0%|          | 0/4 [00:00<?, ?it/s]"
      ]
     },
     "metadata": {},
     "output_type": "display_data"
    },
    {
     "data": {
      "application/vnd.jupyter.widget-view+json": {
       "model_id": "4cad4648d3de4f35b21c27577845de4b",
       "version_major": 2,
       "version_minor": 0
      },
      "text/plain": [
       "Communities progress:   0%|          | 0/2 [00:00<?, ?it/s]"
      ]
     },
     "metadata": {},
     "output_type": "display_data"
    },
    {
     "data": {
      "application/vnd.jupyter.widget-view+json": {
       "model_id": "8970fd9f7b51431cac8bd3914ecd4b42",
       "version_major": 2,
       "version_minor": 0
      },
      "text/plain": [
       "Communities progress:   0%|          | 0/3 [00:00<?, ?it/s]"
      ]
     },
     "metadata": {},
     "output_type": "display_data"
    },
    {
     "data": {
      "application/vnd.jupyter.widget-view+json": {
       "model_id": "06b09b983f8e4ae796d7154bd07a151c",
       "version_major": 2,
       "version_minor": 0
      },
      "text/plain": [
       "Communities progress:   0%|          | 0/3 [00:00<?, ?it/s]"
      ]
     },
     "metadata": {},
     "output_type": "display_data"
    },
    {
     "data": {
      "application/vnd.jupyter.widget-view+json": {
       "model_id": "b466b3c5ccbf4d3ea0de3a7db32d5253",
       "version_major": 2,
       "version_minor": 0
      },
      "text/plain": [
       "Communities progress:   0%|          | 0/3 [00:00<?, ?it/s]"
      ]
     },
     "metadata": {},
     "output_type": "display_data"
    },
    {
     "data": {
      "application/vnd.jupyter.widget-view+json": {
       "model_id": "233c6504a2ac482c82ddd8d1e3ca02ec",
       "version_major": 2,
       "version_minor": 0
      },
      "text/plain": [
       "Algorithm Progress:   0%|          | 0/4 [00:00<?, ?it/s]"
      ]
     },
     "metadata": {},
     "output_type": "display_data"
    },
    {
     "data": {
      "application/vnd.jupyter.widget-view+json": {
       "model_id": "e9f248ef22484218b0f1bd507cb0c50f",
       "version_major": 2,
       "version_minor": 0
      },
      "text/plain": [
       "Communities progress:   0%|          | 0/88 [00:00<?, ?it/s]"
      ]
     },
     "metadata": {},
     "output_type": "display_data"
    },
    {
     "data": {
      "application/vnd.jupyter.widget-view+json": {
       "model_id": "40ce0b20fc0a4ec0aef495c015816436",
       "version_major": 2,
       "version_minor": 0
      },
      "text/plain": [
       "Communities progress:   0%|          | 0/88 [00:00<?, ?it/s]"
      ]
     },
     "metadata": {},
     "output_type": "display_data"
    },
    {
     "data": {
      "application/vnd.jupyter.widget-view+json": {
       "model_id": "3e8ffdfb8daf407cb2dffc350cc9a36f",
       "version_major": 2,
       "version_minor": 0
      },
      "text/plain": [
       "Communities progress:   0%|          | 0/88 [00:00<?, ?it/s]"
      ]
     },
     "metadata": {},
     "output_type": "display_data"
    },
    {
     "data": {
      "application/vnd.jupyter.widget-view+json": {
       "model_id": "e0abe6619937406bb45c9f82822015ea",
       "version_major": 2,
       "version_minor": 0
      },
      "text/plain": [
       "Communities progress:   0%|          | 0/88 [00:00<?, ?it/s]"
      ]
     },
     "metadata": {},
     "output_type": "display_data"
    },
    {
     "data": {
      "application/vnd.jupyter.widget-view+json": {
       "model_id": "57f58e0f35a54c40b362991fb84fbee9",
       "version_major": 2,
       "version_minor": 0
      },
      "text/plain": [
       "Algorithm Progress:   0%|          | 0/4 [00:00<?, ?it/s]"
      ]
     },
     "metadata": {},
     "output_type": "display_data"
    },
    {
     "data": {
      "application/vnd.jupyter.widget-view+json": {
       "model_id": "008ee3387bb744ccafacd882a2b4ad67",
       "version_major": 2,
       "version_minor": 0
      },
      "text/plain": [
       "Communities progress:   0%|          | 0/483 [00:00<?, ?it/s]"
      ]
     },
     "metadata": {},
     "output_type": "display_data"
    },
    {
     "data": {
      "application/vnd.jupyter.widget-view+json": {
       "model_id": "62f73dc5386541b7b5d2bdb80120d3db",
       "version_major": 2,
       "version_minor": 0
      },
      "text/plain": [
       "Communities progress:   0%|          | 0/483 [00:00<?, ?it/s]"
      ]
     },
     "metadata": {},
     "output_type": "display_data"
    },
    {
     "data": {
      "application/vnd.jupyter.widget-view+json": {
       "model_id": "d27bd088533b4153b89fc77d959f90e1",
       "version_major": 2,
       "version_minor": 0
      },
      "text/plain": [
       "Communities progress:   0%|          | 0/489 [00:00<?, ?it/s]"
      ]
     },
     "metadata": {},
     "output_type": "display_data"
    },
    {
     "data": {
      "application/vnd.jupyter.widget-view+json": {
       "model_id": "e24d0f22fb4a4fd58d1324c78f99d1fe",
       "version_major": 2,
       "version_minor": 0
      },
      "text/plain": [
       "Communities progress:   0%|          | 0/489 [00:00<?, ?it/s]"
      ]
     },
     "metadata": {},
     "output_type": "display_data"
    },
    {
     "data": {
      "application/vnd.jupyter.widget-view+json": {
       "model_id": "60d6e9cb02c8426dbfec3987aa5a9313",
       "version_major": 2,
       "version_minor": 0
      },
      "text/plain": [
       "Community Detector Progress:   0%|          | 0/4 [00:00<?, ?it/s]"
      ]
     },
     "metadata": {},
     "output_type": "display_data"
    },
    {
     "data": {
      "application/vnd.jupyter.widget-view+json": {
       "model_id": "8d17718d6493401b8c00068b06d937be",
       "version_major": 2,
       "version_minor": 0
      },
      "text/plain": [
       "Algorithm Progress:   0%|          | 0/4 [00:00<?, ?it/s]"
      ]
     },
     "metadata": {},
     "output_type": "display_data"
    },
    {
     "data": {
      "application/vnd.jupyter.widget-view+json": {
       "model_id": "601db0dc9f6a421d9cb0f45dc238893a",
       "version_major": 2,
       "version_minor": 0
      },
      "text/plain": [
       "Algorithm Progress:   0%|          | 0/4 [00:00<?, ?it/s]"
      ]
     },
     "metadata": {},
     "output_type": "display_data"
    },
    {
     "data": {
      "application/vnd.jupyter.widget-view+json": {
       "model_id": "57c1b3427e5c40969f419612310a4636",
       "version_major": 2,
       "version_minor": 0
      },
      "text/plain": [
       "Communities progress:   0%|          | 0/3 [00:00<?, ?it/s]"
      ]
     },
     "metadata": {},
     "output_type": "display_data"
    },
    {
     "data": {
      "application/vnd.jupyter.widget-view+json": {
       "model_id": "110cff4061bd45288808772c80f91c0a",
       "version_major": 2,
       "version_minor": 0
      },
      "text/plain": [
       "Communities progress:   0%|          | 0/3 [00:00<?, ?it/s]"
      ]
     },
     "metadata": {},
     "output_type": "display_data"
    },
    {
     "data": {
      "application/vnd.jupyter.widget-view+json": {
       "model_id": "37305822f2ca4736b9015924d2eb1a73",
       "version_major": 2,
       "version_minor": 0
      },
      "text/plain": [
       "Communities progress:   0%|          | 0/4 [00:00<?, ?it/s]"
      ]
     },
     "metadata": {},
     "output_type": "display_data"
    },
    {
     "data": {
      "application/vnd.jupyter.widget-view+json": {
       "model_id": "c535526576bb489ea01ddd440c332f7a",
       "version_major": 2,
       "version_minor": 0
      },
      "text/plain": [
       "Communities progress:   0%|          | 0/3 [00:00<?, ?it/s]"
      ]
     },
     "metadata": {},
     "output_type": "display_data"
    },
    {
     "data": {
      "application/vnd.jupyter.widget-view+json": {
       "model_id": "4aaacbcf2ad24b5aa4c16dab1958733d",
       "version_major": 2,
       "version_minor": 0
      },
      "text/plain": [
       "Algorithm Progress:   0%|          | 0/4 [00:00<?, ?it/s]"
      ]
     },
     "metadata": {},
     "output_type": "display_data"
    },
    {
     "data": {
      "application/vnd.jupyter.widget-view+json": {
       "model_id": "5d40eeb1e9824ef381d335eb74de891e",
       "version_major": 2,
       "version_minor": 0
      },
      "text/plain": [
       "Communities progress:   0%|          | 0/2 [00:00<?, ?it/s]"
      ]
     },
     "metadata": {},
     "output_type": "display_data"
    },
    {
     "data": {
      "application/vnd.jupyter.widget-view+json": {
       "model_id": "5b6d7755805342bb9cb5d6e90ebf8dcb",
       "version_major": 2,
       "version_minor": 0
      },
      "text/plain": [
       "Communities progress:   0%|          | 0/2 [00:00<?, ?it/s]"
      ]
     },
     "metadata": {},
     "output_type": "display_data"
    },
    {
     "data": {
      "application/vnd.jupyter.widget-view+json": {
       "model_id": "1d39933cd84e46ea98aa90654f4351b3",
       "version_major": 2,
       "version_minor": 0
      },
      "text/plain": [
       "Communities progress:   0%|          | 0/2 [00:00<?, ?it/s]"
      ]
     },
     "metadata": {},
     "output_type": "display_data"
    },
    {
     "data": {
      "application/vnd.jupyter.widget-view+json": {
       "model_id": "56329d2bef254123a8e9a56b04fee3e3",
       "version_major": 2,
       "version_minor": 0
      },
      "text/plain": [
       "Communities progress:   0%|          | 0/2 [00:00<?, ?it/s]"
      ]
     },
     "metadata": {},
     "output_type": "display_data"
    },
    {
     "data": {
      "application/vnd.jupyter.widget-view+json": {
       "model_id": "1e87f149d2b04a7b823a42ef671477e1",
       "version_major": 2,
       "version_minor": 0
      },
      "text/plain": [
       "Algorithm Progress:   0%|          | 0/4 [00:00<?, ?it/s]"
      ]
     },
     "metadata": {},
     "output_type": "display_data"
    },
    {
     "data": {
      "application/vnd.jupyter.widget-view+json": {
       "model_id": "56dc05655a9643818f39a7ef0687126a",
       "version_major": 2,
       "version_minor": 0
      },
      "text/plain": [
       "Communities progress:   0%|          | 0/91 [00:00<?, ?it/s]"
      ]
     },
     "metadata": {},
     "output_type": "display_data"
    },
    {
     "data": {
      "application/vnd.jupyter.widget-view+json": {
       "model_id": "0c296ababcdb44a1815bf23a9e4ad59e",
       "version_major": 2,
       "version_minor": 0
      },
      "text/plain": [
       "Communities progress:   0%|          | 0/85 [00:00<?, ?it/s]"
      ]
     },
     "metadata": {},
     "output_type": "display_data"
    },
    {
     "data": {
      "application/vnd.jupyter.widget-view+json": {
       "model_id": "1c8a31babeb243d889a2ac7e9e0bf216",
       "version_major": 2,
       "version_minor": 0
      },
      "text/plain": [
       "Communities progress:   0%|          | 0/83 [00:00<?, ?it/s]"
      ]
     },
     "metadata": {},
     "output_type": "display_data"
    },
    {
     "data": {
      "application/vnd.jupyter.widget-view+json": {
       "model_id": "909562ddeef04272b711a5f1237d10f1",
       "version_major": 2,
       "version_minor": 0
      },
      "text/plain": [
       "Communities progress:   0%|          | 0/77 [00:00<?, ?it/s]"
      ]
     },
     "metadata": {},
     "output_type": "display_data"
    },
    {
     "data": {
      "application/vnd.jupyter.widget-view+json": {
       "model_id": "504da4232a33457c9bae0038adbf0dae",
       "version_major": 2,
       "version_minor": 0
      },
      "text/plain": [
       "Community Detector Progress:   0%|          | 0/4 [00:00<?, ?it/s]"
      ]
     },
     "metadata": {},
     "output_type": "display_data"
    },
    {
     "data": {
      "application/vnd.jupyter.widget-view+json": {
       "model_id": "2e070e42389e4e1a84693f9dea51c2cb",
       "version_major": 2,
       "version_minor": 0
      },
      "text/plain": [
       "Algorithm Progress:   0%|          | 0/4 [00:00<?, ?it/s]"
      ]
     },
     "metadata": {},
     "output_type": "display_data"
    },
    {
     "data": {
      "application/vnd.jupyter.widget-view+json": {
       "model_id": "c4407da9908a4cf287a33f37c1b96b39",
       "version_major": 2,
       "version_minor": 0
      },
      "text/plain": [
       "Algorithm Progress:   0%|          | 0/4 [00:00<?, ?it/s]"
      ]
     },
     "metadata": {},
     "output_type": "display_data"
    },
    {
     "data": {
      "application/vnd.jupyter.widget-view+json": {
       "model_id": "f6a2062dd8414e7f8f4f1c5ca222be7a",
       "version_major": 2,
       "version_minor": 0
      },
      "text/plain": [
       "Communities progress:   0%|          | 0/3 [00:00<?, ?it/s]"
      ]
     },
     "metadata": {},
     "output_type": "display_data"
    },
    {
     "data": {
      "application/vnd.jupyter.widget-view+json": {
       "model_id": "1bd2d8ad34ee4ee094992f7e32d7ccf7",
       "version_major": 2,
       "version_minor": 0
      },
      "text/plain": [
       "Communities progress:   0%|          | 0/3 [00:00<?, ?it/s]"
      ]
     },
     "metadata": {},
     "output_type": "display_data"
    },
    {
     "data": {
      "application/vnd.jupyter.widget-view+json": {
       "model_id": "e74aa790b1d5452cb0348f61e9b1fa5e",
       "version_major": 2,
       "version_minor": 0
      },
      "text/plain": [
       "Communities progress:   0%|          | 0/3 [00:00<?, ?it/s]"
      ]
     },
     "metadata": {},
     "output_type": "display_data"
    },
    {
     "data": {
      "application/vnd.jupyter.widget-view+json": {
       "model_id": "d4c6ae00433b4457a3c99395e297b5a2",
       "version_major": 2,
       "version_minor": 0
      },
      "text/plain": [
       "Communities progress:   0%|          | 0/3 [00:00<?, ?it/s]"
      ]
     },
     "metadata": {},
     "output_type": "display_data"
    },
    {
     "data": {
      "application/vnd.jupyter.widget-view+json": {
       "model_id": "6d1f919f621442c3bc351d9bcd6de2bb",
       "version_major": 2,
       "version_minor": 0
      },
      "text/plain": [
       "Algorithm Progress:   0%|          | 0/4 [00:00<?, ?it/s]"
      ]
     },
     "metadata": {},
     "output_type": "display_data"
    },
    {
     "data": {
      "application/vnd.jupyter.widget-view+json": {
       "model_id": "58bf8645a18f4a2a8a385ccce459ae00",
       "version_major": 2,
       "version_minor": 0
      },
      "text/plain": [
       "Communities progress:   0%|          | 0/90 [00:00<?, ?it/s]"
      ]
     },
     "metadata": {},
     "output_type": "display_data"
    },
    {
     "data": {
      "application/vnd.jupyter.widget-view+json": {
       "model_id": "a25461c9c360419d9c56532c075f86a9",
       "version_major": 2,
       "version_minor": 0
      },
      "text/plain": [
       "Communities progress:   0%|          | 0/90 [00:00<?, ?it/s]"
      ]
     },
     "metadata": {},
     "output_type": "display_data"
    },
    {
     "data": {
      "application/vnd.jupyter.widget-view+json": {
       "model_id": "b090f5f55961405eae6b939d4c43a9d6",
       "version_major": 2,
       "version_minor": 0
      },
      "text/plain": [
       "Communities progress:   0%|          | 0/90 [00:00<?, ?it/s]"
      ]
     },
     "metadata": {},
     "output_type": "display_data"
    },
    {
     "data": {
      "application/vnd.jupyter.widget-view+json": {
       "model_id": "9eebfda5083344339b05765fbf30a423",
       "version_major": 2,
       "version_minor": 0
      },
      "text/plain": [
       "Communities progress:   0%|          | 0/90 [00:00<?, ?it/s]"
      ]
     },
     "metadata": {},
     "output_type": "display_data"
    },
    {
     "data": {
      "application/vnd.jupyter.widget-view+json": {
       "model_id": "43cbe33a747c4e8cb4df98d1b1bd227d",
       "version_major": 2,
       "version_minor": 0
      },
      "text/plain": [
       "Algorithm Progress:   0%|          | 0/4 [00:00<?, ?it/s]"
      ]
     },
     "metadata": {},
     "output_type": "display_data"
    },
    {
     "data": {
      "application/vnd.jupyter.widget-view+json": {
       "model_id": "470107061dec4c548c3bd7a7cda21219",
       "version_major": 2,
       "version_minor": 0
      },
      "text/plain": [
       "Communities progress:   0%|          | 0/521 [00:00<?, ?it/s]"
      ]
     },
     "metadata": {},
     "output_type": "display_data"
    },
    {
     "data": {
      "application/vnd.jupyter.widget-view+json": {
       "model_id": "05069d11afe1474a8548164f908f27ee",
       "version_major": 2,
       "version_minor": 0
      },
      "text/plain": [
       "Communities progress:   0%|          | 0/511 [00:00<?, ?it/s]"
      ]
     },
     "metadata": {},
     "output_type": "display_data"
    },
    {
     "data": {
      "application/vnd.jupyter.widget-view+json": {
       "model_id": "ba363d8ee84548858b3f785bbd00191f",
       "version_major": 2,
       "version_minor": 0
      },
      "text/plain": [
       "Communities progress:   0%|          | 0/524 [00:00<?, ?it/s]"
      ]
     },
     "metadata": {},
     "output_type": "display_data"
    },
    {
     "data": {
      "application/vnd.jupyter.widget-view+json": {
       "model_id": "9c633be0a134438a95fc43c85bf2a14d",
       "version_major": 2,
       "version_minor": 0
      },
      "text/plain": [
       "Communities progress:   0%|          | 0/508 [00:00<?, ?it/s]"
      ]
     },
     "metadata": {},
     "output_type": "display_data"
    },
    {
     "data": {
      "application/vnd.jupyter.widget-view+json": {
       "model_id": "554b26fa30f64b7383c2236b9481b64f",
       "version_major": 2,
       "version_minor": 0
      },
      "text/plain": [
       "Community Detector Progress:   0%|          | 0/4 [00:00<?, ?it/s]"
      ]
     },
     "metadata": {},
     "output_type": "display_data"
    },
    {
     "data": {
      "application/vnd.jupyter.widget-view+json": {
       "model_id": "c45e91be05494068b57b6901683a2f6b",
       "version_major": 2,
       "version_minor": 0
      },
      "text/plain": [
       "Algorithm Progress:   0%|          | 0/4 [00:00<?, ?it/s]"
      ]
     },
     "metadata": {},
     "output_type": "display_data"
    },
    {
     "data": {
      "application/vnd.jupyter.widget-view+json": {
       "model_id": "77bb54f2bbcc402ab407f5ab2ad1e58b",
       "version_major": 2,
       "version_minor": 0
      },
      "text/plain": [
       "Algorithm Progress:   0%|          | 0/4 [00:00<?, ?it/s]"
      ]
     },
     "metadata": {},
     "output_type": "display_data"
    },
    {
     "data": {
      "application/vnd.jupyter.widget-view+json": {
       "model_id": "8b0958b6f05442368cb3a55f640e97de",
       "version_major": 2,
       "version_minor": 0
      },
      "text/plain": [
       "Communities progress:   0%|          | 0/3 [00:00<?, ?it/s]"
      ]
     },
     "metadata": {},
     "output_type": "display_data"
    },
    {
     "data": {
      "application/vnd.jupyter.widget-view+json": {
       "model_id": "0044c6191c0140cc94423b52bdae8512",
       "version_major": 2,
       "version_minor": 0
      },
      "text/plain": [
       "Communities progress:   0%|          | 0/3 [00:00<?, ?it/s]"
      ]
     },
     "metadata": {},
     "output_type": "display_data"
    },
    {
     "data": {
      "application/vnd.jupyter.widget-view+json": {
       "model_id": "305553a71db046969d0de7b237c39aa5",
       "version_major": 2,
       "version_minor": 0
      },
      "text/plain": [
       "Communities progress:   0%|          | 0/2 [00:00<?, ?it/s]"
      ]
     },
     "metadata": {},
     "output_type": "display_data"
    },
    {
     "data": {
      "application/vnd.jupyter.widget-view+json": {
       "model_id": "3f92702cd64d4d909fcc2cc0f7786aba",
       "version_major": 2,
       "version_minor": 0
      },
      "text/plain": [
       "Communities progress:   0%|          | 0/3 [00:00<?, ?it/s]"
      ]
     },
     "metadata": {},
     "output_type": "display_data"
    },
    {
     "data": {
      "application/vnd.jupyter.widget-view+json": {
       "model_id": "aa44fe040277455ba7c8da5e4b2b8932",
       "version_major": 2,
       "version_minor": 0
      },
      "text/plain": [
       "Algorithm Progress:   0%|          | 0/4 [00:00<?, ?it/s]"
      ]
     },
     "metadata": {},
     "output_type": "display_data"
    },
    {
     "data": {
      "application/vnd.jupyter.widget-view+json": {
       "model_id": "a680897bed7848a78642deff021b3293",
       "version_major": 2,
       "version_minor": 0
      },
      "text/plain": [
       "Communities progress:   0%|          | 0/88 [00:00<?, ?it/s]"
      ]
     },
     "metadata": {},
     "output_type": "display_data"
    },
    {
     "data": {
      "application/vnd.jupyter.widget-view+json": {
       "model_id": "492a0bfa0afe417baae55a8b3799a3e3",
       "version_major": 2,
       "version_minor": 0
      },
      "text/plain": [
       "Communities progress:   0%|          | 0/88 [00:00<?, ?it/s]"
      ]
     },
     "metadata": {},
     "output_type": "display_data"
    },
    {
     "data": {
      "application/vnd.jupyter.widget-view+json": {
       "model_id": "ff229e7fd96543948cdb876e5faed5c5",
       "version_major": 2,
       "version_minor": 0
      },
      "text/plain": [
       "Communities progress:   0%|          | 0/88 [00:00<?, ?it/s]"
      ]
     },
     "metadata": {},
     "output_type": "display_data"
    },
    {
     "data": {
      "application/vnd.jupyter.widget-view+json": {
       "model_id": "3b339ea479ec49cb943c208154736ce9",
       "version_major": 2,
       "version_minor": 0
      },
      "text/plain": [
       "Communities progress:   0%|          | 0/88 [00:00<?, ?it/s]"
      ]
     },
     "metadata": {},
     "output_type": "display_data"
    },
    {
     "data": {
      "application/vnd.jupyter.widget-view+json": {
       "model_id": "fc702b16640946fb8e1c9840a30f6791",
       "version_major": 2,
       "version_minor": 0
      },
      "text/plain": [
       "Algorithm Progress:   0%|          | 0/4 [00:00<?, ?it/s]"
      ]
     },
     "metadata": {},
     "output_type": "display_data"
    },
    {
     "data": {
      "application/vnd.jupyter.widget-view+json": {
       "model_id": "afa7d9718dd34e6a9ed58f9ac4113e5b",
       "version_major": 2,
       "version_minor": 0
      },
      "text/plain": [
       "Communities progress:   0%|          | 0/492 [00:00<?, ?it/s]"
      ]
     },
     "metadata": {},
     "output_type": "display_data"
    },
    {
     "data": {
      "application/vnd.jupyter.widget-view+json": {
       "model_id": "cfaaf40c86d5496086900a3307d4f557",
       "version_major": 2,
       "version_minor": 0
      },
      "text/plain": [
       "Communities progress:   0%|          | 0/486 [00:00<?, ?it/s]"
      ]
     },
     "metadata": {},
     "output_type": "display_data"
    },
    {
     "data": {
      "application/vnd.jupyter.widget-view+json": {
       "model_id": "1b8ef09426ad47d799b23c37b3ad9f55",
       "version_major": 2,
       "version_minor": 0
      },
      "text/plain": [
       "Communities progress:   0%|          | 0/484 [00:00<?, ?it/s]"
      ]
     },
     "metadata": {},
     "output_type": "display_data"
    },
    {
     "data": {
      "application/vnd.jupyter.widget-view+json": {
       "model_id": "3388e76ed3434753a126468a08c32906",
       "version_major": 2,
       "version_minor": 0
      },
      "text/plain": [
       "Communities progress:   0%|          | 0/490 [00:00<?, ?it/s]"
      ]
     },
     "metadata": {},
     "output_type": "display_data"
    },
    {
     "data": {
      "application/vnd.jupyter.widget-view+json": {
       "model_id": "069e42bcb1764c3da26dc2519600c3c0",
       "version_major": 2,
       "version_minor": 0
      },
      "text/plain": [
       "Splits Progress: 0it [00:00, ?it/s]"
      ]
     },
     "metadata": {},
     "output_type": "display_data"
    },
    {
     "data": {
      "application/vnd.jupyter.widget-view+json": {
       "model_id": "d8e85a52ea5f4b01b7eb10335da2cbc3",
       "version_major": 2,
       "version_minor": 0
      },
      "text/plain": [
       "Similarity Metric Progress:   0%|          | 0/4 [00:00<?, ?it/s]"
      ]
     },
     "metadata": {},
     "output_type": "display_data"
    },
    {
     "data": {
      "application/vnd.jupyter.widget-view+json": {
       "model_id": "1946e1df4adf4c0ab527bb09932a344e",
       "version_major": 2,
       "version_minor": 0
      },
      "text/plain": [
       "Community Detector Progress:   0%|          | 0/4 [00:00<?, ?it/s]"
      ]
     },
     "metadata": {},
     "output_type": "display_data"
    },
    {
     "data": {
      "application/vnd.jupyter.widget-view+json": {
       "model_id": "086bc67f26d6409ba03a7dd8be51d74d",
       "version_major": 2,
       "version_minor": 0
      },
      "text/plain": [
       "Algorithm Progress:   0%|          | 0/4 [00:00<?, ?it/s]"
      ]
     },
     "metadata": {},
     "output_type": "display_data"
    },
    {
     "data": {
      "application/vnd.jupyter.widget-view+json": {
       "model_id": "fc3dae6ea035471bbaebd4b9c00e4e97",
       "version_major": 2,
       "version_minor": 0
      },
      "text/plain": [
       "Algorithm Progress:   0%|          | 0/4 [00:00<?, ?it/s]"
      ]
     },
     "metadata": {},
     "output_type": "display_data"
    },
    {
     "data": {
      "application/vnd.jupyter.widget-view+json": {
       "model_id": "beb2eb6683094cd998213e127100fb14",
       "version_major": 2,
       "version_minor": 0
      },
      "text/plain": [
       "Communities progress:   0%|          | 0/4 [00:00<?, ?it/s]"
      ]
     },
     "metadata": {},
     "output_type": "display_data"
    },
    {
     "data": {
      "application/vnd.jupyter.widget-view+json": {
       "model_id": "dcc23600b4284383a7a0eb70c7584347",
       "version_major": 2,
       "version_minor": 0
      },
      "text/plain": [
       "Communities progress:   0%|          | 0/3 [00:00<?, ?it/s]"
      ]
     },
     "metadata": {},
     "output_type": "display_data"
    },
    {
     "data": {
      "application/vnd.jupyter.widget-view+json": {
       "model_id": "098114eb95b6402f84bfa68836e8e48e",
       "version_major": 2,
       "version_minor": 0
      },
      "text/plain": [
       "Communities progress:   0%|          | 0/3 [00:00<?, ?it/s]"
      ]
     },
     "metadata": {},
     "output_type": "display_data"
    },
    {
     "data": {
      "application/vnd.jupyter.widget-view+json": {
       "model_id": "0170d2c56b9c4ab0b8a6ee493d424203",
       "version_major": 2,
       "version_minor": 0
      },
      "text/plain": [
       "Communities progress:   0%|          | 0/3 [00:00<?, ?it/s]"
      ]
     },
     "metadata": {},
     "output_type": "display_data"
    },
    {
     "data": {
      "application/vnd.jupyter.widget-view+json": {
       "model_id": "4a3fd2f2e40d4338a485cac41d3632f6",
       "version_major": 2,
       "version_minor": 0
      },
      "text/plain": [
       "Algorithm Progress:   0%|          | 0/4 [00:00<?, ?it/s]"
      ]
     },
     "metadata": {},
     "output_type": "display_data"
    },
    {
     "data": {
      "application/vnd.jupyter.widget-view+json": {
       "model_id": "e239283ad8b54063b4af7dce3429cf39",
       "version_major": 2,
       "version_minor": 0
      },
      "text/plain": [
       "Communities progress:   0%|          | 0/2 [00:00<?, ?it/s]"
      ]
     },
     "metadata": {},
     "output_type": "display_data"
    },
    {
     "data": {
      "application/vnd.jupyter.widget-view+json": {
       "model_id": "63ff56a29eda4a5594681aae50fecfff",
       "version_major": 2,
       "version_minor": 0
      },
      "text/plain": [
       "Communities progress:   0%|          | 0/2 [00:00<?, ?it/s]"
      ]
     },
     "metadata": {},
     "output_type": "display_data"
    },
    {
     "data": {
      "application/vnd.jupyter.widget-view+json": {
       "model_id": "69a161e29e5e44f68b0ef4b5281fa172",
       "version_major": 2,
       "version_minor": 0
      },
      "text/plain": [
       "Communities progress:   0%|          | 0/2 [00:00<?, ?it/s]"
      ]
     },
     "metadata": {},
     "output_type": "display_data"
    },
    {
     "data": {
      "application/vnd.jupyter.widget-view+json": {
       "model_id": "b3e4988a11fd40d1a91bafba96c33848",
       "version_major": 2,
       "version_minor": 0
      },
      "text/plain": [
       "Communities progress:   0%|          | 0/2 [00:00<?, ?it/s]"
      ]
     },
     "metadata": {},
     "output_type": "display_data"
    },
    {
     "data": {
      "application/vnd.jupyter.widget-view+json": {
       "model_id": "fd7f21924b0e40818910caba1be6ed7f",
       "version_major": 2,
       "version_minor": 0
      },
      "text/plain": [
       "Algorithm Progress:   0%|          | 0/4 [00:00<?, ?it/s]"
      ]
     },
     "metadata": {},
     "output_type": "display_data"
    },
    {
     "data": {
      "application/vnd.jupyter.widget-view+json": {
       "model_id": "4a3293ed424a423f9a51177273e6b0d6",
       "version_major": 2,
       "version_minor": 0
      },
      "text/plain": [
       "Communities progress:   0%|          | 0/465 [00:00<?, ?it/s]"
      ]
     },
     "metadata": {},
     "output_type": "display_data"
    },
    {
     "data": {
      "application/vnd.jupyter.widget-view+json": {
       "model_id": "0052cd012525404285729f5bfb8b2023",
       "version_major": 2,
       "version_minor": 0
      },
      "text/plain": [
       "Communities progress:   0%|          | 0/462 [00:00<?, ?it/s]"
      ]
     },
     "metadata": {},
     "output_type": "display_data"
    },
    {
     "data": {
      "application/vnd.jupyter.widget-view+json": {
       "model_id": "7fa0f445c53946918dd0b161b6fa0a34",
       "version_major": 2,
       "version_minor": 0
      },
      "text/plain": [
       "Communities progress:   0%|          | 0/469 [00:00<?, ?it/s]"
      ]
     },
     "metadata": {},
     "output_type": "display_data"
    },
    {
     "data": {
      "application/vnd.jupyter.widget-view+json": {
       "model_id": "15ecbd9046e14624a98066e306ef3c7e",
       "version_major": 2,
       "version_minor": 0
      },
      "text/plain": [
       "Communities progress:   0%|          | 0/449 [00:00<?, ?it/s]"
      ]
     },
     "metadata": {},
     "output_type": "display_data"
    },
    {
     "data": {
      "application/vnd.jupyter.widget-view+json": {
       "model_id": "034e4837442044579ffae388a09661b8",
       "version_major": 2,
       "version_minor": 0
      },
      "text/plain": [
       "Community Detector Progress:   0%|          | 0/4 [00:00<?, ?it/s]"
      ]
     },
     "metadata": {},
     "output_type": "display_data"
    },
    {
     "data": {
      "application/vnd.jupyter.widget-view+json": {
       "model_id": "caa8bcd65e8846c5a758eb05d7a9e3de",
       "version_major": 2,
       "version_minor": 0
      },
      "text/plain": [
       "Algorithm Progress:   0%|          | 0/4 [00:00<?, ?it/s]"
      ]
     },
     "metadata": {},
     "output_type": "display_data"
    },
    {
     "data": {
      "application/vnd.jupyter.widget-view+json": {
       "model_id": "f7ab91fee79a4bf494b8e4facabd016a",
       "version_major": 2,
       "version_minor": 0
      },
      "text/plain": [
       "Algorithm Progress:   0%|          | 0/4 [00:00<?, ?it/s]"
      ]
     },
     "metadata": {},
     "output_type": "display_data"
    },
    {
     "data": {
      "application/vnd.jupyter.widget-view+json": {
       "model_id": "0ff87d9d52824ceb85bd6a908deba3ec",
       "version_major": 2,
       "version_minor": 0
      },
      "text/plain": [
       "Communities progress:   0%|          | 0/3 [00:00<?, ?it/s]"
      ]
     },
     "metadata": {},
     "output_type": "display_data"
    },
    {
     "data": {
      "application/vnd.jupyter.widget-view+json": {
       "model_id": "6feaccc66c7c4ba782129f1d7583418f",
       "version_major": 2,
       "version_minor": 0
      },
      "text/plain": [
       "Communities progress:   0%|          | 0/3 [00:00<?, ?it/s]"
      ]
     },
     "metadata": {},
     "output_type": "display_data"
    },
    {
     "data": {
      "application/vnd.jupyter.widget-view+json": {
       "model_id": "971f6aa2af0349519651a72b9f57c0b7",
       "version_major": 2,
       "version_minor": 0
      },
      "text/plain": [
       "Communities progress:   0%|          | 0/4 [00:00<?, ?it/s]"
      ]
     },
     "metadata": {},
     "output_type": "display_data"
    },
    {
     "data": {
      "application/vnd.jupyter.widget-view+json": {
       "model_id": "595b4dacf385415d91240b82ec37ef5d",
       "version_major": 2,
       "version_minor": 0
      },
      "text/plain": [
       "Communities progress:   0%|          | 0/3 [00:00<?, ?it/s]"
      ]
     },
     "metadata": {},
     "output_type": "display_data"
    },
    {
     "data": {
      "application/vnd.jupyter.widget-view+json": {
       "model_id": "21c3237d5a804d028df95a94ca1d7ab3",
       "version_major": 2,
       "version_minor": 0
      },
      "text/plain": [
       "Algorithm Progress:   0%|          | 0/4 [00:00<?, ?it/s]"
      ]
     },
     "metadata": {},
     "output_type": "display_data"
    },
    {
     "data": {
      "application/vnd.jupyter.widget-view+json": {
       "model_id": "9e627f9b68704ffba972d02319d64a67",
       "version_major": 2,
       "version_minor": 0
      },
      "text/plain": [
       "Communities progress:   0%|          | 0/2 [00:00<?, ?it/s]"
      ]
     },
     "metadata": {},
     "output_type": "display_data"
    },
    {
     "data": {
      "application/vnd.jupyter.widget-view+json": {
       "model_id": "16cea84f50774aa9b788b5e18f85ccb8",
       "version_major": 2,
       "version_minor": 0
      },
      "text/plain": [
       "Communities progress:   0%|          | 0/2 [00:00<?, ?it/s]"
      ]
     },
     "metadata": {},
     "output_type": "display_data"
    },
    {
     "data": {
      "application/vnd.jupyter.widget-view+json": {
       "model_id": "c848a41a83224546adde08e1d6a79805",
       "version_major": 2,
       "version_minor": 0
      },
      "text/plain": [
       "Communities progress:   0%|          | 0/2 [00:00<?, ?it/s]"
      ]
     },
     "metadata": {},
     "output_type": "display_data"
    },
    {
     "data": {
      "application/vnd.jupyter.widget-view+json": {
       "model_id": "197a0d76b7494a75bd96e259d01f2dc7",
       "version_major": 2,
       "version_minor": 0
      },
      "text/plain": [
       "Communities progress:   0%|          | 0/2 [00:00<?, ?it/s]"
      ]
     },
     "metadata": {},
     "output_type": "display_data"
    },
    {
     "data": {
      "application/vnd.jupyter.widget-view+json": {
       "model_id": "acef7a2269b0450b9a15021f99f17794",
       "version_major": 2,
       "version_minor": 0
      },
      "text/plain": [
       "Algorithm Progress:   0%|          | 0/4 [00:00<?, ?it/s]"
      ]
     },
     "metadata": {},
     "output_type": "display_data"
    },
    {
     "data": {
      "application/vnd.jupyter.widget-view+json": {
       "model_id": "15b113c5b8164d45a3cbb06fbbba0995",
       "version_major": 2,
       "version_minor": 0
      },
      "text/plain": [
       "Communities progress:   0%|          | 0/70 [00:00<?, ?it/s]"
      ]
     },
     "metadata": {},
     "output_type": "display_data"
    },
    {
     "data": {
      "application/vnd.jupyter.widget-view+json": {
       "model_id": "14ec0509a7b04626a9dad3bfa535dfab",
       "version_major": 2,
       "version_minor": 0
      },
      "text/plain": [
       "Communities progress:   0%|          | 0/69 [00:00<?, ?it/s]"
      ]
     },
     "metadata": {},
     "output_type": "display_data"
    },
    {
     "data": {
      "application/vnd.jupyter.widget-view+json": {
       "model_id": "1a1ceb27ce4b481d9b87fd3a40a21d59",
       "version_major": 2,
       "version_minor": 0
      },
      "text/plain": [
       "Communities progress:   0%|          | 0/70 [00:00<?, ?it/s]"
      ]
     },
     "metadata": {},
     "output_type": "display_data"
    },
    {
     "data": {
      "application/vnd.jupyter.widget-view+json": {
       "model_id": "10cb94730acf4ae0857e2908a667a009",
       "version_major": 2,
       "version_minor": 0
      },
      "text/plain": [
       "Communities progress:   0%|          | 0/78 [00:00<?, ?it/s]"
      ]
     },
     "metadata": {},
     "output_type": "display_data"
    },
    {
     "data": {
      "application/vnd.jupyter.widget-view+json": {
       "model_id": "3cef9438d6844c4c88c21c4ddc87bcea",
       "version_major": 2,
       "version_minor": 0
      },
      "text/plain": [
       "Community Detector Progress:   0%|          | 0/4 [00:00<?, ?it/s]"
      ]
     },
     "metadata": {},
     "output_type": "display_data"
    },
    {
     "data": {
      "application/vnd.jupyter.widget-view+json": {
       "model_id": "40538c605e0b4e21b86caf74f0a65589",
       "version_major": 2,
       "version_minor": 0
      },
      "text/plain": [
       "Algorithm Progress:   0%|          | 0/4 [00:00<?, ?it/s]"
      ]
     },
     "metadata": {},
     "output_type": "display_data"
    },
    {
     "data": {
      "application/vnd.jupyter.widget-view+json": {
       "model_id": "e69f07addb8b42378d5bfafd5d802b15",
       "version_major": 2,
       "version_minor": 0
      },
      "text/plain": [
       "Algorithm Progress:   0%|          | 0/4 [00:00<?, ?it/s]"
      ]
     },
     "metadata": {},
     "output_type": "display_data"
    },
    {
     "data": {
      "application/vnd.jupyter.widget-view+json": {
       "model_id": "2b5f8ec0beba4f29a838cbea6636eaf8",
       "version_major": 2,
       "version_minor": 0
      },
      "text/plain": [
       "Communities progress:   0%|          | 0/4 [00:00<?, ?it/s]"
      ]
     },
     "metadata": {},
     "output_type": "display_data"
    },
    {
     "data": {
      "application/vnd.jupyter.widget-view+json": {
       "model_id": "50f91658c58e4e04808350e537f8ede4",
       "version_major": 2,
       "version_minor": 0
      },
      "text/plain": [
       "Communities progress:   0%|          | 0/4 [00:00<?, ?it/s]"
      ]
     },
     "metadata": {},
     "output_type": "display_data"
    },
    {
     "data": {
      "application/vnd.jupyter.widget-view+json": {
       "model_id": "503d9ad8b4ca4c0aa83e3e65262d0a84",
       "version_major": 2,
       "version_minor": 0
      },
      "text/plain": [
       "Communities progress:   0%|          | 0/3 [00:00<?, ?it/s]"
      ]
     },
     "metadata": {},
     "output_type": "display_data"
    },
    {
     "data": {
      "application/vnd.jupyter.widget-view+json": {
       "model_id": "5caee2204da64bdaae9b0f2cea0f077e",
       "version_major": 2,
       "version_minor": 0
      },
      "text/plain": [
       "Communities progress:   0%|          | 0/4 [00:00<?, ?it/s]"
      ]
     },
     "metadata": {},
     "output_type": "display_data"
    },
    {
     "data": {
      "application/vnd.jupyter.widget-view+json": {
       "model_id": "506ac32d65b94561ae8cb9c6da72bb94",
       "version_major": 2,
       "version_minor": 0
      },
      "text/plain": [
       "Algorithm Progress:   0%|          | 0/4 [00:00<?, ?it/s]"
      ]
     },
     "metadata": {},
     "output_type": "display_data"
    },
    {
     "data": {
      "application/vnd.jupyter.widget-view+json": {
       "model_id": "6376fc4ad0fa4ac4924978884ff263ba",
       "version_major": 2,
       "version_minor": 0
      },
      "text/plain": [
       "Communities progress:   0%|          | 0/82 [00:00<?, ?it/s]"
      ]
     },
     "metadata": {},
     "output_type": "display_data"
    },
    {
     "data": {
      "application/vnd.jupyter.widget-view+json": {
       "model_id": "9e9e6e91e9aa42619fc415782b57ddc1",
       "version_major": 2,
       "version_minor": 0
      },
      "text/plain": [
       "Communities progress:   0%|          | 0/82 [00:00<?, ?it/s]"
      ]
     },
     "metadata": {},
     "output_type": "display_data"
    },
    {
     "data": {
      "application/vnd.jupyter.widget-view+json": {
       "model_id": "6002522fb70249a28d394ff72fccc1da",
       "version_major": 2,
       "version_minor": 0
      },
      "text/plain": [
       "Communities progress:   0%|          | 0/82 [00:00<?, ?it/s]"
      ]
     },
     "metadata": {},
     "output_type": "display_data"
    },
    {
     "data": {
      "application/vnd.jupyter.widget-view+json": {
       "model_id": "374381ff93ae4a39895040dc7bce8a19",
       "version_major": 2,
       "version_minor": 0
      },
      "text/plain": [
       "Communities progress:   0%|          | 0/82 [00:00<?, ?it/s]"
      ]
     },
     "metadata": {},
     "output_type": "display_data"
    },
    {
     "data": {
      "application/vnd.jupyter.widget-view+json": {
       "model_id": "506caf8af722436788d9292a6de97883",
       "version_major": 2,
       "version_minor": 0
      },
      "text/plain": [
       "Algorithm Progress:   0%|          | 0/4 [00:00<?, ?it/s]"
      ]
     },
     "metadata": {},
     "output_type": "display_data"
    },
    {
     "data": {
      "application/vnd.jupyter.widget-view+json": {
       "model_id": "12c7bb751a6149569eaa10607f6acc27",
       "version_major": 2,
       "version_minor": 0
      },
      "text/plain": [
       "Communities progress:   0%|          | 0/494 [00:00<?, ?it/s]"
      ]
     },
     "metadata": {},
     "output_type": "display_data"
    },
    {
     "data": {
      "application/vnd.jupyter.widget-view+json": {
       "model_id": "b58d5bfae8c346b9a56824e66491926e",
       "version_major": 2,
       "version_minor": 0
      },
      "text/plain": [
       "Communities progress:   0%|          | 0/514 [00:00<?, ?it/s]"
      ]
     },
     "metadata": {},
     "output_type": "display_data"
    },
    {
     "data": {
      "application/vnd.jupyter.widget-view+json": {
       "model_id": "c78ea8f0b8ec45268a9f9f69231a1364",
       "version_major": 2,
       "version_minor": 0
      },
      "text/plain": [
       "Communities progress:   0%|          | 0/492 [00:00<?, ?it/s]"
      ]
     },
     "metadata": {},
     "output_type": "display_data"
    },
    {
     "data": {
      "application/vnd.jupyter.widget-view+json": {
       "model_id": "d0558d5f537d4ef2b9f65afa21413c3f",
       "version_major": 2,
       "version_minor": 0
      },
      "text/plain": [
       "Communities progress:   0%|          | 0/491 [00:00<?, ?it/s]"
      ]
     },
     "metadata": {},
     "output_type": "display_data"
    },
    {
     "data": {
      "application/vnd.jupyter.widget-view+json": {
       "model_id": "025165395435490dbbba879d501e6071",
       "version_major": 2,
       "version_minor": 0
      },
      "text/plain": [
       "Community Detector Progress:   0%|          | 0/4 [00:00<?, ?it/s]"
      ]
     },
     "metadata": {},
     "output_type": "display_data"
    },
    {
     "data": {
      "application/vnd.jupyter.widget-view+json": {
       "model_id": "9f9814a5d92149c4bffec6ef0d25727f",
       "version_major": 2,
       "version_minor": 0
      },
      "text/plain": [
       "Algorithm Progress:   0%|          | 0/4 [00:00<?, ?it/s]"
      ]
     },
     "metadata": {},
     "output_type": "display_data"
    },
    {
     "data": {
      "application/vnd.jupyter.widget-view+json": {
       "model_id": "01865bf4d3e94a4fbd4a0309212388a9",
       "version_major": 2,
       "version_minor": 0
      },
      "text/plain": [
       "Algorithm Progress:   0%|          | 0/4 [00:00<?, ?it/s]"
      ]
     },
     "metadata": {},
     "output_type": "display_data"
    },
    {
     "data": {
      "application/vnd.jupyter.widget-view+json": {
       "model_id": "cee5c44ea8c742789fe76720eb4b1126",
       "version_major": 2,
       "version_minor": 0
      },
      "text/plain": [
       "Communities progress:   0%|          | 0/3 [00:00<?, ?it/s]"
      ]
     },
     "metadata": {},
     "output_type": "display_data"
    },
    {
     "data": {
      "application/vnd.jupyter.widget-view+json": {
       "model_id": "6fde102ee2f34291865a8b50ca60374c",
       "version_major": 2,
       "version_minor": 0
      },
      "text/plain": [
       "Communities progress:   0%|          | 0/3 [00:00<?, ?it/s]"
      ]
     },
     "metadata": {},
     "output_type": "display_data"
    },
    {
     "data": {
      "application/vnd.jupyter.widget-view+json": {
       "model_id": "ccdc000c3c0c4f089419e4c7b8f28132",
       "version_major": 2,
       "version_minor": 0
      },
      "text/plain": [
       "Communities progress:   0%|          | 0/3 [00:00<?, ?it/s]"
      ]
     },
     "metadata": {},
     "output_type": "display_data"
    },
    {
     "data": {
      "application/vnd.jupyter.widget-view+json": {
       "model_id": "50551b920a5645c6a811b75488a25f7b",
       "version_major": 2,
       "version_minor": 0
      },
      "text/plain": [
       "Communities progress:   0%|          | 0/3 [00:00<?, ?it/s]"
      ]
     },
     "metadata": {},
     "output_type": "display_data"
    },
    {
     "data": {
      "application/vnd.jupyter.widget-view+json": {
       "model_id": "fb8cbaa22b35494595c498bab913753b",
       "version_major": 2,
       "version_minor": 0
      },
      "text/plain": [
       "Algorithm Progress:   0%|          | 0/4 [00:00<?, ?it/s]"
      ]
     },
     "metadata": {},
     "output_type": "display_data"
    },
    {
     "data": {
      "application/vnd.jupyter.widget-view+json": {
       "model_id": "296f915c8314492b969a4995dbfa6f70",
       "version_major": 2,
       "version_minor": 0
      },
      "text/plain": [
       "Communities progress:   0%|          | 0/2 [00:00<?, ?it/s]"
      ]
     },
     "metadata": {},
     "output_type": "display_data"
    },
    {
     "data": {
      "application/vnd.jupyter.widget-view+json": {
       "model_id": "2ec37896889d41c192493d100584dcf0",
       "version_major": 2,
       "version_minor": 0
      },
      "text/plain": [
       "Communities progress:   0%|          | 0/2 [00:00<?, ?it/s]"
      ]
     },
     "metadata": {},
     "output_type": "display_data"
    },
    {
     "data": {
      "application/vnd.jupyter.widget-view+json": {
       "model_id": "7c8f763b45204fcc9eed1c7e6421fe59",
       "version_major": 2,
       "version_minor": 0
      },
      "text/plain": [
       "Communities progress:   0%|          | 0/2 [00:00<?, ?it/s]"
      ]
     },
     "metadata": {},
     "output_type": "display_data"
    },
    {
     "data": {
      "application/vnd.jupyter.widget-view+json": {
       "model_id": "15eaac297278489ca0d9cfe694cf0be8",
       "version_major": 2,
       "version_minor": 0
      },
      "text/plain": [
       "Communities progress:   0%|          | 0/2 [00:00<?, ?it/s]"
      ]
     },
     "metadata": {},
     "output_type": "display_data"
    },
    {
     "data": {
      "application/vnd.jupyter.widget-view+json": {
       "model_id": "1799c05ea2f24f0fa18c2623b308d6d4",
       "version_major": 2,
       "version_minor": 0
      },
      "text/plain": [
       "Algorithm Progress:   0%|          | 0/4 [00:00<?, ?it/s]"
      ]
     },
     "metadata": {},
     "output_type": "display_data"
    },
    {
     "data": {
      "application/vnd.jupyter.widget-view+json": {
       "model_id": "ce3a5f0d33ea4f51844dd11694d33d7f",
       "version_major": 2,
       "version_minor": 0
      },
      "text/plain": [
       "Communities progress:   0%|          | 0/470 [00:00<?, ?it/s]"
      ]
     },
     "metadata": {},
     "output_type": "display_data"
    },
    {
     "data": {
      "application/vnd.jupyter.widget-view+json": {
       "model_id": "738f09c99b9a45908ce6669d9c5675b1",
       "version_major": 2,
       "version_minor": 0
      },
      "text/plain": [
       "Communities progress:   0%|          | 0/465 [00:00<?, ?it/s]"
      ]
     },
     "metadata": {},
     "output_type": "display_data"
    },
    {
     "data": {
      "application/vnd.jupyter.widget-view+json": {
       "model_id": "00a18d977bcd441f9629ec17f2782747",
       "version_major": 2,
       "version_minor": 0
      },
      "text/plain": [
       "Communities progress:   0%|          | 0/471 [00:00<?, ?it/s]"
      ]
     },
     "metadata": {},
     "output_type": "display_data"
    },
    {
     "data": {
      "application/vnd.jupyter.widget-view+json": {
       "model_id": "99c626a7a1ef4ccd960f6cad23a771df",
       "version_major": 2,
       "version_minor": 0
      },
      "text/plain": [
       "Communities progress:   0%|          | 0/463 [00:00<?, ?it/s]"
      ]
     },
     "metadata": {},
     "output_type": "display_data"
    },
    {
     "data": {
      "application/vnd.jupyter.widget-view+json": {
       "model_id": "b1918599f3194e96b08a8e713260457b",
       "version_major": 2,
       "version_minor": 0
      },
      "text/plain": [
       "Similarity Metric Progress:   0%|          | 0/4 [00:00<?, ?it/s]"
      ]
     },
     "metadata": {},
     "output_type": "display_data"
    },
    {
     "data": {
      "application/vnd.jupyter.widget-view+json": {
       "model_id": "e544a947735249818d88ba9f3014e80c",
       "version_major": 2,
       "version_minor": 0
      },
      "text/plain": [
       "Community Detector Progress:   0%|          | 0/4 [00:00<?, ?it/s]"
      ]
     },
     "metadata": {},
     "output_type": "display_data"
    },
    {
     "data": {
      "application/vnd.jupyter.widget-view+json": {
       "model_id": "32e43769fbb54e079c96f71240908011",
       "version_major": 2,
       "version_minor": 0
      },
      "text/plain": [
       "Algorithm Progress:   0%|          | 0/4 [00:00<?, ?it/s]"
      ]
     },
     "metadata": {},
     "output_type": "display_data"
    },
    {
     "data": {
      "application/vnd.jupyter.widget-view+json": {
       "model_id": "1074f7eb1c014876828ac6025c20c7f9",
       "version_major": 2,
       "version_minor": 0
      },
      "text/plain": [
       "Algorithm Progress:   0%|          | 0/4 [00:00<?, ?it/s]"
      ]
     },
     "metadata": {},
     "output_type": "display_data"
    },
    {
     "data": {
      "application/vnd.jupyter.widget-view+json": {
       "model_id": "1df360a1c7504a6d905db14547d8ac56",
       "version_major": 2,
       "version_minor": 0
      },
      "text/plain": [
       "Communities progress:   0%|          | 0/3 [00:00<?, ?it/s]"
      ]
     },
     "metadata": {},
     "output_type": "display_data"
    },
    {
     "data": {
      "application/vnd.jupyter.widget-view+json": {
       "model_id": "2c3c402e70814eeca3444c5fbdc2fcc0",
       "version_major": 2,
       "version_minor": 0
      },
      "text/plain": [
       "Communities progress:   0%|          | 0/3 [00:00<?, ?it/s]"
      ]
     },
     "metadata": {},
     "output_type": "display_data"
    },
    {
     "data": {
      "application/vnd.jupyter.widget-view+json": {
       "model_id": "7cc5520c47c04fb4942b921a0a0d34ec",
       "version_major": 2,
       "version_minor": 0
      },
      "text/plain": [
       "Communities progress:   0%|          | 0/3 [00:00<?, ?it/s]"
      ]
     },
     "metadata": {},
     "output_type": "display_data"
    },
    {
     "data": {
      "application/vnd.jupyter.widget-view+json": {
       "model_id": "89031c70644a471f9613b756ae95d948",
       "version_major": 2,
       "version_minor": 0
      },
      "text/plain": [
       "Communities progress:   0%|          | 0/3 [00:00<?, ?it/s]"
      ]
     },
     "metadata": {},
     "output_type": "display_data"
    },
    {
     "data": {
      "application/vnd.jupyter.widget-view+json": {
       "model_id": "11fe5f6903a6415686a4bc86220721b3",
       "version_major": 2,
       "version_minor": 0
      },
      "text/plain": [
       "Algorithm Progress:   0%|          | 0/4 [00:00<?, ?it/s]"
      ]
     },
     "metadata": {},
     "output_type": "display_data"
    },
    {
     "data": {
      "application/vnd.jupyter.widget-view+json": {
       "model_id": "65e1923111b3435ab6954f61c9b69e71",
       "version_major": 2,
       "version_minor": 0
      },
      "text/plain": [
       "Communities progress:   0%|          | 0/87 [00:00<?, ?it/s]"
      ]
     },
     "metadata": {},
     "output_type": "display_data"
    },
    {
     "data": {
      "application/vnd.jupyter.widget-view+json": {
       "model_id": "b1919637c1b142d8bae8213de762181a",
       "version_major": 2,
       "version_minor": 0
      },
      "text/plain": [
       "Communities progress:   0%|          | 0/87 [00:00<?, ?it/s]"
      ]
     },
     "metadata": {},
     "output_type": "display_data"
    },
    {
     "data": {
      "application/vnd.jupyter.widget-view+json": {
       "model_id": "b49eb42934044c2387e9c4f635f4be13",
       "version_major": 2,
       "version_minor": 0
      },
      "text/plain": [
       "Communities progress:   0%|          | 0/87 [00:00<?, ?it/s]"
      ]
     },
     "metadata": {},
     "output_type": "display_data"
    },
    {
     "data": {
      "application/vnd.jupyter.widget-view+json": {
       "model_id": "3f784fe0c58b4c15b32f5d2b7ff5803f",
       "version_major": 2,
       "version_minor": 0
      },
      "text/plain": [
       "Communities progress:   0%|          | 0/87 [00:00<?, ?it/s]"
      ]
     },
     "metadata": {},
     "output_type": "display_data"
    },
    {
     "data": {
      "application/vnd.jupyter.widget-view+json": {
       "model_id": "f26230666f84404daea2fde48d9ea858",
       "version_major": 2,
       "version_minor": 0
      },
      "text/plain": [
       "Algorithm Progress:   0%|          | 0/4 [00:00<?, ?it/s]"
      ]
     },
     "metadata": {},
     "output_type": "display_data"
    },
    {
     "data": {
      "application/vnd.jupyter.widget-view+json": {
       "model_id": "b48df19d9f4941b3b17a339070991223",
       "version_major": 2,
       "version_minor": 0
      },
      "text/plain": [
       "Communities progress:   0%|          | 0/468 [00:00<?, ?it/s]"
      ]
     },
     "metadata": {},
     "output_type": "display_data"
    },
    {
     "data": {
      "application/vnd.jupyter.widget-view+json": {
       "model_id": "a42fb8519f014293b3376e0d26725049",
       "version_major": 2,
       "version_minor": 0
      },
      "text/plain": [
       "Communities progress:   0%|          | 0/450 [00:00<?, ?it/s]"
      ]
     },
     "metadata": {},
     "output_type": "display_data"
    },
    {
     "data": {
      "application/vnd.jupyter.widget-view+json": {
       "model_id": "7ab8f3a091084bf79772635f801121e4",
       "version_major": 2,
       "version_minor": 0
      },
      "text/plain": [
       "Communities progress:   0%|          | 0/454 [00:00<?, ?it/s]"
      ]
     },
     "metadata": {},
     "output_type": "display_data"
    },
    {
     "data": {
      "application/vnd.jupyter.widget-view+json": {
       "model_id": "99d7e080aaff46f8b69e6c0332d8dcd5",
       "version_major": 2,
       "version_minor": 0
      },
      "text/plain": [
       "Communities progress:   0%|          | 0/442 [00:00<?, ?it/s]"
      ]
     },
     "metadata": {},
     "output_type": "display_data"
    },
    {
     "data": {
      "application/vnd.jupyter.widget-view+json": {
       "model_id": "d7525ae58c254d04a439d25ee1633120",
       "version_major": 2,
       "version_minor": 0
      },
      "text/plain": [
       "Community Detector Progress:   0%|          | 0/4 [00:00<?, ?it/s]"
      ]
     },
     "metadata": {},
     "output_type": "display_data"
    },
    {
     "data": {
      "application/vnd.jupyter.widget-view+json": {
       "model_id": "2bbc5fa7b15949f68fdb7b2832f344c9",
       "version_major": 2,
       "version_minor": 0
      },
      "text/plain": [
       "Algorithm Progress:   0%|          | 0/4 [00:00<?, ?it/s]"
      ]
     },
     "metadata": {},
     "output_type": "display_data"
    },
    {
     "data": {
      "application/vnd.jupyter.widget-view+json": {
       "model_id": "97f545d9fa8b49c899f410220aa49e8b",
       "version_major": 2,
       "version_minor": 0
      },
      "text/plain": [
       "Algorithm Progress:   0%|          | 0/4 [00:00<?, ?it/s]"
      ]
     },
     "metadata": {},
     "output_type": "display_data"
    },
    {
     "data": {
      "application/vnd.jupyter.widget-view+json": {
       "model_id": "bde4859425244847b13363b7aa35f3af",
       "version_major": 2,
       "version_minor": 0
      },
      "text/plain": [
       "Communities progress:   0%|          | 0/3 [00:00<?, ?it/s]"
      ]
     },
     "metadata": {},
     "output_type": "display_data"
    },
    {
     "data": {
      "application/vnd.jupyter.widget-view+json": {
       "model_id": "9492a45060f844fda1636b690b54f44c",
       "version_major": 2,
       "version_minor": 0
      },
      "text/plain": [
       "Communities progress:   0%|          | 0/4 [00:00<?, ?it/s]"
      ]
     },
     "metadata": {},
     "output_type": "display_data"
    },
    {
     "data": {
      "application/vnd.jupyter.widget-view+json": {
       "model_id": "31945c6bdcfa46f783b19228934ee585",
       "version_major": 2,
       "version_minor": 0
      },
      "text/plain": [
       "Communities progress:   0%|          | 0/3 [00:00<?, ?it/s]"
      ]
     },
     "metadata": {},
     "output_type": "display_data"
    },
    {
     "data": {
      "application/vnd.jupyter.widget-view+json": {
       "model_id": "d935548cc13046dcaabbd0922821b698",
       "version_major": 2,
       "version_minor": 0
      },
      "text/plain": [
       "Communities progress:   0%|          | 0/3 [00:00<?, ?it/s]"
      ]
     },
     "metadata": {},
     "output_type": "display_data"
    },
    {
     "data": {
      "application/vnd.jupyter.widget-view+json": {
       "model_id": "eeea14af4d074e9089396953a2073047",
       "version_major": 2,
       "version_minor": 0
      },
      "text/plain": [
       "Algorithm Progress:   0%|          | 0/4 [00:00<?, ?it/s]"
      ]
     },
     "metadata": {},
     "output_type": "display_data"
    },
    {
     "data": {
      "application/vnd.jupyter.widget-view+json": {
       "model_id": "64836835a823437f9537c4eb40e676da",
       "version_major": 2,
       "version_minor": 0
      },
      "text/plain": [
       "Communities progress:   0%|          | 0/2 [00:00<?, ?it/s]"
      ]
     },
     "metadata": {},
     "output_type": "display_data"
    },
    {
     "data": {
      "application/vnd.jupyter.widget-view+json": {
       "model_id": "9dab0300ccf44011950136b86fea99c5",
       "version_major": 2,
       "version_minor": 0
      },
      "text/plain": [
       "Communities progress:   0%|          | 0/2 [00:00<?, ?it/s]"
      ]
     },
     "metadata": {},
     "output_type": "display_data"
    },
    {
     "data": {
      "application/vnd.jupyter.widget-view+json": {
       "model_id": "004f033a2f95423aae05b0c4d77804c8",
       "version_major": 2,
       "version_minor": 0
      },
      "text/plain": [
       "Communities progress:   0%|          | 0/2 [00:00<?, ?it/s]"
      ]
     },
     "metadata": {},
     "output_type": "display_data"
    },
    {
     "data": {
      "application/vnd.jupyter.widget-view+json": {
       "model_id": "d6fe1fbc620e43388932587db80b5043",
       "version_major": 2,
       "version_minor": 0
      },
      "text/plain": [
       "Communities progress:   0%|          | 0/2 [00:00<?, ?it/s]"
      ]
     },
     "metadata": {},
     "output_type": "display_data"
    },
    {
     "data": {
      "application/vnd.jupyter.widget-view+json": {
       "model_id": "4adf58be56b744b09844cbe25c7992f4",
       "version_major": 2,
       "version_minor": 0
      },
      "text/plain": [
       "Algorithm Progress:   0%|          | 0/4 [00:00<?, ?it/s]"
      ]
     },
     "metadata": {},
     "output_type": "display_data"
    },
    {
     "data": {
      "application/vnd.jupyter.widget-view+json": {
       "model_id": "999120f347c1434fbff803fea947a2d5",
       "version_major": 2,
       "version_minor": 0
      },
      "text/plain": [
       "Communities progress:   0%|          | 0/69 [00:00<?, ?it/s]"
      ]
     },
     "metadata": {},
     "output_type": "display_data"
    },
    {
     "data": {
      "application/vnd.jupyter.widget-view+json": {
       "model_id": "0c3423ad744a4992b825041f2438e066",
       "version_major": 2,
       "version_minor": 0
      },
      "text/plain": [
       "Communities progress:   0%|          | 0/77 [00:00<?, ?it/s]"
      ]
     },
     "metadata": {},
     "output_type": "display_data"
    },
    {
     "data": {
      "application/vnd.jupyter.widget-view+json": {
       "model_id": "28303bb008bd4f23ba248041ae687606",
       "version_major": 2,
       "version_minor": 0
      },
      "text/plain": [
       "Communities progress:   0%|          | 0/67 [00:00<?, ?it/s]"
      ]
     },
     "metadata": {},
     "output_type": "display_data"
    },
    {
     "data": {
      "application/vnd.jupyter.widget-view+json": {
       "model_id": "3ffda90ef2a5477fa736484a52d3c0ec",
       "version_major": 2,
       "version_minor": 0
      },
      "text/plain": [
       "Communities progress:   0%|          | 0/77 [00:00<?, ?it/s]"
      ]
     },
     "metadata": {},
     "output_type": "display_data"
    },
    {
     "data": {
      "application/vnd.jupyter.widget-view+json": {
       "model_id": "fa86a400dfdc4ebca843813adf159bc7",
       "version_major": 2,
       "version_minor": 0
      },
      "text/plain": [
       "Community Detector Progress:   0%|          | 0/4 [00:00<?, ?it/s]"
      ]
     },
     "metadata": {},
     "output_type": "display_data"
    },
    {
     "data": {
      "application/vnd.jupyter.widget-view+json": {
       "model_id": "4ef2ff4738b54671b4c02ab801782658",
       "version_major": 2,
       "version_minor": 0
      },
      "text/plain": [
       "Algorithm Progress:   0%|          | 0/4 [00:00<?, ?it/s]"
      ]
     },
     "metadata": {},
     "output_type": "display_data"
    },
    {
     "data": {
      "application/vnd.jupyter.widget-view+json": {
       "model_id": "435422349f7f4dd69e6d1379f34240d7",
       "version_major": 2,
       "version_minor": 0
      },
      "text/plain": [
       "Algorithm Progress:   0%|          | 0/4 [00:00<?, ?it/s]"
      ]
     },
     "metadata": {},
     "output_type": "display_data"
    },
    {
     "data": {
      "application/vnd.jupyter.widget-view+json": {
       "model_id": "d1596616bb074a58ad71b68fa4b3d6cf",
       "version_major": 2,
       "version_minor": 0
      },
      "text/plain": [
       "Communities progress:   0%|          | 0/3 [00:00<?, ?it/s]"
      ]
     },
     "metadata": {},
     "output_type": "display_data"
    },
    {
     "data": {
      "application/vnd.jupyter.widget-view+json": {
       "model_id": "a15473d38f274bed97bdc8370cd8ccda",
       "version_major": 2,
       "version_minor": 0
      },
      "text/plain": [
       "Communities progress:   0%|          | 0/3 [00:00<?, ?it/s]"
      ]
     },
     "metadata": {},
     "output_type": "display_data"
    },
    {
     "data": {
      "application/vnd.jupyter.widget-view+json": {
       "model_id": "f7ec6a49246e4a30bbba34ac8c7264dc",
       "version_major": 2,
       "version_minor": 0
      },
      "text/plain": [
       "Communities progress:   0%|          | 0/3 [00:00<?, ?it/s]"
      ]
     },
     "metadata": {},
     "output_type": "display_data"
    },
    {
     "data": {
      "application/vnd.jupyter.widget-view+json": {
       "model_id": "7894dbfeb06a476c837aaf77e8beeaac",
       "version_major": 2,
       "version_minor": 0
      },
      "text/plain": [
       "Communities progress:   0%|          | 0/3 [00:00<?, ?it/s]"
      ]
     },
     "metadata": {},
     "output_type": "display_data"
    },
    {
     "data": {
      "application/vnd.jupyter.widget-view+json": {
       "model_id": "cec0b3006f8e43b4afa4ec02dd28bddb",
       "version_major": 2,
       "version_minor": 0
      },
      "text/plain": [
       "Algorithm Progress:   0%|          | 0/4 [00:00<?, ?it/s]"
      ]
     },
     "metadata": {},
     "output_type": "display_data"
    },
    {
     "data": {
      "application/vnd.jupyter.widget-view+json": {
       "model_id": "59ead35818a747f29bb23e2ce01c4339",
       "version_major": 2,
       "version_minor": 0
      },
      "text/plain": [
       "Communities progress:   0%|          | 0/2 [00:00<?, ?it/s]"
      ]
     },
     "metadata": {},
     "output_type": "display_data"
    },
    {
     "data": {
      "application/vnd.jupyter.widget-view+json": {
       "model_id": "2a6d02bfa5cf4f319bf59dd1273c841e",
       "version_major": 2,
       "version_minor": 0
      },
      "text/plain": [
       "Communities progress:   0%|          | 0/2 [00:00<?, ?it/s]"
      ]
     },
     "metadata": {},
     "output_type": "display_data"
    },
    {
     "data": {
      "application/vnd.jupyter.widget-view+json": {
       "model_id": "d8d12a31aa7643e386571e3ad63a6271",
       "version_major": 2,
       "version_minor": 0
      },
      "text/plain": [
       "Communities progress:   0%|          | 0/2 [00:00<?, ?it/s]"
      ]
     },
     "metadata": {},
     "output_type": "display_data"
    },
    {
     "data": {
      "application/vnd.jupyter.widget-view+json": {
       "model_id": "6f9b9f9f1a944d8aa26cf19b3ebb7771",
       "version_major": 2,
       "version_minor": 0
      },
      "text/plain": [
       "Communities progress:   0%|          | 0/2 [00:00<?, ?it/s]"
      ]
     },
     "metadata": {},
     "output_type": "display_data"
    },
    {
     "data": {
      "application/vnd.jupyter.widget-view+json": {
       "model_id": "f9c8b350992a4c2b8da40bedf8394fab",
       "version_major": 2,
       "version_minor": 0
      },
      "text/plain": [
       "Algorithm Progress:   0%|          | 0/4 [00:00<?, ?it/s]"
      ]
     },
     "metadata": {},
     "output_type": "display_data"
    },
    {
     "data": {
      "application/vnd.jupyter.widget-view+json": {
       "model_id": "042db8ba70ff49cd9b3b8fc824315350",
       "version_major": 2,
       "version_minor": 0
      },
      "text/plain": [
       "Communities progress:   0%|          | 0/500 [00:00<?, ?it/s]"
      ]
     },
     "metadata": {},
     "output_type": "display_data"
    },
    {
     "data": {
      "application/vnd.jupyter.widget-view+json": {
       "model_id": "3cb7ec0cd89b46d199ba597852e5d885",
       "version_major": 2,
       "version_minor": 0
      },
      "text/plain": [
       "Communities progress:   0%|          | 0/517 [00:00<?, ?it/s]"
      ]
     },
     "metadata": {},
     "output_type": "display_data"
    },
    {
     "data": {
      "application/vnd.jupyter.widget-view+json": {
       "model_id": "2fa2387afcc343619a6757865049b508",
       "version_major": 2,
       "version_minor": 0
      },
      "text/plain": [
       "Communities progress:   0%|          | 0/489 [00:00<?, ?it/s]"
      ]
     },
     "metadata": {},
     "output_type": "display_data"
    },
    {
     "data": {
      "application/vnd.jupyter.widget-view+json": {
       "model_id": "025b5b9ae55b42e8a3c03eae5ce6c3c9",
       "version_major": 2,
       "version_minor": 0
      },
      "text/plain": [
       "Communities progress:   0%|          | 0/477 [00:00<?, ?it/s]"
      ]
     },
     "metadata": {},
     "output_type": "display_data"
    },
    {
     "data": {
      "application/vnd.jupyter.widget-view+json": {
       "model_id": "89b3e87c988b45fbae0b0205616d2ee7",
       "version_major": 2,
       "version_minor": 0
      },
      "text/plain": [
       "Community Detector Progress:   0%|          | 0/4 [00:00<?, ?it/s]"
      ]
     },
     "metadata": {},
     "output_type": "display_data"
    },
    {
     "data": {
      "application/vnd.jupyter.widget-view+json": {
       "model_id": "7ebb4e82c8c745c5a08b070c25559164",
       "version_major": 2,
       "version_minor": 0
      },
      "text/plain": [
       "Algorithm Progress:   0%|          | 0/4 [00:00<?, ?it/s]"
      ]
     },
     "metadata": {},
     "output_type": "display_data"
    },
    {
     "data": {
      "application/vnd.jupyter.widget-view+json": {
       "model_id": "c22de27af48d46e5940447c865183e5e",
       "version_major": 2,
       "version_minor": 0
      },
      "text/plain": [
       "Algorithm Progress:   0%|          | 0/4 [00:00<?, ?it/s]"
      ]
     },
     "metadata": {},
     "output_type": "display_data"
    },
    {
     "data": {
      "application/vnd.jupyter.widget-view+json": {
       "model_id": "9d831743c8e94aba8683d13ac579e69f",
       "version_major": 2,
       "version_minor": 0
      },
      "text/plain": [
       "Communities progress:   0%|          | 0/3 [00:00<?, ?it/s]"
      ]
     },
     "metadata": {},
     "output_type": "display_data"
    },
    {
     "data": {
      "application/vnd.jupyter.widget-view+json": {
       "model_id": "d893d04698574163957ccc80bdc05656",
       "version_major": 2,
       "version_minor": 0
      },
      "text/plain": [
       "Communities progress:   0%|          | 0/3 [00:00<?, ?it/s]"
      ]
     },
     "metadata": {},
     "output_type": "display_data"
    },
    {
     "data": {
      "application/vnd.jupyter.widget-view+json": {
       "model_id": "725ef899f2e84d33a552b79e8a6f59cc",
       "version_major": 2,
       "version_minor": 0
      },
      "text/plain": [
       "Communities progress:   0%|          | 0/3 [00:00<?, ?it/s]"
      ]
     },
     "metadata": {},
     "output_type": "display_data"
    },
    {
     "data": {
      "application/vnd.jupyter.widget-view+json": {
       "model_id": "a96c0b39f74a4b5ba6cb760eeecf7516",
       "version_major": 2,
       "version_minor": 0
      },
      "text/plain": [
       "Communities progress:   0%|          | 0/3 [00:00<?, ?it/s]"
      ]
     },
     "metadata": {},
     "output_type": "display_data"
    },
    {
     "data": {
      "application/vnd.jupyter.widget-view+json": {
       "model_id": "f306c4fbf78641b895fdc845e2aa8b55",
       "version_major": 2,
       "version_minor": 0
      },
      "text/plain": [
       "Algorithm Progress:   0%|          | 0/4 [00:00<?, ?it/s]"
      ]
     },
     "metadata": {},
     "output_type": "display_data"
    },
    {
     "data": {
      "application/vnd.jupyter.widget-view+json": {
       "model_id": "6916312f22134a54ae78741bd2178c97",
       "version_major": 2,
       "version_minor": 0
      },
      "text/plain": [
       "Communities progress:   0%|          | 0/87 [00:00<?, ?it/s]"
      ]
     },
     "metadata": {},
     "output_type": "display_data"
    },
    {
     "data": {
      "application/vnd.jupyter.widget-view+json": {
       "model_id": "61fd8eecf056421484310b7fd7f1e6b6",
       "version_major": 2,
       "version_minor": 0
      },
      "text/plain": [
       "Communities progress:   0%|          | 0/87 [00:00<?, ?it/s]"
      ]
     },
     "metadata": {},
     "output_type": "display_data"
    },
    {
     "data": {
      "application/vnd.jupyter.widget-view+json": {
       "model_id": "5da5a127e2274aa684c3a2f856561649",
       "version_major": 2,
       "version_minor": 0
      },
      "text/plain": [
       "Communities progress:   0%|          | 0/87 [00:00<?, ?it/s]"
      ]
     },
     "metadata": {},
     "output_type": "display_data"
    },
    {
     "data": {
      "application/vnd.jupyter.widget-view+json": {
       "model_id": "5b2f0b0cf1e042acae329ef1c0cc2399",
       "version_major": 2,
       "version_minor": 0
      },
      "text/plain": [
       "Communities progress:   0%|          | 0/87 [00:00<?, ?it/s]"
      ]
     },
     "metadata": {},
     "output_type": "display_data"
    },
    {
     "data": {
      "application/vnd.jupyter.widget-view+json": {
       "model_id": "f431299511204ac381e5436753ad78e3",
       "version_major": 2,
       "version_minor": 0
      },
      "text/plain": [
       "Algorithm Progress:   0%|          | 0/4 [00:00<?, ?it/s]"
      ]
     },
     "metadata": {},
     "output_type": "display_data"
    },
    {
     "data": {
      "application/vnd.jupyter.widget-view+json": {
       "model_id": "49263fc4593e48ac9cf6a0a90094c679",
       "version_major": 2,
       "version_minor": 0
      },
      "text/plain": [
       "Communities progress:   0%|          | 0/439 [00:00<?, ?it/s]"
      ]
     },
     "metadata": {},
     "output_type": "display_data"
    },
    {
     "data": {
      "application/vnd.jupyter.widget-view+json": {
       "model_id": "244d97586ef941b78a161027e81c1232",
       "version_major": 2,
       "version_minor": 0
      },
      "text/plain": [
       "Communities progress:   0%|          | 0/461 [00:00<?, ?it/s]"
      ]
     },
     "metadata": {},
     "output_type": "display_data"
    },
    {
     "data": {
      "application/vnd.jupyter.widget-view+json": {
       "model_id": "5fda0b2ea95d46e2a3204f71e79bd80c",
       "version_major": 2,
       "version_minor": 0
      },
      "text/plain": [
       "Communities progress:   0%|          | 0/458 [00:00<?, ?it/s]"
      ]
     },
     "metadata": {},
     "output_type": "display_data"
    },
    {
     "data": {
      "application/vnd.jupyter.widget-view+json": {
       "model_id": "4591d921dace41ebae425b573c764473",
       "version_major": 2,
       "version_minor": 0
      },
      "text/plain": [
       "Communities progress:   0%|          | 0/451 [00:00<?, ?it/s]"
      ]
     },
     "metadata": {},
     "output_type": "display_data"
    },
    {
     "data": {
      "application/vnd.jupyter.widget-view+json": {
       "model_id": "a2a17435517842fe8351b2afbf62d3d4",
       "version_major": 2,
       "version_minor": 0
      },
      "text/plain": [
       "Similarity Metric Progress:   0%|          | 0/4 [00:00<?, ?it/s]"
      ]
     },
     "metadata": {},
     "output_type": "display_data"
    },
    {
     "data": {
      "application/vnd.jupyter.widget-view+json": {
       "model_id": "5ad2f3d013834e5dac3c4452e64e5f02",
       "version_major": 2,
       "version_minor": 0
      },
      "text/plain": [
       "Community Detector Progress:   0%|          | 0/4 [00:00<?, ?it/s]"
      ]
     },
     "metadata": {},
     "output_type": "display_data"
    },
    {
     "data": {
      "application/vnd.jupyter.widget-view+json": {
       "model_id": "ef63691429c643ac8905c1aec69309df",
       "version_major": 2,
       "version_minor": 0
      },
      "text/plain": [
       "Algorithm Progress:   0%|          | 0/4 [00:00<?, ?it/s]"
      ]
     },
     "metadata": {},
     "output_type": "display_data"
    },
    {
     "data": {
      "application/vnd.jupyter.widget-view+json": {
       "model_id": "d08ffc13271c408cb34ac72bcad9438e",
       "version_major": 2,
       "version_minor": 0
      },
      "text/plain": [
       "Algorithm Progress:   0%|          | 0/4 [00:00<?, ?it/s]"
      ]
     },
     "metadata": {},
     "output_type": "display_data"
    },
    {
     "data": {
      "application/vnd.jupyter.widget-view+json": {
       "model_id": "f003857c0d5a44b4b6dfd46b5be9a1ef",
       "version_major": 2,
       "version_minor": 0
      },
      "text/plain": [
       "Communities progress:   0%|          | 0/3 [00:00<?, ?it/s]"
      ]
     },
     "metadata": {},
     "output_type": "display_data"
    },
    {
     "data": {
      "application/vnd.jupyter.widget-view+json": {
       "model_id": "4538e1d6be1e42b98fe6e67717c0bab3",
       "version_major": 2,
       "version_minor": 0
      },
      "text/plain": [
       "Communities progress:   0%|          | 0/2 [00:00<?, ?it/s]"
      ]
     },
     "metadata": {},
     "output_type": "display_data"
    },
    {
     "data": {
      "application/vnd.jupyter.widget-view+json": {
       "model_id": "0c7762c10d454efba66b57ee059cb52b",
       "version_major": 2,
       "version_minor": 0
      },
      "text/plain": [
       "Communities progress:   0%|          | 0/3 [00:00<?, ?it/s]"
      ]
     },
     "metadata": {},
     "output_type": "display_data"
    },
    {
     "data": {
      "application/vnd.jupyter.widget-view+json": {
       "model_id": "d0b69dc92653474c97248e7585b3c120",
       "version_major": 2,
       "version_minor": 0
      },
      "text/plain": [
       "Communities progress:   0%|          | 0/3 [00:00<?, ?it/s]"
      ]
     },
     "metadata": {},
     "output_type": "display_data"
    },
    {
     "data": {
      "application/vnd.jupyter.widget-view+json": {
       "model_id": "c97a84497c0747f6856c02b4c998181f",
       "version_major": 2,
       "version_minor": 0
      },
      "text/plain": [
       "Algorithm Progress:   0%|          | 0/4 [00:00<?, ?it/s]"
      ]
     },
     "metadata": {},
     "output_type": "display_data"
    },
    {
     "data": {
      "application/vnd.jupyter.widget-view+json": {
       "model_id": "d8b9ffc56be946a5ad2c7584830e63dc",
       "version_major": 2,
       "version_minor": 0
      },
      "text/plain": [
       "Communities progress:   0%|          | 0/2 [00:00<?, ?it/s]"
      ]
     },
     "metadata": {},
     "output_type": "display_data"
    },
    {
     "data": {
      "application/vnd.jupyter.widget-view+json": {
       "model_id": "a67f8fb1fd2d4494a8a4cd4e1e7027b9",
       "version_major": 2,
       "version_minor": 0
      },
      "text/plain": [
       "Communities progress:   0%|          | 0/2 [00:00<?, ?it/s]"
      ]
     },
     "metadata": {},
     "output_type": "display_data"
    },
    {
     "data": {
      "application/vnd.jupyter.widget-view+json": {
       "model_id": "c46fa3f9976a4b5fab79912da1ec2b26",
       "version_major": 2,
       "version_minor": 0
      },
      "text/plain": [
       "Communities progress:   0%|          | 0/2 [00:00<?, ?it/s]"
      ]
     },
     "metadata": {},
     "output_type": "display_data"
    },
    {
     "data": {
      "application/vnd.jupyter.widget-view+json": {
       "model_id": "765ca6b18c424952b33205eaf2374725",
       "version_major": 2,
       "version_minor": 0
      },
      "text/plain": [
       "Communities progress:   0%|          | 0/2 [00:00<?, ?it/s]"
      ]
     },
     "metadata": {},
     "output_type": "display_data"
    },
    {
     "data": {
      "application/vnd.jupyter.widget-view+json": {
       "model_id": "faa4c533b0864952996d31132774e3cc",
       "version_major": 2,
       "version_minor": 0
      },
      "text/plain": [
       "Algorithm Progress:   0%|          | 0/4 [00:00<?, ?it/s]"
      ]
     },
     "metadata": {},
     "output_type": "display_data"
    },
    {
     "data": {
      "application/vnd.jupyter.widget-view+json": {
       "model_id": "c5a37cb7a74c46c783d53a3c36827493",
       "version_major": 2,
       "version_minor": 0
      },
      "text/plain": [
       "Communities progress:   0%|          | 0/460 [00:00<?, ?it/s]"
      ]
     },
     "metadata": {},
     "output_type": "display_data"
    },
    {
     "data": {
      "application/vnd.jupyter.widget-view+json": {
       "model_id": "2880c10457b2450ea1a6953ca38f4118",
       "version_major": 2,
       "version_minor": 0
      },
      "text/plain": [
       "Communities progress:   0%|          | 0/473 [00:00<?, ?it/s]"
      ]
     },
     "metadata": {},
     "output_type": "display_data"
    },
    {
     "data": {
      "application/vnd.jupyter.widget-view+json": {
       "model_id": "1f2f02ceb4a94b78b52182b48fbf67d8",
       "version_major": 2,
       "version_minor": 0
      },
      "text/plain": [
       "Communities progress:   0%|          | 0/468 [00:00<?, ?it/s]"
      ]
     },
     "metadata": {},
     "output_type": "display_data"
    },
    {
     "data": {
      "application/vnd.jupyter.widget-view+json": {
       "model_id": "c25eac723b544e738f32e92ede00c87a",
       "version_major": 2,
       "version_minor": 0
      },
      "text/plain": [
       "Communities progress:   0%|          | 0/457 [00:00<?, ?it/s]"
      ]
     },
     "metadata": {},
     "output_type": "display_data"
    },
    {
     "data": {
      "application/vnd.jupyter.widget-view+json": {
       "model_id": "5a03d04d4be3476d8ea559cdff5d8336",
       "version_major": 2,
       "version_minor": 0
      },
      "text/plain": [
       "Community Detector Progress:   0%|          | 0/4 [00:00<?, ?it/s]"
      ]
     },
     "metadata": {},
     "output_type": "display_data"
    },
    {
     "data": {
      "application/vnd.jupyter.widget-view+json": {
       "model_id": "84994e75907c4d20a35445c5e345923e",
       "version_major": 2,
       "version_minor": 0
      },
      "text/plain": [
       "Algorithm Progress:   0%|          | 0/4 [00:00<?, ?it/s]"
      ]
     },
     "metadata": {},
     "output_type": "display_data"
    },
    {
     "data": {
      "application/vnd.jupyter.widget-view+json": {
       "model_id": "b032e3a1f6a3408787033c77f5c8e237",
       "version_major": 2,
       "version_minor": 0
      },
      "text/plain": [
       "Algorithm Progress:   0%|          | 0/4 [00:00<?, ?it/s]"
      ]
     },
     "metadata": {},
     "output_type": "display_data"
    },
    {
     "data": {
      "application/vnd.jupyter.widget-view+json": {
       "model_id": "cf520ad28d2f489095680cf46af369db",
       "version_major": 2,
       "version_minor": 0
      },
      "text/plain": [
       "Communities progress:   0%|          | 0/3 [00:00<?, ?it/s]"
      ]
     },
     "metadata": {},
     "output_type": "display_data"
    },
    {
     "data": {
      "application/vnd.jupyter.widget-view+json": {
       "model_id": "60d1d5e7f9144761af236d7930ce53d9",
       "version_major": 2,
       "version_minor": 0
      },
      "text/plain": [
       "Communities progress:   0%|          | 0/4 [00:00<?, ?it/s]"
      ]
     },
     "metadata": {},
     "output_type": "display_data"
    },
    {
     "data": {
      "application/vnd.jupyter.widget-view+json": {
       "model_id": "65921c194b5740e394bcf2a321c47696",
       "version_major": 2,
       "version_minor": 0
      },
      "text/plain": [
       "Communities progress:   0%|          | 0/3 [00:00<?, ?it/s]"
      ]
     },
     "metadata": {},
     "output_type": "display_data"
    },
    {
     "data": {
      "application/vnd.jupyter.widget-view+json": {
       "model_id": "994c9a68acc946a2802a50a0d7a61552",
       "version_major": 2,
       "version_minor": 0
      },
      "text/plain": [
       "Communities progress:   0%|          | 0/3 [00:00<?, ?it/s]"
      ]
     },
     "metadata": {},
     "output_type": "display_data"
    },
    {
     "data": {
      "application/vnd.jupyter.widget-view+json": {
       "model_id": "a54b1b07bc914ec18b16b55d2d57cd21",
       "version_major": 2,
       "version_minor": 0
      },
      "text/plain": [
       "Algorithm Progress:   0%|          | 0/4 [00:00<?, ?it/s]"
      ]
     },
     "metadata": {},
     "output_type": "display_data"
    },
    {
     "data": {
      "application/vnd.jupyter.widget-view+json": {
       "model_id": "82db3221123940f6968792ff2b144864",
       "version_major": 2,
       "version_minor": 0
      },
      "text/plain": [
       "Communities progress:   0%|          | 0/2 [00:00<?, ?it/s]"
      ]
     },
     "metadata": {},
     "output_type": "display_data"
    },
    {
     "data": {
      "application/vnd.jupyter.widget-view+json": {
       "model_id": "3ed822e57b104a11bb53165f84eaf162",
       "version_major": 2,
       "version_minor": 0
      },
      "text/plain": [
       "Communities progress:   0%|          | 0/2 [00:00<?, ?it/s]"
      ]
     },
     "metadata": {},
     "output_type": "display_data"
    },
    {
     "data": {
      "application/vnd.jupyter.widget-view+json": {
       "model_id": "222ad8f121aa40d1a4a4bee6b2abd507",
       "version_major": 2,
       "version_minor": 0
      },
      "text/plain": [
       "Communities progress:   0%|          | 0/2 [00:00<?, ?it/s]"
      ]
     },
     "metadata": {},
     "output_type": "display_data"
    },
    {
     "data": {
      "application/vnd.jupyter.widget-view+json": {
       "model_id": "c0728726d7b440d1b04eb665b5eee969",
       "version_major": 2,
       "version_minor": 0
      },
      "text/plain": [
       "Communities progress:   0%|          | 0/2 [00:00<?, ?it/s]"
      ]
     },
     "metadata": {},
     "output_type": "display_data"
    },
    {
     "data": {
      "application/vnd.jupyter.widget-view+json": {
       "model_id": "d530b15a64864b558988a2fd41570c11",
       "version_major": 2,
       "version_minor": 0
      },
      "text/plain": [
       "Algorithm Progress:   0%|          | 0/4 [00:00<?, ?it/s]"
      ]
     },
     "metadata": {},
     "output_type": "display_data"
    },
    {
     "data": {
      "application/vnd.jupyter.widget-view+json": {
       "model_id": "2d4735e185a24c0b8cbe49f70981176b",
       "version_major": 2,
       "version_minor": 0
      },
      "text/plain": [
       "Communities progress:   0%|          | 0/73 [00:00<?, ?it/s]"
      ]
     },
     "metadata": {},
     "output_type": "display_data"
    },
    {
     "data": {
      "application/vnd.jupyter.widget-view+json": {
       "model_id": "6e94d51ab02146acb33d86abc9423f97",
       "version_major": 2,
       "version_minor": 0
      },
      "text/plain": [
       "Communities progress:   0%|          | 0/71 [00:00<?, ?it/s]"
      ]
     },
     "metadata": {},
     "output_type": "display_data"
    },
    {
     "data": {
      "application/vnd.jupyter.widget-view+json": {
       "model_id": "de85e7404329470390c2087da2da8e98",
       "version_major": 2,
       "version_minor": 0
      },
      "text/plain": [
       "Communities progress:   0%|          | 0/72 [00:00<?, ?it/s]"
      ]
     },
     "metadata": {},
     "output_type": "display_data"
    },
    {
     "data": {
      "application/vnd.jupyter.widget-view+json": {
       "model_id": "60e7a9759563488191f23ef84192e7d5",
       "version_major": 2,
       "version_minor": 0
      },
      "text/plain": [
       "Communities progress:   0%|          | 0/71 [00:00<?, ?it/s]"
      ]
     },
     "metadata": {},
     "output_type": "display_data"
    },
    {
     "data": {
      "application/vnd.jupyter.widget-view+json": {
       "model_id": "bc8ecf43c23d467a941f80990b6e76ef",
       "version_major": 2,
       "version_minor": 0
      },
      "text/plain": [
       "Community Detector Progress:   0%|          | 0/4 [00:00<?, ?it/s]"
      ]
     },
     "metadata": {},
     "output_type": "display_data"
    },
    {
     "data": {
      "application/vnd.jupyter.widget-view+json": {
       "model_id": "428c4711370a4513a3b85e625bb92862",
       "version_major": 2,
       "version_minor": 0
      },
      "text/plain": [
       "Algorithm Progress:   0%|          | 0/4 [00:00<?, ?it/s]"
      ]
     },
     "metadata": {},
     "output_type": "display_data"
    },
    {
     "data": {
      "application/vnd.jupyter.widget-view+json": {
       "model_id": "99b67dfac6af4ad89ccea573f1e37782",
       "version_major": 2,
       "version_minor": 0
      },
      "text/plain": [
       "Algorithm Progress:   0%|          | 0/4 [00:00<?, ?it/s]"
      ]
     },
     "metadata": {},
     "output_type": "display_data"
    },
    {
     "data": {
      "application/vnd.jupyter.widget-view+json": {
       "model_id": "b75d1e25a5e44b4ba771e13344762e05",
       "version_major": 2,
       "version_minor": 0
      },
      "text/plain": [
       "Communities progress:   0%|          | 0/3 [00:00<?, ?it/s]"
      ]
     },
     "metadata": {},
     "output_type": "display_data"
    },
    {
     "data": {
      "application/vnd.jupyter.widget-view+json": {
       "model_id": "bf7961b999744d949bcae1da005780f3",
       "version_major": 2,
       "version_minor": 0
      },
      "text/plain": [
       "Communities progress:   0%|          | 0/3 [00:00<?, ?it/s]"
      ]
     },
     "metadata": {},
     "output_type": "display_data"
    },
    {
     "data": {
      "application/vnd.jupyter.widget-view+json": {
       "model_id": "41e91e1417094e2989042821ea89ddf0",
       "version_major": 2,
       "version_minor": 0
      },
      "text/plain": [
       "Communities progress:   0%|          | 0/3 [00:00<?, ?it/s]"
      ]
     },
     "metadata": {},
     "output_type": "display_data"
    },
    {
     "data": {
      "application/vnd.jupyter.widget-view+json": {
       "model_id": "e9371cd0eaf441d786b636e7d2601d5e",
       "version_major": 2,
       "version_minor": 0
      },
      "text/plain": [
       "Communities progress:   0%|          | 0/3 [00:00<?, ?it/s]"
      ]
     },
     "metadata": {},
     "output_type": "display_data"
    },
    {
     "data": {
      "application/vnd.jupyter.widget-view+json": {
       "model_id": "7159926925b94f06897beceab28f52d1",
       "version_major": 2,
       "version_minor": 0
      },
      "text/plain": [
       "Algorithm Progress:   0%|          | 0/4 [00:00<?, ?it/s]"
      ]
     },
     "metadata": {},
     "output_type": "display_data"
    },
    {
     "data": {
      "application/vnd.jupyter.widget-view+json": {
       "model_id": "0cf7c15f2d064465a4fa815fbfc2d447",
       "version_major": 2,
       "version_minor": 0
      },
      "text/plain": [
       "Communities progress:   0%|          | 0/85 [00:00<?, ?it/s]"
      ]
     },
     "metadata": {},
     "output_type": "display_data"
    },
    {
     "data": {
      "application/vnd.jupyter.widget-view+json": {
       "model_id": "b36ba726910f4e5f8e759e5df88f1e82",
       "version_major": 2,
       "version_minor": 0
      },
      "text/plain": [
       "Communities progress:   0%|          | 0/85 [00:00<?, ?it/s]"
      ]
     },
     "metadata": {},
     "output_type": "display_data"
    },
    {
     "data": {
      "application/vnd.jupyter.widget-view+json": {
       "model_id": "46592c0e8b8a446ea6c0b35ddec6ef21",
       "version_major": 2,
       "version_minor": 0
      },
      "text/plain": [
       "Communities progress:   0%|          | 0/85 [00:00<?, ?it/s]"
      ]
     },
     "metadata": {},
     "output_type": "display_data"
    },
    {
     "data": {
      "application/vnd.jupyter.widget-view+json": {
       "model_id": "84b63dacb0884e79bc389f5a3c4be56e",
       "version_major": 2,
       "version_minor": 0
      },
      "text/plain": [
       "Communities progress:   0%|          | 0/85 [00:00<?, ?it/s]"
      ]
     },
     "metadata": {},
     "output_type": "display_data"
    },
    {
     "data": {
      "application/vnd.jupyter.widget-view+json": {
       "model_id": "b1b3b53fe54246849abb586e2fe4f345",
       "version_major": 2,
       "version_minor": 0
      },
      "text/plain": [
       "Algorithm Progress:   0%|          | 0/4 [00:00<?, ?it/s]"
      ]
     },
     "metadata": {},
     "output_type": "display_data"
    },
    {
     "data": {
      "application/vnd.jupyter.widget-view+json": {
       "model_id": "71a8b8cb71344987888a96ef51d212f3",
       "version_major": 2,
       "version_minor": 0
      },
      "text/plain": [
       "Communities progress:   0%|          | 0/495 [00:00<?, ?it/s]"
      ]
     },
     "metadata": {},
     "output_type": "display_data"
    },
    {
     "data": {
      "application/vnd.jupyter.widget-view+json": {
       "model_id": "97b462efa49f46578a69851c2ef5d7bf",
       "version_major": 2,
       "version_minor": 0
      },
      "text/plain": [
       "Communities progress:   0%|          | 0/505 [00:00<?, ?it/s]"
      ]
     },
     "metadata": {},
     "output_type": "display_data"
    },
    {
     "data": {
      "application/vnd.jupyter.widget-view+json": {
       "model_id": "a01f7e43a1d446ffa3329cf521e9c540",
       "version_major": 2,
       "version_minor": 0
      },
      "text/plain": [
       "Communities progress:   0%|          | 0/486 [00:00<?, ?it/s]"
      ]
     },
     "metadata": {},
     "output_type": "display_data"
    },
    {
     "data": {
      "application/vnd.jupyter.widget-view+json": {
       "model_id": "6ef21036e9bb43ad9b5ffa9975980b58",
       "version_major": 2,
       "version_minor": 0
      },
      "text/plain": [
       "Communities progress:   0%|          | 0/568 [00:00<?, ?it/s]"
      ]
     },
     "metadata": {},
     "output_type": "display_data"
    },
    {
     "data": {
      "application/vnd.jupyter.widget-view+json": {
       "model_id": "8e1a6262a591481a9b653c1a6f21d1d5",
       "version_major": 2,
       "version_minor": 0
      },
      "text/plain": [
       "Community Detector Progress:   0%|          | 0/4 [00:00<?, ?it/s]"
      ]
     },
     "metadata": {},
     "output_type": "display_data"
    },
    {
     "data": {
      "application/vnd.jupyter.widget-view+json": {
       "model_id": "32068ace7c37463bb8e606a6667e4021",
       "version_major": 2,
       "version_minor": 0
      },
      "text/plain": [
       "Algorithm Progress:   0%|          | 0/4 [00:00<?, ?it/s]"
      ]
     },
     "metadata": {},
     "output_type": "display_data"
    },
    {
     "data": {
      "application/vnd.jupyter.widget-view+json": {
       "model_id": "73602c6b61bc4db3a89deb69486476fe",
       "version_major": 2,
       "version_minor": 0
      },
      "text/plain": [
       "Algorithm Progress:   0%|          | 0/4 [00:00<?, ?it/s]"
      ]
     },
     "metadata": {},
     "output_type": "display_data"
    },
    {
     "data": {
      "application/vnd.jupyter.widget-view+json": {
       "model_id": "9632a441781e414782eceb6f80c0a697",
       "version_major": 2,
       "version_minor": 0
      },
      "text/plain": [
       "Communities progress:   0%|          | 0/3 [00:00<?, ?it/s]"
      ]
     },
     "metadata": {},
     "output_type": "display_data"
    },
    {
     "data": {
      "application/vnd.jupyter.widget-view+json": {
       "model_id": "ca8fc9745a914e6c95f8a9bd4114491b",
       "version_major": 2,
       "version_minor": 0
      },
      "text/plain": [
       "Communities progress:   0%|          | 0/3 [00:00<?, ?it/s]"
      ]
     },
     "metadata": {},
     "output_type": "display_data"
    },
    {
     "data": {
      "application/vnd.jupyter.widget-view+json": {
       "model_id": "a7a51f4aeb5b432fa5b77d2bef154331",
       "version_major": 2,
       "version_minor": 0
      },
      "text/plain": [
       "Communities progress:   0%|          | 0/2 [00:00<?, ?it/s]"
      ]
     },
     "metadata": {},
     "output_type": "display_data"
    },
    {
     "data": {
      "application/vnd.jupyter.widget-view+json": {
       "model_id": "bba0e70806a9418bb33ae781e75e1827",
       "version_major": 2,
       "version_minor": 0
      },
      "text/plain": [
       "Communities progress:   0%|          | 0/3 [00:00<?, ?it/s]"
      ]
     },
     "metadata": {},
     "output_type": "display_data"
    },
    {
     "data": {
      "application/vnd.jupyter.widget-view+json": {
       "model_id": "cd31c91ef80843f2bd642eaff2e3577f",
       "version_major": 2,
       "version_minor": 0
      },
      "text/plain": [
       "Algorithm Progress:   0%|          | 0/4 [00:00<?, ?it/s]"
      ]
     },
     "metadata": {},
     "output_type": "display_data"
    },
    {
     "data": {
      "application/vnd.jupyter.widget-view+json": {
       "model_id": "0710230b000f4f9f90588889ef45334f",
       "version_major": 2,
       "version_minor": 0
      },
      "text/plain": [
       "Communities progress:   0%|          | 0/2 [00:00<?, ?it/s]"
      ]
     },
     "metadata": {},
     "output_type": "display_data"
    },
    {
     "data": {
      "application/vnd.jupyter.widget-view+json": {
       "model_id": "64c9b7f7cb6c4edcab0c733c51b4a427",
       "version_major": 2,
       "version_minor": 0
      },
      "text/plain": [
       "Communities progress:   0%|          | 0/2 [00:00<?, ?it/s]"
      ]
     },
     "metadata": {},
     "output_type": "display_data"
    },
    {
     "data": {
      "application/vnd.jupyter.widget-view+json": {
       "model_id": "62ef62381fca4632a35a0c9b0793d0de",
       "version_major": 2,
       "version_minor": 0
      },
      "text/plain": [
       "Communities progress:   0%|          | 0/2 [00:00<?, ?it/s]"
      ]
     },
     "metadata": {},
     "output_type": "display_data"
    },
    {
     "data": {
      "application/vnd.jupyter.widget-view+json": {
       "model_id": "253960f65ab14d06a95528c0b8bdc5c3",
       "version_major": 2,
       "version_minor": 0
      },
      "text/plain": [
       "Communities progress:   0%|          | 0/2 [00:00<?, ?it/s]"
      ]
     },
     "metadata": {},
     "output_type": "display_data"
    },
    {
     "data": {
      "application/vnd.jupyter.widget-view+json": {
       "model_id": "782542d7e34341d4b35ccde00e5f8dbf",
       "version_major": 2,
       "version_minor": 0
      },
      "text/plain": [
       "Algorithm Progress:   0%|          | 0/4 [00:00<?, ?it/s]"
      ]
     },
     "metadata": {},
     "output_type": "display_data"
    },
    {
     "data": {
      "application/vnd.jupyter.widget-view+json": {
       "model_id": "602e3fc9b25448adac7e81e835012490",
       "version_major": 2,
       "version_minor": 0
      },
      "text/plain": [
       "Communities progress:   0%|          | 0/448 [00:00<?, ?it/s]"
      ]
     },
     "metadata": {},
     "output_type": "display_data"
    },
    {
     "data": {
      "application/vnd.jupyter.widget-view+json": {
       "model_id": "2ac69b72d47146f6b1628a20cb25a91c",
       "version_major": 2,
       "version_minor": 0
      },
      "text/plain": [
       "Communities progress:   0%|          | 0/457 [00:00<?, ?it/s]"
      ]
     },
     "metadata": {},
     "output_type": "display_data"
    },
    {
     "data": {
      "application/vnd.jupyter.widget-view+json": {
       "model_id": "92a5140e69c44595a8b1f16a84e26ea6",
       "version_major": 2,
       "version_minor": 0
      },
      "text/plain": [
       "Communities progress:   0%|          | 0/463 [00:00<?, ?it/s]"
      ]
     },
     "metadata": {},
     "output_type": "display_data"
    },
    {
     "data": {
      "application/vnd.jupyter.widget-view+json": {
       "model_id": "95b497a0515142c8b4fe74656b84293a",
       "version_major": 2,
       "version_minor": 0
      },
      "text/plain": [
       "Communities progress:   0%|          | 0/463 [00:00<?, ?it/s]"
      ]
     },
     "metadata": {},
     "output_type": "display_data"
    },
    {
     "data": {
      "application/vnd.jupyter.widget-view+json": {
       "model_id": "8c5b3801e02a4292af67b397a8650137",
       "version_major": 2,
       "version_minor": 0
      },
      "text/plain": [
       "Similarity Metric Progress:   0%|          | 0/4 [00:00<?, ?it/s]"
      ]
     },
     "metadata": {},
     "output_type": "display_data"
    },
    {
     "data": {
      "application/vnd.jupyter.widget-view+json": {
       "model_id": "5b67a04496d446288b5ab358dc682177",
       "version_major": 2,
       "version_minor": 0
      },
      "text/plain": [
       "Community Detector Progress:   0%|          | 0/4 [00:00<?, ?it/s]"
      ]
     },
     "metadata": {},
     "output_type": "display_data"
    },
    {
     "data": {
      "application/vnd.jupyter.widget-view+json": {
       "model_id": "46cefcbcca704c11ac3bf3ebe8375aa3",
       "version_major": 2,
       "version_minor": 0
      },
      "text/plain": [
       "Algorithm Progress:   0%|          | 0/4 [00:00<?, ?it/s]"
      ]
     },
     "metadata": {},
     "output_type": "display_data"
    },
    {
     "data": {
      "application/vnd.jupyter.widget-view+json": {
       "model_id": "043c0c956f8340778b237fa660534f40",
       "version_major": 2,
       "version_minor": 0
      },
      "text/plain": [
       "Algorithm Progress:   0%|          | 0/4 [00:00<?, ?it/s]"
      ]
     },
     "metadata": {},
     "output_type": "display_data"
    },
    {
     "data": {
      "application/vnd.jupyter.widget-view+json": {
       "model_id": "5529a2e0ef5b45a49585728582f08ba3",
       "version_major": 2,
       "version_minor": 0
      },
      "text/plain": [
       "Communities progress:   0%|          | 0/4 [00:00<?, ?it/s]"
      ]
     },
     "metadata": {},
     "output_type": "display_data"
    },
    {
     "data": {
      "application/vnd.jupyter.widget-view+json": {
       "model_id": "805af8a08c604f6686ee634e3b9ada9a",
       "version_major": 2,
       "version_minor": 0
      },
      "text/plain": [
       "Communities progress:   0%|          | 0/3 [00:00<?, ?it/s]"
      ]
     },
     "metadata": {},
     "output_type": "display_data"
    },
    {
     "data": {
      "application/vnd.jupyter.widget-view+json": {
       "model_id": "2d09044891884968a6c894ec48815ee2",
       "version_major": 2,
       "version_minor": 0
      },
      "text/plain": [
       "Communities progress:   0%|          | 0/3 [00:00<?, ?it/s]"
      ]
     },
     "metadata": {},
     "output_type": "display_data"
    },
    {
     "data": {
      "application/vnd.jupyter.widget-view+json": {
       "model_id": "341d40362a0f472b8b383e79b35ccf25",
       "version_major": 2,
       "version_minor": 0
      },
      "text/plain": [
       "Communities progress:   0%|          | 0/3 [00:00<?, ?it/s]"
      ]
     },
     "metadata": {},
     "output_type": "display_data"
    },
    {
     "data": {
      "application/vnd.jupyter.widget-view+json": {
       "model_id": "c30dda72faef498ea811ae9ab37aa029",
       "version_major": 2,
       "version_minor": 0
      },
      "text/plain": [
       "Algorithm Progress:   0%|          | 0/4 [00:00<?, ?it/s]"
      ]
     },
     "metadata": {},
     "output_type": "display_data"
    },
    {
     "data": {
      "application/vnd.jupyter.widget-view+json": {
       "model_id": "382b934d28a24ee8ba04a8c745a85be1",
       "version_major": 2,
       "version_minor": 0
      },
      "text/plain": [
       "Communities progress:   0%|          | 0/2 [00:00<?, ?it/s]"
      ]
     },
     "metadata": {},
     "output_type": "display_data"
    },
    {
     "data": {
      "application/vnd.jupyter.widget-view+json": {
       "model_id": "f7463707af044d419621f142b53aaf1f",
       "version_major": 2,
       "version_minor": 0
      },
      "text/plain": [
       "Communities progress:   0%|          | 0/2 [00:00<?, ?it/s]"
      ]
     },
     "metadata": {},
     "output_type": "display_data"
    },
    {
     "data": {
      "application/vnd.jupyter.widget-view+json": {
       "model_id": "994317714cf9456f807a4217d7082f5a",
       "version_major": 2,
       "version_minor": 0
      },
      "text/plain": [
       "Communities progress:   0%|          | 0/2 [00:00<?, ?it/s]"
      ]
     },
     "metadata": {},
     "output_type": "display_data"
    },
    {
     "data": {
      "application/vnd.jupyter.widget-view+json": {
       "model_id": "ba578cad0e184bc9a162efca89a23155",
       "version_major": 2,
       "version_minor": 0
      },
      "text/plain": [
       "Communities progress:   0%|          | 0/2 [00:00<?, ?it/s]"
      ]
     },
     "metadata": {},
     "output_type": "display_data"
    },
    {
     "data": {
      "application/vnd.jupyter.widget-view+json": {
       "model_id": "48916b27fccb49e5ab13e00ed8db1273",
       "version_major": 2,
       "version_minor": 0
      },
      "text/plain": [
       "Algorithm Progress:   0%|          | 0/4 [00:00<?, ?it/s]"
      ]
     },
     "metadata": {},
     "output_type": "display_data"
    },
    {
     "data": {
      "application/vnd.jupyter.widget-view+json": {
       "model_id": "793663d7039b4777b7af506e89045452",
       "version_major": 2,
       "version_minor": 0
      },
      "text/plain": [
       "Communities progress:   0%|          | 0/468 [00:00<?, ?it/s]"
      ]
     },
     "metadata": {},
     "output_type": "display_data"
    },
    {
     "data": {
      "application/vnd.jupyter.widget-view+json": {
       "model_id": "1ef8e32d2c854b108ffc91438f5427f8",
       "version_major": 2,
       "version_minor": 0
      },
      "text/plain": [
       "Communities progress:   0%|          | 0/476 [00:00<?, ?it/s]"
      ]
     },
     "metadata": {},
     "output_type": "display_data"
    },
    {
     "data": {
      "application/vnd.jupyter.widget-view+json": {
       "model_id": "425463e8588346e3814feb3c85b8777e",
       "version_major": 2,
       "version_minor": 0
      },
      "text/plain": [
       "Communities progress:   0%|          | 0/450 [00:00<?, ?it/s]"
      ]
     },
     "metadata": {},
     "output_type": "display_data"
    },
    {
     "data": {
      "application/vnd.jupyter.widget-view+json": {
       "model_id": "01be0a3121744a6fba747912c5ad314f",
       "version_major": 2,
       "version_minor": 0
      },
      "text/plain": [
       "Communities progress:   0%|          | 0/467 [00:00<?, ?it/s]"
      ]
     },
     "metadata": {},
     "output_type": "display_data"
    },
    {
     "data": {
      "application/vnd.jupyter.widget-view+json": {
       "model_id": "35815dea57004f5994922f65bd2a895e",
       "version_major": 2,
       "version_minor": 0
      },
      "text/plain": [
       "Community Detector Progress:   0%|          | 0/4 [00:00<?, ?it/s]"
      ]
     },
     "metadata": {},
     "output_type": "display_data"
    },
    {
     "data": {
      "application/vnd.jupyter.widget-view+json": {
       "model_id": "754c23eeaedd4e9c8281ece4a88e1afb",
       "version_major": 2,
       "version_minor": 0
      },
      "text/plain": [
       "Algorithm Progress:   0%|          | 0/4 [00:00<?, ?it/s]"
      ]
     },
     "metadata": {},
     "output_type": "display_data"
    },
    {
     "data": {
      "application/vnd.jupyter.widget-view+json": {
       "model_id": "102045b219d543bab777600cc228649c",
       "version_major": 2,
       "version_minor": 0
      },
      "text/plain": [
       "Algorithm Progress:   0%|          | 0/4 [00:00<?, ?it/s]"
      ]
     },
     "metadata": {},
     "output_type": "display_data"
    },
    {
     "data": {
      "application/vnd.jupyter.widget-view+json": {
       "model_id": "b6a7167a12e94991b9de88beb8ee22e7",
       "version_major": 2,
       "version_minor": 0
      },
      "text/plain": [
       "Communities progress:   0%|          | 0/3 [00:00<?, ?it/s]"
      ]
     },
     "metadata": {},
     "output_type": "display_data"
    },
    {
     "data": {
      "application/vnd.jupyter.widget-view+json": {
       "model_id": "1c28fa2d55624be1a9b52aa9dcd3d9ff",
       "version_major": 2,
       "version_minor": 0
      },
      "text/plain": [
       "Communities progress:   0%|          | 0/3 [00:00<?, ?it/s]"
      ]
     },
     "metadata": {},
     "output_type": "display_data"
    },
    {
     "data": {
      "application/vnd.jupyter.widget-view+json": {
       "model_id": "43bf007320ac4a149a62bb58ca36594b",
       "version_major": 2,
       "version_minor": 0
      },
      "text/plain": [
       "Communities progress:   0%|          | 0/3 [00:00<?, ?it/s]"
      ]
     },
     "metadata": {},
     "output_type": "display_data"
    },
    {
     "data": {
      "application/vnd.jupyter.widget-view+json": {
       "model_id": "8c9f8276f9934d09aefd88946a9e307e",
       "version_major": 2,
       "version_minor": 0
      },
      "text/plain": [
       "Communities progress:   0%|          | 0/3 [00:00<?, ?it/s]"
      ]
     },
     "metadata": {},
     "output_type": "display_data"
    },
    {
     "data": {
      "application/vnd.jupyter.widget-view+json": {
       "model_id": "d155022987dc4fc7932fb7b47c3aacf5",
       "version_major": 2,
       "version_minor": 0
      },
      "text/plain": [
       "Algorithm Progress:   0%|          | 0/4 [00:00<?, ?it/s]"
      ]
     },
     "metadata": {},
     "output_type": "display_data"
    },
    {
     "data": {
      "application/vnd.jupyter.widget-view+json": {
       "model_id": "a56cb638fd8145519952846a8784d8d0",
       "version_major": 2,
       "version_minor": 0
      },
      "text/plain": [
       "Communities progress:   0%|          | 0/2 [00:00<?, ?it/s]"
      ]
     },
     "metadata": {},
     "output_type": "display_data"
    },
    {
     "data": {
      "application/vnd.jupyter.widget-view+json": {
       "model_id": "9a1c6ff60c28453aac5cfdfdfe227b12",
       "version_major": 2,
       "version_minor": 0
      },
      "text/plain": [
       "Communities progress:   0%|          | 0/2 [00:00<?, ?it/s]"
      ]
     },
     "metadata": {},
     "output_type": "display_data"
    },
    {
     "data": {
      "application/vnd.jupyter.widget-view+json": {
       "model_id": "ba58e6dd163d497c8a271e172fb9afcf",
       "version_major": 2,
       "version_minor": 0
      },
      "text/plain": [
       "Communities progress:   0%|          | 0/2 [00:00<?, ?it/s]"
      ]
     },
     "metadata": {},
     "output_type": "display_data"
    },
    {
     "data": {
      "application/vnd.jupyter.widget-view+json": {
       "model_id": "7d916426ac104f1b8c859196761cb2bd",
       "version_major": 2,
       "version_minor": 0
      },
      "text/plain": [
       "Communities progress:   0%|          | 0/2 [00:00<?, ?it/s]"
      ]
     },
     "metadata": {},
     "output_type": "display_data"
    },
    {
     "data": {
      "application/vnd.jupyter.widget-view+json": {
       "model_id": "72af86dc154d432d8a505ec83bb4ca6d",
       "version_major": 2,
       "version_minor": 0
      },
      "text/plain": [
       "Algorithm Progress:   0%|          | 0/4 [00:00<?, ?it/s]"
      ]
     },
     "metadata": {},
     "output_type": "display_data"
    },
    {
     "data": {
      "application/vnd.jupyter.widget-view+json": {
       "model_id": "5c13a48b07364b7398b5c7515d9dd2ea",
       "version_major": 2,
       "version_minor": 0
      },
      "text/plain": [
       "Communities progress:   0%|          | 0/67 [00:00<?, ?it/s]"
      ]
     },
     "metadata": {},
     "output_type": "display_data"
    },
    {
     "data": {
      "application/vnd.jupyter.widget-view+json": {
       "model_id": "e4915bded1d6470994dcc9ea040e5148",
       "version_major": 2,
       "version_minor": 0
      },
      "text/plain": [
       "Communities progress:   0%|          | 0/73 [00:00<?, ?it/s]"
      ]
     },
     "metadata": {},
     "output_type": "display_data"
    },
    {
     "data": {
      "application/vnd.jupyter.widget-view+json": {
       "model_id": "2c6911de3014469cb5e97f80734c98ae",
       "version_major": 2,
       "version_minor": 0
      },
      "text/plain": [
       "Communities progress:   0%|          | 0/76 [00:00<?, ?it/s]"
      ]
     },
     "metadata": {},
     "output_type": "display_data"
    },
    {
     "data": {
      "application/vnd.jupyter.widget-view+json": {
       "model_id": "2e483b8252c040d5921550aacf35d583",
       "version_major": 2,
       "version_minor": 0
      },
      "text/plain": [
       "Communities progress:   0%|          | 0/73 [00:00<?, ?it/s]"
      ]
     },
     "metadata": {},
     "output_type": "display_data"
    },
    {
     "data": {
      "application/vnd.jupyter.widget-view+json": {
       "model_id": "4101270e636641ab93558e4ea20f4eb4",
       "version_major": 2,
       "version_minor": 0
      },
      "text/plain": [
       "Community Detector Progress:   0%|          | 0/4 [00:00<?, ?it/s]"
      ]
     },
     "metadata": {},
     "output_type": "display_data"
    },
    {
     "data": {
      "application/vnd.jupyter.widget-view+json": {
       "model_id": "d7c60da076b14c39a751fc6f8262e39b",
       "version_major": 2,
       "version_minor": 0
      },
      "text/plain": [
       "Algorithm Progress:   0%|          | 0/4 [00:00<?, ?it/s]"
      ]
     },
     "metadata": {},
     "output_type": "display_data"
    },
    {
     "data": {
      "application/vnd.jupyter.widget-view+json": {
       "model_id": "fb7cbde7c55d4a78a2f915be27628893",
       "version_major": 2,
       "version_minor": 0
      },
      "text/plain": [
       "Algorithm Progress:   0%|          | 0/4 [00:00<?, ?it/s]"
      ]
     },
     "metadata": {},
     "output_type": "display_data"
    },
    {
     "data": {
      "application/vnd.jupyter.widget-view+json": {
       "model_id": "703d12f0a2c34289b50010280e76a9da",
       "version_major": 2,
       "version_minor": 0
      },
      "text/plain": [
       "Communities progress:   0%|          | 0/3 [00:00<?, ?it/s]"
      ]
     },
     "metadata": {},
     "output_type": "display_data"
    },
    {
     "data": {
      "application/vnd.jupyter.widget-view+json": {
       "model_id": "16f5082a57054177ba28e6f50ce7354b",
       "version_major": 2,
       "version_minor": 0
      },
      "text/plain": [
       "Communities progress:   0%|          | 0/3 [00:00<?, ?it/s]"
      ]
     },
     "metadata": {},
     "output_type": "display_data"
    },
    {
     "data": {
      "application/vnd.jupyter.widget-view+json": {
       "model_id": "4bfd33e050e74ea484d516df605db0a6",
       "version_major": 2,
       "version_minor": 0
      },
      "text/plain": [
       "Communities progress:   0%|          | 0/3 [00:00<?, ?it/s]"
      ]
     },
     "metadata": {},
     "output_type": "display_data"
    },
    {
     "data": {
      "application/vnd.jupyter.widget-view+json": {
       "model_id": "ca54603b6a3b46e99b19097ee3227168",
       "version_major": 2,
       "version_minor": 0
      },
      "text/plain": [
       "Communities progress:   0%|          | 0/3 [00:00<?, ?it/s]"
      ]
     },
     "metadata": {},
     "output_type": "display_data"
    },
    {
     "data": {
      "application/vnd.jupyter.widget-view+json": {
       "model_id": "f912e3b8d308494dbd0fa606770f7899",
       "version_major": 2,
       "version_minor": 0
      },
      "text/plain": [
       "Algorithm Progress:   0%|          | 0/4 [00:00<?, ?it/s]"
      ]
     },
     "metadata": {},
     "output_type": "display_data"
    },
    {
     "data": {
      "application/vnd.jupyter.widget-view+json": {
       "model_id": "557d775242a24fd98dda349d13f8437b",
       "version_major": 2,
       "version_minor": 0
      },
      "text/plain": [
       "Communities progress:   0%|          | 0/2 [00:00<?, ?it/s]"
      ]
     },
     "metadata": {},
     "output_type": "display_data"
    },
    {
     "data": {
      "application/vnd.jupyter.widget-view+json": {
       "model_id": "5828162fb0cb45ad88e3b91513a1b5d5",
       "version_major": 2,
       "version_minor": 0
      },
      "text/plain": [
       "Communities progress:   0%|          | 0/2 [00:00<?, ?it/s]"
      ]
     },
     "metadata": {},
     "output_type": "display_data"
    },
    {
     "data": {
      "application/vnd.jupyter.widget-view+json": {
       "model_id": "44f63a96560c42e59a88a1d9180aa2b4",
       "version_major": 2,
       "version_minor": 0
      },
      "text/plain": [
       "Communities progress:   0%|          | 0/2 [00:00<?, ?it/s]"
      ]
     },
     "metadata": {},
     "output_type": "display_data"
    },
    {
     "data": {
      "application/vnd.jupyter.widget-view+json": {
       "model_id": "7b413c738f084f15a72d07c62d8ebd8a",
       "version_major": 2,
       "version_minor": 0
      },
      "text/plain": [
       "Communities progress:   0%|          | 0/2 [00:00<?, ?it/s]"
      ]
     },
     "metadata": {},
     "output_type": "display_data"
    },
    {
     "data": {
      "application/vnd.jupyter.widget-view+json": {
       "model_id": "9ed04187e0394301b14006d74703e741",
       "version_major": 2,
       "version_minor": 0
      },
      "text/plain": [
       "Algorithm Progress:   0%|          | 0/4 [00:00<?, ?it/s]"
      ]
     },
     "metadata": {},
     "output_type": "display_data"
    },
    {
     "data": {
      "application/vnd.jupyter.widget-view+json": {
       "model_id": "78293f7652f2429394d265184e669987",
       "version_major": 2,
       "version_minor": 0
      },
      "text/plain": [
       "Communities progress:   0%|          | 0/500 [00:00<?, ?it/s]"
      ]
     },
     "metadata": {},
     "output_type": "display_data"
    },
    {
     "data": {
      "application/vnd.jupyter.widget-view+json": {
       "model_id": "ec9fef3278424061acaec9d756b1064b",
       "version_major": 2,
       "version_minor": 0
      },
      "text/plain": [
       "Communities progress:   0%|          | 0/564 [00:00<?, ?it/s]"
      ]
     },
     "metadata": {},
     "output_type": "display_data"
    },
    {
     "data": {
      "application/vnd.jupyter.widget-view+json": {
       "model_id": "067fe22d60784cea88d7c9b87be7609d",
       "version_major": 2,
       "version_minor": 0
      },
      "text/plain": [
       "Communities progress:   0%|          | 0/539 [00:00<?, ?it/s]"
      ]
     },
     "metadata": {},
     "output_type": "display_data"
    },
    {
     "data": {
      "application/vnd.jupyter.widget-view+json": {
       "model_id": "2518067a88b84a2c932c880f9de41a64",
       "version_major": 2,
       "version_minor": 0
      },
      "text/plain": [
       "Communities progress:   0%|          | 0/490 [00:00<?, ?it/s]"
      ]
     },
     "metadata": {},
     "output_type": "display_data"
    },
    {
     "data": {
      "application/vnd.jupyter.widget-view+json": {
       "model_id": "0cbc4e3c6ab443818d60375fab7d8b6c",
       "version_major": 2,
       "version_minor": 0
      },
      "text/plain": [
       "Community Detector Progress:   0%|          | 0/4 [00:00<?, ?it/s]"
      ]
     },
     "metadata": {},
     "output_type": "display_data"
    },
    {
     "data": {
      "application/vnd.jupyter.widget-view+json": {
       "model_id": "f79439fff1524592af0e31014985754d",
       "version_major": 2,
       "version_minor": 0
      },
      "text/plain": [
       "Algorithm Progress:   0%|          | 0/4 [00:00<?, ?it/s]"
      ]
     },
     "metadata": {},
     "output_type": "display_data"
    },
    {
     "data": {
      "application/vnd.jupyter.widget-view+json": {
       "model_id": "a789b4d235ce4fda819c7c4ab40efa80",
       "version_major": 2,
       "version_minor": 0
      },
      "text/plain": [
       "Algorithm Progress:   0%|          | 0/4 [00:00<?, ?it/s]"
      ]
     },
     "metadata": {},
     "output_type": "display_data"
    },
    {
     "data": {
      "application/vnd.jupyter.widget-view+json": {
       "model_id": "b76f2652e6924b6baa967497bf14a604",
       "version_major": 2,
       "version_minor": 0
      },
      "text/plain": [
       "Communities progress:   0%|          | 0/3 [00:00<?, ?it/s]"
      ]
     },
     "metadata": {},
     "output_type": "display_data"
    },
    {
     "data": {
      "application/vnd.jupyter.widget-view+json": {
       "model_id": "bb14e1823df348eb9b1bb46e43b0c4cf",
       "version_major": 2,
       "version_minor": 0
      },
      "text/plain": [
       "Communities progress:   0%|          | 0/4 [00:00<?, ?it/s]"
      ]
     },
     "metadata": {},
     "output_type": "display_data"
    },
    {
     "data": {
      "application/vnd.jupyter.widget-view+json": {
       "model_id": "e0c8a936660c4c70a41c1f3bd5b928e3",
       "version_major": 2,
       "version_minor": 0
      },
      "text/plain": [
       "Communities progress:   0%|          | 0/3 [00:00<?, ?it/s]"
      ]
     },
     "metadata": {},
     "output_type": "display_data"
    },
    {
     "data": {
      "application/vnd.jupyter.widget-view+json": {
       "model_id": "0ba937a94c714a598f3e8018160d7cda",
       "version_major": 2,
       "version_minor": 0
      },
      "text/plain": [
       "Communities progress:   0%|          | 0/3 [00:00<?, ?it/s]"
      ]
     },
     "metadata": {},
     "output_type": "display_data"
    },
    {
     "data": {
      "application/vnd.jupyter.widget-view+json": {
       "model_id": "628da7f8a6eb4bcab52d8e45bcc2cb83",
       "version_major": 2,
       "version_minor": 0
      },
      "text/plain": [
       "Algorithm Progress:   0%|          | 0/4 [00:00<?, ?it/s]"
      ]
     },
     "metadata": {},
     "output_type": "display_data"
    },
    {
     "data": {
      "application/vnd.jupyter.widget-view+json": {
       "model_id": "32b0c5e0532b4e4692dd9b59f3020db6",
       "version_major": 2,
       "version_minor": 0
      },
      "text/plain": [
       "Communities progress:   0%|          | 0/2 [00:00<?, ?it/s]"
      ]
     },
     "metadata": {},
     "output_type": "display_data"
    },
    {
     "data": {
      "application/vnd.jupyter.widget-view+json": {
       "model_id": "149cd67be21143ba8ffd21020023d1a3",
       "version_major": 2,
       "version_minor": 0
      },
      "text/plain": [
       "Communities progress:   0%|          | 0/2 [00:00<?, ?it/s]"
      ]
     },
     "metadata": {},
     "output_type": "display_data"
    },
    {
     "data": {
      "application/vnd.jupyter.widget-view+json": {
       "model_id": "9a330e68f3e3489b9b74eecfde1f1110",
       "version_major": 2,
       "version_minor": 0
      },
      "text/plain": [
       "Communities progress:   0%|          | 0/2 [00:00<?, ?it/s]"
      ]
     },
     "metadata": {},
     "output_type": "display_data"
    },
    {
     "data": {
      "application/vnd.jupyter.widget-view+json": {
       "model_id": "fb942d4a418540e2afbaa548eb0462a8",
       "version_major": 2,
       "version_minor": 0
      },
      "text/plain": [
       "Communities progress:   0%|          | 0/2 [00:00<?, ?it/s]"
      ]
     },
     "metadata": {},
     "output_type": "display_data"
    },
    {
     "data": {
      "application/vnd.jupyter.widget-view+json": {
       "model_id": "7206fc99fedf4753bc9879f55cd8bc81",
       "version_major": 2,
       "version_minor": 0
      },
      "text/plain": [
       "Algorithm Progress:   0%|          | 0/4 [00:00<?, ?it/s]"
      ]
     },
     "metadata": {},
     "output_type": "display_data"
    },
    {
     "data": {
      "application/vnd.jupyter.widget-view+json": {
       "model_id": "6550b353943446079dc949f2a81cbb4c",
       "version_major": 2,
       "version_minor": 0
      },
      "text/plain": [
       "Communities progress:   0%|          | 0/472 [00:00<?, ?it/s]"
      ]
     },
     "metadata": {},
     "output_type": "display_data"
    },
    {
     "data": {
      "application/vnd.jupyter.widget-view+json": {
       "model_id": "e611c4ef6e0844e0bbb8b86017cb78d9",
       "version_major": 2,
       "version_minor": 0
      },
      "text/plain": [
       "Communities progress:   0%|          | 0/469 [00:00<?, ?it/s]"
      ]
     },
     "metadata": {},
     "output_type": "display_data"
    },
    {
     "data": {
      "application/vnd.jupyter.widget-view+json": {
       "model_id": "4ba48bc67ced4411a0428a7f374e6889",
       "version_major": 2,
       "version_minor": 0
      },
      "text/plain": [
       "Communities progress:   0%|          | 0/483 [00:00<?, ?it/s]"
      ]
     },
     "metadata": {},
     "output_type": "display_data"
    },
    {
     "data": {
      "application/vnd.jupyter.widget-view+json": {
       "model_id": "3b861281baa443e2a309c5e54c8c7063",
       "version_major": 2,
       "version_minor": 0
      },
      "text/plain": [
       "Communities progress:   0%|          | 0/474 [00:00<?, ?it/s]"
      ]
     },
     "metadata": {},
     "output_type": "display_data"
    },
    {
     "data": {
      "application/vnd.jupyter.widget-view+json": {
       "model_id": "cf52db960a2342a88e89b5d2b0e2f246",
       "version_major": 2,
       "version_minor": 0
      },
      "text/plain": [
       "Similarity Metric Progress:   0%|          | 0/4 [00:00<?, ?it/s]"
      ]
     },
     "metadata": {},
     "output_type": "display_data"
    },
    {
     "data": {
      "application/vnd.jupyter.widget-view+json": {
       "model_id": "5e7e6cbf79414e2893e28753812f201e",
       "version_major": 2,
       "version_minor": 0
      },
      "text/plain": [
       "Community Detector Progress:   0%|          | 0/4 [00:00<?, ?it/s]"
      ]
     },
     "metadata": {},
     "output_type": "display_data"
    },
    {
     "data": {
      "application/vnd.jupyter.widget-view+json": {
       "model_id": "99bde8f7efc249a6934aa1e03a299a24",
       "version_major": 2,
       "version_minor": 0
      },
      "text/plain": [
       "Algorithm Progress:   0%|          | 0/4 [00:00<?, ?it/s]"
      ]
     },
     "metadata": {},
     "output_type": "display_data"
    },
    {
     "data": {
      "application/vnd.jupyter.widget-view+json": {
       "model_id": "5f544b3971d0490aa2a20d0b3f60f114",
       "version_major": 2,
       "version_minor": 0
      },
      "text/plain": [
       "Algorithm Progress:   0%|          | 0/4 [00:00<?, ?it/s]"
      ]
     },
     "metadata": {},
     "output_type": "display_data"
    },
    {
     "data": {
      "application/vnd.jupyter.widget-view+json": {
       "model_id": "f2c23c69234a40a6b083187bfaa8bed2",
       "version_major": 2,
       "version_minor": 0
      },
      "text/plain": [
       "Communities progress:   0%|          | 0/3 [00:00<?, ?it/s]"
      ]
     },
     "metadata": {},
     "output_type": "display_data"
    },
    {
     "data": {
      "application/vnd.jupyter.widget-view+json": {
       "model_id": "9b1596b61aa84e8a90140dd220002a66",
       "version_major": 2,
       "version_minor": 0
      },
      "text/plain": [
       "Communities progress:   0%|          | 0/3 [00:00<?, ?it/s]"
      ]
     },
     "metadata": {},
     "output_type": "display_data"
    },
    {
     "data": {
      "application/vnd.jupyter.widget-view+json": {
       "model_id": "0bb9ccd426e84bb287e602dece360bc5",
       "version_major": 2,
       "version_minor": 0
      },
      "text/plain": [
       "Communities progress:   0%|          | 0/3 [00:00<?, ?it/s]"
      ]
     },
     "metadata": {},
     "output_type": "display_data"
    },
    {
     "data": {
      "application/vnd.jupyter.widget-view+json": {
       "model_id": "b50e09390c2f40b98607cbf736a090ed",
       "version_major": 2,
       "version_minor": 0
      },
      "text/plain": [
       "Communities progress:   0%|          | 0/4 [00:00<?, ?it/s]"
      ]
     },
     "metadata": {},
     "output_type": "display_data"
    },
    {
     "data": {
      "application/vnd.jupyter.widget-view+json": {
       "model_id": "a758ffceb4cf471c8c40c18d52d06907",
       "version_major": 2,
       "version_minor": 0
      },
      "text/plain": [
       "Algorithm Progress:   0%|          | 0/4 [00:00<?, ?it/s]"
      ]
     },
     "metadata": {},
     "output_type": "display_data"
    },
    {
     "data": {
      "application/vnd.jupyter.widget-view+json": {
       "model_id": "e205268e58c74212bb13d416ea9d93ad",
       "version_major": 2,
       "version_minor": 0
      },
      "text/plain": [
       "Communities progress:   0%|          | 0/104 [00:00<?, ?it/s]"
      ]
     },
     "metadata": {},
     "output_type": "display_data"
    },
    {
     "data": {
      "application/vnd.jupyter.widget-view+json": {
       "model_id": "f4392ed8db7841a4a16afa0abd5b90e3",
       "version_major": 2,
       "version_minor": 0
      },
      "text/plain": [
       "Communities progress:   0%|          | 0/104 [00:00<?, ?it/s]"
      ]
     },
     "metadata": {},
     "output_type": "display_data"
    },
    {
     "data": {
      "application/vnd.jupyter.widget-view+json": {
       "model_id": "8a600441c0704c41a3af4ecd3403cf96",
       "version_major": 2,
       "version_minor": 0
      },
      "text/plain": [
       "Communities progress:   0%|          | 0/104 [00:00<?, ?it/s]"
      ]
     },
     "metadata": {},
     "output_type": "display_data"
    },
    {
     "data": {
      "application/vnd.jupyter.widget-view+json": {
       "model_id": "9b20d222283a4a1baf2363b481c788dc",
       "version_major": 2,
       "version_minor": 0
      },
      "text/plain": [
       "Communities progress:   0%|          | 0/104 [00:00<?, ?it/s]"
      ]
     },
     "metadata": {},
     "output_type": "display_data"
    },
    {
     "data": {
      "application/vnd.jupyter.widget-view+json": {
       "model_id": "6e453afa46354de3aff90210ab67e042",
       "version_major": 2,
       "version_minor": 0
      },
      "text/plain": [
       "Algorithm Progress:   0%|          | 0/4 [00:00<?, ?it/s]"
      ]
     },
     "metadata": {},
     "output_type": "display_data"
    },
    {
     "data": {
      "application/vnd.jupyter.widget-view+json": {
       "model_id": "34078b095bbf47419cdfd5f0f5f65058",
       "version_major": 2,
       "version_minor": 0
      },
      "text/plain": [
       "Communities progress:   0%|          | 0/473 [00:00<?, ?it/s]"
      ]
     },
     "metadata": {},
     "output_type": "display_data"
    },
    {
     "data": {
      "application/vnd.jupyter.widget-view+json": {
       "model_id": "9a91bb997d354a7fbe0cd5ecafb15829",
       "version_major": 2,
       "version_minor": 0
      },
      "text/plain": [
       "Communities progress:   0%|          | 0/460 [00:00<?, ?it/s]"
      ]
     },
     "metadata": {},
     "output_type": "display_data"
    },
    {
     "data": {
      "application/vnd.jupyter.widget-view+json": {
       "model_id": "02abdbc73d39444d8a4d416e4ba22817",
       "version_major": 2,
       "version_minor": 0
      },
      "text/plain": [
       "Communities progress:   0%|          | 0/472 [00:00<?, ?it/s]"
      ]
     },
     "metadata": {},
     "output_type": "display_data"
    },
    {
     "data": {
      "application/vnd.jupyter.widget-view+json": {
       "model_id": "3b92cf93d97e4b27ac350d8e96ae367f",
       "version_major": 2,
       "version_minor": 0
      },
      "text/plain": [
       "Communities progress:   0%|          | 0/461 [00:00<?, ?it/s]"
      ]
     },
     "metadata": {},
     "output_type": "display_data"
    },
    {
     "data": {
      "application/vnd.jupyter.widget-view+json": {
       "model_id": "a8e512cabe7149c49955f272d5d44854",
       "version_major": 2,
       "version_minor": 0
      },
      "text/plain": [
       "Community Detector Progress:   0%|          | 0/4 [00:00<?, ?it/s]"
      ]
     },
     "metadata": {},
     "output_type": "display_data"
    },
    {
     "data": {
      "application/vnd.jupyter.widget-view+json": {
       "model_id": "9c610aa7ec2b4e4794c75e14dfa8b9cd",
       "version_major": 2,
       "version_minor": 0
      },
      "text/plain": [
       "Algorithm Progress:   0%|          | 0/4 [00:00<?, ?it/s]"
      ]
     },
     "metadata": {},
     "output_type": "display_data"
    },
    {
     "data": {
      "application/vnd.jupyter.widget-view+json": {
       "model_id": "7fdded5e9755470b84b38c81e321310d",
       "version_major": 2,
       "version_minor": 0
      },
      "text/plain": [
       "Algorithm Progress:   0%|          | 0/4 [00:00<?, ?it/s]"
      ]
     },
     "metadata": {},
     "output_type": "display_data"
    },
    {
     "data": {
      "application/vnd.jupyter.widget-view+json": {
       "model_id": "44d9935fcebb463a9e03faa07d31f5f6",
       "version_major": 2,
       "version_minor": 0
      },
      "text/plain": [
       "Communities progress:   0%|          | 0/3 [00:00<?, ?it/s]"
      ]
     },
     "metadata": {},
     "output_type": "display_data"
    },
    {
     "data": {
      "application/vnd.jupyter.widget-view+json": {
       "model_id": "dbe7b78424de4d38963a8768d158197a",
       "version_major": 2,
       "version_minor": 0
      },
      "text/plain": [
       "Communities progress:   0%|          | 0/3 [00:00<?, ?it/s]"
      ]
     },
     "metadata": {},
     "output_type": "display_data"
    },
    {
     "data": {
      "application/vnd.jupyter.widget-view+json": {
       "model_id": "a0e10a0b801c47e5a0da6cd86e55688d",
       "version_major": 2,
       "version_minor": 0
      },
      "text/plain": [
       "Communities progress:   0%|          | 0/3 [00:00<?, ?it/s]"
      ]
     },
     "metadata": {},
     "output_type": "display_data"
    },
    {
     "data": {
      "application/vnd.jupyter.widget-view+json": {
       "model_id": "42ed830a6bcd4672b6687707a943af69",
       "version_major": 2,
       "version_minor": 0
      },
      "text/plain": [
       "Communities progress:   0%|          | 0/3 [00:00<?, ?it/s]"
      ]
     },
     "metadata": {},
     "output_type": "display_data"
    },
    {
     "data": {
      "application/vnd.jupyter.widget-view+json": {
       "model_id": "6041e0be21df4f0b98f5fd41ed2d93f6",
       "version_major": 2,
       "version_minor": 0
      },
      "text/plain": [
       "Algorithm Progress:   0%|          | 0/4 [00:00<?, ?it/s]"
      ]
     },
     "metadata": {},
     "output_type": "display_data"
    },
    {
     "data": {
      "application/vnd.jupyter.widget-view+json": {
       "model_id": "b2b78568821e458fab143a6c7a86b004",
       "version_major": 2,
       "version_minor": 0
      },
      "text/plain": [
       "Communities progress:   0%|          | 0/2 [00:00<?, ?it/s]"
      ]
     },
     "metadata": {},
     "output_type": "display_data"
    },
    {
     "data": {
      "application/vnd.jupyter.widget-view+json": {
       "model_id": "830cbddb59654c09bd48eb0db0c4a275",
       "version_major": 2,
       "version_minor": 0
      },
      "text/plain": [
       "Communities progress:   0%|          | 0/2 [00:00<?, ?it/s]"
      ]
     },
     "metadata": {},
     "output_type": "display_data"
    },
    {
     "data": {
      "application/vnd.jupyter.widget-view+json": {
       "model_id": "58c2e0ec26094667b27cdd860caccf3d",
       "version_major": 2,
       "version_minor": 0
      },
      "text/plain": [
       "Communities progress:   0%|          | 0/2 [00:00<?, ?it/s]"
      ]
     },
     "metadata": {},
     "output_type": "display_data"
    },
    {
     "data": {
      "application/vnd.jupyter.widget-view+json": {
       "model_id": "84781b0aac0c4304bbb33396c6854a6f",
       "version_major": 2,
       "version_minor": 0
      },
      "text/plain": [
       "Communities progress:   0%|          | 0/2 [00:00<?, ?it/s]"
      ]
     },
     "metadata": {},
     "output_type": "display_data"
    },
    {
     "data": {
      "application/vnd.jupyter.widget-view+json": {
       "model_id": "4c06aa36e4ba4412809ebce66ef184f6",
       "version_major": 2,
       "version_minor": 0
      },
      "text/plain": [
       "Algorithm Progress:   0%|          | 0/4 [00:00<?, ?it/s]"
      ]
     },
     "metadata": {},
     "output_type": "display_data"
    },
    {
     "data": {
      "application/vnd.jupyter.widget-view+json": {
       "model_id": "aa82745ba84f45d1aec5239c45d56b80",
       "version_major": 2,
       "version_minor": 0
      },
      "text/plain": [
       "Communities progress:   0%|          | 0/76 [00:00<?, ?it/s]"
      ]
     },
     "metadata": {},
     "output_type": "display_data"
    },
    {
     "data": {
      "application/vnd.jupyter.widget-view+json": {
       "model_id": "b71b7df1899f43b8a603f02c6fc774bb",
       "version_major": 2,
       "version_minor": 0
      },
      "text/plain": [
       "Communities progress:   0%|          | 0/75 [00:00<?, ?it/s]"
      ]
     },
     "metadata": {},
     "output_type": "display_data"
    },
    {
     "data": {
      "application/vnd.jupyter.widget-view+json": {
       "model_id": "7fdb2276ce784cf896f5dd08e4b9ecff",
       "version_major": 2,
       "version_minor": 0
      },
      "text/plain": [
       "Communities progress:   0%|          | 0/85 [00:00<?, ?it/s]"
      ]
     },
     "metadata": {},
     "output_type": "display_data"
    },
    {
     "data": {
      "application/vnd.jupyter.widget-view+json": {
       "model_id": "6bd31e8acd1a40a3ac950a061601d59c",
       "version_major": 2,
       "version_minor": 0
      },
      "text/plain": [
       "Communities progress:   0%|          | 0/75 [00:00<?, ?it/s]"
      ]
     },
     "metadata": {},
     "output_type": "display_data"
    },
    {
     "data": {
      "application/vnd.jupyter.widget-view+json": {
       "model_id": "934886a33c6c4932be92925a44371940",
       "version_major": 2,
       "version_minor": 0
      },
      "text/plain": [
       "Community Detector Progress:   0%|          | 0/4 [00:00<?, ?it/s]"
      ]
     },
     "metadata": {},
     "output_type": "display_data"
    },
    {
     "data": {
      "application/vnd.jupyter.widget-view+json": {
       "model_id": "65b6e7f0dea944b9a1375679d4f2c0c6",
       "version_major": 2,
       "version_minor": 0
      },
      "text/plain": [
       "Algorithm Progress:   0%|          | 0/4 [00:00<?, ?it/s]"
      ]
     },
     "metadata": {},
     "output_type": "display_data"
    },
    {
     "data": {
      "application/vnd.jupyter.widget-view+json": {
       "model_id": "bf32ef2cc16a4001989a5de27ce27f47",
       "version_major": 2,
       "version_minor": 0
      },
      "text/plain": [
       "Algorithm Progress:   0%|          | 0/4 [00:00<?, ?it/s]"
      ]
     },
     "metadata": {},
     "output_type": "display_data"
    },
    {
     "data": {
      "application/vnd.jupyter.widget-view+json": {
       "model_id": "b855fb9ab77e4bc3b4a4de0ed24f02c1",
       "version_major": 2,
       "version_minor": 0
      },
      "text/plain": [
       "Communities progress:   0%|          | 0/2 [00:00<?, ?it/s]"
      ]
     },
     "metadata": {},
     "output_type": "display_data"
    },
    {
     "data": {
      "application/vnd.jupyter.widget-view+json": {
       "model_id": "34f3669bd65c4f72a865272f8f79f721",
       "version_major": 2,
       "version_minor": 0
      },
      "text/plain": [
       "Communities progress:   0%|          | 0/3 [00:00<?, ?it/s]"
      ]
     },
     "metadata": {},
     "output_type": "display_data"
    },
    {
     "data": {
      "application/vnd.jupyter.widget-view+json": {
       "model_id": "2eb22ebe4471491c8a7a04e1b6e15c37",
       "version_major": 2,
       "version_minor": 0
      },
      "text/plain": [
       "Communities progress:   0%|          | 0/2 [00:00<?, ?it/s]"
      ]
     },
     "metadata": {},
     "output_type": "display_data"
    },
    {
     "data": {
      "application/vnd.jupyter.widget-view+json": {
       "model_id": "836701848bac4523ae5f956eb4855840",
       "version_major": 2,
       "version_minor": 0
      },
      "text/plain": [
       "Communities progress:   0%|          | 0/2 [00:00<?, ?it/s]"
      ]
     },
     "metadata": {},
     "output_type": "display_data"
    },
    {
     "data": {
      "application/vnd.jupyter.widget-view+json": {
       "model_id": "ffb931dd5fb24b37a7f71952deb5a01a",
       "version_major": 2,
       "version_minor": 0
      },
      "text/plain": [
       "Algorithm Progress:   0%|          | 0/4 [00:00<?, ?it/s]"
      ]
     },
     "metadata": {},
     "output_type": "display_data"
    },
    {
     "data": {
      "application/vnd.jupyter.widget-view+json": {
       "model_id": "746ac7d6c56b47b59cc801da84ce1b5d",
       "version_major": 2,
       "version_minor": 0
      },
      "text/plain": [
       "Communities progress:   0%|          | 0/2 [00:00<?, ?it/s]"
      ]
     },
     "metadata": {},
     "output_type": "display_data"
    },
    {
     "data": {
      "application/vnd.jupyter.widget-view+json": {
       "model_id": "2f59e6951ddf4711815a6b0e6904e388",
       "version_major": 2,
       "version_minor": 0
      },
      "text/plain": [
       "Communities progress:   0%|          | 0/2 [00:00<?, ?it/s]"
      ]
     },
     "metadata": {},
     "output_type": "display_data"
    },
    {
     "data": {
      "application/vnd.jupyter.widget-view+json": {
       "model_id": "a751025f587045ec9a0146de833a8dfa",
       "version_major": 2,
       "version_minor": 0
      },
      "text/plain": [
       "Communities progress:   0%|          | 0/2 [00:00<?, ?it/s]"
      ]
     },
     "metadata": {},
     "output_type": "display_data"
    },
    {
     "data": {
      "application/vnd.jupyter.widget-view+json": {
       "model_id": "14a3bdab1116476d9b6a02694ea83665",
       "version_major": 2,
       "version_minor": 0
      },
      "text/plain": [
       "Communities progress:   0%|          | 0/2 [00:00<?, ?it/s]"
      ]
     },
     "metadata": {},
     "output_type": "display_data"
    },
    {
     "data": {
      "application/vnd.jupyter.widget-view+json": {
       "model_id": "691105c820554bf591c56680a17d483d",
       "version_major": 2,
       "version_minor": 0
      },
      "text/plain": [
       "Algorithm Progress:   0%|          | 0/4 [00:00<?, ?it/s]"
      ]
     },
     "metadata": {},
     "output_type": "display_data"
    },
    {
     "data": {
      "application/vnd.jupyter.widget-view+json": {
       "model_id": "4dc9915d380d475c819339af2149aac8",
       "version_major": 2,
       "version_minor": 0
      },
      "text/plain": [
       "Communities progress:   0%|          | 0/493 [00:00<?, ?it/s]"
      ]
     },
     "metadata": {},
     "output_type": "display_data"
    },
    {
     "data": {
      "application/vnd.jupyter.widget-view+json": {
       "model_id": "5b188533b7be4000b3c52adc26217adf",
       "version_major": 2,
       "version_minor": 0
      },
      "text/plain": [
       "Communities progress:   0%|          | 0/516 [00:00<?, ?it/s]"
      ]
     },
     "metadata": {},
     "output_type": "display_data"
    },
    {
     "data": {
      "application/vnd.jupyter.widget-view+json": {
       "model_id": "4c6d9aac0a7643c6bcccf6f40f88d173",
       "version_major": 2,
       "version_minor": 0
      },
      "text/plain": [
       "Communities progress:   0%|          | 0/492 [00:00<?, ?it/s]"
      ]
     },
     "metadata": {},
     "output_type": "display_data"
    },
    {
     "data": {
      "application/vnd.jupyter.widget-view+json": {
       "model_id": "b69b30f8e6e54ef184dd1202d8bffd05",
       "version_major": 2,
       "version_minor": 0
      },
      "text/plain": [
       "Communities progress:   0%|          | 0/495 [00:00<?, ?it/s]"
      ]
     },
     "metadata": {},
     "output_type": "display_data"
    },
    {
     "data": {
      "application/vnd.jupyter.widget-view+json": {
       "model_id": "06004a1e9d9c497a97facf1b3597a148",
       "version_major": 2,
       "version_minor": 0
      },
      "text/plain": [
       "Community Detector Progress:   0%|          | 0/4 [00:00<?, ?it/s]"
      ]
     },
     "metadata": {},
     "output_type": "display_data"
    },
    {
     "data": {
      "application/vnd.jupyter.widget-view+json": {
       "model_id": "eb3ccc4a35fb47119461030411a426e4",
       "version_major": 2,
       "version_minor": 0
      },
      "text/plain": [
       "Algorithm Progress:   0%|          | 0/4 [00:00<?, ?it/s]"
      ]
     },
     "metadata": {},
     "output_type": "display_data"
    },
    {
     "data": {
      "application/vnd.jupyter.widget-view+json": {
       "model_id": "339aecec64b242e6a10694df219b4793",
       "version_major": 2,
       "version_minor": 0
      },
      "text/plain": [
       "Algorithm Progress:   0%|          | 0/4 [00:00<?, ?it/s]"
      ]
     },
     "metadata": {},
     "output_type": "display_data"
    },
    {
     "data": {
      "application/vnd.jupyter.widget-view+json": {
       "model_id": "3639bfcdcfc047ac8a0ffe9b92768a22",
       "version_major": 2,
       "version_minor": 0
      },
      "text/plain": [
       "Communities progress:   0%|          | 0/4 [00:00<?, ?it/s]"
      ]
     },
     "metadata": {},
     "output_type": "display_data"
    },
    {
     "data": {
      "application/vnd.jupyter.widget-view+json": {
       "model_id": "54569dd5ca6a4be89b17c77174cbbc49",
       "version_major": 2,
       "version_minor": 0
      },
      "text/plain": [
       "Communities progress:   0%|          | 0/3 [00:00<?, ?it/s]"
      ]
     },
     "metadata": {},
     "output_type": "display_data"
    },
    {
     "data": {
      "application/vnd.jupyter.widget-view+json": {
       "model_id": "111680a6f89b433fa122b23ca758b650",
       "version_major": 2,
       "version_minor": 0
      },
      "text/plain": [
       "Communities progress:   0%|          | 0/3 [00:00<?, ?it/s]"
      ]
     },
     "metadata": {},
     "output_type": "display_data"
    },
    {
     "data": {
      "application/vnd.jupyter.widget-view+json": {
       "model_id": "ec92ffeb4cb646d498e055998967f68d",
       "version_major": 2,
       "version_minor": 0
      },
      "text/plain": [
       "Communities progress:   0%|          | 0/3 [00:00<?, ?it/s]"
      ]
     },
     "metadata": {},
     "output_type": "display_data"
    },
    {
     "data": {
      "application/vnd.jupyter.widget-view+json": {
       "model_id": "5a08552e79f44cb0b7a4d752a4e5e32c",
       "version_major": 2,
       "version_minor": 0
      },
      "text/plain": [
       "Algorithm Progress:   0%|          | 0/4 [00:00<?, ?it/s]"
      ]
     },
     "metadata": {},
     "output_type": "display_data"
    },
    {
     "data": {
      "application/vnd.jupyter.widget-view+json": {
       "model_id": "21838cbe50034aa08a0517789087e49e",
       "version_major": 2,
       "version_minor": 0
      },
      "text/plain": [
       "Communities progress:   0%|          | 0/104 [00:00<?, ?it/s]"
      ]
     },
     "metadata": {},
     "output_type": "display_data"
    },
    {
     "data": {
      "application/vnd.jupyter.widget-view+json": {
       "model_id": "b1f51ec0e06742fb9612a96ea490d3c5",
       "version_major": 2,
       "version_minor": 0
      },
      "text/plain": [
       "Communities progress:   0%|          | 0/104 [00:00<?, ?it/s]"
      ]
     },
     "metadata": {},
     "output_type": "display_data"
    },
    {
     "data": {
      "application/vnd.jupyter.widget-view+json": {
       "model_id": "1368c0b36a234a0a947c93dba01469d6",
       "version_major": 2,
       "version_minor": 0
      },
      "text/plain": [
       "Communities progress:   0%|          | 0/104 [00:00<?, ?it/s]"
      ]
     },
     "metadata": {},
     "output_type": "display_data"
    },
    {
     "data": {
      "application/vnd.jupyter.widget-view+json": {
       "model_id": "4bb7cef4a84042d2a81179da4ce25787",
       "version_major": 2,
       "version_minor": 0
      },
      "text/plain": [
       "Communities progress:   0%|          | 0/104 [00:00<?, ?it/s]"
      ]
     },
     "metadata": {},
     "output_type": "display_data"
    },
    {
     "data": {
      "application/vnd.jupyter.widget-view+json": {
       "model_id": "4496ef73a08649c49808ab77a69015d0",
       "version_major": 2,
       "version_minor": 0
      },
      "text/plain": [
       "Algorithm Progress:   0%|          | 0/4 [00:00<?, ?it/s]"
      ]
     },
     "metadata": {},
     "output_type": "display_data"
    },
    {
     "data": {
      "application/vnd.jupyter.widget-view+json": {
       "model_id": "e51590763b244fe3a8172b3da38bb42e",
       "version_major": 2,
       "version_minor": 0
      },
      "text/plain": [
       "Communities progress:   0%|          | 0/455 [00:00<?, ?it/s]"
      ]
     },
     "metadata": {},
     "output_type": "display_data"
    },
    {
     "data": {
      "application/vnd.jupyter.widget-view+json": {
       "model_id": "d3b601890fb148099956ef7398ff5c12",
       "version_major": 2,
       "version_minor": 0
      },
      "text/plain": [
       "Communities progress:   0%|          | 0/514 [00:00<?, ?it/s]"
      ]
     },
     "metadata": {},
     "output_type": "display_data"
    },
    {
     "data": {
      "application/vnd.jupyter.widget-view+json": {
       "model_id": "131de161e11246499485afc5b1f9eb91",
       "version_major": 2,
       "version_minor": 0
      },
      "text/plain": [
       "Communities progress:   0%|          | 0/473 [00:00<?, ?it/s]"
      ]
     },
     "metadata": {},
     "output_type": "display_data"
    },
    {
     "data": {
      "application/vnd.jupyter.widget-view+json": {
       "model_id": "d086105dd379490698ca8c66124e6fd2",
       "version_major": 2,
       "version_minor": 0
      },
      "text/plain": [
       "Communities progress:   0%|          | 0/463 [00:00<?, ?it/s]"
      ]
     },
     "metadata": {},
     "output_type": "display_data"
    },
    {
     "data": {
      "application/vnd.jupyter.widget-view+json": {
       "model_id": "005faabd6d8d4df1807114d30018f49e",
       "version_major": 2,
       "version_minor": 0
      },
      "text/plain": [
       "Similarity Metric Progress:   0%|          | 0/4 [00:00<?, ?it/s]"
      ]
     },
     "metadata": {},
     "output_type": "display_data"
    },
    {
     "data": {
      "application/vnd.jupyter.widget-view+json": {
       "model_id": "4b33afad3cf24658a01d5a891bf27b4f",
       "version_major": 2,
       "version_minor": 0
      },
      "text/plain": [
       "Community Detector Progress:   0%|          | 0/4 [00:00<?, ?it/s]"
      ]
     },
     "metadata": {},
     "output_type": "display_data"
    },
    {
     "data": {
      "application/vnd.jupyter.widget-view+json": {
       "model_id": "9d20f30bc3254e08924b74ca08284de3",
       "version_major": 2,
       "version_minor": 0
      },
      "text/plain": [
       "Algorithm Progress:   0%|          | 0/4 [00:00<?, ?it/s]"
      ]
     },
     "metadata": {},
     "output_type": "display_data"
    },
    {
     "data": {
      "application/vnd.jupyter.widget-view+json": {
       "model_id": "4338460d49ea4bf382dfc0e5f5086917",
       "version_major": 2,
       "version_minor": 0
      },
      "text/plain": [
       "Algorithm Progress:   0%|          | 0/4 [00:00<?, ?it/s]"
      ]
     },
     "metadata": {},
     "output_type": "display_data"
    },
    {
     "data": {
      "application/vnd.jupyter.widget-view+json": {
       "model_id": "f20e3671c7854e8d9286c322d6da4146",
       "version_major": 2,
       "version_minor": 0
      },
      "text/plain": [
       "Communities progress:   0%|          | 0/3 [00:00<?, ?it/s]"
      ]
     },
     "metadata": {},
     "output_type": "display_data"
    },
    {
     "data": {
      "application/vnd.jupyter.widget-view+json": {
       "model_id": "5b4e3fa6244a480a8651c0ad8549a4df",
       "version_major": 2,
       "version_minor": 0
      },
      "text/plain": [
       "Communities progress:   0%|          | 0/3 [00:00<?, ?it/s]"
      ]
     },
     "metadata": {},
     "output_type": "display_data"
    },
    {
     "data": {
      "application/vnd.jupyter.widget-view+json": {
       "model_id": "4bcbbaa206ef49b49bb45149337a52bd",
       "version_major": 2,
       "version_minor": 0
      },
      "text/plain": [
       "Communities progress:   0%|          | 0/3 [00:00<?, ?it/s]"
      ]
     },
     "metadata": {},
     "output_type": "display_data"
    },
    {
     "data": {
      "application/vnd.jupyter.widget-view+json": {
       "model_id": "ed81ba48ef694bf9bf59d68178b74b7e",
       "version_major": 2,
       "version_minor": 0
      },
      "text/plain": [
       "Communities progress:   0%|          | 0/3 [00:00<?, ?it/s]"
      ]
     },
     "metadata": {},
     "output_type": "display_data"
    },
    {
     "data": {
      "application/vnd.jupyter.widget-view+json": {
       "model_id": "be78f06a672941d1a0ec97d50c544106",
       "version_major": 2,
       "version_minor": 0
      },
      "text/plain": [
       "Algorithm Progress:   0%|          | 0/4 [00:00<?, ?it/s]"
      ]
     },
     "metadata": {},
     "output_type": "display_data"
    },
    {
     "data": {
      "application/vnd.jupyter.widget-view+json": {
       "model_id": "3b05801f17c842278680ea770e6d2119",
       "version_major": 2,
       "version_minor": 0
      },
      "text/plain": [
       "Communities progress:   0%|          | 0/87 [00:00<?, ?it/s]"
      ]
     },
     "metadata": {},
     "output_type": "display_data"
    },
    {
     "data": {
      "application/vnd.jupyter.widget-view+json": {
       "model_id": "81e66b83f2d14a4da062437b9103f8e1",
       "version_major": 2,
       "version_minor": 0
      },
      "text/plain": [
       "Communities progress:   0%|          | 0/87 [00:00<?, ?it/s]"
      ]
     },
     "metadata": {},
     "output_type": "display_data"
    },
    {
     "data": {
      "application/vnd.jupyter.widget-view+json": {
       "model_id": "736e537584f840078f71f8e5686c5428",
       "version_major": 2,
       "version_minor": 0
      },
      "text/plain": [
       "Communities progress:   0%|          | 0/87 [00:00<?, ?it/s]"
      ]
     },
     "metadata": {},
     "output_type": "display_data"
    },
    {
     "data": {
      "application/vnd.jupyter.widget-view+json": {
       "model_id": "2715de7c2fcb4168be7f47e737421ca0",
       "version_major": 2,
       "version_minor": 0
      },
      "text/plain": [
       "Communities progress:   0%|          | 0/87 [00:00<?, ?it/s]"
      ]
     },
     "metadata": {},
     "output_type": "display_data"
    },
    {
     "data": {
      "application/vnd.jupyter.widget-view+json": {
       "model_id": "8fffd6946f5c4e9bb43e514b7f0f0585",
       "version_major": 2,
       "version_minor": 0
      },
      "text/plain": [
       "Algorithm Progress:   0%|          | 0/4 [00:00<?, ?it/s]"
      ]
     },
     "metadata": {},
     "output_type": "display_data"
    },
    {
     "data": {
      "application/vnd.jupyter.widget-view+json": {
       "model_id": "f988c76f82aa473a9db48253f3b8b49c",
       "version_major": 2,
       "version_minor": 0
      },
      "text/plain": [
       "Communities progress:   0%|          | 0/465 [00:00<?, ?it/s]"
      ]
     },
     "metadata": {},
     "output_type": "display_data"
    },
    {
     "data": {
      "application/vnd.jupyter.widget-view+json": {
       "model_id": "5a5df0185009423d819f986fa25b0c7c",
       "version_major": 2,
       "version_minor": 0
      },
      "text/plain": [
       "Communities progress:   0%|          | 0/476 [00:00<?, ?it/s]"
      ]
     },
     "metadata": {},
     "output_type": "display_data"
    },
    {
     "data": {
      "application/vnd.jupyter.widget-view+json": {
       "model_id": "c1c1e9027a6c44b3b7b652d994eccf21",
       "version_major": 2,
       "version_minor": 0
      },
      "text/plain": [
       "Communities progress:   0%|          | 0/474 [00:00<?, ?it/s]"
      ]
     },
     "metadata": {},
     "output_type": "display_data"
    },
    {
     "data": {
      "application/vnd.jupyter.widget-view+json": {
       "model_id": "c03fa0b8421945ec8b139115f4d5ee9d",
       "version_major": 2,
       "version_minor": 0
      },
      "text/plain": [
       "Communities progress:   0%|          | 0/465 [00:00<?, ?it/s]"
      ]
     },
     "metadata": {},
     "output_type": "display_data"
    },
    {
     "data": {
      "application/vnd.jupyter.widget-view+json": {
       "model_id": "df7248f312394d2a97e3b70bdca5b10e",
       "version_major": 2,
       "version_minor": 0
      },
      "text/plain": [
       "Community Detector Progress:   0%|          | 0/4 [00:00<?, ?it/s]"
      ]
     },
     "metadata": {},
     "output_type": "display_data"
    },
    {
     "data": {
      "application/vnd.jupyter.widget-view+json": {
       "model_id": "9fff5c7b16d044cd92f91d410ffb0f8d",
       "version_major": 2,
       "version_minor": 0
      },
      "text/plain": [
       "Algorithm Progress:   0%|          | 0/4 [00:00<?, ?it/s]"
      ]
     },
     "metadata": {},
     "output_type": "display_data"
    },
    {
     "data": {
      "application/vnd.jupyter.widget-view+json": {
       "model_id": "a37131c16c374562be13f3d865ec606b",
       "version_major": 2,
       "version_minor": 0
      },
      "text/plain": [
       "Algorithm Progress:   0%|          | 0/4 [00:00<?, ?it/s]"
      ]
     },
     "metadata": {},
     "output_type": "display_data"
    },
    {
     "data": {
      "application/vnd.jupyter.widget-view+json": {
       "model_id": "94649be30f7d4b08af9b1f3f2fd2cd7f",
       "version_major": 2,
       "version_minor": 0
      },
      "text/plain": [
       "Communities progress:   0%|          | 0/3 [00:00<?, ?it/s]"
      ]
     },
     "metadata": {},
     "output_type": "display_data"
    },
    {
     "data": {
      "application/vnd.jupyter.widget-view+json": {
       "model_id": "0d4aad1f01e54361b38246164a0ce2e0",
       "version_major": 2,
       "version_minor": 0
      },
      "text/plain": [
       "Communities progress:   0%|          | 0/3 [00:00<?, ?it/s]"
      ]
     },
     "metadata": {},
     "output_type": "display_data"
    },
    {
     "data": {
      "application/vnd.jupyter.widget-view+json": {
       "model_id": "bccf63c31d7e4c8fa5d83523c0b0bfe6",
       "version_major": 2,
       "version_minor": 0
      },
      "text/plain": [
       "Communities progress:   0%|          | 0/3 [00:00<?, ?it/s]"
      ]
     },
     "metadata": {},
     "output_type": "display_data"
    },
    {
     "data": {
      "application/vnd.jupyter.widget-view+json": {
       "model_id": "aaa58d8061ac46e0b8da554e9141a2c1",
       "version_major": 2,
       "version_minor": 0
      },
      "text/plain": [
       "Communities progress:   0%|          | 0/3 [00:00<?, ?it/s]"
      ]
     },
     "metadata": {},
     "output_type": "display_data"
    },
    {
     "data": {
      "application/vnd.jupyter.widget-view+json": {
       "model_id": "923de173b75a4b8aa3382461e13ce769",
       "version_major": 2,
       "version_minor": 0
      },
      "text/plain": [
       "Algorithm Progress:   0%|          | 0/4 [00:00<?, ?it/s]"
      ]
     },
     "metadata": {},
     "output_type": "display_data"
    },
    {
     "data": {
      "application/vnd.jupyter.widget-view+json": {
       "model_id": "86dcde52076643c89ca925bb6bde8d3b",
       "version_major": 2,
       "version_minor": 0
      },
      "text/plain": [
       "Communities progress:   0%|          | 0/2 [00:00<?, ?it/s]"
      ]
     },
     "metadata": {},
     "output_type": "display_data"
    },
    {
     "data": {
      "application/vnd.jupyter.widget-view+json": {
       "model_id": "db55f3d40e804e1dbeca3f1221e891d3",
       "version_major": 2,
       "version_minor": 0
      },
      "text/plain": [
       "Communities progress:   0%|          | 0/2 [00:00<?, ?it/s]"
      ]
     },
     "metadata": {},
     "output_type": "display_data"
    },
    {
     "data": {
      "application/vnd.jupyter.widget-view+json": {
       "model_id": "c131536eb0b741c59e3b54e3fd8f1772",
       "version_major": 2,
       "version_minor": 0
      },
      "text/plain": [
       "Communities progress:   0%|          | 0/2 [00:00<?, ?it/s]"
      ]
     },
     "metadata": {},
     "output_type": "display_data"
    },
    {
     "data": {
      "application/vnd.jupyter.widget-view+json": {
       "model_id": "174a8cf26ba248c893aefa775a5cc270",
       "version_major": 2,
       "version_minor": 0
      },
      "text/plain": [
       "Communities progress:   0%|          | 0/2 [00:00<?, ?it/s]"
      ]
     },
     "metadata": {},
     "output_type": "display_data"
    },
    {
     "data": {
      "application/vnd.jupyter.widget-view+json": {
       "model_id": "9827cc6be2c24432adf61db2b31b4a1a",
       "version_major": 2,
       "version_minor": 0
      },
      "text/plain": [
       "Algorithm Progress:   0%|          | 0/4 [00:00<?, ?it/s]"
      ]
     },
     "metadata": {},
     "output_type": "display_data"
    },
    {
     "data": {
      "application/vnd.jupyter.widget-view+json": {
       "model_id": "e575faa0d7d54665b686b687e1f875d3",
       "version_major": 2,
       "version_minor": 0
      },
      "text/plain": [
       "Communities progress:   0%|          | 0/73 [00:00<?, ?it/s]"
      ]
     },
     "metadata": {},
     "output_type": "display_data"
    },
    {
     "data": {
      "application/vnd.jupyter.widget-view+json": {
       "model_id": "fa87373cdd4842d0bd63955591c1ef32",
       "version_major": 2,
       "version_minor": 0
      },
      "text/plain": [
       "Communities progress:   0%|          | 0/78 [00:00<?, ?it/s]"
      ]
     },
     "metadata": {},
     "output_type": "display_data"
    },
    {
     "data": {
      "application/vnd.jupyter.widget-view+json": {
       "model_id": "6400f3162c93435abc2d5f5810ca2506",
       "version_major": 2,
       "version_minor": 0
      },
      "text/plain": [
       "Communities progress:   0%|          | 0/76 [00:00<?, ?it/s]"
      ]
     },
     "metadata": {},
     "output_type": "display_data"
    },
    {
     "data": {
      "application/vnd.jupyter.widget-view+json": {
       "model_id": "eb42aaa653984099ac8b5a19b87d45b0",
       "version_major": 2,
       "version_minor": 0
      },
      "text/plain": [
       "Communities progress:   0%|          | 0/71 [00:00<?, ?it/s]"
      ]
     },
     "metadata": {},
     "output_type": "display_data"
    },
    {
     "data": {
      "application/vnd.jupyter.widget-view+json": {
       "model_id": "03be9a364d304cec9fbfc91d0224d7c0",
       "version_major": 2,
       "version_minor": 0
      },
      "text/plain": [
       "Community Detector Progress:   0%|          | 0/4 [00:00<?, ?it/s]"
      ]
     },
     "metadata": {},
     "output_type": "display_data"
    },
    {
     "data": {
      "application/vnd.jupyter.widget-view+json": {
       "model_id": "c1f819e05e5a43739ff226257e46b1b0",
       "version_major": 2,
       "version_minor": 0
      },
      "text/plain": [
       "Algorithm Progress:   0%|          | 0/4 [00:00<?, ?it/s]"
      ]
     },
     "metadata": {},
     "output_type": "display_data"
    },
    {
     "data": {
      "application/vnd.jupyter.widget-view+json": {
       "model_id": "c688948ffe914754997dde090f00f98c",
       "version_major": 2,
       "version_minor": 0
      },
      "text/plain": [
       "Algorithm Progress:   0%|          | 0/4 [00:00<?, ?it/s]"
      ]
     },
     "metadata": {},
     "output_type": "display_data"
    },
    {
     "data": {
      "application/vnd.jupyter.widget-view+json": {
       "model_id": "06a07d087edf444695d922d284573b5e",
       "version_major": 2,
       "version_minor": 0
      },
      "text/plain": [
       "Communities progress:   0%|          | 0/3 [00:00<?, ?it/s]"
      ]
     },
     "metadata": {},
     "output_type": "display_data"
    },
    {
     "data": {
      "application/vnd.jupyter.widget-view+json": {
       "model_id": "69688c4d3cf148558fa325603e1c8366",
       "version_major": 2,
       "version_minor": 0
      },
      "text/plain": [
       "Communities progress:   0%|          | 0/2 [00:00<?, ?it/s]"
      ]
     },
     "metadata": {},
     "output_type": "display_data"
    },
    {
     "data": {
      "application/vnd.jupyter.widget-view+json": {
       "model_id": "a471cf806b5049ec9e3add12de3d7d12",
       "version_major": 2,
       "version_minor": 0
      },
      "text/plain": [
       "Communities progress:   0%|          | 0/3 [00:00<?, ?it/s]"
      ]
     },
     "metadata": {},
     "output_type": "display_data"
    },
    {
     "data": {
      "application/vnd.jupyter.widget-view+json": {
       "model_id": "547cceff9f1641c7aed3cff1120062b5",
       "version_major": 2,
       "version_minor": 0
      },
      "text/plain": [
       "Communities progress:   0%|          | 0/2 [00:00<?, ?it/s]"
      ]
     },
     "metadata": {},
     "output_type": "display_data"
    },
    {
     "data": {
      "application/vnd.jupyter.widget-view+json": {
       "model_id": "180829dba17a48d098658212192d5649",
       "version_major": 2,
       "version_minor": 0
      },
      "text/plain": [
       "Algorithm Progress:   0%|          | 0/4 [00:00<?, ?it/s]"
      ]
     },
     "metadata": {},
     "output_type": "display_data"
    },
    {
     "data": {
      "application/vnd.jupyter.widget-view+json": {
       "model_id": "de4e112829814b1b9b6492cd324841c7",
       "version_major": 2,
       "version_minor": 0
      },
      "text/plain": [
       "Communities progress:   0%|          | 0/2 [00:00<?, ?it/s]"
      ]
     },
     "metadata": {},
     "output_type": "display_data"
    },
    {
     "data": {
      "application/vnd.jupyter.widget-view+json": {
       "model_id": "d918e6c4c07b47359ef7f65f8e5875ac",
       "version_major": 2,
       "version_minor": 0
      },
      "text/plain": [
       "Communities progress:   0%|          | 0/2 [00:00<?, ?it/s]"
      ]
     },
     "metadata": {},
     "output_type": "display_data"
    },
    {
     "data": {
      "application/vnd.jupyter.widget-view+json": {
       "model_id": "2457d2d1128f46379639876ac43d212c",
       "version_major": 2,
       "version_minor": 0
      },
      "text/plain": [
       "Communities progress:   0%|          | 0/2 [00:00<?, ?it/s]"
      ]
     },
     "metadata": {},
     "output_type": "display_data"
    },
    {
     "data": {
      "application/vnd.jupyter.widget-view+json": {
       "model_id": "cb4ba0beafa341998042657280bac2ea",
       "version_major": 2,
       "version_minor": 0
      },
      "text/plain": [
       "Communities progress:   0%|          | 0/2 [00:00<?, ?it/s]"
      ]
     },
     "metadata": {},
     "output_type": "display_data"
    },
    {
     "data": {
      "application/vnd.jupyter.widget-view+json": {
       "model_id": "892807327cc047ba997b30a4c5815760",
       "version_major": 2,
       "version_minor": 0
      },
      "text/plain": [
       "Algorithm Progress:   0%|          | 0/4 [00:00<?, ?it/s]"
      ]
     },
     "metadata": {},
     "output_type": "display_data"
    },
    {
     "data": {
      "application/vnd.jupyter.widget-view+json": {
       "model_id": "a4ec82650b1c4e26bf568d84ebc79fd4",
       "version_major": 2,
       "version_minor": 0
      },
      "text/plain": [
       "Communities progress:   0%|          | 0/491 [00:00<?, ?it/s]"
      ]
     },
     "metadata": {},
     "output_type": "display_data"
    },
    {
     "data": {
      "application/vnd.jupyter.widget-view+json": {
       "model_id": "b4f2d421b33a4ec1872d5df6b14ccc4e",
       "version_major": 2,
       "version_minor": 0
      },
      "text/plain": [
       "Communities progress:   0%|          | 0/504 [00:00<?, ?it/s]"
      ]
     },
     "metadata": {},
     "output_type": "display_data"
    },
    {
     "data": {
      "application/vnd.jupyter.widget-view+json": {
       "model_id": "03e6db19388f4ebf8f4210141d7f04e2",
       "version_major": 2,
       "version_minor": 0
      },
      "text/plain": [
       "Communities progress:   0%|          | 0/497 [00:00<?, ?it/s]"
      ]
     },
     "metadata": {},
     "output_type": "display_data"
    },
    {
     "data": {
      "application/vnd.jupyter.widget-view+json": {
       "model_id": "d25f8c922ebc479b849f42ca6c89c38e",
       "version_major": 2,
       "version_minor": 0
      },
      "text/plain": [
       "Communities progress:   0%|          | 0/490 [00:00<?, ?it/s]"
      ]
     },
     "metadata": {},
     "output_type": "display_data"
    },
    {
     "data": {
      "application/vnd.jupyter.widget-view+json": {
       "model_id": "bf8068d7bc5b470a88f6ff687b646220",
       "version_major": 2,
       "version_minor": 0
      },
      "text/plain": [
       "Community Detector Progress:   0%|          | 0/4 [00:00<?, ?it/s]"
      ]
     },
     "metadata": {},
     "output_type": "display_data"
    },
    {
     "data": {
      "application/vnd.jupyter.widget-view+json": {
       "model_id": "b62d34a6078e49589f0ea81eb7cf45e9",
       "version_major": 2,
       "version_minor": 0
      },
      "text/plain": [
       "Algorithm Progress:   0%|          | 0/4 [00:00<?, ?it/s]"
      ]
     },
     "metadata": {},
     "output_type": "display_data"
    },
    {
     "data": {
      "application/vnd.jupyter.widget-view+json": {
       "model_id": "3a497b3dd43f4205b47d5ae80dcb4429",
       "version_major": 2,
       "version_minor": 0
      },
      "text/plain": [
       "Algorithm Progress:   0%|          | 0/4 [00:00<?, ?it/s]"
      ]
     },
     "metadata": {},
     "output_type": "display_data"
    },
    {
     "data": {
      "application/vnd.jupyter.widget-view+json": {
       "model_id": "b1fe7a1f9f604878aeeb780b8b64ba30",
       "version_major": 2,
       "version_minor": 0
      },
      "text/plain": [
       "Communities progress:   0%|          | 0/3 [00:00<?, ?it/s]"
      ]
     },
     "metadata": {},
     "output_type": "display_data"
    },
    {
     "data": {
      "application/vnd.jupyter.widget-view+json": {
       "model_id": "ea3ef4985a204cfd9a8fcbfeaf8b3ccd",
       "version_major": 2,
       "version_minor": 0
      },
      "text/plain": [
       "Communities progress:   0%|          | 0/3 [00:00<?, ?it/s]"
      ]
     },
     "metadata": {},
     "output_type": "display_data"
    },
    {
     "data": {
      "application/vnd.jupyter.widget-view+json": {
       "model_id": "6280519ab0cb40a0995e2deb05be7379",
       "version_major": 2,
       "version_minor": 0
      },
      "text/plain": [
       "Communities progress:   0%|          | 0/3 [00:00<?, ?it/s]"
      ]
     },
     "metadata": {},
     "output_type": "display_data"
    },
    {
     "data": {
      "application/vnd.jupyter.widget-view+json": {
       "model_id": "7e7b18a936e34b218af36d65ff3d9113",
       "version_major": 2,
       "version_minor": 0
      },
      "text/plain": [
       "Communities progress:   0%|          | 0/3 [00:00<?, ?it/s]"
      ]
     },
     "metadata": {},
     "output_type": "display_data"
    },
    {
     "data": {
      "application/vnd.jupyter.widget-view+json": {
       "model_id": "f4a459425ae442a781fc0f60d38e3f19",
       "version_major": 2,
       "version_minor": 0
      },
      "text/plain": [
       "Algorithm Progress:   0%|          | 0/4 [00:00<?, ?it/s]"
      ]
     },
     "metadata": {},
     "output_type": "display_data"
    },
    {
     "data": {
      "application/vnd.jupyter.widget-view+json": {
       "model_id": "42e586a8505b4e2a8b8efa62ccb30ed7",
       "version_major": 2,
       "version_minor": 0
      },
      "text/plain": [
       "Communities progress:   0%|          | 0/87 [00:00<?, ?it/s]"
      ]
     },
     "metadata": {},
     "output_type": "display_data"
    },
    {
     "data": {
      "application/vnd.jupyter.widget-view+json": {
       "model_id": "a422d782368d453bae5a9b7f25ca1224",
       "version_major": 2,
       "version_minor": 0
      },
      "text/plain": [
       "Communities progress:   0%|          | 0/87 [00:00<?, ?it/s]"
      ]
     },
     "metadata": {},
     "output_type": "display_data"
    },
    {
     "data": {
      "application/vnd.jupyter.widget-view+json": {
       "model_id": "2e36aa78e55c4e4f90fd56f7262e160a",
       "version_major": 2,
       "version_minor": 0
      },
      "text/plain": [
       "Communities progress:   0%|          | 0/87 [00:00<?, ?it/s]"
      ]
     },
     "metadata": {},
     "output_type": "display_data"
    },
    {
     "data": {
      "application/vnd.jupyter.widget-view+json": {
       "model_id": "97e8b9942d7a4598951df40cdc57900d",
       "version_major": 2,
       "version_minor": 0
      },
      "text/plain": [
       "Communities progress:   0%|          | 0/87 [00:00<?, ?it/s]"
      ]
     },
     "metadata": {},
     "output_type": "display_data"
    },
    {
     "data": {
      "application/vnd.jupyter.widget-view+json": {
       "model_id": "6c3b7e7aba244a4795a3a2b971655ea6",
       "version_major": 2,
       "version_minor": 0
      },
      "text/plain": [
       "Algorithm Progress:   0%|          | 0/4 [00:00<?, ?it/s]"
      ]
     },
     "metadata": {},
     "output_type": "display_data"
    },
    {
     "data": {
      "application/vnd.jupyter.widget-view+json": {
       "model_id": "5f9bb3f00b3946ea895edf8b3f6f2c06",
       "version_major": 2,
       "version_minor": 0
      },
      "text/plain": [
       "Communities progress:   0%|          | 0/474 [00:00<?, ?it/s]"
      ]
     },
     "metadata": {},
     "output_type": "display_data"
    },
    {
     "data": {
      "application/vnd.jupyter.widget-view+json": {
       "model_id": "036a718af800433baebb6a7356cc8513",
       "version_major": 2,
       "version_minor": 0
      },
      "text/plain": [
       "Communities progress:   0%|          | 0/466 [00:00<?, ?it/s]"
      ]
     },
     "metadata": {},
     "output_type": "display_data"
    },
    {
     "data": {
      "application/vnd.jupyter.widget-view+json": {
       "model_id": "612a8e1d40f84ddcbc19b583c2b3032d",
       "version_major": 2,
       "version_minor": 0
      },
      "text/plain": [
       "Communities progress:   0%|          | 0/467 [00:00<?, ?it/s]"
      ]
     },
     "metadata": {},
     "output_type": "display_data"
    },
    {
     "data": {
      "application/vnd.jupyter.widget-view+json": {
       "model_id": "1007708a50fd489bb344f3160e23703d",
       "version_major": 2,
       "version_minor": 0
      },
      "text/plain": [
       "Communities progress:   0%|          | 0/474 [00:00<?, ?it/s]"
      ]
     },
     "metadata": {},
     "output_type": "display_data"
    },
    {
     "data": {
      "application/vnd.jupyter.widget-view+json": {
       "model_id": "25b1456d8a4a4084b0a9d3ae1063bdea",
       "version_major": 2,
       "version_minor": 0
      },
      "text/plain": [
       "Similarity Metric Progress:   0%|          | 0/4 [00:00<?, ?it/s]"
      ]
     },
     "metadata": {},
     "output_type": "display_data"
    },
    {
     "data": {
      "application/vnd.jupyter.widget-view+json": {
       "model_id": "62d221789cbe4d21ba14719913462a73",
       "version_major": 2,
       "version_minor": 0
      },
      "text/plain": [
       "Community Detector Progress:   0%|          | 0/4 [00:00<?, ?it/s]"
      ]
     },
     "metadata": {},
     "output_type": "display_data"
    },
    {
     "data": {
      "application/vnd.jupyter.widget-view+json": {
       "model_id": "d4753953ab984a7d9fce8a8353e9ae68",
       "version_major": 2,
       "version_minor": 0
      },
      "text/plain": [
       "Algorithm Progress:   0%|          | 0/4 [00:00<?, ?it/s]"
      ]
     },
     "metadata": {},
     "output_type": "display_data"
    },
    {
     "data": {
      "application/vnd.jupyter.widget-view+json": {
       "model_id": "0d28cfdd360f456891078442abd577b2",
       "version_major": 2,
       "version_minor": 0
      },
      "text/plain": [
       "Algorithm Progress:   0%|          | 0/4 [00:00<?, ?it/s]"
      ]
     },
     "metadata": {},
     "output_type": "display_data"
    },
    {
     "data": {
      "application/vnd.jupyter.widget-view+json": {
       "model_id": "f5bb1c27e3a44a47b1e86b26e04328a2",
       "version_major": 2,
       "version_minor": 0
      },
      "text/plain": [
       "Communities progress:   0%|          | 0/3 [00:00<?, ?it/s]"
      ]
     },
     "metadata": {},
     "output_type": "display_data"
    },
    {
     "data": {
      "application/vnd.jupyter.widget-view+json": {
       "model_id": "bf9641126e65474883667529ed3c63a8",
       "version_major": 2,
       "version_minor": 0
      },
      "text/plain": [
       "Communities progress:   0%|          | 0/3 [00:00<?, ?it/s]"
      ]
     },
     "metadata": {},
     "output_type": "display_data"
    },
    {
     "data": {
      "application/vnd.jupyter.widget-view+json": {
       "model_id": "6bbe409591d4432d9f8f57b3f0623c8e",
       "version_major": 2,
       "version_minor": 0
      },
      "text/plain": [
       "Communities progress:   0%|          | 0/3 [00:00<?, ?it/s]"
      ]
     },
     "metadata": {},
     "output_type": "display_data"
    },
    {
     "data": {
      "application/vnd.jupyter.widget-view+json": {
       "model_id": "9ce3dbd09eb542acbe76d610724f7bd0",
       "version_major": 2,
       "version_minor": 0
      },
      "text/plain": [
       "Communities progress:   0%|          | 0/2 [00:00<?, ?it/s]"
      ]
     },
     "metadata": {},
     "output_type": "display_data"
    },
    {
     "data": {
      "application/vnd.jupyter.widget-view+json": {
       "model_id": "a7652911390547a8a8a6085c04901889",
       "version_major": 2,
       "version_minor": 0
      },
      "text/plain": [
       "Algorithm Progress:   0%|          | 0/4 [00:00<?, ?it/s]"
      ]
     },
     "metadata": {},
     "output_type": "display_data"
    },
    {
     "data": {
      "application/vnd.jupyter.widget-view+json": {
       "model_id": "20553de79fe5489792a30fbbf3b61913",
       "version_major": 2,
       "version_minor": 0
      },
      "text/plain": [
       "Communities progress:   0%|          | 0/2 [00:00<?, ?it/s]"
      ]
     },
     "metadata": {},
     "output_type": "display_data"
    },
    {
     "data": {
      "application/vnd.jupyter.widget-view+json": {
       "model_id": "4b571906a4da4b6a9a4da1b167991759",
       "version_major": 2,
       "version_minor": 0
      },
      "text/plain": [
       "Communities progress:   0%|          | 0/2 [00:00<?, ?it/s]"
      ]
     },
     "metadata": {},
     "output_type": "display_data"
    },
    {
     "data": {
      "application/vnd.jupyter.widget-view+json": {
       "model_id": "703b94398aaa40beadac7dedc3b199fa",
       "version_major": 2,
       "version_minor": 0
      },
      "text/plain": [
       "Communities progress:   0%|          | 0/2 [00:00<?, ?it/s]"
      ]
     },
     "metadata": {},
     "output_type": "display_data"
    },
    {
     "data": {
      "application/vnd.jupyter.widget-view+json": {
       "model_id": "1f058a91b27343b98b6b299c47c2f0e2",
       "version_major": 2,
       "version_minor": 0
      },
      "text/plain": [
       "Communities progress:   0%|          | 0/2 [00:00<?, ?it/s]"
      ]
     },
     "metadata": {},
     "output_type": "display_data"
    },
    {
     "data": {
      "application/vnd.jupyter.widget-view+json": {
       "model_id": "426138ede3b143248a87d2295d797ed5",
       "version_major": 2,
       "version_minor": 0
      },
      "text/plain": [
       "Algorithm Progress:   0%|          | 0/4 [00:00<?, ?it/s]"
      ]
     },
     "metadata": {},
     "output_type": "display_data"
    },
    {
     "data": {
      "application/vnd.jupyter.widget-view+json": {
       "model_id": "8571fefcbad64ed98e91a528e56a7ae4",
       "version_major": 2,
       "version_minor": 0
      },
      "text/plain": [
       "Communities progress:   0%|          | 0/451 [00:00<?, ?it/s]"
      ]
     },
     "metadata": {},
     "output_type": "display_data"
    },
    {
     "data": {
      "application/vnd.jupyter.widget-view+json": {
       "model_id": "04f0205bce174d109e0503e9e980c9cb",
       "version_major": 2,
       "version_minor": 0
      },
      "text/plain": [
       "Communities progress:   0%|          | 0/464 [00:00<?, ?it/s]"
      ]
     },
     "metadata": {},
     "output_type": "display_data"
    },
    {
     "data": {
      "application/vnd.jupyter.widget-view+json": {
       "model_id": "769836f2e14040759d6ada91589fd11a",
       "version_major": 2,
       "version_minor": 0
      },
      "text/plain": [
       "Communities progress:   0%|          | 0/466 [00:00<?, ?it/s]"
      ]
     },
     "metadata": {},
     "output_type": "display_data"
    },
    {
     "data": {
      "application/vnd.jupyter.widget-view+json": {
       "model_id": "a70cc831e9c240eaa52e3347efada9d6",
       "version_major": 2,
       "version_minor": 0
      },
      "text/plain": [
       "Communities progress:   0%|          | 0/469 [00:00<?, ?it/s]"
      ]
     },
     "metadata": {},
     "output_type": "display_data"
    },
    {
     "data": {
      "application/vnd.jupyter.widget-view+json": {
       "model_id": "5cb60882124a4a8b85d9333bb763d61d",
       "version_major": 2,
       "version_minor": 0
      },
      "text/plain": [
       "Community Detector Progress:   0%|          | 0/4 [00:00<?, ?it/s]"
      ]
     },
     "metadata": {},
     "output_type": "display_data"
    },
    {
     "data": {
      "application/vnd.jupyter.widget-view+json": {
       "model_id": "fedc125348d54996aab0be49778994c4",
       "version_major": 2,
       "version_minor": 0
      },
      "text/plain": [
       "Algorithm Progress:   0%|          | 0/4 [00:00<?, ?it/s]"
      ]
     },
     "metadata": {},
     "output_type": "display_data"
    },
    {
     "data": {
      "application/vnd.jupyter.widget-view+json": {
       "model_id": "bc956ce206cd4a328fb7692b19de702d",
       "version_major": 2,
       "version_minor": 0
      },
      "text/plain": [
       "Algorithm Progress:   0%|          | 0/4 [00:00<?, ?it/s]"
      ]
     },
     "metadata": {},
     "output_type": "display_data"
    },
    {
     "data": {
      "application/vnd.jupyter.widget-view+json": {
       "model_id": "172f371bb312432099271ec1329f226a",
       "version_major": 2,
       "version_minor": 0
      },
      "text/plain": [
       "Communities progress:   0%|          | 0/3 [00:00<?, ?it/s]"
      ]
     },
     "metadata": {},
     "output_type": "display_data"
    },
    {
     "data": {
      "application/vnd.jupyter.widget-view+json": {
       "model_id": "313a08defadb4644a2b984fea1e0773f",
       "version_major": 2,
       "version_minor": 0
      },
      "text/plain": [
       "Communities progress:   0%|          | 0/3 [00:00<?, ?it/s]"
      ]
     },
     "metadata": {},
     "output_type": "display_data"
    },
    {
     "data": {
      "application/vnd.jupyter.widget-view+json": {
       "model_id": "d1e2a3ae256e407b8e7de6388a511306",
       "version_major": 2,
       "version_minor": 0
      },
      "text/plain": [
       "Communities progress:   0%|          | 0/3 [00:00<?, ?it/s]"
      ]
     },
     "metadata": {},
     "output_type": "display_data"
    },
    {
     "data": {
      "application/vnd.jupyter.widget-view+json": {
       "model_id": "c3bf2f91d8e44dd88321296ba2ae48a1",
       "version_major": 2,
       "version_minor": 0
      },
      "text/plain": [
       "Communities progress:   0%|          | 0/3 [00:00<?, ?it/s]"
      ]
     },
     "metadata": {},
     "output_type": "display_data"
    },
    {
     "data": {
      "application/vnd.jupyter.widget-view+json": {
       "model_id": "3bdcfa4bc08142e395fe76bfd1a62d17",
       "version_major": 2,
       "version_minor": 0
      },
      "text/plain": [
       "Algorithm Progress:   0%|          | 0/4 [00:00<?, ?it/s]"
      ]
     },
     "metadata": {},
     "output_type": "display_data"
    },
    {
     "data": {
      "application/vnd.jupyter.widget-view+json": {
       "model_id": "1367b844326943feb4431bce4340f600",
       "version_major": 2,
       "version_minor": 0
      },
      "text/plain": [
       "Communities progress:   0%|          | 0/2 [00:00<?, ?it/s]"
      ]
     },
     "metadata": {},
     "output_type": "display_data"
    },
    {
     "data": {
      "application/vnd.jupyter.widget-view+json": {
       "model_id": "d9722e95531c43359547fae43ea5aaf9",
       "version_major": 2,
       "version_minor": 0
      },
      "text/plain": [
       "Communities progress:   0%|          | 0/2 [00:00<?, ?it/s]"
      ]
     },
     "metadata": {},
     "output_type": "display_data"
    },
    {
     "data": {
      "application/vnd.jupyter.widget-view+json": {
       "model_id": "07dc1c71c2ca4b6bb8cf8a0c495d4683",
       "version_major": 2,
       "version_minor": 0
      },
      "text/plain": [
       "Communities progress:   0%|          | 0/2 [00:00<?, ?it/s]"
      ]
     },
     "metadata": {},
     "output_type": "display_data"
    },
    {
     "data": {
      "application/vnd.jupyter.widget-view+json": {
       "model_id": "1cde12d0ddbe4058ba8e0ed21a125d8f",
       "version_major": 2,
       "version_minor": 0
      },
      "text/plain": [
       "Communities progress:   0%|          | 0/2 [00:00<?, ?it/s]"
      ]
     },
     "metadata": {},
     "output_type": "display_data"
    },
    {
     "data": {
      "application/vnd.jupyter.widget-view+json": {
       "model_id": "1506300cf54f415387c9879da8190d17",
       "version_major": 2,
       "version_minor": 0
      },
      "text/plain": [
       "Algorithm Progress:   0%|          | 0/4 [00:00<?, ?it/s]"
      ]
     },
     "metadata": {},
     "output_type": "display_data"
    },
    {
     "data": {
      "application/vnd.jupyter.widget-view+json": {
       "model_id": "5b3b42505cd045ab9f44301b6087bdb2",
       "version_major": 2,
       "version_minor": 0
      },
      "text/plain": [
       "Communities progress:   0%|          | 0/82 [00:00<?, ?it/s]"
      ]
     },
     "metadata": {},
     "output_type": "display_data"
    },
    {
     "data": {
      "application/vnd.jupyter.widget-view+json": {
       "model_id": "76753f0ebc86452e8e4ad1d979685f7b",
       "version_major": 2,
       "version_minor": 0
      },
      "text/plain": [
       "Communities progress:   0%|          | 0/73 [00:00<?, ?it/s]"
      ]
     },
     "metadata": {},
     "output_type": "display_data"
    },
    {
     "data": {
      "application/vnd.jupyter.widget-view+json": {
       "model_id": "94cf596321324a669aa6f8ed9afa3912",
       "version_major": 2,
       "version_minor": 0
      },
      "text/plain": [
       "Communities progress:   0%|          | 0/75 [00:00<?, ?it/s]"
      ]
     },
     "metadata": {},
     "output_type": "display_data"
    },
    {
     "data": {
      "application/vnd.jupyter.widget-view+json": {
       "model_id": "618b00c1357745ba9d519b1571a4c389",
       "version_major": 2,
       "version_minor": 0
      },
      "text/plain": [
       "Communities progress:   0%|          | 0/76 [00:00<?, ?it/s]"
      ]
     },
     "metadata": {},
     "output_type": "display_data"
    },
    {
     "data": {
      "application/vnd.jupyter.widget-view+json": {
       "model_id": "8f424892bf5141b79364c9805199f6ea",
       "version_major": 2,
       "version_minor": 0
      },
      "text/plain": [
       "Community Detector Progress:   0%|          | 0/4 [00:00<?, ?it/s]"
      ]
     },
     "metadata": {},
     "output_type": "display_data"
    },
    {
     "data": {
      "application/vnd.jupyter.widget-view+json": {
       "model_id": "0cedbcff7eba4c3fb69338a5d1e81bc7",
       "version_major": 2,
       "version_minor": 0
      },
      "text/plain": [
       "Algorithm Progress:   0%|          | 0/4 [00:00<?, ?it/s]"
      ]
     },
     "metadata": {},
     "output_type": "display_data"
    },
    {
     "data": {
      "application/vnd.jupyter.widget-view+json": {
       "model_id": "00b01fe932574c71be08b4200aab9583",
       "version_major": 2,
       "version_minor": 0
      },
      "text/plain": [
       "Algorithm Progress:   0%|          | 0/4 [00:00<?, ?it/s]"
      ]
     },
     "metadata": {},
     "output_type": "display_data"
    },
    {
     "data": {
      "application/vnd.jupyter.widget-view+json": {
       "model_id": "c2212439291e456ba1cb26687d9c4a47",
       "version_major": 2,
       "version_minor": 0
      },
      "text/plain": [
       "Communities progress:   0%|          | 0/3 [00:00<?, ?it/s]"
      ]
     },
     "metadata": {},
     "output_type": "display_data"
    },
    {
     "data": {
      "application/vnd.jupyter.widget-view+json": {
       "model_id": "ae879ed042e14dcda36a35bdd7a726cb",
       "version_major": 2,
       "version_minor": 0
      },
      "text/plain": [
       "Communities progress:   0%|          | 0/2 [00:00<?, ?it/s]"
      ]
     },
     "metadata": {},
     "output_type": "display_data"
    },
    {
     "data": {
      "application/vnd.jupyter.widget-view+json": {
       "model_id": "fd1b57fc304b41f083897174ab1cefb9",
       "version_major": 2,
       "version_minor": 0
      },
      "text/plain": [
       "Communities progress:   0%|          | 0/2 [00:00<?, ?it/s]"
      ]
     },
     "metadata": {},
     "output_type": "display_data"
    },
    {
     "data": {
      "application/vnd.jupyter.widget-view+json": {
       "model_id": "9c897995780449d39115718d8a108080",
       "version_major": 2,
       "version_minor": 0
      },
      "text/plain": [
       "Communities progress:   0%|          | 0/3 [00:00<?, ?it/s]"
      ]
     },
     "metadata": {},
     "output_type": "display_data"
    },
    {
     "data": {
      "application/vnd.jupyter.widget-view+json": {
       "model_id": "fb01d92dd4df4229958ae9ee04207629",
       "version_major": 2,
       "version_minor": 0
      },
      "text/plain": [
       "Algorithm Progress:   0%|          | 0/4 [00:00<?, ?it/s]"
      ]
     },
     "metadata": {},
     "output_type": "display_data"
    },
    {
     "data": {
      "application/vnd.jupyter.widget-view+json": {
       "model_id": "10c19ea9118648348d9e2cfc60b173c7",
       "version_major": 2,
       "version_minor": 0
      },
      "text/plain": [
       "Communities progress:   0%|          | 0/96 [00:00<?, ?it/s]"
      ]
     },
     "metadata": {},
     "output_type": "display_data"
    },
    {
     "data": {
      "application/vnd.jupyter.widget-view+json": {
       "model_id": "1ec60c40f44242819e01c4e61475ce04",
       "version_major": 2,
       "version_minor": 0
      },
      "text/plain": [
       "Communities progress:   0%|          | 0/96 [00:00<?, ?it/s]"
      ]
     },
     "metadata": {},
     "output_type": "display_data"
    },
    {
     "data": {
      "application/vnd.jupyter.widget-view+json": {
       "model_id": "754689c4ab79465bb2c47cf42156be94",
       "version_major": 2,
       "version_minor": 0
      },
      "text/plain": [
       "Communities progress:   0%|          | 0/96 [00:00<?, ?it/s]"
      ]
     },
     "metadata": {},
     "output_type": "display_data"
    },
    {
     "data": {
      "application/vnd.jupyter.widget-view+json": {
       "model_id": "92c528c3a23d43c98407d2ae0d1d8e84",
       "version_major": 2,
       "version_minor": 0
      },
      "text/plain": [
       "Communities progress:   0%|          | 0/96 [00:00<?, ?it/s]"
      ]
     },
     "metadata": {},
     "output_type": "display_data"
    },
    {
     "data": {
      "application/vnd.jupyter.widget-view+json": {
       "model_id": "0f51725a70c740f2bd88bbed25d1781a",
       "version_major": 2,
       "version_minor": 0
      },
      "text/plain": [
       "Algorithm Progress:   0%|          | 0/4 [00:00<?, ?it/s]"
      ]
     },
     "metadata": {},
     "output_type": "display_data"
    },
    {
     "data": {
      "application/vnd.jupyter.widget-view+json": {
       "model_id": "08b84dc4e5464089bf20eca7e79e7f9b",
       "version_major": 2,
       "version_minor": 0
      },
      "text/plain": [
       "Communities progress:   0%|          | 0/502 [00:00<?, ?it/s]"
      ]
     },
     "metadata": {},
     "output_type": "display_data"
    },
    {
     "data": {
      "application/vnd.jupyter.widget-view+json": {
       "model_id": "d9ba26c403424a8bb884d5141a4a1a41",
       "version_major": 2,
       "version_minor": 0
      },
      "text/plain": [
       "Communities progress:   0%|          | 0/489 [00:00<?, ?it/s]"
      ]
     },
     "metadata": {},
     "output_type": "display_data"
    },
    {
     "data": {
      "application/vnd.jupyter.widget-view+json": {
       "model_id": "fcf71bd3367d44c998126d0d1efc8c4b",
       "version_major": 2,
       "version_minor": 0
      },
      "text/plain": [
       "Communities progress:   0%|          | 0/500 [00:00<?, ?it/s]"
      ]
     },
     "metadata": {},
     "output_type": "display_data"
    },
    {
     "data": {
      "application/vnd.jupyter.widget-view+json": {
       "model_id": "c59693608754472fb96fbfc9d9f57c24",
       "version_major": 2,
       "version_minor": 0
      },
      "text/plain": [
       "Communities progress:   0%|          | 0/485 [00:00<?, ?it/s]"
      ]
     },
     "metadata": {},
     "output_type": "display_data"
    },
    {
     "data": {
      "application/vnd.jupyter.widget-view+json": {
       "model_id": "8261aead6d4941428d34b200984c92f4",
       "version_major": 2,
       "version_minor": 0
      },
      "text/plain": [
       "Community Detector Progress:   0%|          | 0/4 [00:00<?, ?it/s]"
      ]
     },
     "metadata": {},
     "output_type": "display_data"
    },
    {
     "data": {
      "application/vnd.jupyter.widget-view+json": {
       "model_id": "593a0bba43544bffbe7265610b019eda",
       "version_major": 2,
       "version_minor": 0
      },
      "text/plain": [
       "Algorithm Progress:   0%|          | 0/4 [00:00<?, ?it/s]"
      ]
     },
     "metadata": {},
     "output_type": "display_data"
    },
    {
     "data": {
      "application/vnd.jupyter.widget-view+json": {
       "model_id": "42261c12dd09460aad8ea947fe2e5cc8",
       "version_major": 2,
       "version_minor": 0
      },
      "text/plain": [
       "Algorithm Progress:   0%|          | 0/4 [00:00<?, ?it/s]"
      ]
     },
     "metadata": {},
     "output_type": "display_data"
    },
    {
     "data": {
      "application/vnd.jupyter.widget-view+json": {
       "model_id": "8c8a488b9d494df2be3d6b2535965827",
       "version_major": 2,
       "version_minor": 0
      },
      "text/plain": [
       "Communities progress:   0%|          | 0/3 [00:00<?, ?it/s]"
      ]
     },
     "metadata": {},
     "output_type": "display_data"
    },
    {
     "data": {
      "application/vnd.jupyter.widget-view+json": {
       "model_id": "609b47ceb544483bb471db17ba90067a",
       "version_major": 2,
       "version_minor": 0
      },
      "text/plain": [
       "Communities progress:   0%|          | 0/3 [00:00<?, ?it/s]"
      ]
     },
     "metadata": {},
     "output_type": "display_data"
    },
    {
     "data": {
      "application/vnd.jupyter.widget-view+json": {
       "model_id": "fafc6f882c18467ab458dd1c6176b9ae",
       "version_major": 2,
       "version_minor": 0
      },
      "text/plain": [
       "Communities progress:   0%|          | 0/3 [00:00<?, ?it/s]"
      ]
     },
     "metadata": {},
     "output_type": "display_data"
    },
    {
     "data": {
      "application/vnd.jupyter.widget-view+json": {
       "model_id": "ab8fc30e8f654c98bc268ee29aa5a9a9",
       "version_major": 2,
       "version_minor": 0
      },
      "text/plain": [
       "Communities progress:   0%|          | 0/3 [00:00<?, ?it/s]"
      ]
     },
     "metadata": {},
     "output_type": "display_data"
    },
    {
     "data": {
      "application/vnd.jupyter.widget-view+json": {
       "model_id": "443992007cdd494397cd2f08e0ccc45e",
       "version_major": 2,
       "version_minor": 0
      },
      "text/plain": [
       "Algorithm Progress:   0%|          | 0/4 [00:00<?, ?it/s]"
      ]
     },
     "metadata": {},
     "output_type": "display_data"
    },
    {
     "data": {
      "application/vnd.jupyter.widget-view+json": {
       "model_id": "fe0e31a54b1a40eeb1674b3931777834",
       "version_major": 2,
       "version_minor": 0
      },
      "text/plain": [
       "Communities progress:   0%|          | 0/2 [00:00<?, ?it/s]"
      ]
     },
     "metadata": {},
     "output_type": "display_data"
    },
    {
     "data": {
      "application/vnd.jupyter.widget-view+json": {
       "model_id": "7b20ed96a0fe44ca8703e5222638ca04",
       "version_major": 2,
       "version_minor": 0
      },
      "text/plain": [
       "Communities progress:   0%|          | 0/2 [00:00<?, ?it/s]"
      ]
     },
     "metadata": {},
     "output_type": "display_data"
    },
    {
     "data": {
      "application/vnd.jupyter.widget-view+json": {
       "model_id": "3bb0e9f3d60b44298073b067cfe743fa",
       "version_major": 2,
       "version_minor": 0
      },
      "text/plain": [
       "Communities progress:   0%|          | 0/2 [00:00<?, ?it/s]"
      ]
     },
     "metadata": {},
     "output_type": "display_data"
    },
    {
     "data": {
      "application/vnd.jupyter.widget-view+json": {
       "model_id": "9631af94aef54f36b91d19938691d891",
       "version_major": 2,
       "version_minor": 0
      },
      "text/plain": [
       "Communities progress:   0%|          | 0/2 [00:00<?, ?it/s]"
      ]
     },
     "metadata": {},
     "output_type": "display_data"
    },
    {
     "data": {
      "application/vnd.jupyter.widget-view+json": {
       "model_id": "6c9a501dd5d84fb5abda754ce1ca2e91",
       "version_major": 2,
       "version_minor": 0
      },
      "text/plain": [
       "Algorithm Progress:   0%|          | 0/4 [00:00<?, ?it/s]"
      ]
     },
     "metadata": {},
     "output_type": "display_data"
    },
    {
     "data": {
      "application/vnd.jupyter.widget-view+json": {
       "model_id": "a689c08b3e9548129a008cb8ea184041",
       "version_major": 2,
       "version_minor": 0
      },
      "text/plain": [
       "Communities progress:   0%|          | 0/459 [00:00<?, ?it/s]"
      ]
     },
     "metadata": {},
     "output_type": "display_data"
    },
    {
     "data": {
      "application/vnd.jupyter.widget-view+json": {
       "model_id": "35d7434f94f54b079b7f28f63f43aafd",
       "version_major": 2,
       "version_minor": 0
      },
      "text/plain": [
       "Communities progress:   0%|          | 0/471 [00:00<?, ?it/s]"
      ]
     },
     "metadata": {},
     "output_type": "display_data"
    },
    {
     "data": {
      "application/vnd.jupyter.widget-view+json": {
       "model_id": "f5dc4c6398cc4e5592512e8d07c7c6a0",
       "version_major": 2,
       "version_minor": 0
      },
      "text/plain": [
       "Communities progress:   0%|          | 0/472 [00:00<?, ?it/s]"
      ]
     },
     "metadata": {},
     "output_type": "display_data"
    },
    {
     "data": {
      "application/vnd.jupyter.widget-view+json": {
       "model_id": "018fca4d07144871a7156f8b0e2aa7cd",
       "version_major": 2,
       "version_minor": 0
      },
      "text/plain": [
       "Communities progress:   0%|          | 0/465 [00:00<?, ?it/s]"
      ]
     },
     "metadata": {},
     "output_type": "display_data"
    },
    {
     "data": {
      "application/vnd.jupyter.widget-view+json": {
       "model_id": "813588a26f6b4ae2b6ed8366626e063c",
       "version_major": 2,
       "version_minor": 0
      },
      "text/plain": [
       "Similarity Metric Progress:   0%|          | 0/4 [00:00<?, ?it/s]"
      ]
     },
     "metadata": {},
     "output_type": "display_data"
    },
    {
     "data": {
      "application/vnd.jupyter.widget-view+json": {
       "model_id": "f76a287ced5b42ac9aacadd350b2dde4",
       "version_major": 2,
       "version_minor": 0
      },
      "text/plain": [
       "Community Detector Progress:   0%|          | 0/4 [00:00<?, ?it/s]"
      ]
     },
     "metadata": {},
     "output_type": "display_data"
    },
    {
     "data": {
      "application/vnd.jupyter.widget-view+json": {
       "model_id": "b7215002e12d48a3b4e62af35c410267",
       "version_major": 2,
       "version_minor": 0
      },
      "text/plain": [
       "Algorithm Progress:   0%|          | 0/4 [00:00<?, ?it/s]"
      ]
     },
     "metadata": {},
     "output_type": "display_data"
    },
    {
     "data": {
      "application/vnd.jupyter.widget-view+json": {
       "model_id": "6e371de5914844df94cd289b16fed138",
       "version_major": 2,
       "version_minor": 0
      },
      "text/plain": [
       "Algorithm Progress:   0%|          | 0/4 [00:00<?, ?it/s]"
      ]
     },
     "metadata": {},
     "output_type": "display_data"
    },
    {
     "data": {
      "application/vnd.jupyter.widget-view+json": {
       "model_id": "ec3646cc8a054ef6944a6353deabeb03",
       "version_major": 2,
       "version_minor": 0
      },
      "text/plain": [
       "Communities progress:   0%|          | 0/3 [00:00<?, ?it/s]"
      ]
     },
     "metadata": {},
     "output_type": "display_data"
    },
    {
     "data": {
      "application/vnd.jupyter.widget-view+json": {
       "model_id": "5df1dd715ef347c6947f74bbf0465b50",
       "version_major": 2,
       "version_minor": 0
      },
      "text/plain": [
       "Communities progress:   0%|          | 0/3 [00:00<?, ?it/s]"
      ]
     },
     "metadata": {},
     "output_type": "display_data"
    },
    {
     "data": {
      "application/vnd.jupyter.widget-view+json": {
       "model_id": "83c6a9d06ea74ed2b69310e39e6597bd",
       "version_major": 2,
       "version_minor": 0
      },
      "text/plain": [
       "Communities progress:   0%|          | 0/3 [00:00<?, ?it/s]"
      ]
     },
     "metadata": {},
     "output_type": "display_data"
    },
    {
     "data": {
      "application/vnd.jupyter.widget-view+json": {
       "model_id": "8e5b8ac2bef743d8a2c1242efa9479ac",
       "version_major": 2,
       "version_minor": 0
      },
      "text/plain": [
       "Communities progress:   0%|          | 0/3 [00:00<?, ?it/s]"
      ]
     },
     "metadata": {},
     "output_type": "display_data"
    },
    {
     "data": {
      "application/vnd.jupyter.widget-view+json": {
       "model_id": "6be0a8dee52f45ce944b8ec0bb2e588f",
       "version_major": 2,
       "version_minor": 0
      },
      "text/plain": [
       "Algorithm Progress:   0%|          | 0/4 [00:00<?, ?it/s]"
      ]
     },
     "metadata": {},
     "output_type": "display_data"
    },
    {
     "data": {
      "application/vnd.jupyter.widget-view+json": {
       "model_id": "2ab044cfbe8e46bf895e6a8810f1acc7",
       "version_major": 2,
       "version_minor": 0
      },
      "text/plain": [
       "Communities progress:   0%|          | 0/91 [00:00<?, ?it/s]"
      ]
     },
     "metadata": {},
     "output_type": "display_data"
    },
    {
     "data": {
      "application/vnd.jupyter.widget-view+json": {
       "model_id": "7f44b82a206545b59f03860619c0bec3",
       "version_major": 2,
       "version_minor": 0
      },
      "text/plain": [
       "Communities progress:   0%|          | 0/91 [00:00<?, ?it/s]"
      ]
     },
     "metadata": {},
     "output_type": "display_data"
    },
    {
     "data": {
      "application/vnd.jupyter.widget-view+json": {
       "model_id": "0a783ecfb37441fc85365011abaa64bc",
       "version_major": 2,
       "version_minor": 0
      },
      "text/plain": [
       "Communities progress:   0%|          | 0/91 [00:00<?, ?it/s]"
      ]
     },
     "metadata": {},
     "output_type": "display_data"
    },
    {
     "data": {
      "application/vnd.jupyter.widget-view+json": {
       "model_id": "dfdf4a3097274144a047db49ecfdec4a",
       "version_major": 2,
       "version_minor": 0
      },
      "text/plain": [
       "Communities progress:   0%|          | 0/91 [00:00<?, ?it/s]"
      ]
     },
     "metadata": {},
     "output_type": "display_data"
    },
    {
     "data": {
      "application/vnd.jupyter.widget-view+json": {
       "model_id": "595526e92ae147ed90dddbd268b551dc",
       "version_major": 2,
       "version_minor": 0
      },
      "text/plain": [
       "Algorithm Progress:   0%|          | 0/4 [00:00<?, ?it/s]"
      ]
     },
     "metadata": {},
     "output_type": "display_data"
    },
    {
     "data": {
      "application/vnd.jupyter.widget-view+json": {
       "model_id": "cec7cb0334f84de88d4d62e3bbe06602",
       "version_major": 2,
       "version_minor": 0
      },
      "text/plain": [
       "Communities progress:   0%|          | 0/472 [00:00<?, ?it/s]"
      ]
     },
     "metadata": {},
     "output_type": "display_data"
    },
    {
     "data": {
      "application/vnd.jupyter.widget-view+json": {
       "model_id": "23761b7a9b254ae9a76236b3d877c926",
       "version_major": 2,
       "version_minor": 0
      },
      "text/plain": [
       "Communities progress:   0%|          | 0/470 [00:00<?, ?it/s]"
      ]
     },
     "metadata": {},
     "output_type": "display_data"
    },
    {
     "data": {
      "application/vnd.jupyter.widget-view+json": {
       "model_id": "c04a562acb6f4028ad44962bacd07094",
       "version_major": 2,
       "version_minor": 0
      },
      "text/plain": [
       "Communities progress:   0%|          | 0/471 [00:00<?, ?it/s]"
      ]
     },
     "metadata": {},
     "output_type": "display_data"
    },
    {
     "data": {
      "application/vnd.jupyter.widget-view+json": {
       "model_id": "fe217196e4d84d1cb3d085001c2de2a1",
       "version_major": 2,
       "version_minor": 0
      },
      "text/plain": [
       "Communities progress:   0%|          | 0/471 [00:00<?, ?it/s]"
      ]
     },
     "metadata": {},
     "output_type": "display_data"
    },
    {
     "data": {
      "application/vnd.jupyter.widget-view+json": {
       "model_id": "9979074699da4699ade50d301f100be6",
       "version_major": 2,
       "version_minor": 0
      },
      "text/plain": [
       "Community Detector Progress:   0%|          | 0/4 [00:00<?, ?it/s]"
      ]
     },
     "metadata": {},
     "output_type": "display_data"
    },
    {
     "data": {
      "application/vnd.jupyter.widget-view+json": {
       "model_id": "4abf6796066143a2a0e10e24eb6ddea4",
       "version_major": 2,
       "version_minor": 0
      },
      "text/plain": [
       "Algorithm Progress:   0%|          | 0/4 [00:00<?, ?it/s]"
      ]
     },
     "metadata": {},
     "output_type": "display_data"
    },
    {
     "data": {
      "application/vnd.jupyter.widget-view+json": {
       "model_id": "521b73d02f254d8a9489876c95101f49",
       "version_major": 2,
       "version_minor": 0
      },
      "text/plain": [
       "Algorithm Progress:   0%|          | 0/4 [00:00<?, ?it/s]"
      ]
     },
     "metadata": {},
     "output_type": "display_data"
    },
    {
     "data": {
      "application/vnd.jupyter.widget-view+json": {
       "model_id": "c8c16666d1e2453dac6e3747dbb4a2d6",
       "version_major": 2,
       "version_minor": 0
      },
      "text/plain": [
       "Communities progress:   0%|          | 0/3 [00:00<?, ?it/s]"
      ]
     },
     "metadata": {},
     "output_type": "display_data"
    },
    {
     "data": {
      "application/vnd.jupyter.widget-view+json": {
       "model_id": "8ac34e2ed31d4a488ac7f961097653dc",
       "version_major": 2,
       "version_minor": 0
      },
      "text/plain": [
       "Communities progress:   0%|          | 0/3 [00:00<?, ?it/s]"
      ]
     },
     "metadata": {},
     "output_type": "display_data"
    },
    {
     "data": {
      "application/vnd.jupyter.widget-view+json": {
       "model_id": "673e68ee3cbf4d8bb4566b11c78652fc",
       "version_major": 2,
       "version_minor": 0
      },
      "text/plain": [
       "Communities progress:   0%|          | 0/3 [00:00<?, ?it/s]"
      ]
     },
     "metadata": {},
     "output_type": "display_data"
    },
    {
     "data": {
      "application/vnd.jupyter.widget-view+json": {
       "model_id": "0dabd92eb3c140a993088a3945c4dafc",
       "version_major": 2,
       "version_minor": 0
      },
      "text/plain": [
       "Communities progress:   0%|          | 0/3 [00:00<?, ?it/s]"
      ]
     },
     "metadata": {},
     "output_type": "display_data"
    },
    {
     "data": {
      "application/vnd.jupyter.widget-view+json": {
       "model_id": "da82db191eab462e91fb0e3089538e99",
       "version_major": 2,
       "version_minor": 0
      },
      "text/plain": [
       "Algorithm Progress:   0%|          | 0/4 [00:00<?, ?it/s]"
      ]
     },
     "metadata": {},
     "output_type": "display_data"
    },
    {
     "data": {
      "application/vnd.jupyter.widget-view+json": {
       "model_id": "f29ee3d978b54e5eab127c0b1f31fad0",
       "version_major": 2,
       "version_minor": 0
      },
      "text/plain": [
       "Communities progress:   0%|          | 0/2 [00:00<?, ?it/s]"
      ]
     },
     "metadata": {},
     "output_type": "display_data"
    },
    {
     "data": {
      "application/vnd.jupyter.widget-view+json": {
       "model_id": "3051b03b42ee4c2a862793ed570fb6c4",
       "version_major": 2,
       "version_minor": 0
      },
      "text/plain": [
       "Communities progress:   0%|          | 0/2 [00:00<?, ?it/s]"
      ]
     },
     "metadata": {},
     "output_type": "display_data"
    },
    {
     "data": {
      "application/vnd.jupyter.widget-view+json": {
       "model_id": "c01bd7c04d5343f2bc805c711d63c1ac",
       "version_major": 2,
       "version_minor": 0
      },
      "text/plain": [
       "Communities progress:   0%|          | 0/2 [00:00<?, ?it/s]"
      ]
     },
     "metadata": {},
     "output_type": "display_data"
    },
    {
     "data": {
      "application/vnd.jupyter.widget-view+json": {
       "model_id": "ec2cb197c60a45629658b5b930592730",
       "version_major": 2,
       "version_minor": 0
      },
      "text/plain": [
       "Communities progress:   0%|          | 0/2 [00:00<?, ?it/s]"
      ]
     },
     "metadata": {},
     "output_type": "display_data"
    },
    {
     "data": {
      "application/vnd.jupyter.widget-view+json": {
       "model_id": "43c05638ec7640ffb55a27cedcab6e66",
       "version_major": 2,
       "version_minor": 0
      },
      "text/plain": [
       "Algorithm Progress:   0%|          | 0/4 [00:00<?, ?it/s]"
      ]
     },
     "metadata": {},
     "output_type": "display_data"
    },
    {
     "data": {
      "application/vnd.jupyter.widget-view+json": {
       "model_id": "7a5c4029c73546bea5f2ec32a3148f4b",
       "version_major": 2,
       "version_minor": 0
      },
      "text/plain": [
       "Communities progress:   0%|          | 0/84 [00:00<?, ?it/s]"
      ]
     },
     "metadata": {},
     "output_type": "display_data"
    },
    {
     "data": {
      "application/vnd.jupyter.widget-view+json": {
       "model_id": "3454ead6e8a2436c87cc0ce454dc4b81",
       "version_major": 2,
       "version_minor": 0
      },
      "text/plain": [
       "Communities progress:   0%|          | 0/82 [00:00<?, ?it/s]"
      ]
     },
     "metadata": {},
     "output_type": "display_data"
    },
    {
     "data": {
      "application/vnd.jupyter.widget-view+json": {
       "model_id": "85d04f7875b546888db892c2199858e0",
       "version_major": 2,
       "version_minor": 0
      },
      "text/plain": [
       "Communities progress:   0%|          | 0/73 [00:00<?, ?it/s]"
      ]
     },
     "metadata": {},
     "output_type": "display_data"
    },
    {
     "data": {
      "application/vnd.jupyter.widget-view+json": {
       "model_id": "d695361681df4482848161e8881f0505",
       "version_major": 2,
       "version_minor": 0
      },
      "text/plain": [
       "Communities progress:   0%|          | 0/86 [00:00<?, ?it/s]"
      ]
     },
     "metadata": {},
     "output_type": "display_data"
    },
    {
     "data": {
      "application/vnd.jupyter.widget-view+json": {
       "model_id": "06f9214851774bd5a23a93fcbf20f82a",
       "version_major": 2,
       "version_minor": 0
      },
      "text/plain": [
       "Community Detector Progress:   0%|          | 0/4 [00:00<?, ?it/s]"
      ]
     },
     "metadata": {},
     "output_type": "display_data"
    },
    {
     "data": {
      "application/vnd.jupyter.widget-view+json": {
       "model_id": "3701b6cd1dac43c391a04462bff468d5",
       "version_major": 2,
       "version_minor": 0
      },
      "text/plain": [
       "Algorithm Progress:   0%|          | 0/4 [00:00<?, ?it/s]"
      ]
     },
     "metadata": {},
     "output_type": "display_data"
    },
    {
     "data": {
      "application/vnd.jupyter.widget-view+json": {
       "model_id": "4832596439174532b1692af35af98a87",
       "version_major": 2,
       "version_minor": 0
      },
      "text/plain": [
       "Algorithm Progress:   0%|          | 0/4 [00:00<?, ?it/s]"
      ]
     },
     "metadata": {},
     "output_type": "display_data"
    },
    {
     "data": {
      "application/vnd.jupyter.widget-view+json": {
       "model_id": "71d729e13c364633b89d0772b10f1c66",
       "version_major": 2,
       "version_minor": 0
      },
      "text/plain": [
       "Communities progress:   0%|          | 0/3 [00:00<?, ?it/s]"
      ]
     },
     "metadata": {},
     "output_type": "display_data"
    },
    {
     "data": {
      "application/vnd.jupyter.widget-view+json": {
       "model_id": "668cb0672f1246cebba5f9b667075da0",
       "version_major": 2,
       "version_minor": 0
      },
      "text/plain": [
       "Communities progress:   0%|          | 0/3 [00:00<?, ?it/s]"
      ]
     },
     "metadata": {},
     "output_type": "display_data"
    },
    {
     "data": {
      "application/vnd.jupyter.widget-view+json": {
       "model_id": "753c84b7b60f4fdb9f95ed9da39d9482",
       "version_major": 2,
       "version_minor": 0
      },
      "text/plain": [
       "Communities progress:   0%|          | 0/2 [00:00<?, ?it/s]"
      ]
     },
     "metadata": {},
     "output_type": "display_data"
    },
    {
     "data": {
      "application/vnd.jupyter.widget-view+json": {
       "model_id": "9755835961f44b559657dea4c6748e20",
       "version_major": 2,
       "version_minor": 0
      },
      "text/plain": [
       "Communities progress:   0%|          | 0/3 [00:00<?, ?it/s]"
      ]
     },
     "metadata": {},
     "output_type": "display_data"
    },
    {
     "data": {
      "application/vnd.jupyter.widget-view+json": {
       "model_id": "6d2104c3dbcc4a46adb170136ff0149f",
       "version_major": 2,
       "version_minor": 0
      },
      "text/plain": [
       "Algorithm Progress:   0%|          | 0/4 [00:00<?, ?it/s]"
      ]
     },
     "metadata": {},
     "output_type": "display_data"
    },
    {
     "data": {
      "application/vnd.jupyter.widget-view+json": {
       "model_id": "e5971f9900ca42ef8ef3c29e33fd0fec",
       "version_major": 2,
       "version_minor": 0
      },
      "text/plain": [
       "Communities progress:   0%|          | 0/2 [00:00<?, ?it/s]"
      ]
     },
     "metadata": {},
     "output_type": "display_data"
    },
    {
     "data": {
      "application/vnd.jupyter.widget-view+json": {
       "model_id": "35f78768eac443f18e7b8135f49552d1",
       "version_major": 2,
       "version_minor": 0
      },
      "text/plain": [
       "Communities progress:   0%|          | 0/2 [00:00<?, ?it/s]"
      ]
     },
     "metadata": {},
     "output_type": "display_data"
    },
    {
     "data": {
      "application/vnd.jupyter.widget-view+json": {
       "model_id": "cd9f875e03d244a5bc41c3ecbe05ecda",
       "version_major": 2,
       "version_minor": 0
      },
      "text/plain": [
       "Communities progress:   0%|          | 0/2 [00:00<?, ?it/s]"
      ]
     },
     "metadata": {},
     "output_type": "display_data"
    },
    {
     "data": {
      "application/vnd.jupyter.widget-view+json": {
       "model_id": "245e401286f348be8d92865d692a8a65",
       "version_major": 2,
       "version_minor": 0
      },
      "text/plain": [
       "Communities progress:   0%|          | 0/2 [00:00<?, ?it/s]"
      ]
     },
     "metadata": {},
     "output_type": "display_data"
    },
    {
     "data": {
      "application/vnd.jupyter.widget-view+json": {
       "model_id": "28558b84f0c241479857951f67c0ac75",
       "version_major": 2,
       "version_minor": 0
      },
      "text/plain": [
       "Algorithm Progress:   0%|          | 0/4 [00:00<?, ?it/s]"
      ]
     },
     "metadata": {},
     "output_type": "display_data"
    },
    {
     "data": {
      "application/vnd.jupyter.widget-view+json": {
       "model_id": "07808a475afa4391ac48f4f82e65db72",
       "version_major": 2,
       "version_minor": 0
      },
      "text/plain": [
       "Communities progress:   0%|          | 0/509 [00:00<?, ?it/s]"
      ]
     },
     "metadata": {},
     "output_type": "display_data"
    },
    {
     "data": {
      "application/vnd.jupyter.widget-view+json": {
       "model_id": "4e62b9323b884e4cb6ad007f40feee0d",
       "version_major": 2,
       "version_minor": 0
      },
      "text/plain": [
       "Communities progress:   0%|          | 0/500 [00:00<?, ?it/s]"
      ]
     },
     "metadata": {},
     "output_type": "display_data"
    },
    {
     "data": {
      "application/vnd.jupyter.widget-view+json": {
       "model_id": "237fc2b9726646d2b793b3579fe6d518",
       "version_major": 2,
       "version_minor": 0
      },
      "text/plain": [
       "Communities progress:   0%|          | 0/497 [00:00<?, ?it/s]"
      ]
     },
     "metadata": {},
     "output_type": "display_data"
    },
    {
     "data": {
      "application/vnd.jupyter.widget-view+json": {
       "model_id": "f249b8be78f649c1be2f3f97cb31c492",
       "version_major": 2,
       "version_minor": 0
      },
      "text/plain": [
       "Communities progress:   0%|          | 0/499 [00:00<?, ?it/s]"
      ]
     },
     "metadata": {},
     "output_type": "display_data"
    },
    {
     "data": {
      "application/vnd.jupyter.widget-view+json": {
       "model_id": "3432f82672834bccbd17d2efdafcf7e3",
       "version_major": 2,
       "version_minor": 0
      },
      "text/plain": [
       "Community Detector Progress:   0%|          | 0/4 [00:00<?, ?it/s]"
      ]
     },
     "metadata": {},
     "output_type": "display_data"
    },
    {
     "data": {
      "application/vnd.jupyter.widget-view+json": {
       "model_id": "444a02a2ea944c7cb19e9786a816e45f",
       "version_major": 2,
       "version_minor": 0
      },
      "text/plain": [
       "Algorithm Progress:   0%|          | 0/4 [00:00<?, ?it/s]"
      ]
     },
     "metadata": {},
     "output_type": "display_data"
    },
    {
     "data": {
      "application/vnd.jupyter.widget-view+json": {
       "model_id": "e5e22330b89243bd98b6de01692abddd",
       "version_major": 2,
       "version_minor": 0
      },
      "text/plain": [
       "Algorithm Progress:   0%|          | 0/4 [00:00<?, ?it/s]"
      ]
     },
     "metadata": {},
     "output_type": "display_data"
    },
    {
     "data": {
      "application/vnd.jupyter.widget-view+json": {
       "model_id": "06e0f95b4af946b5812c4acad02c0b9d",
       "version_major": 2,
       "version_minor": 0
      },
      "text/plain": [
       "Communities progress:   0%|          | 0/3 [00:00<?, ?it/s]"
      ]
     },
     "metadata": {},
     "output_type": "display_data"
    },
    {
     "data": {
      "application/vnd.jupyter.widget-view+json": {
       "model_id": "0ae78bd82ffb4b7d9a1a9575842f2328",
       "version_major": 2,
       "version_minor": 0
      },
      "text/plain": [
       "Communities progress:   0%|          | 0/3 [00:00<?, ?it/s]"
      ]
     },
     "metadata": {},
     "output_type": "display_data"
    },
    {
     "data": {
      "application/vnd.jupyter.widget-view+json": {
       "model_id": "b5936a6a6e024f96b7e0841929ad997d",
       "version_major": 2,
       "version_minor": 0
      },
      "text/plain": [
       "Communities progress:   0%|          | 0/3 [00:00<?, ?it/s]"
      ]
     },
     "metadata": {},
     "output_type": "display_data"
    },
    {
     "data": {
      "application/vnd.jupyter.widget-view+json": {
       "model_id": "04ace0d29ef44ddfb1feabbd5df5f1c2",
       "version_major": 2,
       "version_minor": 0
      },
      "text/plain": [
       "Communities progress:   0%|          | 0/3 [00:00<?, ?it/s]"
      ]
     },
     "metadata": {},
     "output_type": "display_data"
    },
    {
     "data": {
      "application/vnd.jupyter.widget-view+json": {
       "model_id": "d2337ea54ce844ffa59881bd9171c800",
       "version_major": 2,
       "version_minor": 0
      },
      "text/plain": [
       "Algorithm Progress:   0%|          | 0/4 [00:00<?, ?it/s]"
      ]
     },
     "metadata": {},
     "output_type": "display_data"
    },
    {
     "data": {
      "application/vnd.jupyter.widget-view+json": {
       "model_id": "56eaff001de74c74a061a26a03f32d2f",
       "version_major": 2,
       "version_minor": 0
      },
      "text/plain": [
       "Communities progress:   0%|          | 0/91 [00:00<?, ?it/s]"
      ]
     },
     "metadata": {},
     "output_type": "display_data"
    },
    {
     "data": {
      "application/vnd.jupyter.widget-view+json": {
       "model_id": "2bb5b0a1f87f4cf2a0fbac21289fe82f",
       "version_major": 2,
       "version_minor": 0
      },
      "text/plain": [
       "Communities progress:   0%|          | 0/91 [00:00<?, ?it/s]"
      ]
     },
     "metadata": {},
     "output_type": "display_data"
    },
    {
     "data": {
      "application/vnd.jupyter.widget-view+json": {
       "model_id": "f1851f8390824db99fec982f943c2a11",
       "version_major": 2,
       "version_minor": 0
      },
      "text/plain": [
       "Communities progress:   0%|          | 0/91 [00:00<?, ?it/s]"
      ]
     },
     "metadata": {},
     "output_type": "display_data"
    },
    {
     "data": {
      "application/vnd.jupyter.widget-view+json": {
       "model_id": "33b5c3a7e5814e109976c44b96766e71",
       "version_major": 2,
       "version_minor": 0
      },
      "text/plain": [
       "Communities progress:   0%|          | 0/91 [00:00<?, ?it/s]"
      ]
     },
     "metadata": {},
     "output_type": "display_data"
    },
    {
     "data": {
      "application/vnd.jupyter.widget-view+json": {
       "model_id": "e72af003f40349028cdbdc7c98742ed8",
       "version_major": 2,
       "version_minor": 0
      },
      "text/plain": [
       "Algorithm Progress:   0%|          | 0/4 [00:00<?, ?it/s]"
      ]
     },
     "metadata": {},
     "output_type": "display_data"
    },
    {
     "data": {
      "application/vnd.jupyter.widget-view+json": {
       "model_id": "5ea4a11c2c0d47369fa410415bbf8088",
       "version_major": 2,
       "version_minor": 0
      },
      "text/plain": [
       "Communities progress:   0%|          | 0/462 [00:00<?, ?it/s]"
      ]
     },
     "metadata": {},
     "output_type": "display_data"
    },
    {
     "data": {
      "application/vnd.jupyter.widget-view+json": {
       "model_id": "ea79c0aaa9754575812bce2e0bd85d37",
       "version_major": 2,
       "version_minor": 0
      },
      "text/plain": [
       "Communities progress:   0%|          | 0/470 [00:00<?, ?it/s]"
      ]
     },
     "metadata": {},
     "output_type": "display_data"
    },
    {
     "data": {
      "application/vnd.jupyter.widget-view+json": {
       "model_id": "bc243b03e1244e9184569f326e2a3310",
       "version_major": 2,
       "version_minor": 0
      },
      "text/plain": [
       "Communities progress:   0%|          | 0/475 [00:00<?, ?it/s]"
      ]
     },
     "metadata": {},
     "output_type": "display_data"
    },
    {
     "data": {
      "application/vnd.jupyter.widget-view+json": {
       "model_id": "cee224b19a1f4bd489c89e4b1e3e6764",
       "version_major": 2,
       "version_minor": 0
      },
      "text/plain": [
       "Communities progress:   0%|          | 0/473 [00:00<?, ?it/s]"
      ]
     },
     "metadata": {},
     "output_type": "display_data"
    },
    {
     "data": {
      "application/vnd.jupyter.widget-view+json": {
       "model_id": "3d65c9b2d4424438904f45d72d337f2b",
       "version_major": 2,
       "version_minor": 0
      },
      "text/plain": [
       "Similarity Metric Progress:   0%|          | 0/4 [00:00<?, ?it/s]"
      ]
     },
     "metadata": {},
     "output_type": "display_data"
    },
    {
     "data": {
      "application/vnd.jupyter.widget-view+json": {
       "model_id": "451bffe797634c48be4bab214585e478",
       "version_major": 2,
       "version_minor": 0
      },
      "text/plain": [
       "Community Detector Progress:   0%|          | 0/4 [00:00<?, ?it/s]"
      ]
     },
     "metadata": {},
     "output_type": "display_data"
    },
    {
     "data": {
      "application/vnd.jupyter.widget-view+json": {
       "model_id": "d0d8ec27851e40338301646c3c316414",
       "version_major": 2,
       "version_minor": 0
      },
      "text/plain": [
       "Algorithm Progress:   0%|          | 0/4 [00:00<?, ?it/s]"
      ]
     },
     "metadata": {},
     "output_type": "display_data"
    },
    {
     "data": {
      "application/vnd.jupyter.widget-view+json": {
       "model_id": "3dec22e318e04310b6f74c3ca7250e8e",
       "version_major": 2,
       "version_minor": 0
      },
      "text/plain": [
       "Algorithm Progress:   0%|          | 0/4 [00:00<?, ?it/s]"
      ]
     },
     "metadata": {},
     "output_type": "display_data"
    },
    {
     "data": {
      "application/vnd.jupyter.widget-view+json": {
       "model_id": "7804d4e3349048b2bbe56fb94a815d01",
       "version_major": 2,
       "version_minor": 0
      },
      "text/plain": [
       "Communities progress:   0%|          | 0/3 [00:00<?, ?it/s]"
      ]
     },
     "metadata": {},
     "output_type": "display_data"
    },
    {
     "data": {
      "application/vnd.jupyter.widget-view+json": {
       "model_id": "b777330c224b4728952f0f38831fd2f1",
       "version_major": 2,
       "version_minor": 0
      },
      "text/plain": [
       "Communities progress:   0%|          | 0/3 [00:00<?, ?it/s]"
      ]
     },
     "metadata": {},
     "output_type": "display_data"
    },
    {
     "data": {
      "application/vnd.jupyter.widget-view+json": {
       "model_id": "c208d0c5100e42f98ffeac286d8a24d6",
       "version_major": 2,
       "version_minor": 0
      },
      "text/plain": [
       "Communities progress:   0%|          | 0/3 [00:00<?, ?it/s]"
      ]
     },
     "metadata": {},
     "output_type": "display_data"
    },
    {
     "data": {
      "application/vnd.jupyter.widget-view+json": {
       "model_id": "2975688b3eff4980870c058e9cdecc8f",
       "version_major": 2,
       "version_minor": 0
      },
      "text/plain": [
       "Communities progress:   0%|          | 0/3 [00:00<?, ?it/s]"
      ]
     },
     "metadata": {},
     "output_type": "display_data"
    },
    {
     "data": {
      "application/vnd.jupyter.widget-view+json": {
       "model_id": "49cd58ecf6d546de91f1144761989afb",
       "version_major": 2,
       "version_minor": 0
      },
      "text/plain": [
       "Algorithm Progress:   0%|          | 0/4 [00:00<?, ?it/s]"
      ]
     },
     "metadata": {},
     "output_type": "display_data"
    },
    {
     "data": {
      "application/vnd.jupyter.widget-view+json": {
       "model_id": "c819123d852a49ecb27026da0743a39d",
       "version_major": 2,
       "version_minor": 0
      },
      "text/plain": [
       "Communities progress:   0%|          | 0/2 [00:00<?, ?it/s]"
      ]
     },
     "metadata": {},
     "output_type": "display_data"
    },
    {
     "data": {
      "application/vnd.jupyter.widget-view+json": {
       "model_id": "352a0367590b4c9bbf9feabec691074f",
       "version_major": 2,
       "version_minor": 0
      },
      "text/plain": [
       "Communities progress:   0%|          | 0/2 [00:00<?, ?it/s]"
      ]
     },
     "metadata": {},
     "output_type": "display_data"
    },
    {
     "data": {
      "application/vnd.jupyter.widget-view+json": {
       "model_id": "bc8e23d4ac8b45e5934b720112d41e10",
       "version_major": 2,
       "version_minor": 0
      },
      "text/plain": [
       "Communities progress:   0%|          | 0/2 [00:00<?, ?it/s]"
      ]
     },
     "metadata": {},
     "output_type": "display_data"
    },
    {
     "data": {
      "application/vnd.jupyter.widget-view+json": {
       "model_id": "3f1bfa6effd74da7a8f5e538a4092bc4",
       "version_major": 2,
       "version_minor": 0
      },
      "text/plain": [
       "Communities progress:   0%|          | 0/2 [00:00<?, ?it/s]"
      ]
     },
     "metadata": {},
     "output_type": "display_data"
    },
    {
     "data": {
      "application/vnd.jupyter.widget-view+json": {
       "model_id": "98308fd1aa4746569652317fb9fe2904",
       "version_major": 2,
       "version_minor": 0
      },
      "text/plain": [
       "Algorithm Progress:   0%|          | 0/4 [00:00<?, ?it/s]"
      ]
     },
     "metadata": {},
     "output_type": "display_data"
    },
    {
     "data": {
      "application/vnd.jupyter.widget-view+json": {
       "model_id": "45a799f085c04deeaa317f0994db50eb",
       "version_major": 2,
       "version_minor": 0
      },
      "text/plain": [
       "Communities progress:   0%|          | 0/457 [00:00<?, ?it/s]"
      ]
     },
     "metadata": {},
     "output_type": "display_data"
    },
    {
     "data": {
      "application/vnd.jupyter.widget-view+json": {
       "model_id": "0a7aef49624943a9b3a5ec03825efa23",
       "version_major": 2,
       "version_minor": 0
      },
      "text/plain": [
       "Communities progress:   0%|          | 0/466 [00:00<?, ?it/s]"
      ]
     },
     "metadata": {},
     "output_type": "display_data"
    },
    {
     "data": {
      "application/vnd.jupyter.widget-view+json": {
       "model_id": "c065ae03367c43cb9101d621252f05e2",
       "version_major": 2,
       "version_minor": 0
      },
      "text/plain": [
       "Communities progress:   0%|          | 0/462 [00:00<?, ?it/s]"
      ]
     },
     "metadata": {},
     "output_type": "display_data"
    },
    {
     "data": {
      "application/vnd.jupyter.widget-view+json": {
       "model_id": "006836c7f70d430ca721e26962ab2a8d",
       "version_major": 2,
       "version_minor": 0
      },
      "text/plain": [
       "Communities progress:   0%|          | 0/459 [00:00<?, ?it/s]"
      ]
     },
     "metadata": {},
     "output_type": "display_data"
    },
    {
     "data": {
      "application/vnd.jupyter.widget-view+json": {
       "model_id": "c1d7f5900ac548bda8d83fd1797bdb50",
       "version_major": 2,
       "version_minor": 0
      },
      "text/plain": [
       "Community Detector Progress:   0%|          | 0/4 [00:00<?, ?it/s]"
      ]
     },
     "metadata": {},
     "output_type": "display_data"
    },
    {
     "data": {
      "application/vnd.jupyter.widget-view+json": {
       "model_id": "db21b3572fd841dc85d2581a5d7cacaf",
       "version_major": 2,
       "version_minor": 0
      },
      "text/plain": [
       "Algorithm Progress:   0%|          | 0/4 [00:00<?, ?it/s]"
      ]
     },
     "metadata": {},
     "output_type": "display_data"
    },
    {
     "data": {
      "application/vnd.jupyter.widget-view+json": {
       "model_id": "419e83e7b24640b1b7f945976e16fb31",
       "version_major": 2,
       "version_minor": 0
      },
      "text/plain": [
       "Algorithm Progress:   0%|          | 0/4 [00:00<?, ?it/s]"
      ]
     },
     "metadata": {},
     "output_type": "display_data"
    },
    {
     "data": {
      "application/vnd.jupyter.widget-view+json": {
       "model_id": "8e518f51a85c4e78ba4af43907b0c84e",
       "version_major": 2,
       "version_minor": 0
      },
      "text/plain": [
       "Communities progress:   0%|          | 0/3 [00:00<?, ?it/s]"
      ]
     },
     "metadata": {},
     "output_type": "display_data"
    },
    {
     "data": {
      "application/vnd.jupyter.widget-view+json": {
       "model_id": "fdb4266353984ec1b4d973d82c6e2ed8",
       "version_major": 2,
       "version_minor": 0
      },
      "text/plain": [
       "Communities progress:   0%|          | 0/3 [00:00<?, ?it/s]"
      ]
     },
     "metadata": {},
     "output_type": "display_data"
    },
    {
     "data": {
      "application/vnd.jupyter.widget-view+json": {
       "model_id": "9ab861a09b6e49b085da7624b1f7f249",
       "version_major": 2,
       "version_minor": 0
      },
      "text/plain": [
       "Communities progress:   0%|          | 0/3 [00:00<?, ?it/s]"
      ]
     },
     "metadata": {},
     "output_type": "display_data"
    },
    {
     "data": {
      "application/vnd.jupyter.widget-view+json": {
       "model_id": "95ec6b37a7c44dfdb5f8017beec9e1a9",
       "version_major": 2,
       "version_minor": 0
      },
      "text/plain": [
       "Communities progress:   0%|          | 0/3 [00:00<?, ?it/s]"
      ]
     },
     "metadata": {},
     "output_type": "display_data"
    },
    {
     "data": {
      "application/vnd.jupyter.widget-view+json": {
       "model_id": "39992f9d21e84cdea2f84321a758f494",
       "version_major": 2,
       "version_minor": 0
      },
      "text/plain": [
       "Algorithm Progress:   0%|          | 0/4 [00:00<?, ?it/s]"
      ]
     },
     "metadata": {},
     "output_type": "display_data"
    },
    {
     "data": {
      "application/vnd.jupyter.widget-view+json": {
       "model_id": "18f4962770c144ca84f0690aa69c7251",
       "version_major": 2,
       "version_minor": 0
      },
      "text/plain": [
       "Communities progress:   0%|          | 0/2 [00:00<?, ?it/s]"
      ]
     },
     "metadata": {},
     "output_type": "display_data"
    },
    {
     "data": {
      "application/vnd.jupyter.widget-view+json": {
       "model_id": "782b8a9d65864443b68be2121d10969f",
       "version_major": 2,
       "version_minor": 0
      },
      "text/plain": [
       "Communities progress:   0%|          | 0/2 [00:00<?, ?it/s]"
      ]
     },
     "metadata": {},
     "output_type": "display_data"
    },
    {
     "data": {
      "application/vnd.jupyter.widget-view+json": {
       "model_id": "773fad582f8c436fa18f9fe4efc47b69",
       "version_major": 2,
       "version_minor": 0
      },
      "text/plain": [
       "Communities progress:   0%|          | 0/2 [00:00<?, ?it/s]"
      ]
     },
     "metadata": {},
     "output_type": "display_data"
    },
    {
     "data": {
      "application/vnd.jupyter.widget-view+json": {
       "model_id": "a3f96d2367b5483aba2b4f2bd17c782e",
       "version_major": 2,
       "version_minor": 0
      },
      "text/plain": [
       "Communities progress:   0%|          | 0/2 [00:00<?, ?it/s]"
      ]
     },
     "metadata": {},
     "output_type": "display_data"
    },
    {
     "data": {
      "application/vnd.jupyter.widget-view+json": {
       "model_id": "e4b56ddd6d804ab18f2a5ed157debc28",
       "version_major": 2,
       "version_minor": 0
      },
      "text/plain": [
       "Algorithm Progress:   0%|          | 0/4 [00:00<?, ?it/s]"
      ]
     },
     "metadata": {},
     "output_type": "display_data"
    },
    {
     "data": {
      "application/vnd.jupyter.widget-view+json": {
       "model_id": "503eb3db8f1942bfaf4584abe52aa6d5",
       "version_major": 2,
       "version_minor": 0
      },
      "text/plain": [
       "Communities progress:   0%|          | 0/68 [00:00<?, ?it/s]"
      ]
     },
     "metadata": {},
     "output_type": "display_data"
    },
    {
     "data": {
      "application/vnd.jupyter.widget-view+json": {
       "model_id": "a358820f81a54e8d9093022efbba897e",
       "version_major": 2,
       "version_minor": 0
      },
      "text/plain": [
       "Communities progress:   0%|          | 0/78 [00:00<?, ?it/s]"
      ]
     },
     "metadata": {},
     "output_type": "display_data"
    },
    {
     "data": {
      "application/vnd.jupyter.widget-view+json": {
       "model_id": "095fadf2d397428a90cc3158a3f4ea1b",
       "version_major": 2,
       "version_minor": 0
      },
      "text/plain": [
       "Communities progress:   0%|          | 0/71 [00:00<?, ?it/s]"
      ]
     },
     "metadata": {},
     "output_type": "display_data"
    },
    {
     "data": {
      "application/vnd.jupyter.widget-view+json": {
       "model_id": "6e3d5571e70d431080a8a00bc441553a",
       "version_major": 2,
       "version_minor": 0
      },
      "text/plain": [
       "Communities progress:   0%|          | 0/66 [00:00<?, ?it/s]"
      ]
     },
     "metadata": {},
     "output_type": "display_data"
    },
    {
     "data": {
      "application/vnd.jupyter.widget-view+json": {
       "model_id": "a75784ae8aee4ee9b000e1e27250bbc5",
       "version_major": 2,
       "version_minor": 0
      },
      "text/plain": [
       "Community Detector Progress:   0%|          | 0/4 [00:00<?, ?it/s]"
      ]
     },
     "metadata": {},
     "output_type": "display_data"
    },
    {
     "data": {
      "application/vnd.jupyter.widget-view+json": {
       "model_id": "6567d8e8eb964fbca6479fd961b51461",
       "version_major": 2,
       "version_minor": 0
      },
      "text/plain": [
       "Algorithm Progress:   0%|          | 0/4 [00:00<?, ?it/s]"
      ]
     },
     "metadata": {},
     "output_type": "display_data"
    },
    {
     "data": {
      "application/vnd.jupyter.widget-view+json": {
       "model_id": "c6a33db083a34d4798949161dbe6b54b",
       "version_major": 2,
       "version_minor": 0
      },
      "text/plain": [
       "Algorithm Progress:   0%|          | 0/4 [00:00<?, ?it/s]"
      ]
     },
     "metadata": {},
     "output_type": "display_data"
    },
    {
     "data": {
      "application/vnd.jupyter.widget-view+json": {
       "model_id": "1f0adc9ff8b342389b111a6752415188",
       "version_major": 2,
       "version_minor": 0
      },
      "text/plain": [
       "Communities progress:   0%|          | 0/3 [00:00<?, ?it/s]"
      ]
     },
     "metadata": {},
     "output_type": "display_data"
    },
    {
     "data": {
      "application/vnd.jupyter.widget-view+json": {
       "model_id": "9c8fc0a77e4940ad8f1a6394e9623fca",
       "version_major": 2,
       "version_minor": 0
      },
      "text/plain": [
       "Communities progress:   0%|          | 0/3 [00:00<?, ?it/s]"
      ]
     },
     "metadata": {},
     "output_type": "display_data"
    },
    {
     "data": {
      "application/vnd.jupyter.widget-view+json": {
       "model_id": "0cbe6aeef5ef4740b778549071494a3e",
       "version_major": 2,
       "version_minor": 0
      },
      "text/plain": [
       "Communities progress:   0%|          | 0/3 [00:00<?, ?it/s]"
      ]
     },
     "metadata": {},
     "output_type": "display_data"
    },
    {
     "data": {
      "application/vnd.jupyter.widget-view+json": {
       "model_id": "89d00770e8f14aa487da6977bd5106b6",
       "version_major": 2,
       "version_minor": 0
      },
      "text/plain": [
       "Communities progress:   0%|          | 0/3 [00:00<?, ?it/s]"
      ]
     },
     "metadata": {},
     "output_type": "display_data"
    },
    {
     "data": {
      "application/vnd.jupyter.widget-view+json": {
       "model_id": "c0505ab520c84003b59b7074c0472f82",
       "version_major": 2,
       "version_minor": 0
      },
      "text/plain": [
       "Algorithm Progress:   0%|          | 0/4 [00:00<?, ?it/s]"
      ]
     },
     "metadata": {},
     "output_type": "display_data"
    },
    {
     "data": {
      "application/vnd.jupyter.widget-view+json": {
       "model_id": "84b5e3501fd74f11bfcc7d4caa38c8a1",
       "version_major": 2,
       "version_minor": 0
      },
      "text/plain": [
       "Communities progress:   0%|          | 0/2 [00:00<?, ?it/s]"
      ]
     },
     "metadata": {},
     "output_type": "display_data"
    },
    {
     "data": {
      "application/vnd.jupyter.widget-view+json": {
       "model_id": "0260354023d0483b95c56b7662aa22b7",
       "version_major": 2,
       "version_minor": 0
      },
      "text/plain": [
       "Communities progress:   0%|          | 0/2 [00:00<?, ?it/s]"
      ]
     },
     "metadata": {},
     "output_type": "display_data"
    },
    {
     "data": {
      "application/vnd.jupyter.widget-view+json": {
       "model_id": "8c89f71d5da44ac895a9cb461bfc4278",
       "version_major": 2,
       "version_minor": 0
      },
      "text/plain": [
       "Communities progress:   0%|          | 0/2 [00:00<?, ?it/s]"
      ]
     },
     "metadata": {},
     "output_type": "display_data"
    },
    {
     "data": {
      "application/vnd.jupyter.widget-view+json": {
       "model_id": "03240e3330934c558d947963fd46ce41",
       "version_major": 2,
       "version_minor": 0
      },
      "text/plain": [
       "Communities progress:   0%|          | 0/2 [00:00<?, ?it/s]"
      ]
     },
     "metadata": {},
     "output_type": "display_data"
    },
    {
     "data": {
      "application/vnd.jupyter.widget-view+json": {
       "model_id": "6ed1051a826e4f2ca078b2c5c23f0c4d",
       "version_major": 2,
       "version_minor": 0
      },
      "text/plain": [
       "Algorithm Progress:   0%|          | 0/4 [00:00<?, ?it/s]"
      ]
     },
     "metadata": {},
     "output_type": "display_data"
    },
    {
     "data": {
      "application/vnd.jupyter.widget-view+json": {
       "model_id": "746230ae3d9442988d44b6622eb38cae",
       "version_major": 2,
       "version_minor": 0
      },
      "text/plain": [
       "Communities progress:   0%|          | 0/511 [00:00<?, ?it/s]"
      ]
     },
     "metadata": {},
     "output_type": "display_data"
    },
    {
     "data": {
      "application/vnd.jupyter.widget-view+json": {
       "model_id": "a5da7772b4634e0da64ecdd46ae2d95e",
       "version_major": 2,
       "version_minor": 0
      },
      "text/plain": [
       "Communities progress:   0%|          | 0/502 [00:00<?, ?it/s]"
      ]
     },
     "metadata": {},
     "output_type": "display_data"
    },
    {
     "data": {
      "application/vnd.jupyter.widget-view+json": {
       "model_id": "a67bb06143444eafb34e806df24ea6ae",
       "version_major": 2,
       "version_minor": 0
      },
      "text/plain": [
       "Communities progress:   0%|          | 0/494 [00:00<?, ?it/s]"
      ]
     },
     "metadata": {},
     "output_type": "display_data"
    },
    {
     "data": {
      "application/vnd.jupyter.widget-view+json": {
       "model_id": "3cc814c388b84688ab5ec4e3aa9ba8f4",
       "version_major": 2,
       "version_minor": 0
      },
      "text/plain": [
       "Communities progress:   0%|          | 0/511 [00:00<?, ?it/s]"
      ]
     },
     "metadata": {},
     "output_type": "display_data"
    },
    {
     "data": {
      "application/vnd.jupyter.widget-view+json": {
       "model_id": "3ff58740772347839cfdcfdb4027f0cf",
       "version_major": 2,
       "version_minor": 0
      },
      "text/plain": [
       "Community Detector Progress:   0%|          | 0/4 [00:00<?, ?it/s]"
      ]
     },
     "metadata": {},
     "output_type": "display_data"
    },
    {
     "data": {
      "application/vnd.jupyter.widget-view+json": {
       "model_id": "409d5ae6108c462bac75239fa14c0a48",
       "version_major": 2,
       "version_minor": 0
      },
      "text/plain": [
       "Algorithm Progress:   0%|          | 0/4 [00:00<?, ?it/s]"
      ]
     },
     "metadata": {},
     "output_type": "display_data"
    },
    {
     "data": {
      "application/vnd.jupyter.widget-view+json": {
       "model_id": "d1e0a6bc258e4d4ab1c2dfcb4ec7b1b5",
       "version_major": 2,
       "version_minor": 0
      },
      "text/plain": [
       "Algorithm Progress:   0%|          | 0/4 [00:00<?, ?it/s]"
      ]
     },
     "metadata": {},
     "output_type": "display_data"
    },
    {
     "data": {
      "application/vnd.jupyter.widget-view+json": {
       "model_id": "dec746a1a6ef4dedac5ece082b91577e",
       "version_major": 2,
       "version_minor": 0
      },
      "text/plain": [
       "Communities progress:   0%|          | 0/3 [00:00<?, ?it/s]"
      ]
     },
     "metadata": {},
     "output_type": "display_data"
    },
    {
     "data": {
      "application/vnd.jupyter.widget-view+json": {
       "model_id": "8ad121c8da9b47b7bdee3f82667128dc",
       "version_major": 2,
       "version_minor": 0
      },
      "text/plain": [
       "Communities progress:   0%|          | 0/3 [00:00<?, ?it/s]"
      ]
     },
     "metadata": {},
     "output_type": "display_data"
    },
    {
     "data": {
      "application/vnd.jupyter.widget-view+json": {
       "model_id": "44e5f7086556436794b4cc45fe8360cb",
       "version_major": 2,
       "version_minor": 0
      },
      "text/plain": [
       "Communities progress:   0%|          | 0/3 [00:00<?, ?it/s]"
      ]
     },
     "metadata": {},
     "output_type": "display_data"
    },
    {
     "data": {
      "application/vnd.jupyter.widget-view+json": {
       "model_id": "a03038653a5c40e58390ef886762aac0",
       "version_major": 2,
       "version_minor": 0
      },
      "text/plain": [
       "Communities progress:   0%|          | 0/3 [00:00<?, ?it/s]"
      ]
     },
     "metadata": {},
     "output_type": "display_data"
    },
    {
     "data": {
      "application/vnd.jupyter.widget-view+json": {
       "model_id": "e9c08ec601d7441ea044b03fbae51694",
       "version_major": 2,
       "version_minor": 0
      },
      "text/plain": [
       "Algorithm Progress:   0%|          | 0/4 [00:00<?, ?it/s]"
      ]
     },
     "metadata": {},
     "output_type": "display_data"
    },
    {
     "data": {
      "application/vnd.jupyter.widget-view+json": {
       "model_id": "4393129618ea4c25bfbc373f796c4aa6",
       "version_major": 2,
       "version_minor": 0
      },
      "text/plain": [
       "Communities progress:   0%|          | 0/2 [00:00<?, ?it/s]"
      ]
     },
     "metadata": {},
     "output_type": "display_data"
    },
    {
     "data": {
      "application/vnd.jupyter.widget-view+json": {
       "model_id": "f64a92a5fd41422ab37a30d2bd1cb506",
       "version_major": 2,
       "version_minor": 0
      },
      "text/plain": [
       "Communities progress:   0%|          | 0/2 [00:00<?, ?it/s]"
      ]
     },
     "metadata": {},
     "output_type": "display_data"
    },
    {
     "data": {
      "application/vnd.jupyter.widget-view+json": {
       "model_id": "06cef5871f0f456fb6c3ced1cdd440ad",
       "version_major": 2,
       "version_minor": 0
      },
      "text/plain": [
       "Communities progress:   0%|          | 0/2 [00:00<?, ?it/s]"
      ]
     },
     "metadata": {},
     "output_type": "display_data"
    },
    {
     "data": {
      "application/vnd.jupyter.widget-view+json": {
       "model_id": "46f967804fb145b48aff345c52515a6a",
       "version_major": 2,
       "version_minor": 0
      },
      "text/plain": [
       "Communities progress:   0%|          | 0/2 [00:00<?, ?it/s]"
      ]
     },
     "metadata": {},
     "output_type": "display_data"
    },
    {
     "data": {
      "application/vnd.jupyter.widget-view+json": {
       "model_id": "f7d79b9a1193463fb0de34ef474caa07",
       "version_major": 2,
       "version_minor": 0
      },
      "text/plain": [
       "Algorithm Progress:   0%|          | 0/4 [00:00<?, ?it/s]"
      ]
     },
     "metadata": {},
     "output_type": "display_data"
    },
    {
     "data": {
      "application/vnd.jupyter.widget-view+json": {
       "model_id": "a7c5cc9c9bae438bbcc096c9e6465c1b",
       "version_major": 2,
       "version_minor": 0
      },
      "text/plain": [
       "Communities progress:   0%|          | 0/467 [00:00<?, ?it/s]"
      ]
     },
     "metadata": {},
     "output_type": "display_data"
    },
    {
     "data": {
      "application/vnd.jupyter.widget-view+json": {
       "model_id": "a71d65c759194833ad8321b972ab3956",
       "version_major": 2,
       "version_minor": 0
      },
      "text/plain": [
       "Communities progress:   0%|          | 0/453 [00:00<?, ?it/s]"
      ]
     },
     "metadata": {},
     "output_type": "display_data"
    },
    {
     "data": {
      "application/vnd.jupyter.widget-view+json": {
       "model_id": "e5d618924bcd41abac36a860d9650db5",
       "version_major": 2,
       "version_minor": 0
      },
      "text/plain": [
       "Communities progress:   0%|          | 0/454 [00:00<?, ?it/s]"
      ]
     },
     "metadata": {},
     "output_type": "display_data"
    },
    {
     "data": {
      "application/vnd.jupyter.widget-view+json": {
       "model_id": "e06287d4221843c7a7eff85cb0939561",
       "version_major": 2,
       "version_minor": 0
      },
      "text/plain": [
       "Communities progress:   0%|          | 0/466 [00:00<?, ?it/s]"
      ]
     },
     "metadata": {},
     "output_type": "display_data"
    },
    {
     "data": {
      "application/vnd.jupyter.widget-view+json": {
       "model_id": "3e7598305b2741618b7f4eb953813034",
       "version_major": 2,
       "version_minor": 0
      },
      "text/plain": [
       "Similarity Metric Progress:   0%|          | 0/4 [00:00<?, ?it/s]"
      ]
     },
     "metadata": {},
     "output_type": "display_data"
    },
    {
     "data": {
      "application/vnd.jupyter.widget-view+json": {
       "model_id": "32e8208d25344c2ebb77789fedf0cdf9",
       "version_major": 2,
       "version_minor": 0
      },
      "text/plain": [
       "Community Detector Progress:   0%|          | 0/4 [00:00<?, ?it/s]"
      ]
     },
     "metadata": {},
     "output_type": "display_data"
    },
    {
     "data": {
      "application/vnd.jupyter.widget-view+json": {
       "model_id": "99cfdd13fe3f43a9bab9b3bc4d9ba8b9",
       "version_major": 2,
       "version_minor": 0
      },
      "text/plain": [
       "Algorithm Progress:   0%|          | 0/4 [00:00<?, ?it/s]"
      ]
     },
     "metadata": {},
     "output_type": "display_data"
    },
    {
     "data": {
      "application/vnd.jupyter.widget-view+json": {
       "model_id": "62f3327a6a3741f08517e11a4c305df8",
       "version_major": 2,
       "version_minor": 0
      },
      "text/plain": [
       "Algorithm Progress:   0%|          | 0/4 [00:00<?, ?it/s]"
      ]
     },
     "metadata": {},
     "output_type": "display_data"
    },
    {
     "data": {
      "application/vnd.jupyter.widget-view+json": {
       "model_id": "c091a24e71784f43ba7b640f2929d2e0",
       "version_major": 2,
       "version_minor": 0
      },
      "text/plain": [
       "Communities progress:   0%|          | 0/3 [00:00<?, ?it/s]"
      ]
     },
     "metadata": {},
     "output_type": "display_data"
    },
    {
     "data": {
      "application/vnd.jupyter.widget-view+json": {
       "model_id": "6c148ca779134ba795cbdb967459ecbc",
       "version_major": 2,
       "version_minor": 0
      },
      "text/plain": [
       "Communities progress:   0%|          | 0/3 [00:00<?, ?it/s]"
      ]
     },
     "metadata": {},
     "output_type": "display_data"
    },
    {
     "data": {
      "application/vnd.jupyter.widget-view+json": {
       "model_id": "e6ad0b8c6fb8429e82b38181a33fd697",
       "version_major": 2,
       "version_minor": 0
      },
      "text/plain": [
       "Communities progress:   0%|          | 0/3 [00:00<?, ?it/s]"
      ]
     },
     "metadata": {},
     "output_type": "display_data"
    },
    {
     "data": {
      "application/vnd.jupyter.widget-view+json": {
       "model_id": "9889c3863ab2429980f658eb9f0a2fcf",
       "version_major": 2,
       "version_minor": 0
      },
      "text/plain": [
       "Communities progress:   0%|          | 0/3 [00:00<?, ?it/s]"
      ]
     },
     "metadata": {},
     "output_type": "display_data"
    },
    {
     "data": {
      "application/vnd.jupyter.widget-view+json": {
       "model_id": "cefb08d43c69463ab37706bbaa9a8baf",
       "version_major": 2,
       "version_minor": 0
      },
      "text/plain": [
       "Algorithm Progress:   0%|          | 0/4 [00:00<?, ?it/s]"
      ]
     },
     "metadata": {},
     "output_type": "display_data"
    },
    {
     "data": {
      "application/vnd.jupyter.widget-view+json": {
       "model_id": "40d09464e53a42fdb546bed7a64d8f09",
       "version_major": 2,
       "version_minor": 0
      },
      "text/plain": [
       "Communities progress:   0%|          | 0/87 [00:00<?, ?it/s]"
      ]
     },
     "metadata": {},
     "output_type": "display_data"
    },
    {
     "data": {
      "application/vnd.jupyter.widget-view+json": {
       "model_id": "a9a15e286fbf4db98aae61236f719dd0",
       "version_major": 2,
       "version_minor": 0
      },
      "text/plain": [
       "Communities progress:   0%|          | 0/87 [00:00<?, ?it/s]"
      ]
     },
     "metadata": {},
     "output_type": "display_data"
    },
    {
     "data": {
      "application/vnd.jupyter.widget-view+json": {
       "model_id": "d43296cc68f6450997d9d0c11a39d3bc",
       "version_major": 2,
       "version_minor": 0
      },
      "text/plain": [
       "Communities progress:   0%|          | 0/87 [00:00<?, ?it/s]"
      ]
     },
     "metadata": {},
     "output_type": "display_data"
    },
    {
     "data": {
      "application/vnd.jupyter.widget-view+json": {
       "model_id": "2caa8fc1d3ea4a74b16a5e0ac1ada267",
       "version_major": 2,
       "version_minor": 0
      },
      "text/plain": [
       "Communities progress:   0%|          | 0/87 [00:00<?, ?it/s]"
      ]
     },
     "metadata": {},
     "output_type": "display_data"
    },
    {
     "data": {
      "application/vnd.jupyter.widget-view+json": {
       "model_id": "c6b130ce9cee4344bd982388ea968f82",
       "version_major": 2,
       "version_minor": 0
      },
      "text/plain": [
       "Algorithm Progress:   0%|          | 0/4 [00:00<?, ?it/s]"
      ]
     },
     "metadata": {},
     "output_type": "display_data"
    },
    {
     "data": {
      "application/vnd.jupyter.widget-view+json": {
       "model_id": "c528281d544540d881cc51a093cee0f2",
       "version_major": 2,
       "version_minor": 0
      },
      "text/plain": [
       "Communities progress:   0%|          | 0/458 [00:00<?, ?it/s]"
      ]
     },
     "metadata": {},
     "output_type": "display_data"
    },
    {
     "data": {
      "application/vnd.jupyter.widget-view+json": {
       "model_id": "7c31adff7ade4e24853e102f68b39ae5",
       "version_major": 2,
       "version_minor": 0
      },
      "text/plain": [
       "Communities progress:   0%|          | 0/462 [00:00<?, ?it/s]"
      ]
     },
     "metadata": {},
     "output_type": "display_data"
    },
    {
     "data": {
      "application/vnd.jupyter.widget-view+json": {
       "model_id": "31a9e26f7560412b889237029f4f4d1c",
       "version_major": 2,
       "version_minor": 0
      },
      "text/plain": [
       "Communities progress:   0%|          | 0/447 [00:00<?, ?it/s]"
      ]
     },
     "metadata": {},
     "output_type": "display_data"
    },
    {
     "data": {
      "application/vnd.jupyter.widget-view+json": {
       "model_id": "bbad5a76e3144a57bb86196062225cba",
       "version_major": 2,
       "version_minor": 0
      },
      "text/plain": [
       "Communities progress:   0%|          | 0/475 [00:00<?, ?it/s]"
      ]
     },
     "metadata": {},
     "output_type": "display_data"
    },
    {
     "data": {
      "application/vnd.jupyter.widget-view+json": {
       "model_id": "3a657c1dc50c414b81adb8064d74f661",
       "version_major": 2,
       "version_minor": 0
      },
      "text/plain": [
       "Community Detector Progress:   0%|          | 0/4 [00:00<?, ?it/s]"
      ]
     },
     "metadata": {},
     "output_type": "display_data"
    },
    {
     "data": {
      "application/vnd.jupyter.widget-view+json": {
       "model_id": "ca8c902c03a04789bbb1a41461a20cc3",
       "version_major": 2,
       "version_minor": 0
      },
      "text/plain": [
       "Algorithm Progress:   0%|          | 0/4 [00:00<?, ?it/s]"
      ]
     },
     "metadata": {},
     "output_type": "display_data"
    },
    {
     "data": {
      "application/vnd.jupyter.widget-view+json": {
       "model_id": "b96fadad70e44a49927a6edba5b7c60e",
       "version_major": 2,
       "version_minor": 0
      },
      "text/plain": [
       "Algorithm Progress:   0%|          | 0/4 [00:00<?, ?it/s]"
      ]
     },
     "metadata": {},
     "output_type": "display_data"
    },
    {
     "data": {
      "application/vnd.jupyter.widget-view+json": {
       "model_id": "b2e6da73555f4fd7a0c01fa4e64902ae",
       "version_major": 2,
       "version_minor": 0
      },
      "text/plain": [
       "Communities progress:   0%|          | 0/4 [00:00<?, ?it/s]"
      ]
     },
     "metadata": {},
     "output_type": "display_data"
    },
    {
     "data": {
      "application/vnd.jupyter.widget-view+json": {
       "model_id": "0a9b9671d0d147d3a12258e84793c115",
       "version_major": 2,
       "version_minor": 0
      },
      "text/plain": [
       "Communities progress:   0%|          | 0/3 [00:00<?, ?it/s]"
      ]
     },
     "metadata": {},
     "output_type": "display_data"
    },
    {
     "data": {
      "application/vnd.jupyter.widget-view+json": {
       "model_id": "dd2443af09c544d19359abb77eac4dfd",
       "version_major": 2,
       "version_minor": 0
      },
      "text/plain": [
       "Communities progress:   0%|          | 0/3 [00:00<?, ?it/s]"
      ]
     },
     "metadata": {},
     "output_type": "display_data"
    },
    {
     "data": {
      "application/vnd.jupyter.widget-view+json": {
       "model_id": "2fd5364c4d834719a5b6d8423bccf672",
       "version_major": 2,
       "version_minor": 0
      },
      "text/plain": [
       "Communities progress:   0%|          | 0/3 [00:00<?, ?it/s]"
      ]
     },
     "metadata": {},
     "output_type": "display_data"
    },
    {
     "data": {
      "application/vnd.jupyter.widget-view+json": {
       "model_id": "e1304c77ea974422b1d81a58fc78ea25",
       "version_major": 2,
       "version_minor": 0
      },
      "text/plain": [
       "Algorithm Progress:   0%|          | 0/4 [00:00<?, ?it/s]"
      ]
     },
     "metadata": {},
     "output_type": "display_data"
    },
    {
     "data": {
      "application/vnd.jupyter.widget-view+json": {
       "model_id": "8e7d7f8580c64bdca5b6700da86b570d",
       "version_major": 2,
       "version_minor": 0
      },
      "text/plain": [
       "Communities progress:   0%|          | 0/2 [00:00<?, ?it/s]"
      ]
     },
     "metadata": {},
     "output_type": "display_data"
    },
    {
     "data": {
      "application/vnd.jupyter.widget-view+json": {
       "model_id": "a62d505d8f99485ebd7d7fbdcd5fc43a",
       "version_major": 2,
       "version_minor": 0
      },
      "text/plain": [
       "Communities progress:   0%|          | 0/2 [00:00<?, ?it/s]"
      ]
     },
     "metadata": {},
     "output_type": "display_data"
    },
    {
     "data": {
      "application/vnd.jupyter.widget-view+json": {
       "model_id": "0e81f5e04b48485da7bd50bc08c6890a",
       "version_major": 2,
       "version_minor": 0
      },
      "text/plain": [
       "Communities progress:   0%|          | 0/2 [00:00<?, ?it/s]"
      ]
     },
     "metadata": {},
     "output_type": "display_data"
    },
    {
     "data": {
      "application/vnd.jupyter.widget-view+json": {
       "model_id": "f38c3c06361d49b8ba0e4a1aa3f7145e",
       "version_major": 2,
       "version_minor": 0
      },
      "text/plain": [
       "Communities progress:   0%|          | 0/2 [00:00<?, ?it/s]"
      ]
     },
     "metadata": {},
     "output_type": "display_data"
    },
    {
     "data": {
      "application/vnd.jupyter.widget-view+json": {
       "model_id": "a7ef5be851424589a0bcd7fc40d13907",
       "version_major": 2,
       "version_minor": 0
      },
      "text/plain": [
       "Algorithm Progress:   0%|          | 0/4 [00:00<?, ?it/s]"
      ]
     },
     "metadata": {},
     "output_type": "display_data"
    },
    {
     "data": {
      "application/vnd.jupyter.widget-view+json": {
       "model_id": "55b9c577d2764615b74dc11ebaefb6dc",
       "version_major": 2,
       "version_minor": 0
      },
      "text/plain": [
       "Communities progress:   0%|          | 0/76 [00:00<?, ?it/s]"
      ]
     },
     "metadata": {},
     "output_type": "display_data"
    },
    {
     "data": {
      "application/vnd.jupyter.widget-view+json": {
       "model_id": "1e00f322c6e14c2fb8501afad225e646",
       "version_major": 2,
       "version_minor": 0
      },
      "text/plain": [
       "Communities progress:   0%|          | 0/76 [00:00<?, ?it/s]"
      ]
     },
     "metadata": {},
     "output_type": "display_data"
    },
    {
     "data": {
      "application/vnd.jupyter.widget-view+json": {
       "model_id": "8cc1848a2b41425f913e09f44a1254b2",
       "version_major": 2,
       "version_minor": 0
      },
      "text/plain": [
       "Communities progress:   0%|          | 0/84 [00:00<?, ?it/s]"
      ]
     },
     "metadata": {},
     "output_type": "display_data"
    },
    {
     "data": {
      "application/vnd.jupyter.widget-view+json": {
       "model_id": "6177672c09fd4175a08729f1240b46d0",
       "version_major": 2,
       "version_minor": 0
      },
      "text/plain": [
       "Communities progress:   0%|          | 0/79 [00:00<?, ?it/s]"
      ]
     },
     "metadata": {},
     "output_type": "display_data"
    },
    {
     "data": {
      "application/vnd.jupyter.widget-view+json": {
       "model_id": "d33bef3b87934e1289492aabd272b94f",
       "version_major": 2,
       "version_minor": 0
      },
      "text/plain": [
       "Community Detector Progress:   0%|          | 0/4 [00:00<?, ?it/s]"
      ]
     },
     "metadata": {},
     "output_type": "display_data"
    },
    {
     "data": {
      "application/vnd.jupyter.widget-view+json": {
       "model_id": "53b1206cc9504a0eb2ac0eeb446419b9",
       "version_major": 2,
       "version_minor": 0
      },
      "text/plain": [
       "Algorithm Progress:   0%|          | 0/4 [00:00<?, ?it/s]"
      ]
     },
     "metadata": {},
     "output_type": "display_data"
    },
    {
     "data": {
      "application/vnd.jupyter.widget-view+json": {
       "model_id": "583e9a7cb44148519661a276db10a8d0",
       "version_major": 2,
       "version_minor": 0
      },
      "text/plain": [
       "Algorithm Progress:   0%|          | 0/4 [00:00<?, ?it/s]"
      ]
     },
     "metadata": {},
     "output_type": "display_data"
    },
    {
     "data": {
      "application/vnd.jupyter.widget-view+json": {
       "model_id": "2324e0a255ac415db6e6e8d4175ac5e7",
       "version_major": 2,
       "version_minor": 0
      },
      "text/plain": [
       "Communities progress:   0%|          | 0/3 [00:00<?, ?it/s]"
      ]
     },
     "metadata": {},
     "output_type": "display_data"
    },
    {
     "data": {
      "application/vnd.jupyter.widget-view+json": {
       "model_id": "718b06573ac44fc4a20bb904f2e4b800",
       "version_major": 2,
       "version_minor": 0
      },
      "text/plain": [
       "Communities progress:   0%|          | 0/3 [00:00<?, ?it/s]"
      ]
     },
     "metadata": {},
     "output_type": "display_data"
    },
    {
     "data": {
      "application/vnd.jupyter.widget-view+json": {
       "model_id": "ac29787068e3403584fc629429d00738",
       "version_major": 2,
       "version_minor": 0
      },
      "text/plain": [
       "Communities progress:   0%|          | 0/3 [00:00<?, ?it/s]"
      ]
     },
     "metadata": {},
     "output_type": "display_data"
    },
    {
     "data": {
      "application/vnd.jupyter.widget-view+json": {
       "model_id": "db0d50171e004087aa13733fc73c47f8",
       "version_major": 2,
       "version_minor": 0
      },
      "text/plain": [
       "Communities progress:   0%|          | 0/3 [00:00<?, ?it/s]"
      ]
     },
     "metadata": {},
     "output_type": "display_data"
    },
    {
     "data": {
      "application/vnd.jupyter.widget-view+json": {
       "model_id": "b3e046cd71b0412382bb62da65957c0b",
       "version_major": 2,
       "version_minor": 0
      },
      "text/plain": [
       "Algorithm Progress:   0%|          | 0/4 [00:00<?, ?it/s]"
      ]
     },
     "metadata": {},
     "output_type": "display_data"
    },
    {
     "data": {
      "application/vnd.jupyter.widget-view+json": {
       "model_id": "23dc86754fd4416db8f18094cf4705df",
       "version_major": 2,
       "version_minor": 0
      },
      "text/plain": [
       "Communities progress:   0%|          | 0/2 [00:00<?, ?it/s]"
      ]
     },
     "metadata": {},
     "output_type": "display_data"
    },
    {
     "data": {
      "application/vnd.jupyter.widget-view+json": {
       "model_id": "1d7a13ce7bb04b2b9874f3baeb55cde8",
       "version_major": 2,
       "version_minor": 0
      },
      "text/plain": [
       "Communities progress:   0%|          | 0/2 [00:00<?, ?it/s]"
      ]
     },
     "metadata": {},
     "output_type": "display_data"
    },
    {
     "data": {
      "application/vnd.jupyter.widget-view+json": {
       "model_id": "9f2628206f6f4cf985575b06fe8438a3",
       "version_major": 2,
       "version_minor": 0
      },
      "text/plain": [
       "Communities progress:   0%|          | 0/2 [00:00<?, ?it/s]"
      ]
     },
     "metadata": {},
     "output_type": "display_data"
    },
    {
     "data": {
      "application/vnd.jupyter.widget-view+json": {
       "model_id": "d9439b0c529a43f99ece80ce648c296c",
       "version_major": 2,
       "version_minor": 0
      },
      "text/plain": [
       "Communities progress:   0%|          | 0/2 [00:00<?, ?it/s]"
      ]
     },
     "metadata": {},
     "output_type": "display_data"
    },
    {
     "data": {
      "application/vnd.jupyter.widget-view+json": {
       "model_id": "827c3f1410bc4afcbd95485ae65f1360",
       "version_major": 2,
       "version_minor": 0
      },
      "text/plain": [
       "Algorithm Progress:   0%|          | 0/4 [00:00<?, ?it/s]"
      ]
     },
     "metadata": {},
     "output_type": "display_data"
    },
    {
     "data": {
      "application/vnd.jupyter.widget-view+json": {
       "model_id": "42d28750bf26492e8609f4b1553f2627",
       "version_major": 2,
       "version_minor": 0
      },
      "text/plain": [
       "Communities progress:   0%|          | 0/505 [00:00<?, ?it/s]"
      ]
     },
     "metadata": {},
     "output_type": "display_data"
    },
    {
     "data": {
      "application/vnd.jupyter.widget-view+json": {
       "model_id": "9e66356756cc488fb7597d2bf0631e50",
       "version_major": 2,
       "version_minor": 0
      },
      "text/plain": [
       "Communities progress:   0%|          | 0/522 [00:00<?, ?it/s]"
      ]
     },
     "metadata": {},
     "output_type": "display_data"
    },
    {
     "data": {
      "application/vnd.jupyter.widget-view+json": {
       "model_id": "c0c9dd5920b4442bb287091241a50e65",
       "version_major": 2,
       "version_minor": 0
      },
      "text/plain": [
       "Communities progress:   0%|          | 0/510 [00:00<?, ?it/s]"
      ]
     },
     "metadata": {},
     "output_type": "display_data"
    },
    {
     "data": {
      "application/vnd.jupyter.widget-view+json": {
       "model_id": "46f7c9661035447e9e8972110cfe5b2e",
       "version_major": 2,
       "version_minor": 0
      },
      "text/plain": [
       "Communities progress:   0%|          | 0/527 [00:00<?, ?it/s]"
      ]
     },
     "metadata": {},
     "output_type": "display_data"
    },
    {
     "data": {
      "application/vnd.jupyter.widget-view+json": {
       "model_id": "3073a9919d7f47638b2ba28921d7215c",
       "version_major": 2,
       "version_minor": 0
      },
      "text/plain": [
       "Community Detector Progress:   0%|          | 0/4 [00:00<?, ?it/s]"
      ]
     },
     "metadata": {},
     "output_type": "display_data"
    },
    {
     "data": {
      "application/vnd.jupyter.widget-view+json": {
       "model_id": "c466ea826db8471cb4459a29b61c1645",
       "version_major": 2,
       "version_minor": 0
      },
      "text/plain": [
       "Algorithm Progress:   0%|          | 0/4 [00:00<?, ?it/s]"
      ]
     },
     "metadata": {},
     "output_type": "display_data"
    },
    {
     "data": {
      "application/vnd.jupyter.widget-view+json": {
       "model_id": "58a47a8734994d4c82c040c7da5189b7",
       "version_major": 2,
       "version_minor": 0
      },
      "text/plain": [
       "Algorithm Progress:   0%|          | 0/4 [00:00<?, ?it/s]"
      ]
     },
     "metadata": {},
     "output_type": "display_data"
    },
    {
     "data": {
      "application/vnd.jupyter.widget-view+json": {
       "model_id": "c69c73af32e642bc9e3a10c8263b7005",
       "version_major": 2,
       "version_minor": 0
      },
      "text/plain": [
       "Communities progress:   0%|          | 0/3 [00:00<?, ?it/s]"
      ]
     },
     "metadata": {},
     "output_type": "display_data"
    },
    {
     "data": {
      "application/vnd.jupyter.widget-view+json": {
       "model_id": "2d0463a64ab94e40adbbf66f38fa5622",
       "version_major": 2,
       "version_minor": 0
      },
      "text/plain": [
       "Communities progress:   0%|          | 0/3 [00:00<?, ?it/s]"
      ]
     },
     "metadata": {},
     "output_type": "display_data"
    },
    {
     "data": {
      "application/vnd.jupyter.widget-view+json": {
       "model_id": "eb67cb55ad544394b5a0825ad701e462",
       "version_major": 2,
       "version_minor": 0
      },
      "text/plain": [
       "Communities progress:   0%|          | 0/3 [00:00<?, ?it/s]"
      ]
     },
     "metadata": {},
     "output_type": "display_data"
    },
    {
     "data": {
      "application/vnd.jupyter.widget-view+json": {
       "model_id": "091e501b8a834aa38e4eaa1483702c1b",
       "version_major": 2,
       "version_minor": 0
      },
      "text/plain": [
       "Communities progress:   0%|          | 0/3 [00:00<?, ?it/s]"
      ]
     },
     "metadata": {},
     "output_type": "display_data"
    },
    {
     "data": {
      "application/vnd.jupyter.widget-view+json": {
       "model_id": "18bd889559744bc1b36f600da6e8268d",
       "version_major": 2,
       "version_minor": 0
      },
      "text/plain": [
       "Algorithm Progress:   0%|          | 0/4 [00:00<?, ?it/s]"
      ]
     },
     "metadata": {},
     "output_type": "display_data"
    },
    {
     "data": {
      "application/vnd.jupyter.widget-view+json": {
       "model_id": "1ca5797345464f059ebd5b9aa7e3c48e",
       "version_major": 2,
       "version_minor": 0
      },
      "text/plain": [
       "Communities progress:   0%|          | 0/87 [00:00<?, ?it/s]"
      ]
     },
     "metadata": {},
     "output_type": "display_data"
    },
    {
     "data": {
      "application/vnd.jupyter.widget-view+json": {
       "model_id": "0a3974a253364e9b9a4c3aeccdc0aad7",
       "version_major": 2,
       "version_minor": 0
      },
      "text/plain": [
       "Communities progress:   0%|          | 0/87 [00:00<?, ?it/s]"
      ]
     },
     "metadata": {},
     "output_type": "display_data"
    },
    {
     "data": {
      "application/vnd.jupyter.widget-view+json": {
       "model_id": "f24293f895654166957098d6a80474e9",
       "version_major": 2,
       "version_minor": 0
      },
      "text/plain": [
       "Communities progress:   0%|          | 0/87 [00:00<?, ?it/s]"
      ]
     },
     "metadata": {},
     "output_type": "display_data"
    },
    {
     "data": {
      "application/vnd.jupyter.widget-view+json": {
       "model_id": "91d2f1c291d948939ad2822f5a9cab9d",
       "version_major": 2,
       "version_minor": 0
      },
      "text/plain": [
       "Communities progress:   0%|          | 0/87 [00:00<?, ?it/s]"
      ]
     },
     "metadata": {},
     "output_type": "display_data"
    },
    {
     "data": {
      "application/vnd.jupyter.widget-view+json": {
       "model_id": "7d02a8fbf1a94433984141ddfaea0b61",
       "version_major": 2,
       "version_minor": 0
      },
      "text/plain": [
       "Algorithm Progress:   0%|          | 0/4 [00:00<?, ?it/s]"
      ]
     },
     "metadata": {},
     "output_type": "display_data"
    },
    {
     "data": {
      "application/vnd.jupyter.widget-view+json": {
       "model_id": "9561501311264880a82f68e2477be7ed",
       "version_major": 2,
       "version_minor": 0
      },
      "text/plain": [
       "Communities progress:   0%|          | 0/469 [00:00<?, ?it/s]"
      ]
     },
     "metadata": {},
     "output_type": "display_data"
    },
    {
     "data": {
      "application/vnd.jupyter.widget-view+json": {
       "model_id": "16117a50d2764177a3021e4c6cf269c8",
       "version_major": 2,
       "version_minor": 0
      },
      "text/plain": [
       "Communities progress:   0%|          | 0/467 [00:00<?, ?it/s]"
      ]
     },
     "metadata": {},
     "output_type": "display_data"
    },
    {
     "data": {
      "application/vnd.jupyter.widget-view+json": {
       "model_id": "5c9b96dc6cba4ee095fa8d39b75f2e8a",
       "version_major": 2,
       "version_minor": 0
      },
      "text/plain": [
       "Communities progress:   0%|          | 0/468 [00:00<?, ?it/s]"
      ]
     },
     "metadata": {},
     "output_type": "display_data"
    },
    {
     "data": {
      "application/vnd.jupyter.widget-view+json": {
       "model_id": "56971ee981654ab3871a3ace6d93b125",
       "version_major": 2,
       "version_minor": 0
      },
      "text/plain": [
       "Communities progress:   0%|          | 0/468 [00:00<?, ?it/s]"
      ]
     },
     "metadata": {},
     "output_type": "display_data"
    },
    {
     "data": {
      "application/vnd.jupyter.widget-view+json": {
       "model_id": "3281ae98e2d040dabe4c89d0d085cba3",
       "version_major": 2,
       "version_minor": 0
      },
      "text/plain": [
       "Splits Progress: 0it [00:00, ?it/s]"
      ]
     },
     "metadata": {},
     "output_type": "display_data"
    },
    {
     "data": {
      "application/vnd.jupyter.widget-view+json": {
       "model_id": "b402bc58f36f4f67941419c17c38ffa7",
       "version_major": 2,
       "version_minor": 0
      },
      "text/plain": [
       "Similarity Metric Progress:   0%|          | 0/4 [00:00<?, ?it/s]"
      ]
     },
     "metadata": {},
     "output_type": "display_data"
    },
    {
     "data": {
      "application/vnd.jupyter.widget-view+json": {
       "model_id": "d91159ef1bfa46beb6ad5a1a906bcb98",
       "version_major": 2,
       "version_minor": 0
      },
      "text/plain": [
       "Community Detector Progress:   0%|          | 0/4 [00:00<?, ?it/s]"
      ]
     },
     "metadata": {},
     "output_type": "display_data"
    },
    {
     "data": {
      "application/vnd.jupyter.widget-view+json": {
       "model_id": "ee3651327b7140ee91d9d5b054d90439",
       "version_major": 2,
       "version_minor": 0
      },
      "text/plain": [
       "Algorithm Progress:   0%|          | 0/4 [00:00<?, ?it/s]"
      ]
     },
     "metadata": {},
     "output_type": "display_data"
    },
    {
     "data": {
      "application/vnd.jupyter.widget-view+json": {
       "model_id": "9882a88dd22641a1961b6c0889e753c6",
       "version_major": 2,
       "version_minor": 0
      },
      "text/plain": [
       "Algorithm Progress:   0%|          | 0/4 [00:00<?, ?it/s]"
      ]
     },
     "metadata": {},
     "output_type": "display_data"
    },
    {
     "data": {
      "application/vnd.jupyter.widget-view+json": {
       "model_id": "383c95779f4d48389f1729c3492ee819",
       "version_major": 2,
       "version_minor": 0
      },
      "text/plain": [
       "Communities progress:   0%|          | 0/3 [00:00<?, ?it/s]"
      ]
     },
     "metadata": {},
     "output_type": "display_data"
    },
    {
     "data": {
      "application/vnd.jupyter.widget-view+json": {
       "model_id": "0ef92c0b26ec41f7927a971e2b7ab7f3",
       "version_major": 2,
       "version_minor": 0
      },
      "text/plain": [
       "Communities progress:   0%|          | 0/3 [00:00<?, ?it/s]"
      ]
     },
     "metadata": {},
     "output_type": "display_data"
    },
    {
     "data": {
      "application/vnd.jupyter.widget-view+json": {
       "model_id": "bc3701c87cf64f21a55cf66a614fae06",
       "version_major": 2,
       "version_minor": 0
      },
      "text/plain": [
       "Communities progress:   0%|          | 0/3 [00:00<?, ?it/s]"
      ]
     },
     "metadata": {},
     "output_type": "display_data"
    },
    {
     "data": {
      "application/vnd.jupyter.widget-view+json": {
       "model_id": "13f7e8dc6df24630bd9538da705a8b25",
       "version_major": 2,
       "version_minor": 0
      },
      "text/plain": [
       "Communities progress:   0%|          | 0/3 [00:00<?, ?it/s]"
      ]
     },
     "metadata": {},
     "output_type": "display_data"
    },
    {
     "data": {
      "application/vnd.jupyter.widget-view+json": {
       "model_id": "5fb54e53d64e47ed887f77375f663329",
       "version_major": 2,
       "version_minor": 0
      },
      "text/plain": [
       "Algorithm Progress:   0%|          | 0/4 [00:00<?, ?it/s]"
      ]
     },
     "metadata": {},
     "output_type": "display_data"
    },
    {
     "data": {
      "application/vnd.jupyter.widget-view+json": {
       "model_id": "fdb9ad9ee5b047dab00c634ae85b2379",
       "version_major": 2,
       "version_minor": 0
      },
      "text/plain": [
       "Communities progress:   0%|          | 0/2 [00:00<?, ?it/s]"
      ]
     },
     "metadata": {},
     "output_type": "display_data"
    },
    {
     "data": {
      "application/vnd.jupyter.widget-view+json": {
       "model_id": "6a8b2a8175be47e9ac829aabef22e207",
       "version_major": 2,
       "version_minor": 0
      },
      "text/plain": [
       "Communities progress:   0%|          | 0/2 [00:00<?, ?it/s]"
      ]
     },
     "metadata": {},
     "output_type": "display_data"
    },
    {
     "data": {
      "application/vnd.jupyter.widget-view+json": {
       "model_id": "fe2a3be1f7754fcdb88feaff0a3e0322",
       "version_major": 2,
       "version_minor": 0
      },
      "text/plain": [
       "Communities progress:   0%|          | 0/2 [00:00<?, ?it/s]"
      ]
     },
     "metadata": {},
     "output_type": "display_data"
    },
    {
     "data": {
      "application/vnd.jupyter.widget-view+json": {
       "model_id": "a1dd1b7bd66d42e785e4f6702d9e1f06",
       "version_major": 2,
       "version_minor": 0
      },
      "text/plain": [
       "Communities progress:   0%|          | 0/2 [00:00<?, ?it/s]"
      ]
     },
     "metadata": {},
     "output_type": "display_data"
    },
    {
     "data": {
      "application/vnd.jupyter.widget-view+json": {
       "model_id": "ceec433da2dc492a91d9e264665f12aa",
       "version_major": 2,
       "version_minor": 0
      },
      "text/plain": [
       "Algorithm Progress:   0%|          | 0/4 [00:00<?, ?it/s]"
      ]
     },
     "metadata": {},
     "output_type": "display_data"
    },
    {
     "data": {
      "application/vnd.jupyter.widget-view+json": {
       "model_id": "1ccac32899894c72aa96de1a7425dbee",
       "version_major": 2,
       "version_minor": 0
      },
      "text/plain": [
       "Communities progress:   0%|          | 0/443 [00:00<?, ?it/s]"
      ]
     },
     "metadata": {},
     "output_type": "display_data"
    },
    {
     "data": {
      "application/vnd.jupyter.widget-view+json": {
       "model_id": "358193fbab4244c2b552656c55552605",
       "version_major": 2,
       "version_minor": 0
      },
      "text/plain": [
       "Communities progress:   0%|          | 0/447 [00:00<?, ?it/s]"
      ]
     },
     "metadata": {},
     "output_type": "display_data"
    },
    {
     "data": {
      "application/vnd.jupyter.widget-view+json": {
       "model_id": "c934ee01aca84942b0e8c5a51a202a71",
       "version_major": 2,
       "version_minor": 0
      },
      "text/plain": [
       "Communities progress:   0%|          | 0/444 [00:00<?, ?it/s]"
      ]
     },
     "metadata": {},
     "output_type": "display_data"
    },
    {
     "data": {
      "application/vnd.jupyter.widget-view+json": {
       "model_id": "15f62b7e29d94e558c2ff8caf015573d",
       "version_major": 2,
       "version_minor": 0
      },
      "text/plain": [
       "Communities progress:   0%|          | 0/449 [00:00<?, ?it/s]"
      ]
     },
     "metadata": {},
     "output_type": "display_data"
    },
    {
     "data": {
      "application/vnd.jupyter.widget-view+json": {
       "model_id": "4ca7ac2d18db44df9f6913f2fd545de2",
       "version_major": 2,
       "version_minor": 0
      },
      "text/plain": [
       "Community Detector Progress:   0%|          | 0/4 [00:00<?, ?it/s]"
      ]
     },
     "metadata": {},
     "output_type": "display_data"
    },
    {
     "data": {
      "application/vnd.jupyter.widget-view+json": {
       "model_id": "f0b2515525204df198a069a63662597a",
       "version_major": 2,
       "version_minor": 0
      },
      "text/plain": [
       "Algorithm Progress:   0%|          | 0/4 [00:00<?, ?it/s]"
      ]
     },
     "metadata": {},
     "output_type": "display_data"
    },
    {
     "data": {
      "application/vnd.jupyter.widget-view+json": {
       "model_id": "f7fb51b17d12494d8495be2c12491188",
       "version_major": 2,
       "version_minor": 0
      },
      "text/plain": [
       "Algorithm Progress:   0%|          | 0/4 [00:00<?, ?it/s]"
      ]
     },
     "metadata": {},
     "output_type": "display_data"
    },
    {
     "data": {
      "application/vnd.jupyter.widget-view+json": {
       "model_id": "36c3b46d5ae946999b8b01dd87d4dac9",
       "version_major": 2,
       "version_minor": 0
      },
      "text/plain": [
       "Communities progress:   0%|          | 0/3 [00:00<?, ?it/s]"
      ]
     },
     "metadata": {},
     "output_type": "display_data"
    },
    {
     "data": {
      "application/vnd.jupyter.widget-view+json": {
       "model_id": "817e05fe731343609df82a35cf28975d",
       "version_major": 2,
       "version_minor": 0
      },
      "text/plain": [
       "Communities progress:   0%|          | 0/3 [00:00<?, ?it/s]"
      ]
     },
     "metadata": {},
     "output_type": "display_data"
    },
    {
     "data": {
      "application/vnd.jupyter.widget-view+json": {
       "model_id": "56d298bd79684724b936e9db14a85a88",
       "version_major": 2,
       "version_minor": 0
      },
      "text/plain": [
       "Communities progress:   0%|          | 0/3 [00:00<?, ?it/s]"
      ]
     },
     "metadata": {},
     "output_type": "display_data"
    },
    {
     "data": {
      "application/vnd.jupyter.widget-view+json": {
       "model_id": "4455575e67c84c90b58f2fc824cf1ef6",
       "version_major": 2,
       "version_minor": 0
      },
      "text/plain": [
       "Communities progress:   0%|          | 0/4 [00:00<?, ?it/s]"
      ]
     },
     "metadata": {},
     "output_type": "display_data"
    },
    {
     "data": {
      "application/vnd.jupyter.widget-view+json": {
       "model_id": "81fc544cfc5f4241bfe4263c841929d2",
       "version_major": 2,
       "version_minor": 0
      },
      "text/plain": [
       "Algorithm Progress:   0%|          | 0/4 [00:00<?, ?it/s]"
      ]
     },
     "metadata": {},
     "output_type": "display_data"
    },
    {
     "data": {
      "application/vnd.jupyter.widget-view+json": {
       "model_id": "ddc9903f8f30443db9cb10856a523b44",
       "version_major": 2,
       "version_minor": 0
      },
      "text/plain": [
       "Communities progress:   0%|          | 0/2 [00:00<?, ?it/s]"
      ]
     },
     "metadata": {},
     "output_type": "display_data"
    },
    {
     "data": {
      "application/vnd.jupyter.widget-view+json": {
       "model_id": "4b8814381a204bf097635d7f8e64c88f",
       "version_major": 2,
       "version_minor": 0
      },
      "text/plain": [
       "Communities progress:   0%|          | 0/2 [00:00<?, ?it/s]"
      ]
     },
     "metadata": {},
     "output_type": "display_data"
    },
    {
     "data": {
      "application/vnd.jupyter.widget-view+json": {
       "model_id": "1f262d6a97604956a21fb0094bd7b0a2",
       "version_major": 2,
       "version_minor": 0
      },
      "text/plain": [
       "Communities progress:   0%|          | 0/2 [00:00<?, ?it/s]"
      ]
     },
     "metadata": {},
     "output_type": "display_data"
    },
    {
     "data": {
      "application/vnd.jupyter.widget-view+json": {
       "model_id": "1e51ce8f72e14188bb79c65ff54dabab",
       "version_major": 2,
       "version_minor": 0
      },
      "text/plain": [
       "Communities progress:   0%|          | 0/2 [00:00<?, ?it/s]"
      ]
     },
     "metadata": {},
     "output_type": "display_data"
    },
    {
     "data": {
      "application/vnd.jupyter.widget-view+json": {
       "model_id": "be4ce76d1d02460ab8b396b75d80fb56",
       "version_major": 2,
       "version_minor": 0
      },
      "text/plain": [
       "Algorithm Progress:   0%|          | 0/4 [00:00<?, ?it/s]"
      ]
     },
     "metadata": {},
     "output_type": "display_data"
    },
    {
     "data": {
      "application/vnd.jupyter.widget-view+json": {
       "model_id": "16085fa5a3434a5bb21ab45ed82c6080",
       "version_major": 2,
       "version_minor": 0
      },
      "text/plain": [
       "Communities progress:   0%|          | 0/79 [00:00<?, ?it/s]"
      ]
     },
     "metadata": {},
     "output_type": "display_data"
    },
    {
     "data": {
      "application/vnd.jupyter.widget-view+json": {
       "model_id": "73df02f47f6042a08fe9f6e9f9782440",
       "version_major": 2,
       "version_minor": 0
      },
      "text/plain": [
       "Communities progress:   0%|          | 0/78 [00:00<?, ?it/s]"
      ]
     },
     "metadata": {},
     "output_type": "display_data"
    },
    {
     "data": {
      "application/vnd.jupyter.widget-view+json": {
       "model_id": "f529a42eedcf48c494accdd7de44f152",
       "version_major": 2,
       "version_minor": 0
      },
      "text/plain": [
       "Communities progress:   0%|          | 0/80 [00:00<?, ?it/s]"
      ]
     },
     "metadata": {},
     "output_type": "display_data"
    },
    {
     "data": {
      "application/vnd.jupyter.widget-view+json": {
       "model_id": "b53462cb7c9d4f1b9a62e537d98cfa5e",
       "version_major": 2,
       "version_minor": 0
      },
      "text/plain": [
       "Communities progress:   0%|          | 0/81 [00:00<?, ?it/s]"
      ]
     },
     "metadata": {},
     "output_type": "display_data"
    },
    {
     "data": {
      "application/vnd.jupyter.widget-view+json": {
       "model_id": "320e0c5bdf2042459eb019b125ff627f",
       "version_major": 2,
       "version_minor": 0
      },
      "text/plain": [
       "Community Detector Progress:   0%|          | 0/4 [00:00<?, ?it/s]"
      ]
     },
     "metadata": {},
     "output_type": "display_data"
    },
    {
     "data": {
      "application/vnd.jupyter.widget-view+json": {
       "model_id": "2d468b22d09f4eb5bb51fb2d69268e48",
       "version_major": 2,
       "version_minor": 0
      },
      "text/plain": [
       "Algorithm Progress:   0%|          | 0/4 [00:00<?, ?it/s]"
      ]
     },
     "metadata": {},
     "output_type": "display_data"
    },
    {
     "data": {
      "application/vnd.jupyter.widget-view+json": {
       "model_id": "4ea6c8b1cd074e04a5d5eee9bce6fcc9",
       "version_major": 2,
       "version_minor": 0
      },
      "text/plain": [
       "Algorithm Progress:   0%|          | 0/4 [00:00<?, ?it/s]"
      ]
     },
     "metadata": {},
     "output_type": "display_data"
    },
    {
     "data": {
      "application/vnd.jupyter.widget-view+json": {
       "model_id": "516a795ee3914014931ac8b7842f381d",
       "version_major": 2,
       "version_minor": 0
      },
      "text/plain": [
       "Communities progress:   0%|          | 0/3 [00:00<?, ?it/s]"
      ]
     },
     "metadata": {},
     "output_type": "display_data"
    },
    {
     "data": {
      "application/vnd.jupyter.widget-view+json": {
       "model_id": "c790b21bb7b54b6999a585a1cfd9446d",
       "version_major": 2,
       "version_minor": 0
      },
      "text/plain": [
       "Communities progress:   0%|          | 0/3 [00:00<?, ?it/s]"
      ]
     },
     "metadata": {},
     "output_type": "display_data"
    },
    {
     "data": {
      "application/vnd.jupyter.widget-view+json": {
       "model_id": "f6c7f5646d46400ea599b090dcc8b40e",
       "version_major": 2,
       "version_minor": 0
      },
      "text/plain": [
       "Communities progress:   0%|          | 0/3 [00:00<?, ?it/s]"
      ]
     },
     "metadata": {},
     "output_type": "display_data"
    },
    {
     "data": {
      "application/vnd.jupyter.widget-view+json": {
       "model_id": "3e18ec170c9e4640ba2a04bd91183ea4",
       "version_major": 2,
       "version_minor": 0
      },
      "text/plain": [
       "Communities progress:   0%|          | 0/3 [00:00<?, ?it/s]"
      ]
     },
     "metadata": {},
     "output_type": "display_data"
    },
    {
     "data": {
      "application/vnd.jupyter.widget-view+json": {
       "model_id": "3c879a128bd846579c50faa29b3c6623",
       "version_major": 2,
       "version_minor": 0
      },
      "text/plain": [
       "Algorithm Progress:   0%|          | 0/4 [00:00<?, ?it/s]"
      ]
     },
     "metadata": {},
     "output_type": "display_data"
    },
    {
     "data": {
      "application/vnd.jupyter.widget-view+json": {
       "model_id": "deafb122805448f78f314004cc40b60c",
       "version_major": 2,
       "version_minor": 0
      },
      "text/plain": [
       "Communities progress:   0%|          | 0/2 [00:00<?, ?it/s]"
      ]
     },
     "metadata": {},
     "output_type": "display_data"
    },
    {
     "data": {
      "application/vnd.jupyter.widget-view+json": {
       "model_id": "e25d1d5c500649118deb140fd5bb1e44",
       "version_major": 2,
       "version_minor": 0
      },
      "text/plain": [
       "Communities progress:   0%|          | 0/2 [00:00<?, ?it/s]"
      ]
     },
     "metadata": {},
     "output_type": "display_data"
    },
    {
     "data": {
      "application/vnd.jupyter.widget-view+json": {
       "model_id": "32a6d32487d94922b422d501c730e445",
       "version_major": 2,
       "version_minor": 0
      },
      "text/plain": [
       "Communities progress:   0%|          | 0/2 [00:00<?, ?it/s]"
      ]
     },
     "metadata": {},
     "output_type": "display_data"
    },
    {
     "data": {
      "application/vnd.jupyter.widget-view+json": {
       "model_id": "1a69a2b66a654381910c7c29a47e5481",
       "version_major": 2,
       "version_minor": 0
      },
      "text/plain": [
       "Communities progress:   0%|          | 0/2 [00:00<?, ?it/s]"
      ]
     },
     "metadata": {},
     "output_type": "display_data"
    },
    {
     "data": {
      "application/vnd.jupyter.widget-view+json": {
       "model_id": "96b62faf58f54692992c42b8229b01be",
       "version_major": 2,
       "version_minor": 0
      },
      "text/plain": [
       "Algorithm Progress:   0%|          | 0/4 [00:00<?, ?it/s]"
      ]
     },
     "metadata": {},
     "output_type": "display_data"
    },
    {
     "data": {
      "application/vnd.jupyter.widget-view+json": {
       "model_id": "189c7cccff1547b483a74f798979650b",
       "version_major": 2,
       "version_minor": 0
      },
      "text/plain": [
       "Communities progress:   0%|          | 0/473 [00:00<?, ?it/s]"
      ]
     },
     "metadata": {},
     "output_type": "display_data"
    },
    {
     "data": {
      "application/vnd.jupyter.widget-view+json": {
       "model_id": "8bed8038580c4893af877afa22b1f8cc",
       "version_major": 2,
       "version_minor": 0
      },
      "text/plain": [
       "Communities progress:   0%|          | 0/476 [00:00<?, ?it/s]"
      ]
     },
     "metadata": {},
     "output_type": "display_data"
    },
    {
     "data": {
      "application/vnd.jupyter.widget-view+json": {
       "model_id": "771423832cee4db1b82c1b2025ca93a6",
       "version_major": 2,
       "version_minor": 0
      },
      "text/plain": [
       "Communities progress:   0%|          | 0/487 [00:00<?, ?it/s]"
      ]
     },
     "metadata": {},
     "output_type": "display_data"
    },
    {
     "data": {
      "application/vnd.jupyter.widget-view+json": {
       "model_id": "e54c2595cad24126b0b31a8bcd6d526a",
       "version_major": 2,
       "version_minor": 0
      },
      "text/plain": [
       "Communities progress:   0%|          | 0/460 [00:00<?, ?it/s]"
      ]
     },
     "metadata": {},
     "output_type": "display_data"
    },
    {
     "data": {
      "application/vnd.jupyter.widget-view+json": {
       "model_id": "2ec9d6df8b7749ebb9b13bf1c1d10a21",
       "version_major": 2,
       "version_minor": 0
      },
      "text/plain": [
       "Community Detector Progress:   0%|          | 0/4 [00:00<?, ?it/s]"
      ]
     },
     "metadata": {},
     "output_type": "display_data"
    },
    {
     "data": {
      "application/vnd.jupyter.widget-view+json": {
       "model_id": "0573bcb4229940898ea5aacf78bff61b",
       "version_major": 2,
       "version_minor": 0
      },
      "text/plain": [
       "Algorithm Progress:   0%|          | 0/4 [00:00<?, ?it/s]"
      ]
     },
     "metadata": {},
     "output_type": "display_data"
    },
    {
     "data": {
      "application/vnd.jupyter.widget-view+json": {
       "model_id": "2a09a3cfa52b44ee87dc4a0961ba4d5d",
       "version_major": 2,
       "version_minor": 0
      },
      "text/plain": [
       "Algorithm Progress:   0%|          | 0/4 [00:00<?, ?it/s]"
      ]
     },
     "metadata": {},
     "output_type": "display_data"
    },
    {
     "data": {
      "application/vnd.jupyter.widget-view+json": {
       "model_id": "bd259ab03da0469480bba04eab4ba23e",
       "version_major": 2,
       "version_minor": 0
      },
      "text/plain": [
       "Communities progress:   0%|          | 0/3 [00:00<?, ?it/s]"
      ]
     },
     "metadata": {},
     "output_type": "display_data"
    },
    {
     "data": {
      "application/vnd.jupyter.widget-view+json": {
       "model_id": "454dce58c56a43d3a8cb519e5d5fb859",
       "version_major": 2,
       "version_minor": 0
      },
      "text/plain": [
       "Communities progress:   0%|          | 0/3 [00:00<?, ?it/s]"
      ]
     },
     "metadata": {},
     "output_type": "display_data"
    },
    {
     "data": {
      "application/vnd.jupyter.widget-view+json": {
       "model_id": "9dbd2b48f9e940c8b94e9d47bea2f499",
       "version_major": 2,
       "version_minor": 0
      },
      "text/plain": [
       "Communities progress:   0%|          | 0/3 [00:00<?, ?it/s]"
      ]
     },
     "metadata": {},
     "output_type": "display_data"
    },
    {
     "data": {
      "application/vnd.jupyter.widget-view+json": {
       "model_id": "6c17ae6fc0b04680914de159eadfbb3c",
       "version_major": 2,
       "version_minor": 0
      },
      "text/plain": [
       "Communities progress:   0%|          | 0/4 [00:00<?, ?it/s]"
      ]
     },
     "metadata": {},
     "output_type": "display_data"
    },
    {
     "data": {
      "application/vnd.jupyter.widget-view+json": {
       "model_id": "f41f579e853a484796fbda91b898535c",
       "version_major": 2,
       "version_minor": 0
      },
      "text/plain": [
       "Algorithm Progress:   0%|          | 0/4 [00:00<?, ?it/s]"
      ]
     },
     "metadata": {},
     "output_type": "display_data"
    },
    {
     "data": {
      "application/vnd.jupyter.widget-view+json": {
       "model_id": "16320f23496441c08efc16888ad7a97a",
       "version_major": 2,
       "version_minor": 0
      },
      "text/plain": [
       "Communities progress:   0%|          | 0/2 [00:00<?, ?it/s]"
      ]
     },
     "metadata": {},
     "output_type": "display_data"
    },
    {
     "data": {
      "application/vnd.jupyter.widget-view+json": {
       "model_id": "a4803e73ea154ad5a78a3fc1e4f6f396",
       "version_major": 2,
       "version_minor": 0
      },
      "text/plain": [
       "Communities progress:   0%|          | 0/2 [00:00<?, ?it/s]"
      ]
     },
     "metadata": {},
     "output_type": "display_data"
    },
    {
     "data": {
      "application/vnd.jupyter.widget-view+json": {
       "model_id": "28df323df2a54d0c988adeb9c63fff43",
       "version_major": 2,
       "version_minor": 0
      },
      "text/plain": [
       "Communities progress:   0%|          | 0/2 [00:00<?, ?it/s]"
      ]
     },
     "metadata": {},
     "output_type": "display_data"
    },
    {
     "data": {
      "application/vnd.jupyter.widget-view+json": {
       "model_id": "5a7d75c2a4d94a3cbfe4ef54c345011c",
       "version_major": 2,
       "version_minor": 0
      },
      "text/plain": [
       "Communities progress:   0%|          | 0/2 [00:00<?, ?it/s]"
      ]
     },
     "metadata": {},
     "output_type": "display_data"
    },
    {
     "data": {
      "application/vnd.jupyter.widget-view+json": {
       "model_id": "9f003f8aa59a4415889f9c5eaafa5234",
       "version_major": 2,
       "version_minor": 0
      },
      "text/plain": [
       "Algorithm Progress:   0%|          | 0/4 [00:00<?, ?it/s]"
      ]
     },
     "metadata": {},
     "output_type": "display_data"
    },
    {
     "data": {
      "application/vnd.jupyter.widget-view+json": {
       "model_id": "2c38d78d529142b48146e1e66cc6b837",
       "version_major": 2,
       "version_minor": 0
      },
      "text/plain": [
       "Communities progress:   0%|          | 0/449 [00:00<?, ?it/s]"
      ]
     },
     "metadata": {},
     "output_type": "display_data"
    },
    {
     "data": {
      "application/vnd.jupyter.widget-view+json": {
       "model_id": "efb7407166954626822f97be1b34d610",
       "version_major": 2,
       "version_minor": 0
      },
      "text/plain": [
       "Communities progress:   0%|          | 0/452 [00:00<?, ?it/s]"
      ]
     },
     "metadata": {},
     "output_type": "display_data"
    },
    {
     "data": {
      "application/vnd.jupyter.widget-view+json": {
       "model_id": "9dbfa7c030b74408ba8f0eb8cd8a20e4",
       "version_major": 2,
       "version_minor": 0
      },
      "text/plain": [
       "Communities progress:   0%|          | 0/445 [00:00<?, ?it/s]"
      ]
     },
     "metadata": {},
     "output_type": "display_data"
    },
    {
     "data": {
      "application/vnd.jupyter.widget-view+json": {
       "model_id": "e0a072415ea14bc6b8ad3218fe29baf7",
       "version_major": 2,
       "version_minor": 0
      },
      "text/plain": [
       "Communities progress:   0%|          | 0/453 [00:00<?, ?it/s]"
      ]
     },
     "metadata": {},
     "output_type": "display_data"
    },
    {
     "data": {
      "application/vnd.jupyter.widget-view+json": {
       "model_id": "9395ca772adb4ef7b0c36dee5085b66a",
       "version_major": 2,
       "version_minor": 0
      },
      "text/plain": [
       "Similarity Metric Progress:   0%|          | 0/4 [00:00<?, ?it/s]"
      ]
     },
     "metadata": {},
     "output_type": "display_data"
    },
    {
     "data": {
      "application/vnd.jupyter.widget-view+json": {
       "model_id": "849e7c7124704eba92ab143bc8e13857",
       "version_major": 2,
       "version_minor": 0
      },
      "text/plain": [
       "Community Detector Progress:   0%|          | 0/4 [00:00<?, ?it/s]"
      ]
     },
     "metadata": {},
     "output_type": "display_data"
    },
    {
     "data": {
      "application/vnd.jupyter.widget-view+json": {
       "model_id": "75b4244917e44b8d97eafeab4f009c57",
       "version_major": 2,
       "version_minor": 0
      },
      "text/plain": [
       "Algorithm Progress:   0%|          | 0/4 [00:00<?, ?it/s]"
      ]
     },
     "metadata": {},
     "output_type": "display_data"
    },
    {
     "data": {
      "application/vnd.jupyter.widget-view+json": {
       "model_id": "df59aa9ad8574ab1a2e2115255bc68d1",
       "version_major": 2,
       "version_minor": 0
      },
      "text/plain": [
       "Algorithm Progress:   0%|          | 0/4 [00:00<?, ?it/s]"
      ]
     },
     "metadata": {},
     "output_type": "display_data"
    },
    {
     "data": {
      "application/vnd.jupyter.widget-view+json": {
       "model_id": "3415b621b48b43a28be109e3d7323fbe",
       "version_major": 2,
       "version_minor": 0
      },
      "text/plain": [
       "Communities progress:   0%|          | 0/2 [00:00<?, ?it/s]"
      ]
     },
     "metadata": {},
     "output_type": "display_data"
    },
    {
     "data": {
      "application/vnd.jupyter.widget-view+json": {
       "model_id": "9e7633a67dd94adfb221590bd88f680b",
       "version_major": 2,
       "version_minor": 0
      },
      "text/plain": [
       "Communities progress:   0%|          | 0/3 [00:00<?, ?it/s]"
      ]
     },
     "metadata": {},
     "output_type": "display_data"
    },
    {
     "data": {
      "application/vnd.jupyter.widget-view+json": {
       "model_id": "3f924adfe0f64d08b1ea4536bf7dfecf",
       "version_major": 2,
       "version_minor": 0
      },
      "text/plain": [
       "Communities progress:   0%|          | 0/3 [00:00<?, ?it/s]"
      ]
     },
     "metadata": {},
     "output_type": "display_data"
    },
    {
     "data": {
      "application/vnd.jupyter.widget-view+json": {
       "model_id": "a6370a26b300468688c23263f5086942",
       "version_major": 2,
       "version_minor": 0
      },
      "text/plain": [
       "Communities progress:   0%|          | 0/2 [00:00<?, ?it/s]"
      ]
     },
     "metadata": {},
     "output_type": "display_data"
    },
    {
     "data": {
      "application/vnd.jupyter.widget-view+json": {
       "model_id": "994b4c2cfb0f47188e592e5b95613405",
       "version_major": 2,
       "version_minor": 0
      },
      "text/plain": [
       "Algorithm Progress:   0%|          | 0/4 [00:00<?, ?it/s]"
      ]
     },
     "metadata": {},
     "output_type": "display_data"
    },
    {
     "data": {
      "application/vnd.jupyter.widget-view+json": {
       "model_id": "9ac9debfafb7433dbebf450cd878c057",
       "version_major": 2,
       "version_minor": 0
      },
      "text/plain": [
       "Communities progress:   0%|          | 0/2 [00:00<?, ?it/s]"
      ]
     },
     "metadata": {},
     "output_type": "display_data"
    },
    {
     "data": {
      "application/vnd.jupyter.widget-view+json": {
       "model_id": "a6b898b564414a0592ace68a63cd16f1",
       "version_major": 2,
       "version_minor": 0
      },
      "text/plain": [
       "Communities progress:   0%|          | 0/2 [00:00<?, ?it/s]"
      ]
     },
     "metadata": {},
     "output_type": "display_data"
    },
    {
     "data": {
      "application/vnd.jupyter.widget-view+json": {
       "model_id": "b1af66bc20e94d8b81e2a1194cb17351",
       "version_major": 2,
       "version_minor": 0
      },
      "text/plain": [
       "Communities progress:   0%|          | 0/2 [00:00<?, ?it/s]"
      ]
     },
     "metadata": {},
     "output_type": "display_data"
    },
    {
     "data": {
      "application/vnd.jupyter.widget-view+json": {
       "model_id": "43486eeae955487ab448e483241d8ef5",
       "version_major": 2,
       "version_minor": 0
      },
      "text/plain": [
       "Communities progress:   0%|          | 0/2 [00:00<?, ?it/s]"
      ]
     },
     "metadata": {},
     "output_type": "display_data"
    },
    {
     "data": {
      "application/vnd.jupyter.widget-view+json": {
       "model_id": "e62889255dfd4dc488890c2612f04bc7",
       "version_major": 2,
       "version_minor": 0
      },
      "text/plain": [
       "Algorithm Progress:   0%|          | 0/4 [00:00<?, ?it/s]"
      ]
     },
     "metadata": {},
     "output_type": "display_data"
    },
    {
     "data": {
      "application/vnd.jupyter.widget-view+json": {
       "model_id": "5d488aac9c9c405d898a1b24ccf5aec5",
       "version_major": 2,
       "version_minor": 0
      },
      "text/plain": [
       "Communities progress:   0%|          | 0/450 [00:00<?, ?it/s]"
      ]
     },
     "metadata": {},
     "output_type": "display_data"
    },
    {
     "data": {
      "application/vnd.jupyter.widget-view+json": {
       "model_id": "bc3abe99f7a949f5b242ef225cc8e9ea",
       "version_major": 2,
       "version_minor": 0
      },
      "text/plain": [
       "Communities progress:   0%|          | 0/446 [00:00<?, ?it/s]"
      ]
     },
     "metadata": {},
     "output_type": "display_data"
    },
    {
     "data": {
      "application/vnd.jupyter.widget-view+json": {
       "model_id": "8a3fe8c70f7d435eb3d2d2877372bf8e",
       "version_major": 2,
       "version_minor": 0
      },
      "text/plain": [
       "Communities progress:   0%|          | 0/435 [00:00<?, ?it/s]"
      ]
     },
     "metadata": {},
     "output_type": "display_data"
    },
    {
     "data": {
      "application/vnd.jupyter.widget-view+json": {
       "model_id": "7331521a28b84e76aed787e2999f573f",
       "version_major": 2,
       "version_minor": 0
      },
      "text/plain": [
       "Communities progress:   0%|          | 0/454 [00:00<?, ?it/s]"
      ]
     },
     "metadata": {},
     "output_type": "display_data"
    },
    {
     "data": {
      "application/vnd.jupyter.widget-view+json": {
       "model_id": "e573b8d112ed4ffb890c019d6688cbfe",
       "version_major": 2,
       "version_minor": 0
      },
      "text/plain": [
       "Community Detector Progress:   0%|          | 0/4 [00:00<?, ?it/s]"
      ]
     },
     "metadata": {},
     "output_type": "display_data"
    },
    {
     "data": {
      "application/vnd.jupyter.widget-view+json": {
       "model_id": "07009f95700243e7acbf2c343a29d37f",
       "version_major": 2,
       "version_minor": 0
      },
      "text/plain": [
       "Algorithm Progress:   0%|          | 0/4 [00:00<?, ?it/s]"
      ]
     },
     "metadata": {},
     "output_type": "display_data"
    },
    {
     "data": {
      "application/vnd.jupyter.widget-view+json": {
       "model_id": "30f61d5e0cc849d3a0a3841b5c56bffe",
       "version_major": 2,
       "version_minor": 0
      },
      "text/plain": [
       "Algorithm Progress:   0%|          | 0/4 [00:00<?, ?it/s]"
      ]
     },
     "metadata": {},
     "output_type": "display_data"
    },
    {
     "data": {
      "application/vnd.jupyter.widget-view+json": {
       "model_id": "daf09ed4c3894979979c634aba6f271c",
       "version_major": 2,
       "version_minor": 0
      },
      "text/plain": [
       "Communities progress:   0%|          | 0/3 [00:00<?, ?it/s]"
      ]
     },
     "metadata": {},
     "output_type": "display_data"
    },
    {
     "data": {
      "application/vnd.jupyter.widget-view+json": {
       "model_id": "c829bbc17a4f437d8948820746a2cf24",
       "version_major": 2,
       "version_minor": 0
      },
      "text/plain": [
       "Communities progress:   0%|          | 0/3 [00:00<?, ?it/s]"
      ]
     },
     "metadata": {},
     "output_type": "display_data"
    },
    {
     "data": {
      "application/vnd.jupyter.widget-view+json": {
       "model_id": "ff04f19d626c4da1aa92941f8f32179c",
       "version_major": 2,
       "version_minor": 0
      },
      "text/plain": [
       "Communities progress:   0%|          | 0/3 [00:00<?, ?it/s]"
      ]
     },
     "metadata": {},
     "output_type": "display_data"
    },
    {
     "data": {
      "application/vnd.jupyter.widget-view+json": {
       "model_id": "87d8a78a199041af92bda3514b13ba7b",
       "version_major": 2,
       "version_minor": 0
      },
      "text/plain": [
       "Communities progress:   0%|          | 0/3 [00:00<?, ?it/s]"
      ]
     },
     "metadata": {},
     "output_type": "display_data"
    },
    {
     "data": {
      "application/vnd.jupyter.widget-view+json": {
       "model_id": "71056c4b444d4728867fd9315a2433fd",
       "version_major": 2,
       "version_minor": 0
      },
      "text/plain": [
       "Algorithm Progress:   0%|          | 0/4 [00:00<?, ?it/s]"
      ]
     },
     "metadata": {},
     "output_type": "display_data"
    },
    {
     "data": {
      "application/vnd.jupyter.widget-view+json": {
       "model_id": "fb9fd34a3ed84aafa085fa2d587b8b9a",
       "version_major": 2,
       "version_minor": 0
      },
      "text/plain": [
       "Communities progress:   0%|          | 0/2 [00:00<?, ?it/s]"
      ]
     },
     "metadata": {},
     "output_type": "display_data"
    },
    {
     "data": {
      "application/vnd.jupyter.widget-view+json": {
       "model_id": "431300cef01747fdade9f0db22338d50",
       "version_major": 2,
       "version_minor": 0
      },
      "text/plain": [
       "Communities progress:   0%|          | 0/2 [00:00<?, ?it/s]"
      ]
     },
     "metadata": {},
     "output_type": "display_data"
    },
    {
     "data": {
      "application/vnd.jupyter.widget-view+json": {
       "model_id": "8f63f4d60fd94599aa7b4e619747b093",
       "version_major": 2,
       "version_minor": 0
      },
      "text/plain": [
       "Communities progress:   0%|          | 0/2 [00:00<?, ?it/s]"
      ]
     },
     "metadata": {},
     "output_type": "display_data"
    },
    {
     "data": {
      "application/vnd.jupyter.widget-view+json": {
       "model_id": "c43d3bc866a54520bd20b96f9705cdcb",
       "version_major": 2,
       "version_minor": 0
      },
      "text/plain": [
       "Communities progress:   0%|          | 0/2 [00:00<?, ?it/s]"
      ]
     },
     "metadata": {},
     "output_type": "display_data"
    },
    {
     "data": {
      "application/vnd.jupyter.widget-view+json": {
       "model_id": "a6ef52da89cd40ce8ed299f586420335",
       "version_major": 2,
       "version_minor": 0
      },
      "text/plain": [
       "Algorithm Progress:   0%|          | 0/4 [00:00<?, ?it/s]"
      ]
     },
     "metadata": {},
     "output_type": "display_data"
    },
    {
     "data": {
      "application/vnd.jupyter.widget-view+json": {
       "model_id": "5a5bf0fa8b264ebb915a9c99aaeec8d7",
       "version_major": 2,
       "version_minor": 0
      },
      "text/plain": [
       "Communities progress:   0%|          | 0/70 [00:00<?, ?it/s]"
      ]
     },
     "metadata": {},
     "output_type": "display_data"
    },
    {
     "data": {
      "application/vnd.jupyter.widget-view+json": {
       "model_id": "58cc3ae1b3344ff8b3d09103f3e0c441",
       "version_major": 2,
       "version_minor": 0
      },
      "text/plain": [
       "Communities progress:   0%|          | 0/76 [00:00<?, ?it/s]"
      ]
     },
     "metadata": {},
     "output_type": "display_data"
    },
    {
     "data": {
      "application/vnd.jupyter.widget-view+json": {
       "model_id": "89a56ed3af064979b50c6f3a8aaa438a",
       "version_major": 2,
       "version_minor": 0
      },
      "text/plain": [
       "Communities progress:   0%|          | 0/78 [00:00<?, ?it/s]"
      ]
     },
     "metadata": {},
     "output_type": "display_data"
    },
    {
     "data": {
      "application/vnd.jupyter.widget-view+json": {
       "model_id": "9bf6b6c94d7c49a694a9eed451007e6f",
       "version_major": 2,
       "version_minor": 0
      },
      "text/plain": [
       "Communities progress:   0%|          | 0/69 [00:00<?, ?it/s]"
      ]
     },
     "metadata": {},
     "output_type": "display_data"
    },
    {
     "data": {
      "application/vnd.jupyter.widget-view+json": {
       "model_id": "1c83c3cd17ce486fbe065c7c465b8f5a",
       "version_major": 2,
       "version_minor": 0
      },
      "text/plain": [
       "Community Detector Progress:   0%|          | 0/4 [00:00<?, ?it/s]"
      ]
     },
     "metadata": {},
     "output_type": "display_data"
    },
    {
     "data": {
      "application/vnd.jupyter.widget-view+json": {
       "model_id": "c3aadd34ec0040df88095d5ed6bcfea7",
       "version_major": 2,
       "version_minor": 0
      },
      "text/plain": [
       "Algorithm Progress:   0%|          | 0/4 [00:00<?, ?it/s]"
      ]
     },
     "metadata": {},
     "output_type": "display_data"
    },
    {
     "data": {
      "application/vnd.jupyter.widget-view+json": {
       "model_id": "e35eeab3a3314338ad0edaa5bcec2ec7",
       "version_major": 2,
       "version_minor": 0
      },
      "text/plain": [
       "Algorithm Progress:   0%|          | 0/4 [00:00<?, ?it/s]"
      ]
     },
     "metadata": {},
     "output_type": "display_data"
    },
    {
     "data": {
      "application/vnd.jupyter.widget-view+json": {
       "model_id": "bfb1ad3861154a479baa1fcd1ad87bb3",
       "version_major": 2,
       "version_minor": 0
      },
      "text/plain": [
       "Communities progress:   0%|          | 0/3 [00:00<?, ?it/s]"
      ]
     },
     "metadata": {},
     "output_type": "display_data"
    },
    {
     "data": {
      "application/vnd.jupyter.widget-view+json": {
       "model_id": "ef7f6460f3944e83a29551e67f0d0abe",
       "version_major": 2,
       "version_minor": 0
      },
      "text/plain": [
       "Communities progress:   0%|          | 0/3 [00:00<?, ?it/s]"
      ]
     },
     "metadata": {},
     "output_type": "display_data"
    },
    {
     "data": {
      "application/vnd.jupyter.widget-view+json": {
       "model_id": "5dbebf549a664295bf0530f178a4e479",
       "version_major": 2,
       "version_minor": 0
      },
      "text/plain": [
       "Communities progress:   0%|          | 0/2 [00:00<?, ?it/s]"
      ]
     },
     "metadata": {},
     "output_type": "display_data"
    },
    {
     "data": {
      "application/vnd.jupyter.widget-view+json": {
       "model_id": "2f9ddede47934d4db78095e8f99c3338",
       "version_major": 2,
       "version_minor": 0
      },
      "text/plain": [
       "Communities progress:   0%|          | 0/2 [00:00<?, ?it/s]"
      ]
     },
     "metadata": {},
     "output_type": "display_data"
    },
    {
     "data": {
      "application/vnd.jupyter.widget-view+json": {
       "model_id": "17ee17a19d224cd9a2a2911d31140a7c",
       "version_major": 2,
       "version_minor": 0
      },
      "text/plain": [
       "Algorithm Progress:   0%|          | 0/4 [00:00<?, ?it/s]"
      ]
     },
     "metadata": {},
     "output_type": "display_data"
    },
    {
     "data": {
      "application/vnd.jupyter.widget-view+json": {
       "model_id": "671d4e2b550b4eccaf2f00b3356c98f2",
       "version_major": 2,
       "version_minor": 0
      },
      "text/plain": [
       "Communities progress:   0%|          | 0/2 [00:00<?, ?it/s]"
      ]
     },
     "metadata": {},
     "output_type": "display_data"
    },
    {
     "data": {
      "application/vnd.jupyter.widget-view+json": {
       "model_id": "4273fc75cd9348c191cf360fa10e3abe",
       "version_major": 2,
       "version_minor": 0
      },
      "text/plain": [
       "Communities progress:   0%|          | 0/2 [00:00<?, ?it/s]"
      ]
     },
     "metadata": {},
     "output_type": "display_data"
    },
    {
     "data": {
      "application/vnd.jupyter.widget-view+json": {
       "model_id": "15d57e35e5244f88a53511027cc0c71f",
       "version_major": 2,
       "version_minor": 0
      },
      "text/plain": [
       "Communities progress:   0%|          | 0/2 [00:00<?, ?it/s]"
      ]
     },
     "metadata": {},
     "output_type": "display_data"
    },
    {
     "data": {
      "application/vnd.jupyter.widget-view+json": {
       "model_id": "9e63b5a7eb2d43cb80d499aff16026ec",
       "version_major": 2,
       "version_minor": 0
      },
      "text/plain": [
       "Communities progress:   0%|          | 0/2 [00:00<?, ?it/s]"
      ]
     },
     "metadata": {},
     "output_type": "display_data"
    },
    {
     "data": {
      "application/vnd.jupyter.widget-view+json": {
       "model_id": "61d75ba9c0bd4d82bce6e4a3e3da4a6e",
       "version_major": 2,
       "version_minor": 0
      },
      "text/plain": [
       "Algorithm Progress:   0%|          | 0/4 [00:00<?, ?it/s]"
      ]
     },
     "metadata": {},
     "output_type": "display_data"
    },
    {
     "data": {
      "application/vnd.jupyter.widget-view+json": {
       "model_id": "5e2437af5c174137b2bd84bd92cd8317",
       "version_major": 2,
       "version_minor": 0
      },
      "text/plain": [
       "Communities progress:   0%|          | 0/479 [00:00<?, ?it/s]"
      ]
     },
     "metadata": {},
     "output_type": "display_data"
    },
    {
     "data": {
      "application/vnd.jupyter.widget-view+json": {
       "model_id": "eb2547e12f574409a1a4c4b109ec085b",
       "version_major": 2,
       "version_minor": 0
      },
      "text/plain": [
       "Communities progress:   0%|          | 0/480 [00:00<?, ?it/s]"
      ]
     },
     "metadata": {},
     "output_type": "display_data"
    },
    {
     "data": {
      "application/vnd.jupyter.widget-view+json": {
       "model_id": "03d59465d1f040a08e3db7f67d0dc400",
       "version_major": 2,
       "version_minor": 0
      },
      "text/plain": [
       "Communities progress:   0%|          | 0/490 [00:00<?, ?it/s]"
      ]
     },
     "metadata": {},
     "output_type": "display_data"
    },
    {
     "data": {
      "application/vnd.jupyter.widget-view+json": {
       "model_id": "1b7db38b0600468eb0134709d6fbfe12",
       "version_major": 2,
       "version_minor": 0
      },
      "text/plain": [
       "Communities progress:   0%|          | 0/478 [00:00<?, ?it/s]"
      ]
     },
     "metadata": {},
     "output_type": "display_data"
    },
    {
     "data": {
      "application/vnd.jupyter.widget-view+json": {
       "model_id": "d96900347e9541f2b8d96303484af1d6",
       "version_major": 2,
       "version_minor": 0
      },
      "text/plain": [
       "Community Detector Progress:   0%|          | 0/4 [00:00<?, ?it/s]"
      ]
     },
     "metadata": {},
     "output_type": "display_data"
    },
    {
     "data": {
      "application/vnd.jupyter.widget-view+json": {
       "model_id": "c37c95c3b636491a8b36fc412adcce61",
       "version_major": 2,
       "version_minor": 0
      },
      "text/plain": [
       "Algorithm Progress:   0%|          | 0/4 [00:00<?, ?it/s]"
      ]
     },
     "metadata": {},
     "output_type": "display_data"
    },
    {
     "data": {
      "application/vnd.jupyter.widget-view+json": {
       "model_id": "ebc53106265348769cc4b1feb0e41c1a",
       "version_major": 2,
       "version_minor": 0
      },
      "text/plain": [
       "Algorithm Progress:   0%|          | 0/4 [00:00<?, ?it/s]"
      ]
     },
     "metadata": {},
     "output_type": "display_data"
    },
    {
     "data": {
      "application/vnd.jupyter.widget-view+json": {
       "model_id": "e60027be6d7442eab6e56f8972a812e1",
       "version_major": 2,
       "version_minor": 0
      },
      "text/plain": [
       "Communities progress:   0%|          | 0/3 [00:00<?, ?it/s]"
      ]
     },
     "metadata": {},
     "output_type": "display_data"
    },
    {
     "data": {
      "application/vnd.jupyter.widget-view+json": {
       "model_id": "f29de0944ab9471fa4a6992235005b4f",
       "version_major": 2,
       "version_minor": 0
      },
      "text/plain": [
       "Communities progress:   0%|          | 0/3 [00:00<?, ?it/s]"
      ]
     },
     "metadata": {},
     "output_type": "display_data"
    },
    {
     "data": {
      "application/vnd.jupyter.widget-view+json": {
       "model_id": "d726c9389c6e409eb548576376bb7878",
       "version_major": 2,
       "version_minor": 0
      },
      "text/plain": [
       "Communities progress:   0%|          | 0/3 [00:00<?, ?it/s]"
      ]
     },
     "metadata": {},
     "output_type": "display_data"
    },
    {
     "data": {
      "application/vnd.jupyter.widget-view+json": {
       "model_id": "36c6d94d7d9048c2bed37177619587fb",
       "version_major": 2,
       "version_minor": 0
      },
      "text/plain": [
       "Communities progress:   0%|          | 0/2 [00:00<?, ?it/s]"
      ]
     },
     "metadata": {},
     "output_type": "display_data"
    },
    {
     "data": {
      "application/vnd.jupyter.widget-view+json": {
       "model_id": "6a999ff9abd94d46ad40b4010b4c19f3",
       "version_major": 2,
       "version_minor": 0
      },
      "text/plain": [
       "Algorithm Progress:   0%|          | 0/4 [00:00<?, ?it/s]"
      ]
     },
     "metadata": {},
     "output_type": "display_data"
    },
    {
     "data": {
      "application/vnd.jupyter.widget-view+json": {
       "model_id": "bf90f5f3488141d8bfc487c618ab2740",
       "version_major": 2,
       "version_minor": 0
      },
      "text/plain": [
       "Communities progress:   0%|          | 0/2 [00:00<?, ?it/s]"
      ]
     },
     "metadata": {},
     "output_type": "display_data"
    },
    {
     "data": {
      "application/vnd.jupyter.widget-view+json": {
       "model_id": "a128fa94365e4b0995464eed1347c6dc",
       "version_major": 2,
       "version_minor": 0
      },
      "text/plain": [
       "Communities progress:   0%|          | 0/2 [00:00<?, ?it/s]"
      ]
     },
     "metadata": {},
     "output_type": "display_data"
    },
    {
     "data": {
      "application/vnd.jupyter.widget-view+json": {
       "model_id": "98d8056fc66a45fdb312aa3dcc4af407",
       "version_major": 2,
       "version_minor": 0
      },
      "text/plain": [
       "Communities progress:   0%|          | 0/2 [00:00<?, ?it/s]"
      ]
     },
     "metadata": {},
     "output_type": "display_data"
    },
    {
     "data": {
      "application/vnd.jupyter.widget-view+json": {
       "model_id": "0964b6175c71435f9e52ec31cfebc959",
       "version_major": 2,
       "version_minor": 0
      },
      "text/plain": [
       "Communities progress:   0%|          | 0/2 [00:00<?, ?it/s]"
      ]
     },
     "metadata": {},
     "output_type": "display_data"
    },
    {
     "data": {
      "application/vnd.jupyter.widget-view+json": {
       "model_id": "f4779043e8e649778756f2c7cb2dd55b",
       "version_major": 2,
       "version_minor": 0
      },
      "text/plain": [
       "Algorithm Progress:   0%|          | 0/4 [00:00<?, ?it/s]"
      ]
     },
     "metadata": {},
     "output_type": "display_data"
    },
    {
     "data": {
      "application/vnd.jupyter.widget-view+json": {
       "model_id": "44114bb9ea4c45f4a2b2636696951cfa",
       "version_major": 2,
       "version_minor": 0
      },
      "text/plain": [
       "Communities progress:   0%|          | 0/440 [00:00<?, ?it/s]"
      ]
     },
     "metadata": {},
     "output_type": "display_data"
    },
    {
     "data": {
      "application/vnd.jupyter.widget-view+json": {
       "model_id": "c85d09eeaa5e47debb95f0c68ee08045",
       "version_major": 2,
       "version_minor": 0
      },
      "text/plain": [
       "Communities progress:   0%|          | 0/449 [00:00<?, ?it/s]"
      ]
     },
     "metadata": {},
     "output_type": "display_data"
    },
    {
     "data": {
      "application/vnd.jupyter.widget-view+json": {
       "model_id": "7d77bfb3e17942f3ac1a045a363fbace",
       "version_major": 2,
       "version_minor": 0
      },
      "text/plain": [
       "Communities progress:   0%|          | 0/454 [00:00<?, ?it/s]"
      ]
     },
     "metadata": {},
     "output_type": "display_data"
    },
    {
     "data": {
      "application/vnd.jupyter.widget-view+json": {
       "model_id": "0b1585627e874f87b149339e98b4f676",
       "version_major": 2,
       "version_minor": 0
      },
      "text/plain": [
       "Communities progress:   0%|          | 0/446 [00:00<?, ?it/s]"
      ]
     },
     "metadata": {},
     "output_type": "display_data"
    },
    {
     "data": {
      "application/vnd.jupyter.widget-view+json": {
       "model_id": "633e7989d1ae4238a5d43eb38d891e35",
       "version_major": 2,
       "version_minor": 0
      },
      "text/plain": [
       "Similarity Metric Progress:   0%|          | 0/4 [00:00<?, ?it/s]"
      ]
     },
     "metadata": {},
     "output_type": "display_data"
    },
    {
     "data": {
      "application/vnd.jupyter.widget-view+json": {
       "model_id": "b9d9730b8bbf45449aece1a97710082c",
       "version_major": 2,
       "version_minor": 0
      },
      "text/plain": [
       "Community Detector Progress:   0%|          | 0/4 [00:00<?, ?it/s]"
      ]
     },
     "metadata": {},
     "output_type": "display_data"
    },
    {
     "data": {
      "application/vnd.jupyter.widget-view+json": {
       "model_id": "a4b9d569e44a4122bee3a87db4773dce",
       "version_major": 2,
       "version_minor": 0
      },
      "text/plain": [
       "Algorithm Progress:   0%|          | 0/4 [00:00<?, ?it/s]"
      ]
     },
     "metadata": {},
     "output_type": "display_data"
    },
    {
     "data": {
      "application/vnd.jupyter.widget-view+json": {
       "model_id": "214c3b0e22e54f4a92228658cfc6f960",
       "version_major": 2,
       "version_minor": 0
      },
      "text/plain": [
       "Algorithm Progress:   0%|          | 0/4 [00:00<?, ?it/s]"
      ]
     },
     "metadata": {},
     "output_type": "display_data"
    },
    {
     "data": {
      "application/vnd.jupyter.widget-view+json": {
       "model_id": "cbd9d91a829348e1a3d195e26475962b",
       "version_major": 2,
       "version_minor": 0
      },
      "text/plain": [
       "Communities progress:   0%|          | 0/3 [00:00<?, ?it/s]"
      ]
     },
     "metadata": {},
     "output_type": "display_data"
    },
    {
     "data": {
      "application/vnd.jupyter.widget-view+json": {
       "model_id": "af97e627afd64efd9277e97c9b340489",
       "version_major": 2,
       "version_minor": 0
      },
      "text/plain": [
       "Communities progress:   0%|          | 0/3 [00:00<?, ?it/s]"
      ]
     },
     "metadata": {},
     "output_type": "display_data"
    },
    {
     "data": {
      "application/vnd.jupyter.widget-view+json": {
       "model_id": "01c0239150024657857edef2b6d306b7",
       "version_major": 2,
       "version_minor": 0
      },
      "text/plain": [
       "Communities progress:   0%|          | 0/3 [00:00<?, ?it/s]"
      ]
     },
     "metadata": {},
     "output_type": "display_data"
    },
    {
     "data": {
      "application/vnd.jupyter.widget-view+json": {
       "model_id": "312b739c951e4059aab3e12c9803abea",
       "version_major": 2,
       "version_minor": 0
      },
      "text/plain": [
       "Communities progress:   0%|          | 0/3 [00:00<?, ?it/s]"
      ]
     },
     "metadata": {},
     "output_type": "display_data"
    },
    {
     "data": {
      "application/vnd.jupyter.widget-view+json": {
       "model_id": "91bf8f21522b4a30946aaca64717d450",
       "version_major": 2,
       "version_minor": 0
      },
      "text/plain": [
       "Algorithm Progress:   0%|          | 0/4 [00:00<?, ?it/s]"
      ]
     },
     "metadata": {},
     "output_type": "display_data"
    },
    {
     "data": {
      "application/vnd.jupyter.widget-view+json": {
       "model_id": "4a202771be1e4bfcb212c494d937e4bb",
       "version_major": 2,
       "version_minor": 0
      },
      "text/plain": [
       "Communities progress:   0%|          | 0/2 [00:00<?, ?it/s]"
      ]
     },
     "metadata": {},
     "output_type": "display_data"
    },
    {
     "data": {
      "application/vnd.jupyter.widget-view+json": {
       "model_id": "cf5ce0ff98f84635b50ed284218bd751",
       "version_major": 2,
       "version_minor": 0
      },
      "text/plain": [
       "Communities progress:   0%|          | 0/2 [00:00<?, ?it/s]"
      ]
     },
     "metadata": {},
     "output_type": "display_data"
    },
    {
     "data": {
      "application/vnd.jupyter.widget-view+json": {
       "model_id": "361b93e6779848179ff508556670cae7",
       "version_major": 2,
       "version_minor": 0
      },
      "text/plain": [
       "Communities progress:   0%|          | 0/2 [00:00<?, ?it/s]"
      ]
     },
     "metadata": {},
     "output_type": "display_data"
    },
    {
     "data": {
      "application/vnd.jupyter.widget-view+json": {
       "model_id": "e08dc6c76da54473b954e899bf968c01",
       "version_major": 2,
       "version_minor": 0
      },
      "text/plain": [
       "Communities progress:   0%|          | 0/2 [00:00<?, ?it/s]"
      ]
     },
     "metadata": {},
     "output_type": "display_data"
    },
    {
     "data": {
      "application/vnd.jupyter.widget-view+json": {
       "model_id": "5c665239f00945ae9ac35ee624681c43",
       "version_major": 2,
       "version_minor": 0
      },
      "text/plain": [
       "Algorithm Progress:   0%|          | 0/4 [00:00<?, ?it/s]"
      ]
     },
     "metadata": {},
     "output_type": "display_data"
    },
    {
     "data": {
      "application/vnd.jupyter.widget-view+json": {
       "model_id": "2039ddb21a77414ab26adb7893179ecb",
       "version_major": 2,
       "version_minor": 0
      },
      "text/plain": [
       "Communities progress:   0%|          | 0/440 [00:00<?, ?it/s]"
      ]
     },
     "metadata": {},
     "output_type": "display_data"
    },
    {
     "data": {
      "application/vnd.jupyter.widget-view+json": {
       "model_id": "c6d79663e1524253b1137a1ec4feb9b0",
       "version_major": 2,
       "version_minor": 0
      },
      "text/plain": [
       "Communities progress:   0%|          | 0/446 [00:00<?, ?it/s]"
      ]
     },
     "metadata": {},
     "output_type": "display_data"
    },
    {
     "data": {
      "application/vnd.jupyter.widget-view+json": {
       "model_id": "d981e87490194a1ea332982fe7afa163",
       "version_major": 2,
       "version_minor": 0
      },
      "text/plain": [
       "Communities progress:   0%|          | 0/436 [00:00<?, ?it/s]"
      ]
     },
     "metadata": {},
     "output_type": "display_data"
    },
    {
     "data": {
      "application/vnd.jupyter.widget-view+json": {
       "model_id": "7c2bbc33ac03405aa08b14fc3bb6cafc",
       "version_major": 2,
       "version_minor": 0
      },
      "text/plain": [
       "Communities progress:   0%|          | 0/439 [00:00<?, ?it/s]"
      ]
     },
     "metadata": {},
     "output_type": "display_data"
    },
    {
     "data": {
      "application/vnd.jupyter.widget-view+json": {
       "model_id": "49ebfe0df5b945ea88513e6d06a0d1c5",
       "version_major": 2,
       "version_minor": 0
      },
      "text/plain": [
       "Community Detector Progress:   0%|          | 0/4 [00:00<?, ?it/s]"
      ]
     },
     "metadata": {},
     "output_type": "display_data"
    },
    {
     "data": {
      "application/vnd.jupyter.widget-view+json": {
       "model_id": "8324ce83a3b24536bf6fd5475d235c2b",
       "version_major": 2,
       "version_minor": 0
      },
      "text/plain": [
       "Algorithm Progress:   0%|          | 0/4 [00:00<?, ?it/s]"
      ]
     },
     "metadata": {},
     "output_type": "display_data"
    },
    {
     "data": {
      "application/vnd.jupyter.widget-view+json": {
       "model_id": "c7d0657da0384e2aa86c622525692c1b",
       "version_major": 2,
       "version_minor": 0
      },
      "text/plain": [
       "Algorithm Progress:   0%|          | 0/4 [00:00<?, ?it/s]"
      ]
     },
     "metadata": {},
     "output_type": "display_data"
    },
    {
     "data": {
      "application/vnd.jupyter.widget-view+json": {
       "model_id": "c0e0d4ecacfb4ce985f0eee3ea19de74",
       "version_major": 2,
       "version_minor": 0
      },
      "text/plain": [
       "Communities progress:   0%|          | 0/3 [00:00<?, ?it/s]"
      ]
     },
     "metadata": {},
     "output_type": "display_data"
    },
    {
     "data": {
      "application/vnd.jupyter.widget-view+json": {
       "model_id": "04c5d7f205c840249c67b948c65dcbe1",
       "version_major": 2,
       "version_minor": 0
      },
      "text/plain": [
       "Communities progress:   0%|          | 0/3 [00:00<?, ?it/s]"
      ]
     },
     "metadata": {},
     "output_type": "display_data"
    },
    {
     "data": {
      "application/vnd.jupyter.widget-view+json": {
       "model_id": "393180a081b4451daa0edd42e09e4856",
       "version_major": 2,
       "version_minor": 0
      },
      "text/plain": [
       "Communities progress:   0%|          | 0/3 [00:00<?, ?it/s]"
      ]
     },
     "metadata": {},
     "output_type": "display_data"
    },
    {
     "data": {
      "application/vnd.jupyter.widget-view+json": {
       "model_id": "fda6aceafc324370917abe3a44ddb4a8",
       "version_major": 2,
       "version_minor": 0
      },
      "text/plain": [
       "Communities progress:   0%|          | 0/3 [00:00<?, ?it/s]"
      ]
     },
     "metadata": {},
     "output_type": "display_data"
    },
    {
     "data": {
      "application/vnd.jupyter.widget-view+json": {
       "model_id": "89f0e938314d4986afbe84a9ae7a5167",
       "version_major": 2,
       "version_minor": 0
      },
      "text/plain": [
       "Algorithm Progress:   0%|          | 0/4 [00:00<?, ?it/s]"
      ]
     },
     "metadata": {},
     "output_type": "display_data"
    },
    {
     "data": {
      "application/vnd.jupyter.widget-view+json": {
       "model_id": "818f5ca5622c4a598c888c413d03ccab",
       "version_major": 2,
       "version_minor": 0
      },
      "text/plain": [
       "Communities progress:   0%|          | 0/2 [00:00<?, ?it/s]"
      ]
     },
     "metadata": {},
     "output_type": "display_data"
    },
    {
     "data": {
      "application/vnd.jupyter.widget-view+json": {
       "model_id": "efff6128dce74e5aae59533dde546256",
       "version_major": 2,
       "version_minor": 0
      },
      "text/plain": [
       "Communities progress:   0%|          | 0/2 [00:00<?, ?it/s]"
      ]
     },
     "metadata": {},
     "output_type": "display_data"
    },
    {
     "data": {
      "application/vnd.jupyter.widget-view+json": {
       "model_id": "b75bf5381b554d0dab0d98100fcc8941",
       "version_major": 2,
       "version_minor": 0
      },
      "text/plain": [
       "Communities progress:   0%|          | 0/2 [00:00<?, ?it/s]"
      ]
     },
     "metadata": {},
     "output_type": "display_data"
    },
    {
     "data": {
      "application/vnd.jupyter.widget-view+json": {
       "model_id": "bc23ba796b94474381e13376ec8796c9",
       "version_major": 2,
       "version_minor": 0
      },
      "text/plain": [
       "Communities progress:   0%|          | 0/2 [00:00<?, ?it/s]"
      ]
     },
     "metadata": {},
     "output_type": "display_data"
    },
    {
     "data": {
      "application/vnd.jupyter.widget-view+json": {
       "model_id": "86f443c2974c4a0ebfdb0393aac8749a",
       "version_major": 2,
       "version_minor": 0
      },
      "text/plain": [
       "Algorithm Progress:   0%|          | 0/4 [00:00<?, ?it/s]"
      ]
     },
     "metadata": {},
     "output_type": "display_data"
    },
    {
     "data": {
      "application/vnd.jupyter.widget-view+json": {
       "model_id": "c4952bfdad234d0fadaf1ff71171923d",
       "version_major": 2,
       "version_minor": 0
      },
      "text/plain": [
       "Communities progress:   0%|          | 0/69 [00:00<?, ?it/s]"
      ]
     },
     "metadata": {},
     "output_type": "display_data"
    },
    {
     "data": {
      "application/vnd.jupyter.widget-view+json": {
       "model_id": "d6140697edad4d45868a7a9fa6850963",
       "version_major": 2,
       "version_minor": 0
      },
      "text/plain": [
       "Communities progress:   0%|          | 0/73 [00:00<?, ?it/s]"
      ]
     },
     "metadata": {},
     "output_type": "display_data"
    },
    {
     "data": {
      "application/vnd.jupyter.widget-view+json": {
       "model_id": "8d83359564044cfdb2b16a850b294306",
       "version_major": 2,
       "version_minor": 0
      },
      "text/plain": [
       "Communities progress:   0%|          | 0/69 [00:00<?, ?it/s]"
      ]
     },
     "metadata": {},
     "output_type": "display_data"
    },
    {
     "data": {
      "application/vnd.jupyter.widget-view+json": {
       "model_id": "63737656b9534dc98257a18b3536718d",
       "version_major": 2,
       "version_minor": 0
      },
      "text/plain": [
       "Communities progress:   0%|          | 0/73 [00:00<?, ?it/s]"
      ]
     },
     "metadata": {},
     "output_type": "display_data"
    },
    {
     "data": {
      "application/vnd.jupyter.widget-view+json": {
       "model_id": "4221a801ef9f412d9a8513ebc3b7f630",
       "version_major": 2,
       "version_minor": 0
      },
      "text/plain": [
       "Community Detector Progress:   0%|          | 0/4 [00:00<?, ?it/s]"
      ]
     },
     "metadata": {},
     "output_type": "display_data"
    },
    {
     "data": {
      "application/vnd.jupyter.widget-view+json": {
       "model_id": "db72d829a34a44a4ba58bc3d21806f6e",
       "version_major": 2,
       "version_minor": 0
      },
      "text/plain": [
       "Algorithm Progress:   0%|          | 0/4 [00:00<?, ?it/s]"
      ]
     },
     "metadata": {},
     "output_type": "display_data"
    },
    {
     "data": {
      "application/vnd.jupyter.widget-view+json": {
       "model_id": "7477341304494bd8a6b588dc49c3f8e7",
       "version_major": 2,
       "version_minor": 0
      },
      "text/plain": [
       "Algorithm Progress:   0%|          | 0/4 [00:00<?, ?it/s]"
      ]
     },
     "metadata": {},
     "output_type": "display_data"
    },
    {
     "data": {
      "application/vnd.jupyter.widget-view+json": {
       "model_id": "6c9bf13b5c5f45bb8bbbd19de9911280",
       "version_major": 2,
       "version_minor": 0
      },
      "text/plain": [
       "Communities progress:   0%|          | 0/3 [00:00<?, ?it/s]"
      ]
     },
     "metadata": {},
     "output_type": "display_data"
    },
    {
     "data": {
      "application/vnd.jupyter.widget-view+json": {
       "model_id": "854cf75d63e043c9b22bcd1fe1eed20d",
       "version_major": 2,
       "version_minor": 0
      },
      "text/plain": [
       "Communities progress:   0%|          | 0/2 [00:00<?, ?it/s]"
      ]
     },
     "metadata": {},
     "output_type": "display_data"
    },
    {
     "data": {
      "application/vnd.jupyter.widget-view+json": {
       "model_id": "96524b8d2ad5449490a5b6cb98761d4c",
       "version_major": 2,
       "version_minor": 0
      },
      "text/plain": [
       "Communities progress:   0%|          | 0/3 [00:00<?, ?it/s]"
      ]
     },
     "metadata": {},
     "output_type": "display_data"
    },
    {
     "data": {
      "application/vnd.jupyter.widget-view+json": {
       "model_id": "56608dab154e4851a0a538bece409f00",
       "version_major": 2,
       "version_minor": 0
      },
      "text/plain": [
       "Communities progress:   0%|          | 0/2 [00:00<?, ?it/s]"
      ]
     },
     "metadata": {},
     "output_type": "display_data"
    },
    {
     "data": {
      "application/vnd.jupyter.widget-view+json": {
       "model_id": "fabc57301b4543519eb39190a5034387",
       "version_major": 2,
       "version_minor": 0
      },
      "text/plain": [
       "Algorithm Progress:   0%|          | 0/4 [00:00<?, ?it/s]"
      ]
     },
     "metadata": {},
     "output_type": "display_data"
    },
    {
     "data": {
      "application/vnd.jupyter.widget-view+json": {
       "model_id": "e49ed7cf86394d609539bdaef90c0ab0",
       "version_major": 2,
       "version_minor": 0
      },
      "text/plain": [
       "Communities progress:   0%|          | 0/2 [00:00<?, ?it/s]"
      ]
     },
     "metadata": {},
     "output_type": "display_data"
    },
    {
     "data": {
      "application/vnd.jupyter.widget-view+json": {
       "model_id": "89c8bffd8ab94e92b7bc2327a915caaa",
       "version_major": 2,
       "version_minor": 0
      },
      "text/plain": [
       "Communities progress:   0%|          | 0/2 [00:00<?, ?it/s]"
      ]
     },
     "metadata": {},
     "output_type": "display_data"
    },
    {
     "data": {
      "application/vnd.jupyter.widget-view+json": {
       "model_id": "9916ccda8f774ff4ac764d4406d4ae23",
       "version_major": 2,
       "version_minor": 0
      },
      "text/plain": [
       "Communities progress:   0%|          | 0/2 [00:00<?, ?it/s]"
      ]
     },
     "metadata": {},
     "output_type": "display_data"
    },
    {
     "data": {
      "application/vnd.jupyter.widget-view+json": {
       "model_id": "1a5a93539b534d3b9a12d3f2e7756c8a",
       "version_major": 2,
       "version_minor": 0
      },
      "text/plain": [
       "Communities progress:   0%|          | 0/2 [00:00<?, ?it/s]"
      ]
     },
     "metadata": {},
     "output_type": "display_data"
    },
    {
     "data": {
      "application/vnd.jupyter.widget-view+json": {
       "model_id": "944be6bcac8b48e8bce87cf1ef888689",
       "version_major": 2,
       "version_minor": 0
      },
      "text/plain": [
       "Algorithm Progress:   0%|          | 0/4 [00:00<?, ?it/s]"
      ]
     },
     "metadata": {},
     "output_type": "display_data"
    },
    {
     "data": {
      "application/vnd.jupyter.widget-view+json": {
       "model_id": "23ca30903d844bbbbbd783be8a6100ce",
       "version_major": 2,
       "version_minor": 0
      },
      "text/plain": [
       "Communities progress:   0%|          | 0/489 [00:00<?, ?it/s]"
      ]
     },
     "metadata": {},
     "output_type": "display_data"
    },
    {
     "data": {
      "application/vnd.jupyter.widget-view+json": {
       "model_id": "0c1c3996dc8747f9bbfa74d6bbeda09f",
       "version_major": 2,
       "version_minor": 0
      },
      "text/plain": [
       "Communities progress:   0%|          | 0/483 [00:00<?, ?it/s]"
      ]
     },
     "metadata": {},
     "output_type": "display_data"
    },
    {
     "data": {
      "application/vnd.jupyter.widget-view+json": {
       "model_id": "bcb24b911dbf43ff855d66c86400543a",
       "version_major": 2,
       "version_minor": 0
      },
      "text/plain": [
       "Communities progress:   0%|          | 0/521 [00:00<?, ?it/s]"
      ]
     },
     "metadata": {},
     "output_type": "display_data"
    },
    {
     "data": {
      "application/vnd.jupyter.widget-view+json": {
       "model_id": "3d43c42776e1417d84aba751cd3cfba2",
       "version_major": 2,
       "version_minor": 0
      },
      "text/plain": [
       "Communities progress:   0%|          | 0/484 [00:00<?, ?it/s]"
      ]
     },
     "metadata": {},
     "output_type": "display_data"
    },
    {
     "data": {
      "application/vnd.jupyter.widget-view+json": {
       "model_id": "21b3b9c82e234f68b2f263f9d5c89c26",
       "version_major": 2,
       "version_minor": 0
      },
      "text/plain": [
       "Community Detector Progress:   0%|          | 0/4 [00:00<?, ?it/s]"
      ]
     },
     "metadata": {},
     "output_type": "display_data"
    },
    {
     "data": {
      "application/vnd.jupyter.widget-view+json": {
       "model_id": "1a625adfd89c4d75aac99e14afe20ef1",
       "version_major": 2,
       "version_minor": 0
      },
      "text/plain": [
       "Algorithm Progress:   0%|          | 0/4 [00:00<?, ?it/s]"
      ]
     },
     "metadata": {},
     "output_type": "display_data"
    },
    {
     "data": {
      "application/vnd.jupyter.widget-view+json": {
       "model_id": "126847c9c42a4ef1afca2ce90cc636f4",
       "version_major": 2,
       "version_minor": 0
      },
      "text/plain": [
       "Algorithm Progress:   0%|          | 0/4 [00:00<?, ?it/s]"
      ]
     },
     "metadata": {},
     "output_type": "display_data"
    },
    {
     "data": {
      "application/vnd.jupyter.widget-view+json": {
       "model_id": "85437f928a3f46e384122ad8238bf0f0",
       "version_major": 2,
       "version_minor": 0
      },
      "text/plain": [
       "Communities progress:   0%|          | 0/3 [00:00<?, ?it/s]"
      ]
     },
     "metadata": {},
     "output_type": "display_data"
    },
    {
     "data": {
      "application/vnd.jupyter.widget-view+json": {
       "model_id": "cda4b803abab4d4587502138983df63b",
       "version_major": 2,
       "version_minor": 0
      },
      "text/plain": [
       "Communities progress:   0%|          | 0/3 [00:00<?, ?it/s]"
      ]
     },
     "metadata": {},
     "output_type": "display_data"
    },
    {
     "data": {
      "application/vnd.jupyter.widget-view+json": {
       "model_id": "c73963c07fdb4f0f853a65848bf36467",
       "version_major": 2,
       "version_minor": 0
      },
      "text/plain": [
       "Communities progress:   0%|          | 0/3 [00:00<?, ?it/s]"
      ]
     },
     "metadata": {},
     "output_type": "display_data"
    },
    {
     "data": {
      "application/vnd.jupyter.widget-view+json": {
       "model_id": "591b300933934523b5f3824570de72e4",
       "version_major": 2,
       "version_minor": 0
      },
      "text/plain": [
       "Communities progress:   0%|          | 0/2 [00:00<?, ?it/s]"
      ]
     },
     "metadata": {},
     "output_type": "display_data"
    },
    {
     "data": {
      "application/vnd.jupyter.widget-view+json": {
       "model_id": "8a420a18b3c7421195c8e71819ece633",
       "version_major": 2,
       "version_minor": 0
      },
      "text/plain": [
       "Algorithm Progress:   0%|          | 0/4 [00:00<?, ?it/s]"
      ]
     },
     "metadata": {},
     "output_type": "display_data"
    },
    {
     "data": {
      "application/vnd.jupyter.widget-view+json": {
       "model_id": "d8add6ecf0394feaa55285c4744f7939",
       "version_major": 2,
       "version_minor": 0
      },
      "text/plain": [
       "Communities progress:   0%|          | 0/2 [00:00<?, ?it/s]"
      ]
     },
     "metadata": {},
     "output_type": "display_data"
    },
    {
     "data": {
      "application/vnd.jupyter.widget-view+json": {
       "model_id": "3b8c9f3aabfb4ec5a0ee70b7bd64c2de",
       "version_major": 2,
       "version_minor": 0
      },
      "text/plain": [
       "Communities progress:   0%|          | 0/2 [00:00<?, ?it/s]"
      ]
     },
     "metadata": {},
     "output_type": "display_data"
    },
    {
     "data": {
      "application/vnd.jupyter.widget-view+json": {
       "model_id": "dca0a4ba99684646b734f5b7c8268c75",
       "version_major": 2,
       "version_minor": 0
      },
      "text/plain": [
       "Communities progress:   0%|          | 0/2 [00:00<?, ?it/s]"
      ]
     },
     "metadata": {},
     "output_type": "display_data"
    },
    {
     "data": {
      "application/vnd.jupyter.widget-view+json": {
       "model_id": "6514ac750a3a4512a3853a294c1a2bb8",
       "version_major": 2,
       "version_minor": 0
      },
      "text/plain": [
       "Communities progress:   0%|          | 0/2 [00:00<?, ?it/s]"
      ]
     },
     "metadata": {},
     "output_type": "display_data"
    },
    {
     "data": {
      "application/vnd.jupyter.widget-view+json": {
       "model_id": "db277c62fc774cae92c5fc58397d7ea9",
       "version_major": 2,
       "version_minor": 0
      },
      "text/plain": [
       "Algorithm Progress:   0%|          | 0/4 [00:00<?, ?it/s]"
      ]
     },
     "metadata": {},
     "output_type": "display_data"
    },
    {
     "data": {
      "application/vnd.jupyter.widget-view+json": {
       "model_id": "09ee471718854a8ab845ac9db5ffe270",
       "version_major": 2,
       "version_minor": 0
      },
      "text/plain": [
       "Communities progress:   0%|          | 0/439 [00:00<?, ?it/s]"
      ]
     },
     "metadata": {},
     "output_type": "display_data"
    },
    {
     "data": {
      "application/vnd.jupyter.widget-view+json": {
       "model_id": "8b856c5a728046f38c165645157978e3",
       "version_major": 2,
       "version_minor": 0
      },
      "text/plain": [
       "Communities progress:   0%|          | 0/439 [00:00<?, ?it/s]"
      ]
     },
     "metadata": {},
     "output_type": "display_data"
    },
    {
     "data": {
      "application/vnd.jupyter.widget-view+json": {
       "model_id": "e52a530a43894e62b8dc9d47255a6072",
       "version_major": 2,
       "version_minor": 0
      },
      "text/plain": [
       "Communities progress:   0%|          | 0/444 [00:00<?, ?it/s]"
      ]
     },
     "metadata": {},
     "output_type": "display_data"
    },
    {
     "data": {
      "application/vnd.jupyter.widget-view+json": {
       "model_id": "e391eaf8afa0480785201203e2fbb251",
       "version_major": 2,
       "version_minor": 0
      },
      "text/plain": [
       "Communities progress:   0%|          | 0/438 [00:00<?, ?it/s]"
      ]
     },
     "metadata": {},
     "output_type": "display_data"
    },
    {
     "data": {
      "application/vnd.jupyter.widget-view+json": {
       "model_id": "622a2c3d7bcb4a70bc94609d013a23f6",
       "version_major": 2,
       "version_minor": 0
      },
      "text/plain": [
       "Similarity Metric Progress:   0%|          | 0/4 [00:00<?, ?it/s]"
      ]
     },
     "metadata": {},
     "output_type": "display_data"
    },
    {
     "data": {
      "application/vnd.jupyter.widget-view+json": {
       "model_id": "4c3dd90b1d764ad08a6718ea01a4c9b3",
       "version_major": 2,
       "version_minor": 0
      },
      "text/plain": [
       "Community Detector Progress:   0%|          | 0/4 [00:00<?, ?it/s]"
      ]
     },
     "metadata": {},
     "output_type": "display_data"
    },
    {
     "data": {
      "application/vnd.jupyter.widget-view+json": {
       "model_id": "d80ca69c1c2042d6b7d5226c9746ae8d",
       "version_major": 2,
       "version_minor": 0
      },
      "text/plain": [
       "Algorithm Progress:   0%|          | 0/4 [00:00<?, ?it/s]"
      ]
     },
     "metadata": {},
     "output_type": "display_data"
    },
    {
     "data": {
      "application/vnd.jupyter.widget-view+json": {
       "model_id": "e0bc9a45215e4ced9f1ba18bbf2a1742",
       "version_major": 2,
       "version_minor": 0
      },
      "text/plain": [
       "Algorithm Progress:   0%|          | 0/4 [00:00<?, ?it/s]"
      ]
     },
     "metadata": {},
     "output_type": "display_data"
    },
    {
     "data": {
      "application/vnd.jupyter.widget-view+json": {
       "model_id": "cfccd8ff5b0844fda1135c11bcb8762b",
       "version_major": 2,
       "version_minor": 0
      },
      "text/plain": [
       "Communities progress:   0%|          | 0/3 [00:00<?, ?it/s]"
      ]
     },
     "metadata": {},
     "output_type": "display_data"
    },
    {
     "data": {
      "application/vnd.jupyter.widget-view+json": {
       "model_id": "6229cf01864a40ad88fc025f3a9142d0",
       "version_major": 2,
       "version_minor": 0
      },
      "text/plain": [
       "Communities progress:   0%|          | 0/3 [00:00<?, ?it/s]"
      ]
     },
     "metadata": {},
     "output_type": "display_data"
    },
    {
     "data": {
      "application/vnd.jupyter.widget-view+json": {
       "model_id": "b8b54163c8834fafaaa8e27f126840b9",
       "version_major": 2,
       "version_minor": 0
      },
      "text/plain": [
       "Communities progress:   0%|          | 0/3 [00:00<?, ?it/s]"
      ]
     },
     "metadata": {},
     "output_type": "display_data"
    },
    {
     "data": {
      "application/vnd.jupyter.widget-view+json": {
       "model_id": "89c60de272e049cf958e1a78df274155",
       "version_major": 2,
       "version_minor": 0
      },
      "text/plain": [
       "Communities progress:   0%|          | 0/3 [00:00<?, ?it/s]"
      ]
     },
     "metadata": {},
     "output_type": "display_data"
    },
    {
     "data": {
      "application/vnd.jupyter.widget-view+json": {
       "model_id": "15a63b13f00940578c56b8efc582f463",
       "version_major": 2,
       "version_minor": 0
      },
      "text/plain": [
       "Algorithm Progress:   0%|          | 0/4 [00:00<?, ?it/s]"
      ]
     },
     "metadata": {},
     "output_type": "display_data"
    },
    {
     "data": {
      "application/vnd.jupyter.widget-view+json": {
       "model_id": "39a79197fe02464296042e49234ad82a",
       "version_major": 2,
       "version_minor": 0
      },
      "text/plain": [
       "Communities progress:   0%|          | 0/2 [00:00<?, ?it/s]"
      ]
     },
     "metadata": {},
     "output_type": "display_data"
    },
    {
     "data": {
      "application/vnd.jupyter.widget-view+json": {
       "model_id": "52371194c74748a6a9419b38a7c9d600",
       "version_major": 2,
       "version_minor": 0
      },
      "text/plain": [
       "Communities progress:   0%|          | 0/2 [00:00<?, ?it/s]"
      ]
     },
     "metadata": {},
     "output_type": "display_data"
    },
    {
     "data": {
      "application/vnd.jupyter.widget-view+json": {
       "model_id": "00204934cbe14b3da7c0322e0104f36a",
       "version_major": 2,
       "version_minor": 0
      },
      "text/plain": [
       "Communities progress:   0%|          | 0/2 [00:00<?, ?it/s]"
      ]
     },
     "metadata": {},
     "output_type": "display_data"
    },
    {
     "data": {
      "application/vnd.jupyter.widget-view+json": {
       "model_id": "8faf8c6b5de144d6aa4a57d0a2177932",
       "version_major": 2,
       "version_minor": 0
      },
      "text/plain": [
       "Communities progress:   0%|          | 0/2 [00:00<?, ?it/s]"
      ]
     },
     "metadata": {},
     "output_type": "display_data"
    },
    {
     "data": {
      "application/vnd.jupyter.widget-view+json": {
       "model_id": "2e42819dd62347b1be22f2aa9204b584",
       "version_major": 2,
       "version_minor": 0
      },
      "text/plain": [
       "Algorithm Progress:   0%|          | 0/4 [00:00<?, ?it/s]"
      ]
     },
     "metadata": {},
     "output_type": "display_data"
    },
    {
     "data": {
      "application/vnd.jupyter.widget-view+json": {
       "model_id": "1c7b4af57ca7476ca4f3e49115ef7661",
       "version_major": 2,
       "version_minor": 0
      },
      "text/plain": [
       "Communities progress:   0%|          | 0/441 [00:00<?, ?it/s]"
      ]
     },
     "metadata": {},
     "output_type": "display_data"
    },
    {
     "data": {
      "application/vnd.jupyter.widget-view+json": {
       "model_id": "72a0de2fc37a4a70a7ec6f24e5e44f83",
       "version_major": 2,
       "version_minor": 0
      },
      "text/plain": [
       "Communities progress:   0%|          | 0/440 [00:00<?, ?it/s]"
      ]
     },
     "metadata": {},
     "output_type": "display_data"
    },
    {
     "data": {
      "application/vnd.jupyter.widget-view+json": {
       "model_id": "156158944cc849f184bfe156438c5b95",
       "version_major": 2,
       "version_minor": 0
      },
      "text/plain": [
       "Communities progress:   0%|          | 0/440 [00:00<?, ?it/s]"
      ]
     },
     "metadata": {},
     "output_type": "display_data"
    },
    {
     "data": {
      "application/vnd.jupyter.widget-view+json": {
       "model_id": "0051b0dfd1e8459ab37caa56a19053bb",
       "version_major": 2,
       "version_minor": 0
      },
      "text/plain": [
       "Communities progress:   0%|          | 0/444 [00:00<?, ?it/s]"
      ]
     },
     "metadata": {},
     "output_type": "display_data"
    },
    {
     "data": {
      "application/vnd.jupyter.widget-view+json": {
       "model_id": "03c652fa9e8b4b37a53c0b182373c57d",
       "version_major": 2,
       "version_minor": 0
      },
      "text/plain": [
       "Community Detector Progress:   0%|          | 0/4 [00:00<?, ?it/s]"
      ]
     },
     "metadata": {},
     "output_type": "display_data"
    },
    {
     "data": {
      "application/vnd.jupyter.widget-view+json": {
       "model_id": "8648fd00e068488a9275342b1367e9c5",
       "version_major": 2,
       "version_minor": 0
      },
      "text/plain": [
       "Algorithm Progress:   0%|          | 0/4 [00:00<?, ?it/s]"
      ]
     },
     "metadata": {},
     "output_type": "display_data"
    },
    {
     "data": {
      "application/vnd.jupyter.widget-view+json": {
       "model_id": "5c0d026c0af94182add61a91ea588678",
       "version_major": 2,
       "version_minor": 0
      },
      "text/plain": [
       "Algorithm Progress:   0%|          | 0/4 [00:00<?, ?it/s]"
      ]
     },
     "metadata": {},
     "output_type": "display_data"
    },
    {
     "data": {
      "application/vnd.jupyter.widget-view+json": {
       "model_id": "e58ca667bb974a489ac1f9dc85662357",
       "version_major": 2,
       "version_minor": 0
      },
      "text/plain": [
       "Communities progress:   0%|          | 0/3 [00:00<?, ?it/s]"
      ]
     },
     "metadata": {},
     "output_type": "display_data"
    },
    {
     "data": {
      "application/vnd.jupyter.widget-view+json": {
       "model_id": "26a3e8105d314d1bae097d83543cd312",
       "version_major": 2,
       "version_minor": 0
      },
      "text/plain": [
       "Communities progress:   0%|          | 0/3 [00:00<?, ?it/s]"
      ]
     },
     "metadata": {},
     "output_type": "display_data"
    },
    {
     "data": {
      "application/vnd.jupyter.widget-view+json": {
       "model_id": "0951ff77f94c4faa97810a5463d3e10b",
       "version_major": 2,
       "version_minor": 0
      },
      "text/plain": [
       "Communities progress:   0%|          | 0/3 [00:00<?, ?it/s]"
      ]
     },
     "metadata": {},
     "output_type": "display_data"
    },
    {
     "data": {
      "application/vnd.jupyter.widget-view+json": {
       "model_id": "c0e14c505ed74726b4f8a936837092d8",
       "version_major": 2,
       "version_minor": 0
      },
      "text/plain": [
       "Communities progress:   0%|          | 0/3 [00:00<?, ?it/s]"
      ]
     },
     "metadata": {},
     "output_type": "display_data"
    },
    {
     "data": {
      "application/vnd.jupyter.widget-view+json": {
       "model_id": "bdbd3f27c67d4b2cae6fa3800c22984d",
       "version_major": 2,
       "version_minor": 0
      },
      "text/plain": [
       "Algorithm Progress:   0%|          | 0/4 [00:00<?, ?it/s]"
      ]
     },
     "metadata": {},
     "output_type": "display_data"
    },
    {
     "data": {
      "application/vnd.jupyter.widget-view+json": {
       "model_id": "a0971d5e941d464180de975e0d5d3be0",
       "version_major": 2,
       "version_minor": 0
      },
      "text/plain": [
       "Communities progress:   0%|          | 0/2 [00:00<?, ?it/s]"
      ]
     },
     "metadata": {},
     "output_type": "display_data"
    },
    {
     "data": {
      "application/vnd.jupyter.widget-view+json": {
       "model_id": "0b9fbbd431b34cd9ae5a5a618f972066",
       "version_major": 2,
       "version_minor": 0
      },
      "text/plain": [
       "Communities progress:   0%|          | 0/2 [00:00<?, ?it/s]"
      ]
     },
     "metadata": {},
     "output_type": "display_data"
    },
    {
     "data": {
      "application/vnd.jupyter.widget-view+json": {
       "model_id": "952726d3df1d49edad5a701dd964dacb",
       "version_major": 2,
       "version_minor": 0
      },
      "text/plain": [
       "Communities progress:   0%|          | 0/2 [00:00<?, ?it/s]"
      ]
     },
     "metadata": {},
     "output_type": "display_data"
    },
    {
     "data": {
      "application/vnd.jupyter.widget-view+json": {
       "model_id": "039e3c2131c34e9797bdf11eaa1de45f",
       "version_major": 2,
       "version_minor": 0
      },
      "text/plain": [
       "Communities progress:   0%|          | 0/2 [00:00<?, ?it/s]"
      ]
     },
     "metadata": {},
     "output_type": "display_data"
    },
    {
     "data": {
      "application/vnd.jupyter.widget-view+json": {
       "model_id": "a6aca974425046a6b39b0be952977848",
       "version_major": 2,
       "version_minor": 0
      },
      "text/plain": [
       "Algorithm Progress:   0%|          | 0/4 [00:00<?, ?it/s]"
      ]
     },
     "metadata": {},
     "output_type": "display_data"
    },
    {
     "data": {
      "application/vnd.jupyter.widget-view+json": {
       "model_id": "8ba216ac332744db9f1ad15c1f5e3bb3",
       "version_major": 2,
       "version_minor": 0
      },
      "text/plain": [
       "Communities progress:   0%|          | 0/71 [00:00<?, ?it/s]"
      ]
     },
     "metadata": {},
     "output_type": "display_data"
    },
    {
     "data": {
      "application/vnd.jupyter.widget-view+json": {
       "model_id": "d8e1788d1a8542b68e52ea0234c5fc73",
       "version_major": 2,
       "version_minor": 0
      },
      "text/plain": [
       "Communities progress:   0%|          | 0/83 [00:00<?, ?it/s]"
      ]
     },
     "metadata": {},
     "output_type": "display_data"
    },
    {
     "data": {
      "application/vnd.jupyter.widget-view+json": {
       "model_id": "acd4b2a7ea3a4aec8108f22dfbbec7ea",
       "version_major": 2,
       "version_minor": 0
      },
      "text/plain": [
       "Communities progress:   0%|          | 0/77 [00:00<?, ?it/s]"
      ]
     },
     "metadata": {},
     "output_type": "display_data"
    },
    {
     "data": {
      "application/vnd.jupyter.widget-view+json": {
       "model_id": "d1ec74418237420b8fefb932e4343bf0",
       "version_major": 2,
       "version_minor": 0
      },
      "text/plain": [
       "Communities progress:   0%|          | 0/75 [00:00<?, ?it/s]"
      ]
     },
     "metadata": {},
     "output_type": "display_data"
    },
    {
     "data": {
      "application/vnd.jupyter.widget-view+json": {
       "model_id": "40ed5e8ea3c1444b8c4a8db52617ba7e",
       "version_major": 2,
       "version_minor": 0
      },
      "text/plain": [
       "Community Detector Progress:   0%|          | 0/4 [00:00<?, ?it/s]"
      ]
     },
     "metadata": {},
     "output_type": "display_data"
    },
    {
     "data": {
      "application/vnd.jupyter.widget-view+json": {
       "model_id": "2340c2a06bb4416995efd898cc839c3c",
       "version_major": 2,
       "version_minor": 0
      },
      "text/plain": [
       "Algorithm Progress:   0%|          | 0/4 [00:00<?, ?it/s]"
      ]
     },
     "metadata": {},
     "output_type": "display_data"
    },
    {
     "data": {
      "application/vnd.jupyter.widget-view+json": {
       "model_id": "a257ea0df246458e864c3e21240f5b2f",
       "version_major": 2,
       "version_minor": 0
      },
      "text/plain": [
       "Algorithm Progress:   0%|          | 0/4 [00:00<?, ?it/s]"
      ]
     },
     "metadata": {},
     "output_type": "display_data"
    },
    {
     "data": {
      "application/vnd.jupyter.widget-view+json": {
       "model_id": "5e3bcab5106a457b93c1d57bd7450757",
       "version_major": 2,
       "version_minor": 0
      },
      "text/plain": [
       "Communities progress:   0%|          | 0/3 [00:00<?, ?it/s]"
      ]
     },
     "metadata": {},
     "output_type": "display_data"
    },
    {
     "data": {
      "application/vnd.jupyter.widget-view+json": {
       "model_id": "105170e9d1a543898ab6c6e19a040895",
       "version_major": 2,
       "version_minor": 0
      },
      "text/plain": [
       "Communities progress:   0%|          | 0/3 [00:00<?, ?it/s]"
      ]
     },
     "metadata": {},
     "output_type": "display_data"
    },
    {
     "data": {
      "application/vnd.jupyter.widget-view+json": {
       "model_id": "6a64fd419ea44de9a04d0a1cb2e4a546",
       "version_major": 2,
       "version_minor": 0
      },
      "text/plain": [
       "Communities progress:   0%|          | 0/3 [00:00<?, ?it/s]"
      ]
     },
     "metadata": {},
     "output_type": "display_data"
    },
    {
     "data": {
      "application/vnd.jupyter.widget-view+json": {
       "model_id": "fc56f1654e294dda87a006da7fbe3d25",
       "version_major": 2,
       "version_minor": 0
      },
      "text/plain": [
       "Communities progress:   0%|          | 0/3 [00:00<?, ?it/s]"
      ]
     },
     "metadata": {},
     "output_type": "display_data"
    },
    {
     "data": {
      "application/vnd.jupyter.widget-view+json": {
       "model_id": "5de265868a71468188ea64c79e5002c2",
       "version_major": 2,
       "version_minor": 0
      },
      "text/plain": [
       "Algorithm Progress:   0%|          | 0/4 [00:00<?, ?it/s]"
      ]
     },
     "metadata": {},
     "output_type": "display_data"
    },
    {
     "data": {
      "application/vnd.jupyter.widget-view+json": {
       "model_id": "c0301814db764547b78fda00a7654243",
       "version_major": 2,
       "version_minor": 0
      },
      "text/plain": [
       "Communities progress:   0%|          | 0/2 [00:00<?, ?it/s]"
      ]
     },
     "metadata": {},
     "output_type": "display_data"
    },
    {
     "data": {
      "application/vnd.jupyter.widget-view+json": {
       "model_id": "b2b772be2b0843c18521a70ad24ded98",
       "version_major": 2,
       "version_minor": 0
      },
      "text/plain": [
       "Communities progress:   0%|          | 0/2 [00:00<?, ?it/s]"
      ]
     },
     "metadata": {},
     "output_type": "display_data"
    },
    {
     "data": {
      "application/vnd.jupyter.widget-view+json": {
       "model_id": "e21ae377cdd340e68b1e2f9128b6acd4",
       "version_major": 2,
       "version_minor": 0
      },
      "text/plain": [
       "Communities progress:   0%|          | 0/2 [00:00<?, ?it/s]"
      ]
     },
     "metadata": {},
     "output_type": "display_data"
    },
    {
     "data": {
      "application/vnd.jupyter.widget-view+json": {
       "model_id": "1db3dd96d75e480ea539850c47e4fa8d",
       "version_major": 2,
       "version_minor": 0
      },
      "text/plain": [
       "Communities progress:   0%|          | 0/2 [00:00<?, ?it/s]"
      ]
     },
     "metadata": {},
     "output_type": "display_data"
    },
    {
     "data": {
      "application/vnd.jupyter.widget-view+json": {
       "model_id": "ab4c659a0931461583d516f3f7e559e1",
       "version_major": 2,
       "version_minor": 0
      },
      "text/plain": [
       "Algorithm Progress:   0%|          | 0/4 [00:00<?, ?it/s]"
      ]
     },
     "metadata": {},
     "output_type": "display_data"
    },
    {
     "data": {
      "application/vnd.jupyter.widget-view+json": {
       "model_id": "505f3b6e5d1a44efa4acca14758e7fe6",
       "version_major": 2,
       "version_minor": 0
      },
      "text/plain": [
       "Communities progress:   0%|          | 0/482 [00:00<?, ?it/s]"
      ]
     },
     "metadata": {},
     "output_type": "display_data"
    },
    {
     "data": {
      "application/vnd.jupyter.widget-view+json": {
       "model_id": "7ca8597c03d84c0e821e23b0b515a4b3",
       "version_major": 2,
       "version_minor": 0
      },
      "text/plain": [
       "Communities progress:   0%|          | 0/487 [00:00<?, ?it/s]"
      ]
     },
     "metadata": {},
     "output_type": "display_data"
    },
    {
     "data": {
      "application/vnd.jupyter.widget-view+json": {
       "model_id": "0bf9eb0232bf4dcba752d75d9787d16c",
       "version_major": 2,
       "version_minor": 0
      },
      "text/plain": [
       "Communities progress:   0%|          | 0/485 [00:00<?, ?it/s]"
      ]
     },
     "metadata": {},
     "output_type": "display_data"
    },
    {
     "data": {
      "application/vnd.jupyter.widget-view+json": {
       "model_id": "51168c0e16e546829d312c41f0586bbb",
       "version_major": 2,
       "version_minor": 0
      },
      "text/plain": [
       "Communities progress:   0%|          | 0/491 [00:00<?, ?it/s]"
      ]
     },
     "metadata": {},
     "output_type": "display_data"
    },
    {
     "data": {
      "application/vnd.jupyter.widget-view+json": {
       "model_id": "75b2b206af5f408a8b9a23b2252192db",
       "version_major": 2,
       "version_minor": 0
      },
      "text/plain": [
       "Community Detector Progress:   0%|          | 0/4 [00:00<?, ?it/s]"
      ]
     },
     "metadata": {},
     "output_type": "display_data"
    },
    {
     "data": {
      "application/vnd.jupyter.widget-view+json": {
       "model_id": "921c48f536df45c982ceaff96f486d16",
       "version_major": 2,
       "version_minor": 0
      },
      "text/plain": [
       "Algorithm Progress:   0%|          | 0/4 [00:00<?, ?it/s]"
      ]
     },
     "metadata": {},
     "output_type": "display_data"
    },
    {
     "data": {
      "application/vnd.jupyter.widget-view+json": {
       "model_id": "e09c19d114d3484eb18ca316d8a24dc2",
       "version_major": 2,
       "version_minor": 0
      },
      "text/plain": [
       "Algorithm Progress:   0%|          | 0/4 [00:00<?, ?it/s]"
      ]
     },
     "metadata": {},
     "output_type": "display_data"
    },
    {
     "data": {
      "application/vnd.jupyter.widget-view+json": {
       "model_id": "4765f3d04b07489abad64fd0f69464f5",
       "version_major": 2,
       "version_minor": 0
      },
      "text/plain": [
       "Communities progress:   0%|          | 0/3 [00:00<?, ?it/s]"
      ]
     },
     "metadata": {},
     "output_type": "display_data"
    },
    {
     "data": {
      "application/vnd.jupyter.widget-view+json": {
       "model_id": "f1e1e1ca4e6c49ea9aa8afd2624b855a",
       "version_major": 2,
       "version_minor": 0
      },
      "text/plain": [
       "Communities progress:   0%|          | 0/3 [00:00<?, ?it/s]"
      ]
     },
     "metadata": {},
     "output_type": "display_data"
    },
    {
     "data": {
      "application/vnd.jupyter.widget-view+json": {
       "model_id": "9478568071b8444e82a8d2e0211f4c4b",
       "version_major": 2,
       "version_minor": 0
      },
      "text/plain": [
       "Communities progress:   0%|          | 0/3 [00:00<?, ?it/s]"
      ]
     },
     "metadata": {},
     "output_type": "display_data"
    },
    {
     "data": {
      "application/vnd.jupyter.widget-view+json": {
       "model_id": "925a7a1572c54cb0885cdb4e24d87993",
       "version_major": 2,
       "version_minor": 0
      },
      "text/plain": [
       "Communities progress:   0%|          | 0/3 [00:00<?, ?it/s]"
      ]
     },
     "metadata": {},
     "output_type": "display_data"
    },
    {
     "data": {
      "application/vnd.jupyter.widget-view+json": {
       "model_id": "568e6da351dd4900b3fd98f99a113d83",
       "version_major": 2,
       "version_minor": 0
      },
      "text/plain": [
       "Algorithm Progress:   0%|          | 0/4 [00:00<?, ?it/s]"
      ]
     },
     "metadata": {},
     "output_type": "display_data"
    },
    {
     "data": {
      "application/vnd.jupyter.widget-view+json": {
       "model_id": "b841e3f784cc41b0bda8d2513943082f",
       "version_major": 2,
       "version_minor": 0
      },
      "text/plain": [
       "Communities progress:   0%|          | 0/2 [00:00<?, ?it/s]"
      ]
     },
     "metadata": {},
     "output_type": "display_data"
    },
    {
     "data": {
      "application/vnd.jupyter.widget-view+json": {
       "model_id": "3911c1ca083b485fbef5f55ced991774",
       "version_major": 2,
       "version_minor": 0
      },
      "text/plain": [
       "Communities progress:   0%|          | 0/2 [00:00<?, ?it/s]"
      ]
     },
     "metadata": {},
     "output_type": "display_data"
    },
    {
     "data": {
      "application/vnd.jupyter.widget-view+json": {
       "model_id": "84ebad987f454a598e7bf48207db12d2",
       "version_major": 2,
       "version_minor": 0
      },
      "text/plain": [
       "Communities progress:   0%|          | 0/2 [00:00<?, ?it/s]"
      ]
     },
     "metadata": {},
     "output_type": "display_data"
    },
    {
     "data": {
      "application/vnd.jupyter.widget-view+json": {
       "model_id": "d92e9bde4c064fe5859a302c548de00e",
       "version_major": 2,
       "version_minor": 0
      },
      "text/plain": [
       "Communities progress:   0%|          | 0/2 [00:00<?, ?it/s]"
      ]
     },
     "metadata": {},
     "output_type": "display_data"
    },
    {
     "data": {
      "application/vnd.jupyter.widget-view+json": {
       "model_id": "3518845c196948c494f4e20ee6092233",
       "version_major": 2,
       "version_minor": 0
      },
      "text/plain": [
       "Algorithm Progress:   0%|          | 0/4 [00:00<?, ?it/s]"
      ]
     },
     "metadata": {},
     "output_type": "display_data"
    },
    {
     "data": {
      "application/vnd.jupyter.widget-view+json": {
       "model_id": "6848d8d1e2444eb388bc0385f7377f37",
       "version_major": 2,
       "version_minor": 0
      },
      "text/plain": [
       "Communities progress:   0%|          | 0/439 [00:00<?, ?it/s]"
      ]
     },
     "metadata": {},
     "output_type": "display_data"
    },
    {
     "data": {
      "application/vnd.jupyter.widget-view+json": {
       "model_id": "a4d3be0f27bd4050a4ad995a641df3ca",
       "version_major": 2,
       "version_minor": 0
      },
      "text/plain": [
       "Communities progress:   0%|          | 0/430 [00:00<?, ?it/s]"
      ]
     },
     "metadata": {},
     "output_type": "display_data"
    },
    {
     "data": {
      "application/vnd.jupyter.widget-view+json": {
       "model_id": "e9d879ac16c144aca95a494b53aa6444",
       "version_major": 2,
       "version_minor": 0
      },
      "text/plain": [
       "Communities progress:   0%|          | 0/436 [00:00<?, ?it/s]"
      ]
     },
     "metadata": {},
     "output_type": "display_data"
    },
    {
     "data": {
      "application/vnd.jupyter.widget-view+json": {
       "model_id": "a842a04dcc104bba9278e9b0a71355cd",
       "version_major": 2,
       "version_minor": 0
      },
      "text/plain": [
       "Communities progress:   0%|          | 0/441 [00:00<?, ?it/s]"
      ]
     },
     "metadata": {},
     "output_type": "display_data"
    },
    {
     "data": {
      "application/vnd.jupyter.widget-view+json": {
       "model_id": "365001ffe4f84c44be89a47ed7f157f2",
       "version_major": 2,
       "version_minor": 0
      },
      "text/plain": [
       "Similarity Metric Progress:   0%|          | 0/4 [00:00<?, ?it/s]"
      ]
     },
     "metadata": {},
     "output_type": "display_data"
    },
    {
     "data": {
      "application/vnd.jupyter.widget-view+json": {
       "model_id": "0c8ebd2f6eaa43dd88b04b5369951be3",
       "version_major": 2,
       "version_minor": 0
      },
      "text/plain": [
       "Community Detector Progress:   0%|          | 0/4 [00:00<?, ?it/s]"
      ]
     },
     "metadata": {},
     "output_type": "display_data"
    },
    {
     "data": {
      "application/vnd.jupyter.widget-view+json": {
       "model_id": "24e390621f894def96eff0098aea0fba",
       "version_major": 2,
       "version_minor": 0
      },
      "text/plain": [
       "Algorithm Progress:   0%|          | 0/4 [00:00<?, ?it/s]"
      ]
     },
     "metadata": {},
     "output_type": "display_data"
    },
    {
     "data": {
      "application/vnd.jupyter.widget-view+json": {
       "model_id": "5fd135d8dcd040c79813f45ad2118dea",
       "version_major": 2,
       "version_minor": 0
      },
      "text/plain": [
       "Algorithm Progress:   0%|          | 0/4 [00:00<?, ?it/s]"
      ]
     },
     "metadata": {},
     "output_type": "display_data"
    },
    {
     "data": {
      "application/vnd.jupyter.widget-view+json": {
       "model_id": "a0fc2ea8a5ea46e7bc860246cf01d4d5",
       "version_major": 2,
       "version_minor": 0
      },
      "text/plain": [
       "Communities progress:   0%|          | 0/3 [00:00<?, ?it/s]"
      ]
     },
     "metadata": {},
     "output_type": "display_data"
    },
    {
     "data": {
      "application/vnd.jupyter.widget-view+json": {
       "model_id": "073a54ab7f904450b8c091396fc05078",
       "version_major": 2,
       "version_minor": 0
      },
      "text/plain": [
       "Communities progress:   0%|          | 0/3 [00:00<?, ?it/s]"
      ]
     },
     "metadata": {},
     "output_type": "display_data"
    },
    {
     "data": {
      "application/vnd.jupyter.widget-view+json": {
       "model_id": "2e4ba6710cac47a8af50e1e46f806d41",
       "version_major": 2,
       "version_minor": 0
      },
      "text/plain": [
       "Communities progress:   0%|          | 0/3 [00:00<?, ?it/s]"
      ]
     },
     "metadata": {},
     "output_type": "display_data"
    },
    {
     "data": {
      "application/vnd.jupyter.widget-view+json": {
       "model_id": "d4268e083c1c40e4b84b3a759d254907",
       "version_major": 2,
       "version_minor": 0
      },
      "text/plain": [
       "Communities progress:   0%|          | 0/2 [00:00<?, ?it/s]"
      ]
     },
     "metadata": {},
     "output_type": "display_data"
    },
    {
     "data": {
      "application/vnd.jupyter.widget-view+json": {
       "model_id": "287496f719eb488cbc186d91be3f09c8",
       "version_major": 2,
       "version_minor": 0
      },
      "text/plain": [
       "Algorithm Progress:   0%|          | 0/4 [00:00<?, ?it/s]"
      ]
     },
     "metadata": {},
     "output_type": "display_data"
    },
    {
     "data": {
      "application/vnd.jupyter.widget-view+json": {
       "model_id": "346101877bbe4f79aedd73d2d6f53786",
       "version_major": 2,
       "version_minor": 0
      },
      "text/plain": [
       "Communities progress:   0%|          | 0/2 [00:00<?, ?it/s]"
      ]
     },
     "metadata": {},
     "output_type": "display_data"
    },
    {
     "data": {
      "application/vnd.jupyter.widget-view+json": {
       "model_id": "b1f4bf441c4f48178f8a446e82b728cb",
       "version_major": 2,
       "version_minor": 0
      },
      "text/plain": [
       "Communities progress:   0%|          | 0/2 [00:00<?, ?it/s]"
      ]
     },
     "metadata": {},
     "output_type": "display_data"
    },
    {
     "data": {
      "application/vnd.jupyter.widget-view+json": {
       "model_id": "6f1ea40e769b418ca6d6077198aa16e2",
       "version_major": 2,
       "version_minor": 0
      },
      "text/plain": [
       "Communities progress:   0%|          | 0/2 [00:00<?, ?it/s]"
      ]
     },
     "metadata": {},
     "output_type": "display_data"
    },
    {
     "data": {
      "application/vnd.jupyter.widget-view+json": {
       "model_id": "9f0ecb5db29a45c183961b2e4bd40a5c",
       "version_major": 2,
       "version_minor": 0
      },
      "text/plain": [
       "Communities progress:   0%|          | 0/2 [00:00<?, ?it/s]"
      ]
     },
     "metadata": {},
     "output_type": "display_data"
    },
    {
     "data": {
      "application/vnd.jupyter.widget-view+json": {
       "model_id": "3d401cd1a217445fa86e64f854853221",
       "version_major": 2,
       "version_minor": 0
      },
      "text/plain": [
       "Algorithm Progress:   0%|          | 0/4 [00:00<?, ?it/s]"
      ]
     },
     "metadata": {},
     "output_type": "display_data"
    },
    {
     "data": {
      "application/vnd.jupyter.widget-view+json": {
       "model_id": "822179424ca34f4a87c59e8e638b11aa",
       "version_major": 2,
       "version_minor": 0
      },
      "text/plain": [
       "Communities progress:   0%|          | 0/453 [00:00<?, ?it/s]"
      ]
     },
     "metadata": {},
     "output_type": "display_data"
    },
    {
     "data": {
      "application/vnd.jupyter.widget-view+json": {
       "model_id": "0d52081fcc9041f2ba132868bad5f266",
       "version_major": 2,
       "version_minor": 0
      },
      "text/plain": [
       "Communities progress:   0%|          | 0/459 [00:00<?, ?it/s]"
      ]
     },
     "metadata": {},
     "output_type": "display_data"
    },
    {
     "data": {
      "application/vnd.jupyter.widget-view+json": {
       "model_id": "bebfcc4650cc4a17aca375d26d495cec",
       "version_major": 2,
       "version_minor": 0
      },
      "text/plain": [
       "Communities progress:   0%|          | 0/449 [00:00<?, ?it/s]"
      ]
     },
     "metadata": {},
     "output_type": "display_data"
    },
    {
     "data": {
      "application/vnd.jupyter.widget-view+json": {
       "model_id": "ab6275520b914dc9a068e7969baabac7",
       "version_major": 2,
       "version_minor": 0
      },
      "text/plain": [
       "Communities progress:   0%|          | 0/512 [00:00<?, ?it/s]"
      ]
     },
     "metadata": {},
     "output_type": "display_data"
    },
    {
     "data": {
      "application/vnd.jupyter.widget-view+json": {
       "model_id": "03e038aaf6284a62ae3ec10a262ba30a",
       "version_major": 2,
       "version_minor": 0
      },
      "text/plain": [
       "Community Detector Progress:   0%|          | 0/4 [00:00<?, ?it/s]"
      ]
     },
     "metadata": {},
     "output_type": "display_data"
    },
    {
     "data": {
      "application/vnd.jupyter.widget-view+json": {
       "model_id": "fbd3541b54c342b7b09c8db3096a7493",
       "version_major": 2,
       "version_minor": 0
      },
      "text/plain": [
       "Algorithm Progress:   0%|          | 0/4 [00:00<?, ?it/s]"
      ]
     },
     "metadata": {},
     "output_type": "display_data"
    },
    {
     "data": {
      "application/vnd.jupyter.widget-view+json": {
       "model_id": "9d26c9f13f4046b4a6cde4923219c34c",
       "version_major": 2,
       "version_minor": 0
      },
      "text/plain": [
       "Algorithm Progress:   0%|          | 0/4 [00:00<?, ?it/s]"
      ]
     },
     "metadata": {},
     "output_type": "display_data"
    },
    {
     "data": {
      "application/vnd.jupyter.widget-view+json": {
       "model_id": "5d8c57cf532d4f48ab449f973a727f50",
       "version_major": 2,
       "version_minor": 0
      },
      "text/plain": [
       "Communities progress:   0%|          | 0/3 [00:00<?, ?it/s]"
      ]
     },
     "metadata": {},
     "output_type": "display_data"
    },
    {
     "data": {
      "application/vnd.jupyter.widget-view+json": {
       "model_id": "1c8e820467db4aae917b7e06915f283e",
       "version_major": 2,
       "version_minor": 0
      },
      "text/plain": [
       "Communities progress:   0%|          | 0/2 [00:00<?, ?it/s]"
      ]
     },
     "metadata": {},
     "output_type": "display_data"
    },
    {
     "data": {
      "application/vnd.jupyter.widget-view+json": {
       "model_id": "1b46d352dd7e471594571d0057422251",
       "version_major": 2,
       "version_minor": 0
      },
      "text/plain": [
       "Communities progress:   0%|          | 0/3 [00:00<?, ?it/s]"
      ]
     },
     "metadata": {},
     "output_type": "display_data"
    },
    {
     "data": {
      "application/vnd.jupyter.widget-view+json": {
       "model_id": "a7f1f6833219496ba4332ca5fdac1e34",
       "version_major": 2,
       "version_minor": 0
      },
      "text/plain": [
       "Communities progress:   0%|          | 0/3 [00:00<?, ?it/s]"
      ]
     },
     "metadata": {},
     "output_type": "display_data"
    },
    {
     "data": {
      "application/vnd.jupyter.widget-view+json": {
       "model_id": "abbe9b66b19844878a1368eb4552b91c",
       "version_major": 2,
       "version_minor": 0
      },
      "text/plain": [
       "Algorithm Progress:   0%|          | 0/4 [00:00<?, ?it/s]"
      ]
     },
     "metadata": {},
     "output_type": "display_data"
    },
    {
     "data": {
      "application/vnd.jupyter.widget-view+json": {
       "model_id": "03c00b153e034127bd280c5b77571fd5",
       "version_major": 2,
       "version_minor": 0
      },
      "text/plain": [
       "Communities progress:   0%|          | 0/2 [00:00<?, ?it/s]"
      ]
     },
     "metadata": {},
     "output_type": "display_data"
    },
    {
     "data": {
      "application/vnd.jupyter.widget-view+json": {
       "model_id": "ab3bff6a36e74e3db100da2995e27c48",
       "version_major": 2,
       "version_minor": 0
      },
      "text/plain": [
       "Communities progress:   0%|          | 0/2 [00:00<?, ?it/s]"
      ]
     },
     "metadata": {},
     "output_type": "display_data"
    },
    {
     "data": {
      "application/vnd.jupyter.widget-view+json": {
       "model_id": "dc6b365123db4311a6d151b4989eeacc",
       "version_major": 2,
       "version_minor": 0
      },
      "text/plain": [
       "Communities progress:   0%|          | 0/2 [00:00<?, ?it/s]"
      ]
     },
     "metadata": {},
     "output_type": "display_data"
    },
    {
     "data": {
      "application/vnd.jupyter.widget-view+json": {
       "model_id": "7037a26c26414a89b8a3ddbcda07dca5",
       "version_major": 2,
       "version_minor": 0
      },
      "text/plain": [
       "Communities progress:   0%|          | 0/2 [00:00<?, ?it/s]"
      ]
     },
     "metadata": {},
     "output_type": "display_data"
    },
    {
     "data": {
      "application/vnd.jupyter.widget-view+json": {
       "model_id": "85a2e87f5f9d41f88e55ebe3472329a8",
       "version_major": 2,
       "version_minor": 0
      },
      "text/plain": [
       "Algorithm Progress:   0%|          | 0/4 [00:00<?, ?it/s]"
      ]
     },
     "metadata": {},
     "output_type": "display_data"
    },
    {
     "data": {
      "application/vnd.jupyter.widget-view+json": {
       "model_id": "9e5bde9091df41d2ae79466fc43830b2",
       "version_major": 2,
       "version_minor": 0
      },
      "text/plain": [
       "Communities progress:   0%|          | 0/70 [00:00<?, ?it/s]"
      ]
     },
     "metadata": {},
     "output_type": "display_data"
    },
    {
     "data": {
      "application/vnd.jupyter.widget-view+json": {
       "model_id": "54c6b76ba47148d4ab99cf133b171e54",
       "version_major": 2,
       "version_minor": 0
      },
      "text/plain": [
       "Communities progress:   0%|          | 0/79 [00:00<?, ?it/s]"
      ]
     },
     "metadata": {},
     "output_type": "display_data"
    },
    {
     "data": {
      "application/vnd.jupyter.widget-view+json": {
       "model_id": "850738bf15034fc89e14cbd7a3258dee",
       "version_major": 2,
       "version_minor": 0
      },
      "text/plain": [
       "Communities progress:   0%|          | 0/75 [00:00<?, ?it/s]"
      ]
     },
     "metadata": {},
     "output_type": "display_data"
    },
    {
     "data": {
      "application/vnd.jupyter.widget-view+json": {
       "model_id": "0d3e4ebf8a064bdb973c06f6121cbd63",
       "version_major": 2,
       "version_minor": 0
      },
      "text/plain": [
       "Communities progress:   0%|          | 0/77 [00:00<?, ?it/s]"
      ]
     },
     "metadata": {},
     "output_type": "display_data"
    },
    {
     "data": {
      "application/vnd.jupyter.widget-view+json": {
       "model_id": "2a4fc2087241429c80c34a98b742f842",
       "version_major": 2,
       "version_minor": 0
      },
      "text/plain": [
       "Community Detector Progress:   0%|          | 0/4 [00:00<?, ?it/s]"
      ]
     },
     "metadata": {},
     "output_type": "display_data"
    },
    {
     "data": {
      "application/vnd.jupyter.widget-view+json": {
       "model_id": "265600861520483389f379732a18ed4f",
       "version_major": 2,
       "version_minor": 0
      },
      "text/plain": [
       "Algorithm Progress:   0%|          | 0/4 [00:00<?, ?it/s]"
      ]
     },
     "metadata": {},
     "output_type": "display_data"
    },
    {
     "data": {
      "application/vnd.jupyter.widget-view+json": {
       "model_id": "137d546160614e54a0c5881cf263396c",
       "version_major": 2,
       "version_minor": 0
      },
      "text/plain": [
       "Algorithm Progress:   0%|          | 0/4 [00:00<?, ?it/s]"
      ]
     },
     "metadata": {},
     "output_type": "display_data"
    },
    {
     "data": {
      "application/vnd.jupyter.widget-view+json": {
       "model_id": "d1697e08587d47b48712b2dd416a406f",
       "version_major": 2,
       "version_minor": 0
      },
      "text/plain": [
       "Communities progress:   0%|          | 0/3 [00:00<?, ?it/s]"
      ]
     },
     "metadata": {},
     "output_type": "display_data"
    },
    {
     "data": {
      "application/vnd.jupyter.widget-view+json": {
       "model_id": "7eb8b5e208504876b206a07d1cc53a6c",
       "version_major": 2,
       "version_minor": 0
      },
      "text/plain": [
       "Communities progress:   0%|          | 0/2 [00:00<?, ?it/s]"
      ]
     },
     "metadata": {},
     "output_type": "display_data"
    },
    {
     "data": {
      "application/vnd.jupyter.widget-view+json": {
       "model_id": "6586acf558ca4e5693f8db628ec7a66e",
       "version_major": 2,
       "version_minor": 0
      },
      "text/plain": [
       "Communities progress:   0%|          | 0/3 [00:00<?, ?it/s]"
      ]
     },
     "metadata": {},
     "output_type": "display_data"
    },
    {
     "data": {
      "application/vnd.jupyter.widget-view+json": {
       "model_id": "33a72c15cc7040dbbe1433df69d97ef2",
       "version_major": 2,
       "version_minor": 0
      },
      "text/plain": [
       "Communities progress:   0%|          | 0/3 [00:00<?, ?it/s]"
      ]
     },
     "metadata": {},
     "output_type": "display_data"
    },
    {
     "data": {
      "application/vnd.jupyter.widget-view+json": {
       "model_id": "255354ff2ef64a39b70f01f94f224bb0",
       "version_major": 2,
       "version_minor": 0
      },
      "text/plain": [
       "Algorithm Progress:   0%|          | 0/4 [00:00<?, ?it/s]"
      ]
     },
     "metadata": {},
     "output_type": "display_data"
    },
    {
     "data": {
      "application/vnd.jupyter.widget-view+json": {
       "model_id": "b1a9b450d1e9499e8cf9c8e8d982ea00",
       "version_major": 2,
       "version_minor": 0
      },
      "text/plain": [
       "Communities progress:   0%|          | 0/2 [00:00<?, ?it/s]"
      ]
     },
     "metadata": {},
     "output_type": "display_data"
    },
    {
     "data": {
      "application/vnd.jupyter.widget-view+json": {
       "model_id": "8bb1dc5d901f4e149373f78e3848cb70",
       "version_major": 2,
       "version_minor": 0
      },
      "text/plain": [
       "Communities progress:   0%|          | 0/2 [00:00<?, ?it/s]"
      ]
     },
     "metadata": {},
     "output_type": "display_data"
    },
    {
     "data": {
      "application/vnd.jupyter.widget-view+json": {
       "model_id": "22db7b52c28045b3bbbb4188efec7bd7",
       "version_major": 2,
       "version_minor": 0
      },
      "text/plain": [
       "Communities progress:   0%|          | 0/2 [00:00<?, ?it/s]"
      ]
     },
     "metadata": {},
     "output_type": "display_data"
    },
    {
     "data": {
      "application/vnd.jupyter.widget-view+json": {
       "model_id": "d04e14ddfdcd4e39a29cd630dd0dc5f2",
       "version_major": 2,
       "version_minor": 0
      },
      "text/plain": [
       "Communities progress:   0%|          | 0/2 [00:00<?, ?it/s]"
      ]
     },
     "metadata": {},
     "output_type": "display_data"
    },
    {
     "data": {
      "application/vnd.jupyter.widget-view+json": {
       "model_id": "dc2456a5c30e4985bec2cb9125a7f2db",
       "version_major": 2,
       "version_minor": 0
      },
      "text/plain": [
       "Algorithm Progress:   0%|          | 0/4 [00:00<?, ?it/s]"
      ]
     },
     "metadata": {},
     "output_type": "display_data"
    },
    {
     "data": {
      "application/vnd.jupyter.widget-view+json": {
       "model_id": "ba3e991cb3a04ec9b5c0c70ef1470d20",
       "version_major": 2,
       "version_minor": 0
      },
      "text/plain": [
       "Communities progress:   0%|          | 0/479 [00:00<?, ?it/s]"
      ]
     },
     "metadata": {},
     "output_type": "display_data"
    },
    {
     "data": {
      "application/vnd.jupyter.widget-view+json": {
       "model_id": "d6308cd4e4f34071b59ef94bbfa1ed6c",
       "version_major": 2,
       "version_minor": 0
      },
      "text/plain": [
       "Communities progress:   0%|          | 0/486 [00:00<?, ?it/s]"
      ]
     },
     "metadata": {},
     "output_type": "display_data"
    },
    {
     "data": {
      "application/vnd.jupyter.widget-view+json": {
       "model_id": "b77a2bfffa12402aaab1adfcea1c6e93",
       "version_major": 2,
       "version_minor": 0
      },
      "text/plain": [
       "Communities progress:   0%|          | 0/483 [00:00<?, ?it/s]"
      ]
     },
     "metadata": {},
     "output_type": "display_data"
    },
    {
     "data": {
      "application/vnd.jupyter.widget-view+json": {
       "model_id": "8ff19faf3a284d55a3d491e87bf46815",
       "version_major": 2,
       "version_minor": 0
      },
      "text/plain": [
       "Communities progress:   0%|          | 0/464 [00:00<?, ?it/s]"
      ]
     },
     "metadata": {},
     "output_type": "display_data"
    },
    {
     "data": {
      "application/vnd.jupyter.widget-view+json": {
       "model_id": "c08ee1dfe79b422b872e31146e4fd039",
       "version_major": 2,
       "version_minor": 0
      },
      "text/plain": [
       "Community Detector Progress:   0%|          | 0/4 [00:00<?, ?it/s]"
      ]
     },
     "metadata": {},
     "output_type": "display_data"
    },
    {
     "data": {
      "application/vnd.jupyter.widget-view+json": {
       "model_id": "8b7dfd4f548a4fa495ebf1bec4eeec33",
       "version_major": 2,
       "version_minor": 0
      },
      "text/plain": [
       "Algorithm Progress:   0%|          | 0/4 [00:00<?, ?it/s]"
      ]
     },
     "metadata": {},
     "output_type": "display_data"
    },
    {
     "data": {
      "application/vnd.jupyter.widget-view+json": {
       "model_id": "e434db74ae5e4e8f96a6563455b0b23c",
       "version_major": 2,
       "version_minor": 0
      },
      "text/plain": [
       "Algorithm Progress:   0%|          | 0/4 [00:00<?, ?it/s]"
      ]
     },
     "metadata": {},
     "output_type": "display_data"
    },
    {
     "data": {
      "application/vnd.jupyter.widget-view+json": {
       "model_id": "6b5e3396e7d5439380c0d75e2dc50b5d",
       "version_major": 2,
       "version_minor": 0
      },
      "text/plain": [
       "Communities progress:   0%|          | 0/3 [00:00<?, ?it/s]"
      ]
     },
     "metadata": {},
     "output_type": "display_data"
    },
    {
     "data": {
      "application/vnd.jupyter.widget-view+json": {
       "model_id": "50798e69aab445e894123aeaf1523059",
       "version_major": 2,
       "version_minor": 0
      },
      "text/plain": [
       "Communities progress:   0%|          | 0/3 [00:00<?, ?it/s]"
      ]
     },
     "metadata": {},
     "output_type": "display_data"
    },
    {
     "data": {
      "application/vnd.jupyter.widget-view+json": {
       "model_id": "fcac70e7c67a4d7fbbc7ce3de1cb5d80",
       "version_major": 2,
       "version_minor": 0
      },
      "text/plain": [
       "Communities progress:   0%|          | 0/3 [00:00<?, ?it/s]"
      ]
     },
     "metadata": {},
     "output_type": "display_data"
    },
    {
     "data": {
      "application/vnd.jupyter.widget-view+json": {
       "model_id": "a1486658eeab45b9a06fc29804397648",
       "version_major": 2,
       "version_minor": 0
      },
      "text/plain": [
       "Communities progress:   0%|          | 0/3 [00:00<?, ?it/s]"
      ]
     },
     "metadata": {},
     "output_type": "display_data"
    },
    {
     "data": {
      "application/vnd.jupyter.widget-view+json": {
       "model_id": "9715425a628746b1b7fb81f52fdbcff3",
       "version_major": 2,
       "version_minor": 0
      },
      "text/plain": [
       "Algorithm Progress:   0%|          | 0/4 [00:00<?, ?it/s]"
      ]
     },
     "metadata": {},
     "output_type": "display_data"
    },
    {
     "data": {
      "application/vnd.jupyter.widget-view+json": {
       "model_id": "a1fe0b9656a0461fbb0fb7c1874cd2c0",
       "version_major": 2,
       "version_minor": 0
      },
      "text/plain": [
       "Communities progress:   0%|          | 0/2 [00:00<?, ?it/s]"
      ]
     },
     "metadata": {},
     "output_type": "display_data"
    },
    {
     "data": {
      "application/vnd.jupyter.widget-view+json": {
       "model_id": "d7560c849b1d455fa73c69f3541ea826",
       "version_major": 2,
       "version_minor": 0
      },
      "text/plain": [
       "Communities progress:   0%|          | 0/2 [00:00<?, ?it/s]"
      ]
     },
     "metadata": {},
     "output_type": "display_data"
    },
    {
     "data": {
      "application/vnd.jupyter.widget-view+json": {
       "model_id": "d28db8d7c86f43999ec5fee9be4064cd",
       "version_major": 2,
       "version_minor": 0
      },
      "text/plain": [
       "Communities progress:   0%|          | 0/2 [00:00<?, ?it/s]"
      ]
     },
     "metadata": {},
     "output_type": "display_data"
    },
    {
     "data": {
      "application/vnd.jupyter.widget-view+json": {
       "model_id": "9c3bba51b91f4de08bc462595e29e2ee",
       "version_major": 2,
       "version_minor": 0
      },
      "text/plain": [
       "Communities progress:   0%|          | 0/2 [00:00<?, ?it/s]"
      ]
     },
     "metadata": {},
     "output_type": "display_data"
    },
    {
     "data": {
      "application/vnd.jupyter.widget-view+json": {
       "model_id": "3265301ec63f48718c54f490a33744e2",
       "version_major": 2,
       "version_minor": 0
      },
      "text/plain": [
       "Algorithm Progress:   0%|          | 0/4 [00:00<?, ?it/s]"
      ]
     },
     "metadata": {},
     "output_type": "display_data"
    },
    {
     "data": {
      "application/vnd.jupyter.widget-view+json": {
       "model_id": "0dde6ee8bad3495faafffd3db07d96a0",
       "version_major": 2,
       "version_minor": 0
      },
      "text/plain": [
       "Communities progress:   0%|          | 0/438 [00:00<?, ?it/s]"
      ]
     },
     "metadata": {},
     "output_type": "display_data"
    },
    {
     "data": {
      "application/vnd.jupyter.widget-view+json": {
       "model_id": "6227e7776b554d9085448b7671fb3586",
       "version_major": 2,
       "version_minor": 0
      },
      "text/plain": [
       "Communities progress:   0%|          | 0/430 [00:00<?, ?it/s]"
      ]
     },
     "metadata": {},
     "output_type": "display_data"
    },
    {
     "data": {
      "application/vnd.jupyter.widget-view+json": {
       "model_id": "a7d17448fa95424b845a331ee6281d10",
       "version_major": 2,
       "version_minor": 0
      },
      "text/plain": [
       "Communities progress:   0%|          | 0/437 [00:00<?, ?it/s]"
      ]
     },
     "metadata": {},
     "output_type": "display_data"
    },
    {
     "data": {
      "application/vnd.jupyter.widget-view+json": {
       "model_id": "dacba2ba427449dd9809704af0dc38ef",
       "version_major": 2,
       "version_minor": 0
      },
      "text/plain": [
       "Communities progress:   0%|          | 0/442 [00:00<?, ?it/s]"
      ]
     },
     "metadata": {},
     "output_type": "display_data"
    },
    {
     "data": {
      "application/vnd.jupyter.widget-view+json": {
       "model_id": "88c3098bd7c3485aba50dcc32309ac84",
       "version_major": 2,
       "version_minor": 0
      },
      "text/plain": [
       "Similarity Metric Progress:   0%|          | 0/4 [00:00<?, ?it/s]"
      ]
     },
     "metadata": {},
     "output_type": "display_data"
    },
    {
     "data": {
      "application/vnd.jupyter.widget-view+json": {
       "model_id": "df91fef2e0ad40d9b85402d8499ff24b",
       "version_major": 2,
       "version_minor": 0
      },
      "text/plain": [
       "Community Detector Progress:   0%|          | 0/4 [00:00<?, ?it/s]"
      ]
     },
     "metadata": {},
     "output_type": "display_data"
    },
    {
     "data": {
      "application/vnd.jupyter.widget-view+json": {
       "model_id": "d83f38e2fa254965b4d6ac2d66328095",
       "version_major": 2,
       "version_minor": 0
      },
      "text/plain": [
       "Algorithm Progress:   0%|          | 0/4 [00:00<?, ?it/s]"
      ]
     },
     "metadata": {},
     "output_type": "display_data"
    },
    {
     "data": {
      "application/vnd.jupyter.widget-view+json": {
       "model_id": "d9a73803c80e4213b33da11d9a61abf3",
       "version_major": 2,
       "version_minor": 0
      },
      "text/plain": [
       "Algorithm Progress:   0%|          | 0/4 [00:00<?, ?it/s]"
      ]
     },
     "metadata": {},
     "output_type": "display_data"
    },
    {
     "data": {
      "application/vnd.jupyter.widget-view+json": {
       "model_id": "3b79d1b9b7dc4711993d248d4187394a",
       "version_major": 2,
       "version_minor": 0
      },
      "text/plain": [
       "Communities progress:   0%|          | 0/3 [00:00<?, ?it/s]"
      ]
     },
     "metadata": {},
     "output_type": "display_data"
    },
    {
     "data": {
      "application/vnd.jupyter.widget-view+json": {
       "model_id": "5680290257e64973a594a70f37d3fb4d",
       "version_major": 2,
       "version_minor": 0
      },
      "text/plain": [
       "Communities progress:   0%|          | 0/3 [00:00<?, ?it/s]"
      ]
     },
     "metadata": {},
     "output_type": "display_data"
    },
    {
     "data": {
      "application/vnd.jupyter.widget-view+json": {
       "model_id": "81c04ef23cec4793b5c89b0eb85f65ca",
       "version_major": 2,
       "version_minor": 0
      },
      "text/plain": [
       "Communities progress:   0%|          | 0/3 [00:00<?, ?it/s]"
      ]
     },
     "metadata": {},
     "output_type": "display_data"
    },
    {
     "data": {
      "application/vnd.jupyter.widget-view+json": {
       "model_id": "ae623885bc1c4d70a532be887cf85e84",
       "version_major": 2,
       "version_minor": 0
      },
      "text/plain": [
       "Communities progress:   0%|          | 0/3 [00:00<?, ?it/s]"
      ]
     },
     "metadata": {},
     "output_type": "display_data"
    },
    {
     "data": {
      "application/vnd.jupyter.widget-view+json": {
       "model_id": "5dddd61136b0409582a8a6fe9c540568",
       "version_major": 2,
       "version_minor": 0
      },
      "text/plain": [
       "Algorithm Progress:   0%|          | 0/4 [00:00<?, ?it/s]"
      ]
     },
     "metadata": {},
     "output_type": "display_data"
    },
    {
     "data": {
      "application/vnd.jupyter.widget-view+json": {
       "model_id": "e1613b4ee22349fabc77ab2fa3e2417e",
       "version_major": 2,
       "version_minor": 0
      },
      "text/plain": [
       "Communities progress:   0%|          | 0/2 [00:00<?, ?it/s]"
      ]
     },
     "metadata": {},
     "output_type": "display_data"
    },
    {
     "data": {
      "application/vnd.jupyter.widget-view+json": {
       "model_id": "bbb472364dd04809be097f525c25c655",
       "version_major": 2,
       "version_minor": 0
      },
      "text/plain": [
       "Communities progress:   0%|          | 0/2 [00:00<?, ?it/s]"
      ]
     },
     "metadata": {},
     "output_type": "display_data"
    },
    {
     "data": {
      "application/vnd.jupyter.widget-view+json": {
       "model_id": "50b0c0ed93954019936f0ed38c4e4050",
       "version_major": 2,
       "version_minor": 0
      },
      "text/plain": [
       "Communities progress:   0%|          | 0/2 [00:00<?, ?it/s]"
      ]
     },
     "metadata": {},
     "output_type": "display_data"
    },
    {
     "data": {
      "application/vnd.jupyter.widget-view+json": {
       "model_id": "95e331b1c7354364b10c9af2bf4cbb09",
       "version_major": 2,
       "version_minor": 0
      },
      "text/plain": [
       "Communities progress:   0%|          | 0/2 [00:00<?, ?it/s]"
      ]
     },
     "metadata": {},
     "output_type": "display_data"
    },
    {
     "data": {
      "application/vnd.jupyter.widget-view+json": {
       "model_id": "8d44f698a9a34435b8810133f7e1331e",
       "version_major": 2,
       "version_minor": 0
      },
      "text/plain": [
       "Algorithm Progress:   0%|          | 0/4 [00:00<?, ?it/s]"
      ]
     },
     "metadata": {},
     "output_type": "display_data"
    },
    {
     "data": {
      "application/vnd.jupyter.widget-view+json": {
       "model_id": "f09e2ec8bfd547ff8d993df0fa45a355",
       "version_major": 2,
       "version_minor": 0
      },
      "text/plain": [
       "Communities progress:   0%|          | 0/436 [00:00<?, ?it/s]"
      ]
     },
     "metadata": {},
     "output_type": "display_data"
    },
    {
     "data": {
      "application/vnd.jupyter.widget-view+json": {
       "model_id": "f2bd55a7b71f43948efcfed1c992cc75",
       "version_major": 2,
       "version_minor": 0
      },
      "text/plain": [
       "Communities progress:   0%|          | 0/435 [00:00<?, ?it/s]"
      ]
     },
     "metadata": {},
     "output_type": "display_data"
    },
    {
     "data": {
      "application/vnd.jupyter.widget-view+json": {
       "model_id": "e78d784a1948438cbf90c1da3d07588a",
       "version_major": 2,
       "version_minor": 0
      },
      "text/plain": [
       "Communities progress:   0%|          | 0/449 [00:00<?, ?it/s]"
      ]
     },
     "metadata": {},
     "output_type": "display_data"
    },
    {
     "data": {
      "application/vnd.jupyter.widget-view+json": {
       "model_id": "17efae44475c4ff584105fe99c9cdbb0",
       "version_major": 2,
       "version_minor": 0
      },
      "text/plain": [
       "Communities progress:   0%|          | 0/451 [00:00<?, ?it/s]"
      ]
     },
     "metadata": {},
     "output_type": "display_data"
    },
    {
     "data": {
      "application/vnd.jupyter.widget-view+json": {
       "model_id": "f0aaa609efe449068aafd3bbd7e83814",
       "version_major": 2,
       "version_minor": 0
      },
      "text/plain": [
       "Community Detector Progress:   0%|          | 0/4 [00:00<?, ?it/s]"
      ]
     },
     "metadata": {},
     "output_type": "display_data"
    },
    {
     "data": {
      "application/vnd.jupyter.widget-view+json": {
       "model_id": "2bf1b9b13c3540988ff0287b2d3b722e",
       "version_major": 2,
       "version_minor": 0
      },
      "text/plain": [
       "Algorithm Progress:   0%|          | 0/4 [00:00<?, ?it/s]"
      ]
     },
     "metadata": {},
     "output_type": "display_data"
    },
    {
     "data": {
      "application/vnd.jupyter.widget-view+json": {
       "model_id": "aa6889fd4411473e8782e50fa1d560a4",
       "version_major": 2,
       "version_minor": 0
      },
      "text/plain": [
       "Algorithm Progress:   0%|          | 0/4 [00:00<?, ?it/s]"
      ]
     },
     "metadata": {},
     "output_type": "display_data"
    },
    {
     "data": {
      "application/vnd.jupyter.widget-view+json": {
       "model_id": "b6d8ad20780b4d02938c98b3cbe1398a",
       "version_major": 2,
       "version_minor": 0
      },
      "text/plain": [
       "Communities progress:   0%|          | 0/3 [00:00<?, ?it/s]"
      ]
     },
     "metadata": {},
     "output_type": "display_data"
    },
    {
     "data": {
      "application/vnd.jupyter.widget-view+json": {
       "model_id": "c3ae3ce8b42642d387713ebe12bb0089",
       "version_major": 2,
       "version_minor": 0
      },
      "text/plain": [
       "Communities progress:   0%|          | 0/3 [00:00<?, ?it/s]"
      ]
     },
     "metadata": {},
     "output_type": "display_data"
    },
    {
     "data": {
      "application/vnd.jupyter.widget-view+json": {
       "model_id": "6d497d52044344048a6456f1fc734633",
       "version_major": 2,
       "version_minor": 0
      },
      "text/plain": [
       "Communities progress:   0%|          | 0/3 [00:00<?, ?it/s]"
      ]
     },
     "metadata": {},
     "output_type": "display_data"
    },
    {
     "data": {
      "application/vnd.jupyter.widget-view+json": {
       "model_id": "89d582c2a4f244559abe2e2876114901",
       "version_major": 2,
       "version_minor": 0
      },
      "text/plain": [
       "Communities progress:   0%|          | 0/3 [00:00<?, ?it/s]"
      ]
     },
     "metadata": {},
     "output_type": "display_data"
    },
    {
     "data": {
      "application/vnd.jupyter.widget-view+json": {
       "model_id": "3dfdb96a41f040eeb9323d4c63b17439",
       "version_major": 2,
       "version_minor": 0
      },
      "text/plain": [
       "Algorithm Progress:   0%|          | 0/4 [00:00<?, ?it/s]"
      ]
     },
     "metadata": {},
     "output_type": "display_data"
    },
    {
     "data": {
      "application/vnd.jupyter.widget-view+json": {
       "model_id": "f643e279bdda4f1fb9451e6c5a797df0",
       "version_major": 2,
       "version_minor": 0
      },
      "text/plain": [
       "Communities progress:   0%|          | 0/2 [00:00<?, ?it/s]"
      ]
     },
     "metadata": {},
     "output_type": "display_data"
    },
    {
     "data": {
      "application/vnd.jupyter.widget-view+json": {
       "model_id": "fb4e751203be4355a52ad5a05be2282c",
       "version_major": 2,
       "version_minor": 0
      },
      "text/plain": [
       "Communities progress:   0%|          | 0/2 [00:00<?, ?it/s]"
      ]
     },
     "metadata": {},
     "output_type": "display_data"
    },
    {
     "data": {
      "application/vnd.jupyter.widget-view+json": {
       "model_id": "85a0842faec1460b8514c0a86791cb97",
       "version_major": 2,
       "version_minor": 0
      },
      "text/plain": [
       "Communities progress:   0%|          | 0/2 [00:00<?, ?it/s]"
      ]
     },
     "metadata": {},
     "output_type": "display_data"
    },
    {
     "data": {
      "application/vnd.jupyter.widget-view+json": {
       "model_id": "85317045b18b4007b1532c06e155f810",
       "version_major": 2,
       "version_minor": 0
      },
      "text/plain": [
       "Communities progress:   0%|          | 0/2 [00:00<?, ?it/s]"
      ]
     },
     "metadata": {},
     "output_type": "display_data"
    },
    {
     "data": {
      "application/vnd.jupyter.widget-view+json": {
       "model_id": "e088bff7b7434576b6c790b4742bf993",
       "version_major": 2,
       "version_minor": 0
      },
      "text/plain": [
       "Algorithm Progress:   0%|          | 0/4 [00:00<?, ?it/s]"
      ]
     },
     "metadata": {},
     "output_type": "display_data"
    },
    {
     "data": {
      "application/vnd.jupyter.widget-view+json": {
       "model_id": "9ab4b88a20214a9b85722d4f74b37a23",
       "version_major": 2,
       "version_minor": 0
      },
      "text/plain": [
       "Communities progress:   0%|          | 0/79 [00:00<?, ?it/s]"
      ]
     },
     "metadata": {},
     "output_type": "display_data"
    },
    {
     "data": {
      "application/vnd.jupyter.widget-view+json": {
       "model_id": "93a8e96629da437292cc3fe3959ca34e",
       "version_major": 2,
       "version_minor": 0
      },
      "text/plain": [
       "Communities progress:   0%|          | 0/65 [00:00<?, ?it/s]"
      ]
     },
     "metadata": {},
     "output_type": "display_data"
    },
    {
     "data": {
      "application/vnd.jupyter.widget-view+json": {
       "model_id": "2fe08aaa40b448338ba4bfdb84f18b82",
       "version_major": 2,
       "version_minor": 0
      },
      "text/plain": [
       "Communities progress:   0%|          | 0/81 [00:00<?, ?it/s]"
      ]
     },
     "metadata": {},
     "output_type": "display_data"
    },
    {
     "data": {
      "application/vnd.jupyter.widget-view+json": {
       "model_id": "a31955ab56f24c998b15dcc3f088bcd4",
       "version_major": 2,
       "version_minor": 0
      },
      "text/plain": [
       "Communities progress:   0%|          | 0/70 [00:00<?, ?it/s]"
      ]
     },
     "metadata": {},
     "output_type": "display_data"
    },
    {
     "data": {
      "application/vnd.jupyter.widget-view+json": {
       "model_id": "2c5e17515df544378854466a93950fb8",
       "version_major": 2,
       "version_minor": 0
      },
      "text/plain": [
       "Community Detector Progress:   0%|          | 0/4 [00:00<?, ?it/s]"
      ]
     },
     "metadata": {},
     "output_type": "display_data"
    },
    {
     "data": {
      "application/vnd.jupyter.widget-view+json": {
       "model_id": "76558b1714564f47803419151490cf99",
       "version_major": 2,
       "version_minor": 0
      },
      "text/plain": [
       "Algorithm Progress:   0%|          | 0/4 [00:00<?, ?it/s]"
      ]
     },
     "metadata": {},
     "output_type": "display_data"
    },
    {
     "data": {
      "application/vnd.jupyter.widget-view+json": {
       "model_id": "6ee5e743b3f643edaa8f6d779839ed37",
       "version_major": 2,
       "version_minor": 0
      },
      "text/plain": [
       "Algorithm Progress:   0%|          | 0/4 [00:00<?, ?it/s]"
      ]
     },
     "metadata": {},
     "output_type": "display_data"
    },
    {
     "data": {
      "application/vnd.jupyter.widget-view+json": {
       "model_id": "a7803fcaeba347438e211178a8417685",
       "version_major": 2,
       "version_minor": 0
      },
      "text/plain": [
       "Communities progress:   0%|          | 0/3 [00:00<?, ?it/s]"
      ]
     },
     "metadata": {},
     "output_type": "display_data"
    },
    {
     "data": {
      "application/vnd.jupyter.widget-view+json": {
       "model_id": "dee3c445b24a4a8a839f5b3b36f23fbf",
       "version_major": 2,
       "version_minor": 0
      },
      "text/plain": [
       "Communities progress:   0%|          | 0/3 [00:00<?, ?it/s]"
      ]
     },
     "metadata": {},
     "output_type": "display_data"
    },
    {
     "data": {
      "application/vnd.jupyter.widget-view+json": {
       "model_id": "793eb9d4cbb84504927f35226e3ff95a",
       "version_major": 2,
       "version_minor": 0
      },
      "text/plain": [
       "Communities progress:   0%|          | 0/3 [00:00<?, ?it/s]"
      ]
     },
     "metadata": {},
     "output_type": "display_data"
    },
    {
     "data": {
      "application/vnd.jupyter.widget-view+json": {
       "model_id": "5d490a56f31842058f5eacd6a1286d3b",
       "version_major": 2,
       "version_minor": 0
      },
      "text/plain": [
       "Communities progress:   0%|          | 0/3 [00:00<?, ?it/s]"
      ]
     },
     "metadata": {},
     "output_type": "display_data"
    },
    {
     "data": {
      "application/vnd.jupyter.widget-view+json": {
       "model_id": "a6c6962ad31f45e5bfe7bbcac365579d",
       "version_major": 2,
       "version_minor": 0
      },
      "text/plain": [
       "Algorithm Progress:   0%|          | 0/4 [00:00<?, ?it/s]"
      ]
     },
     "metadata": {},
     "output_type": "display_data"
    },
    {
     "data": {
      "application/vnd.jupyter.widget-view+json": {
       "model_id": "1e803193678f42ebbcc77528275bc9cb",
       "version_major": 2,
       "version_minor": 0
      },
      "text/plain": [
       "Communities progress:   0%|          | 0/2 [00:00<?, ?it/s]"
      ]
     },
     "metadata": {},
     "output_type": "display_data"
    },
    {
     "data": {
      "application/vnd.jupyter.widget-view+json": {
       "model_id": "2ac22836b55b4a5ab61cd7d9e38fdbbf",
       "version_major": 2,
       "version_minor": 0
      },
      "text/plain": [
       "Communities progress:   0%|          | 0/2 [00:00<?, ?it/s]"
      ]
     },
     "metadata": {},
     "output_type": "display_data"
    },
    {
     "data": {
      "application/vnd.jupyter.widget-view+json": {
       "model_id": "66753f412eec4847a385ed9fc2813b10",
       "version_major": 2,
       "version_minor": 0
      },
      "text/plain": [
       "Communities progress:   0%|          | 0/2 [00:00<?, ?it/s]"
      ]
     },
     "metadata": {},
     "output_type": "display_data"
    },
    {
     "data": {
      "application/vnd.jupyter.widget-view+json": {
       "model_id": "eca43a0cfad84d21a6b3a1289518e011",
       "version_major": 2,
       "version_minor": 0
      },
      "text/plain": [
       "Communities progress:   0%|          | 0/2 [00:00<?, ?it/s]"
      ]
     },
     "metadata": {},
     "output_type": "display_data"
    },
    {
     "data": {
      "application/vnd.jupyter.widget-view+json": {
       "model_id": "ddcb8157b15d4bfba3ed200aab373ff1",
       "version_major": 2,
       "version_minor": 0
      },
      "text/plain": [
       "Algorithm Progress:   0%|          | 0/4 [00:00<?, ?it/s]"
      ]
     },
     "metadata": {},
     "output_type": "display_data"
    },
    {
     "data": {
      "application/vnd.jupyter.widget-view+json": {
       "model_id": "1ade1d6d06304d03970e912581c9f449",
       "version_major": 2,
       "version_minor": 0
      },
      "text/plain": [
       "Communities progress:   0%|          | 0/482 [00:00<?, ?it/s]"
      ]
     },
     "metadata": {},
     "output_type": "display_data"
    },
    {
     "data": {
      "application/vnd.jupyter.widget-view+json": {
       "model_id": "cc4c9d9a256946b4a31d967aeec4dab0",
       "version_major": 2,
       "version_minor": 0
      },
      "text/plain": [
       "Communities progress:   0%|          | 0/479 [00:00<?, ?it/s]"
      ]
     },
     "metadata": {},
     "output_type": "display_data"
    },
    {
     "data": {
      "application/vnd.jupyter.widget-view+json": {
       "model_id": "5fe9e51e88924849bd24bb528ac640d8",
       "version_major": 2,
       "version_minor": 0
      },
      "text/plain": [
       "Communities progress:   0%|          | 0/491 [00:00<?, ?it/s]"
      ]
     },
     "metadata": {},
     "output_type": "display_data"
    },
    {
     "data": {
      "application/vnd.jupyter.widget-view+json": {
       "model_id": "af7848990b7a434b9a534904e68ebbf8",
       "version_major": 2,
       "version_minor": 0
      },
      "text/plain": [
       "Communities progress:   0%|          | 0/468 [00:00<?, ?it/s]"
      ]
     },
     "metadata": {},
     "output_type": "display_data"
    },
    {
     "data": {
      "application/vnd.jupyter.widget-view+json": {
       "model_id": "c1f8d210eb854663b8329f880a916fa7",
       "version_major": 2,
       "version_minor": 0
      },
      "text/plain": [
       "Community Detector Progress:   0%|          | 0/4 [00:00<?, ?it/s]"
      ]
     },
     "metadata": {},
     "output_type": "display_data"
    },
    {
     "data": {
      "application/vnd.jupyter.widget-view+json": {
       "model_id": "d13df03a9da3425b9edd9850ed385275",
       "version_major": 2,
       "version_minor": 0
      },
      "text/plain": [
       "Algorithm Progress:   0%|          | 0/4 [00:00<?, ?it/s]"
      ]
     },
     "metadata": {},
     "output_type": "display_data"
    },
    {
     "data": {
      "application/vnd.jupyter.widget-view+json": {
       "model_id": "90e6f44f58e4431b9d00f904d7e94357",
       "version_major": 2,
       "version_minor": 0
      },
      "text/plain": [
       "Algorithm Progress:   0%|          | 0/4 [00:00<?, ?it/s]"
      ]
     },
     "metadata": {},
     "output_type": "display_data"
    },
    {
     "data": {
      "application/vnd.jupyter.widget-view+json": {
       "model_id": "75044a45adb24faf972c8f0306b959b4",
       "version_major": 2,
       "version_minor": 0
      },
      "text/plain": [
       "Communities progress:   0%|          | 0/3 [00:00<?, ?it/s]"
      ]
     },
     "metadata": {},
     "output_type": "display_data"
    },
    {
     "data": {
      "application/vnd.jupyter.widget-view+json": {
       "model_id": "4c363e684b004253ae08795317870620",
       "version_major": 2,
       "version_minor": 0
      },
      "text/plain": [
       "Communities progress:   0%|          | 0/3 [00:00<?, ?it/s]"
      ]
     },
     "metadata": {},
     "output_type": "display_data"
    },
    {
     "data": {
      "application/vnd.jupyter.widget-view+json": {
       "model_id": "d5edb186241e4827ad523a2204f78af3",
       "version_major": 2,
       "version_minor": 0
      },
      "text/plain": [
       "Communities progress:   0%|          | 0/3 [00:00<?, ?it/s]"
      ]
     },
     "metadata": {},
     "output_type": "display_data"
    },
    {
     "data": {
      "application/vnd.jupyter.widget-view+json": {
       "model_id": "437dc8c0289b436b9718eece68da10f6",
       "version_major": 2,
       "version_minor": 0
      },
      "text/plain": [
       "Communities progress:   0%|          | 0/3 [00:00<?, ?it/s]"
      ]
     },
     "metadata": {},
     "output_type": "display_data"
    },
    {
     "data": {
      "application/vnd.jupyter.widget-view+json": {
       "model_id": "b8923f84048e444eabcbf84956d5086e",
       "version_major": 2,
       "version_minor": 0
      },
      "text/plain": [
       "Algorithm Progress:   0%|          | 0/4 [00:00<?, ?it/s]"
      ]
     },
     "metadata": {},
     "output_type": "display_data"
    },
    {
     "data": {
      "application/vnd.jupyter.widget-view+json": {
       "model_id": "b3e32a3f70994210be0d71a3ddeaf0eb",
       "version_major": 2,
       "version_minor": 0
      },
      "text/plain": [
       "Communities progress:   0%|          | 0/2 [00:00<?, ?it/s]"
      ]
     },
     "metadata": {},
     "output_type": "display_data"
    },
    {
     "data": {
      "application/vnd.jupyter.widget-view+json": {
       "model_id": "6606811d40e547a3b799e88286a5452c",
       "version_major": 2,
       "version_minor": 0
      },
      "text/plain": [
       "Communities progress:   0%|          | 0/2 [00:00<?, ?it/s]"
      ]
     },
     "metadata": {},
     "output_type": "display_data"
    },
    {
     "data": {
      "application/vnd.jupyter.widget-view+json": {
       "model_id": "f545685d11ae465ab804d221f877b219",
       "version_major": 2,
       "version_minor": 0
      },
      "text/plain": [
       "Communities progress:   0%|          | 0/2 [00:00<?, ?it/s]"
      ]
     },
     "metadata": {},
     "output_type": "display_data"
    },
    {
     "data": {
      "application/vnd.jupyter.widget-view+json": {
       "model_id": "bdf50d745f8f47eab34ca6dab234b57a",
       "version_major": 2,
       "version_minor": 0
      },
      "text/plain": [
       "Communities progress:   0%|          | 0/2 [00:00<?, ?it/s]"
      ]
     },
     "metadata": {},
     "output_type": "display_data"
    },
    {
     "data": {
      "application/vnd.jupyter.widget-view+json": {
       "model_id": "7829a723a3014c128e261a5670b942ff",
       "version_major": 2,
       "version_minor": 0
      },
      "text/plain": [
       "Algorithm Progress:   0%|          | 0/4 [00:00<?, ?it/s]"
      ]
     },
     "metadata": {},
     "output_type": "display_data"
    },
    {
     "data": {
      "application/vnd.jupyter.widget-view+json": {
       "model_id": "11aff0bd498d44b7a886e8a25f91b29d",
       "version_major": 2,
       "version_minor": 0
      },
      "text/plain": [
       "Communities progress:   0%|          | 0/436 [00:00<?, ?it/s]"
      ]
     },
     "metadata": {},
     "output_type": "display_data"
    },
    {
     "data": {
      "application/vnd.jupyter.widget-view+json": {
       "model_id": "b83e6734c4e447a4b46b63c9b61191a7",
       "version_major": 2,
       "version_minor": 0
      },
      "text/plain": [
       "Communities progress:   0%|          | 0/440 [00:00<?, ?it/s]"
      ]
     },
     "metadata": {},
     "output_type": "display_data"
    },
    {
     "data": {
      "application/vnd.jupyter.widget-view+json": {
       "model_id": "d84b37b5c5fd4aa0877734cebc118624",
       "version_major": 2,
       "version_minor": 0
      },
      "text/plain": [
       "Communities progress:   0%|          | 0/467 [00:00<?, ?it/s]"
      ]
     },
     "metadata": {},
     "output_type": "display_data"
    },
    {
     "data": {
      "application/vnd.jupyter.widget-view+json": {
       "model_id": "5508f7322434492da11613654ce4d887",
       "version_major": 2,
       "version_minor": 0
      },
      "text/plain": [
       "Communities progress:   0%|          | 0/440 [00:00<?, ?it/s]"
      ]
     },
     "metadata": {},
     "output_type": "display_data"
    },
    {
     "data": {
      "application/vnd.jupyter.widget-view+json": {
       "model_id": "1bac7ad8b3ff47c98b8a0e8fdffe1ef8",
       "version_major": 2,
       "version_minor": 0
      },
      "text/plain": [
       "Similarity Metric Progress:   0%|          | 0/4 [00:00<?, ?it/s]"
      ]
     },
     "metadata": {},
     "output_type": "display_data"
    },
    {
     "data": {
      "application/vnd.jupyter.widget-view+json": {
       "model_id": "ea9a7d3bc78f4dd39449bbcfb760c1ea",
       "version_major": 2,
       "version_minor": 0
      },
      "text/plain": [
       "Community Detector Progress:   0%|          | 0/4 [00:00<?, ?it/s]"
      ]
     },
     "metadata": {},
     "output_type": "display_data"
    },
    {
     "data": {
      "application/vnd.jupyter.widget-view+json": {
       "model_id": "9de5f79457764571b30a988662773db9",
       "version_major": 2,
       "version_minor": 0
      },
      "text/plain": [
       "Algorithm Progress:   0%|          | 0/4 [00:00<?, ?it/s]"
      ]
     },
     "metadata": {},
     "output_type": "display_data"
    },
    {
     "data": {
      "application/vnd.jupyter.widget-view+json": {
       "model_id": "40e219dd72b14c9b997377d646b43e56",
       "version_major": 2,
       "version_minor": 0
      },
      "text/plain": [
       "Algorithm Progress:   0%|          | 0/4 [00:00<?, ?it/s]"
      ]
     },
     "metadata": {},
     "output_type": "display_data"
    },
    {
     "data": {
      "application/vnd.jupyter.widget-view+json": {
       "model_id": "76b5ce27adf64a9eaf33cff37bd6e5f6",
       "version_major": 2,
       "version_minor": 0
      },
      "text/plain": [
       "Communities progress:   0%|          | 0/3 [00:00<?, ?it/s]"
      ]
     },
     "metadata": {},
     "output_type": "display_data"
    },
    {
     "data": {
      "application/vnd.jupyter.widget-view+json": {
       "model_id": "aa2f38a0b5f94401a51fa0d63afa0135",
       "version_major": 2,
       "version_minor": 0
      },
      "text/plain": [
       "Communities progress:   0%|          | 0/3 [00:00<?, ?it/s]"
      ]
     },
     "metadata": {},
     "output_type": "display_data"
    },
    {
     "data": {
      "application/vnd.jupyter.widget-view+json": {
       "model_id": "0e63a5e8046f4ff2a3ac59a4d713a4d3",
       "version_major": 2,
       "version_minor": 0
      },
      "text/plain": [
       "Communities progress:   0%|          | 0/3 [00:00<?, ?it/s]"
      ]
     },
     "metadata": {},
     "output_type": "display_data"
    },
    {
     "data": {
      "application/vnd.jupyter.widget-view+json": {
       "model_id": "02b2750ae82340b0b133423109a5129a",
       "version_major": 2,
       "version_minor": 0
      },
      "text/plain": [
       "Communities progress:   0%|          | 0/3 [00:00<?, ?it/s]"
      ]
     },
     "metadata": {},
     "output_type": "display_data"
    },
    {
     "data": {
      "application/vnd.jupyter.widget-view+json": {
       "model_id": "07942386a48a4081aa3b01ef0df30d11",
       "version_major": 2,
       "version_minor": 0
      },
      "text/plain": [
       "Algorithm Progress:   0%|          | 0/4 [00:00<?, ?it/s]"
      ]
     },
     "metadata": {},
     "output_type": "display_data"
    },
    {
     "data": {
      "application/vnd.jupyter.widget-view+json": {
       "model_id": "b7c4e8696a1948768a989b1742f282fb",
       "version_major": 2,
       "version_minor": 0
      },
      "text/plain": [
       "Communities progress:   0%|          | 0/2 [00:00<?, ?it/s]"
      ]
     },
     "metadata": {},
     "output_type": "display_data"
    },
    {
     "data": {
      "application/vnd.jupyter.widget-view+json": {
       "model_id": "5f0caa50a96b4f1bb978a77ec285d9a7",
       "version_major": 2,
       "version_minor": 0
      },
      "text/plain": [
       "Communities progress:   0%|          | 0/2 [00:00<?, ?it/s]"
      ]
     },
     "metadata": {},
     "output_type": "display_data"
    },
    {
     "data": {
      "application/vnd.jupyter.widget-view+json": {
       "model_id": "d4f5d7321c3a4d2088b185a060fb547d",
       "version_major": 2,
       "version_minor": 0
      },
      "text/plain": [
       "Communities progress:   0%|          | 0/2 [00:00<?, ?it/s]"
      ]
     },
     "metadata": {},
     "output_type": "display_data"
    },
    {
     "data": {
      "application/vnd.jupyter.widget-view+json": {
       "model_id": "7321eaabef6142fe9af22691827baf4b",
       "version_major": 2,
       "version_minor": 0
      },
      "text/plain": [
       "Communities progress:   0%|          | 0/2 [00:00<?, ?it/s]"
      ]
     },
     "metadata": {},
     "output_type": "display_data"
    },
    {
     "data": {
      "application/vnd.jupyter.widget-view+json": {
       "model_id": "0889745ce3c3474a9c5de3e351c0be70",
       "version_major": 2,
       "version_minor": 0
      },
      "text/plain": [
       "Algorithm Progress:   0%|          | 0/4 [00:00<?, ?it/s]"
      ]
     },
     "metadata": {},
     "output_type": "display_data"
    },
    {
     "data": {
      "application/vnd.jupyter.widget-view+json": {
       "model_id": "3440a72354404f6f9d0da295a8f6117a",
       "version_major": 2,
       "version_minor": 0
      },
      "text/plain": [
       "Communities progress:   0%|          | 0/440 [00:00<?, ?it/s]"
      ]
     },
     "metadata": {},
     "output_type": "display_data"
    },
    {
     "data": {
      "application/vnd.jupyter.widget-view+json": {
       "model_id": "23babfb2dd2542489bff3c3cfe85d295",
       "version_major": 2,
       "version_minor": 0
      },
      "text/plain": [
       "Communities progress:   0%|          | 0/450 [00:00<?, ?it/s]"
      ]
     },
     "metadata": {},
     "output_type": "display_data"
    },
    {
     "data": {
      "application/vnd.jupyter.widget-view+json": {
       "model_id": "6636bf0c0b7549b28137f8e7ed06f174",
       "version_major": 2,
       "version_minor": 0
      },
      "text/plain": [
       "Communities progress:   0%|          | 0/444 [00:00<?, ?it/s]"
      ]
     },
     "metadata": {},
     "output_type": "display_data"
    },
    {
     "data": {
      "application/vnd.jupyter.widget-view+json": {
       "model_id": "0c3dc62d7fa343e6bb164fd27257651a",
       "version_major": 2,
       "version_minor": 0
      },
      "text/plain": [
       "Communities progress:   0%|          | 0/447 [00:00<?, ?it/s]"
      ]
     },
     "metadata": {},
     "output_type": "display_data"
    },
    {
     "data": {
      "application/vnd.jupyter.widget-view+json": {
       "model_id": "216b35d13ece4e9796e9a4987706bc00",
       "version_major": 2,
       "version_minor": 0
      },
      "text/plain": [
       "Community Detector Progress:   0%|          | 0/4 [00:00<?, ?it/s]"
      ]
     },
     "metadata": {},
     "output_type": "display_data"
    },
    {
     "data": {
      "application/vnd.jupyter.widget-view+json": {
       "model_id": "9c249ee71f354f9b9995e699f2861696",
       "version_major": 2,
       "version_minor": 0
      },
      "text/plain": [
       "Algorithm Progress:   0%|          | 0/4 [00:00<?, ?it/s]"
      ]
     },
     "metadata": {},
     "output_type": "display_data"
    },
    {
     "data": {
      "application/vnd.jupyter.widget-view+json": {
       "model_id": "eae6a9284bb04d15abeba8234e56ba73",
       "version_major": 2,
       "version_minor": 0
      },
      "text/plain": [
       "Algorithm Progress:   0%|          | 0/4 [00:00<?, ?it/s]"
      ]
     },
     "metadata": {},
     "output_type": "display_data"
    },
    {
     "data": {
      "application/vnd.jupyter.widget-view+json": {
       "model_id": "d2057e73987f4b5fb876594b235dda6f",
       "version_major": 2,
       "version_minor": 0
      },
      "text/plain": [
       "Communities progress:   0%|          | 0/3 [00:00<?, ?it/s]"
      ]
     },
     "metadata": {},
     "output_type": "display_data"
    },
    {
     "data": {
      "application/vnd.jupyter.widget-view+json": {
       "model_id": "4967015df8504e77bacf82e7614b97ad",
       "version_major": 2,
       "version_minor": 0
      },
      "text/plain": [
       "Communities progress:   0%|          | 0/4 [00:00<?, ?it/s]"
      ]
     },
     "metadata": {},
     "output_type": "display_data"
    },
    {
     "data": {
      "application/vnd.jupyter.widget-view+json": {
       "model_id": "4a7d6ffe18e04274bef6537480f39b50",
       "version_major": 2,
       "version_minor": 0
      },
      "text/plain": [
       "Communities progress:   0%|          | 0/3 [00:00<?, ?it/s]"
      ]
     },
     "metadata": {},
     "output_type": "display_data"
    },
    {
     "data": {
      "application/vnd.jupyter.widget-view+json": {
       "model_id": "011b99cb461844c5a279cfbcfe95812b",
       "version_major": 2,
       "version_minor": 0
      },
      "text/plain": [
       "Communities progress:   0%|          | 0/4 [00:00<?, ?it/s]"
      ]
     },
     "metadata": {},
     "output_type": "display_data"
    },
    {
     "data": {
      "application/vnd.jupyter.widget-view+json": {
       "model_id": "092c44853ff74ea0a2cb0e1bf9024357",
       "version_major": 2,
       "version_minor": 0
      },
      "text/plain": [
       "Algorithm Progress:   0%|          | 0/4 [00:00<?, ?it/s]"
      ]
     },
     "metadata": {},
     "output_type": "display_data"
    },
    {
     "data": {
      "application/vnd.jupyter.widget-view+json": {
       "model_id": "7fa7b4f6304547d9a6e441e22c49d869",
       "version_major": 2,
       "version_minor": 0
      },
      "text/plain": [
       "Communities progress:   0%|          | 0/2 [00:00<?, ?it/s]"
      ]
     },
     "metadata": {},
     "output_type": "display_data"
    },
    {
     "data": {
      "application/vnd.jupyter.widget-view+json": {
       "model_id": "eac394b4c4d94ff6b1ec96aac89aab14",
       "version_major": 2,
       "version_minor": 0
      },
      "text/plain": [
       "Communities progress:   0%|          | 0/2 [00:00<?, ?it/s]"
      ]
     },
     "metadata": {},
     "output_type": "display_data"
    },
    {
     "data": {
      "application/vnd.jupyter.widget-view+json": {
       "model_id": "0fca506472d7432c992bcb7558e832a9",
       "version_major": 2,
       "version_minor": 0
      },
      "text/plain": [
       "Communities progress:   0%|          | 0/2 [00:00<?, ?it/s]"
      ]
     },
     "metadata": {},
     "output_type": "display_data"
    },
    {
     "data": {
      "application/vnd.jupyter.widget-view+json": {
       "model_id": "644b50fec4d1463697b16884724568b3",
       "version_major": 2,
       "version_minor": 0
      },
      "text/plain": [
       "Communities progress:   0%|          | 0/2 [00:00<?, ?it/s]"
      ]
     },
     "metadata": {},
     "output_type": "display_data"
    },
    {
     "data": {
      "application/vnd.jupyter.widget-view+json": {
       "model_id": "56095d39376848b8b67fafb1679d4dc5",
       "version_major": 2,
       "version_minor": 0
      },
      "text/plain": [
       "Algorithm Progress:   0%|          | 0/4 [00:00<?, ?it/s]"
      ]
     },
     "metadata": {},
     "output_type": "display_data"
    },
    {
     "data": {
      "application/vnd.jupyter.widget-view+json": {
       "model_id": "ec779a9bd5e342b099f297b61e210b99",
       "version_major": 2,
       "version_minor": 0
      },
      "text/plain": [
       "Communities progress:   0%|          | 0/79 [00:00<?, ?it/s]"
      ]
     },
     "metadata": {},
     "output_type": "display_data"
    },
    {
     "data": {
      "application/vnd.jupyter.widget-view+json": {
       "model_id": "250bca6289a74c59a0f860fcc3a3e0e7",
       "version_major": 2,
       "version_minor": 0
      },
      "text/plain": [
       "Communities progress:   0%|          | 0/68 [00:00<?, ?it/s]"
      ]
     },
     "metadata": {},
     "output_type": "display_data"
    },
    {
     "data": {
      "application/vnd.jupyter.widget-view+json": {
       "model_id": "48afb190dbcc40e29f0796d191e62c78",
       "version_major": 2,
       "version_minor": 0
      },
      "text/plain": [
       "Communities progress:   0%|          | 0/84 [00:00<?, ?it/s]"
      ]
     },
     "metadata": {},
     "output_type": "display_data"
    },
    {
     "data": {
      "application/vnd.jupyter.widget-view+json": {
       "model_id": "16ca07b69c5941dd837cac4f57c15e65",
       "version_major": 2,
       "version_minor": 0
      },
      "text/plain": [
       "Communities progress:   0%|          | 0/75 [00:00<?, ?it/s]"
      ]
     },
     "metadata": {},
     "output_type": "display_data"
    },
    {
     "data": {
      "application/vnd.jupyter.widget-view+json": {
       "model_id": "d4d560b49c304a20896354c1b8c7b973",
       "version_major": 2,
       "version_minor": 0
      },
      "text/plain": [
       "Community Detector Progress:   0%|          | 0/4 [00:00<?, ?it/s]"
      ]
     },
     "metadata": {},
     "output_type": "display_data"
    },
    {
     "data": {
      "application/vnd.jupyter.widget-view+json": {
       "model_id": "99021803a6d24d80a9ac554c3967fc7b",
       "version_major": 2,
       "version_minor": 0
      },
      "text/plain": [
       "Algorithm Progress:   0%|          | 0/4 [00:00<?, ?it/s]"
      ]
     },
     "metadata": {},
     "output_type": "display_data"
    },
    {
     "data": {
      "application/vnd.jupyter.widget-view+json": {
       "model_id": "3a4f6c7a3b8943b39a927524577567c8",
       "version_major": 2,
       "version_minor": 0
      },
      "text/plain": [
       "Algorithm Progress:   0%|          | 0/4 [00:00<?, ?it/s]"
      ]
     },
     "metadata": {},
     "output_type": "display_data"
    },
    {
     "data": {
      "application/vnd.jupyter.widget-view+json": {
       "model_id": "1a64d18bbe1347199730c2956e8f9a8c",
       "version_major": 2,
       "version_minor": 0
      },
      "text/plain": [
       "Communities progress:   0%|          | 0/3 [00:00<?, ?it/s]"
      ]
     },
     "metadata": {},
     "output_type": "display_data"
    },
    {
     "data": {
      "application/vnd.jupyter.widget-view+json": {
       "model_id": "fc2bc454434f418497866d584a0cec92",
       "version_major": 2,
       "version_minor": 0
      },
      "text/plain": [
       "Communities progress:   0%|          | 0/3 [00:00<?, ?it/s]"
      ]
     },
     "metadata": {},
     "output_type": "display_data"
    },
    {
     "data": {
      "application/vnd.jupyter.widget-view+json": {
       "model_id": "69f3e7fdcc5340be9553d0f1ec65456f",
       "version_major": 2,
       "version_minor": 0
      },
      "text/plain": [
       "Communities progress:   0%|          | 0/3 [00:00<?, ?it/s]"
      ]
     },
     "metadata": {},
     "output_type": "display_data"
    },
    {
     "data": {
      "application/vnd.jupyter.widget-view+json": {
       "model_id": "237242206c9f47829267a40f69ada12f",
       "version_major": 2,
       "version_minor": 0
      },
      "text/plain": [
       "Communities progress:   0%|          | 0/3 [00:00<?, ?it/s]"
      ]
     },
     "metadata": {},
     "output_type": "display_data"
    },
    {
     "data": {
      "application/vnd.jupyter.widget-view+json": {
       "model_id": "f68cf53a98664c3386b132220362cc91",
       "version_major": 2,
       "version_minor": 0
      },
      "text/plain": [
       "Algorithm Progress:   0%|          | 0/4 [00:00<?, ?it/s]"
      ]
     },
     "metadata": {},
     "output_type": "display_data"
    },
    {
     "data": {
      "application/vnd.jupyter.widget-view+json": {
       "model_id": "9aa49b5ec389422ca4282a8193b93b9a",
       "version_major": 2,
       "version_minor": 0
      },
      "text/plain": [
       "Communities progress:   0%|          | 0/2 [00:00<?, ?it/s]"
      ]
     },
     "metadata": {},
     "output_type": "display_data"
    },
    {
     "data": {
      "application/vnd.jupyter.widget-view+json": {
       "model_id": "aafc8ebd747547938b6afcfd6c037de6",
       "version_major": 2,
       "version_minor": 0
      },
      "text/plain": [
       "Communities progress:   0%|          | 0/2 [00:00<?, ?it/s]"
      ]
     },
     "metadata": {},
     "output_type": "display_data"
    },
    {
     "data": {
      "application/vnd.jupyter.widget-view+json": {
       "model_id": "582c9b0ca98c4ef2924c8d9864caa5ec",
       "version_major": 2,
       "version_minor": 0
      },
      "text/plain": [
       "Communities progress:   0%|          | 0/2 [00:00<?, ?it/s]"
      ]
     },
     "metadata": {},
     "output_type": "display_data"
    },
    {
     "data": {
      "application/vnd.jupyter.widget-view+json": {
       "model_id": "18ffae24d3554a548391e6f551ef94b7",
       "version_major": 2,
       "version_minor": 0
      },
      "text/plain": [
       "Communities progress:   0%|          | 0/2 [00:00<?, ?it/s]"
      ]
     },
     "metadata": {},
     "output_type": "display_data"
    },
    {
     "data": {
      "application/vnd.jupyter.widget-view+json": {
       "model_id": "062c6d2849524540a23e599cdbe55a14",
       "version_major": 2,
       "version_minor": 0
      },
      "text/plain": [
       "Algorithm Progress:   0%|          | 0/4 [00:00<?, ?it/s]"
      ]
     },
     "metadata": {},
     "output_type": "display_data"
    },
    {
     "data": {
      "application/vnd.jupyter.widget-view+json": {
       "model_id": "0b24ae73f1a4438a8672df3c5cd51688",
       "version_major": 2,
       "version_minor": 0
      },
      "text/plain": [
       "Communities progress:   0%|          | 0/477 [00:00<?, ?it/s]"
      ]
     },
     "metadata": {},
     "output_type": "display_data"
    },
    {
     "data": {
      "application/vnd.jupyter.widget-view+json": {
       "model_id": "6a9520cc8e3f45768a42768d0ecd1336",
       "version_major": 2,
       "version_minor": 0
      },
      "text/plain": [
       "Communities progress:   0%|          | 0/468 [00:00<?, ?it/s]"
      ]
     },
     "metadata": {},
     "output_type": "display_data"
    },
    {
     "data": {
      "application/vnd.jupyter.widget-view+json": {
       "model_id": "5c115a0bd9794c6c8656a8f11114c337",
       "version_major": 2,
       "version_minor": 0
      },
      "text/plain": [
       "Communities progress:   0%|          | 0/488 [00:00<?, ?it/s]"
      ]
     },
     "metadata": {},
     "output_type": "display_data"
    },
    {
     "data": {
      "application/vnd.jupyter.widget-view+json": {
       "model_id": "0277c139f2db4dad8861fc4ff0fd0469",
       "version_major": 2,
       "version_minor": 0
      },
      "text/plain": [
       "Communities progress:   0%|          | 0/476 [00:00<?, ?it/s]"
      ]
     },
     "metadata": {},
     "output_type": "display_data"
    },
    {
     "data": {
      "application/vnd.jupyter.widget-view+json": {
       "model_id": "5e60e68a84dc4518894b70fd9deda72c",
       "version_major": 2,
       "version_minor": 0
      },
      "text/plain": [
       "Community Detector Progress:   0%|          | 0/4 [00:00<?, ?it/s]"
      ]
     },
     "metadata": {},
     "output_type": "display_data"
    },
    {
     "data": {
      "application/vnd.jupyter.widget-view+json": {
       "model_id": "a74a879cb4ac40068cc9d6763dcc5638",
       "version_major": 2,
       "version_minor": 0
      },
      "text/plain": [
       "Algorithm Progress:   0%|          | 0/4 [00:00<?, ?it/s]"
      ]
     },
     "metadata": {},
     "output_type": "display_data"
    },
    {
     "data": {
      "application/vnd.jupyter.widget-view+json": {
       "model_id": "d5a1913ae5a7438a9ce0aeee1d699bea",
       "version_major": 2,
       "version_minor": 0
      },
      "text/plain": [
       "Algorithm Progress:   0%|          | 0/4 [00:00<?, ?it/s]"
      ]
     },
     "metadata": {},
     "output_type": "display_data"
    },
    {
     "data": {
      "application/vnd.jupyter.widget-view+json": {
       "model_id": "d41b187cd6324752acca534557742e0d",
       "version_major": 2,
       "version_minor": 0
      },
      "text/plain": [
       "Communities progress:   0%|          | 0/3 [00:00<?, ?it/s]"
      ]
     },
     "metadata": {},
     "output_type": "display_data"
    },
    {
     "data": {
      "application/vnd.jupyter.widget-view+json": {
       "model_id": "a2fb9d3355fc42deb665ff86a1362fea",
       "version_major": 2,
       "version_minor": 0
      },
      "text/plain": [
       "Communities progress:   0%|          | 0/3 [00:00<?, ?it/s]"
      ]
     },
     "metadata": {},
     "output_type": "display_data"
    },
    {
     "data": {
      "application/vnd.jupyter.widget-view+json": {
       "model_id": "e57e604214fa4b3893fb909c27880e9b",
       "version_major": 2,
       "version_minor": 0
      },
      "text/plain": [
       "Communities progress:   0%|          | 0/3 [00:00<?, ?it/s]"
      ]
     },
     "metadata": {},
     "output_type": "display_data"
    },
    {
     "data": {
      "application/vnd.jupyter.widget-view+json": {
       "model_id": "107c18f8609f486792a71e84b5a2fb33",
       "version_major": 2,
       "version_minor": 0
      },
      "text/plain": [
       "Communities progress:   0%|          | 0/3 [00:00<?, ?it/s]"
      ]
     },
     "metadata": {},
     "output_type": "display_data"
    },
    {
     "data": {
      "application/vnd.jupyter.widget-view+json": {
       "model_id": "91f9816198304d63ae2e54431e637901",
       "version_major": 2,
       "version_minor": 0
      },
      "text/plain": [
       "Algorithm Progress:   0%|          | 0/4 [00:00<?, ?it/s]"
      ]
     },
     "metadata": {},
     "output_type": "display_data"
    },
    {
     "data": {
      "application/vnd.jupyter.widget-view+json": {
       "model_id": "c32c741cdce0458189f3678749dbafa1",
       "version_major": 2,
       "version_minor": 0
      },
      "text/plain": [
       "Communities progress:   0%|          | 0/2 [00:00<?, ?it/s]"
      ]
     },
     "metadata": {},
     "output_type": "display_data"
    },
    {
     "data": {
      "application/vnd.jupyter.widget-view+json": {
       "model_id": "2b82f650b46141a49270db1348f240d8",
       "version_major": 2,
       "version_minor": 0
      },
      "text/plain": [
       "Communities progress:   0%|          | 0/2 [00:00<?, ?it/s]"
      ]
     },
     "metadata": {},
     "output_type": "display_data"
    },
    {
     "data": {
      "application/vnd.jupyter.widget-view+json": {
       "model_id": "deafff80dd7e4b8aa4646c0e94b14d55",
       "version_major": 2,
       "version_minor": 0
      },
      "text/plain": [
       "Communities progress:   0%|          | 0/2 [00:00<?, ?it/s]"
      ]
     },
     "metadata": {},
     "output_type": "display_data"
    },
    {
     "data": {
      "application/vnd.jupyter.widget-view+json": {
       "model_id": "f81b2542b43a4e48b1792d536af206a7",
       "version_major": 2,
       "version_minor": 0
      },
      "text/plain": [
       "Communities progress:   0%|          | 0/2 [00:00<?, ?it/s]"
      ]
     },
     "metadata": {},
     "output_type": "display_data"
    },
    {
     "data": {
      "application/vnd.jupyter.widget-view+json": {
       "model_id": "d03e528ee3ee4e33a1c995cdd2a6dbfd",
       "version_major": 2,
       "version_minor": 0
      },
      "text/plain": [
       "Algorithm Progress:   0%|          | 0/4 [00:00<?, ?it/s]"
      ]
     },
     "metadata": {},
     "output_type": "display_data"
    },
    {
     "data": {
      "application/vnd.jupyter.widget-view+json": {
       "model_id": "3591ffa913b2472cb63da53c086dd732",
       "version_major": 2,
       "version_minor": 0
      },
      "text/plain": [
       "Communities progress:   0%|          | 0/459 [00:00<?, ?it/s]"
      ]
     },
     "metadata": {},
     "output_type": "display_data"
    },
    {
     "data": {
      "application/vnd.jupyter.widget-view+json": {
       "model_id": "2304105bd5094e87878843696e940142",
       "version_major": 2,
       "version_minor": 0
      },
      "text/plain": [
       "Communities progress:   0%|          | 0/439 [00:00<?, ?it/s]"
      ]
     },
     "metadata": {},
     "output_type": "display_data"
    },
    {
     "data": {
      "application/vnd.jupyter.widget-view+json": {
       "model_id": "c2fdbb863068420fbfd71d4ab7adbc45",
       "version_major": 2,
       "version_minor": 0
      },
      "text/plain": [
       "Communities progress:   0%|          | 0/442 [00:00<?, ?it/s]"
      ]
     },
     "metadata": {},
     "output_type": "display_data"
    },
    {
     "data": {
      "application/vnd.jupyter.widget-view+json": {
       "model_id": "0e6a2b89bd7748939eb0b0644748b789",
       "version_major": 2,
       "version_minor": 0
      },
      "text/plain": [
       "Communities progress:   0%|          | 0/447 [00:00<?, ?it/s]"
      ]
     },
     "metadata": {},
     "output_type": "display_data"
    },
    {
     "data": {
      "application/vnd.jupyter.widget-view+json": {
       "model_id": "60ad9ecff1494919abd26ad1c899426a",
       "version_major": 2,
       "version_minor": 0
      },
      "text/plain": [
       "Similarity Metric Progress:   0%|          | 0/4 [00:00<?, ?it/s]"
      ]
     },
     "metadata": {},
     "output_type": "display_data"
    },
    {
     "data": {
      "application/vnd.jupyter.widget-view+json": {
       "model_id": "8d4a7e25ed6941f8b414133aace58ff5",
       "version_major": 2,
       "version_minor": 0
      },
      "text/plain": [
       "Community Detector Progress:   0%|          | 0/4 [00:00<?, ?it/s]"
      ]
     },
     "metadata": {},
     "output_type": "display_data"
    },
    {
     "data": {
      "application/vnd.jupyter.widget-view+json": {
       "model_id": "db3965d546864fa69e593377b21c7430",
       "version_major": 2,
       "version_minor": 0
      },
      "text/plain": [
       "Algorithm Progress:   0%|          | 0/4 [00:00<?, ?it/s]"
      ]
     },
     "metadata": {},
     "output_type": "display_data"
    },
    {
     "data": {
      "application/vnd.jupyter.widget-view+json": {
       "model_id": "8eebbb6869cb451b960b7a30f71c4c79",
       "version_major": 2,
       "version_minor": 0
      },
      "text/plain": [
       "Algorithm Progress:   0%|          | 0/4 [00:00<?, ?it/s]"
      ]
     },
     "metadata": {},
     "output_type": "display_data"
    },
    {
     "data": {
      "application/vnd.jupyter.widget-view+json": {
       "model_id": "9339d643721e45f5ad6227a71d2f0eef",
       "version_major": 2,
       "version_minor": 0
      },
      "text/plain": [
       "Communities progress:   0%|          | 0/3 [00:00<?, ?it/s]"
      ]
     },
     "metadata": {},
     "output_type": "display_data"
    },
    {
     "data": {
      "application/vnd.jupyter.widget-view+json": {
       "model_id": "004342f322684b95a3b0e34a1cb22fc0",
       "version_major": 2,
       "version_minor": 0
      },
      "text/plain": [
       "Communities progress:   0%|          | 0/3 [00:00<?, ?it/s]"
      ]
     },
     "metadata": {},
     "output_type": "display_data"
    },
    {
     "data": {
      "application/vnd.jupyter.widget-view+json": {
       "model_id": "2051bd9d43db467d95e34d9686c82d44",
       "version_major": 2,
       "version_minor": 0
      },
      "text/plain": [
       "Communities progress:   0%|          | 0/3 [00:00<?, ?it/s]"
      ]
     },
     "metadata": {},
     "output_type": "display_data"
    },
    {
     "data": {
      "application/vnd.jupyter.widget-view+json": {
       "model_id": "600ead63678d48d5a2a4668857c41df0",
       "version_major": 2,
       "version_minor": 0
      },
      "text/plain": [
       "Communities progress:   0%|          | 0/3 [00:00<?, ?it/s]"
      ]
     },
     "metadata": {},
     "output_type": "display_data"
    },
    {
     "data": {
      "application/vnd.jupyter.widget-view+json": {
       "model_id": "46e98e3c9f4b4d019361cb05dd969745",
       "version_major": 2,
       "version_minor": 0
      },
      "text/plain": [
       "Algorithm Progress:   0%|          | 0/4 [00:00<?, ?it/s]"
      ]
     },
     "metadata": {},
     "output_type": "display_data"
    },
    {
     "data": {
      "application/vnd.jupyter.widget-view+json": {
       "model_id": "3cad7f01ee224727a6961d54413bfe4b",
       "version_major": 2,
       "version_minor": 0
      },
      "text/plain": [
       "Communities progress:   0%|          | 0/2 [00:00<?, ?it/s]"
      ]
     },
     "metadata": {},
     "output_type": "display_data"
    },
    {
     "data": {
      "application/vnd.jupyter.widget-view+json": {
       "model_id": "4bd33e404669477cb8831e605ae5f5ab",
       "version_major": 2,
       "version_minor": 0
      },
      "text/plain": [
       "Communities progress:   0%|          | 0/2 [00:00<?, ?it/s]"
      ]
     },
     "metadata": {},
     "output_type": "display_data"
    },
    {
     "data": {
      "application/vnd.jupyter.widget-view+json": {
       "model_id": "0179a304d6c247509506bae73a95c541",
       "version_major": 2,
       "version_minor": 0
      },
      "text/plain": [
       "Communities progress:   0%|          | 0/2 [00:00<?, ?it/s]"
      ]
     },
     "metadata": {},
     "output_type": "display_data"
    },
    {
     "data": {
      "application/vnd.jupyter.widget-view+json": {
       "model_id": "ff2f6538438e4a02839c528e60201933",
       "version_major": 2,
       "version_minor": 0
      },
      "text/plain": [
       "Communities progress:   0%|          | 0/2 [00:00<?, ?it/s]"
      ]
     },
     "metadata": {},
     "output_type": "display_data"
    },
    {
     "data": {
      "application/vnd.jupyter.widget-view+json": {
       "model_id": "d8be64aaa9ba48c6b07e9f1c00bb6499",
       "version_major": 2,
       "version_minor": 0
      },
      "text/plain": [
       "Algorithm Progress:   0%|          | 0/4 [00:00<?, ?it/s]"
      ]
     },
     "metadata": {},
     "output_type": "display_data"
    },
    {
     "data": {
      "application/vnd.jupyter.widget-view+json": {
       "model_id": "01a0efcb55114b4b86f40514f77ac899",
       "version_major": 2,
       "version_minor": 0
      },
      "text/plain": [
       "Communities progress:   0%|          | 0/440 [00:00<?, ?it/s]"
      ]
     },
     "metadata": {},
     "output_type": "display_data"
    },
    {
     "data": {
      "application/vnd.jupyter.widget-view+json": {
       "model_id": "9a8ed05c749c44699e1fcfbbe5207241",
       "version_major": 2,
       "version_minor": 0
      },
      "text/plain": [
       "Communities progress:   0%|          | 0/457 [00:00<?, ?it/s]"
      ]
     },
     "metadata": {},
     "output_type": "display_data"
    },
    {
     "data": {
      "application/vnd.jupyter.widget-view+json": {
       "model_id": "66fa733d54f34a44980fedf96dd40581",
       "version_major": 2,
       "version_minor": 0
      },
      "text/plain": [
       "Communities progress:   0%|          | 0/429 [00:00<?, ?it/s]"
      ]
     },
     "metadata": {},
     "output_type": "display_data"
    },
    {
     "data": {
      "application/vnd.jupyter.widget-view+json": {
       "model_id": "b852ed9ab7c84b5cbf58f3a393323649",
       "version_major": 2,
       "version_minor": 0
      },
      "text/plain": [
       "Communities progress:   0%|          | 0/437 [00:00<?, ?it/s]"
      ]
     },
     "metadata": {},
     "output_type": "display_data"
    },
    {
     "data": {
      "application/vnd.jupyter.widget-view+json": {
       "model_id": "f8f7495ac5304848a3c3e52176009be5",
       "version_major": 2,
       "version_minor": 0
      },
      "text/plain": [
       "Community Detector Progress:   0%|          | 0/4 [00:00<?, ?it/s]"
      ]
     },
     "metadata": {},
     "output_type": "display_data"
    },
    {
     "data": {
      "application/vnd.jupyter.widget-view+json": {
       "model_id": "ef24c7dd097b4ef6b09b564fa1a35912",
       "version_major": 2,
       "version_minor": 0
      },
      "text/plain": [
       "Algorithm Progress:   0%|          | 0/4 [00:00<?, ?it/s]"
      ]
     },
     "metadata": {},
     "output_type": "display_data"
    },
    {
     "data": {
      "application/vnd.jupyter.widget-view+json": {
       "model_id": "c2dd4dcced124cadaa4716b37861ab06",
       "version_major": 2,
       "version_minor": 0
      },
      "text/plain": [
       "Algorithm Progress:   0%|          | 0/4 [00:00<?, ?it/s]"
      ]
     },
     "metadata": {},
     "output_type": "display_data"
    },
    {
     "data": {
      "application/vnd.jupyter.widget-view+json": {
       "model_id": "abfb308eb860471fa44f11f81ce833b5",
       "version_major": 2,
       "version_minor": 0
      },
      "text/plain": [
       "Communities progress:   0%|          | 0/4 [00:00<?, ?it/s]"
      ]
     },
     "metadata": {},
     "output_type": "display_data"
    },
    {
     "data": {
      "application/vnd.jupyter.widget-view+json": {
       "model_id": "7cedadb7ea024270864c6f05571ec349",
       "version_major": 2,
       "version_minor": 0
      },
      "text/plain": [
       "Communities progress:   0%|          | 0/3 [00:00<?, ?it/s]"
      ]
     },
     "metadata": {},
     "output_type": "display_data"
    },
    {
     "data": {
      "application/vnd.jupyter.widget-view+json": {
       "model_id": "e6521aec1a894e0ba2d66b32833bc27d",
       "version_major": 2,
       "version_minor": 0
      },
      "text/plain": [
       "Communities progress:   0%|          | 0/3 [00:00<?, ?it/s]"
      ]
     },
     "metadata": {},
     "output_type": "display_data"
    },
    {
     "data": {
      "application/vnd.jupyter.widget-view+json": {
       "model_id": "793fb0999583469f98003a5921ca6dee",
       "version_major": 2,
       "version_minor": 0
      },
      "text/plain": [
       "Communities progress:   0%|          | 0/4 [00:00<?, ?it/s]"
      ]
     },
     "metadata": {},
     "output_type": "display_data"
    },
    {
     "data": {
      "application/vnd.jupyter.widget-view+json": {
       "model_id": "628d7844b3bb45d79c9dd784424a1e50",
       "version_major": 2,
       "version_minor": 0
      },
      "text/plain": [
       "Algorithm Progress:   0%|          | 0/4 [00:00<?, ?it/s]"
      ]
     },
     "metadata": {},
     "output_type": "display_data"
    },
    {
     "data": {
      "application/vnd.jupyter.widget-view+json": {
       "model_id": "f7591e62b6aa4cc9b733dfc58041bed6",
       "version_major": 2,
       "version_minor": 0
      },
      "text/plain": [
       "Communities progress:   0%|          | 0/2 [00:00<?, ?it/s]"
      ]
     },
     "metadata": {},
     "output_type": "display_data"
    },
    {
     "data": {
      "application/vnd.jupyter.widget-view+json": {
       "model_id": "860f27aa879642f48038d2714bf60ca1",
       "version_major": 2,
       "version_minor": 0
      },
      "text/plain": [
       "Communities progress:   0%|          | 0/2 [00:00<?, ?it/s]"
      ]
     },
     "metadata": {},
     "output_type": "display_data"
    },
    {
     "data": {
      "application/vnd.jupyter.widget-view+json": {
       "model_id": "5536069a3e6b448f902b6ef36c8dcaea",
       "version_major": 2,
       "version_minor": 0
      },
      "text/plain": [
       "Communities progress:   0%|          | 0/2 [00:00<?, ?it/s]"
      ]
     },
     "metadata": {},
     "output_type": "display_data"
    },
    {
     "data": {
      "application/vnd.jupyter.widget-view+json": {
       "model_id": "b5a1d52ff7ca43e49f91a93a30ae392a",
       "version_major": 2,
       "version_minor": 0
      },
      "text/plain": [
       "Communities progress:   0%|          | 0/2 [00:00<?, ?it/s]"
      ]
     },
     "metadata": {},
     "output_type": "display_data"
    },
    {
     "data": {
      "application/vnd.jupyter.widget-view+json": {
       "model_id": "dfff11cf3d4746d889a4be9eaf8d073d",
       "version_major": 2,
       "version_minor": 0
      },
      "text/plain": [
       "Algorithm Progress:   0%|          | 0/4 [00:00<?, ?it/s]"
      ]
     },
     "metadata": {},
     "output_type": "display_data"
    },
    {
     "data": {
      "application/vnd.jupyter.widget-view+json": {
       "model_id": "e6ce0ed4231845989ec47ebba1edef0c",
       "version_major": 2,
       "version_minor": 0
      },
      "text/plain": [
       "Communities progress:   0%|          | 0/80 [00:00<?, ?it/s]"
      ]
     },
     "metadata": {},
     "output_type": "display_data"
    },
    {
     "data": {
      "application/vnd.jupyter.widget-view+json": {
       "model_id": "77956cb8a5294023af2fecae9e271dcc",
       "version_major": 2,
       "version_minor": 0
      },
      "text/plain": [
       "Communities progress:   0%|          | 0/71 [00:00<?, ?it/s]"
      ]
     },
     "metadata": {},
     "output_type": "display_data"
    },
    {
     "data": {
      "application/vnd.jupyter.widget-view+json": {
       "model_id": "cb9621d6475c444e84ec391107abe16b",
       "version_major": 2,
       "version_minor": 0
      },
      "text/plain": [
       "Communities progress:   0%|          | 0/72 [00:00<?, ?it/s]"
      ]
     },
     "metadata": {},
     "output_type": "display_data"
    },
    {
     "data": {
      "application/vnd.jupyter.widget-view+json": {
       "model_id": "9d1066de5fb24e759a9159cbcb39a4a5",
       "version_major": 2,
       "version_minor": 0
      },
      "text/plain": [
       "Communities progress:   0%|          | 0/71 [00:00<?, ?it/s]"
      ]
     },
     "metadata": {},
     "output_type": "display_data"
    },
    {
     "data": {
      "application/vnd.jupyter.widget-view+json": {
       "model_id": "29459818713a487f975a9a1314e2c1fc",
       "version_major": 2,
       "version_minor": 0
      },
      "text/plain": [
       "Community Detector Progress:   0%|          | 0/4 [00:00<?, ?it/s]"
      ]
     },
     "metadata": {},
     "output_type": "display_data"
    },
    {
     "data": {
      "application/vnd.jupyter.widget-view+json": {
       "model_id": "a9a6494691bc4147ad21ba843c9803f7",
       "version_major": 2,
       "version_minor": 0
      },
      "text/plain": [
       "Algorithm Progress:   0%|          | 0/4 [00:00<?, ?it/s]"
      ]
     },
     "metadata": {},
     "output_type": "display_data"
    },
    {
     "data": {
      "application/vnd.jupyter.widget-view+json": {
       "model_id": "9cfdbfe894c2404b907591d57c476111",
       "version_major": 2,
       "version_minor": 0
      },
      "text/plain": [
       "Algorithm Progress:   0%|          | 0/4 [00:00<?, ?it/s]"
      ]
     },
     "metadata": {},
     "output_type": "display_data"
    },
    {
     "data": {
      "application/vnd.jupyter.widget-view+json": {
       "model_id": "82fb121223104767b8aec82b49571f98",
       "version_major": 2,
       "version_minor": 0
      },
      "text/plain": [
       "Communities progress:   0%|          | 0/3 [00:00<?, ?it/s]"
      ]
     },
     "metadata": {},
     "output_type": "display_data"
    },
    {
     "data": {
      "application/vnd.jupyter.widget-view+json": {
       "model_id": "f7e4cd5060f94066a44bd7dc5d705d4f",
       "version_major": 2,
       "version_minor": 0
      },
      "text/plain": [
       "Communities progress:   0%|          | 0/3 [00:00<?, ?it/s]"
      ]
     },
     "metadata": {},
     "output_type": "display_data"
    },
    {
     "data": {
      "application/vnd.jupyter.widget-view+json": {
       "model_id": "7382edab1e3541b680a9b2458584aa51",
       "version_major": 2,
       "version_minor": 0
      },
      "text/plain": [
       "Communities progress:   0%|          | 0/3 [00:00<?, ?it/s]"
      ]
     },
     "metadata": {},
     "output_type": "display_data"
    },
    {
     "data": {
      "application/vnd.jupyter.widget-view+json": {
       "model_id": "39f51f39c73c45a78bb7147c040c6494",
       "version_major": 2,
       "version_minor": 0
      },
      "text/plain": [
       "Communities progress:   0%|          | 0/3 [00:00<?, ?it/s]"
      ]
     },
     "metadata": {},
     "output_type": "display_data"
    },
    {
     "data": {
      "application/vnd.jupyter.widget-view+json": {
       "model_id": "9c92d8b4d91b4a0ba115ad70252fbb47",
       "version_major": 2,
       "version_minor": 0
      },
      "text/plain": [
       "Algorithm Progress:   0%|          | 0/4 [00:00<?, ?it/s]"
      ]
     },
     "metadata": {},
     "output_type": "display_data"
    },
    {
     "data": {
      "application/vnd.jupyter.widget-view+json": {
       "model_id": "5a398a2af66046fda6ce7072368307de",
       "version_major": 2,
       "version_minor": 0
      },
      "text/plain": [
       "Communities progress:   0%|          | 0/2 [00:00<?, ?it/s]"
      ]
     },
     "metadata": {},
     "output_type": "display_data"
    },
    {
     "data": {
      "application/vnd.jupyter.widget-view+json": {
       "model_id": "293399c3fd3b41ecb87c936f5c841187",
       "version_major": 2,
       "version_minor": 0
      },
      "text/plain": [
       "Communities progress:   0%|          | 0/2 [00:00<?, ?it/s]"
      ]
     },
     "metadata": {},
     "output_type": "display_data"
    },
    {
     "data": {
      "application/vnd.jupyter.widget-view+json": {
       "model_id": "28d5499f88464836aedd4965d8f83515",
       "version_major": 2,
       "version_minor": 0
      },
      "text/plain": [
       "Communities progress:   0%|          | 0/2 [00:00<?, ?it/s]"
      ]
     },
     "metadata": {},
     "output_type": "display_data"
    },
    {
     "data": {
      "application/vnd.jupyter.widget-view+json": {
       "model_id": "18bf2825f82b4f048f175a7d52f1a6b6",
       "version_major": 2,
       "version_minor": 0
      },
      "text/plain": [
       "Communities progress:   0%|          | 0/2 [00:00<?, ?it/s]"
      ]
     },
     "metadata": {},
     "output_type": "display_data"
    },
    {
     "data": {
      "application/vnd.jupyter.widget-view+json": {
       "model_id": "8567c951d87a4f94a9beecb699ccc03b",
       "version_major": 2,
       "version_minor": 0
      },
      "text/plain": [
       "Algorithm Progress:   0%|          | 0/4 [00:00<?, ?it/s]"
      ]
     },
     "metadata": {},
     "output_type": "display_data"
    },
    {
     "data": {
      "application/vnd.jupyter.widget-view+json": {
       "model_id": "9ffa1bd1c1f643f185fdc2a4b0bc61e9",
       "version_major": 2,
       "version_minor": 0
      },
      "text/plain": [
       "Communities progress:   0%|          | 0/489 [00:00<?, ?it/s]"
      ]
     },
     "metadata": {},
     "output_type": "display_data"
    },
    {
     "data": {
      "application/vnd.jupyter.widget-view+json": {
       "model_id": "fac03dbab52b477d81f4caf8ff2fec16",
       "version_major": 2,
       "version_minor": 0
      },
      "text/plain": [
       "Communities progress:   0%|          | 0/490 [00:00<?, ?it/s]"
      ]
     },
     "metadata": {},
     "output_type": "display_data"
    },
    {
     "data": {
      "application/vnd.jupyter.widget-view+json": {
       "model_id": "6d413938c53e492f8736973e4671b4c6",
       "version_major": 2,
       "version_minor": 0
      },
      "text/plain": [
       "Communities progress:   0%|          | 0/491 [00:00<?, ?it/s]"
      ]
     },
     "metadata": {},
     "output_type": "display_data"
    },
    {
     "data": {
      "application/vnd.jupyter.widget-view+json": {
       "model_id": "984bcf748cdf47d09bd8a45528ec8e35",
       "version_major": 2,
       "version_minor": 0
      },
      "text/plain": [
       "Communities progress:   0%|          | 0/475 [00:00<?, ?it/s]"
      ]
     },
     "metadata": {},
     "output_type": "display_data"
    },
    {
     "data": {
      "application/vnd.jupyter.widget-view+json": {
       "model_id": "22f7192708994931a23c34adb2a192c7",
       "version_major": 2,
       "version_minor": 0
      },
      "text/plain": [
       "Community Detector Progress:   0%|          | 0/4 [00:00<?, ?it/s]"
      ]
     },
     "metadata": {},
     "output_type": "display_data"
    },
    {
     "data": {
      "application/vnd.jupyter.widget-view+json": {
       "model_id": "834e9dc73f6148c783cc17e3967af72d",
       "version_major": 2,
       "version_minor": 0
      },
      "text/plain": [
       "Algorithm Progress:   0%|          | 0/4 [00:00<?, ?it/s]"
      ]
     },
     "metadata": {},
     "output_type": "display_data"
    },
    {
     "data": {
      "application/vnd.jupyter.widget-view+json": {
       "model_id": "745f65f85c38461fa0a06f2fb63982c9",
       "version_major": 2,
       "version_minor": 0
      },
      "text/plain": [
       "Algorithm Progress:   0%|          | 0/4 [00:00<?, ?it/s]"
      ]
     },
     "metadata": {},
     "output_type": "display_data"
    },
    {
     "data": {
      "application/vnd.jupyter.widget-view+json": {
       "model_id": "9fcbca2fece2476bafefc15f8ceb4288",
       "version_major": 2,
       "version_minor": 0
      },
      "text/plain": [
       "Communities progress:   0%|          | 0/3 [00:00<?, ?it/s]"
      ]
     },
     "metadata": {},
     "output_type": "display_data"
    },
    {
     "data": {
      "application/vnd.jupyter.widget-view+json": {
       "model_id": "9e2a49f2ee4248508dc9194864d21366",
       "version_major": 2,
       "version_minor": 0
      },
      "text/plain": [
       "Communities progress:   0%|          | 0/3 [00:00<?, ?it/s]"
      ]
     },
     "metadata": {},
     "output_type": "display_data"
    },
    {
     "data": {
      "application/vnd.jupyter.widget-view+json": {
       "model_id": "25f4da48b4a04627be17113891458844",
       "version_major": 2,
       "version_minor": 0
      },
      "text/plain": [
       "Communities progress:   0%|          | 0/3 [00:00<?, ?it/s]"
      ]
     },
     "metadata": {},
     "output_type": "display_data"
    },
    {
     "data": {
      "application/vnd.jupyter.widget-view+json": {
       "model_id": "2618581bf88340a985471658710bc266",
       "version_major": 2,
       "version_minor": 0
      },
      "text/plain": [
       "Communities progress:   0%|          | 0/3 [00:00<?, ?it/s]"
      ]
     },
     "metadata": {},
     "output_type": "display_data"
    },
    {
     "data": {
      "application/vnd.jupyter.widget-view+json": {
       "model_id": "3bf8caa787ba4c1dab0c40fe4db8d700",
       "version_major": 2,
       "version_minor": 0
      },
      "text/plain": [
       "Algorithm Progress:   0%|          | 0/4 [00:00<?, ?it/s]"
      ]
     },
     "metadata": {},
     "output_type": "display_data"
    },
    {
     "data": {
      "application/vnd.jupyter.widget-view+json": {
       "model_id": "05df5f55dbb14c70bf1ab466a4ef2ee4",
       "version_major": 2,
       "version_minor": 0
      },
      "text/plain": [
       "Communities progress:   0%|          | 0/2 [00:00<?, ?it/s]"
      ]
     },
     "metadata": {},
     "output_type": "display_data"
    },
    {
     "data": {
      "application/vnd.jupyter.widget-view+json": {
       "model_id": "87c6a58d72c8453b9112c349c0b64680",
       "version_major": 2,
       "version_minor": 0
      },
      "text/plain": [
       "Communities progress:   0%|          | 0/2 [00:00<?, ?it/s]"
      ]
     },
     "metadata": {},
     "output_type": "display_data"
    },
    {
     "data": {
      "application/vnd.jupyter.widget-view+json": {
       "model_id": "6c1323363d5d453bb4f5058fa00b1d5b",
       "version_major": 2,
       "version_minor": 0
      },
      "text/plain": [
       "Communities progress:   0%|          | 0/2 [00:00<?, ?it/s]"
      ]
     },
     "metadata": {},
     "output_type": "display_data"
    },
    {
     "data": {
      "application/vnd.jupyter.widget-view+json": {
       "model_id": "70f8d822f8404c00be561ddee9394007",
       "version_major": 2,
       "version_minor": 0
      },
      "text/plain": [
       "Communities progress:   0%|          | 0/2 [00:00<?, ?it/s]"
      ]
     },
     "metadata": {},
     "output_type": "display_data"
    },
    {
     "data": {
      "application/vnd.jupyter.widget-view+json": {
       "model_id": "01077401d6334b38bbdefad29b1e0855",
       "version_major": 2,
       "version_minor": 0
      },
      "text/plain": [
       "Algorithm Progress:   0%|          | 0/4 [00:00<?, ?it/s]"
      ]
     },
     "metadata": {},
     "output_type": "display_data"
    },
    {
     "data": {
      "application/vnd.jupyter.widget-view+json": {
       "model_id": "2af4a199864e4e0b9b13443ea031aef8",
       "version_major": 2,
       "version_minor": 0
      },
      "text/plain": [
       "Communities progress:   0%|          | 0/448 [00:00<?, ?it/s]"
      ]
     },
     "metadata": {},
     "output_type": "display_data"
    },
    {
     "data": {
      "application/vnd.jupyter.widget-view+json": {
       "model_id": "a7380d3704ec4b2d9ffb0885562695d1",
       "version_major": 2,
       "version_minor": 0
      },
      "text/plain": [
       "Communities progress:   0%|          | 0/450 [00:00<?, ?it/s]"
      ]
     },
     "metadata": {},
     "output_type": "display_data"
    },
    {
     "data": {
      "application/vnd.jupyter.widget-view+json": {
       "model_id": "25afee4461834651b03ababbac3e6fe0",
       "version_major": 2,
       "version_minor": 0
      },
      "text/plain": [
       "Communities progress:   0%|          | 0/447 [00:00<?, ?it/s]"
      ]
     },
     "metadata": {},
     "output_type": "display_data"
    },
    {
     "data": {
      "application/vnd.jupyter.widget-view+json": {
       "model_id": "a75a60eac3f34b8793c1b60bed421992",
       "version_major": 2,
       "version_minor": 0
      },
      "text/plain": [
       "Communities progress:   0%|          | 0/451 [00:00<?, ?it/s]"
      ]
     },
     "metadata": {},
     "output_type": "display_data"
    },
    {
     "data": {
      "application/vnd.jupyter.widget-view+json": {
       "model_id": "6327ba1eb8594ceea6ab164f8ab63b4b",
       "version_major": 2,
       "version_minor": 0
      },
      "text/plain": [
       "Similarity Metric Progress:   0%|          | 0/4 [00:00<?, ?it/s]"
      ]
     },
     "metadata": {},
     "output_type": "display_data"
    },
    {
     "data": {
      "application/vnd.jupyter.widget-view+json": {
       "model_id": "cc6c5f60548844798f3b11121f0dc2c3",
       "version_major": 2,
       "version_minor": 0
      },
      "text/plain": [
       "Community Detector Progress:   0%|          | 0/4 [00:00<?, ?it/s]"
      ]
     },
     "metadata": {},
     "output_type": "display_data"
    },
    {
     "data": {
      "application/vnd.jupyter.widget-view+json": {
       "model_id": "5a7966fa81f947f2b06b63bb34dc32df",
       "version_major": 2,
       "version_minor": 0
      },
      "text/plain": [
       "Algorithm Progress:   0%|          | 0/4 [00:00<?, ?it/s]"
      ]
     },
     "metadata": {},
     "output_type": "display_data"
    },
    {
     "data": {
      "application/vnd.jupyter.widget-view+json": {
       "model_id": "ee881cf35e1443e9a395b9f47c257518",
       "version_major": 2,
       "version_minor": 0
      },
      "text/plain": [
       "Algorithm Progress:   0%|          | 0/4 [00:00<?, ?it/s]"
      ]
     },
     "metadata": {},
     "output_type": "display_data"
    },
    {
     "data": {
      "application/vnd.jupyter.widget-view+json": {
       "model_id": "c663e1d52ee34e37afca57b1794bf928",
       "version_major": 2,
       "version_minor": 0
      },
      "text/plain": [
       "Communities progress:   0%|          | 0/3 [00:00<?, ?it/s]"
      ]
     },
     "metadata": {},
     "output_type": "display_data"
    },
    {
     "data": {
      "application/vnd.jupyter.widget-view+json": {
       "model_id": "20734efdd46f40a7b53c5caf426f9160",
       "version_major": 2,
       "version_minor": 0
      },
      "text/plain": [
       "Communities progress:   0%|          | 0/3 [00:00<?, ?it/s]"
      ]
     },
     "metadata": {},
     "output_type": "display_data"
    },
    {
     "data": {
      "application/vnd.jupyter.widget-view+json": {
       "model_id": "e89cedd6f36846eeac55ab947632696d",
       "version_major": 2,
       "version_minor": 0
      },
      "text/plain": [
       "Communities progress:   0%|          | 0/3 [00:00<?, ?it/s]"
      ]
     },
     "metadata": {},
     "output_type": "display_data"
    },
    {
     "data": {
      "application/vnd.jupyter.widget-view+json": {
       "model_id": "e2303a152435449a8f6586171e65d6b0",
       "version_major": 2,
       "version_minor": 0
      },
      "text/plain": [
       "Communities progress:   0%|          | 0/3 [00:00<?, ?it/s]"
      ]
     },
     "metadata": {},
     "output_type": "display_data"
    },
    {
     "data": {
      "application/vnd.jupyter.widget-view+json": {
       "model_id": "aec8097d7aa649788b657cf0ac962c56",
       "version_major": 2,
       "version_minor": 0
      },
      "text/plain": [
       "Algorithm Progress:   0%|          | 0/4 [00:00<?, ?it/s]"
      ]
     },
     "metadata": {},
     "output_type": "display_data"
    },
    {
     "data": {
      "application/vnd.jupyter.widget-view+json": {
       "model_id": "8fb9eeedd9d4417ca49ed1479185e435",
       "version_major": 2,
       "version_minor": 0
      },
      "text/plain": [
       "Communities progress:   0%|          | 0/2 [00:00<?, ?it/s]"
      ]
     },
     "metadata": {},
     "output_type": "display_data"
    },
    {
     "data": {
      "application/vnd.jupyter.widget-view+json": {
       "model_id": "65ef774851444e2aa20b4d5f0e8c4509",
       "version_major": 2,
       "version_minor": 0
      },
      "text/plain": [
       "Communities progress:   0%|          | 0/2 [00:00<?, ?it/s]"
      ]
     },
     "metadata": {},
     "output_type": "display_data"
    },
    {
     "data": {
      "application/vnd.jupyter.widget-view+json": {
       "model_id": "89245a25d08a48f5ac8bc4c194777e5b",
       "version_major": 2,
       "version_minor": 0
      },
      "text/plain": [
       "Communities progress:   0%|          | 0/2 [00:00<?, ?it/s]"
      ]
     },
     "metadata": {},
     "output_type": "display_data"
    },
    {
     "data": {
      "application/vnd.jupyter.widget-view+json": {
       "model_id": "e5a486dc48dc432b929ee01399511b98",
       "version_major": 2,
       "version_minor": 0
      },
      "text/plain": [
       "Communities progress:   0%|          | 0/2 [00:00<?, ?it/s]"
      ]
     },
     "metadata": {},
     "output_type": "display_data"
    },
    {
     "data": {
      "application/vnd.jupyter.widget-view+json": {
       "model_id": "a0f0ec8f5f66496691033f0b59e6d84b",
       "version_major": 2,
       "version_minor": 0
      },
      "text/plain": [
       "Algorithm Progress:   0%|          | 0/4 [00:00<?, ?it/s]"
      ]
     },
     "metadata": {},
     "output_type": "display_data"
    },
    {
     "data": {
      "application/vnd.jupyter.widget-view+json": {
       "model_id": "95d46e8c6f134005aa7d096e47737c4e",
       "version_major": 2,
       "version_minor": 0
      },
      "text/plain": [
       "Communities progress:   0%|          | 0/451 [00:00<?, ?it/s]"
      ]
     },
     "metadata": {},
     "output_type": "display_data"
    },
    {
     "data": {
      "application/vnd.jupyter.widget-view+json": {
       "model_id": "9fc22f16e9d84113960f90ccd381a896",
       "version_major": 2,
       "version_minor": 0
      },
      "text/plain": [
       "Communities progress:   0%|          | 0/445 [00:00<?, ?it/s]"
      ]
     },
     "metadata": {},
     "output_type": "display_data"
    },
    {
     "data": {
      "application/vnd.jupyter.widget-view+json": {
       "model_id": "3fee6d0be4184e1fa39bb57285d4499b",
       "version_major": 2,
       "version_minor": 0
      },
      "text/plain": [
       "Communities progress:   0%|          | 0/431 [00:00<?, ?it/s]"
      ]
     },
     "metadata": {},
     "output_type": "display_data"
    },
    {
     "data": {
      "application/vnd.jupyter.widget-view+json": {
       "model_id": "70b1521cb1eb493aac10ab98dc14806a",
       "version_major": 2,
       "version_minor": 0
      },
      "text/plain": [
       "Communities progress:   0%|          | 0/439 [00:00<?, ?it/s]"
      ]
     },
     "metadata": {},
     "output_type": "display_data"
    },
    {
     "data": {
      "application/vnd.jupyter.widget-view+json": {
       "model_id": "be9ce85d2d1d42b688f2408bde22908a",
       "version_major": 2,
       "version_minor": 0
      },
      "text/plain": [
       "Community Detector Progress:   0%|          | 0/4 [00:00<?, ?it/s]"
      ]
     },
     "metadata": {},
     "output_type": "display_data"
    },
    {
     "data": {
      "application/vnd.jupyter.widget-view+json": {
       "model_id": "4d62bf3570f4410dafe1567073980212",
       "version_major": 2,
       "version_minor": 0
      },
      "text/plain": [
       "Algorithm Progress:   0%|          | 0/4 [00:00<?, ?it/s]"
      ]
     },
     "metadata": {},
     "output_type": "display_data"
    },
    {
     "data": {
      "application/vnd.jupyter.widget-view+json": {
       "model_id": "04ff670e14544223ae0dc0f69e5b78a3",
       "version_major": 2,
       "version_minor": 0
      },
      "text/plain": [
       "Algorithm Progress:   0%|          | 0/4 [00:00<?, ?it/s]"
      ]
     },
     "metadata": {},
     "output_type": "display_data"
    },
    {
     "data": {
      "application/vnd.jupyter.widget-view+json": {
       "model_id": "712d3dc22ec04a739866775e7d46369a",
       "version_major": 2,
       "version_minor": 0
      },
      "text/plain": [
       "Communities progress:   0%|          | 0/3 [00:00<?, ?it/s]"
      ]
     },
     "metadata": {},
     "output_type": "display_data"
    },
    {
     "data": {
      "application/vnd.jupyter.widget-view+json": {
       "model_id": "57f5d04ceaf84421a35ddd73d50db589",
       "version_major": 2,
       "version_minor": 0
      },
      "text/plain": [
       "Communities progress:   0%|          | 0/3 [00:00<?, ?it/s]"
      ]
     },
     "metadata": {},
     "output_type": "display_data"
    },
    {
     "data": {
      "application/vnd.jupyter.widget-view+json": {
       "model_id": "ca6af9d942c7453aab58d45fde879ece",
       "version_major": 2,
       "version_minor": 0
      },
      "text/plain": [
       "Communities progress:   0%|          | 0/3 [00:00<?, ?it/s]"
      ]
     },
     "metadata": {},
     "output_type": "display_data"
    },
    {
     "data": {
      "application/vnd.jupyter.widget-view+json": {
       "model_id": "29ef2b69968f441780e451a67a3da365",
       "version_major": 2,
       "version_minor": 0
      },
      "text/plain": [
       "Communities progress:   0%|          | 0/3 [00:00<?, ?it/s]"
      ]
     },
     "metadata": {},
     "output_type": "display_data"
    },
    {
     "data": {
      "application/vnd.jupyter.widget-view+json": {
       "model_id": "ddd02763475a4503be190ad84b478bc9",
       "version_major": 2,
       "version_minor": 0
      },
      "text/plain": [
       "Algorithm Progress:   0%|          | 0/4 [00:00<?, ?it/s]"
      ]
     },
     "metadata": {},
     "output_type": "display_data"
    },
    {
     "data": {
      "application/vnd.jupyter.widget-view+json": {
       "model_id": "98ad10e54ada4989a88bbfb60c767b2a",
       "version_major": 2,
       "version_minor": 0
      },
      "text/plain": [
       "Communities progress:   0%|          | 0/3 [00:00<?, ?it/s]"
      ]
     },
     "metadata": {},
     "output_type": "display_data"
    },
    {
     "data": {
      "application/vnd.jupyter.widget-view+json": {
       "model_id": "51b2ffb406cd4f028309be928092dc9b",
       "version_major": 2,
       "version_minor": 0
      },
      "text/plain": [
       "Communities progress:   0%|          | 0/3 [00:00<?, ?it/s]"
      ]
     },
     "metadata": {},
     "output_type": "display_data"
    },
    {
     "data": {
      "application/vnd.jupyter.widget-view+json": {
       "model_id": "82f51c7a3543453382f9b5c33135fd93",
       "version_major": 2,
       "version_minor": 0
      },
      "text/plain": [
       "Communities progress:   0%|          | 0/3 [00:00<?, ?it/s]"
      ]
     },
     "metadata": {},
     "output_type": "display_data"
    },
    {
     "data": {
      "application/vnd.jupyter.widget-view+json": {
       "model_id": "6f2673d3183e44a0a1eab8823ee76668",
       "version_major": 2,
       "version_minor": 0
      },
      "text/plain": [
       "Communities progress:   0%|          | 0/3 [00:00<?, ?it/s]"
      ]
     },
     "metadata": {},
     "output_type": "display_data"
    },
    {
     "data": {
      "application/vnd.jupyter.widget-view+json": {
       "model_id": "afe4c36a269b40e3bd057980f557a627",
       "version_major": 2,
       "version_minor": 0
      },
      "text/plain": [
       "Algorithm Progress:   0%|          | 0/4 [00:00<?, ?it/s]"
      ]
     },
     "metadata": {},
     "output_type": "display_data"
    },
    {
     "data": {
      "application/vnd.jupyter.widget-view+json": {
       "model_id": "2755508f1e7b47ffaafae7275516e976",
       "version_major": 2,
       "version_minor": 0
      },
      "text/plain": [
       "Communities progress:   0%|          | 0/76 [00:00<?, ?it/s]"
      ]
     },
     "metadata": {},
     "output_type": "display_data"
    },
    {
     "data": {
      "application/vnd.jupyter.widget-view+json": {
       "model_id": "d33aa38a3c6545a3bc68f6d52a75601e",
       "version_major": 2,
       "version_minor": 0
      },
      "text/plain": [
       "Communities progress:   0%|          | 0/87 [00:00<?, ?it/s]"
      ]
     },
     "metadata": {},
     "output_type": "display_data"
    },
    {
     "data": {
      "application/vnd.jupyter.widget-view+json": {
       "model_id": "97b64906a6af4cf4acb80c1da55d943b",
       "version_major": 2,
       "version_minor": 0
      },
      "text/plain": [
       "Communities progress:   0%|          | 0/70 [00:00<?, ?it/s]"
      ]
     },
     "metadata": {},
     "output_type": "display_data"
    },
    {
     "data": {
      "application/vnd.jupyter.widget-view+json": {
       "model_id": "8ba86b9c6039490abe91089717e8cdb9",
       "version_major": 2,
       "version_minor": 0
      },
      "text/plain": [
       "Communities progress:   0%|          | 0/80 [00:00<?, ?it/s]"
      ]
     },
     "metadata": {},
     "output_type": "display_data"
    },
    {
     "data": {
      "application/vnd.jupyter.widget-view+json": {
       "model_id": "d4c7a0aebcd34ccbb926e32d2b9be977",
       "version_major": 2,
       "version_minor": 0
      },
      "text/plain": [
       "Community Detector Progress:   0%|          | 0/4 [00:00<?, ?it/s]"
      ]
     },
     "metadata": {},
     "output_type": "display_data"
    },
    {
     "data": {
      "application/vnd.jupyter.widget-view+json": {
       "model_id": "2bdbb73f958d4c2994d818a9e9f2eaa8",
       "version_major": 2,
       "version_minor": 0
      },
      "text/plain": [
       "Algorithm Progress:   0%|          | 0/4 [00:00<?, ?it/s]"
      ]
     },
     "metadata": {},
     "output_type": "display_data"
    },
    {
     "data": {
      "application/vnd.jupyter.widget-view+json": {
       "model_id": "ac4d83e57bdc496e9fe075c6a142c8dd",
       "version_major": 2,
       "version_minor": 0
      },
      "text/plain": [
       "Algorithm Progress:   0%|          | 0/4 [00:00<?, ?it/s]"
      ]
     },
     "metadata": {},
     "output_type": "display_data"
    },
    {
     "data": {
      "application/vnd.jupyter.widget-view+json": {
       "model_id": "eea0b58cb7a541d389f56248c3d0ac9f",
       "version_major": 2,
       "version_minor": 0
      },
      "text/plain": [
       "Communities progress:   0%|          | 0/3 [00:00<?, ?it/s]"
      ]
     },
     "metadata": {},
     "output_type": "display_data"
    },
    {
     "data": {
      "application/vnd.jupyter.widget-view+json": {
       "model_id": "12b43381a4f2489e93c1f5cbb579da21",
       "version_major": 2,
       "version_minor": 0
      },
      "text/plain": [
       "Communities progress:   0%|          | 0/3 [00:00<?, ?it/s]"
      ]
     },
     "metadata": {},
     "output_type": "display_data"
    },
    {
     "data": {
      "application/vnd.jupyter.widget-view+json": {
       "model_id": "fb92467472cc4ff8a00faae3eb620644",
       "version_major": 2,
       "version_minor": 0
      },
      "text/plain": [
       "Communities progress:   0%|          | 0/4 [00:00<?, ?it/s]"
      ]
     },
     "metadata": {},
     "output_type": "display_data"
    },
    {
     "data": {
      "application/vnd.jupyter.widget-view+json": {
       "model_id": "45aac97b6f7045ac98a56f9744965aed",
       "version_major": 2,
       "version_minor": 0
      },
      "text/plain": [
       "Communities progress:   0%|          | 0/3 [00:00<?, ?it/s]"
      ]
     },
     "metadata": {},
     "output_type": "display_data"
    },
    {
     "data": {
      "application/vnd.jupyter.widget-view+json": {
       "model_id": "7a62b6e10ee64a139f9e12239caeaad8",
       "version_major": 2,
       "version_minor": 0
      },
      "text/plain": [
       "Algorithm Progress:   0%|          | 0/4 [00:00<?, ?it/s]"
      ]
     },
     "metadata": {},
     "output_type": "display_data"
    },
    {
     "data": {
      "application/vnd.jupyter.widget-view+json": {
       "model_id": "38da1871969f4449acbb5ffe27717f19",
       "version_major": 2,
       "version_minor": 0
      },
      "text/plain": [
       "Communities progress:   0%|          | 0/3 [00:00<?, ?it/s]"
      ]
     },
     "metadata": {},
     "output_type": "display_data"
    },
    {
     "data": {
      "application/vnd.jupyter.widget-view+json": {
       "model_id": "005736f1bb1d40e3b26b18497ad9d280",
       "version_major": 2,
       "version_minor": 0
      },
      "text/plain": [
       "Communities progress:   0%|          | 0/3 [00:00<?, ?it/s]"
      ]
     },
     "metadata": {},
     "output_type": "display_data"
    },
    {
     "data": {
      "application/vnd.jupyter.widget-view+json": {
       "model_id": "69499fd785204027815774588373a882",
       "version_major": 2,
       "version_minor": 0
      },
      "text/plain": [
       "Communities progress:   0%|          | 0/3 [00:00<?, ?it/s]"
      ]
     },
     "metadata": {},
     "output_type": "display_data"
    },
    {
     "data": {
      "application/vnd.jupyter.widget-view+json": {
       "model_id": "d0de9c726ee646e3a18b94fba2e9c116",
       "version_major": 2,
       "version_minor": 0
      },
      "text/plain": [
       "Communities progress:   0%|          | 0/3 [00:00<?, ?it/s]"
      ]
     },
     "metadata": {},
     "output_type": "display_data"
    },
    {
     "data": {
      "application/vnd.jupyter.widget-view+json": {
       "model_id": "03a35c1d126e4b058ac7ef161241a477",
       "version_major": 2,
       "version_minor": 0
      },
      "text/plain": [
       "Algorithm Progress:   0%|          | 0/4 [00:00<?, ?it/s]"
      ]
     },
     "metadata": {},
     "output_type": "display_data"
    },
    {
     "data": {
      "application/vnd.jupyter.widget-view+json": {
       "model_id": "01a85b6a3cc84a79b7c743cc6b8d2a26",
       "version_major": 2,
       "version_minor": 0
      },
      "text/plain": [
       "Communities progress:   0%|          | 0/495 [00:00<?, ?it/s]"
      ]
     },
     "metadata": {},
     "output_type": "display_data"
    },
    {
     "data": {
      "application/vnd.jupyter.widget-view+json": {
       "model_id": "b523e9f26b794f4bb6ac8ab6f07eb948",
       "version_major": 2,
       "version_minor": 0
      },
      "text/plain": [
       "Communities progress:   0%|          | 0/485 [00:00<?, ?it/s]"
      ]
     },
     "metadata": {},
     "output_type": "display_data"
    },
    {
     "data": {
      "application/vnd.jupyter.widget-view+json": {
       "model_id": "e3cda04f7911430faf57c97f155958e2",
       "version_major": 2,
       "version_minor": 0
      },
      "text/plain": [
       "Communities progress:   0%|          | 0/473 [00:00<?, ?it/s]"
      ]
     },
     "metadata": {},
     "output_type": "display_data"
    },
    {
     "data": {
      "application/vnd.jupyter.widget-view+json": {
       "model_id": "4564391fe5ad478e8f18a0f5bdeeb03f",
       "version_major": 2,
       "version_minor": 0
      },
      "text/plain": [
       "Communities progress:   0%|          | 0/488 [00:00<?, ?it/s]"
      ]
     },
     "metadata": {},
     "output_type": "display_data"
    },
    {
     "data": {
      "application/vnd.jupyter.widget-view+json": {
       "model_id": "2f46a426f1924f0ca91243f13b65c29f",
       "version_major": 2,
       "version_minor": 0
      },
      "text/plain": [
       "Community Detector Progress:   0%|          | 0/4 [00:00<?, ?it/s]"
      ]
     },
     "metadata": {},
     "output_type": "display_data"
    },
    {
     "data": {
      "application/vnd.jupyter.widget-view+json": {
       "model_id": "e36aefed30494a4eb072a0b8574f498c",
       "version_major": 2,
       "version_minor": 0
      },
      "text/plain": [
       "Algorithm Progress:   0%|          | 0/4 [00:00<?, ?it/s]"
      ]
     },
     "metadata": {},
     "output_type": "display_data"
    },
    {
     "data": {
      "application/vnd.jupyter.widget-view+json": {
       "model_id": "e7772144801a4c21ad01f49648fe9bb0",
       "version_major": 2,
       "version_minor": 0
      },
      "text/plain": [
       "Algorithm Progress:   0%|          | 0/4 [00:00<?, ?it/s]"
      ]
     },
     "metadata": {},
     "output_type": "display_data"
    },
    {
     "data": {
      "application/vnd.jupyter.widget-view+json": {
       "model_id": "ec8eae73df7148c5bbe2f078f705b8d0",
       "version_major": 2,
       "version_minor": 0
      },
      "text/plain": [
       "Communities progress:   0%|          | 0/3 [00:00<?, ?it/s]"
      ]
     },
     "metadata": {},
     "output_type": "display_data"
    },
    {
     "data": {
      "application/vnd.jupyter.widget-view+json": {
       "model_id": "f97d3d77d9d246c387e58bc7d83aa279",
       "version_major": 2,
       "version_minor": 0
      },
      "text/plain": [
       "Communities progress:   0%|          | 0/3 [00:00<?, ?it/s]"
      ]
     },
     "metadata": {},
     "output_type": "display_data"
    },
    {
     "data": {
      "application/vnd.jupyter.widget-view+json": {
       "model_id": "0b82fb2327594332a3f1ff0bc4c6467f",
       "version_major": 2,
       "version_minor": 0
      },
      "text/plain": [
       "Communities progress:   0%|          | 0/3 [00:00<?, ?it/s]"
      ]
     },
     "metadata": {},
     "output_type": "display_data"
    },
    {
     "data": {
      "application/vnd.jupyter.widget-view+json": {
       "model_id": "d0906ec8c0104cc891fe6a0c3a5da7e7",
       "version_major": 2,
       "version_minor": 0
      },
      "text/plain": [
       "Communities progress:   0%|          | 0/3 [00:00<?, ?it/s]"
      ]
     },
     "metadata": {},
     "output_type": "display_data"
    },
    {
     "data": {
      "application/vnd.jupyter.widget-view+json": {
       "model_id": "c7b51aba165843adacdad118afc98ad0",
       "version_major": 2,
       "version_minor": 0
      },
      "text/plain": [
       "Algorithm Progress:   0%|          | 0/4 [00:00<?, ?it/s]"
      ]
     },
     "metadata": {},
     "output_type": "display_data"
    },
    {
     "data": {
      "application/vnd.jupyter.widget-view+json": {
       "model_id": "b7e76533ac5749479027f28cde4ee7a8",
       "version_major": 2,
       "version_minor": 0
      },
      "text/plain": [
       "Communities progress:   0%|          | 0/2 [00:00<?, ?it/s]"
      ]
     },
     "metadata": {},
     "output_type": "display_data"
    },
    {
     "data": {
      "application/vnd.jupyter.widget-view+json": {
       "model_id": "ea6a6ff440d84ade96732c7e292ef6c2",
       "version_major": 2,
       "version_minor": 0
      },
      "text/plain": [
       "Communities progress:   0%|          | 0/2 [00:00<?, ?it/s]"
      ]
     },
     "metadata": {},
     "output_type": "display_data"
    },
    {
     "data": {
      "application/vnd.jupyter.widget-view+json": {
       "model_id": "3182bc171df1490cbb8311ad5ec16891",
       "version_major": 2,
       "version_minor": 0
      },
      "text/plain": [
       "Communities progress:   0%|          | 0/2 [00:00<?, ?it/s]"
      ]
     },
     "metadata": {},
     "output_type": "display_data"
    },
    {
     "data": {
      "application/vnd.jupyter.widget-view+json": {
       "model_id": "e6571eee72be40599612675dc6f7034a",
       "version_major": 2,
       "version_minor": 0
      },
      "text/plain": [
       "Communities progress:   0%|          | 0/2 [00:00<?, ?it/s]"
      ]
     },
     "metadata": {},
     "output_type": "display_data"
    },
    {
     "data": {
      "application/vnd.jupyter.widget-view+json": {
       "model_id": "7233fe0d925e48ed95c43e33de335dd1",
       "version_major": 2,
       "version_minor": 0
      },
      "text/plain": [
       "Algorithm Progress:   0%|          | 0/4 [00:00<?, ?it/s]"
      ]
     },
     "metadata": {},
     "output_type": "display_data"
    },
    {
     "data": {
      "application/vnd.jupyter.widget-view+json": {
       "model_id": "ac44dc797d6e4239b30462d83f21d430",
       "version_major": 2,
       "version_minor": 0
      },
      "text/plain": [
       "Communities progress:   0%|          | 0/437 [00:00<?, ?it/s]"
      ]
     },
     "metadata": {},
     "output_type": "display_data"
    },
    {
     "data": {
      "application/vnd.jupyter.widget-view+json": {
       "model_id": "5b62ee6923134a6d8d930518325f9287",
       "version_major": 2,
       "version_minor": 0
      },
      "text/plain": [
       "Communities progress:   0%|          | 0/427 [00:00<?, ?it/s]"
      ]
     },
     "metadata": {},
     "output_type": "display_data"
    },
    {
     "data": {
      "application/vnd.jupyter.widget-view+json": {
       "model_id": "174a37f39225498c9ff03b7a248adf0c",
       "version_major": 2,
       "version_minor": 0
      },
      "text/plain": [
       "Communities progress:   0%|          | 0/452 [00:00<?, ?it/s]"
      ]
     },
     "metadata": {},
     "output_type": "display_data"
    },
    {
     "data": {
      "application/vnd.jupyter.widget-view+json": {
       "model_id": "cc4e55250e2a49fca5f81e4b90f7799e",
       "version_major": 2,
       "version_minor": 0
      },
      "text/plain": [
       "Communities progress:   0%|          | 0/449 [00:00<?, ?it/s]"
      ]
     },
     "metadata": {},
     "output_type": "display_data"
    },
    {
     "data": {
      "application/vnd.jupyter.widget-view+json": {
       "model_id": "0acb322f7427451599443d946550b2ee",
       "version_major": 2,
       "version_minor": 0
      },
      "text/plain": [
       "Similarity Metric Progress:   0%|          | 0/4 [00:00<?, ?it/s]"
      ]
     },
     "metadata": {},
     "output_type": "display_data"
    },
    {
     "data": {
      "application/vnd.jupyter.widget-view+json": {
       "model_id": "c25aaa2ca47b4659a83527a30f3273ad",
       "version_major": 2,
       "version_minor": 0
      },
      "text/plain": [
       "Community Detector Progress:   0%|          | 0/4 [00:00<?, ?it/s]"
      ]
     },
     "metadata": {},
     "output_type": "display_data"
    },
    {
     "data": {
      "application/vnd.jupyter.widget-view+json": {
       "model_id": "033c7cd2f1724366ab05db3f0973a513",
       "version_major": 2,
       "version_minor": 0
      },
      "text/plain": [
       "Algorithm Progress:   0%|          | 0/4 [00:00<?, ?it/s]"
      ]
     },
     "metadata": {},
     "output_type": "display_data"
    },
    {
     "data": {
      "application/vnd.jupyter.widget-view+json": {
       "model_id": "445f6ff0eaa7411bbdb6b9782989c302",
       "version_major": 2,
       "version_minor": 0
      },
      "text/plain": [
       "Algorithm Progress:   0%|          | 0/4 [00:00<?, ?it/s]"
      ]
     },
     "metadata": {},
     "output_type": "display_data"
    },
    {
     "data": {
      "application/vnd.jupyter.widget-view+json": {
       "model_id": "34a6b114ae33495caf98de6601f2de8a",
       "version_major": 2,
       "version_minor": 0
      },
      "text/plain": [
       "Communities progress:   0%|          | 0/3 [00:00<?, ?it/s]"
      ]
     },
     "metadata": {},
     "output_type": "display_data"
    },
    {
     "data": {
      "application/vnd.jupyter.widget-view+json": {
       "model_id": "81afb2019bbd4acdbec7132ac5f29581",
       "version_major": 2,
       "version_minor": 0
      },
      "text/plain": [
       "Communities progress:   0%|          | 0/3 [00:00<?, ?it/s]"
      ]
     },
     "metadata": {},
     "output_type": "display_data"
    },
    {
     "data": {
      "application/vnd.jupyter.widget-view+json": {
       "model_id": "32dd3d74a9a24624b0da9376fc34c6f2",
       "version_major": 2,
       "version_minor": 0
      },
      "text/plain": [
       "Communities progress:   0%|          | 0/3 [00:00<?, ?it/s]"
      ]
     },
     "metadata": {},
     "output_type": "display_data"
    },
    {
     "data": {
      "application/vnd.jupyter.widget-view+json": {
       "model_id": "db5af24119294f1b8f8ab3b773715a1f",
       "version_major": 2,
       "version_minor": 0
      },
      "text/plain": [
       "Communities progress:   0%|          | 0/3 [00:00<?, ?it/s]"
      ]
     },
     "metadata": {},
     "output_type": "display_data"
    },
    {
     "data": {
      "application/vnd.jupyter.widget-view+json": {
       "model_id": "b3ec739486bd497091d00c76ef6d03eb",
       "version_major": 2,
       "version_minor": 0
      },
      "text/plain": [
       "Algorithm Progress:   0%|          | 0/4 [00:00<?, ?it/s]"
      ]
     },
     "metadata": {},
     "output_type": "display_data"
    },
    {
     "data": {
      "application/vnd.jupyter.widget-view+json": {
       "model_id": "7a9bebee80464fa7a1b8f1f4ec590d50",
       "version_major": 2,
       "version_minor": 0
      },
      "text/plain": [
       "Communities progress:   0%|          | 0/2 [00:00<?, ?it/s]"
      ]
     },
     "metadata": {},
     "output_type": "display_data"
    },
    {
     "data": {
      "application/vnd.jupyter.widget-view+json": {
       "model_id": "7a67d38cbd1245559ada710ede15c2e2",
       "version_major": 2,
       "version_minor": 0
      },
      "text/plain": [
       "Communities progress:   0%|          | 0/2 [00:00<?, ?it/s]"
      ]
     },
     "metadata": {},
     "output_type": "display_data"
    },
    {
     "data": {
      "application/vnd.jupyter.widget-view+json": {
       "model_id": "cd670eba0d4c4bb7be94876728f95cd0",
       "version_major": 2,
       "version_minor": 0
      },
      "text/plain": [
       "Communities progress:   0%|          | 0/2 [00:00<?, ?it/s]"
      ]
     },
     "metadata": {},
     "output_type": "display_data"
    },
    {
     "data": {
      "application/vnd.jupyter.widget-view+json": {
       "model_id": "bce0ef9e2c964541a97719586a34826c",
       "version_major": 2,
       "version_minor": 0
      },
      "text/plain": [
       "Communities progress:   0%|          | 0/2 [00:00<?, ?it/s]"
      ]
     },
     "metadata": {},
     "output_type": "display_data"
    },
    {
     "data": {
      "application/vnd.jupyter.widget-view+json": {
       "model_id": "a840ec66be6546a19ac2cf3b9468411e",
       "version_major": 2,
       "version_minor": 0
      },
      "text/plain": [
       "Algorithm Progress:   0%|          | 0/4 [00:00<?, ?it/s]"
      ]
     },
     "metadata": {},
     "output_type": "display_data"
    },
    {
     "data": {
      "application/vnd.jupyter.widget-view+json": {
       "model_id": "daf3aee818c8461b9de441ad11727ac5",
       "version_major": 2,
       "version_minor": 0
      },
      "text/plain": [
       "Communities progress:   0%|          | 0/456 [00:00<?, ?it/s]"
      ]
     },
     "metadata": {},
     "output_type": "display_data"
    },
    {
     "data": {
      "application/vnd.jupyter.widget-view+json": {
       "model_id": "bf37070c8b464be8ae7fd58c71afa5f7",
       "version_major": 2,
       "version_minor": 0
      },
      "text/plain": [
       "Communities progress:   0%|          | 0/444 [00:00<?, ?it/s]"
      ]
     },
     "metadata": {},
     "output_type": "display_data"
    },
    {
     "data": {
      "application/vnd.jupyter.widget-view+json": {
       "model_id": "c15653ecf1e94abfab51d7c908f10bb5",
       "version_major": 2,
       "version_minor": 0
      },
      "text/plain": [
       "Communities progress:   0%|          | 0/449 [00:00<?, ?it/s]"
      ]
     },
     "metadata": {},
     "output_type": "display_data"
    },
    {
     "data": {
      "application/vnd.jupyter.widget-view+json": {
       "model_id": "0b6911f489084792b3ee46fd67f8afef",
       "version_major": 2,
       "version_minor": 0
      },
      "text/plain": [
       "Communities progress:   0%|          | 0/436 [00:00<?, ?it/s]"
      ]
     },
     "metadata": {},
     "output_type": "display_data"
    },
    {
     "data": {
      "application/vnd.jupyter.widget-view+json": {
       "model_id": "44294580ab8a4cb6ba229f0caa90c457",
       "version_major": 2,
       "version_minor": 0
      },
      "text/plain": [
       "Community Detector Progress:   0%|          | 0/4 [00:00<?, ?it/s]"
      ]
     },
     "metadata": {},
     "output_type": "display_data"
    },
    {
     "data": {
      "application/vnd.jupyter.widget-view+json": {
       "model_id": "1343f2bc4247472c84bd769d0e9c51ac",
       "version_major": 2,
       "version_minor": 0
      },
      "text/plain": [
       "Algorithm Progress:   0%|          | 0/4 [00:00<?, ?it/s]"
      ]
     },
     "metadata": {},
     "output_type": "display_data"
    },
    {
     "data": {
      "application/vnd.jupyter.widget-view+json": {
       "model_id": "cc03282f13d549f0b7ea36091607f6dd",
       "version_major": 2,
       "version_minor": 0
      },
      "text/plain": [
       "Algorithm Progress:   0%|          | 0/4 [00:00<?, ?it/s]"
      ]
     },
     "metadata": {},
     "output_type": "display_data"
    },
    {
     "data": {
      "application/vnd.jupyter.widget-view+json": {
       "model_id": "8822c932c4b84e779af4ba12856b57c6",
       "version_major": 2,
       "version_minor": 0
      },
      "text/plain": [
       "Communities progress:   0%|          | 0/3 [00:00<?, ?it/s]"
      ]
     },
     "metadata": {},
     "output_type": "display_data"
    },
    {
     "data": {
      "application/vnd.jupyter.widget-view+json": {
       "model_id": "1a4473346d33488ea238df9ffbdb8d88",
       "version_major": 2,
       "version_minor": 0
      },
      "text/plain": [
       "Communities progress:   0%|          | 0/4 [00:00<?, ?it/s]"
      ]
     },
     "metadata": {},
     "output_type": "display_data"
    },
    {
     "data": {
      "application/vnd.jupyter.widget-view+json": {
       "model_id": "f1221d4dba9f4e2d8408aabfbcbb514a",
       "version_major": 2,
       "version_minor": 0
      },
      "text/plain": [
       "Communities progress:   0%|          | 0/3 [00:00<?, ?it/s]"
      ]
     },
     "metadata": {},
     "output_type": "display_data"
    },
    {
     "data": {
      "application/vnd.jupyter.widget-view+json": {
       "model_id": "11c43651134a45a4842112037a7b5035",
       "version_major": 2,
       "version_minor": 0
      },
      "text/plain": [
       "Communities progress:   0%|          | 0/3 [00:00<?, ?it/s]"
      ]
     },
     "metadata": {},
     "output_type": "display_data"
    },
    {
     "data": {
      "application/vnd.jupyter.widget-view+json": {
       "model_id": "2ec0b16e97c0494faa38d1675ae24aa2",
       "version_major": 2,
       "version_minor": 0
      },
      "text/plain": [
       "Algorithm Progress:   0%|          | 0/4 [00:00<?, ?it/s]"
      ]
     },
     "metadata": {},
     "output_type": "display_data"
    },
    {
     "data": {
      "application/vnd.jupyter.widget-view+json": {
       "model_id": "3113e92ff27f4745ba60ceaa7eb50171",
       "version_major": 2,
       "version_minor": 0
      },
      "text/plain": [
       "Communities progress:   0%|          | 0/2 [00:00<?, ?it/s]"
      ]
     },
     "metadata": {},
     "output_type": "display_data"
    },
    {
     "data": {
      "application/vnd.jupyter.widget-view+json": {
       "model_id": "15d3847f849b49fd99505b75996888c9",
       "version_major": 2,
       "version_minor": 0
      },
      "text/plain": [
       "Communities progress:   0%|          | 0/2 [00:00<?, ?it/s]"
      ]
     },
     "metadata": {},
     "output_type": "display_data"
    },
    {
     "data": {
      "application/vnd.jupyter.widget-view+json": {
       "model_id": "32bc88f8cc664fdea56e4725d6b00889",
       "version_major": 2,
       "version_minor": 0
      },
      "text/plain": [
       "Communities progress:   0%|          | 0/2 [00:00<?, ?it/s]"
      ]
     },
     "metadata": {},
     "output_type": "display_data"
    },
    {
     "data": {
      "application/vnd.jupyter.widget-view+json": {
       "model_id": "3f5fbde042fc4ed49b59edb4322cb1f9",
       "version_major": 2,
       "version_minor": 0
      },
      "text/plain": [
       "Communities progress:   0%|          | 0/2 [00:00<?, ?it/s]"
      ]
     },
     "metadata": {},
     "output_type": "display_data"
    },
    {
     "data": {
      "application/vnd.jupyter.widget-view+json": {
       "model_id": "b3d0e8c5196a43eda19ba67c4a577179",
       "version_major": 2,
       "version_minor": 0
      },
      "text/plain": [
       "Algorithm Progress:   0%|          | 0/4 [00:00<?, ?it/s]"
      ]
     },
     "metadata": {},
     "output_type": "display_data"
    },
    {
     "data": {
      "application/vnd.jupyter.widget-view+json": {
       "model_id": "0d674524984e47fab73136718fb73efd",
       "version_major": 2,
       "version_minor": 0
      },
      "text/plain": [
       "Communities progress:   0%|          | 0/73 [00:00<?, ?it/s]"
      ]
     },
     "metadata": {},
     "output_type": "display_data"
    },
    {
     "data": {
      "application/vnd.jupyter.widget-view+json": {
       "model_id": "1b4e7dd5038143328d62dd6e29348ac8",
       "version_major": 2,
       "version_minor": 0
      },
      "text/plain": [
       "Communities progress:   0%|          | 0/73 [00:00<?, ?it/s]"
      ]
     },
     "metadata": {},
     "output_type": "display_data"
    },
    {
     "data": {
      "application/vnd.jupyter.widget-view+json": {
       "model_id": "696e74414e55471696f542ab23ca8793",
       "version_major": 2,
       "version_minor": 0
      },
      "text/plain": [
       "Communities progress:   0%|          | 0/76 [00:00<?, ?it/s]"
      ]
     },
     "metadata": {},
     "output_type": "display_data"
    },
    {
     "data": {
      "application/vnd.jupyter.widget-view+json": {
       "model_id": "05062124bf13428396d0d5f4dbb81694",
       "version_major": 2,
       "version_minor": 0
      },
      "text/plain": [
       "Communities progress:   0%|          | 0/79 [00:00<?, ?it/s]"
      ]
     },
     "metadata": {},
     "output_type": "display_data"
    },
    {
     "data": {
      "application/vnd.jupyter.widget-view+json": {
       "model_id": "0c5ccab09c9f435da7bf13068c8721eb",
       "version_major": 2,
       "version_minor": 0
      },
      "text/plain": [
       "Community Detector Progress:   0%|          | 0/4 [00:00<?, ?it/s]"
      ]
     },
     "metadata": {},
     "output_type": "display_data"
    },
    {
     "data": {
      "application/vnd.jupyter.widget-view+json": {
       "model_id": "c2e074487e974261bcd4162f4048947c",
       "version_major": 2,
       "version_minor": 0
      },
      "text/plain": [
       "Algorithm Progress:   0%|          | 0/4 [00:00<?, ?it/s]"
      ]
     },
     "metadata": {},
     "output_type": "display_data"
    },
    {
     "data": {
      "application/vnd.jupyter.widget-view+json": {
       "model_id": "cdae4914c2b442329aca0d20b56c0529",
       "version_major": 2,
       "version_minor": 0
      },
      "text/plain": [
       "Algorithm Progress:   0%|          | 0/4 [00:00<?, ?it/s]"
      ]
     },
     "metadata": {},
     "output_type": "display_data"
    },
    {
     "data": {
      "application/vnd.jupyter.widget-view+json": {
       "model_id": "59d78d4168494c3baf4a542f97363997",
       "version_major": 2,
       "version_minor": 0
      },
      "text/plain": [
       "Communities progress:   0%|          | 0/3 [00:00<?, ?it/s]"
      ]
     },
     "metadata": {},
     "output_type": "display_data"
    },
    {
     "data": {
      "application/vnd.jupyter.widget-view+json": {
       "model_id": "44d4df5c32dc44cf89d6dbe235b20a4f",
       "version_major": 2,
       "version_minor": 0
      },
      "text/plain": [
       "Communities progress:   0%|          | 0/3 [00:00<?, ?it/s]"
      ]
     },
     "metadata": {},
     "output_type": "display_data"
    },
    {
     "data": {
      "application/vnd.jupyter.widget-view+json": {
       "model_id": "040159d0ac9349d2bf1883e89379c845",
       "version_major": 2,
       "version_minor": 0
      },
      "text/plain": [
       "Communities progress:   0%|          | 0/3 [00:00<?, ?it/s]"
      ]
     },
     "metadata": {},
     "output_type": "display_data"
    },
    {
     "data": {
      "application/vnd.jupyter.widget-view+json": {
       "model_id": "5cfa49e289db455db232a13c97a07787",
       "version_major": 2,
       "version_minor": 0
      },
      "text/plain": [
       "Communities progress:   0%|          | 0/3 [00:00<?, ?it/s]"
      ]
     },
     "metadata": {},
     "output_type": "display_data"
    },
    {
     "data": {
      "application/vnd.jupyter.widget-view+json": {
       "model_id": "4a0b5505b26a49f1af589033e4e40b30",
       "version_major": 2,
       "version_minor": 0
      },
      "text/plain": [
       "Algorithm Progress:   0%|          | 0/4 [00:00<?, ?it/s]"
      ]
     },
     "metadata": {},
     "output_type": "display_data"
    },
    {
     "data": {
      "application/vnd.jupyter.widget-view+json": {
       "model_id": "9683400397124ba98670e575cd95bd2e",
       "version_major": 2,
       "version_minor": 0
      },
      "text/plain": [
       "Communities progress:   0%|          | 0/2 [00:00<?, ?it/s]"
      ]
     },
     "metadata": {},
     "output_type": "display_data"
    },
    {
     "data": {
      "application/vnd.jupyter.widget-view+json": {
       "model_id": "77f877f0d66a4df38b7d62704b68698e",
       "version_major": 2,
       "version_minor": 0
      },
      "text/plain": [
       "Communities progress:   0%|          | 0/2 [00:00<?, ?it/s]"
      ]
     },
     "metadata": {},
     "output_type": "display_data"
    },
    {
     "data": {
      "application/vnd.jupyter.widget-view+json": {
       "model_id": "f005a284336f482796ee2b9218d1c6ab",
       "version_major": 2,
       "version_minor": 0
      },
      "text/plain": [
       "Communities progress:   0%|          | 0/2 [00:00<?, ?it/s]"
      ]
     },
     "metadata": {},
     "output_type": "display_data"
    },
    {
     "data": {
      "application/vnd.jupyter.widget-view+json": {
       "model_id": "353776fc067c4cb38851944720635a26",
       "version_major": 2,
       "version_minor": 0
      },
      "text/plain": [
       "Communities progress:   0%|          | 0/2 [00:00<?, ?it/s]"
      ]
     },
     "metadata": {},
     "output_type": "display_data"
    },
    {
     "data": {
      "application/vnd.jupyter.widget-view+json": {
       "model_id": "523bd8406d344feda1c0d94f8b79a993",
       "version_major": 2,
       "version_minor": 0
      },
      "text/plain": [
       "Algorithm Progress:   0%|          | 0/4 [00:00<?, ?it/s]"
      ]
     },
     "metadata": {},
     "output_type": "display_data"
    },
    {
     "data": {
      "application/vnd.jupyter.widget-view+json": {
       "model_id": "e204cd81a085420794c678b67289ae73",
       "version_major": 2,
       "version_minor": 0
      },
      "text/plain": [
       "Communities progress:   0%|          | 0/474 [00:00<?, ?it/s]"
      ]
     },
     "metadata": {},
     "output_type": "display_data"
    },
    {
     "data": {
      "application/vnd.jupyter.widget-view+json": {
       "model_id": "59f132150798425da7b7d13561ca4f6d",
       "version_major": 2,
       "version_minor": 0
      },
      "text/plain": [
       "Communities progress:   0%|          | 0/489 [00:00<?, ?it/s]"
      ]
     },
     "metadata": {},
     "output_type": "display_data"
    },
    {
     "data": {
      "application/vnd.jupyter.widget-view+json": {
       "model_id": "07546b51aa154ec9ad52fc1455ce6f2f",
       "version_major": 2,
       "version_minor": 0
      },
      "text/plain": [
       "Communities progress:   0%|          | 0/469 [00:00<?, ?it/s]"
      ]
     },
     "metadata": {},
     "output_type": "display_data"
    },
    {
     "data": {
      "application/vnd.jupyter.widget-view+json": {
       "model_id": "f311ceded4a54572b19505563afbd611",
       "version_major": 2,
       "version_minor": 0
      },
      "text/plain": [
       "Communities progress:   0%|          | 0/485 [00:00<?, ?it/s]"
      ]
     },
     "metadata": {},
     "output_type": "display_data"
    },
    {
     "data": {
      "application/vnd.jupyter.widget-view+json": {
       "model_id": "f4a8f3ece7144320a5e2466471c5c88f",
       "version_major": 2,
       "version_minor": 0
      },
      "text/plain": [
       "Community Detector Progress:   0%|          | 0/4 [00:00<?, ?it/s]"
      ]
     },
     "metadata": {},
     "output_type": "display_data"
    },
    {
     "data": {
      "application/vnd.jupyter.widget-view+json": {
       "model_id": "c310da78329842d9978990b048dfc6db",
       "version_major": 2,
       "version_minor": 0
      },
      "text/plain": [
       "Algorithm Progress:   0%|          | 0/4 [00:00<?, ?it/s]"
      ]
     },
     "metadata": {},
     "output_type": "display_data"
    },
    {
     "data": {
      "application/vnd.jupyter.widget-view+json": {
       "model_id": "ed65163f37874b6286c4ad2442fdfd17",
       "version_major": 2,
       "version_minor": 0
      },
      "text/plain": [
       "Algorithm Progress:   0%|          | 0/4 [00:00<?, ?it/s]"
      ]
     },
     "metadata": {},
     "output_type": "display_data"
    },
    {
     "data": {
      "application/vnd.jupyter.widget-view+json": {
       "model_id": "87c3c42b6ab945b3bc1bb6ab6352c502",
       "version_major": 2,
       "version_minor": 0
      },
      "text/plain": [
       "Communities progress:   0%|          | 0/3 [00:00<?, ?it/s]"
      ]
     },
     "metadata": {},
     "output_type": "display_data"
    },
    {
     "data": {
      "application/vnd.jupyter.widget-view+json": {
       "model_id": "c4941a687d17479a98830f7239956c23",
       "version_major": 2,
       "version_minor": 0
      },
      "text/plain": [
       "Communities progress:   0%|          | 0/3 [00:00<?, ?it/s]"
      ]
     },
     "metadata": {},
     "output_type": "display_data"
    },
    {
     "data": {
      "application/vnd.jupyter.widget-view+json": {
       "model_id": "ccd8e4ca77474857ac2be4b76db50926",
       "version_major": 2,
       "version_minor": 0
      },
      "text/plain": [
       "Communities progress:   0%|          | 0/3 [00:00<?, ?it/s]"
      ]
     },
     "metadata": {},
     "output_type": "display_data"
    },
    {
     "data": {
      "application/vnd.jupyter.widget-view+json": {
       "model_id": "e69454d9d7fe428f8077361b19f48ff1",
       "version_major": 2,
       "version_minor": 0
      },
      "text/plain": [
       "Communities progress:   0%|          | 0/3 [00:00<?, ?it/s]"
      ]
     },
     "metadata": {},
     "output_type": "display_data"
    },
    {
     "data": {
      "application/vnd.jupyter.widget-view+json": {
       "model_id": "85c1341a801b47af946f8d95fd848002",
       "version_major": 2,
       "version_minor": 0
      },
      "text/plain": [
       "Algorithm Progress:   0%|          | 0/4 [00:00<?, ?it/s]"
      ]
     },
     "metadata": {},
     "output_type": "display_data"
    },
    {
     "data": {
      "application/vnd.jupyter.widget-view+json": {
       "model_id": "77bac78220814dd0994c6135e050d3ca",
       "version_major": 2,
       "version_minor": 0
      },
      "text/plain": [
       "Communities progress:   0%|          | 0/2 [00:00<?, ?it/s]"
      ]
     },
     "metadata": {},
     "output_type": "display_data"
    },
    {
     "data": {
      "application/vnd.jupyter.widget-view+json": {
       "model_id": "a0c77ae3053c4407b73657897896e688",
       "version_major": 2,
       "version_minor": 0
      },
      "text/plain": [
       "Communities progress:   0%|          | 0/2 [00:00<?, ?it/s]"
      ]
     },
     "metadata": {},
     "output_type": "display_data"
    },
    {
     "data": {
      "application/vnd.jupyter.widget-view+json": {
       "model_id": "ac716e41082e422ca1483bf19c4fab36",
       "version_major": 2,
       "version_minor": 0
      },
      "text/plain": [
       "Communities progress:   0%|          | 0/2 [00:00<?, ?it/s]"
      ]
     },
     "metadata": {},
     "output_type": "display_data"
    },
    {
     "data": {
      "application/vnd.jupyter.widget-view+json": {
       "model_id": "2e14b02e13f84442b88d284b7b202b06",
       "version_major": 2,
       "version_minor": 0
      },
      "text/plain": [
       "Communities progress:   0%|          | 0/2 [00:00<?, ?it/s]"
      ]
     },
     "metadata": {},
     "output_type": "display_data"
    },
    {
     "data": {
      "application/vnd.jupyter.widget-view+json": {
       "model_id": "94ab306e8b784899b275f0e740fbccea",
       "version_major": 2,
       "version_minor": 0
      },
      "text/plain": [
       "Algorithm Progress:   0%|          | 0/4 [00:00<?, ?it/s]"
      ]
     },
     "metadata": {},
     "output_type": "display_data"
    },
    {
     "data": {
      "application/vnd.jupyter.widget-view+json": {
       "model_id": "9fc3e47f6e8c420290dc18f59ace2bd5",
       "version_major": 2,
       "version_minor": 0
      },
      "text/plain": [
       "Communities progress:   0%|          | 0/429 [00:00<?, ?it/s]"
      ]
     },
     "metadata": {},
     "output_type": "display_data"
    },
    {
     "data": {
      "application/vnd.jupyter.widget-view+json": {
       "model_id": "b66113711ddc4accbbae706a6d4b9d04",
       "version_major": 2,
       "version_minor": 0
      },
      "text/plain": [
       "Communities progress:   0%|          | 0/436 [00:00<?, ?it/s]"
      ]
     },
     "metadata": {},
     "output_type": "display_data"
    },
    {
     "data": {
      "application/vnd.jupyter.widget-view+json": {
       "model_id": "8b8d6986a7c64b1aa62164b1fe21d968",
       "version_major": 2,
       "version_minor": 0
      },
      "text/plain": [
       "Communities progress:   0%|          | 0/428 [00:00<?, ?it/s]"
      ]
     },
     "metadata": {},
     "output_type": "display_data"
    },
    {
     "data": {
      "application/vnd.jupyter.widget-view+json": {
       "model_id": "f7e7a05badcd441fa9a3cff98df04091",
       "version_major": 2,
       "version_minor": 0
      },
      "text/plain": [
       "Communities progress:   0%|          | 0/436 [00:00<?, ?it/s]"
      ]
     },
     "metadata": {},
     "output_type": "display_data"
    }
   ],
   "source": [
    "results = []\n",
    "problematic_execs=[]\n",
    "\n",
    "for dataset in tqdm(['ml-100k'], desc='General Progress', leave=True):\n",
    "    data = Dataset.load_builtin(dataset)\n",
    "    for test_size in tqdm([0.25, 0.1, 0.01], desc='Test Size Progress', leave=False):\n",
    "        shuffle_split = ShuffleSplit(n_splits=10, test_size=test_size)\n",
    "        split_id = 1\n",
    "        for trainset, testset in tqdm(shuffle_split.split(data), desc='Splits Progress', leave=False): \n",
    "            for similarity_metric in  tqdm(['euclidean', 'cosine', 'l1', 'l2'], desc='Similarity Metric Progress', leave=False): \n",
    "                for detector_name, community_detector in tqdm(communities_detectors.items(), desc='Community Detector Progress', leave=False):\n",
    "                    for algo_name, algo in  tqdm(algos_recommendation.items(), desc='Algorithm Progress', leave=False):            \n",
    "                        if community_detector != None:\n",
    "                            trainpd, testpd = uncouple(trainset, testset)\n",
    "                            users_id = sorted(\n",
    "                                list(\n",
    "                                    set(\n",
    "                                        trainpd['uid']\n",
    "                                        )\n",
    "                                    )\n",
    "                                )\n",
    "                            similarity_matrix = get_similarity_matrix(trainpd, index=['uid'], columns=['iid'], \n",
    "                                                                    values='rating', metric=similarity_metric)\n",
    "                            adjacency_matrix = get_adjacency_matrix(similarity_matrix, percentile=90)\n",
    "                            adjacency_matrix = pd.DataFrame(adjacency_matrix, index=users_id, columns=users_id)\n",
    "                            G = nx.from_pandas_adjacency(adjacency_matrix)\n",
    "                            coms = community_detector(G)  \n",
    "                            all_predictions = []\n",
    "                            for community in tqdm(coms.communities, desc='Communities progress', leave=False):\n",
    "                                train_community = trainpd[trainpd['uid'].isin(community)]\n",
    "                                test_community = testpd[testpd['uid'].isin([str(x) for x in community])]\n",
    "                                \n",
    "                                reader = Reader(rating_scale=(1, 5))\n",
    "                                train_surprise = Dataset.load_from_df(train_community[['uid', 'iid', 'rating']], \n",
    "                                                                        reader)\n",
    "                                train_surprise = train_surprise.build_full_trainset()\n",
    "                                test_community = test_community.astype(\n",
    "                                    {'uid':'float', 'iid':'float', 'rating':'float'\n",
    "                                     }\n",
    "                                    )\n",
    "                                test_surprise = list(test_community.itertuples(index=False, name=None))\n",
    "                                algo.fit(train_surprise)\n",
    "                                predictions = algo.test(test_surprise) \n",
    "                                all_predictions.extend(predictions)\n",
    "                                \n",
    "                            rmse_value = accuracy.rmse(all_predictions, verbose=False)\n",
    "                            mse_value = accuracy.mse(all_predictions, verbose=False)\n",
    "                            mae_value = accuracy.mae(all_predictions, verbose=False)\n",
    "                            \n",
    "                            result_dict = {\n",
    "                                'dataset': dataset,\n",
    "                                'similarity_metric': similarity_metric,\n",
    "                                'community_detector': detector_name,\n",
    "                                'algorithm_rec': algo_name,\n",
    "                                'test_size': test_size,\n",
    "                                'split_id': split_id,\n",
    "                                'rmse': rmse_value,\n",
    "                                'mse': mse_value,\n",
    "                                'mae': mae_value\n",
    "                            }\n",
    "                            results.append(result_dict)\n",
    "                        else:\n",
    "                            algo.fit(trainset)\n",
    "                            predictions = algo.test(testset)\n",
    "                            rmse_value = accuracy.rmse(predictions, verbose=False)\n",
    "                            mse_value = accuracy.mse(predictions, verbose=False)\n",
    "                            mae_value = accuracy.mae(predictions, verbose=False)\n",
    "                        \n",
    "                            result_dict = {\n",
    "                                'dataset': dataset,\n",
    "                                'similarity_metric': similarity_metric,\n",
    "                                'community_detector': detector_name,\n",
    "                                'algorithm_rec': algo_name,\n",
    "                                'test_size': test_size,\n",
    "                                'split_id': split_id,\n",
    "                                'rmse': rmse_value,\n",
    "                                'mse': mse_value,\n",
    "                                'mae': mae_value\n",
    "                            }\n",
    "                            results.append(result_dict)\n",
    "            split_id += 1\n",
    "              \n",
    "# Saving results as .csv file\n",
    "df_results = pd.DataFrame(results)\n",
    "file_name = f'results_ml100k.csv'\n",
    "notebook_dir = os.getcwd()\n",
    "outputs_dir = notebook_dir.replace('notebooks', 'outputs')\n",
    "file_path = os.path.join(outputs_dir, file_name)\n",
    "df_results.to_csv(file_path, index=False)"
   ]
  },
  {
   "cell_type": "code",
   "execution_count": null,
   "metadata": {},
   "outputs": [],
   "source": []
  }
 ],
 "metadata": {
  "kernelspec": {
   "display_name": "mscenv",
   "language": "python",
   "name": "python3"
  },
  "language_info": {
   "codemirror_mode": {
    "name": "ipython",
    "version": 3
   },
   "file_extension": ".py",
   "mimetype": "text/x-python",
   "name": "python",
   "nbconvert_exporter": "python",
   "pygments_lexer": "ipython3",
   "version": "3.9.13"
  },
  "orig_nbformat": 4,
  "vscode": {
   "interpreter": {
    "hash": "d9af17dd3974b7d3f07030b1611a67048f1f5084e02d6dc9f5527477bb4d7d2a"
   }
  }
 },
 "nbformat": 4,
 "nbformat_minor": 2
}
