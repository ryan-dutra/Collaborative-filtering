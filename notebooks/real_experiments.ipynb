{
 "cells": [
  {
   "attachments": {},
   "cell_type": "markdown",
   "metadata": {},
   "source": [
    "## CoReComm  \n",
    "`Collaborative Recommendation with Community Detection (CoReComm)`\n",
    "\n",
    "⚠️ This Jupyter notebook aims to conduct an experimental study to evaluate the performance of various collaborative filtering algorithms when combined with community detection techniques.\n",
    "The algorithms will be evaluated based on RMSE, MSE and MAE metrics and the results will be saved in `.csv` file for further analysis."
   ]
  },
  {
   "attachments": {},
   "cell_type": "markdown",
   "metadata": {},
   "source": [
    "### ⚙️ Environment settings"
   ]
  },
  {
   "cell_type": "code",
   "execution_count": null,
   "metadata": {},
   "outputs": [],
   "source": [
    "\"\"\"\n",
    "    Importing needed libs\n",
    "\"\"\""
   ]
  },
  {
   "cell_type": "code",
   "execution_count": 2,
   "metadata": {},
   "outputs": [],
   "source": [
    "import os\n",
    "import time\n",
    "import numpy as np\n",
    "import pandas as pd\n",
    "from typing import List\n",
    "from surprise import (\n",
    "    accuracy,\n",
    "    Reader,\n",
    "    Dataset,\n",
    "    CoClustering,\n",
    "    KNNBasic,\n",
    "    NMF,\n",
    "    SVD,\n",
    "    SlopeOne,\n",
    "    NormalPredictor\n",
    ")\n",
    "from surprise.model_selection.split import ShuffleSplit\n",
    "from surprise.trainset import Trainset\n",
    "import networkx as nx\n",
    "import cdlib.algorithms as cd_alg\n",
    "import karateclub as kc\n",
    "from tqdm.notebook import tqdm\n",
    "from sklearn.metrics.pairwise import pairwise_distances\n",
    "import matplotlib.pyplot as plt\n",
    "import warnings\n",
    "warnings.filterwarnings(\"ignore\")"
   ]
  },
  {
   "cell_type": "code",
   "execution_count": 3,
   "metadata": {},
   "outputs": [
    {
     "data": {
      "text/plain": [
       "'\\n    Setting up functions\\n'"
      ]
     },
     "execution_count": 3,
     "metadata": {},
     "output_type": "execute_result"
    }
   ],
   "source": [
    "\"\"\"\n",
    "    Setting up functions\n",
    "\"\"\""
   ]
  },
  {
   "cell_type": "code",
   "execution_count": 4,
   "metadata": {},
   "outputs": [],
   "source": [
    "def uncouple(train_set: Trainset, test_set: list):\n",
    "    \"\"\"\n",
    "    Description:\n",
    "        It takes in a Trainset-Surprise object and \n",
    "        a list of test set data, and returns two pandas \n",
    "        dataframes: one containing the training set \n",
    "        data, and the other containing the test set \n",
    "        data.\n",
    "    Input: \n",
    "        train_set: a Trainset object containing the \n",
    "        training set data. \n",
    "        test_set: a list containing the test set data\n",
    "    Output:\n",
    "        df_train: a pandas dataframe containing the \n",
    "        training set data, with columns 'uid', 'iid' \n",
    "        and 'rating'\n",
    "        df_test: a pandas dataframe containing the test \n",
    "        set data, with columns 'uid', 'iid', and 'rating'\n",
    "    \"\"\"\n",
    "    iterator = train_set.all_ratings()\n",
    "    df_train = pd.DataFrame(train_set.all_ratings(), columns=['uid', 'iid', 'rating'])\n",
    "    df_test = pd.DataFrame.from_records(test_set, columns = ['uid', 'iid', 'rating'])\n",
    "    \n",
    "    return df_train, df_test\n",
    "\n",
    "\n",
    "def communitarian_recommendation_graph(\n",
    "        n_user=100,\n",
    "        n_comm=10,\n",
    "        n_item=100,\n",
    "        n_cat=10,\n",
    "        like_prob=.4,\n",
    "        like_strength=.5,\n",
    "        debug=False,\n",
    "    ):\n",
    "\n",
    "    user_comm_gt = np.random.choice(n_comm, n_user)\n",
    "    user_comm_gt.sort()\n",
    "    bincount_user = np.bincount(user_comm_gt, minlength=n_comm)\n",
    "\n",
    "    if debug:\n",
    "        display('user', user_comm_gt, bincount_user)\n",
    "\n",
    "    item_cat_gt = np.random.choice(n_cat, n_item)\n",
    "    item_cat_gt.sort()\n",
    "    bincount_item = np.bincount(item_cat_gt, minlength=n_cat)\n",
    "\n",
    "    if debug:\n",
    "        display('item', item_cat_gt, bincount_item)\n",
    "\n",
    "    L = np.random.choice(2, (n_comm, n_cat), p=[1-like_prob, like_prob])\n",
    "\n",
    "    L_prime = like_strength * L + (1-like_strength)/2\n",
    "\n",
    "    P = np.block([\n",
    "        [ np.zeros((n_comm,n_comm)) , L_prime                 ],\n",
    "        [ L_prime.T                 , np.zeros((n_cat,n_cat)) ]\n",
    "    ])\n",
    "\n",
    "    if debug:\n",
    "        display('like', L, L_prime, P)\n",
    "\n",
    "    sbg = nx.stochastic_block_model(\n",
    "        np.hstack((bincount_user, bincount_item)),\n",
    "        P\n",
    "    )\n",
    "\n",
    "    if debug:\n",
    "        try:\n",
    "            nx.draw_networkx(\n",
    "                sbg,\n",
    "                nx.bipartite_layout(sbg, nx.bipartite.sets(sbg)[0]),\n",
    "                node_color=np.hstack((user_comm_gt, item_cat_gt))\n",
    "            )\n",
    "        except nx.AmbiguousSolution as e:\n",
    "            print(e)            \n",
    "\n",
    "        plt.show()\n",
    "\n",
    "    for user, item, data in sbg.edges(data=True):\n",
    "        data['weight'] = np.random.randint(1,4) + 2*L[user_comm_gt[user], item_cat_gt[item-n_user]]\n",
    "\n",
    "    if debug:\n",
    "        display(np.mean([w['weight'] for user, item, w in sbg.edges(data=True) if L[user_comm_gt[min(user, item)], item_cat_gt[max(user, item)-n_user]]]))\n",
    "        display(np.mean([w['weight'] for user, item, w in sbg.edges(data=True) if not L[user_comm_gt[min(user, item)], item_cat_gt[max(user, item)-n_user]]]))\n",
    "        \n",
    "    return sbg, user_comm_gt, item_cat_gt\n",
    "\n",
    "\n",
    "def wf(G, u, v):\n",
    "    w = 0    \n",
    "    for nbr in set(G[u]) & set(G[v]):\n",
    "        w += (G[u][nbr]['weight'] - G[v][nbr]['weight']) ** 2\n",
    "    return 1/(1 + w)\n",
    "\n",
    "\n",
    "def internal_density(graph , community):\n",
    "    \"\"\"\n",
    "    Calculates the internal density of a community in a graph.\n",
    "    :param graph: The input graph.\n",
    "    :type graph: NetworkX graph object.\n",
    "    :param community: The community of interest.\n",
    "    :type community: List of nodes.\n",
    "\n",
    "    :return: The internal density of the community.\n",
    "    :rtype: float between 0 and 1.\n",
    "    \"\"\"\n",
    "    num_edges = 0\n",
    "    num_nodes = len(community)\n",
    "    for u, v in graph.edges(community):\n",
    "        num_edges += 1\n",
    "    max_edges = num_nodes * (num_nodes - 1) / 2\n",
    "    if max_edges > 0:\n",
    "        return num_edges / max_edges\n",
    "    else:\n",
    "        return 0.0\n"
   ]
  },
  {
   "cell_type": "code",
   "execution_count": 5,
   "metadata": {},
   "outputs": [
    {
     "data": {
      "text/plain": [
       "'\\n    Setting up experiment algorithms \\n'"
      ]
     },
     "execution_count": 5,
     "metadata": {},
     "output_type": "execute_result"
    }
   ],
   "source": [
    "\"\"\"\n",
    "    Setting up experiment algorithms \n",
    "\"\"\""
   ]
  },
  {
   "cell_type": "code",
   "execution_count": 6,
   "metadata": {},
   "outputs": [],
   "source": [
    "algos_recommendation = {\n",
    "    'NormalPredictor': NormalPredictor(),\n",
    "    'SVD': SVD(verbose=False),\n",
    "    'k-NN': KNNBasic(verbose=False), \n",
    "    'NMF': NMF(verbose=False), \n",
    "    'Co-Clustering': CoClustering(verbose=False),\n",
    "    'SlopeOne': SlopeOne()\n",
    "}\n",
    "\n",
    "communities_detectors = {\n",
    "    'Not-Applicable': None,\n",
    "    'Louvain': nx.community.louvain_communities,\n",
    "    'Paris': cd_alg.paris\n",
    "}"
   ]
  },
  {
   "attachments": {},
   "cell_type": "markdown",
   "metadata": {},
   "source": [
    "### 🖥️ Getting data"
   ]
  },
  {
   "cell_type": "code",
   "execution_count": 8,
   "metadata": {},
   "outputs": [],
   "source": [
    "dataset = Dataset.load_builtin('ml-100k')"
   ]
  },
  {
   "cell_type": "code",
   "execution_count": 9,
   "metadata": {},
   "outputs": [
    {
     "data": {
      "text/html": [
       "<div>\n",
       "<style scoped>\n",
       "    .dataframe tbody tr th:only-of-type {\n",
       "        vertical-align: middle;\n",
       "    }\n",
       "\n",
       "    .dataframe tbody tr th {\n",
       "        vertical-align: top;\n",
       "    }\n",
       "\n",
       "    .dataframe thead th {\n",
       "        text-align: right;\n",
       "    }\n",
       "</style>\n",
       "<table border=\"1\" class=\"dataframe\">\n",
       "  <thead>\n",
       "    <tr style=\"text-align: right;\">\n",
       "      <th></th>\n",
       "      <th># Users</th>\n",
       "      <th># Itens</th>\n",
       "      <th># Ratings</th>\n",
       "    </tr>\n",
       "  </thead>\n",
       "  <tbody>\n",
       "    <tr>\n",
       "      <th>0</th>\n",
       "      <td>943</td>\n",
       "      <td>1682</td>\n",
       "      <td>100000</td>\n",
       "    </tr>\n",
       "  </tbody>\n",
       "</table>\n",
       "</div>"
      ],
      "text/plain": [
       "   # Users  # Itens  # Ratings\n",
       "0      943     1682     100000"
      ]
     },
     "execution_count": 9,
     "metadata": {},
     "output_type": "execute_result"
    }
   ],
   "source": [
    "pd.DataFrame({'# Users': [len(set([user_id for (user_id, _, _, _) in dataset.raw_ratings]))],\n",
    "              '# Itens': [len(set([item_id for (_, item_id, _, _) in dataset.raw_ratings]))],\n",
    "              '# Ratings': [len(dataset.raw_ratings)]\n",
    "              }\n",
    "             )"
   ]
  },
  {
   "attachments": {},
   "cell_type": "markdown",
   "metadata": {},
   "source": [
    "### 🏃 Running experiment"
   ]
  },
  {
   "cell_type": "code",
   "execution_count": 11,
   "metadata": {},
   "outputs": [
    {
     "data": {
      "application/vnd.jupyter.widget-view+json": {
       "model_id": "e28fdfd8459e4e6b84902067c5187fc1",
       "version_major": 2,
       "version_minor": 0
      },
      "text/plain": [
       "📊 Test Size Progress:   0%|          | 0/3 [00:00<?, ?it/s]"
      ]
     },
     "metadata": {},
     "output_type": "display_data"
    },
    {
     "data": {
      "application/vnd.jupyter.widget-view+json": {
       "model_id": "e8bb194ea5ce40e2b2f07b6ec464bbbd",
       "version_major": 2,
       "version_minor": 0
      },
      "text/plain": [
       "➗ Splits Progress: 0it [00:00, ?it/s]"
      ]
     },
     "metadata": {},
     "output_type": "display_data"
    },
    {
     "data": {
      "application/vnd.jupyter.widget-view+json": {
       "model_id": "184f2d72788a433ea29a499b184adf1f",
       "version_major": 2,
       "version_minor": 0
      },
      "text/plain": [
       "🕸️ Community Detector Progress:   0%|          | 0/3 [00:00<?, ?it/s]"
      ]
     },
     "metadata": {},
     "output_type": "display_data"
    },
    {
     "data": {
      "application/vnd.jupyter.widget-view+json": {
       "model_id": "efa45760c655491283a2a46ac97fb54c",
       "version_major": 2,
       "version_minor": 0
      },
      "text/plain": [
       "👾 Algorithm Progress:   0%|          | 0/6 [00:00<?, ?it/s]"
      ]
     },
     "metadata": {},
     "output_type": "display_data"
    },
    {
     "data": {
      "application/vnd.jupyter.widget-view+json": {
       "model_id": "b54c7d1475414fcabd13fe17b3194003",
       "version_major": 2,
       "version_minor": 0
      },
      "text/plain": [
       "👾 Algorithm Progress:   0%|          | 0/6 [00:00<?, ?it/s]"
      ]
     },
     "metadata": {},
     "output_type": "display_data"
    },
    {
     "data": {
      "application/vnd.jupyter.widget-view+json": {
       "model_id": "e90ce10d02b444de8e1d9922b18ae7b5",
       "version_major": 2,
       "version_minor": 0
      },
      "text/plain": [
       "👾 Algorithm Progress:   0%|          | 0/6 [00:00<?, ?it/s]"
      ]
     },
     "metadata": {},
     "output_type": "display_data"
    },
    {
     "data": {
      "application/vnd.jupyter.widget-view+json": {
       "model_id": "d253a546fc614b3ebf00bbc4520f31d6",
       "version_major": 2,
       "version_minor": 0
      },
      "text/plain": [
       "🕸️ Community Detector Progress:   0%|          | 0/3 [00:00<?, ?it/s]"
      ]
     },
     "metadata": {},
     "output_type": "display_data"
    },
    {
     "data": {
      "application/vnd.jupyter.widget-view+json": {
       "model_id": "544042acbac443baad7dc24252bbbafc",
       "version_major": 2,
       "version_minor": 0
      },
      "text/plain": [
       "👾 Algorithm Progress:   0%|          | 0/6 [00:00<?, ?it/s]"
      ]
     },
     "metadata": {},
     "output_type": "display_data"
    },
    {
     "data": {
      "application/vnd.jupyter.widget-view+json": {
       "model_id": "0d1f02219599453ba47be758c1dd8b1c",
       "version_major": 2,
       "version_minor": 0
      },
      "text/plain": [
       "👾 Algorithm Progress:   0%|          | 0/6 [00:00<?, ?it/s]"
      ]
     },
     "metadata": {},
     "output_type": "display_data"
    },
    {
     "data": {
      "application/vnd.jupyter.widget-view+json": {
       "model_id": "f447fd2604894c599f1573aedd35f85b",
       "version_major": 2,
       "version_minor": 0
      },
      "text/plain": [
       "👾 Algorithm Progress:   0%|          | 0/6 [00:00<?, ?it/s]"
      ]
     },
     "metadata": {},
     "output_type": "display_data"
    },
    {
     "data": {
      "application/vnd.jupyter.widget-view+json": {
       "model_id": "548089fa4da743838b897c796841d92a",
       "version_major": 2,
       "version_minor": 0
      },
      "text/plain": [
       "🕸️ Community Detector Progress:   0%|          | 0/3 [00:00<?, ?it/s]"
      ]
     },
     "metadata": {},
     "output_type": "display_data"
    },
    {
     "data": {
      "application/vnd.jupyter.widget-view+json": {
       "model_id": "229aff0a7e074321be5979e69ac7306d",
       "version_major": 2,
       "version_minor": 0
      },
      "text/plain": [
       "👾 Algorithm Progress:   0%|          | 0/6 [00:00<?, ?it/s]"
      ]
     },
     "metadata": {},
     "output_type": "display_data"
    },
    {
     "data": {
      "application/vnd.jupyter.widget-view+json": {
       "model_id": "f05cec391dfe4f2b80c8a3a8e46ef76c",
       "version_major": 2,
       "version_minor": 0
      },
      "text/plain": [
       "👾 Algorithm Progress:   0%|          | 0/6 [00:00<?, ?it/s]"
      ]
     },
     "metadata": {},
     "output_type": "display_data"
    },
    {
     "data": {
      "application/vnd.jupyter.widget-view+json": {
       "model_id": "931e8bdf851a48ccadf2472afb220912",
       "version_major": 2,
       "version_minor": 0
      },
      "text/plain": [
       "👾 Algorithm Progress:   0%|          | 0/6 [00:00<?, ?it/s]"
      ]
     },
     "metadata": {},
     "output_type": "display_data"
    },
    {
     "data": {
      "application/vnd.jupyter.widget-view+json": {
       "model_id": "7ab1abd0dc4a4da8aadbda09302ca2a0",
       "version_major": 2,
       "version_minor": 0
      },
      "text/plain": [
       "🕸️ Community Detector Progress:   0%|          | 0/3 [00:00<?, ?it/s]"
      ]
     },
     "metadata": {},
     "output_type": "display_data"
    },
    {
     "data": {
      "application/vnd.jupyter.widget-view+json": {
       "model_id": "d640a7c0a40248f99518ecc421d813c0",
       "version_major": 2,
       "version_minor": 0
      },
      "text/plain": [
       "👾 Algorithm Progress:   0%|          | 0/6 [00:00<?, ?it/s]"
      ]
     },
     "metadata": {},
     "output_type": "display_data"
    },
    {
     "data": {
      "application/vnd.jupyter.widget-view+json": {
       "model_id": "82b45c6fc85e4ab2bfd4dbfecbf21a30",
       "version_major": 2,
       "version_minor": 0
      },
      "text/plain": [
       "👾 Algorithm Progress:   0%|          | 0/6 [00:00<?, ?it/s]"
      ]
     },
     "metadata": {},
     "output_type": "display_data"
    },
    {
     "data": {
      "application/vnd.jupyter.widget-view+json": {
       "model_id": "98f58670b2ca4fc29d3a236279b2fdef",
       "version_major": 2,
       "version_minor": 0
      },
      "text/plain": [
       "👾 Algorithm Progress:   0%|          | 0/6 [00:00<?, ?it/s]"
      ]
     },
     "metadata": {},
     "output_type": "display_data"
    },
    {
     "data": {
      "application/vnd.jupyter.widget-view+json": {
       "model_id": "0cab9da4f3a6458eb0db8ff2d0f0bbc4",
       "version_major": 2,
       "version_minor": 0
      },
      "text/plain": [
       "🕸️ Community Detector Progress:   0%|          | 0/3 [00:00<?, ?it/s]"
      ]
     },
     "metadata": {},
     "output_type": "display_data"
    },
    {
     "data": {
      "application/vnd.jupyter.widget-view+json": {
       "model_id": "6fe266b96607415481b5163a8ff16ca9",
       "version_major": 2,
       "version_minor": 0
      },
      "text/plain": [
       "👾 Algorithm Progress:   0%|          | 0/6 [00:00<?, ?it/s]"
      ]
     },
     "metadata": {},
     "output_type": "display_data"
    },
    {
     "data": {
      "application/vnd.jupyter.widget-view+json": {
       "model_id": "cbadbebc30ea4429ba5ec9d7cda06af4",
       "version_major": 2,
       "version_minor": 0
      },
      "text/plain": [
       "👾 Algorithm Progress:   0%|          | 0/6 [00:00<?, ?it/s]"
      ]
     },
     "metadata": {},
     "output_type": "display_data"
    },
    {
     "data": {
      "application/vnd.jupyter.widget-view+json": {
       "model_id": "fda7ed6a2dc04fd59a2d557049fb2193",
       "version_major": 2,
       "version_minor": 0
      },
      "text/plain": [
       "👾 Algorithm Progress:   0%|          | 0/6 [00:00<?, ?it/s]"
      ]
     },
     "metadata": {},
     "output_type": "display_data"
    },
    {
     "data": {
      "application/vnd.jupyter.widget-view+json": {
       "model_id": "f915058bc54544d4bbe4fc6ab599747a",
       "version_major": 2,
       "version_minor": 0
      },
      "text/plain": [
       "➗ Splits Progress: 0it [00:00, ?it/s]"
      ]
     },
     "metadata": {},
     "output_type": "display_data"
    },
    {
     "data": {
      "application/vnd.jupyter.widget-view+json": {
       "model_id": "a82d58f00c024c2fac14f9d853800d3d",
       "version_major": 2,
       "version_minor": 0
      },
      "text/plain": [
       "🕸️ Community Detector Progress:   0%|          | 0/3 [00:00<?, ?it/s]"
      ]
     },
     "metadata": {},
     "output_type": "display_data"
    },
    {
     "data": {
      "application/vnd.jupyter.widget-view+json": {
       "model_id": "27619b703ff94a158b0f6551aedf5ef7",
       "version_major": 2,
       "version_minor": 0
      },
      "text/plain": [
       "👾 Algorithm Progress:   0%|          | 0/6 [00:00<?, ?it/s]"
      ]
     },
     "metadata": {},
     "output_type": "display_data"
    },
    {
     "data": {
      "application/vnd.jupyter.widget-view+json": {
       "model_id": "dc6d6db08a734f65bfcda7ebf16bad45",
       "version_major": 2,
       "version_minor": 0
      },
      "text/plain": [
       "👾 Algorithm Progress:   0%|          | 0/6 [00:00<?, ?it/s]"
      ]
     },
     "metadata": {},
     "output_type": "display_data"
    },
    {
     "data": {
      "application/vnd.jupyter.widget-view+json": {
       "model_id": "f42211db71834c3fafabdae8c120bdd5",
       "version_major": 2,
       "version_minor": 0
      },
      "text/plain": [
       "👾 Algorithm Progress:   0%|          | 0/6 [00:00<?, ?it/s]"
      ]
     },
     "metadata": {},
     "output_type": "display_data"
    },
    {
     "data": {
      "application/vnd.jupyter.widget-view+json": {
       "model_id": "58ea2f35c3f445fd9f5f93b231265ab6",
       "version_major": 2,
       "version_minor": 0
      },
      "text/plain": [
       "🕸️ Community Detector Progress:   0%|          | 0/3 [00:00<?, ?it/s]"
      ]
     },
     "metadata": {},
     "output_type": "display_data"
    },
    {
     "data": {
      "application/vnd.jupyter.widget-view+json": {
       "model_id": "2b2938b5a0414ef28f02c0bb89dd3bca",
       "version_major": 2,
       "version_minor": 0
      },
      "text/plain": [
       "👾 Algorithm Progress:   0%|          | 0/6 [00:00<?, ?it/s]"
      ]
     },
     "metadata": {},
     "output_type": "display_data"
    },
    {
     "data": {
      "application/vnd.jupyter.widget-view+json": {
       "model_id": "1e52811a68134acea0934750ef41f3d1",
       "version_major": 2,
       "version_minor": 0
      },
      "text/plain": [
       "👾 Algorithm Progress:   0%|          | 0/6 [00:00<?, ?it/s]"
      ]
     },
     "metadata": {},
     "output_type": "display_data"
    },
    {
     "data": {
      "application/vnd.jupyter.widget-view+json": {
       "model_id": "ea9ce10d6f1f4923be38ca7fa87c6afe",
       "version_major": 2,
       "version_minor": 0
      },
      "text/plain": [
       "👾 Algorithm Progress:   0%|          | 0/6 [00:00<?, ?it/s]"
      ]
     },
     "metadata": {},
     "output_type": "display_data"
    },
    {
     "data": {
      "application/vnd.jupyter.widget-view+json": {
       "model_id": "94e9361dfcb241e588fc7599442a08c9",
       "version_major": 2,
       "version_minor": 0
      },
      "text/plain": [
       "🕸️ Community Detector Progress:   0%|          | 0/3 [00:00<?, ?it/s]"
      ]
     },
     "metadata": {},
     "output_type": "display_data"
    },
    {
     "data": {
      "application/vnd.jupyter.widget-view+json": {
       "model_id": "a7626895d8034809bcc4d66de5b8a36e",
       "version_major": 2,
       "version_minor": 0
      },
      "text/plain": [
       "👾 Algorithm Progress:   0%|          | 0/6 [00:00<?, ?it/s]"
      ]
     },
     "metadata": {},
     "output_type": "display_data"
    },
    {
     "data": {
      "application/vnd.jupyter.widget-view+json": {
       "model_id": "9cec768f675b4f32a2e166bf15d27d88",
       "version_major": 2,
       "version_minor": 0
      },
      "text/plain": [
       "👾 Algorithm Progress:   0%|          | 0/6 [00:00<?, ?it/s]"
      ]
     },
     "metadata": {},
     "output_type": "display_data"
    },
    {
     "data": {
      "application/vnd.jupyter.widget-view+json": {
       "model_id": "f779c165282e4d6898ba34ba8611d124",
       "version_major": 2,
       "version_minor": 0
      },
      "text/plain": [
       "👾 Algorithm Progress:   0%|          | 0/6 [00:00<?, ?it/s]"
      ]
     },
     "metadata": {},
     "output_type": "display_data"
    },
    {
     "data": {
      "application/vnd.jupyter.widget-view+json": {
       "model_id": "c6ec4b3552e043318ea1321fc4429c01",
       "version_major": 2,
       "version_minor": 0
      },
      "text/plain": [
       "🕸️ Community Detector Progress:   0%|          | 0/3 [00:00<?, ?it/s]"
      ]
     },
     "metadata": {},
     "output_type": "display_data"
    },
    {
     "data": {
      "application/vnd.jupyter.widget-view+json": {
       "model_id": "ec3b2c1376874fd1a4394745630331d2",
       "version_major": 2,
       "version_minor": 0
      },
      "text/plain": [
       "👾 Algorithm Progress:   0%|          | 0/6 [00:00<?, ?it/s]"
      ]
     },
     "metadata": {},
     "output_type": "display_data"
    },
    {
     "data": {
      "application/vnd.jupyter.widget-view+json": {
       "model_id": "c450e463cf4f4c599de0dae50dbe1141",
       "version_major": 2,
       "version_minor": 0
      },
      "text/plain": [
       "👾 Algorithm Progress:   0%|          | 0/6 [00:00<?, ?it/s]"
      ]
     },
     "metadata": {},
     "output_type": "display_data"
    },
    {
     "data": {
      "application/vnd.jupyter.widget-view+json": {
       "model_id": "d8ad4a01158a49ffa14519c82fa342fa",
       "version_major": 2,
       "version_minor": 0
      },
      "text/plain": [
       "👾 Algorithm Progress:   0%|          | 0/6 [00:00<?, ?it/s]"
      ]
     },
     "metadata": {},
     "output_type": "display_data"
    },
    {
     "data": {
      "application/vnd.jupyter.widget-view+json": {
       "model_id": "200c733785574135bba337d0b83e954f",
       "version_major": 2,
       "version_minor": 0
      },
      "text/plain": [
       "🕸️ Community Detector Progress:   0%|          | 0/3 [00:00<?, ?it/s]"
      ]
     },
     "metadata": {},
     "output_type": "display_data"
    },
    {
     "data": {
      "application/vnd.jupyter.widget-view+json": {
       "model_id": "db880f67fd124c55b971a0ea5dad7cd5",
       "version_major": 2,
       "version_minor": 0
      },
      "text/plain": [
       "👾 Algorithm Progress:   0%|          | 0/6 [00:00<?, ?it/s]"
      ]
     },
     "metadata": {},
     "output_type": "display_data"
    },
    {
     "data": {
      "application/vnd.jupyter.widget-view+json": {
       "model_id": "0be9d1faf826432cbba85f695b053b8a",
       "version_major": 2,
       "version_minor": 0
      },
      "text/plain": [
       "👾 Algorithm Progress:   0%|          | 0/6 [00:00<?, ?it/s]"
      ]
     },
     "metadata": {},
     "output_type": "display_data"
    },
    {
     "data": {
      "application/vnd.jupyter.widget-view+json": {
       "model_id": "a41982b895144f30963bd156385b1b1d",
       "version_major": 2,
       "version_minor": 0
      },
      "text/plain": [
       "👾 Algorithm Progress:   0%|          | 0/6 [00:00<?, ?it/s]"
      ]
     },
     "metadata": {},
     "output_type": "display_data"
    },
    {
     "data": {
      "application/vnd.jupyter.widget-view+json": {
       "model_id": "30292d6c76494912bbfcbe6f2dc2fc16",
       "version_major": 2,
       "version_minor": 0
      },
      "text/plain": [
       "➗ Splits Progress: 0it [00:00, ?it/s]"
      ]
     },
     "metadata": {},
     "output_type": "display_data"
    },
    {
     "data": {
      "application/vnd.jupyter.widget-view+json": {
       "model_id": "dcdd5e8e9e424861853e2b170136d2bc",
       "version_major": 2,
       "version_minor": 0
      },
      "text/plain": [
       "🕸️ Community Detector Progress:   0%|          | 0/3 [00:00<?, ?it/s]"
      ]
     },
     "metadata": {},
     "output_type": "display_data"
    },
    {
     "data": {
      "application/vnd.jupyter.widget-view+json": {
       "model_id": "b19a81563dac44a6a041d3f36b83e1d4",
       "version_major": 2,
       "version_minor": 0
      },
      "text/plain": [
       "👾 Algorithm Progress:   0%|          | 0/6 [00:00<?, ?it/s]"
      ]
     },
     "metadata": {},
     "output_type": "display_data"
    },
    {
     "data": {
      "application/vnd.jupyter.widget-view+json": {
       "model_id": "adcba39c77d94a53963fa310f5f6bfec",
       "version_major": 2,
       "version_minor": 0
      },
      "text/plain": [
       "👾 Algorithm Progress:   0%|          | 0/6 [00:00<?, ?it/s]"
      ]
     },
     "metadata": {},
     "output_type": "display_data"
    },
    {
     "data": {
      "application/vnd.jupyter.widget-view+json": {
       "model_id": "28df217027c74702bf6d77d653dca3ab",
       "version_major": 2,
       "version_minor": 0
      },
      "text/plain": [
       "👾 Algorithm Progress:   0%|          | 0/6 [00:00<?, ?it/s]"
      ]
     },
     "metadata": {},
     "output_type": "display_data"
    },
    {
     "data": {
      "application/vnd.jupyter.widget-view+json": {
       "model_id": "c3fcee83fdea4845a624feba7077d615",
       "version_major": 2,
       "version_minor": 0
      },
      "text/plain": [
       "🕸️ Community Detector Progress:   0%|          | 0/3 [00:00<?, ?it/s]"
      ]
     },
     "metadata": {},
     "output_type": "display_data"
    },
    {
     "data": {
      "application/vnd.jupyter.widget-view+json": {
       "model_id": "badbf1621c5948f880a6f7427cfe2c90",
       "version_major": 2,
       "version_minor": 0
      },
      "text/plain": [
       "👾 Algorithm Progress:   0%|          | 0/6 [00:00<?, ?it/s]"
      ]
     },
     "metadata": {},
     "output_type": "display_data"
    },
    {
     "data": {
      "application/vnd.jupyter.widget-view+json": {
       "model_id": "04036f08956c4a3ca1b9c181b45a9f93",
       "version_major": 2,
       "version_minor": 0
      },
      "text/plain": [
       "👾 Algorithm Progress:   0%|          | 0/6 [00:00<?, ?it/s]"
      ]
     },
     "metadata": {},
     "output_type": "display_data"
    },
    {
     "data": {
      "application/vnd.jupyter.widget-view+json": {
       "model_id": "94909f2da77a4f8998b57d56803d26f1",
       "version_major": 2,
       "version_minor": 0
      },
      "text/plain": [
       "👾 Algorithm Progress:   0%|          | 0/6 [00:00<?, ?it/s]"
      ]
     },
     "metadata": {},
     "output_type": "display_data"
    },
    {
     "data": {
      "application/vnd.jupyter.widget-view+json": {
       "model_id": "625fe26aaaa1428ab545eb2859f11d98",
       "version_major": 2,
       "version_minor": 0
      },
      "text/plain": [
       "🕸️ Community Detector Progress:   0%|          | 0/3 [00:00<?, ?it/s]"
      ]
     },
     "metadata": {},
     "output_type": "display_data"
    },
    {
     "data": {
      "application/vnd.jupyter.widget-view+json": {
       "model_id": "6a83847f5aa74b47ae85052a3cc5d5ab",
       "version_major": 2,
       "version_minor": 0
      },
      "text/plain": [
       "👾 Algorithm Progress:   0%|          | 0/6 [00:00<?, ?it/s]"
      ]
     },
     "metadata": {},
     "output_type": "display_data"
    },
    {
     "data": {
      "application/vnd.jupyter.widget-view+json": {
       "model_id": "baa0fcc2cb5e47858427dee4d5d3cbc6",
       "version_major": 2,
       "version_minor": 0
      },
      "text/plain": [
       "👾 Algorithm Progress:   0%|          | 0/6 [00:00<?, ?it/s]"
      ]
     },
     "metadata": {},
     "output_type": "display_data"
    },
    {
     "data": {
      "application/vnd.jupyter.widget-view+json": {
       "model_id": "25cb9f2b7377490e863a1e0e2e7feb89",
       "version_major": 2,
       "version_minor": 0
      },
      "text/plain": [
       "👾 Algorithm Progress:   0%|          | 0/6 [00:00<?, ?it/s]"
      ]
     },
     "metadata": {},
     "output_type": "display_data"
    },
    {
     "data": {
      "application/vnd.jupyter.widget-view+json": {
       "model_id": "48647c34e9fd47b8af9160bda0e32319",
       "version_major": 2,
       "version_minor": 0
      },
      "text/plain": [
       "🕸️ Community Detector Progress:   0%|          | 0/3 [00:00<?, ?it/s]"
      ]
     },
     "metadata": {},
     "output_type": "display_data"
    },
    {
     "data": {
      "application/vnd.jupyter.widget-view+json": {
       "model_id": "f2c616871d5f4d5dbed5ec959962e403",
       "version_major": 2,
       "version_minor": 0
      },
      "text/plain": [
       "👾 Algorithm Progress:   0%|          | 0/6 [00:00<?, ?it/s]"
      ]
     },
     "metadata": {},
     "output_type": "display_data"
    },
    {
     "data": {
      "application/vnd.jupyter.widget-view+json": {
       "model_id": "45c3eec330344db19db968ff4a2758d8",
       "version_major": 2,
       "version_minor": 0
      },
      "text/plain": [
       "👾 Algorithm Progress:   0%|          | 0/6 [00:00<?, ?it/s]"
      ]
     },
     "metadata": {},
     "output_type": "display_data"
    },
    {
     "data": {
      "application/vnd.jupyter.widget-view+json": {
       "model_id": "84727ec2ff834a45ad52e1c6f4f66a61",
       "version_major": 2,
       "version_minor": 0
      },
      "text/plain": [
       "👾 Algorithm Progress:   0%|          | 0/6 [00:00<?, ?it/s]"
      ]
     },
     "metadata": {},
     "output_type": "display_data"
    },
    {
     "data": {
      "application/vnd.jupyter.widget-view+json": {
       "model_id": "3cf90dae84dd4146bdda9a81e779377b",
       "version_major": 2,
       "version_minor": 0
      },
      "text/plain": [
       "🕸️ Community Detector Progress:   0%|          | 0/3 [00:00<?, ?it/s]"
      ]
     },
     "metadata": {},
     "output_type": "display_data"
    },
    {
     "data": {
      "application/vnd.jupyter.widget-view+json": {
       "model_id": "ae27313cab754e17a803b44aee5585e0",
       "version_major": 2,
       "version_minor": 0
      },
      "text/plain": [
       "👾 Algorithm Progress:   0%|          | 0/6 [00:00<?, ?it/s]"
      ]
     },
     "metadata": {},
     "output_type": "display_data"
    },
    {
     "data": {
      "application/vnd.jupyter.widget-view+json": {
       "model_id": "b15f7b3d96f144d48d902c7474a048e1",
       "version_major": 2,
       "version_minor": 0
      },
      "text/plain": [
       "👾 Algorithm Progress:   0%|          | 0/6 [00:00<?, ?it/s]"
      ]
     },
     "metadata": {},
     "output_type": "display_data"
    },
    {
     "data": {
      "application/vnd.jupyter.widget-view+json": {
       "model_id": "be1b432067754ec494598e90a481e150",
       "version_major": 2,
       "version_minor": 0
      },
      "text/plain": [
       "👾 Algorithm Progress:   0%|          | 0/6 [00:00<?, ?it/s]"
      ]
     },
     "metadata": {},
     "output_type": "display_data"
    }
   ],
   "source": [
    "results=[]\n",
    "tracking=[]\n",
    "reader = Reader(rating_scale=(1, 5))\n",
    "\n",
    "for test_size in tqdm([0.25, 0.1, 0.01], desc='📊 Test Size Progress', leave=True):\n",
    "        shuffle_split = ShuffleSplit(n_splits=5, test_size=test_size)\n",
    "        split_id = 1\n",
    "        for trainset, testset in tqdm(shuffle_split.split(dataset), desc='➗ Splits Progress', leave=False):\n",
    "            for detector_name, community_detector in tqdm(communities_detectors.items(), desc='🕸️ Community Detector Progress', leave=False):\n",
    "                if community_detector != None:\n",
    "                    trainpd, testpd = uncouple(trainset, testset)\n",
    "                    users_id = sorted(\n",
    "                            list(\n",
    "                                set(\n",
    "                                    trainpd['uid']\n",
    "                                    )\n",
    "                                )\n",
    "                            )\n",
    "                    temp = trainpd.copy()\n",
    "                    temp.rename(columns={\n",
    "                        'uid': 'source',\n",
    "                        'iid': 'target',\n",
    "                        'rating': 'weight'\n",
    "                    }, inplace=True)\n",
    "                    crg = nx.from_pandas_edgelist(temp, source='source', target='target', edge_attr='weight')\n",
    "                    g = nx.bipartite.generic_weighted_projected_graph(crg, \n",
    "                                                users_id, wf\n",
    "                                                )\n",
    "                    if detector_name == 'Louvain':\n",
    "                        coms = community_detector(g.copy())\n",
    "                    else:\n",
    "                        coms = community_detector(g.copy()).communities\n",
    "\n",
    "                    densities = {}\n",
    "                    for i, com in enumerate(coms):\n",
    "                        density = internal_density(g, com)\n",
    "                        densities[i] = density\n",
    "                    densities = dict(sorted(densities.items(), \n",
    "                                            key=lambda x: x[1], reverse=True)\n",
    "                                        )\n",
    "                for algo_name, algo in  tqdm(algos_recommendation.items(), desc='👾 Algorithm Progress', leave=False):\n",
    "                    if community_detector == None:\n",
    "                        start_time = time.time()\n",
    "                        algo.fit(trainset)\n",
    "                        training_time = time.time() - start_time\n",
    "                        start_time = time.time()\n",
    "                        predictions = algo.test(testset)\n",
    "                        testing_time = time.time() - start_time\n",
    "                        rmse_value = accuracy.rmse(predictions, verbose=False)\n",
    "                        mse_value = accuracy.mse(predictions, verbose=False)\n",
    "                        mae_value = accuracy.mae(predictions, verbose=False)\n",
    "                        result_dict = {\n",
    "                            'community_detector': detector_name,\n",
    "                            'used_communities': np.nan,\n",
    "                            'algorithm_rec': algo_name,\n",
    "                            'test_size': test_size,\n",
    "                            'split_id': split_id,\n",
    "                            'rmse': rmse_value,\n",
    "                            'mse': mse_value,\n",
    "                            'mae': mae_value\n",
    "                            }\n",
    "                        tracking_dict = {\n",
    "                            'community_detector': detector_name,\n",
    "                            'used_communities': np.nan,\n",
    "                            'community': np.nan,\n",
    "                            'algorithm_rec': algo_name,\n",
    "                            'test_size': test_size,\n",
    "                            'split_id': split_id,\n",
    "                            'train_runtime': training_time,\n",
    "                            'test_runtime': testing_time,    \n",
    "                        }\n",
    "                        results.append(result_dict)\n",
    "                        tracking.append(tracking_dict)\n",
    "                    else:\n",
    "                        all_predictions = []\n",
    "                        for n in range(1, len(densities) + 1):\n",
    "                            most_dense_communities = list(\n",
    "                                densities.keys()\n",
    "                                )[:n]\n",
    "                            for m in most_dense_communities:\n",
    "                                community=coms[m]\n",
    "                                train_community = trainpd[trainpd['uid'].isin(community)]\n",
    "                                test_community = testpd[testpd['uid'].isin(community)]\n",
    "                                train_surprise = Dataset.load_from_df(train_community[['uid', 'iid', 'rating']], reader)\n",
    "                                train_surprise = train_surprise.build_full_trainset()\n",
    "                                test_community = test_community.astype(\n",
    "                                    {'uid':'float', 'iid':'float', 'rating':'float'}\n",
    "                                    )\n",
    "                                test_surprise = list(test_community.itertuples(index=False, name=None))\n",
    "                                \n",
    "                                start_time = time.time()\n",
    "                                algo.fit(train_surprise)\n",
    "                                training_time = time.time() - start_time\n",
    "                                start_time = time.time()\n",
    "                                predictions = algo.test(test_surprise) \n",
    "                                testing_time = time.time() - start_time\n",
    "                                all_predictions.extend(predictions)\n",
    "                                tracking_dict = {\n",
    "                                    'community_detector': detector_name,\n",
    "                                    'used_communities': n,\n",
    "                                    'community': m,\n",
    "                                    'algorithm_rec': algo_name,\n",
    "                                    'test_size': test_size,\n",
    "                                    'split_id': split_id,\n",
    "                                    'train_runtime': training_time,\n",
    "                                    'test_runtime': testing_time,    \n",
    "                                }\n",
    "                                tracking.append(tracking_dict)\n",
    "                                \n",
    "                            if len(most_dense_communities) < len(densities):\n",
    "                                train_community = trainpd[~trainpd['uid'].isin(community)]\n",
    "                                test_community = testpd[~testpd['uid'].isin(community)]\n",
    "                                train_surprise = Dataset.load_from_df(train_community[['uid', 'iid', 'rating']], reader)\n",
    "                                train_surprise = train_surprise.build_full_trainset()\n",
    "                                test_community = test_community.astype(\n",
    "                                    {'uid':'float', 'iid':'float', 'rating':'float'}\n",
    "                                    )\n",
    "                                test_surprise = list(test_community.itertuples(index=False, name=None))\n",
    "                                start_time = time.time()\n",
    "                                algo.fit(train_surprise)\n",
    "                                training_time = time.time() - start_time\n",
    "                                start_time = time.time()\n",
    "                                predictions = algo.test(test_surprise) \n",
    "                                testing_time = time.time() - start_time\n",
    "                                all_predictions.extend(predictions)\n",
    "                                tracking_dict = {\n",
    "                                    'community_detector': detector_name,\n",
    "                                    'used_communities': n,\n",
    "                                    'community': 99, # 99 means `all the others communities`\n",
    "                                    'algorithm_rec': algo_name,\n",
    "                                    'test_size': test_size,\n",
    "                                    'split_id': split_id,\n",
    "                                    'train_runtime': training_time,\n",
    "                                    'test_runtime': testing_time,    \n",
    "                                }\n",
    "                                tracking.append(tracking_dict)\n",
    "                                    \n",
    "                            rmse_value = accuracy.rmse(all_predictions, verbose=False)\n",
    "                            mse_value = accuracy.mse(all_predictions, verbose=False)\n",
    "                            mae_value = accuracy.mae(all_predictions, verbose=False)\n",
    "                            result_dict = {\n",
    "                                    'community_detector': detector_name,\n",
    "                                    'used_communities': n,  \n",
    "                                    'algorithm_rec': algo_name,\n",
    "                                    'test_size': test_size,\n",
    "                                    'split_id': split_id,\n",
    "                                    'rmse': rmse_value,\n",
    "                                    'mse': mse_value,\n",
    "                                    'mae': mae_value\n",
    "                                }\n",
    "                            results.append(result_dict)            \n",
    "            split_id += 1\n",
    "            \n",
    "            \n",
    "notebook_dir = os.getcwd()\n",
    "outputs_dir = notebook_dir.replace('notebooks', 'outputs')\n",
    "\n",
    "df_results = pd.DataFrame(results)\n",
    "file_name = f'real_results.csv'\n",
    "file_path = os.path.join(outputs_dir, file_name)\n",
    "df_results.to_csv(file_path, index=False)\n",
    "\n",
    "df_tracking = pd.DataFrame(tracking)\n",
    "file_name = f'real_tracking.csv'\n",
    "file_path = os.path.join(outputs_dir, file_name)\n",
    "df_tracking.to_csv(file_path, index=False)          "
   ]
  },
  {
   "cell_type": "code",
   "execution_count": null,
   "metadata": {},
   "outputs": [],
   "source": []
  }
 ],
 "metadata": {
  "kernelspec": {
   "display_name": "mscenv",
   "language": "python",
   "name": "python3"
  },
  "language_info": {
   "codemirror_mode": {
    "name": "ipython",
    "version": 3
   },
   "file_extension": ".py",
   "mimetype": "text/x-python",
   "name": "python",
   "nbconvert_exporter": "python",
   "pygments_lexer": "ipython3",
   "version": "3.9.13"
  },
  "orig_nbformat": 4
 },
 "nbformat": 4,
 "nbformat_minor": 2
}
