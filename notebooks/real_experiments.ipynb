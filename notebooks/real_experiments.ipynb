{
 "cells": [
  {
   "attachments": {},
   "cell_type": "markdown",
   "metadata": {},
   "source": [
    "## CoReComm  \n",
    "`Collaborative Recommendation with Community Detection (CoReComm)`\n",
    "\n",
    "⚠️ This Jupyter notebook aims to conduct an experimental study to evaluate the performance of various collaborative filtering algorithms when combined with community detection techniques.\n",
    "The algorithms will be evaluated based on RMSE, MSE and MAE metrics and the results will be saved in `.csv` file for further analysis."
   ]
  },
  {
   "attachments": {},
   "cell_type": "markdown",
   "metadata": {},
   "source": [
    "### ⚙️ Environment settings"
   ]
  },
  {
   "cell_type": "code",
   "execution_count": 18,
   "metadata": {},
   "outputs": [
    {
     "data": {
      "text/plain": [
       "'\\n    Importing needed libs\\n'"
      ]
     },
     "execution_count": 18,
     "metadata": {},
     "output_type": "execute_result"
    }
   ],
   "source": [
    "\"\"\"\n",
    "    Importing needed libs\n",
    "\"\"\""
   ]
  },
  {
   "cell_type": "code",
   "execution_count": 19,
   "metadata": {},
   "outputs": [],
   "source": [
    "import os\n",
    "import time\n",
    "import numpy as np\n",
    "import pandas as pd\n",
    "from typing import List\n",
    "from surprise import (\n",
    "    accuracy,\n",
    "    Reader,\n",
    "    Dataset,\n",
    "    CoClustering,\n",
    "    KNNBasic,\n",
    "    NMF,\n",
    "    SVD,\n",
    "    SlopeOne,\n",
    "    NormalPredictor\n",
    ")\n",
    "from surprise.model_selection.split import ShuffleSplit\n",
    "from surprise.trainset import Trainset\n",
    "import networkx as nx\n",
    "import cdlib.algorithms as cd_alg\n",
    "import karateclub as kc\n",
    "from tqdm.notebook import tqdm\n",
    "from sklearn.metrics.pairwise import pairwise_distances\n",
    "import matplotlib.pyplot as plt\n",
    "import warnings\n",
    "warnings.filterwarnings(\"ignore\")"
   ]
  },
  {
   "cell_type": "code",
   "execution_count": 20,
   "metadata": {},
   "outputs": [
    {
     "data": {
      "text/plain": [
       "'\\n    Setting up functions\\n'"
      ]
     },
     "execution_count": 20,
     "metadata": {},
     "output_type": "execute_result"
    }
   ],
   "source": [
    "\"\"\"\n",
    "    Setting up functions\n",
    "\"\"\""
   ]
  },
  {
   "cell_type": "code",
   "execution_count": 21,
   "metadata": {},
   "outputs": [],
   "source": [
    "def uncouple(train_set: Trainset, test_set: list):\n",
    "    \"\"\"\n",
    "    Description:\n",
    "        It takes in a Trainset-Surprise object and \n",
    "        a list of test set data, and returns two pandas \n",
    "        dataframes: one containing the training set \n",
    "        data, and the other containing the test set \n",
    "        data.\n",
    "    Input: \n",
    "        train_set: a Trainset object containing the \n",
    "        training set data. \n",
    "        test_set: a list containing the test set data\n",
    "    Output:\n",
    "        df_train: a pandas dataframe containing the \n",
    "        training set data, with columns 'uid', 'iid' \n",
    "        and 'rating'\n",
    "        df_test: a pandas dataframe containing the test \n",
    "        set data, with columns 'uid', 'iid', and 'rating'\n",
    "    \"\"\"\n",
    "    iterator = train_set.all_ratings()\n",
    "    df_train = pd.DataFrame(train_set.all_ratings(), columns=['uid', 'iid', 'rating'])\n",
    "    df_test = pd.DataFrame.from_records(test_set, columns = ['uid', 'iid', 'rating'])\n",
    "    \n",
    "    return df_train, df_test\n",
    "\n",
    "\n",
    "def communitarian_recommendation_graph(\n",
    "        n_user=100,\n",
    "        n_comm=10,\n",
    "        n_item=100,\n",
    "        n_cat=10,\n",
    "        like_prob=.4,\n",
    "        like_strength=.5,\n",
    "        debug=False,\n",
    "    ):\n",
    "\n",
    "    user_comm_gt = np.random.choice(n_comm, n_user)\n",
    "    user_comm_gt.sort()\n",
    "    bincount_user = np.bincount(user_comm_gt, minlength=n_comm)\n",
    "\n",
    "    if debug:\n",
    "        display('user', user_comm_gt, bincount_user)\n",
    "\n",
    "    item_cat_gt = np.random.choice(n_cat, n_item)\n",
    "    item_cat_gt.sort()\n",
    "    bincount_item = np.bincount(item_cat_gt, minlength=n_cat)\n",
    "\n",
    "    if debug:\n",
    "        display('item', item_cat_gt, bincount_item)\n",
    "\n",
    "    L = np.random.choice(2, (n_comm, n_cat), p=[1-like_prob, like_prob])\n",
    "\n",
    "    L_prime = like_strength * L + (1-like_strength)/2\n",
    "\n",
    "    P = np.block([\n",
    "        [ np.zeros((n_comm,n_comm)) , L_prime                 ],\n",
    "        [ L_prime.T                 , np.zeros((n_cat,n_cat)) ]\n",
    "    ])\n",
    "\n",
    "    if debug:\n",
    "        display('like', L, L_prime, P)\n",
    "\n",
    "    sbg = nx.stochastic_block_model(\n",
    "        np.hstack((bincount_user, bincount_item)),\n",
    "        P\n",
    "    )\n",
    "\n",
    "    if debug:\n",
    "        try:\n",
    "            nx.draw_networkx(\n",
    "                sbg,\n",
    "                nx.bipartite_layout(sbg, nx.bipartite.sets(sbg)[0]),\n",
    "                node_color=np.hstack((user_comm_gt, item_cat_gt))\n",
    "            )\n",
    "        except nx.AmbiguousSolution as e:\n",
    "            print(e)            \n",
    "\n",
    "        plt.show()\n",
    "\n",
    "    for user, item, data in sbg.edges(data=True):\n",
    "        data['weight'] = np.random.randint(1,4) + 2*L[user_comm_gt[user], item_cat_gt[item-n_user]]\n",
    "\n",
    "    if debug:\n",
    "        display(np.mean([w['weight'] for user, item, w in sbg.edges(data=True) if L[user_comm_gt[min(user, item)], item_cat_gt[max(user, item)-n_user]]]))\n",
    "        display(np.mean([w['weight'] for user, item, w in sbg.edges(data=True) if not L[user_comm_gt[min(user, item)], item_cat_gt[max(user, item)-n_user]]]))\n",
    "        \n",
    "    return sbg, user_comm_gt, item_cat_gt\n",
    "\n",
    "\n",
    "def wf(G, u, v):\n",
    "    w = 0    \n",
    "    for nbr in set(G[u]) & set(G[v]):\n",
    "        w += (G[u][nbr]['weight'] - G[v][nbr]['weight']) ** 2\n",
    "    return 1/(1 + w)\n",
    "\n",
    "\n",
    "def internal_density(graph , community):\n",
    "    \"\"\"\n",
    "    Calculates the internal density of a community in a graph.\n",
    "    :param graph: The input graph.\n",
    "    :type graph: NetworkX graph object.\n",
    "    :param community: The community of interest.\n",
    "    :type community: List of nodes.\n",
    "\n",
    "    :return: The internal density of the community.\n",
    "    :rtype: float between 0 and 1.\n",
    "    \"\"\"\n",
    "    num_edges = 0\n",
    "    num_nodes = len(community)\n",
    "    for u, v in graph.edges(community):\n",
    "        num_edges += 1\n",
    "    max_edges = num_nodes * (num_nodes - 1) / 2\n",
    "    if max_edges > 0:\n",
    "        return num_edges / max_edges\n",
    "    else:\n",
    "        return 0.0\n"
   ]
  },
  {
   "cell_type": "code",
   "execution_count": 22,
   "metadata": {},
   "outputs": [
    {
     "data": {
      "text/plain": [
       "'\\n    Setting up experiment algorithms \\n'"
      ]
     },
     "execution_count": 22,
     "metadata": {},
     "output_type": "execute_result"
    }
   ],
   "source": [
    "\"\"\"\n",
    "    Setting up experiment algorithms \n",
    "\"\"\""
   ]
  },
  {
   "cell_type": "code",
   "execution_count": 23,
   "metadata": {},
   "outputs": [],
   "source": [
    "algos_recommendation = {\n",
    "    'NormalPredictor': NormalPredictor(),\n",
    "    'SVD': SVD(verbose=False),\n",
    "    'k-NN': KNNBasic(verbose=False), \n",
    "    'NMF': NMF(verbose=False), \n",
    "    'Co-Clustering': CoClustering(verbose=False),\n",
    "    'SlopeOne': SlopeOne()\n",
    "}\n",
    "\n",
    "communities_detectors = {\n",
    "    'Not-Applicable': None,\n",
    "    'Louvain': nx.community.louvain_communities,\n",
    "    'Paris': cd_alg.paris\n",
    "}"
   ]
  },
  {
   "attachments": {},
   "cell_type": "markdown",
   "metadata": {},
   "source": [
    "### 🖥️ Getting data"
   ]
  },
  {
   "cell_type": "code",
   "execution_count": 26,
   "metadata": {},
   "outputs": [],
   "source": [
    "dataset = Dataset.load_builtin('ml-100k')"
   ]
  },
  {
   "cell_type": "code",
   "execution_count": 27,
   "metadata": {},
   "outputs": [
    {
     "data": {
      "text/html": [
       "<div>\n",
       "<style scoped>\n",
       "    .dataframe tbody tr th:only-of-type {\n",
       "        vertical-align: middle;\n",
       "    }\n",
       "\n",
       "    .dataframe tbody tr th {\n",
       "        vertical-align: top;\n",
       "    }\n",
       "\n",
       "    .dataframe thead th {\n",
       "        text-align: right;\n",
       "    }\n",
       "</style>\n",
       "<table border=\"1\" class=\"dataframe\">\n",
       "  <thead>\n",
       "    <tr style=\"text-align: right;\">\n",
       "      <th></th>\n",
       "      <th># Users</th>\n",
       "      <th># Itens</th>\n",
       "      <th># Ratings</th>\n",
       "    </tr>\n",
       "  </thead>\n",
       "  <tbody>\n",
       "    <tr>\n",
       "      <th>0</th>\n",
       "      <td>943</td>\n",
       "      <td>1682</td>\n",
       "      <td>100000</td>\n",
       "    </tr>\n",
       "  </tbody>\n",
       "</table>\n",
       "</div>"
      ],
      "text/plain": [
       "   # Users  # Itens  # Ratings\n",
       "0      943     1682     100000"
      ]
     },
     "execution_count": 27,
     "metadata": {},
     "output_type": "execute_result"
    }
   ],
   "source": [
    "pd.DataFrame({'# Users': [len(set([user_id for (user_id, _, _, _) in dataset.raw_ratings]))],\n",
    "              '# Itens': [len(set([item_id for (_, item_id, _, _) in dataset.raw_ratings]))],\n",
    "              '# Ratings': [len(dataset.raw_ratings)]\n",
    "              }\n",
    "             )"
   ]
  },
  {
   "attachments": {},
   "cell_type": "markdown",
   "metadata": {},
   "source": [
    "### 🏃 Running experiment"
   ]
  },
  {
   "cell_type": "code",
   "execution_count": 28,
   "metadata": {},
   "outputs": [],
   "source": [
    "reader = Reader(rating_scale=(1, 5))\n",
    "\n",
    "ml100k_df = pd.DataFrame(dataset.raw_ratings)[[0,1,2]].rename(columns={2:'weight'})\n",
    "ml100k_df = ml100k_df.astype(int)\n",
    "ml100k_df[[0,1]] -= ml100k_df[[0,1]].min()\n",
    "n_users = ml100k_df[0].max() + 1\n",
    "ml100k_df[1] += ml100k_df[0].max() + 1\n",
    "ml100k_df.rename(columns={0:'uid', 1:'iid', 'weight': 'rating'}, inplace=True)\n",
    "ml100k_df\n",
    "dataset = Dataset.load_from_df(ml100k_df[['uid', 'iid', 'rating']], reader)\n"
   ]
  },
  {
   "cell_type": "code",
   "execution_count": 29,
   "metadata": {},
   "outputs": [
    {
     "data": {
      "text/html": [
       "<div>\n",
       "<style scoped>\n",
       "    .dataframe tbody tr th:only-of-type {\n",
       "        vertical-align: middle;\n",
       "    }\n",
       "\n",
       "    .dataframe tbody tr th {\n",
       "        vertical-align: top;\n",
       "    }\n",
       "\n",
       "    .dataframe thead th {\n",
       "        text-align: right;\n",
       "    }\n",
       "</style>\n",
       "<table border=\"1\" class=\"dataframe\">\n",
       "  <thead>\n",
       "    <tr style=\"text-align: right;\">\n",
       "      <th></th>\n",
       "      <th># Users</th>\n",
       "      <th># Itens</th>\n",
       "      <th># Ratings</th>\n",
       "    </tr>\n",
       "  </thead>\n",
       "  <tbody>\n",
       "    <tr>\n",
       "      <th>0</th>\n",
       "      <td>943</td>\n",
       "      <td>1682</td>\n",
       "      <td>100000</td>\n",
       "    </tr>\n",
       "  </tbody>\n",
       "</table>\n",
       "</div>"
      ],
      "text/plain": [
       "   # Users  # Itens  # Ratings\n",
       "0      943     1682     100000"
      ]
     },
     "execution_count": 29,
     "metadata": {},
     "output_type": "execute_result"
    }
   ],
   "source": [
    "pd.DataFrame({'# Users': [len(set([user_id for (user_id, _, _, _) in dataset.raw_ratings]))],\n",
    "              '# Itens': [len(set([item_id for (_, item_id, _, _) in dataset.raw_ratings]))],\n",
    "              '# Ratings': [len(dataset.raw_ratings)]\n",
    "              }\n",
    "             )"
   ]
  },
  {
   "cell_type": "code",
   "execution_count": 30,
   "metadata": {},
   "outputs": [
    {
     "data": {
      "application/vnd.jupyter.widget-view+json": {
       "model_id": "1721d13693bc406fb774a978c045b2cc",
       "version_major": 2,
       "version_minor": 0
      },
      "text/plain": [
       "📊 Test Size Progress:   0%|          | 0/3 [00:00<?, ?it/s]"
      ]
     },
     "metadata": {},
     "output_type": "display_data"
    },
    {
     "data": {
      "application/vnd.jupyter.widget-view+json": {
       "model_id": "4b379e8a4eea417799ad102b65fd0088",
       "version_major": 2,
       "version_minor": 0
      },
      "text/plain": [
       "➗ Splits Progress: 0it [00:00, ?it/s]"
      ]
     },
     "metadata": {},
     "output_type": "display_data"
    },
    {
     "data": {
      "application/vnd.jupyter.widget-view+json": {
       "model_id": "f0da264c57a84b559fad672aab4e32ea",
       "version_major": 2,
       "version_minor": 0
      },
      "text/plain": [
       "🕸️ Community Detector Progress:   0%|          | 0/3 [00:00<?, ?it/s]"
      ]
     },
     "metadata": {},
     "output_type": "display_data"
    },
    {
     "data": {
      "application/vnd.jupyter.widget-view+json": {
       "model_id": "4761c6e0b4a14789ad301cf4019f1079",
       "version_major": 2,
       "version_minor": 0
      },
      "text/plain": [
       "👾 Algorithm Progress:   0%|          | 0/6 [00:00<?, ?it/s]"
      ]
     },
     "metadata": {},
     "output_type": "display_data"
    },
    {
     "data": {
      "application/vnd.jupyter.widget-view+json": {
       "model_id": "5e68d16a61c14a15a86fc7bada12ee63",
       "version_major": 2,
       "version_minor": 0
      },
      "text/plain": [
       "👾 Algorithm Progress:   0%|          | 0/6 [00:00<?, ?it/s]"
      ]
     },
     "metadata": {},
     "output_type": "display_data"
    },
    {
     "data": {
      "application/vnd.jupyter.widget-view+json": {
       "model_id": "baf219569b6a42d2a887e85d868bc548",
       "version_major": 2,
       "version_minor": 0
      },
      "text/plain": [
       "👾 Algorithm Progress:   0%|          | 0/6 [00:00<?, ?it/s]"
      ]
     },
     "metadata": {},
     "output_type": "display_data"
    },
    {
     "data": {
      "application/vnd.jupyter.widget-view+json": {
       "model_id": "1022e07b1f1548e48592b40154e3a6a7",
       "version_major": 2,
       "version_minor": 0
      },
      "text/plain": [
       "🕸️ Community Detector Progress:   0%|          | 0/3 [00:00<?, ?it/s]"
      ]
     },
     "metadata": {},
     "output_type": "display_data"
    },
    {
     "data": {
      "application/vnd.jupyter.widget-view+json": {
       "model_id": "1d924e0dc6af46d8ad713b4df716c7ca",
       "version_major": 2,
       "version_minor": 0
      },
      "text/plain": [
       "👾 Algorithm Progress:   0%|          | 0/6 [00:00<?, ?it/s]"
      ]
     },
     "metadata": {},
     "output_type": "display_data"
    },
    {
     "data": {
      "application/vnd.jupyter.widget-view+json": {
       "model_id": "a604be1e4cb9481faeda68d0b14726ae",
       "version_major": 2,
       "version_minor": 0
      },
      "text/plain": [
       "👾 Algorithm Progress:   0%|          | 0/6 [00:00<?, ?it/s]"
      ]
     },
     "metadata": {},
     "output_type": "display_data"
    },
    {
     "data": {
      "application/vnd.jupyter.widget-view+json": {
       "model_id": "496cc204636b431facdded153101970b",
       "version_major": 2,
       "version_minor": 0
      },
      "text/plain": [
       "👾 Algorithm Progress:   0%|          | 0/6 [00:00<?, ?it/s]"
      ]
     },
     "metadata": {},
     "output_type": "display_data"
    },
    {
     "data": {
      "application/vnd.jupyter.widget-view+json": {
       "model_id": "7a41d728106c47fea9d04b769aeb8540",
       "version_major": 2,
       "version_minor": 0
      },
      "text/plain": [
       "🕸️ Community Detector Progress:   0%|          | 0/3 [00:00<?, ?it/s]"
      ]
     },
     "metadata": {},
     "output_type": "display_data"
    },
    {
     "data": {
      "application/vnd.jupyter.widget-view+json": {
       "model_id": "1bdc65a5dedb4536993e9c44fd35bbbb",
       "version_major": 2,
       "version_minor": 0
      },
      "text/plain": [
       "👾 Algorithm Progress:   0%|          | 0/6 [00:00<?, ?it/s]"
      ]
     },
     "metadata": {},
     "output_type": "display_data"
    },
    {
     "data": {
      "application/vnd.jupyter.widget-view+json": {
       "model_id": "1876482106034d8f81071735a7537070",
       "version_major": 2,
       "version_minor": 0
      },
      "text/plain": [
       "👾 Algorithm Progress:   0%|          | 0/6 [00:00<?, ?it/s]"
      ]
     },
     "metadata": {},
     "output_type": "display_data"
    },
    {
     "data": {
      "application/vnd.jupyter.widget-view+json": {
       "model_id": "3a6580d3d7ef472ca65e1f76df7461e4",
       "version_major": 2,
       "version_minor": 0
      },
      "text/plain": [
       "👾 Algorithm Progress:   0%|          | 0/6 [00:00<?, ?it/s]"
      ]
     },
     "metadata": {},
     "output_type": "display_data"
    },
    {
     "data": {
      "application/vnd.jupyter.widget-view+json": {
       "model_id": "f2c1ff0359cc466593bd725bc5843a85",
       "version_major": 2,
       "version_minor": 0
      },
      "text/plain": [
       "🕸️ Community Detector Progress:   0%|          | 0/3 [00:00<?, ?it/s]"
      ]
     },
     "metadata": {},
     "output_type": "display_data"
    },
    {
     "data": {
      "application/vnd.jupyter.widget-view+json": {
       "model_id": "69ca066ac5e94ed2ae5893510001bd31",
       "version_major": 2,
       "version_minor": 0
      },
      "text/plain": [
       "👾 Algorithm Progress:   0%|          | 0/6 [00:00<?, ?it/s]"
      ]
     },
     "metadata": {},
     "output_type": "display_data"
    },
    {
     "data": {
      "application/vnd.jupyter.widget-view+json": {
       "model_id": "1f055c442c8049249eafbafe3779a264",
       "version_major": 2,
       "version_minor": 0
      },
      "text/plain": [
       "👾 Algorithm Progress:   0%|          | 0/6 [00:00<?, ?it/s]"
      ]
     },
     "metadata": {},
     "output_type": "display_data"
    },
    {
     "data": {
      "application/vnd.jupyter.widget-view+json": {
       "model_id": "cc2f93efbb7e430ab6f42313b92acdab",
       "version_major": 2,
       "version_minor": 0
      },
      "text/plain": [
       "👾 Algorithm Progress:   0%|          | 0/6 [00:00<?, ?it/s]"
      ]
     },
     "metadata": {},
     "output_type": "display_data"
    },
    {
     "data": {
      "application/vnd.jupyter.widget-view+json": {
       "model_id": "373f18d96a6d41078c1563f55e288676",
       "version_major": 2,
       "version_minor": 0
      },
      "text/plain": [
       "🕸️ Community Detector Progress:   0%|          | 0/3 [00:00<?, ?it/s]"
      ]
     },
     "metadata": {},
     "output_type": "display_data"
    },
    {
     "data": {
      "application/vnd.jupyter.widget-view+json": {
       "model_id": "2a1a93483e7a48878ae4a8938ac86a87",
       "version_major": 2,
       "version_minor": 0
      },
      "text/plain": [
       "👾 Algorithm Progress:   0%|          | 0/6 [00:00<?, ?it/s]"
      ]
     },
     "metadata": {},
     "output_type": "display_data"
    },
    {
     "data": {
      "application/vnd.jupyter.widget-view+json": {
       "model_id": "f33f5530d4034363a7b1e74d43ca52a0",
       "version_major": 2,
       "version_minor": 0
      },
      "text/plain": [
       "👾 Algorithm Progress:   0%|          | 0/6 [00:00<?, ?it/s]"
      ]
     },
     "metadata": {},
     "output_type": "display_data"
    },
    {
     "data": {
      "application/vnd.jupyter.widget-view+json": {
       "model_id": "597cf138c5db40d3b6fdfd99abe53a11",
       "version_major": 2,
       "version_minor": 0
      },
      "text/plain": [
       "👾 Algorithm Progress:   0%|          | 0/6 [00:00<?, ?it/s]"
      ]
     },
     "metadata": {},
     "output_type": "display_data"
    },
    {
     "data": {
      "application/vnd.jupyter.widget-view+json": {
       "model_id": "7844af50c1724f3cbd22dac6c3c74f91",
       "version_major": 2,
       "version_minor": 0
      },
      "text/plain": [
       "➗ Splits Progress: 0it [00:00, ?it/s]"
      ]
     },
     "metadata": {},
     "output_type": "display_data"
    },
    {
     "data": {
      "application/vnd.jupyter.widget-view+json": {
       "model_id": "8524644e21db401c9a5be95314b3fc9d",
       "version_major": 2,
       "version_minor": 0
      },
      "text/plain": [
       "🕸️ Community Detector Progress:   0%|          | 0/3 [00:00<?, ?it/s]"
      ]
     },
     "metadata": {},
     "output_type": "display_data"
    },
    {
     "data": {
      "application/vnd.jupyter.widget-view+json": {
       "model_id": "0e0a8c0f142b41348cbf7356743fdc09",
       "version_major": 2,
       "version_minor": 0
      },
      "text/plain": [
       "👾 Algorithm Progress:   0%|          | 0/6 [00:00<?, ?it/s]"
      ]
     },
     "metadata": {},
     "output_type": "display_data"
    },
    {
     "data": {
      "application/vnd.jupyter.widget-view+json": {
       "model_id": "1ca8a7d77e914cffb0c2fe7226405b01",
       "version_major": 2,
       "version_minor": 0
      },
      "text/plain": [
       "👾 Algorithm Progress:   0%|          | 0/6 [00:00<?, ?it/s]"
      ]
     },
     "metadata": {},
     "output_type": "display_data"
    },
    {
     "data": {
      "application/vnd.jupyter.widget-view+json": {
       "model_id": "d1f99cec9ed9487e80de470f64853971",
       "version_major": 2,
       "version_minor": 0
      },
      "text/plain": [
       "👾 Algorithm Progress:   0%|          | 0/6 [00:00<?, ?it/s]"
      ]
     },
     "metadata": {},
     "output_type": "display_data"
    },
    {
     "data": {
      "application/vnd.jupyter.widget-view+json": {
       "model_id": "e705291547214388a118c5c57920a934",
       "version_major": 2,
       "version_minor": 0
      },
      "text/plain": [
       "🕸️ Community Detector Progress:   0%|          | 0/3 [00:00<?, ?it/s]"
      ]
     },
     "metadata": {},
     "output_type": "display_data"
    },
    {
     "data": {
      "application/vnd.jupyter.widget-view+json": {
       "model_id": "6ac5a6b476e64e96adaaa6660e585a5f",
       "version_major": 2,
       "version_minor": 0
      },
      "text/plain": [
       "👾 Algorithm Progress:   0%|          | 0/6 [00:00<?, ?it/s]"
      ]
     },
     "metadata": {},
     "output_type": "display_data"
    },
    {
     "data": {
      "application/vnd.jupyter.widget-view+json": {
       "model_id": "020fda35fd2f4426a4111d0ebff518d1",
       "version_major": 2,
       "version_minor": 0
      },
      "text/plain": [
       "👾 Algorithm Progress:   0%|          | 0/6 [00:00<?, ?it/s]"
      ]
     },
     "metadata": {},
     "output_type": "display_data"
    },
    {
     "data": {
      "application/vnd.jupyter.widget-view+json": {
       "model_id": "d6ccf76009d74d579281ea14ec4e603e",
       "version_major": 2,
       "version_minor": 0
      },
      "text/plain": [
       "👾 Algorithm Progress:   0%|          | 0/6 [00:00<?, ?it/s]"
      ]
     },
     "metadata": {},
     "output_type": "display_data"
    },
    {
     "data": {
      "application/vnd.jupyter.widget-view+json": {
       "model_id": "f7ff9ad89fdc438895a62c4c84b2dbde",
       "version_major": 2,
       "version_minor": 0
      },
      "text/plain": [
       "🕸️ Community Detector Progress:   0%|          | 0/3 [00:00<?, ?it/s]"
      ]
     },
     "metadata": {},
     "output_type": "display_data"
    },
    {
     "data": {
      "application/vnd.jupyter.widget-view+json": {
       "model_id": "3abf223abe734300bdbac2e54860f6ff",
       "version_major": 2,
       "version_minor": 0
      },
      "text/plain": [
       "👾 Algorithm Progress:   0%|          | 0/6 [00:00<?, ?it/s]"
      ]
     },
     "metadata": {},
     "output_type": "display_data"
    },
    {
     "data": {
      "application/vnd.jupyter.widget-view+json": {
       "model_id": "e1fade60da4a41088003d40474410067",
       "version_major": 2,
       "version_minor": 0
      },
      "text/plain": [
       "👾 Algorithm Progress:   0%|          | 0/6 [00:00<?, ?it/s]"
      ]
     },
     "metadata": {},
     "output_type": "display_data"
    },
    {
     "data": {
      "application/vnd.jupyter.widget-view+json": {
       "model_id": "028a81a6c09a465d875b9fc03f95bad3",
       "version_major": 2,
       "version_minor": 0
      },
      "text/plain": [
       "👾 Algorithm Progress:   0%|          | 0/6 [00:00<?, ?it/s]"
      ]
     },
     "metadata": {},
     "output_type": "display_data"
    },
    {
     "data": {
      "application/vnd.jupyter.widget-view+json": {
       "model_id": "b2484aa46bdd46389ea789173d0d2bf2",
       "version_major": 2,
       "version_minor": 0
      },
      "text/plain": [
       "🕸️ Community Detector Progress:   0%|          | 0/3 [00:00<?, ?it/s]"
      ]
     },
     "metadata": {},
     "output_type": "display_data"
    },
    {
     "data": {
      "application/vnd.jupyter.widget-view+json": {
       "model_id": "68b2ea2cfb2a462485be54554a777ac4",
       "version_major": 2,
       "version_minor": 0
      },
      "text/plain": [
       "👾 Algorithm Progress:   0%|          | 0/6 [00:00<?, ?it/s]"
      ]
     },
     "metadata": {},
     "output_type": "display_data"
    },
    {
     "data": {
      "application/vnd.jupyter.widget-view+json": {
       "model_id": "cfabc59756084ecdaf3766dc9bbbf2c4",
       "version_major": 2,
       "version_minor": 0
      },
      "text/plain": [
       "👾 Algorithm Progress:   0%|          | 0/6 [00:00<?, ?it/s]"
      ]
     },
     "metadata": {},
     "output_type": "display_data"
    },
    {
     "data": {
      "application/vnd.jupyter.widget-view+json": {
       "model_id": "5d877ebcef2a4c4e9ebf722220aedded",
       "version_major": 2,
       "version_minor": 0
      },
      "text/plain": [
       "👾 Algorithm Progress:   0%|          | 0/6 [00:00<?, ?it/s]"
      ]
     },
     "metadata": {},
     "output_type": "display_data"
    },
    {
     "data": {
      "application/vnd.jupyter.widget-view+json": {
       "model_id": "530e2540187e4924b4e99e183745b725",
       "version_major": 2,
       "version_minor": 0
      },
      "text/plain": [
       "🕸️ Community Detector Progress:   0%|          | 0/3 [00:00<?, ?it/s]"
      ]
     },
     "metadata": {},
     "output_type": "display_data"
    },
    {
     "data": {
      "application/vnd.jupyter.widget-view+json": {
       "model_id": "45d7cdf7db004542be233b071c64c3cb",
       "version_major": 2,
       "version_minor": 0
      },
      "text/plain": [
       "👾 Algorithm Progress:   0%|          | 0/6 [00:00<?, ?it/s]"
      ]
     },
     "metadata": {},
     "output_type": "display_data"
    },
    {
     "data": {
      "application/vnd.jupyter.widget-view+json": {
       "model_id": "4cd114ddc832444aa1cab52bbb8c1c14",
       "version_major": 2,
       "version_minor": 0
      },
      "text/plain": [
       "👾 Algorithm Progress:   0%|          | 0/6 [00:00<?, ?it/s]"
      ]
     },
     "metadata": {},
     "output_type": "display_data"
    },
    {
     "data": {
      "application/vnd.jupyter.widget-view+json": {
       "model_id": "8c7cda81ea514e14b3ebb98363265d31",
       "version_major": 2,
       "version_minor": 0
      },
      "text/plain": [
       "👾 Algorithm Progress:   0%|          | 0/6 [00:00<?, ?it/s]"
      ]
     },
     "metadata": {},
     "output_type": "display_data"
    },
    {
     "data": {
      "application/vnd.jupyter.widget-view+json": {
       "model_id": "72cb0e77f67e4d26b7ba85cdc14dd1b0",
       "version_major": 2,
       "version_minor": 0
      },
      "text/plain": [
       "➗ Splits Progress: 0it [00:00, ?it/s]"
      ]
     },
     "metadata": {},
     "output_type": "display_data"
    },
    {
     "data": {
      "application/vnd.jupyter.widget-view+json": {
       "model_id": "5b8791d1117742c297fe564f34e09650",
       "version_major": 2,
       "version_minor": 0
      },
      "text/plain": [
       "🕸️ Community Detector Progress:   0%|          | 0/3 [00:00<?, ?it/s]"
      ]
     },
     "metadata": {},
     "output_type": "display_data"
    },
    {
     "data": {
      "application/vnd.jupyter.widget-view+json": {
       "model_id": "7216c87b16434844bbb4257791d4bf29",
       "version_major": 2,
       "version_minor": 0
      },
      "text/plain": [
       "👾 Algorithm Progress:   0%|          | 0/6 [00:00<?, ?it/s]"
      ]
     },
     "metadata": {},
     "output_type": "display_data"
    },
    {
     "data": {
      "application/vnd.jupyter.widget-view+json": {
       "model_id": "8c593ef8cc8b4885a4740f70fb816d68",
       "version_major": 2,
       "version_minor": 0
      },
      "text/plain": [
       "👾 Algorithm Progress:   0%|          | 0/6 [00:00<?, ?it/s]"
      ]
     },
     "metadata": {},
     "output_type": "display_data"
    },
    {
     "data": {
      "application/vnd.jupyter.widget-view+json": {
       "model_id": "da620056fc5746e7b9f0a9d1f94ad530",
       "version_major": 2,
       "version_minor": 0
      },
      "text/plain": [
       "👾 Algorithm Progress:   0%|          | 0/6 [00:00<?, ?it/s]"
      ]
     },
     "metadata": {},
     "output_type": "display_data"
    },
    {
     "data": {
      "application/vnd.jupyter.widget-view+json": {
       "model_id": "f8a2d3170b2b4fd8bf033d216c31b364",
       "version_major": 2,
       "version_minor": 0
      },
      "text/plain": [
       "🕸️ Community Detector Progress:   0%|          | 0/3 [00:00<?, ?it/s]"
      ]
     },
     "metadata": {},
     "output_type": "display_data"
    },
    {
     "data": {
      "application/vnd.jupyter.widget-view+json": {
       "model_id": "7bf36638efab49aab283e4140e01f707",
       "version_major": 2,
       "version_minor": 0
      },
      "text/plain": [
       "👾 Algorithm Progress:   0%|          | 0/6 [00:00<?, ?it/s]"
      ]
     },
     "metadata": {},
     "output_type": "display_data"
    },
    {
     "data": {
      "application/vnd.jupyter.widget-view+json": {
       "model_id": "401e6ee6c52a4cae8fbd85ce86680112",
       "version_major": 2,
       "version_minor": 0
      },
      "text/plain": [
       "👾 Algorithm Progress:   0%|          | 0/6 [00:00<?, ?it/s]"
      ]
     },
     "metadata": {},
     "output_type": "display_data"
    },
    {
     "data": {
      "application/vnd.jupyter.widget-view+json": {
       "model_id": "aa2fde73dfdb43c5876f2258fb096e3b",
       "version_major": 2,
       "version_minor": 0
      },
      "text/plain": [
       "👾 Algorithm Progress:   0%|          | 0/6 [00:00<?, ?it/s]"
      ]
     },
     "metadata": {},
     "output_type": "display_data"
    },
    {
     "data": {
      "application/vnd.jupyter.widget-view+json": {
       "model_id": "e8becc636dd247df948ea4525d8eb16f",
       "version_major": 2,
       "version_minor": 0
      },
      "text/plain": [
       "🕸️ Community Detector Progress:   0%|          | 0/3 [00:00<?, ?it/s]"
      ]
     },
     "metadata": {},
     "output_type": "display_data"
    },
    {
     "data": {
      "application/vnd.jupyter.widget-view+json": {
       "model_id": "dd8dbe9c443149e6821805b7efc9fb0b",
       "version_major": 2,
       "version_minor": 0
      },
      "text/plain": [
       "👾 Algorithm Progress:   0%|          | 0/6 [00:00<?, ?it/s]"
      ]
     },
     "metadata": {},
     "output_type": "display_data"
    },
    {
     "data": {
      "application/vnd.jupyter.widget-view+json": {
       "model_id": "8c5343ed508d40b591471cf884377d89",
       "version_major": 2,
       "version_minor": 0
      },
      "text/plain": [
       "👾 Algorithm Progress:   0%|          | 0/6 [00:00<?, ?it/s]"
      ]
     },
     "metadata": {},
     "output_type": "display_data"
    },
    {
     "data": {
      "application/vnd.jupyter.widget-view+json": {
       "model_id": "5433fdce54df4819880aaa0fc1c09f5a",
       "version_major": 2,
       "version_minor": 0
      },
      "text/plain": [
       "👾 Algorithm Progress:   0%|          | 0/6 [00:00<?, ?it/s]"
      ]
     },
     "metadata": {},
     "output_type": "display_data"
    },
    {
     "data": {
      "application/vnd.jupyter.widget-view+json": {
       "model_id": "eb5c6d4af32f4df9bba87c184247aee8",
       "version_major": 2,
       "version_minor": 0
      },
      "text/plain": [
       "🕸️ Community Detector Progress:   0%|          | 0/3 [00:00<?, ?it/s]"
      ]
     },
     "metadata": {},
     "output_type": "display_data"
    },
    {
     "data": {
      "application/vnd.jupyter.widget-view+json": {
       "model_id": "4fbf3035898c4a1387b9d8cf8cdbe1e3",
       "version_major": 2,
       "version_minor": 0
      },
      "text/plain": [
       "👾 Algorithm Progress:   0%|          | 0/6 [00:00<?, ?it/s]"
      ]
     },
     "metadata": {},
     "output_type": "display_data"
    },
    {
     "data": {
      "application/vnd.jupyter.widget-view+json": {
       "model_id": "5be738ab542c400cb7d9c77b01778449",
       "version_major": 2,
       "version_minor": 0
      },
      "text/plain": [
       "👾 Algorithm Progress:   0%|          | 0/6 [00:00<?, ?it/s]"
      ]
     },
     "metadata": {},
     "output_type": "display_data"
    },
    {
     "data": {
      "application/vnd.jupyter.widget-view+json": {
       "model_id": "791087e536264a70941309a175d7f40a",
       "version_major": 2,
       "version_minor": 0
      },
      "text/plain": [
       "👾 Algorithm Progress:   0%|          | 0/6 [00:00<?, ?it/s]"
      ]
     },
     "metadata": {},
     "output_type": "display_data"
    },
    {
     "data": {
      "application/vnd.jupyter.widget-view+json": {
       "model_id": "e7ecce3487ea4e528d76a9b4be9c868d",
       "version_major": 2,
       "version_minor": 0
      },
      "text/plain": [
       "🕸️ Community Detector Progress:   0%|          | 0/3 [00:00<?, ?it/s]"
      ]
     },
     "metadata": {},
     "output_type": "display_data"
    },
    {
     "data": {
      "application/vnd.jupyter.widget-view+json": {
       "model_id": "126c11d9981541149c5981b3ba34eb33",
       "version_major": 2,
       "version_minor": 0
      },
      "text/plain": [
       "👾 Algorithm Progress:   0%|          | 0/6 [00:00<?, ?it/s]"
      ]
     },
     "metadata": {},
     "output_type": "display_data"
    },
    {
     "data": {
      "application/vnd.jupyter.widget-view+json": {
       "model_id": "168def63fad9472b8c4d438409dfccc1",
       "version_major": 2,
       "version_minor": 0
      },
      "text/plain": [
       "👾 Algorithm Progress:   0%|          | 0/6 [00:00<?, ?it/s]"
      ]
     },
     "metadata": {},
     "output_type": "display_data"
    },
    {
     "data": {
      "application/vnd.jupyter.widget-view+json": {
       "model_id": "e98c756afc434b9f81156046204f379b",
       "version_major": 2,
       "version_minor": 0
      },
      "text/plain": [
       "👾 Algorithm Progress:   0%|          | 0/6 [00:00<?, ?it/s]"
      ]
     },
     "metadata": {},
     "output_type": "display_data"
    }
   ],
   "source": [
    "results=[]\n",
    "tracking=[]\n",
    "reader = Reader(rating_scale=(1, 5))\n",
    "\n",
    "for test_size in tqdm([0.25, 0.1, 0.01], desc='📊 Test Size Progress', leave=True):\n",
    "        shuffle_split = ShuffleSplit(n_splits=5, test_size=test_size)\n",
    "        split_id = 1\n",
    "        for trainset, testset in tqdm(shuffle_split.split(dataset), desc='➗ Splits Progress', leave=False):\n",
    "            for detector_name, community_detector in tqdm(communities_detectors.items(), desc='🕸️ Community Detector Progress', leave=False):\n",
    "                if community_detector != None:\n",
    "                    trainpd, testpd = uncouple(trainset, testset)\n",
    "                    users_id = sorted(\n",
    "                            list(\n",
    "                                set(\n",
    "                                    trainpd['uid']\n",
    "                                    )\n",
    "                                )\n",
    "                            )\n",
    "                    temp = trainpd.copy()\n",
    "                    temp.rename(columns={\n",
    "                        'uid': 'source',\n",
    "                        'iid': 'target',\n",
    "                        'rating': 'weight'\n",
    "                    }, inplace=True)\n",
    "                    crg = nx.from_pandas_edgelist(temp, source='source', target='target', edge_attr='weight')\n",
    "                    g = nx.bipartite.generic_weighted_projected_graph(crg, \n",
    "                                                users_id, wf\n",
    "                                                )\n",
    "                    if detector_name == 'Louvain':\n",
    "                        coms = community_detector(g.copy())\n",
    "                    else:\n",
    "                        coms = community_detector(g.copy()).communities\n",
    "\n",
    "                    densities = {}\n",
    "                    for i, com in enumerate(coms):\n",
    "                        density = internal_density(g, com)\n",
    "                        densities[i] = density\n",
    "                    densities = dict(sorted(densities.items(), \n",
    "                                            key=lambda x: x[1], reverse=True)\n",
    "                                        )\n",
    "                for algo_name, algo in  tqdm(algos_recommendation.items(), desc='👾 Algorithm Progress', leave=False):\n",
    "                    if community_detector == None:\n",
    "                        start_time = time.time()\n",
    "                        algo.fit(trainset)\n",
    "                        training_time = time.time() - start_time\n",
    "                        start_time = time.time()\n",
    "                        predictions = algo.test(testset)\n",
    "                        testing_time = time.time() - start_time\n",
    "                        rmse_value = accuracy.rmse(predictions, verbose=False)\n",
    "                        mse_value = accuracy.mse(predictions, verbose=False)\n",
    "                        mae_value = accuracy.mae(predictions, verbose=False)\n",
    "                        result_dict = {\n",
    "                            'community_detector': detector_name,\n",
    "                            'used_communities': np.nan,\n",
    "                            'algorithm_rec': algo_name,\n",
    "                            'test_size': test_size,\n",
    "                            'split_id': split_id,\n",
    "                            'rmse': rmse_value,\n",
    "                            'mse': mse_value,\n",
    "                            'mae': mae_value\n",
    "                            }\n",
    "                        tracking_dict = {\n",
    "                            'community_detector': detector_name,\n",
    "                            'used_communities': np.nan,\n",
    "                            'community': np.nan,\n",
    "                            'algorithm_rec': algo_name,\n",
    "                            'test_size': test_size,\n",
    "                            'split_id': split_id,\n",
    "                            'train_runtime': training_time,\n",
    "                            'test_runtime': testing_time,    \n",
    "                        }\n",
    "                        results.append(result_dict)\n",
    "                        tracking.append(tracking_dict)\n",
    "                    else:\n",
    "                        all_predictions = []\n",
    "                        for n in range(1, len(densities) + 1):\n",
    "                            most_dense_communities = list(\n",
    "                                densities.keys()\n",
    "                                )[:n]\n",
    "                            for m in most_dense_communities:\n",
    "                                community=coms[m]\n",
    "                                train_community = trainpd[trainpd['uid'].isin(community)]\n",
    "                                test_community = testpd[testpd['uid'].isin(community)]\n",
    "                                train_surprise = Dataset.load_from_df(train_community[['uid', 'iid', 'rating']], reader)\n",
    "                                train_surprise = train_surprise.build_full_trainset()\n",
    "                                test_community = test_community.astype(\n",
    "                                    {'uid':'float', 'iid':'float', 'rating':'float'}\n",
    "                                    )\n",
    "                                test_surprise = list(test_community.itertuples(index=False, name=None))\n",
    "                                \n",
    "                                start_time = time.time()\n",
    "                                algo.fit(train_surprise)\n",
    "                                training_time = time.time() - start_time\n",
    "                                start_time = time.time()\n",
    "                                predictions = algo.test(test_surprise) \n",
    "                                testing_time = time.time() - start_time\n",
    "                                all_predictions.extend(predictions)\n",
    "                                tracking_dict = {\n",
    "                                    'community_detector': detector_name,\n",
    "                                    'used_communities': n,\n",
    "                                    'community': m,\n",
    "                                    'algorithm_rec': algo_name,\n",
    "                                    'test_size': test_size,\n",
    "                                    'split_id': split_id,\n",
    "                                    'train_runtime': training_time,\n",
    "                                    'test_runtime': testing_time,    \n",
    "                                }\n",
    "                                tracking.append(tracking_dict)\n",
    "                                \n",
    "                            if len(most_dense_communities) < len(densities):\n",
    "                                train_community = trainpd[~trainpd['uid'].isin(community)]\n",
    "                                test_community = testpd[~testpd['uid'].isin(community)]\n",
    "                                train_surprise = Dataset.load_from_df(train_community[['uid', 'iid', 'rating']], reader)\n",
    "                                train_surprise = train_surprise.build_full_trainset()\n",
    "                                test_community = test_community.astype(\n",
    "                                    {'uid':'float', 'iid':'float', 'rating':'float'}\n",
    "                                    )\n",
    "                                test_surprise = list(test_community.itertuples(index=False, name=None))\n",
    "                                start_time = time.time()\n",
    "                                algo.fit(train_surprise)\n",
    "                                training_time = time.time() - start_time\n",
    "                                start_time = time.time()\n",
    "                                predictions = algo.test(test_surprise) \n",
    "                                testing_time = time.time() - start_time\n",
    "                                all_predictions.extend(predictions)\n",
    "                                tracking_dict = {\n",
    "                                    'community_detector': detector_name,\n",
    "                                    'used_communities': n,\n",
    "                                    'community': 99, # 99 means `all the others communities`\n",
    "                                    'algorithm_rec': algo_name,\n",
    "                                    'test_size': test_size,\n",
    "                                    'split_id': split_id,\n",
    "                                    'train_runtime': training_time,\n",
    "                                    'test_runtime': testing_time,    \n",
    "                                }\n",
    "                                tracking.append(tracking_dict)\n",
    "                                    \n",
    "                            rmse_value = accuracy.rmse(all_predictions, verbose=False)\n",
    "                            mse_value = accuracy.mse(all_predictions, verbose=False)\n",
    "                            mae_value = accuracy.mae(all_predictions, verbose=False)\n",
    "                            result_dict = {\n",
    "                                    'community_detector': detector_name,\n",
    "                                    'used_communities': n,  \n",
    "                                    'algorithm_rec': algo_name,\n",
    "                                    'test_size': test_size,\n",
    "                                    'split_id': split_id,\n",
    "                                    'rmse': rmse_value,\n",
    "                                    'mse': mse_value,\n",
    "                                    'mae': mae_value\n",
    "                                }\n",
    "                            results.append(result_dict)            \n",
    "            split_id += 1\n",
    "            \n",
    "            \n",
    "notebook_dir = os.getcwd()\n",
    "outputs_dir = notebook_dir.replace('notebooks', 'outputs')\n",
    "\n",
    "df_results = pd.DataFrame(results)\n",
    "file_name = f'real_results.csv'\n",
    "file_path = os.path.join(outputs_dir, file_name)\n",
    "df_results.to_csv(file_path, index=False)\n",
    "\n",
    "df_tracking = pd.DataFrame(tracking)\n",
    "file_name = f'real_tracking.csv'\n",
    "file_path = os.path.join(outputs_dir, file_name)\n",
    "df_tracking.to_csv(file_path, index=False)          "
   ]
  },
  {
   "cell_type": "code",
   "execution_count": null,
   "metadata": {},
   "outputs": [],
   "source": []
  }
 ],
 "metadata": {
  "kernelspec": {
   "display_name": "mscenv",
   "language": "python",
   "name": "python3"
  },
  "language_info": {
   "codemirror_mode": {
    "name": "ipython",
    "version": 3
   },
   "file_extension": ".py",
   "mimetype": "text/x-python",
   "name": "python",
   "nbconvert_exporter": "python",
   "pygments_lexer": "ipython3",
   "version": "3.9.13"
  },
  "orig_nbformat": 4
 },
 "nbformat": 4,
 "nbformat_minor": 2
}
