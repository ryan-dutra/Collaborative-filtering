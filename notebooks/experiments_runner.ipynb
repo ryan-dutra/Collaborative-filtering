{
 "cells": [
  {
   "attachments": {},
   "cell_type": "markdown",
   "metadata": {},
   "source": [
    "The objective of this notebook is to carry out the experiments proposed in the article `\"Analysis of Pipelining in Community Detection and Recommender Systems\"`. The article explores the effectiveness of pipelining techniques in improving the performance of recommender systems by utilizing community detectors. \n",
    "This notebook serves as a comprehensive guide to replicate and analyze the experiments conducted in the article."
   ]
  },
  {
   "attachments": {},
   "cell_type": "markdown",
   "metadata": {},
   "source": [
    "### Environment settings"
   ]
  },
  {
   "cell_type": "code",
   "execution_count": 1,
   "metadata": {},
   "outputs": [
    {
     "data": {
      "text/plain": [
       "'\\n    Importing needed libs\\n'"
      ]
     },
     "execution_count": 1,
     "metadata": {},
     "output_type": "execute_result"
    }
   ],
   "source": [
    "\"\"\"\n",
    "    Importing needed libs\n",
    "\"\"\""
   ]
  },
  {
   "cell_type": "code",
   "execution_count": 2,
   "metadata": {},
   "outputs": [
    {
     "name": "stdout",
     "output_type": "stream",
     "text": [
      "Note: to be able to use all crisp methods, you need to install some additional packages:  {'graph_tool', 'wurlitzer'}\n",
      "Note: to be able to use all bipartite methods, you need to install some additional packages:  {'wurlitzer'}\n"
     ]
    }
   ],
   "source": [
    "import os\n",
    "import time\n",
    "import numpy as np\n",
    "import pandas as pd\n",
    "from typing import List\n",
    "import matplotlib.pyplot as plt\n",
    "\n",
    "from surprise import (\n",
    "    accuracy,\n",
    "    Reader,\n",
    "    Dataset,\n",
    "    CoClustering,\n",
    "    KNNBasic,\n",
    "    NMF,\n",
    "    SVD,\n",
    "    SlopeOne,\n",
    "    NormalPredictor\n",
    ")\n",
    "from surprise.model_selection.split import ShuffleSplit\n",
    "from surprise.trainset import Trainset\n",
    "\n",
    "import networkx as nx\n",
    "import cdlib.algorithms as cd_alg\n",
    "import karateclub as kc\n",
    "from tqdm.notebook import tqdm\n"
   ]
  },
  {
   "cell_type": "code",
   "execution_count": 3,
   "metadata": {},
   "outputs": [
    {
     "data": {
      "text/plain": [
       "'\\n    Setting up functions\\n'"
      ]
     },
     "execution_count": 3,
     "metadata": {},
     "output_type": "execute_result"
    }
   ],
   "source": [
    "\"\"\"\n",
    "    Setting up functions\n",
    "\"\"\""
   ]
  },
  {
   "cell_type": "code",
   "execution_count": 4,
   "metadata": {},
   "outputs": [],
   "source": [
    "def communitarian_recommendation_graph(\n",
    "        n_user=100,\n",
    "        n_comm=10,\n",
    "        n_item=100,\n",
    "        n_cat=10,\n",
    "        like_prob=.4,\n",
    "        like_strength=.5,\n",
    "        debug=False,\n",
    "    ):\n",
    "\n",
    "    user_comm_gt = np.random.choice(n_comm, n_user)\n",
    "    user_comm_gt.sort()\n",
    "    bincount_user = np.bincount(user_comm_gt, minlength=n_comm)\n",
    "\n",
    "    if debug:\n",
    "        display('user', user_comm_gt, bincount_user)\n",
    "\n",
    "    item_cat_gt = np.random.choice(n_cat, n_item)\n",
    "    item_cat_gt.sort()\n",
    "    bincount_item = np.bincount(item_cat_gt, minlength=n_cat)\n",
    "\n",
    "    if debug:\n",
    "        display('item', item_cat_gt, bincount_item)\n",
    "\n",
    "    L = np.random.choice(2, (n_comm, n_cat), p=[1-like_prob, like_prob])\n",
    "\n",
    "    L_prime = like_strength * L + (1-like_strength)/2\n",
    "\n",
    "    P = np.block([\n",
    "        [ np.zeros((n_comm,n_comm)) , L_prime                 ],\n",
    "        [ L_prime.T                 , np.zeros((n_cat,n_cat)) ]\n",
    "    ])\n",
    "\n",
    "    if debug:\n",
    "        display('like', L, L_prime, P)\n",
    "\n",
    "    sbg = nx.stochastic_block_model(\n",
    "        np.hstack((bincount_user, bincount_item)),\n",
    "        P\n",
    "    )\n",
    "\n",
    "    if debug:\n",
    "        try:\n",
    "            nx.draw_networkx(\n",
    "                sbg,\n",
    "                nx.bipartite_layout(sbg, nx.bipartite.sets(sbg)[0]),\n",
    "                node_color=np.hstack((user_comm_gt, item_cat_gt))\n",
    "            )\n",
    "        except nx.AmbiguousSolution as e:\n",
    "            print(e)            \n",
    "\n",
    "        plt.show()\n",
    "\n",
    "    for user, item, data in sbg.edges(data=True):\n",
    "        data['weight'] = np.random.randint(1,4) + 2*L[user_comm_gt[user], item_cat_gt[item-n_user]]\n",
    "\n",
    "    if debug:\n",
    "        display(np.mean([w['weight'] for user, item, w in sbg.edges(data=True) if L[user_comm_gt[min(user, item)], item_cat_gt[max(user, item)-n_user]]]))\n",
    "        display(np.mean([w['weight'] for user, item, w in sbg.edges(data=True) if not L[user_comm_gt[min(user, item)], item_cat_gt[max(user, item)-n_user]]]))\n",
    "        \n",
    "    return sbg, user_comm_gt, item_cat_gt\n",
    "\n",
    "\n",
    "def from_ratings_to_edges(ratings):\n",
    "    edges = pd.DataFrame(ratings)[[0,1,2]]\n",
    "    edges[[0,1]] = edges[[0,1]].astype(int)\n",
    "    edges[[0,1]] -= edges[[0,1]].min()\n",
    "    edges[1] += edges[0].max() + 1\n",
    "    \n",
    "    return edges.rename(columns={0: 'source', 1: 'target', 2:'weight'})\n",
    "\n",
    "\n",
    "def wf(G, u, v):\n",
    "    w = np.mean([(G[u][nbr]['weight'] - G[v][nbr]['weight']) ** 2 for nbr in set(G[u]) & set(G[v])])\n",
    "    return 1/(1 + w)"
   ]
  },
  {
   "cell_type": "code",
   "execution_count": 5,
   "metadata": {},
   "outputs": [
    {
     "data": {
      "text/plain": [
       "'\\n    Setting up experiment parameters \\n'"
      ]
     },
     "execution_count": 5,
     "metadata": {},
     "output_type": "execute_result"
    }
   ],
   "source": [
    "\"\"\"\n",
    "    Setting up experiment parameters \n",
    "\"\"\""
   ]
  },
  {
   "cell_type": "code",
   "execution_count": 6,
   "metadata": {},
   "outputs": [],
   "source": [
    "algos_recommendation = {\n",
    "    'NormalPredictor': NormalPredictor(),\n",
    "    'SVD': SVD(verbose=False),\n",
    "    'k-NN': KNNBasic(verbose=False), \n",
    "    'NMF': NMF(verbose=False), \n",
    "    'Co-Clustering': CoClustering(verbose=False),\n",
    "    'SlopeOne': SlopeOne()\n",
    "}\n",
    "\n",
    "communities_detectors = {\n",
    "    'Not-Applicable': None,\n",
    "    'Louvain': nx.community.louvain_communities,\n",
    "    'Paris': cd_alg.paris\n",
    "}\n",
    "\n",
    "reader = Reader(rating_scale=(1, 5))"
   ]
  },
  {
   "attachments": {},
   "cell_type": "markdown",
   "metadata": {},
   "source": [
    "### Data loading"
   ]
  },
  {
   "cell_type": "code",
   "execution_count": 7,
   "metadata": {},
   "outputs": [
    {
     "data": {
      "text/plain": [
       "'\\n    Synthetic data generation \\n'"
      ]
     },
     "execution_count": 7,
     "metadata": {},
     "output_type": "execute_result"
    }
   ],
   "source": [
    "\"\"\"\n",
    "    Synthetic data generation \n",
    "\"\"\""
   ]
  },
  {
   "cell_type": "code",
   "execution_count": 12,
   "metadata": {},
   "outputs": [
    {
     "data": {
      "text/html": [
       "<div>\n",
       "<style scoped>\n",
       "    .dataframe tbody tr th:only-of-type {\n",
       "        vertical-align: middle;\n",
       "    }\n",
       "\n",
       "    .dataframe tbody tr th {\n",
       "        vertical-align: top;\n",
       "    }\n",
       "\n",
       "    .dataframe thead th {\n",
       "        text-align: right;\n",
       "    }\n",
       "</style>\n",
       "<table border=\"1\" class=\"dataframe\">\n",
       "  <thead>\n",
       "    <tr style=\"text-align: right;\">\n",
       "      <th></th>\n",
       "      <th>uid</th>\n",
       "      <th>iid</th>\n",
       "      <th>rating</th>\n",
       "    </tr>\n",
       "  </thead>\n",
       "  <tbody>\n",
       "    <tr>\n",
       "      <th>0</th>\n",
       "      <td>0</td>\n",
       "      <td>100</td>\n",
       "      <td>5</td>\n",
       "    </tr>\n",
       "    <tr>\n",
       "      <th>1</th>\n",
       "      <td>0</td>\n",
       "      <td>101</td>\n",
       "      <td>4</td>\n",
       "    </tr>\n",
       "    <tr>\n",
       "      <th>2</th>\n",
       "      <td>0</td>\n",
       "      <td>102</td>\n",
       "      <td>4</td>\n",
       "    </tr>\n",
       "    <tr>\n",
       "      <th>3</th>\n",
       "      <td>0</td>\n",
       "      <td>105</td>\n",
       "      <td>5</td>\n",
       "    </tr>\n",
       "    <tr>\n",
       "      <th>4</th>\n",
       "      <td>0</td>\n",
       "      <td>106</td>\n",
       "      <td>5</td>\n",
       "    </tr>\n",
       "    <tr>\n",
       "      <th>...</th>\n",
       "      <td>...</td>\n",
       "      <td>...</td>\n",
       "      <td>...</td>\n",
       "    </tr>\n",
       "    <tr>\n",
       "      <th>4528</th>\n",
       "      <td>95</td>\n",
       "      <td>185</td>\n",
       "      <td>3</td>\n",
       "    </tr>\n",
       "    <tr>\n",
       "      <th>4529</th>\n",
       "      <td>95</td>\n",
       "      <td>191</td>\n",
       "      <td>2</td>\n",
       "    </tr>\n",
       "    <tr>\n",
       "      <th>4530</th>\n",
       "      <td>95</td>\n",
       "      <td>196</td>\n",
       "      <td>3</td>\n",
       "    </tr>\n",
       "    <tr>\n",
       "      <th>4531</th>\n",
       "      <td>95</td>\n",
       "      <td>198</td>\n",
       "      <td>5</td>\n",
       "    </tr>\n",
       "    <tr>\n",
       "      <th>4532</th>\n",
       "      <td>95</td>\n",
       "      <td>199</td>\n",
       "      <td>3</td>\n",
       "    </tr>\n",
       "  </tbody>\n",
       "</table>\n",
       "<p>4533 rows × 3 columns</p>\n",
       "</div>"
      ],
      "text/plain": [
       "      uid  iid  rating\n",
       "0       0  100       5\n",
       "1       0  101       4\n",
       "2       0  102       4\n",
       "3       0  105       5\n",
       "4       0  106       5\n",
       "...   ...  ...     ...\n",
       "4528   95  185       3\n",
       "4529   95  191       2\n",
       "4530   95  196       3\n",
       "4531   95  198       5\n",
       "4532   95  199       3\n",
       "\n",
       "[4533 rows x 3 columns]"
      ]
     },
     "execution_count": 12,
     "metadata": {},
     "output_type": "execute_result"
    }
   ],
   "source": [
    "crg, user_comm_gt, item_cat_gt = communitarian_recommendation_graph(debug=False)\n",
    "sdf = nx.to_pandas_edgelist(crg)\n",
    "sdf.rename(columns={\n",
    "        'source': 'uid',\n",
    "        'target': 'iid',\n",
    "        'weight': 'rating'\n",
    "}, inplace=True)\n",
    "sdf # stands for '(s)ynthetic (d)ata(f)rame'"
   ]
  },
  {
   "cell_type": "code",
   "execution_count": 13,
   "metadata": {},
   "outputs": [
    {
     "data": {
      "text/html": [
       "<div>\n",
       "<style scoped>\n",
       "    .dataframe tbody tr th:only-of-type {\n",
       "        vertical-align: middle;\n",
       "    }\n",
       "\n",
       "    .dataframe tbody tr th {\n",
       "        vertical-align: top;\n",
       "    }\n",
       "\n",
       "    .dataframe thead th {\n",
       "        text-align: right;\n",
       "    }\n",
       "</style>\n",
       "<table border=\"1\" class=\"dataframe\">\n",
       "  <thead>\n",
       "    <tr style=\"text-align: right;\">\n",
       "      <th></th>\n",
       "      <th># Users</th>\n",
       "      <th># Itens</th>\n",
       "      <th># Ratings</th>\n",
       "    </tr>\n",
       "  </thead>\n",
       "  <tbody>\n",
       "    <tr>\n",
       "      <th>0</th>\n",
       "      <td>100</td>\n",
       "      <td>100</td>\n",
       "      <td>4533</td>\n",
       "    </tr>\n",
       "  </tbody>\n",
       "</table>\n",
       "</div>"
      ],
      "text/plain": [
       "   # Users  # Itens  # Ratings\n",
       "0      100      100       4533"
      ]
     },
     "execution_count": 13,
     "metadata": {},
     "output_type": "execute_result"
    }
   ],
   "source": [
    "pd.DataFrame({'# Users': [sdf['uid'].nunique()],\n",
    "              '# Itens': [sdf['iid'].nunique()],\n",
    "              '# Ratings': [sdf.shape[0]]\n",
    "              }\n",
    ")"
   ]
  },
  {
   "cell_type": "code",
   "execution_count": 14,
   "metadata": {},
   "outputs": [
    {
     "data": {
      "image/png": "[encoded data removed]",
      "text/plain": [
       "<Figure size 640x480 with 1 Axes>"
      ]
     },
     "metadata": {},
     "output_type": "display_data"
    }
   ],
   "source": [
    "ax = sdf['rating'].value_counts().sort_index().plot(kind='bar', color='navy', width=0.8)\n",
    "plt.title('Rating Distribution')\n",
    "plt.xlabel('Rating')\n",
    "plt.ylabel('Count')\n",
    "plt.xticks(rotation='horizontal')\n",
    "ax.spines['right'].set_visible(False)\n",
    "ax.spines['top'].set_visible(False)\n",
    "ax.spines['left'].set_visible(False)\n",
    "ax.spines['bottom'].set_visible(False)\n",
    "ax.tick_params(left=False, bottom=False)\n",
    "ax.grid(axis='y', linestyle='--', alpha=0.7)\n",
    "plt.show()"
   ]
  },
  {
   "cell_type": "code",
   "execution_count": 15,
   "metadata": {},
   "outputs": [
    {
     "name": "stdout",
     "output_type": "stream",
     "text": [
      "<class 'surprise.dataset.DatasetAutoFolds'>\n"
     ]
    },
    {
     "data": {
      "text/html": [
       "<div>\n",
       "<style scoped>\n",
       "    .dataframe tbody tr th:only-of-type {\n",
       "        vertical-align: middle;\n",
       "    }\n",
       "\n",
       "    .dataframe tbody tr th {\n",
       "        vertical-align: top;\n",
       "    }\n",
       "\n",
       "    .dataframe thead th {\n",
       "        text-align: right;\n",
       "    }\n",
       "</style>\n",
       "<table border=\"1\" class=\"dataframe\">\n",
       "  <thead>\n",
       "    <tr style=\"text-align: right;\">\n",
       "      <th></th>\n",
       "      <th># Users</th>\n",
       "      <th># Itens</th>\n",
       "      <th># Ratings</th>\n",
       "    </tr>\n",
       "  </thead>\n",
       "  <tbody>\n",
       "    <tr>\n",
       "      <th>0</th>\n",
       "      <td>100</td>\n",
       "      <td>100</td>\n",
       "      <td>4533</td>\n",
       "    </tr>\n",
       "  </tbody>\n",
       "</table>\n",
       "</div>"
      ],
      "text/plain": [
       "   # Users  # Itens  # Ratings\n",
       "0      100      100       4533"
      ]
     },
     "execution_count": 15,
     "metadata": {},
     "output_type": "execute_result"
    }
   ],
   "source": [
    "reader = Reader(rating_scale=(1, 5))\n",
    "sds = Dataset.load_from_df( # sds stands for '(s)ynthetic (d)ata(s)et'\n",
    "    sdf[[\"uid\", \"iid\", \"rating\"]], reader\n",
    "    )\n",
    "\n",
    "print(type(sds))\n",
    "pd.DataFrame({'# Users': [len(set([user_id for (user_id, _, _, _) in sds.raw_ratings]))],\n",
    "              '# Itens': [len(set([item_id for (_, item_id, _, _) in sds.raw_ratings]))],\n",
    "              '# Ratings': [len(sds.raw_ratings)]\n",
    "              }\n",
    "             )"
   ]
  },
  {
   "cell_type": "code",
   "execution_count": 16,
   "metadata": {},
   "outputs": [
    {
     "data": {
      "text/html": [
       "<div>\n",
       "<style scoped>\n",
       "    .dataframe tbody tr th:only-of-type {\n",
       "        vertical-align: middle;\n",
       "    }\n",
       "\n",
       "    .dataframe tbody tr th {\n",
       "        vertical-align: top;\n",
       "    }\n",
       "\n",
       "    .dataframe thead th {\n",
       "        text-align: right;\n",
       "    }\n",
       "</style>\n",
       "<table border=\"1\" class=\"dataframe\">\n",
       "  <thead>\n",
       "    <tr style=\"text-align: right;\">\n",
       "      <th></th>\n",
       "      <th>Min User</th>\n",
       "      <th>Max User</th>\n",
       "      <th>Min Item</th>\n",
       "      <th>Max Item</th>\n",
       "    </tr>\n",
       "  </thead>\n",
       "  <tbody>\n",
       "    <tr>\n",
       "      <th>0</th>\n",
       "      <td>0</td>\n",
       "      <td>99</td>\n",
       "      <td>100</td>\n",
       "      <td>199</td>\n",
       "    </tr>\n",
       "  </tbody>\n",
       "</table>\n",
       "</div>"
      ],
      "text/plain": [
       "   Min User  Max User  Min Item  Max Item\n",
       "0         0        99       100       199"
      ]
     },
     "execution_count": 16,
     "metadata": {},
     "output_type": "execute_result"
    }
   ],
   "source": [
    "users_ids = [t[0] for t in sds.raw_ratings]\n",
    "items_ids = [t[1] for t in sds.raw_ratings]\n",
    "\n",
    "pd.DataFrame({'Min User': [np.min(users_ids)],\n",
    "              'Max User': [np.max(users_ids)],\n",
    "              'Min Item': [np.min(items_ids)],\n",
    "              'Max Item': [np.max(items_ids)],\n",
    "              }\n",
    "             )"
   ]
  },
  {
   "cell_type": "code",
   "execution_count": 17,
   "metadata": {},
   "outputs": [
    {
     "data": {
      "text/plain": [
       "'\\n    Real data extraction \\n'"
      ]
     },
     "execution_count": 17,
     "metadata": {},
     "output_type": "execute_result"
    }
   ],
   "source": [
    "\"\"\"\n",
    "    Real data extraction \n",
    "\"\"\""
   ]
  },
  {
   "cell_type": "code",
   "execution_count": 18,
   "metadata": {},
   "outputs": [],
   "source": [
    "rds = Dataset.load_builtin('ml-100k') # rds stands for '(r)eal (d)ata(s)set'"
   ]
  },
  {
   "cell_type": "code",
   "execution_count": 19,
   "metadata": {},
   "outputs": [
    {
     "data": {
      "text/html": [
       "<div>\n",
       "<style scoped>\n",
       "    .dataframe tbody tr th:only-of-type {\n",
       "        vertical-align: middle;\n",
       "    }\n",
       "\n",
       "    .dataframe tbody tr th {\n",
       "        vertical-align: top;\n",
       "    }\n",
       "\n",
       "    .dataframe thead th {\n",
       "        text-align: right;\n",
       "    }\n",
       "</style>\n",
       "<table border=\"1\" class=\"dataframe\">\n",
       "  <thead>\n",
       "    <tr style=\"text-align: right;\">\n",
       "      <th></th>\n",
       "      <th># Users</th>\n",
       "      <th># Itens</th>\n",
       "      <th># Ratings</th>\n",
       "    </tr>\n",
       "  </thead>\n",
       "  <tbody>\n",
       "    <tr>\n",
       "      <th>0</th>\n",
       "      <td>943</td>\n",
       "      <td>1682</td>\n",
       "      <td>100000</td>\n",
       "    </tr>\n",
       "  </tbody>\n",
       "</table>\n",
       "</div>"
      ],
      "text/plain": [
       "   # Users  # Itens  # Ratings\n",
       "0      943     1682     100000"
      ]
     },
     "execution_count": 19,
     "metadata": {},
     "output_type": "execute_result"
    }
   ],
   "source": [
    "pd.DataFrame({'# Users': [len(set([user_id for (user_id, _, _, _) in rds.raw_ratings]))],\n",
    "              '# Itens': [len(set([item_id for (_, item_id, _, _) in rds.raw_ratings]))],\n",
    "              '# Ratings': [len(rds.raw_ratings)]\n",
    "              }\n",
    "             )"
   ]
  },
  {
   "cell_type": "code",
   "execution_count": 20,
   "metadata": {},
   "outputs": [
    {
     "data": {
      "image/png": "[encoded data removed]",
      "text/plain": [
       "<Figure size 640x480 with 1 Axes>"
      ]
     },
     "metadata": {},
     "output_type": "display_data"
    }
   ],
   "source": [
    "ax = pd.DataFrame(rds.build_full_trainset().all_ratings(), \n",
    "                  columns=['uid', 'iid', 'rating'])['rating'].value_counts().sort_index().plot(kind='bar', color='navy', width=0.8)\n",
    "plt.title('Rating Distribution')\n",
    "plt.xlabel('Rating')\n",
    "plt.ylabel('Count')\n",
    "plt.xticks(rotation='horizontal')\n",
    "ax.spines['right'].set_visible(False)\n",
    "ax.spines['top'].set_visible(False)\n",
    "ax.spines['left'].set_visible(False)\n",
    "ax.spines['bottom'].set_visible(False)\n",
    "ax.tick_params(left=False, bottom=False)\n",
    "ax.grid(axis='y', linestyle='--', alpha=0.7)\n",
    "plt.show()"
   ]
  },
  {
   "cell_type": "code",
   "execution_count": 21,
   "metadata": {},
   "outputs": [
    {
     "data": {
      "text/html": [
       "<div>\n",
       "<style scoped>\n",
       "    .dataframe tbody tr th:only-of-type {\n",
       "        vertical-align: middle;\n",
       "    }\n",
       "\n",
       "    .dataframe tbody tr th {\n",
       "        vertical-align: top;\n",
       "    }\n",
       "\n",
       "    .dataframe thead th {\n",
       "        text-align: right;\n",
       "    }\n",
       "</style>\n",
       "<table border=\"1\" class=\"dataframe\">\n",
       "  <thead>\n",
       "    <tr style=\"text-align: right;\">\n",
       "      <th></th>\n",
       "      <th>Min User</th>\n",
       "      <th>Max User</th>\n",
       "      <th>Min Item</th>\n",
       "      <th>Max Item</th>\n",
       "    </tr>\n",
       "  </thead>\n",
       "  <tbody>\n",
       "    <tr>\n",
       "      <th>0</th>\n",
       "      <td>1</td>\n",
       "      <td>943</td>\n",
       "      <td>1</td>\n",
       "      <td>1682</td>\n",
       "    </tr>\n",
       "  </tbody>\n",
       "</table>\n",
       "</div>"
      ],
      "text/plain": [
       "   Min User  Max User  Min Item  Max Item\n",
       "0         1       943         1      1682"
      ]
     },
     "execution_count": 21,
     "metadata": {},
     "output_type": "execute_result"
    }
   ],
   "source": [
    "users_ids = [int(t[0]) for t in rds.raw_ratings]\n",
    "items_ids = [int(t[1]) for t in rds.raw_ratings]\n",
    "\n",
    "pd.DataFrame({'Min User': [np.min(users_ids)],\n",
    "              'Max User': [np.max(users_ids)],\n",
    "              'Min Item': [np.min(items_ids)],\n",
    "              'Max Item': [np.max(items_ids)],\n",
    "              }\n",
    "             )"
   ]
  },
  {
   "attachments": {},
   "cell_type": "markdown",
   "metadata": {},
   "source": [
    "### Running experiments"
   ]
  },
  {
   "cell_type": "code",
   "execution_count": 22,
   "metadata": {},
   "outputs": [],
   "source": [
    "datasets = {\n",
    "    'synthetic': sds,\n",
    "    'real': rds\n",
    "}"
   ]
  },
  {
   "cell_type": "code",
   "execution_count": 23,
   "metadata": {},
   "outputs": [
    {
     "data": {
      "application/vnd.jupyter.widget-view+json": {
       "model_id": "4bb916cebe5547668946fc9402f7c6f0",
       "version_major": 2,
       "version_minor": 0
      },
      "text/plain": [
       "Experiment Progress:   0%|          | 0/2 [00:00<?, ?it/s]"
      ]
     },
     "metadata": {},
     "output_type": "display_data"
    }
   ],
   "source": [
    "results=[]\n",
    "tracking=[]\n",
    "\n",
    "for dataname, dataset in tqdm(datasets.items(), desc='Experiment Progress', leave=True):\n",
    "    for test_size in [0.25, 0.1, 0.01]:\n",
    "        shuffle_split = ShuffleSplit(n_splits=5, test_size=test_size)\n",
    "        split_id = 1\n",
    "        for trainset, testset in shuffle_split.split(dataset):\n",
    "            edges = from_ratings_to_edges(trainset.all_ratings())    \n",
    "            ui_gr = nx.from_pandas_edgelist(edges, edge_attr=True)\n",
    "            g = nx.bipartite.generic_weighted_projected_graph(ui_gr,\n",
    "                                                              edges.source.unique(), wf\n",
    "                                                              ) \n",
    "            trainpd = pd.DataFrame(trainset.all_ratings(), \n",
    "                                       columns=['inner_uid', 'inner_iid', 'rating']\n",
    "                                       )\n",
    "            trainpd['raw_uid'] = trainpd['inner_uid'].apply(trainset.to_raw_uid)\n",
    "            trainpd['raw_iid'] = trainpd['inner_iid'].apply(trainset.to_raw_iid)\n",
    "            testpd = pd.DataFrame(testset, \n",
    "                                  columns=['raw_uid', 'raw_iid', 'rating']\n",
    "                                  )\n",
    "            for detector_name, community_detector in communities_detectors.items():\n",
    "                if community_detector == None:\n",
    "                    for algo_name, algo in  algos_recommendation.items(): \n",
    "                        start_time = time.time()\n",
    "                        algo.fit(trainset)\n",
    "                        training_time = time.time() - start_time\n",
    "                        start_time = time.time()\n",
    "                        predictions = algo.test(testset)\n",
    "                        testing_time = time.time() - start_time\n",
    "                        rmse_value = accuracy.rmse(predictions, verbose=False)\n",
    "                        mse_value = accuracy.mse(predictions, verbose=False)\n",
    "                        mae_value = accuracy.mae(predictions, verbose=False)\n",
    "                        result_dict = {\n",
    "                                'dataset': dataname,\n",
    "                                'community_detector': detector_name,\n",
    "                                'algorithm_rec': algo_name,\n",
    "                                'test_size': test_size,\n",
    "                                'split_id': split_id,\n",
    "                                'rmse': rmse_value,\n",
    "                                'mse': mse_value,\n",
    "                                'mae': mae_value\n",
    "                        }\n",
    "                        results.append(result_dict)\n",
    "                        tracking_dict = {\n",
    "                                'dataset': dataname,\n",
    "                                'community_detector': detector_name,\n",
    "                                'community': np.nan,\n",
    "                                'algorithm_rec': algo_name,\n",
    "                                'test_size': test_size,\n",
    "                                'split_id': split_id,\n",
    "                                'train_runtime': training_time,\n",
    "                                'test_runtime': testing_time,    \n",
    "                            }\n",
    "                        tracking.append(tracking_dict)\n",
    "                else:\n",
    "                    coms = community_detector(g.copy())\n",
    "                    if detector_name == 'Paris':\n",
    "                        coms = coms.communities\n",
    "                    for algo_name, algo in  algos_recommendation.items():\n",
    "                        all_predictions = []\n",
    "                        for idx, com in enumerate(coms):\n",
    "                            train_community = trainpd[trainpd.inner_uid.isin(com)][['raw_uid', 'raw_iid', 'rating']]\n",
    "                            train_community = Dataset.load_from_df(train_community, reader).build_full_trainset()           \n",
    "                            c_raw = set(map(trainset.to_raw_uid, com))\n",
    "                            test_community = testpd[testpd.raw_uid.isin(c_raw)] \n",
    "                            start_time = time.time()\n",
    "                            algo.fit(train_community)\n",
    "                            training_time = time.time() - start_time\n",
    "                            start_time = time.time()\n",
    "                            predictions = algo.test(test_community.values)\n",
    "                            testing_time = time.time() - start_time\n",
    "                            all_predictions.extend(predictions)\n",
    "                            tracking_dict = {\n",
    "                                'dataset': dataname,\n",
    "                                'community_detector': detector_name,\n",
    "                                'community': idx+1,\n",
    "                                'algorithm_rec': algo_name,\n",
    "                                'test_size': test_size,\n",
    "                                'split_id': split_id,\n",
    "                                'train_runtime': training_time,\n",
    "                                'test_runtime': testing_time,    \n",
    "                            }\n",
    "                            tracking.append(tracking_dict)\n",
    "                            \n",
    "                        rmse_value = accuracy.rmse(all_predictions, verbose=False)\n",
    "                        mse_value = accuracy.mse(all_predictions, verbose=False)\n",
    "                        mae_value = accuracy.mae(all_predictions, verbose=False)\n",
    "                        result_dict = {\n",
    "                                'dataset': dataname,\n",
    "                                'community_detector': detector_name,\n",
    "                                'algorithm_rec': algo_name,\n",
    "                                'test_size': test_size,\n",
    "                                'split_id': split_id,\n",
    "                                'rmse': rmse_value,\n",
    "                                'mse': mse_value,\n",
    "                                'mae': mae_value\n",
    "                                }\n",
    "                        results.append(result_dict) \n",
    "            split_id += 1  \n",
    "            \n",
    "            \n",
    "notebook_dir = os.getcwd()\n",
    "outputs_dir = notebook_dir.replace('notebooks', 'outputs')\n",
    "\n",
    "resultspd = pd.DataFrame(results)\n",
    "file_name = f'experiment_results.csv'\n",
    "file_path = os.path.join(outputs_dir, file_name)\n",
    "resultspd.to_csv(file_path, index=False)\n",
    "\n",
    "trackingpd = pd.DataFrame(tracking)\n",
    "file_name = f'experiment_runs_cost.csv'\n",
    "file_path = os.path.join(outputs_dir, file_name)\n",
    "trackingpd.to_csv(file_path, index=False)"
   ]
  },
  {
   "cell_type": "code",
   "execution_count": null,
   "metadata": {},
   "outputs": [],
   "source": []
  }
 ],
 "metadata": {
  "kernelspec": {
   "display_name": "mscenv",
   "language": "python",
   "name": "python3"
  },
  "language_info": {
   "codemirror_mode": {
    "name": "ipython",
    "version": 3
   },
   "file_extension": ".py",
   "mimetype": "text/x-python",
   "name": "python",
   "nbconvert_exporter": "python",
   "pygments_lexer": "ipython3",
   "version": "3.9.13"
  },
  "orig_nbformat": 4
 },
 "nbformat": 4,
 "nbformat_minor": 2
}
